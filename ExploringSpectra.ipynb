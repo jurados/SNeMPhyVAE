{
 "cells": [
  {
   "cell_type": "code",
   "execution_count": 3,
   "metadata": {},
   "outputs": [],
   "source": [
    "import os\n",
    "\n",
    "import numpy as np\n",
    "import pandas as pd\n",
    "import matplotlib.pyplot as plt\n",
    "\n",
    "from scipy import interpolate\n",
    "\n",
    "from astropy import constants as const\n",
    "from astropy import units as u\n",
    "\n",
    "from plotting_spectra import *\n",
    "\n",
    "rc_params = {\n",
    "    'lines.linewidth': 2,  # Set line width to 2 points\n",
    "    'font.family': 'STIXGeneral',  # Set color cycle for axes\n",
    "    'ytick.direction': 'in',  # Set figure size in inches\n",
    "    'xtick.direction': 'in',  # Set default font family\n",
    "}\n",
    "\n",
    "plt.rcParams.update(rc_params)"
   ]
  },
  {
   "cell_type": "code",
   "execution_count": 4,
   "metadata": {},
   "outputs": [],
   "source": [
    "spectra_metadata = pd.read_csv('wiserep_spectra_metadata.csv', low_memory=False)\n",
    "spectra_data     = pd.read_pickle('spectra_ALeRCE20240704_x_wisrep_20240622.pkl')"
   ]
  },
  {
   "cell_type": "code",
   "execution_count": 5,
   "metadata": {},
   "outputs": [
    {
     "data": {
      "image/png": "[encoded data removed]",
      "text/plain": [
       "<Figure size 640x480 with 1 Axes>"
      ]
     },
     "metadata": {},
     "output_type": "display_data"
    }
   ],
   "source": [
    "fig,ax =plt.subplots()\n",
    "ax.scatter(spectra_data.lambda_data_min,spectra_data.lambda_data_max,s=10)\n",
    "\n",
    "ax.set_yscale('log')\n",
    "ax.set_xscale('log')\n",
    "ax.scatter(400/1000, 1000/1000, c='r')\n",
    "ax.scatter(400, 1000, c='r')\n",
    "ax.scatter(4000, 10000, c='r')\n",
    "ax.scatter(40000, 100000, c='r')\n",
    "ax.plot(ax.get_xlim(),ax.get_xlim(),color='red')\n",
    "ax.set_xlabel(r'$\\lambda_{min}$')\n",
    "ax.set_ylabel(r'$\\lambda_{max}$')\n",
    "\n",
    "plt.show()"
   ]
  },
  {
   "cell_type": "markdown",
   "metadata": {},
   "source": [
    "How we could see there are, at leats,thre points outlayer for the line two with a value less than 10^3 and one over 10^4.\n",
    "\n",
    "These supernovae are:"
   ]
  },
  {
   "cell_type": "code",
   "execution_count": 6,
   "metadata": {},
   "outputs": [
    {
     "data": {
      "text/html": [
       "<div>\n",
       "<style scoped>\n",
       "    .dataframe tbody tr th:only-of-type {\n",
       "        vertical-align: middle;\n",
       "    }\n",
       "\n",
       "    .dataframe tbody tr th {\n",
       "        vertical-align: top;\n",
       "    }\n",
       "\n",
       "    .dataframe thead th {\n",
       "        text-align: right;\n",
       "    }\n",
       "</style>\n",
       "<table border=\"1\" class=\"dataframe\">\n",
       "  <thead>\n",
       "    <tr style=\"text-align: right;\">\n",
       "      <th></th>\n",
       "      <th>oid</th>\n",
       "      <th>snname</th>\n",
       "      <th>lambda_data_min</th>\n",
       "      <th>lambda_data_max</th>\n",
       "    </tr>\n",
       "  </thead>\n",
       "  <tbody>\n",
       "    <tr>\n",
       "      <th>4236</th>\n",
       "      <td>ZTF23aaoohpy</td>\n",
       "      <td>SN2023lcr</td>\n",
       "      <td>0.54567</td>\n",
       "      <td>5.380186</td>\n",
       "    </tr>\n",
       "    <tr>\n",
       "      <th>21198</th>\n",
       "      <td>NaN</td>\n",
       "      <td>SN2005df</td>\n",
       "      <td>51567.60000</td>\n",
       "      <td>151964.400000</td>\n",
       "    </tr>\n",
       "    <tr>\n",
       "      <th>21334</th>\n",
       "      <td>ZTF22aazuuin</td>\n",
       "      <td>SN2022qzr</td>\n",
       "      <td>330.00000</td>\n",
       "      <td>989.999990</td>\n",
       "    </tr>\n",
       "  </tbody>\n",
       "</table>\n",
       "</div>"
      ],
      "text/plain": [
       "                oid     snname  lambda_data_min  lambda_data_max\n",
       "4236   ZTF23aaoohpy  SN2023lcr          0.54567         5.380186\n",
       "21198           NaN   SN2005df      51567.60000    151964.400000\n",
       "21334  ZTF22aazuuin  SN2022qzr        330.00000       989.999990"
      ]
     },
     "execution_count": 6,
     "metadata": {},
     "output_type": "execute_result"
    }
   ],
   "source": [
    "spectra_data[(spectra_data.lambda_data_min < 1e3) | (spectra_data.lambda_data_min == spectra_data.lambda_data_min.max())][['oid','snname','lambda_data_min','lambda_data_max']]"
   ]
  },
  {
   "cell_type": "code",
   "execution_count": null,
   "metadata": {},
   "outputs": [],
   "source": []
  }
 ],
 "metadata": {
  "kernelspec": {
   "display_name": "Python 3",
   "language": "python",
   "name": "python3"
  },
  "language_info": {
   "codemirror_mode": {
    "name": "ipython",
    "version": 3
   },
   "file_extension": ".py",
   "mimetype": "text/x-python",
   "name": "python",
   "nbconvert_exporter": "python",
   "pygments_lexer": "ipython3",
   "version": "3.10.12"
  }
 },
 "nbformat": 4,
 "nbformat_minor": 2
}
