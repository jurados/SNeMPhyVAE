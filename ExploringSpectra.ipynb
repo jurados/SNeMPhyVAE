{
 "cells": [
  {
   "cell_type": "code",
   "execution_count": 2,
   "metadata": {},
   "outputs": [],
   "source": [
    "import os\n",
    "\n",
    "import numpy as np\n",
    "import pandas as pd\n",
    "import matplotlib.pyplot as plt\n",
    "\n",
    "from scipy import interpolate\n",
    "\n",
    "from astropy import constants as const\n",
    "from astropy import units as u\n",
    "\n",
    "from plotting_spectra import *\n",
    "\n",
    "rc_params = {\n",
    "    'lines.linewidth': 2,  # Set line width to 2 points\n",
    "    'font.family': 'STIXGeneral',  # Set color cycle for axes\n",
    "    'ytick.direction': 'in',  # Set figure size in inches\n",
    "    'xtick.direction': 'in',  # Set default font family\n",
    "}\n",
    "\n",
    "plt.rcParams.update(rc_params)"
   ]
  },
  {
   "cell_type": "code",
   "execution_count": 3,
   "metadata": {},
   "outputs": [],
   "source": [
    "spectra_metadata = pd.read_csv('wiserep_spectra_metadata.csv', low_memory=False)\n",
    "spectra_data     = pd.read_pickle('spectra_ALeRCE20240704_x_wisrep_20240622.pkl')"
   ]
  },
  {
   "cell_type": "code",
   "execution_count": 5,
   "metadata": {},
   "outputs": [
    {
     "data": {
      "text/html": [
       "<div>\n",
       "<style scoped>\n",
       "    .dataframe tbody tr th:only-of-type {\n",
       "        vertical-align: middle;\n",
       "    }\n",
       "\n",
       "    .dataframe tbody tr th {\n",
       "        vertical-align: top;\n",
       "    }\n",
       "\n",
       "    .dataframe thead th {\n",
       "        text-align: right;\n",
       "    }\n",
       "</style>\n",
       "<table border=\"1\" class=\"dataframe\">\n",
       "  <thead>\n",
       "    <tr style=\"text-align: right;\">\n",
       "      <th></th>\n",
       "      <th>oid</th>\n",
       "      <th>snname</th>\n",
       "      <th>instrument</th>\n",
       "      <th>mjd</th>\n",
       "      <th>lambda_grid_min</th>\n",
       "      <th>lambda_grid_max</th>\n",
       "      <th>nlambda_grid</th>\n",
       "      <th>lambda_data_min</th>\n",
       "      <th>lambda_data_max</th>\n",
       "      <th>flux_lambda</th>\n",
       "      <th>e_flux_lambda</th>\n",
       "    </tr>\n",
       "  </thead>\n",
       "  <tbody>\n",
       "    <tr>\n",
       "      <th>0</th>\n",
       "      <td>NaN</td>\n",
       "      <td>SN2022pru</td>\n",
       "      <td>Lick-3m_KAST</td>\n",
       "      <td>59788.215972</td>\n",
       "      <td>3206.34</td>\n",
       "      <td>10915.01</td>\n",
       "      <td>1838</td>\n",
       "      <td>3504.527001</td>\n",
       "      <td>10393.131809</td>\n",
       "      <td>[2.2633771763432984, 2.7388705744561315, 2.365...</td>\n",
       "      <td>[0.21898910712578754, 0.1979063641775711, 0.18...</td>\n",
       "    </tr>\n",
       "    <tr>\n",
       "      <th>1</th>\n",
       "      <td>NaN</td>\n",
       "      <td>SN2022ytx</td>\n",
       "      <td>LT_SPRAT</td>\n",
       "      <td>59886.979942</td>\n",
       "      <td>3206.34</td>\n",
       "      <td>10915.01</td>\n",
       "      <td>1838</td>\n",
       "      <td>4047.600000</td>\n",
       "      <td>7994.400000</td>\n",
       "      <td>[-1.149378218494491, -0.4815124591937457, 0.58...</td>\n",
       "      <td>[0.02170248062794458, 0.36034818699792165, 0.2...</td>\n",
       "    </tr>\n",
       "    <tr>\n",
       "      <th>2</th>\n",
       "      <td>NaN</td>\n",
       "      <td>SN2022ytx</td>\n",
       "      <td>LT_SPRAT</td>\n",
       "      <td>59907.898866</td>\n",
       "      <td>3206.34</td>\n",
       "      <td>10915.01</td>\n",
       "      <td>1838</td>\n",
       "      <td>4066.000000</td>\n",
       "      <td>7994.400000</td>\n",
       "      <td>[0.5816700646397295, 0.42704860952865736, 0.28...</td>\n",
       "      <td>[0.2633190522450036, 0.12698204152460923, 0.16...</td>\n",
       "    </tr>\n",
       "  </tbody>\n",
       "</table>\n",
       "</div>"
      ],
      "text/plain": [
       "   oid     snname    instrument           mjd  lambda_grid_min  \\\n",
       "0  NaN  SN2022pru  Lick-3m_KAST  59788.215972          3206.34   \n",
       "1  NaN  SN2022ytx      LT_SPRAT  59886.979942          3206.34   \n",
       "2  NaN  SN2022ytx      LT_SPRAT  59907.898866          3206.34   \n",
       "\n",
       "   lambda_grid_max  nlambda_grid  lambda_data_min  lambda_data_max  \\\n",
       "0         10915.01          1838      3504.527001     10393.131809   \n",
       "1         10915.01          1838      4047.600000      7994.400000   \n",
       "2         10915.01          1838      4066.000000      7994.400000   \n",
       "\n",
       "                                         flux_lambda  \\\n",
       "0  [2.2633771763432984, 2.7388705744561315, 2.365...   \n",
       "1  [-1.149378218494491, -0.4815124591937457, 0.58...   \n",
       "2  [0.5816700646397295, 0.42704860952865736, 0.28...   \n",
       "\n",
       "                                       e_flux_lambda  \n",
       "0  [0.21898910712578754, 0.1979063641775711, 0.18...  \n",
       "1  [0.02170248062794458, 0.36034818699792165, 0.2...  \n",
       "2  [0.2633190522450036, 0.12698204152460923, 0.16...  "
      ]
     },
     "execution_count": 5,
     "metadata": {},
     "output_type": "execute_result"
    }
   ],
   "source": [
    "spectra_data.head(3)"
   ]
  },
  {
   "cell_type": "code",
   "execution_count": 16,
   "metadata": {},
   "outputs": [
    {
     "data": {
      "text/plain": [
       "(Index(['oid', 'snname', 'instrument', 'mjd', 'lambda_grid_min',\n",
       "        'lambda_grid_max', 'nlambda_grid', 'lambda_data_min', 'lambda_data_max',\n",
       "        'flux_lambda', 'e_flux_lambda'],\n",
       "       dtype='object'),\n",
       " (25953, 11))"
      ]
     },
     "execution_count": 16,
     "metadata": {},
     "output_type": "execute_result"
    }
   ],
   "source": [
    "spectra_data.columns, spectra_data.shape"
   ]
  },
  {
   "cell_type": "code",
   "execution_count": 3,
   "metadata": {},
   "outputs": [
    {
     "data": {
      "text/plain": [
       "0        3206.34\n",
       "1        3206.34\n",
       "2        3206.34\n",
       "3        3206.34\n",
       "4        3206.34\n",
       "          ...   \n",
       "25948    3206.34\n",
       "25949    3206.34\n",
       "25950    3206.34\n",
       "25951    3206.34\n",
       "25952    3206.34\n",
       "Name: lambda_grid_min, Length: 25953, dtype: float64"
      ]
     },
     "execution_count": 3,
     "metadata": {},
     "output_type": "execute_result"
    }
   ],
   "source": [
    "spectra_data.lambda_grid_min"
   ]
  },
  {
   "cell_type": "code",
   "execution_count": 4,
   "metadata": {},
   "outputs": [
    {
     "data": {
      "image/png": "[encoded data removed]",
      "text/plain": [
       "<Figure size 640x480 with 1 Axes>"
      ]
     },
     "metadata": {},
     "output_type": "display_data"
    }
   ],
   "source": [
    "fig,ax =plt.subplots()\n",
    "ax.scatter(spectra_data.lambda_data_min,spectra_data.lambda_data_max,s=10)\n",
    "\n",
    "ax.set_yscale('log')\n",
    "ax.set_xscale('log')\n",
    "ax.scatter(400/1000, 1000/1000, c='r')\n",
    "ax.scatter(400, 1000, c='r')\n",
    "ax.scatter(4000, 10000, c='r')\n",
    "ax.scatter(40000, 100000, c='r')\n",
    "ax.plot(ax.get_xlim(),ax.get_xlim(),color='red')\n",
    "ax.set_xlabel(r'$\\lambda_{min}$ (Angstrom)')\n",
    "ax.set_ylabel(r'$\\lambda_{max}$ (Angstrom)')\n",
    "\n",
    "plt.show()"
   ]
  },
  {
   "cell_type": "markdown",
   "metadata": {},
   "source": [
    "How we could see there are, at leats,thre points outlayer for the line two with a value less than 10^3 and one over 10^4.\n",
    "\n",
    "These supernovae are:"
   ]
  },
  {
   "cell_type": "code",
   "execution_count": 5,
   "metadata": {},
   "outputs": [
    {
     "data": {
      "text/html": [
       "<div>\n",
       "<style scoped>\n",
       "    .dataframe tbody tr th:only-of-type {\n",
       "        vertical-align: middle;\n",
       "    }\n",
       "\n",
       "    .dataframe tbody tr th {\n",
       "        vertical-align: top;\n",
       "    }\n",
       "\n",
       "    .dataframe thead th {\n",
       "        text-align: right;\n",
       "    }\n",
       "</style>\n",
       "<table border=\"1\" class=\"dataframe\">\n",
       "  <thead>\n",
       "    <tr style=\"text-align: right;\">\n",
       "      <th></th>\n",
       "      <th>oid</th>\n",
       "      <th>snname</th>\n",
       "      <th>lambda_data_min</th>\n",
       "      <th>lambda_data_max</th>\n",
       "    </tr>\n",
       "  </thead>\n",
       "  <tbody>\n",
       "    <tr>\n",
       "      <th>5</th>\n",
       "      <td>ZTF18aahrzkb</td>\n",
       "      <td>SN2020xqj</td>\n",
       "      <td>3200.560090</td>\n",
       "      <td>9998.678015</td>\n",
       "    </tr>\n",
       "    <tr>\n",
       "      <th>11</th>\n",
       "      <td>NaN</td>\n",
       "      <td>PTF10ol</td>\n",
       "      <td>3041.062024</td>\n",
       "      <td>10322.394453</td>\n",
       "    </tr>\n",
       "    <tr>\n",
       "      <th>12</th>\n",
       "      <td>NaN</td>\n",
       "      <td>PTF10ol</td>\n",
       "      <td>3041.062024</td>\n",
       "      <td>10322.394453</td>\n",
       "    </tr>\n",
       "    <tr>\n",
       "      <th>48</th>\n",
       "      <td>NaN</td>\n",
       "      <td>SN2016fhu</td>\n",
       "      <td>3101.020000</td>\n",
       "      <td>10235.775000</td>\n",
       "    </tr>\n",
       "    <tr>\n",
       "      <th>69</th>\n",
       "      <td>NaN</td>\n",
       "      <td>PTF10rex</td>\n",
       "      <td>3080.000000</td>\n",
       "      <td>10050.000000</td>\n",
       "    </tr>\n",
       "    <tr>\n",
       "      <th>...</th>\n",
       "      <td>...</td>\n",
       "      <td>...</td>\n",
       "      <td>...</td>\n",
       "      <td>...</td>\n",
       "    </tr>\n",
       "    <tr>\n",
       "      <th>25913</th>\n",
       "      <td>ZTF21abwycli</td>\n",
       "      <td>SN2021xyh</td>\n",
       "      <td>3060.381800</td>\n",
       "      <td>10294.838000</td>\n",
       "    </tr>\n",
       "    <tr>\n",
       "      <th>25922</th>\n",
       "      <td>NaN</td>\n",
       "      <td>PTF12fip</td>\n",
       "      <td>3200.000000</td>\n",
       "      <td>10500.000000</td>\n",
       "    </tr>\n",
       "    <tr>\n",
       "      <th>25934</th>\n",
       "      <td>NaN</td>\n",
       "      <td>PTF10qkv</td>\n",
       "      <td>3080.000000</td>\n",
       "      <td>10100.000000</td>\n",
       "    </tr>\n",
       "    <tr>\n",
       "      <th>25935</th>\n",
       "      <td>NaN</td>\n",
       "      <td>PTF10qkv</td>\n",
       "      <td>3150.000000</td>\n",
       "      <td>9500.000000</td>\n",
       "    </tr>\n",
       "    <tr>\n",
       "      <th>25944</th>\n",
       "      <td>NaN</td>\n",
       "      <td>PTF10bch</td>\n",
       "      <td>3039.139393</td>\n",
       "      <td>10249.001533</td>\n",
       "    </tr>\n",
       "  </tbody>\n",
       "</table>\n",
       "<p>1635 rows × 4 columns</p>\n",
       "</div>"
      ],
      "text/plain": [
       "                oid     snname  lambda_data_min  lambda_data_max\n",
       "5      ZTF18aahrzkb  SN2020xqj      3200.560090      9998.678015\n",
       "11              NaN    PTF10ol      3041.062024     10322.394453\n",
       "12              NaN    PTF10ol      3041.062024     10322.394453\n",
       "48              NaN  SN2016fhu      3101.020000     10235.775000\n",
       "69              NaN   PTF10rex      3080.000000     10050.000000\n",
       "...             ...        ...              ...              ...\n",
       "25913  ZTF21abwycli  SN2021xyh      3060.381800     10294.838000\n",
       "25922           NaN   PTF12fip      3200.000000     10500.000000\n",
       "25934           NaN   PTF10qkv      3080.000000     10100.000000\n",
       "25935           NaN   PTF10qkv      3150.000000      9500.000000\n",
       "25944           NaN   PTF10bch      3039.139393     10249.001533\n",
       "\n",
       "[1635 rows x 4 columns]"
      ]
     },
     "execution_count": 5,
     "metadata": {},
     "output_type": "execute_result"
    }
   ],
   "source": [
    "spectra_data[(spectra_data.lambda_data_min < spectra_data.lambda_grid_min)| (spectra_data.lambda_data_min >spectra_data.lambda_grid_max)][['oid','snname','lambda_data_min','lambda_data_max']]"
   ]
  },
  {
   "cell_type": "code",
   "execution_count": 6,
   "metadata": {},
   "outputs": [
    {
     "data": {
      "text/html": [
       "<div>\n",
       "<style scoped>\n",
       "    .dataframe tbody tr th:only-of-type {\n",
       "        vertical-align: middle;\n",
       "    }\n",
       "\n",
       "    .dataframe tbody tr th {\n",
       "        vertical-align: top;\n",
       "    }\n",
       "\n",
       "    .dataframe thead th {\n",
       "        text-align: right;\n",
       "    }\n",
       "</style>\n",
       "<table border=\"1\" class=\"dataframe\">\n",
       "  <thead>\n",
       "    <tr style=\"text-align: right;\">\n",
       "      <th></th>\n",
       "      <th>oid</th>\n",
       "      <th>snname</th>\n",
       "      <th>lambda_data_min</th>\n",
       "      <th>lambda_data_max</th>\n",
       "    </tr>\n",
       "  </thead>\n",
       "  <tbody>\n",
       "    <tr>\n",
       "      <th>5</th>\n",
       "      <td>ZTF18aahrzkb</td>\n",
       "      <td>SN2020xqj</td>\n",
       "      <td>3200.560090</td>\n",
       "      <td>9998.678015</td>\n",
       "    </tr>\n",
       "    <tr>\n",
       "      <th>11</th>\n",
       "      <td>NaN</td>\n",
       "      <td>PTF10ol</td>\n",
       "      <td>3041.062024</td>\n",
       "      <td>10322.394453</td>\n",
       "    </tr>\n",
       "    <tr>\n",
       "      <th>12</th>\n",
       "      <td>NaN</td>\n",
       "      <td>PTF10ol</td>\n",
       "      <td>3041.062024</td>\n",
       "      <td>10322.394453</td>\n",
       "    </tr>\n",
       "    <tr>\n",
       "      <th>48</th>\n",
       "      <td>NaN</td>\n",
       "      <td>SN2016fhu</td>\n",
       "      <td>3101.020000</td>\n",
       "      <td>10235.775000</td>\n",
       "    </tr>\n",
       "    <tr>\n",
       "      <th>69</th>\n",
       "      <td>NaN</td>\n",
       "      <td>PTF10rex</td>\n",
       "      <td>3080.000000</td>\n",
       "      <td>10050.000000</td>\n",
       "    </tr>\n",
       "    <tr>\n",
       "      <th>...</th>\n",
       "      <td>...</td>\n",
       "      <td>...</td>\n",
       "      <td>...</td>\n",
       "      <td>...</td>\n",
       "    </tr>\n",
       "    <tr>\n",
       "      <th>25913</th>\n",
       "      <td>ZTF21abwycli</td>\n",
       "      <td>SN2021xyh</td>\n",
       "      <td>3060.381800</td>\n",
       "      <td>10294.838000</td>\n",
       "    </tr>\n",
       "    <tr>\n",
       "      <th>25922</th>\n",
       "      <td>NaN</td>\n",
       "      <td>PTF12fip</td>\n",
       "      <td>3200.000000</td>\n",
       "      <td>10500.000000</td>\n",
       "    </tr>\n",
       "    <tr>\n",
       "      <th>25934</th>\n",
       "      <td>NaN</td>\n",
       "      <td>PTF10qkv</td>\n",
       "      <td>3080.000000</td>\n",
       "      <td>10100.000000</td>\n",
       "    </tr>\n",
       "    <tr>\n",
       "      <th>25935</th>\n",
       "      <td>NaN</td>\n",
       "      <td>PTF10qkv</td>\n",
       "      <td>3150.000000</td>\n",
       "      <td>9500.000000</td>\n",
       "    </tr>\n",
       "    <tr>\n",
       "      <th>25944</th>\n",
       "      <td>NaN</td>\n",
       "      <td>PTF10bch</td>\n",
       "      <td>3039.139393</td>\n",
       "      <td>10249.001533</td>\n",
       "    </tr>\n",
       "  </tbody>\n",
       "</table>\n",
       "<p>1629 rows × 4 columns</p>\n",
       "</div>"
      ],
      "text/plain": [
       "                oid     snname  lambda_data_min  lambda_data_max\n",
       "5      ZTF18aahrzkb  SN2020xqj      3200.560090      9998.678015\n",
       "11              NaN    PTF10ol      3041.062024     10322.394453\n",
       "12              NaN    PTF10ol      3041.062024     10322.394453\n",
       "48              NaN  SN2016fhu      3101.020000     10235.775000\n",
       "69              NaN   PTF10rex      3080.000000     10050.000000\n",
       "...             ...        ...              ...              ...\n",
       "25913  ZTF21abwycli  SN2021xyh      3060.381800     10294.838000\n",
       "25922           NaN   PTF12fip      3200.000000     10500.000000\n",
       "25934           NaN   PTF10qkv      3080.000000     10100.000000\n",
       "25935           NaN   PTF10qkv      3150.000000      9500.000000\n",
       "25944           NaN   PTF10bch      3039.139393     10249.001533\n",
       "\n",
       "[1629 rows x 4 columns]"
      ]
     },
     "execution_count": 6,
     "metadata": {},
     "output_type": "execute_result"
    }
   ],
   "source": [
    "spectra_data[(spectra_data.lambda_data_min < spectra_data.lambda_grid_min)][['oid','snname','lambda_data_min','lambda_data_max']]"
   ]
  },
  {
   "cell_type": "code",
   "execution_count": 7,
   "metadata": {},
   "outputs": [],
   "source": [
    "spectra_data.loc[4236, 'lambda_data_min'] *= 1e4\n",
    "spectra_data.loc[4236, 'lambda_data_max'] *= 1e4\n",
    "spectra_data.loc[21198, 'lambda_data_min'] /= 1e1\n",
    "spectra_data.loc[21198, 'lambda_data_max'] /= 1e1\n",
    "spectra_data.loc[21334, 'lambda_data_min'] *= 1e1\n",
    "spectra_data.loc[21334, 'lambda_data_max'] *= 1e1"
   ]
  },
  {
   "cell_type": "code",
   "execution_count": 8,
   "metadata": {},
   "outputs": [
    {
     "data": {
      "text/html": [
       "<div>\n",
       "<style scoped>\n",
       "    .dataframe tbody tr th:only-of-type {\n",
       "        vertical-align: middle;\n",
       "    }\n",
       "\n",
       "    .dataframe tbody tr th {\n",
       "        vertical-align: top;\n",
       "    }\n",
       "\n",
       "    .dataframe thead th {\n",
       "        text-align: right;\n",
       "    }\n",
       "</style>\n",
       "<table border=\"1\" class=\"dataframe\">\n",
       "  <thead>\n",
       "    <tr style=\"text-align: right;\">\n",
       "      <th></th>\n",
       "      <th>oid</th>\n",
       "      <th>snname</th>\n",
       "      <th>lambda_data_min</th>\n",
       "      <th>lambda_data_max</th>\n",
       "    </tr>\n",
       "  </thead>\n",
       "  <tbody>\n",
       "    <tr>\n",
       "      <th>2339</th>\n",
       "      <td>NaN</td>\n",
       "      <td>SN2012il</td>\n",
       "      <td>15000.0</td>\n",
       "      <td>17830.0</td>\n",
       "    </tr>\n",
       "  </tbody>\n",
       "</table>\n",
       "</div>"
      ],
      "text/plain": [
       "      oid    snname  lambda_data_min  lambda_data_max\n",
       "2339  NaN  SN2012il          15000.0          17830.0"
      ]
     },
     "execution_count": 8,
     "metadata": {},
     "output_type": "execute_result"
    }
   ],
   "source": [
    "spectra_data[(spectra_data.lambda_data_min < 1e3) | (spectra_data.lambda_data_min == spectra_data.lambda_data_min.max())][['oid','snname','lambda_data_min','lambda_data_max']]"
   ]
  },
  {
   "cell_type": "code",
   "execution_count": 9,
   "metadata": {},
   "outputs": [
    {
     "data": {
      "image/png": "[encoded data removed]",
      "text/plain": [
       "<Figure size 640x480 with 1 Axes>"
      ]
     },
     "metadata": {},
     "output_type": "display_data"
    }
   ],
   "source": [
    "fig,ax =plt.subplots()\n",
    "ax.scatter(spectra_data.lambda_data_min,spectra_data.lambda_data_max,s=10)\n",
    "\n",
    "ax.set_yscale('log')\n",
    "ax.set_xscale('log')\n",
    "ax.scatter(spectra_data.loc[4236, 'lambda_data_min'], spectra_data.loc[4236, 'lambda_data_max'], c='C1')\n",
    "ax.scatter(spectra_data.loc[21198, 'lambda_data_min'],spectra_data.loc[21198, 'lambda_data_max'], c='C1')\n",
    "ax.scatter(spectra_data.loc[21334, 'lambda_data_min'], spectra_data.loc[21334, 'lambda_data_max'], c='C1')\n",
    "ax.plot(ax.get_xlim(),ax.get_xlim(),color='red')\n",
    "ax.set_xlabel(r'$\\lambda_{min}$ (Angstrom)')\n",
    "ax.set_ylabel(r'$\\lambda_{max}$ (Angstrom)')\n",
    "#ax.set_xlim(1e0,1e5)\n",
    "plt.show()"
   ]
  },
  {
   "cell_type": "code",
   "execution_count": 11,
   "metadata": {},
   "outputs": [
    {
     "data": {
      "text/plain": [
       "[]"
      ]
     },
     "execution_count": 11,
     "metadata": {},
     "output_type": "execute_result"
    },
    {
     "data": {
      "image/png": "[encoded data removed]",
      "text/plain": [
       "<Figure size 640x480 with 1 Axes>"
      ]
     },
     "metadata": {},
     "output_type": "display_data"
    }
   ],
   "source": [
    "fig, ax = plt.subplots()\n",
    "\n",
    "ax.hist(spectra_data.lambda_data_min, bins=50, alpha = 0.5, label=r'$\\lambda_{min}$')\n",
    "ax.hist(spectra_data.lambda_data_max, bins=50, alpha = 0.5, label=r'$\\lambda_{max}$')\n",
    "ax.axvline(spectra_data.lambda_data_min.quantile(0.1), color='black', alpha = 0.5,)\n",
    "ax.axvline(spectra_data.lambda_data_max.quantile(0.9), color='black', alpha = 0.5,)\n",
    "ax.axvline(3206.34, color='red', alpha = 0.5,)\n",
    "ax.axvline(10915.01, color='red', alpha = 0.5,)\n",
    "ax.text(x=3206, y = 13000, s=f'Previous lambda_min_grid = 3260', c='red')\n",
    "ax.text(x=10915.01, y = 11000, s=f'Previous lambda_max_grid = 10915.01', c='red')\n",
    "ax.text(x=spectra_data.lambda_data_min.quantile(0.1)+500, y = 14000, s=f'P10min ={spectra_data.lambda_data_min.quantile(0.1):.2f}')\n",
    "ax.text(x=spectra_data.lambda_data_max.quantile(0.9)+500, y = 12000, s=f'P90max = {spectra_data.lambda_data_max.quantile(0.9):.2f}')\n",
    "ax.set_xlabel(r'$\\lambda$ (Agstrom)')\n",
    "\n",
    "ax.set_xlim(2000,15000)\n",
    "ax.legend(frameon=False)\n",
    "plt.plot()"
   ]
  },
  {
   "cell_type": "code",
   "execution_count": null,
   "metadata": {},
   "outputs": [],
   "source": [
    "# Save the update data\n",
    "spectra_data     = pd.read_pickle('spectra_ALeRCE20240704_x_wisrep_20240622_lasted_20240717.pkl')"
   ]
  }
 ],
 "metadata": {
  "kernelspec": {
   "display_name": "Python 3",
   "language": "python",
   "name": "python3"
  },
  "language_info": {
   "codemirror_mode": {
    "name": "ipython",
    "version": 3
   },
   "file_extension": ".py",
   "mimetype": "text/x-python",
   "name": "python",
   "nbconvert_exporter": "python",
   "pygments_lexer": "ipython3",
   "version": "3.10.12"
  }
 },
 "nbformat": 4,
 "nbformat_minor": 2
}
