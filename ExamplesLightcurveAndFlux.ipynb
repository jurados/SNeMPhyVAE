{
 "cells": [
  {
   "cell_type": "code",
   "execution_count": 2,
   "metadata": {},
   "outputs": [],
   "source": [
    "import os\n",
    "\n",
    "import numpy as np\n",
    "import pandas as pd\n",
    "import matplotlib.pyplot as plt\n",
    "\n",
    "from scipy import interpolate\n",
    "\n",
    "from astropy import constants as const\n",
    "from astropy import units as u\n",
    "\n",
    "from plotting_spectra import *\n",
    "\n",
    "rc_params = {\n",
    "    'lines.linewidth': 2,  # Set line width to 2 points\n",
    "    'font.family': 'STIXGeneral',  # Set color cycle for axes\n",
    "    'ytick.direction': 'in',  # Set figure size in inches\n",
    "    'xtick.direction': 'in',  # Set default font family\n",
    "}\n",
    "\n",
    "plt.rcParams.update(rc_params)"
   ]
  },
  {
   "cell_type": "code",
   "execution_count": 3,
   "metadata": {},
   "outputs": [
    {
     "name": "stderr",
     "output_type": "stream",
     "text": [
      "/tmp/ipykernel_12414/350166623.py:1: DtypeWarning: Columns (24) have mixed types. Specify dtype option on import or set low_memory=False.\n",
      "  spectra_metadata = pd.read_csv('wiserep_spectra_metadata.csv')\n"
     ]
    },
    {
     "data": {
      "text/html": [
       "<div>\n",
       "<style scoped>\n",
       "    .dataframe tbody tr th:only-of-type {\n",
       "        vertical-align: middle;\n",
       "    }\n",
       "\n",
       "    .dataframe tbody tr th {\n",
       "        vertical-align: top;\n",
       "    }\n",
       "\n",
       "    .dataframe thead th {\n",
       "        text-align: right;\n",
       "    }\n",
       "</style>\n",
       "<table border=\"1\" class=\"dataframe\">\n",
       "  <thead>\n",
       "    <tr style=\"text-align: right;\">\n",
       "      <th></th>\n",
       "      <th>Obj. ID</th>\n",
       "      <th>IAU name</th>\n",
       "      <th>Internal name/s</th>\n",
       "      <th>Obj. RA</th>\n",
       "      <th>Obj. DEC</th>\n",
       "      <th>Obj. Type</th>\n",
       "      <th>Redshift</th>\n",
       "      <th>Spec. ID</th>\n",
       "      <th>Obs-date</th>\n",
       "      <th>JD</th>\n",
       "      <th>...</th>\n",
       "      <th>Grating</th>\n",
       "      <th>Blaze</th>\n",
       "      <th>Lambda-min</th>\n",
       "      <th>Lambda-max</th>\n",
       "      <th>Del-Lambda</th>\n",
       "      <th>Contrib</th>\n",
       "      <th>Publish</th>\n",
       "      <th>Remarks</th>\n",
       "      <th>Created by</th>\n",
       "      <th>Creation date</th>\n",
       "    </tr>\n",
       "  </thead>\n",
       "  <tbody>\n",
       "    <tr>\n",
       "      <th>0</th>\n",
       "      <td>5875</td>\n",
       "      <td>SN 1999Z</td>\n",
       "      <td>NaN</td>\n",
       "      <td>155.65513</td>\n",
       "      <td>27.3555</td>\n",
       "      <td>SN IIn</td>\n",
       "      <td>0.051</td>\n",
       "      <td>17656</td>\n",
       "      <td>1999-02-09 00:00:00.00</td>\n",
       "      <td>2451218.5</td>\n",
       "      <td>...</td>\n",
       "      <td>NaN</td>\n",
       "      <td>NaN</td>\n",
       "      <td>3720.0</td>\n",
       "      <td>7540.5</td>\n",
       "      <td>1.499411</td>\n",
       "      <td>NaN</td>\n",
       "      <td>NaN</td>\n",
       "      <td>Data was ingested from the &amp;lt;a href=&amp;#039;ht...</td>\n",
       "      <td>Migration From WISeREP1.0</td>\n",
       "      <td>2013-07-08 09:12:53</td>\n",
       "    </tr>\n",
       "    <tr>\n",
       "      <th>1</th>\n",
       "      <td>5875</td>\n",
       "      <td>SN 1999Z</td>\n",
       "      <td>NaN</td>\n",
       "      <td>155.65513</td>\n",
       "      <td>27.3555</td>\n",
       "      <td>SN IIn</td>\n",
       "      <td>0.051</td>\n",
       "      <td>17657</td>\n",
       "      <td>1999-02-10 00:00:00.00</td>\n",
       "      <td>2451219.5</td>\n",
       "      <td>...</td>\n",
       "      <td>NaN</td>\n",
       "      <td>NaN</td>\n",
       "      <td>3720.0</td>\n",
       "      <td>7540.5</td>\n",
       "      <td>1.499411</td>\n",
       "      <td>NaN</td>\n",
       "      <td>NaN</td>\n",
       "      <td>Data was ingested from the &amp;lt;a href=&amp;#039;ht...</td>\n",
       "      <td>Migration From WISeREP1.0</td>\n",
       "      <td>2013-07-08 09:12:53</td>\n",
       "    </tr>\n",
       "    <tr>\n",
       "      <th>2</th>\n",
       "      <td>5875</td>\n",
       "      <td>SN 1999Z</td>\n",
       "      <td>NaN</td>\n",
       "      <td>155.65513</td>\n",
       "      <td>27.3555</td>\n",
       "      <td>SN IIn</td>\n",
       "      <td>0.051</td>\n",
       "      <td>17658</td>\n",
       "      <td>1999-02-13 00:00:00.00</td>\n",
       "      <td>2451222.5</td>\n",
       "      <td>...</td>\n",
       "      <td>NaN</td>\n",
       "      <td>NaN</td>\n",
       "      <td>3720.0</td>\n",
       "      <td>7540.5</td>\n",
       "      <td>1.499411</td>\n",
       "      <td>NaN</td>\n",
       "      <td>NaN</td>\n",
       "      <td>Data was ingested from the &amp;lt;a href=&amp;#039;ht...</td>\n",
       "      <td>Migration From WISeREP1.0</td>\n",
       "      <td>2013-07-08 09:12:53</td>\n",
       "    </tr>\n",
       "    <tr>\n",
       "      <th>3</th>\n",
       "      <td>5875</td>\n",
       "      <td>SN 1999Z</td>\n",
       "      <td>NaN</td>\n",
       "      <td>155.65513</td>\n",
       "      <td>27.3555</td>\n",
       "      <td>SN IIn</td>\n",
       "      <td>0.051</td>\n",
       "      <td>17659</td>\n",
       "      <td>1999-02-23 00:00:00.00</td>\n",
       "      <td>2451232.5</td>\n",
       "      <td>...</td>\n",
       "      <td>NaN</td>\n",
       "      <td>NaN</td>\n",
       "      <td>3720.0</td>\n",
       "      <td>7540.5</td>\n",
       "      <td>1.499411</td>\n",
       "      <td>NaN</td>\n",
       "      <td>NaN</td>\n",
       "      <td>Data was ingested from the &amp;lt;a href=&amp;#039;ht...</td>\n",
       "      <td>Migration From WISeREP1.0</td>\n",
       "      <td>2013-07-08 09:12:53</td>\n",
       "    </tr>\n",
       "    <tr>\n",
       "      <th>4</th>\n",
       "      <td>5875</td>\n",
       "      <td>SN 1999Z</td>\n",
       "      <td>NaN</td>\n",
       "      <td>155.65513</td>\n",
       "      <td>27.3555</td>\n",
       "      <td>SN IIn</td>\n",
       "      <td>0.051</td>\n",
       "      <td>17660</td>\n",
       "      <td>1999-04-10 00:00:00.00</td>\n",
       "      <td>2451278.5</td>\n",
       "      <td>...</td>\n",
       "      <td>NaN</td>\n",
       "      <td>NaN</td>\n",
       "      <td>3720.0</td>\n",
       "      <td>7540.5</td>\n",
       "      <td>1.499411</td>\n",
       "      <td>NaN</td>\n",
       "      <td>NaN</td>\n",
       "      <td>Data was ingested from the &amp;lt;a href=&amp;#039;ht...</td>\n",
       "      <td>Migration From WISeREP1.0</td>\n",
       "      <td>2013-07-08 09:12:53</td>\n",
       "    </tr>\n",
       "  </tbody>\n",
       "</table>\n",
       "<p>5 rows × 46 columns</p>\n",
       "</div>"
      ],
      "text/plain": [
       "   Obj. ID  IAU name Internal name/s    Obj. RA  Obj. DEC Obj. Type  Redshift  \\\n",
       "0     5875  SN 1999Z             NaN  155.65513   27.3555    SN IIn     0.051   \n",
       "1     5875  SN 1999Z             NaN  155.65513   27.3555    SN IIn     0.051   \n",
       "2     5875  SN 1999Z             NaN  155.65513   27.3555    SN IIn     0.051   \n",
       "3     5875  SN 1999Z             NaN  155.65513   27.3555    SN IIn     0.051   \n",
       "4     5875  SN 1999Z             NaN  155.65513   27.3555    SN IIn     0.051   \n",
       "\n",
       "   Spec. ID                Obs-date         JD  ...  Grating  Blaze  \\\n",
       "0     17656  1999-02-09 00:00:00.00  2451218.5  ...      NaN    NaN   \n",
       "1     17657  1999-02-10 00:00:00.00  2451219.5  ...      NaN    NaN   \n",
       "2     17658  1999-02-13 00:00:00.00  2451222.5  ...      NaN    NaN   \n",
       "3     17659  1999-02-23 00:00:00.00  2451232.5  ...      NaN    NaN   \n",
       "4     17660  1999-04-10 00:00:00.00  2451278.5  ...      NaN    NaN   \n",
       "\n",
       "  Lambda-min Lambda-max Del-Lambda Contrib Publish  \\\n",
       "0     3720.0     7540.5   1.499411     NaN     NaN   \n",
       "1     3720.0     7540.5   1.499411     NaN     NaN   \n",
       "2     3720.0     7540.5   1.499411     NaN     NaN   \n",
       "3     3720.0     7540.5   1.499411     NaN     NaN   \n",
       "4     3720.0     7540.5   1.499411     NaN     NaN   \n",
       "\n",
       "                                             Remarks  \\\n",
       "0  Data was ingested from the &lt;a href=&#039;ht...   \n",
       "1  Data was ingested from the &lt;a href=&#039;ht...   \n",
       "2  Data was ingested from the &lt;a href=&#039;ht...   \n",
       "3  Data was ingested from the &lt;a href=&#039;ht...   \n",
       "4  Data was ingested from the &lt;a href=&#039;ht...   \n",
       "\n",
       "                   Created by        Creation date  \n",
       "0   Migration From WISeREP1.0  2013-07-08 09:12:53  \n",
       "1   Migration From WISeREP1.0  2013-07-08 09:12:53  \n",
       "2   Migration From WISeREP1.0  2013-07-08 09:12:53  \n",
       "3   Migration From WISeREP1.0  2013-07-08 09:12:53  \n",
       "4   Migration From WISeREP1.0  2013-07-08 09:12:53  \n",
       "\n",
       "[5 rows x 46 columns]"
      ]
     },
     "execution_count": 3,
     "metadata": {},
     "output_type": "execute_result"
    }
   ],
   "source": [
    "spectra_metadata = pd.read_csv('wiserep_spectra_metadata.csv')\n",
    "spectra_metadata.head()"
   ]
  },
  {
   "cell_type": "code",
   "execution_count": 4,
   "metadata": {},
   "outputs": [
    {
     "data": {
      "text/plain": [
       "Index(['Obj. ID', 'IAU name', 'Internal name/s', 'Obj. RA', 'Obj. DEC',\n",
       "       'Obj. Type', 'Redshift', 'Spec. ID', 'Obs-date', 'JD', 'Phase (days)',\n",
       "       'From', 'Telescope', 'Instrument', 'Observer/s', 'Reducer/s',\n",
       "       'Source group', 'Public', 'Associated groups', 'End prop. period',\n",
       "       'Ascii file', 'Fits file', 'Spec. type', 'Spec. quality',\n",
       "       'Extinction-Corrected', 'WL Medium', 'WL Units',\n",
       "       'Flux Unit Coefficient', 'Spec. units', 'Flux Calibrated By',\n",
       "       'Exp-time', 'Aperture (slit)', 'HA', 'Airmass', 'Dichroic', 'Grism',\n",
       "       'Grating', 'Blaze', 'Lambda-min', 'Lambda-max', 'Del-Lambda', 'Contrib',\n",
       "       'Publish', 'Remarks', 'Created by', 'Creation date'],\n",
       "      dtype='object')"
      ]
     },
     "execution_count": 4,
     "metadata": {},
     "output_type": "execute_result"
    }
   ],
   "source": [
    "spectra_metadata.columns"
   ]
  },
  {
   "cell_type": "code",
   "execution_count": 5,
   "metadata": {},
   "outputs": [
    {
     "data": {
      "text/plain": [
       "5259    3700.0\n",
       "5260     330.0\n",
       "5261    3300.0\n",
       "Name: Lambda-min, dtype: float64"
      ]
     },
     "execution_count": 5,
     "metadata": {},
     "output_type": "execute_result"
    }
   ],
   "source": [
    "rare_supernova = spectra_metadata[spectra_metadata['IAU name'] == 'SN 2022qzr']\n",
    "rare_supernova['Lambda-min']"
   ]
  },
  {
   "cell_type": "code",
   "execution_count": 6,
   "metadata": {},
   "outputs": [
    {
     "data": {
      "text/plain": [
       "5259    erg cm(-2) sec(-1) Ang(-1)\n",
       "5260    erg cm(-2) sec(-1) Ang(-1)\n",
       "5261    erg cm(-2) sec(-1) Ang(-1)\n",
       "Name: Spec. units, dtype: object"
      ]
     },
     "execution_count": 6,
     "metadata": {},
     "output_type": "execute_result"
    }
   ],
   "source": [
    "rare_supernova['Spec. units']"
   ]
  },
  {
   "cell_type": "code",
   "execution_count": 7,
   "metadata": {},
   "outputs": [
    {
     "data": {
      "text/html": [
       "<div>\n",
       "<style scoped>\n",
       "    .dataframe tbody tr th:only-of-type {\n",
       "        vertical-align: middle;\n",
       "    }\n",
       "\n",
       "    .dataframe tbody tr th {\n",
       "        vertical-align: top;\n",
       "    }\n",
       "\n",
       "    .dataframe thead th {\n",
       "        text-align: right;\n",
       "    }\n",
       "</style>\n",
       "<table border=\"1\" class=\"dataframe\">\n",
       "  <thead>\n",
       "    <tr style=\"text-align: right;\">\n",
       "      <th></th>\n",
       "      <th>oid</th>\n",
       "      <th>snname</th>\n",
       "      <th>instrument</th>\n",
       "      <th>mjd</th>\n",
       "      <th>lambda_grid_min</th>\n",
       "      <th>lambda_grid_max</th>\n",
       "      <th>nlambda_grid</th>\n",
       "      <th>lambda_data_min</th>\n",
       "      <th>lambda_data_max</th>\n",
       "      <th>flux_lambda</th>\n",
       "      <th>e_flux_lambda</th>\n",
       "    </tr>\n",
       "  </thead>\n",
       "  <tbody>\n",
       "    <tr>\n",
       "      <th>0</th>\n",
       "      <td>NaN</td>\n",
       "      <td>SN2022pru</td>\n",
       "      <td>Lick-3m_KAST</td>\n",
       "      <td>59788.215972</td>\n",
       "      <td>3206.34</td>\n",
       "      <td>10915.01</td>\n",
       "      <td>1838</td>\n",
       "      <td>3504.527001</td>\n",
       "      <td>10393.131809</td>\n",
       "      <td>[2.2633771763432984, 2.7388705744561315, 2.365...</td>\n",
       "      <td>[0.21898910712578754, 0.1979063641775711, 0.18...</td>\n",
       "    </tr>\n",
       "    <tr>\n",
       "      <th>1</th>\n",
       "      <td>NaN</td>\n",
       "      <td>SN2022ytx</td>\n",
       "      <td>LT_SPRAT</td>\n",
       "      <td>59886.979942</td>\n",
       "      <td>3206.34</td>\n",
       "      <td>10915.01</td>\n",
       "      <td>1838</td>\n",
       "      <td>4047.600000</td>\n",
       "      <td>7994.400000</td>\n",
       "      <td>[-1.149378218494491, -0.4815124591937457, 0.58...</td>\n",
       "      <td>[0.02170248062794458, 0.36034818699792165, 0.2...</td>\n",
       "    </tr>\n",
       "    <tr>\n",
       "      <th>2</th>\n",
       "      <td>NaN</td>\n",
       "      <td>SN2022ytx</td>\n",
       "      <td>LT_SPRAT</td>\n",
       "      <td>59907.898866</td>\n",
       "      <td>3206.34</td>\n",
       "      <td>10915.01</td>\n",
       "      <td>1838</td>\n",
       "      <td>4066.000000</td>\n",
       "      <td>7994.400000</td>\n",
       "      <td>[0.5816700646397295, 0.42704860952865736, 0.28...</td>\n",
       "      <td>[0.2633190522450036, 0.12698204152460923, 0.16...</td>\n",
       "    </tr>\n",
       "    <tr>\n",
       "      <th>3</th>\n",
       "      <td>NaN</td>\n",
       "      <td>SNLS-07D3do</td>\n",
       "      <td>Gemini-N_GMOS</td>\n",
       "      <td>54200.000000</td>\n",
       "      <td>3206.34</td>\n",
       "      <td>10915.01</td>\n",
       "      <td>1838</td>\n",
       "      <td>5104.440000</td>\n",
       "      <td>9352.610000</td>\n",
       "      <td>[1.3701777199999997e-18, 5.391721933333332e-19...</td>\n",
       "      <td>[1.5368479599410815e-18, 1.394673534721022e-18...</td>\n",
       "    </tr>\n",
       "    <tr>\n",
       "      <th>4</th>\n",
       "      <td>NaN</td>\n",
       "      <td>SNLS-07D3do</td>\n",
       "      <td>Gemini-N_GMOS</td>\n",
       "      <td>54200.000000</td>\n",
       "      <td>3206.34</td>\n",
       "      <td>10915.01</td>\n",
       "      <td>1838</td>\n",
       "      <td>5048.346943</td>\n",
       "      <td>9355.344674</td>\n",
       "      <td>[1.4337395000000001e-18, 6.124360000000001e-19...</td>\n",
       "      <td>[1.797687567656606e-18, 1.8212694935234954e-18...</td>\n",
       "    </tr>\n",
       "    <tr>\n",
       "      <th>...</th>\n",
       "      <td>...</td>\n",
       "      <td>...</td>\n",
       "      <td>...</td>\n",
       "      <td>...</td>\n",
       "      <td>...</td>\n",
       "      <td>...</td>\n",
       "      <td>...</td>\n",
       "      <td>...</td>\n",
       "      <td>...</td>\n",
       "      <td>...</td>\n",
       "      <td>...</td>\n",
       "    </tr>\n",
       "    <tr>\n",
       "      <th>25948</th>\n",
       "      <td>ZTF21aanvncv</td>\n",
       "      <td>SN2021efd</td>\n",
       "      <td>NOT_ALFOSC</td>\n",
       "      <td>59277.154005</td>\n",
       "      <td>3206.34</td>\n",
       "      <td>10915.01</td>\n",
       "      <td>1838</td>\n",
       "      <td>3399.900000</td>\n",
       "      <td>9675.765091</td>\n",
       "      <td>[1.380389e-16, -2.7406190000000003e-17, 7.2966...</td>\n",
       "      <td>[9.342260744967236e-17, 8.189705456575588e-17,...</td>\n",
       "    </tr>\n",
       "    <tr>\n",
       "      <th>25949</th>\n",
       "      <td>ZTF20aauoipy</td>\n",
       "      <td>SN2020etk</td>\n",
       "      <td>LT_SPRAT</td>\n",
       "      <td>58970.392257</td>\n",
       "      <td>3206.34</td>\n",
       "      <td>10915.01</td>\n",
       "      <td>1838</td>\n",
       "      <td>4020.000000</td>\n",
       "      <td>7994.400000</td>\n",
       "      <td>[1.36587, 1.90187, 1.33649, 1.34496, 1.45294, ...</td>\n",
       "      <td>[0.44910237291240807, 0.34667301062037215, 0.2...</td>\n",
       "    </tr>\n",
       "    <tr>\n",
       "      <th>25950</th>\n",
       "      <td>ZTF20abkwvgc</td>\n",
       "      <td>SN2020oqp</td>\n",
       "      <td>P60_SEDM</td>\n",
       "      <td>59047.214850</td>\n",
       "      <td>3206.34</td>\n",
       "      <td>10915.01</td>\n",
       "      <td>1838</td>\n",
       "      <td>3776.700000</td>\n",
       "      <td>9223.300000</td>\n",
       "      <td>[2.82e-16, 2.642e-16, 2.681e-16, 2.844e-16, 3....</td>\n",
       "      <td>[nan, nan, nan, nan, nan, nan, nan, nan, nan, ...</td>\n",
       "    </tr>\n",
       "    <tr>\n",
       "      <th>25951</th>\n",
       "      <td>NaN</td>\n",
       "      <td>SDSS-SN-082</td>\n",
       "      <td>Sloan_SDSS-Spec</td>\n",
       "      <td>54233.000000</td>\n",
       "      <td>3206.34</td>\n",
       "      <td>10915.01</td>\n",
       "      <td>1838</td>\n",
       "      <td>3822.082000</td>\n",
       "      <td>9189.671900</td>\n",
       "      <td>[1.1208449500000001e-17, 1.6475109666666668e-1...</td>\n",
       "      <td>[1.1354836383504999e-17, 1.118140824452677e-17...</td>\n",
       "    </tr>\n",
       "    <tr>\n",
       "      <th>25952</th>\n",
       "      <td>NaN</td>\n",
       "      <td>PTF12edl</td>\n",
       "      <td>UH88_SNIFS</td>\n",
       "      <td>56062.519051</td>\n",
       "      <td>3206.34</td>\n",
       "      <td>10915.01</td>\n",
       "      <td>1838</td>\n",
       "      <td>3301.060059</td>\n",
       "      <td>9701.229988</td>\n",
       "      <td>[9.796223e-17, 6.126943e-17, 3.870007999999999...</td>\n",
       "      <td>[2.8574681109790546e-17, 3.0431750187716936e-1...</td>\n",
       "    </tr>\n",
       "  </tbody>\n",
       "</table>\n",
       "<p>25953 rows × 11 columns</p>\n",
       "</div>"
      ],
      "text/plain": [
       "                oid       snname       instrument           mjd  \\\n",
       "0               NaN    SN2022pru     Lick-3m_KAST  59788.215972   \n",
       "1               NaN    SN2022ytx         LT_SPRAT  59886.979942   \n",
       "2               NaN    SN2022ytx         LT_SPRAT  59907.898866   \n",
       "3               NaN  SNLS-07D3do    Gemini-N_GMOS  54200.000000   \n",
       "4               NaN  SNLS-07D3do    Gemini-N_GMOS  54200.000000   \n",
       "...             ...          ...              ...           ...   \n",
       "25948  ZTF21aanvncv    SN2021efd       NOT_ALFOSC  59277.154005   \n",
       "25949  ZTF20aauoipy    SN2020etk         LT_SPRAT  58970.392257   \n",
       "25950  ZTF20abkwvgc    SN2020oqp         P60_SEDM  59047.214850   \n",
       "25951           NaN  SDSS-SN-082  Sloan_SDSS-Spec  54233.000000   \n",
       "25952           NaN     PTF12edl       UH88_SNIFS  56062.519051   \n",
       "\n",
       "       lambda_grid_min  lambda_grid_max  nlambda_grid  lambda_data_min  \\\n",
       "0              3206.34         10915.01          1838      3504.527001   \n",
       "1              3206.34         10915.01          1838      4047.600000   \n",
       "2              3206.34         10915.01          1838      4066.000000   \n",
       "3              3206.34         10915.01          1838      5104.440000   \n",
       "4              3206.34         10915.01          1838      5048.346943   \n",
       "...                ...              ...           ...              ...   \n",
       "25948          3206.34         10915.01          1838      3399.900000   \n",
       "25949          3206.34         10915.01          1838      4020.000000   \n",
       "25950          3206.34         10915.01          1838      3776.700000   \n",
       "25951          3206.34         10915.01          1838      3822.082000   \n",
       "25952          3206.34         10915.01          1838      3301.060059   \n",
       "\n",
       "       lambda_data_max                                        flux_lambda  \\\n",
       "0         10393.131809  [2.2633771763432984, 2.7388705744561315, 2.365...   \n",
       "1          7994.400000  [-1.149378218494491, -0.4815124591937457, 0.58...   \n",
       "2          7994.400000  [0.5816700646397295, 0.42704860952865736, 0.28...   \n",
       "3          9352.610000  [1.3701777199999997e-18, 5.391721933333332e-19...   \n",
       "4          9355.344674  [1.4337395000000001e-18, 6.124360000000001e-19...   \n",
       "...                ...                                                ...   \n",
       "25948      9675.765091  [1.380389e-16, -2.7406190000000003e-17, 7.2966...   \n",
       "25949      7994.400000  [1.36587, 1.90187, 1.33649, 1.34496, 1.45294, ...   \n",
       "25950      9223.300000  [2.82e-16, 2.642e-16, 2.681e-16, 2.844e-16, 3....   \n",
       "25951      9189.671900  [1.1208449500000001e-17, 1.6475109666666668e-1...   \n",
       "25952      9701.229988  [9.796223e-17, 6.126943e-17, 3.870007999999999...   \n",
       "\n",
       "                                           e_flux_lambda  \n",
       "0      [0.21898910712578754, 0.1979063641775711, 0.18...  \n",
       "1      [0.02170248062794458, 0.36034818699792165, 0.2...  \n",
       "2      [0.2633190522450036, 0.12698204152460923, 0.16...  \n",
       "3      [1.5368479599410815e-18, 1.394673534721022e-18...  \n",
       "4      [1.797687567656606e-18, 1.8212694935234954e-18...  \n",
       "...                                                  ...  \n",
       "25948  [9.342260744967236e-17, 8.189705456575588e-17,...  \n",
       "25949  [0.44910237291240807, 0.34667301062037215, 0.2...  \n",
       "25950  [nan, nan, nan, nan, nan, nan, nan, nan, nan, ...  \n",
       "25951  [1.1354836383504999e-17, 1.118140824452677e-17...  \n",
       "25952  [2.8574681109790546e-17, 3.0431750187716936e-1...  \n",
       "\n",
       "[25953 rows x 11 columns]"
      ]
     },
     "execution_count": 7,
     "metadata": {},
     "output_type": "execute_result"
    }
   ],
   "source": [
    "spectra_data = pd.read_pickle('spectra_ALeRCE20240704_x_wisrep_20240622.pkl')\n",
    "spectra_data"
   ]
  },
  {
   "cell_type": "code",
   "execution_count": 8,
   "metadata": {},
   "outputs": [],
   "source": [
    "lambda_data_max = np.array(spectra_data.lambda_data_max)\n",
    "lambda_data_max = lambda_data_max[lambda_data_max > 10915.01]"
   ]
  },
  {
   "cell_type": "code",
   "execution_count": 65,
   "metadata": {},
   "outputs": [
    {
     "name": "stdout",
     "output_type": "stream",
     "text": [
      "6\n"
     ]
    },
    {
     "data": {
      "text/plain": [
       "1567.449913"
      ]
     },
     "execution_count": 65,
     "metadata": {},
     "output_type": "execute_result"
    }
   ],
   "source": [
    "lambda_data_min = np.array(spectra_data.lambda_data_min)\n",
    "\n",
    "# This mask have the values less than 1000 Angstrom\n",
    "mask_lambda_min_indx = np.where(lambda_data_min <= 2500)[0]\n",
    "print(len(np.where(lambda_data_min >= 10915.01)[0]))\n",
    "spectra_data.iloc[mask_lambda_min_indx[1]].lambda_data_min"
   ]
  },
  {
   "cell_type": "code",
   "execution_count": 29,
   "metadata": {},
   "outputs": [],
   "source": [
    "mask = np.ones(len(spectra_data), dtype=bool)\n",
    "mask[mask_lambda_min_indx] = False\n",
    "masked_spectra_data = spectra_data.iloc[mask].reset_index(drop=True)\n",
    "masked_spectra_data = masked_spectra_data[masked_spectra_data.lambda_data_min <= 5000]"
   ]
  },
  {
   "cell_type": "code",
   "execution_count": 30,
   "metadata": {},
   "outputs": [
    {
     "data": {
      "text/plain": [
       "2502.922607421875"
      ]
     },
     "execution_count": 30,
     "metadata": {},
     "output_type": "execute_result"
    }
   ],
   "source": [
    "x = np.linspace(masked_spectra_data.lambda_data_min.min(), masked_spectra_data.lambda_data_min.max(), 1000)\n",
    "x.min()"
   ]
  },
  {
   "cell_type": "code",
   "execution_count": 47,
   "metadata": {},
   "outputs": [],
   "source": [
    "from sklearn.preprocessing import StandardScaler"
   ]
  },
  {
   "cell_type": "code",
   "execution_count": 75,
   "metadata": {},
   "outputs": [
    {
     "data": {
      "image/png": "[encoded data removed]",
      "text/plain": [
       "<Figure size 640x480 with 1 Axes>"
      ]
     },
     "metadata": {},
     "output_type": "display_data"
    }
   ],
   "source": [
    "# Calcular los valores de la función gaussiana\n",
    "x = np.linspace(masked_spectra_data.lambda_data_min.min(), masked_spectra_data.lambda_data_min.max(), 1000)\n",
    "mu, sigma = masked_spectra_data.lambda_data_min.mean(), masked_spectra_data.lambda_data_min.std()\n",
    "\n",
    "def gaussian(x, mu, sig):\n",
    "    return 1.0 / (np.sqrt(2.0 * np.pi) * sig) * np.exp(-np.power((x - mu) / sig, 2.0) / 2)\n",
    "\n",
    "# Crear la figura de matplotlib\n",
    "fig, ax = plt.subplots()\n",
    "\n",
    "# Graficar el histograma de los datos originales con densidad normalizada\n",
    "n, bins, patches = ax.hist(masked_spectra_data.lambda_data_min, bins=30, density=True, alpha=0.5, color='g')\n",
    "\n",
    "# Normalizar el histograma\n",
    "bin_centers = 0.5 * (bins[1:] + bins[:-1])\n",
    "scale_factor = np.sum(n * np.diff(bins))\n",
    "n_normalized = n / scale_factor\n",
    "\n",
    "# Graficar la curva gaussiana normalizada\n",
    "ax.plot(x, gaussian(x, mu, sigma) / scale_factor, 'r', linewidth=2)\n",
    "\n",
    "# Etiquetas y título\n",
    "#ax.set_ylabel(\"Densidad Normalizada\")\n",
    "ax.set_xlabel(r\"Wavelength [$\\AA$]\")\n",
    "#ax.set_title(\"Histograma y Curva Gaussiana Normalizados\")\n",
    "\n",
    "# Añadir el texto con mu y sigma\n",
    "ax.text(0.05, 0.8, s='N = %d spectra'%(len(masked_spectra_data.lambda_data_min)) \\\n",
    "        +'\\n'+r'$\\mu$ = %.2f, $\\sigma$ = %.2f' %(mu, sigma), transform=ax.transAxes)\n",
    "\n",
    "# Mostrar la gráfica\n",
    "plt.show()"
   ]
  },
  {
   "cell_type": "code",
   "execution_count": null,
   "metadata": {},
   "outputs": [],
   "source": []
  },
  {
   "cell_type": "code",
   "execution_count": 5,
   "metadata": {},
   "outputs": [
    {
     "data": {
      "text/html": [
       "<div>\n",
       "<style scoped>\n",
       "    .dataframe tbody tr th:only-of-type {\n",
       "        vertical-align: middle;\n",
       "    }\n",
       "\n",
       "    .dataframe tbody tr th {\n",
       "        vertical-align: top;\n",
       "    }\n",
       "\n",
       "    .dataframe thead th {\n",
       "        text-align: right;\n",
       "    }\n",
       "</style>\n",
       "<table border=\"1\" class=\"dataframe\">\n",
       "  <thead>\n",
       "    <tr style=\"text-align: right;\">\n",
       "      <th></th>\n",
       "      <th>oid</th>\n",
       "      <th>snname</th>\n",
       "      <th>instrument</th>\n",
       "      <th>mjd</th>\n",
       "      <th>lambda_grid_min</th>\n",
       "      <th>lambda_grid_max</th>\n",
       "      <th>nlambda_grid</th>\n",
       "      <th>lambda_data_min</th>\n",
       "      <th>lambda_data_max</th>\n",
       "      <th>flux_lambda</th>\n",
       "      <th>e_flux_lambda</th>\n",
       "    </tr>\n",
       "  </thead>\n",
       "  <tbody>\n",
       "    <tr>\n",
       "      <th>8</th>\n",
       "      <td>NaN</td>\n",
       "      <td>SN2016aqw</td>\n",
       "      <td>Lijiang-2.4m_YFOSC</td>\n",
       "      <td>57450.855717</td>\n",
       "      <td>3206.34</td>\n",
       "      <td>10915.01</td>\n",
       "      <td>1838</td>\n",
       "      <td>3502.681885</td>\n",
       "      <td>8861.241112</td>\n",
       "      <td>[3.6865116e-15, 3.9416054e-15, 3.3946357000000...</td>\n",
       "      <td>[1.3266654417111276e-15, 1.2247650331208019e-1...</td>\n",
       "    </tr>\n",
       "    <tr>\n",
       "      <th>9</th>\n",
       "      <td>NaN</td>\n",
       "      <td>SN2016aqw</td>\n",
       "      <td>Lijiang-2.4m_YFOSC</td>\n",
       "      <td>57450.860000</td>\n",
       "      <td>3206.34</td>\n",
       "      <td>10915.01</td>\n",
       "      <td>1838</td>\n",
       "      <td>3497.628418</td>\n",
       "      <td>9166.192170</td>\n",
       "      <td>[6.414857e-15, 7.703079e-15, 3.6865116e-15, 3....</td>\n",
       "      <td>[1.501261220778222e-15, 1.3972311287892904e-15...</td>\n",
       "    </tr>\n",
       "  </tbody>\n",
       "</table>\n",
       "</div>"
      ],
      "text/plain": [
       "   oid     snname          instrument           mjd  lambda_grid_min  \\\n",
       "8  NaN  SN2016aqw  Lijiang-2.4m_YFOSC  57450.855717          3206.34   \n",
       "9  NaN  SN2016aqw  Lijiang-2.4m_YFOSC  57450.860000          3206.34   \n",
       "\n",
       "   lambda_grid_max  nlambda_grid  lambda_data_min  lambda_data_max  \\\n",
       "8         10915.01          1838      3502.681885      8861.241112   \n",
       "9         10915.01          1838      3497.628418      9166.192170   \n",
       "\n",
       "                                         flux_lambda  \\\n",
       "8  [3.6865116e-15, 3.9416054e-15, 3.3946357000000...   \n",
       "9  [6.414857e-15, 7.703079e-15, 3.6865116e-15, 3....   \n",
       "\n",
       "                                       e_flux_lambda  \n",
       "8  [1.3266654417111276e-15, 1.2247650331208019e-1...  \n",
       "9  [1.501261220778222e-15, 1.3972311287892904e-15...  "
      ]
     },
     "execution_count": 5,
     "metadata": {},
     "output_type": "execute_result"
    }
   ],
   "source": [
    "spectrum = spectra_data[spectra_data.snname == 'SN2016aqw']\n",
    "spectrum"
   ]
  },
  {
   "cell_type": "code",
   "execution_count": 7,
   "metadata": {},
   "outputs": [
    {
     "data": {
      "image/png": "[encoded data removed]",
      "text/plain": [
       "<Figure size 640x480 with 1 Axes>"
      ]
     },
     "metadata": {},
     "output_type": "display_data"
    }
   ],
   "source": [
    "plot_spectra(spectrum, use_lambda_grid=True)"
   ]
  },
  {
   "cell_type": "code",
   "execution_count": 29,
   "metadata": {},
   "outputs": [
    {
     "data": {
      "text/plain": [
       "oid                                                              NaN\n",
       "snname                                                     SN2016aqw\n",
       "instrument                                        Lijiang-2.4m_YFOSC\n",
       "mjd                                                     57450.855717\n",
       "lambda_grid_min                                              3206.34\n",
       "lambda_grid_max                                             10915.01\n",
       "nlambda_grid                                                    1838\n",
       "lambda_data_min                                          3502.681885\n",
       "lambda_data_max                                          8861.241112\n",
       "flux_lambda        [3.6865116e-15, 3.9416054e-15, 3.3946357000000...\n",
       "e_flux_lambda      [1.3266654417111276e-15, 1.2247650331208019e-1...\n",
       "Name: 8, dtype: object"
      ]
     },
     "execution_count": 29,
     "metadata": {},
     "output_type": "execute_result"
    }
   ],
   "source": [
    "spectrum_test = spectrum.iloc[0]\n",
    "spectrum_test"
   ]
  },
  {
   "cell_type": "code",
   "execution_count": null,
   "metadata": {},
   "outputs": [],
   "source": []
  },
  {
   "cell_type": "code",
   "execution_count": 30,
   "metadata": {},
   "outputs": [],
   "source": [
    "wavelength_lsst = {\n",
    "    'u': [3206.34, 4081.51],\n",
    "    'g': [3876.02, 5665.33],\n",
    "    'r': [5377.19, 7055.16],\n",
    "    'i': [6765.77, 8325.05],\n",
    "    'z': [8035.39, 9375.47],\n",
    "    'y': [9089.07, 10915.01],\n",
    "}\n",
    "\n",
    "wavelength_ztf ={\n",
    "    'g' : [3676.00, 5613.82],\n",
    "    'r' : [5497.60, 7394.40],\n",
    "    'i' : [6870.97, 8964.61],\n",
    "}"
   ]
  },
  {
   "cell_type": "code",
   "execution_count": 31,
   "metadata": {},
   "outputs": [],
   "source": [
    "def obtain_lambda_grid(df:pd.Series) -> list[float]:\n",
    "\n",
    "    lambda_grid = np.logspace(start=np.log10(df.lambda_grid_min),\n",
    "                stop=np.log10(df.lambda_grid_max),\n",
    "                num=df.nlambda_grid)\n",
    "\n",
    "    return lambda_grid"
   ]
  },
  {
   "cell_type": "code",
   "execution_count": 32,
   "metadata": {},
   "outputs": [],
   "source": [
    "def interpolate_flux(df:pd.Series) -> list[float]:\n",
    "    \n",
    "    lambda_grid = obtain_lambda_grid(df)\n",
    "    \n",
    "    flux = np.array(df.flux_lambda)\n",
    "    lambda_data = np.logspace(start=np.log10(df.lambda_data_min),\n",
    "                stop=np.log10(df.lambda_data_max),\n",
    "                num=len(flux))\n",
    "\n",
    "    f = interpolate.interp1d(lambda_data, flux, fill_value=np.nan, bounds_error=False)\n",
    "    flux_new = f(lambda_grid)\n",
    "\n",
    "    return flux_new \n"
   ]
  },
  {
   "cell_type": "code",
   "execution_count": 33,
   "metadata": {},
   "outputs": [],
   "source": [
    "def simpler_intergrate(x:list[float],y:list[float]) -> float:\n",
    "    \n",
    "    y = np.nan_to_num(y, nan=0.0)\n",
    "    \n",
    "    integral = 0\n",
    "    \n",
    "    LSUN = const.L_sun\n",
    "\n",
    "    for i in range(1,len(x)):\n",
    "        delta_x = x[i] - x[i-1]\n",
    "        integral += y[i-1] * delta_x\n",
    "\n",
    "    return integral"
   ]
  },
  {
   "cell_type": "code",
   "execution_count": 34,
   "metadata": {},
   "outputs": [],
   "source": [
    "def obtain_luminosity_condition(df:pd.Series, instrument:str):\n",
    "\n",
    "    lambda_grid = obtain_lambda_grid(df)\n",
    "    flux = interpolate_flux(df)\n",
    "\n",
    "    luminosity_list = []\n",
    "\n",
    "    if instrument == 'ztf':\n",
    "        bandpasses = ['g','r','i']\n",
    "\n",
    "        for bandpass in bandpasses:\n",
    "            condition = np.where((wavelength_ztf[bandpass][0] < lambda_grid) & (wavelength_ztf[bandpass][1] > lambda_grid))\n",
    "            x = lambda_grid[condition]\n",
    "            y = flux[condition]\n",
    "            luminosity = simpler_intergrate(x, y)\n",
    "            luminosity_list.append(luminosity)\n",
    "\n",
    "        return dict(zip(bandpasses, luminosity_list))\n",
    "            \n",
    "\n",
    "    elif instrument == 'lsst':\n",
    "        bandpasses = ['u','g','r','i','z','y']\n",
    "\n",
    "        for bandpass in bandpasses:\n",
    "            condition = np.where((wavelength_ztf[bandpass][0] < lambda_grid) & (wavelength_ztf[bandpass][1] > lambda_grid))\n",
    "            x = lambda_grid[condition]\n",
    "            y = flux[condition]\n",
    "            luminosity = simpler_intergrate(x, y)\n",
    "            luminosity_list.append(luminosity)\n",
    "\n",
    "        return dict(zip(bandpasses, luminosity_list))\n",
    "\n",
    "    else:\n",
    "        return print('There is not that instrument in list')"
   ]
  },
  {
   "cell_type": "code",
   "execution_count": 35,
   "metadata": {},
   "outputs": [
    {
     "data": {
      "text/plain": [
       "{'g': 2.4500926084201098e-12,\n",
       " 'r': 1.299461211557886e-12,\n",
       " 'i': 1.0093391725327336e-12}"
      ]
     },
     "execution_count": 35,
     "metadata": {},
     "output_type": "execute_result"
    }
   ],
   "source": [
    "test = obtain_luminosity_condition(df=spectrum_test,instrument='ztf')\n",
    "test"
   ]
  },
  {
   "cell_type": "code",
   "execution_count": 36,
   "metadata": {},
   "outputs": [
    {
     "name": "stdout",
     "output_type": "stream",
     "text": [
      "{'g': 2.4500926084201098e-12, 'r': 1.299461211557886e-12, 'i': 1.0093391725327336e-12}\n",
      "{'g': 2.3840897225157626e-12, 'r': 1.1408051984538748e-12, 'i': 1.015423357412568e-12}\n"
     ]
    },
    {
     "data": {
      "text/plain": [
       "<matplotlib.legend.Legend at 0x720a80566bc0>"
      ]
     },
     "execution_count": 36,
     "metadata": {},
     "output_type": "execute_result"
    },
    {
     "data": {
      "image/png": "[encoded data removed]",
      "text/plain": [
       "<Figure size 640x480 with 1 Axes>"
      ]
     },
     "metadata": {},
     "output_type": "display_data"
    }
   ],
   "source": [
    "fig, ax = plt.subplots()\n",
    "bands = ['g', 'r', 'i']\n",
    "colors = ['C0', 'C1', 'C2']\n",
    "for _, row in spectrum.iterrows():\n",
    "    #print(row)\n",
    "    luminosity_integrated = obtain_luminosity_condition(df=row, instrument='ztf')\n",
    "    print(luminosity_integrated)\n",
    "    for bandapass, luminosity in luminosity_integrated.items():\n",
    "        ax.scatter(row.mjd,luminosity, color = colors[0] if 'g' in bandapass else colors[1] if 'r' in bandapass else colors[2])\n",
    "#ax.scatter(row.mjd,luminosity,color = \"green\" if 'g' in bandapass else \"red\" if 'r' in bandapass else \"blue\")    \n",
    "patches = [plt.Line2D([0], [0], marker='o', color='w', markerfacecolor=color, markersize=10, label=band)\n",
    "           for band, color in zip(bands, colors)]\n",
    "ax.set_ylabel('Luminosity [erg cm**-2 s**-1]')\n",
    "ax.legend(handles=patches)\n"
   ]
  },
  {
   "cell_type": "code",
   "execution_count": 36,
   "metadata": {},
   "outputs": [
    {
     "name": "stdout",
     "output_type": "stream",
     "text": [
      "1361166.4654085755 erg / s\n"
     ]
    }
   ],
   "source": [
    "print(const.L_sun.cgs/(4*np.pi*1*u.au.to('cm')**2))"
   ]
  },
  {
   "cell_type": "code",
   "execution_count": 37,
   "metadata": {},
   "outputs": [
    {
     "data": {
      "image/png": "[encoded data removed]",
      "text/plain": [
       "<Figure size 640x480 with 1 Axes>"
      ]
     },
     "metadata": {},
     "output_type": "display_data"
    }
   ],
   "source": [
    "\n",
    "fig, ax = plt.subplots()\n",
    "for bandapass, luminosity in test.items():\n",
    "    ax.scatter(spectrum_test.mjd,luminosity,label=bandapass)\n",
    "    ax.set_ylabel('Luminosity [erg cm**-2 s**-1]')\n",
    "    ax.legend()"
   ]
  },
  {
   "cell_type": "code",
   "execution_count": 38,
   "metadata": {},
   "outputs": [],
   "source": [
    "luminosity_g, luminosity_i = [], []"
   ]
  },
  {
   "cell_type": "code",
   "execution_count": 39,
   "metadata": {},
   "outputs": [
    {
     "data": {
      "text/plain": [
       "<matplotlib.collections.PolyCollection at 0x73e632bb0c40>"
      ]
     },
     "execution_count": 39,
     "metadata": {},
     "output_type": "execute_result"
    },
    {
     "data": {
      "image/png": "[encoded data removed]",
      "text/plain": [
       "<Figure size 640x480 with 1 Axes>"
      ]
     },
     "metadata": {},
     "output_type": "display_data"
    }
   ],
   "source": [
    "x = np.linspace(spectrum_test.lambda_data_min,spectrum_test.lambda_data_max, len(eval(spectrum_test.flux_lambda)))\n",
    "y = eval(spectrum_test.flux_lambda)\n",
    "\n",
    "fig, ax = plt.subplots()\n",
    "#y = eval(group.flux_lambda)\n",
    "ax.plot(x, np.array(y))\n",
    "ax.set_ylabel('Flux')\n",
    "ax.set_xlabel('Wavelength')\n",
    "ax.fill_betweenx(y=y,x1=wavelength_lsst['u'][0],x2=wavelength_lsst['u'][1],color='purple')\n",
    "ax.fill_betweenx(y=y,x1=wavelength_lsst['g'][0],x2=wavelength_lsst['g'][1],color='blue')\n",
    "ax.fill_betweenx(y=y,x1=wavelength_lsst['r'][0],x2=wavelength_lsst['r'][1],color='yellow')\n",
    "ax.fill_betweenx(y=y,x1=wavelength_lsst['i'][0],x2=wavelength_lsst['i'][1],color='red')\n",
    "ax.fill_betweenx(y=y,x1=wavelength_lsst['z'][0],x2=wavelength_lsst['z'][1],color='purple')\n",
    "ax.fill_betweenx(y=y,x1=wavelength_lsst['y'][0],x2=wavelength_lsst['y'][1],color='purple')"
   ]
  },
  {
   "cell_type": "code",
   "execution_count": 40,
   "metadata": {},
   "outputs": [
    {
     "data": {
      "text/plain": [
       "(16117, 16117)"
      ]
     },
     "execution_count": 40,
     "metadata": {},
     "output_type": "execute_result"
    }
   ],
   "source": [
    "len(y),len(x)\n"
   ]
  },
  {
   "cell_type": "code",
   "execution_count": 41,
   "metadata": {},
   "outputs": [
    {
     "ename": "NameError",
     "evalue": "name 'integrate' is not defined",
     "output_type": "error",
     "traceback": [
      "\u001b[0;31m---------------------------------------------------------------------------\u001b[0m",
      "\u001b[0;31mNameError\u001b[0m                                 Traceback (most recent call last)",
      "Cell \u001b[0;32mIn[41], line 1\u001b[0m\n\u001b[0;32m----> 1\u001b[0m I \u001b[38;5;241m=\u001b[39m \u001b[43mintegrate\u001b[49m\u001b[38;5;241m.\u001b[39msimpson(y[condicion],x[condicion])\n\u001b[1;32m      2\u001b[0m I\n",
      "\u001b[0;31mNameError\u001b[0m: name 'integrate' is not defined"
     ]
    }
   ],
   "source": [
    "I = integrate.simpson(y[condicion],x[condicion])\n",
    "I"
   ]
  },
  {
   "cell_type": "code",
   "execution_count": null,
   "metadata": {},
   "outputs": [],
   "source": [
    "fig, ax = plt.subplots(figsize=(10,7))\n",
    "for mjd_indt, group in spectrum.groupby('mjd'):\n",
    "    y = group.flux_lambda.values\n",
    "    print(y)\n",
    "    print(len(y))\n",
    "    print(y.dtype)\n",
    "    x = np.linspace(group.lambda_data_min.iloc[0],group.lambda_data_max.iloc[0], len(y))\n",
    "    print(x)\n",
    "    #y = eval(group.flux_lambda)\n",
    "    ax.plot(x, np.array(y))\n",
    "    "
   ]
  },
  {
   "cell_type": "markdown",
   "metadata": {},
   "source": []
  }
 ],
 "metadata": {
  "kernelspec": {
   "display_name": "Python 3",
   "language": "python",
   "name": "python3"
  },
  "language_info": {
   "codemirror_mode": {
    "name": "ipython",
    "version": 3
   },
   "file_extension": ".py",
   "mimetype": "text/x-python",
   "name": "python",
   "nbconvert_exporter": "python",
   "pygments_lexer": "ipython3",
   "version": "3.10.12"
  }
 },
 "nbformat": 4,
 "nbformat_minor": 2
}
