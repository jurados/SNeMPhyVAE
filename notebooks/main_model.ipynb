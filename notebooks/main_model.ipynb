{
 "cells": [
  {
   "cell_type": "code",
   "execution_count": 1,
   "metadata": {},
   "outputs": [
    {
     "name": "stderr",
     "output_type": "stream",
     "text": [
      "/home/jurados/.local/lib/python3.12/site-packages/tqdm/auto.py:21: TqdmWarning: IProgress not found. Please update jupyter and ipywidgets. See https://ipywidgets.readthedocs.io/en/stable/user_install.html\n",
      "  from .autonotebook import tqdm as notebook_tqdm\n"
     ]
    },
    {
     "data": {
      "text/plain": [
       "device(type='cpu')"
      ]
     },
     "execution_count": 1,
     "metadata": {},
     "output_type": "execute_result"
    }
   ],
   "source": [
    "import numpy as np\n",
    "import pandas as pd\n",
    "import scipy\n",
    "import matplotlib.pyplot as plt\n",
    "\n",
    "from sklearn.model_selection import GroupShuffleSplit \n",
    "\n",
    "import torch\n",
    "import torch.nn as nn\n",
    "import torch.optim as optim\n",
    "import torch.nn.functional as F\n",
    "from torch.utils.data import DataLoader, TensorDataset\n",
    "\n",
    "from tqdm.auto import tqdm\n",
    "\n",
    "device = torch.device('cuda' if torch.cuda.is_available() else 'cpu')\n",
    "device"
   ]
  },
  {
   "cell_type": "code",
   "execution_count": 2,
   "metadata": {},
   "outputs": [],
   "source": [
    "# Some Settings by default\n",
    "SIDEREAL_SCALE = 86400. / 86164.0905 # days per sidereal year\n",
    "TIME_WINDOW = 300\n",
    "TIME_PAD = 100\n",
    "ERROR_FLOOR = 0.01\n",
    "BANDS = ['v','r']"
   ]
  },
  {
   "cell_type": "code",
   "execution_count": 3,
   "metadata": {},
   "outputs": [],
   "source": [
    "def mag_to_flux(light_curves):\n",
    "\n",
    "    for id_light_curve, light_curve in light_curves.groupby(by='oid'):\n",
    "        light_curves.loc[light_curve.index, 'flux'] = 10**(-0.4 * (light_curve['magpsf']+48.60))\n",
    "        light_curves.loc[light_curve.index, 'fluxerr'] = 10**(-0.4 * (light_curve['sigmapsf']+48.60))\n",
    "\n",
    "    light_curves = light_curves.drop(columns=['magpsf', 'sigmapsf'])\n",
    "\n",
    "    return light_curves"
   ]
  },
  {
   "cell_type": "code",
   "execution_count": 64,
   "metadata": {},
   "outputs": [],
   "source": [
    "def crossmatch_object_alerce(alerce_lc: pd.DataFrame, object: pd.DataFrame) -> pd.DataFrame:\n",
    "    lightcurves = pd.merge(left=alerce_lc, right=object,\n",
    "                       on='oid')\n",
    "    return lightcurves\n",
    "\n",
    "def _determine_time_grid(ligth_curve):\n",
    "\n",
    "    time = ligth_curve['mjd'].to_numpy()\n",
    "    sidereal_time = time * SIDEREAL_SCALE\n",
    "\n",
    "    # Initial guess of the phase. Round everything to 0.1 days, and find the decimal\n",
    "    # that has the largest count.\n",
    "    mode, count = scipy.stats.mode(np.round(sidereal_time % 1 + 0.05, 1), keepdims=True)\n",
    "    guess_offset = mode[0] - 0.05\n",
    "\n",
    "    # Shift everything by the guessed offset\n",
    "    guess_shift_time = sidereal_time - guess_offset\n",
    "\n",
    "    # Do a proper estimate of the offset.\n",
    "    sidereal_offset = guess_offset + np.median((guess_shift_time + 0.5) % 1) - 0.5\n",
    "\n",
    "    # Shift everything by the final offset estimate.\n",
    "    shift_time = sidereal_time - sidereal_offset\n",
    "\n",
    "    # Selecting the five highest signal-to-noise observations\n",
    "    s2n = ligth_curve['flux'] / ligth_curve['fluxerr']\n",
    "    s2n_mask = np.argsort(s2n)[-5:]\n",
    "\n",
    "    cut_times = shift_time[s2n_mask]\n",
    "\n",
    "    max_time = np.round(np.median(cut_times))\n",
    "\n",
    "    # Convert back to a reference time in the original units. This reference time\n",
    "    # corresponds to the reference of the grid in sidereal time.\n",
    "    reference_time = ((max_time + sidereal_offset) / SIDEREAL_SCALE)\n",
    "\n",
    "    return reference_time\n",
    "\n",
    "def time_to_grid(time, reference_time):\n",
    "    return (time - reference_time) * SIDEREAL_SCALE\n",
    "\n",
    "def process_light_curve_parsnip(light_curve):\n",
    "    reference_time = _determine_time_grid(light_curve)\n",
    "\n",
    "    new_light_curve = light_curve.copy()\n",
    "\n",
    "    grid_times = time_to_grid(new_light_curve['mjd'], reference_time)\n",
    "    time_indices = np.round(grid_times).astype(int) + TIME_WINDOW // 2 # 300 days\n",
    "    time_mask = (\n",
    "        (time_indices >= -TIME_PAD)\n",
    "        & (time_indices < TIME_WINDOW + TIME_PAD)\n",
    "    )\n",
    "    new_light_curve['grid_time'] = grid_times\n",
    "    new_light_curve['time_index'] = time_indices\n",
    "    new_light_curve = new_light_curve[time_mask]\n",
    "\n",
    "    return new_light_curve\n",
    "\n",
    "def _get_data(light_curves):\n",
    "\n",
    "\n",
    "    redshifts = []\n",
    "    compare_data = []\n",
    "    compare_band_indices = []\n",
    "    print('Comenzo get_data')\n",
    "\n",
    "    # Build a grid for the input\n",
    "    # The first grid is created for saved the data\n",
    "    # The second grid is created for save the weights that will be used\n",
    "    # on the loss_function\n",
    "    try:\n",
    "        len_light_curves = len(light_curves.oid.unique())\n",
    "    except:\n",
    "        len_light_curves = len(light_curves)\n",
    "    #print('Length ligth_cruve:', len_light_curves)\n",
    "    grid_flux    = np.zeros((len_light_curves,len(BANDS),TIME_WINDOW))\n",
    "    #grid_flux    = np.zeros((len_light_curves,len(light_curves.fid.unique()),TIME_WINDOW))\n",
    "    print('Grid shape:',grid_flux.shape)\n",
    "    grid_weights = np.zeros_like(grid_flux)\n",
    "\n",
    "    for idx, light_curve in enumerate(light_curves):\n",
    "\n",
    "        redshifts.append(0.01)\n",
    "        #print(light_curve)\n",
    "        #print(type(light_curve))\n",
    "        #print(light_curve[list(light_curve.keys())[0]])\n",
    "        #light_curve = pd.DataFrame(torch.tensor(light_curve[list(light_curve.keys())[0]]))\n",
    "        light_curve = pd.DataFrame(light_curve)\n",
    "        #light_curve = light_curve[list(light_curve.keys())[0]]\n",
    "        #print('Se genero el respectivo DataFrame')\n",
    "        light_curve = light_curve[light_curve['fid'] <= 2]\n",
    "        # Mask observations outside the window\n",
    "        mask = (light_curve['time_index'] >= 0) & (light_curve['time_index'] < TIME_WINDOW)\n",
    "        light_curve = light_curve[mask]\n",
    "\n",
    "        # Calculate weights\n",
    "        weights = 1 / (light_curve['fluxerr']**2 + ERROR_FLOOR**2)\n",
    "\n",
    "        #print('fid:\\n', light_curve['fid'])\n",
    "        #print(light_curve['fid'].dtypes)\n",
    "        #print('fid:\\n', light_curve['fid']-1)\n",
    "        \n",
    "        \n",
    "        # Fill in the input arrays\n",
    "        #grid_flux[idx, 0 light_curve['time_index']] = light_curve['flux']\n",
    "        #print('Hay alguno mayor a 2:' (light_curve['fid'].astype(int) > 2).any())\n",
    "        #print('Hay alguno mayor a 2:' (light_curve['fid'].astype(int) > 2).any())\n",
    "        # ¿NECESITO RESTARLE UNO A fid? Porque es un indice\n",
    "        grid_flux[idx, light_curve['fid'].astype(int)-1, light_curve['time_index']] = light_curve['flux']\n",
    "        #grid_weights[idx, 0, light_curve['time_index']] = ERROR_FLOOR**2 * weights\n",
    "        grid_weights[idx, light_curve['fid'].astype(int)-1, light_curve['time_index']] = ERROR_FLOOR**2 * weights\n",
    "\n",
    "        #print('Creo el grid')\n",
    "        obj_compare_data = torch.FloatTensor(np.vstack([\n",
    "            light_curve['grid_time'],\n",
    "            light_curve['flux'],\n",
    "            light_curve['fluxerr'], \n",
    "            weights,\n",
    "        ]))\n",
    "        compare_data.append(obj_compare_data.T)\n",
    "        compare_band_indices.append(torch.LongTensor(light_curve['fid'].to_numpy().copy()))\n",
    "\n",
    "    redshifts = np.array(redshifts)\n",
    "    extra_input_data = [redshifts]\n",
    "\n",
    "    #print(f\"Shape of extra_input_data elements: {[i.shape for i in extra_input_data]}\")\n",
    "    #print(f\"Shape of grid_flux: {grid_flux.shape}\")\n",
    "    #print(f\"Shape of grid_weights: {grid_weights.shape}\")\n",
    "\n",
    "    input_data = np.concatenate(\n",
    "            [i[:, None, None].repeat(TIME_WINDOW, axis=2) for i in extra_input_data]\n",
    "            + [grid_flux, grid_weights],\n",
    "            axis=1\n",
    "        )\n",
    "\n",
    "    input_data = torch.FloatTensor(input_data).to(device)\n",
    "    redshifts = torch.FloatTensor(redshifts).to(device)\n",
    "\n",
    "    # Pad all of the compare data to have the same shape.\n",
    "    compare_data = nn.utils.rnn.pad_sequence(compare_data, batch_first=True)\n",
    "    compare_data = compare_data.permute(0, 2, 1)\n",
    "    compare_band_indices = nn.utils.rnn.pad_sequence(compare_band_indices,batch_first=True)\n",
    "    \n",
    "    compare_data = compare_data.to(device)\n",
    "    compare_band_indices = compare_band_indices.to(device)\n",
    "\n",
    "    data = {\n",
    "        'input_data': input_data,\n",
    "        'compare_data': compare_data,\n",
    "        'redshift': redshifts,\n",
    "        'fid': compare_band_indices,\n",
    "    }\n",
    "\n",
    "    return data"
   ]
  },
  {
   "cell_type": "code",
   "execution_count": 5,
   "metadata": {},
   "outputs": [],
   "source": [
    "def plot_light_curve(light_curve, oid:any = None):\n",
    "\n",
    "    time = light_curve['mjd'].to_numpy()\n",
    "\n",
    "\n",
    "    fig, ax = plt.subplots()\n",
    "    try:\n",
    "      mag  = light_curve['magpsf'].to_numpy()\n",
    "      ax.plot(time,mag,'o')\n",
    "      ax.set_ylim(ax.get_ylim()[::-1])\n",
    "      ax.set_ylabel('Apparent magnitude')\n",
    "    except:\n",
    "      flux = light_curve['flux'].to_numpy()\n",
    "      ax.plot(time,flux,'o')\n",
    "      ax.set_ylabel(r'Flux erg s−1 cm−2 Hz−1')\n",
    "    ax.set_xlabel('MJD')\n",
    "\n",
    "\n",
    "    if oid != None:\n",
    "        ax.set_title(f'oid: {oid}')"
   ]
  },
  {
   "cell_type": "markdown",
   "metadata": {},
   "source": [
    "# Real Data"
   ]
  },
  {
   "cell_type": "code",
   "execution_count": 6,
   "metadata": {},
   "outputs": [
    {
     "name": "stdout",
     "output_type": "stream",
     "text": [
      "                oid source_id      firstmjd   Av_MW true_label\n",
      "0      ZTF24aanbjel   2024iqx  60440.299120  0.0287         SN\n",
      "1      ZTF24aamkufg   2024igh  60437.289560  0.0261       SNIa\n",
      "2      ZTF24aajnwwr   2024hqr  60429.209850  0.0509       SNIa\n",
      "3      ZTF18aaeopbs   2024glo  60407.202211  0.1403       SNIa\n",
      "4      ZTF24aamtsgz   2024ipf  60438.397951  0.2484       SNIa\n",
      "...             ...       ...           ...     ...        ...\n",
      "10868  ZTF19aamqjsh   2016cda  58558.284549  0.0447       SNIa\n",
      "10869  ZTF18aarefgc   2016bey  60315.469572  0.0355       SNIa\n",
      "10870  ZTF18aajleyh   2016ayf  58276.285139  0.0533       SNIa\n",
      "10871  ZTF22abntkbk    2016nx  59870.374664  0.5834       SNIa\n",
      "10872  ZTF19acetbxm     2016Z  58770.438901  0.1020       SNIa\n",
      "\n",
      "[10873 rows x 5 columns]\n",
      "\n",
      "Number of Different Objects in object_table: 10870\n"
     ]
    }
   ],
   "source": [
    "object_table = pd.read_pickle('~/Supernovae_DeepLearning/object_ZTF_ALeRCE_19052024.pkl')\n",
    "print(object_table)\n",
    "print('\\nNumber of Different Objects in object_table:', len(object_table.oid.unique()))"
   ]
  },
  {
   "cell_type": "code",
   "execution_count": 7,
   "metadata": {},
   "outputs": [
    {
     "name": "stdout",
     "output_type": "stream",
     "text": [
      "                  oid               candid         rfid           mjd  fid  \\\n",
      "0        ZTF19abgpgyp  1515523874715015006  681120247.0  59269.523877    2   \n",
      "1        ZTF19abgpgyp  1499511354715015014          NaN  59253.511354    2   \n",
      "2        ZTF19abgpgyp  1502430264715015014          NaN  59256.430266    2   \n",
      "3        ZTF19abgpgyp  1510536184715015009          NaN  59264.536181    2   \n",
      "4        ZTF18abjswhy  1515520891415015005  685120214.0  59269.520891    2   \n",
      "...               ...                  ...          ...           ...  ...   \n",
      "4546324  ZTF19ablwbut  1508538592115015009          NaN  59262.538599    1   \n",
      "4546325  ZTF19ablwbut  1511512652115015011          NaN  59265.512651    1   \n",
      "4546326  ZTF19ablwbut  1513537042115015020          NaN  59267.537049    1   \n",
      "4546327  ZTF19ablwbut  1515495032115015010          NaN  59269.495035    1   \n",
      "4546328  ZTF18aagrdtj  1515523411415010004  680120214.0  59269.523414    2   \n",
      "\n",
      "            magpsf  sigmapsf  \n",
      "0        20.385720  0.211641  \n",
      "1        20.678400  0.258971  \n",
      "2        20.652500  0.269586  \n",
      "3        20.663600  0.299923  \n",
      "4        16.079460  0.030863  \n",
      "...            ...       ...  \n",
      "4546324  17.079200  0.062217  \n",
      "4546325  17.125100  0.057529  \n",
      "4546326  17.073800  0.073881  \n",
      "4546327  17.232900  0.056399  \n",
      "4546328  18.910412  0.079225  \n",
      "\n",
      "[4546329 rows x 7 columns]\n",
      "\n",
      "Number of Different Objects in lightcurves_alercextns: 69519\n"
     ]
    }
   ],
   "source": [
    "lightcurves_alercextns = pd.read_pickle('/home/jurados/Supernovae_DeepLearning/data/lightcurves/lcs_transients_20240517.pkl')\n",
    "print(lightcurves_alercextns)\n",
    "print('\\nNumber of Different Objects in lightcurves_alercextns:', len(lightcurves_alercextns.oid.unique()))"
   ]
  },
  {
   "cell_type": "code",
   "execution_count": 8,
   "metadata": {},
   "outputs": [
    {
     "name": "stdout",
     "output_type": "stream",
     "text": [
      "                 oid               candid         rfid           mjd  fid  \\\n",
      "0       ZTF19abgpgyp  1515523874715015006  681120247.0  59269.523877    2   \n",
      "1       ZTF19abgpgyp  1499511354715015014          NaN  59253.511354    2   \n",
      "2       ZTF19abgpgyp  1502430264715015014          NaN  59256.430266    2   \n",
      "3       ZTF19abgpgyp  1510536184715015009          NaN  59264.536181    2   \n",
      "4       ZTF19aatubsj  1515535253915015003  634120239.0  59269.535255    2   \n",
      "...              ...                  ...          ...           ...  ...   \n",
      "311883  ZTF18aavtvxx  1515516622515010002  826120225.0  59269.516620    2   \n",
      "311884  ZTF20acgyjbh  1515521513815015012  483120238.0  59269.521516    2   \n",
      "311885  ZTF20acgyjbh  1513527463815015004          NaN  59267.527465    1   \n",
      "311886  ZTF20acgyjbh  1515466313815015003          NaN  59269.466319    1   \n",
      "311887  ZTF19acbwmqd  1515523414215015020  680120242.0  59269.523414    2   \n",
      "\n",
      "           magpsf  sigmapsf source_id      firstmjd   Av_MW true_label  \n",
      "0       20.385720  0.211641   2019lkw  58681.194086  0.0608       SNII  \n",
      "1       20.678400  0.258971   2019lkw  58681.194086  0.0608       SNII  \n",
      "2       20.652500  0.269586   2019lkw  58681.194086  0.0608       SNII  \n",
      "3       20.663600  0.299923   2019lkw  58681.194086  0.0608       SNII  \n",
      "4       20.251050  0.161910   2019fdr  58605.400428  0.1393       SLSN  \n",
      "...           ...       ...       ...           ...     ...        ...  \n",
      "311883  18.331059  0.091234    2018mc  58255.410312  0.0965      SNIIb  \n",
      "311884  19.333435  0.109986   2020vck  59128.149931  0.3555       SNII  \n",
      "311885  20.057800  0.273645   2020vck  59128.149931  0.3555       SNII  \n",
      "311886  20.268000  0.402365   2020vck  59128.149931  0.3555       SNII  \n",
      "311887  18.667158  0.067825   2019rra  58758.143171  0.0608       SNII  \n",
      "\n",
      "[311888 rows x 11 columns]\n",
      "\n",
      "Number of Different Objects in lightcurves (Crossmatch): 8042\n"
     ]
    }
   ],
   "source": [
    "# Here I realized a crossmatch between all lightcurves_alercextns and\n",
    "# the object table\n",
    "lightcurves = crossmatch_object_alerce(lightcurves_alercextns, object_table)\n",
    "print(lightcurves)\n",
    "print('\\nNumber of Different Objects in lightcurves (Crossmatch):', len(lightcurves.oid.unique()))"
   ]
  },
  {
   "cell_type": "code",
   "execution_count": 9,
   "metadata": {},
   "outputs": [],
   "source": [
    "splitter = GroupShuffleSplit(test_size=.2, random_state=0)\n",
    "train_inds, test_inds = next(splitter.split(lightcurves, groups=lightcurves['oid']))\n",
    "train_data = lightcurves.iloc[train_inds]\n",
    "test_data  = lightcurves.iloc[test_inds]"
   ]
  },
  {
   "cell_type": "code",
   "execution_count": 10,
   "metadata": {},
   "outputs": [
    {
     "data": {
      "text/plain": [
       "(6433, 1609)"
      ]
     },
     "execution_count": 10,
     "metadata": {},
     "output_type": "execute_result"
    }
   ],
   "source": [
    "len(train_data.oid.unique()), len(test_data.oid.unique())"
   ]
  },
  {
   "cell_type": "code",
   "execution_count": 11,
   "metadata": {},
   "outputs": [
    {
     "name": "stdout",
     "output_type": "stream",
     "text": [
      "The oid of transients with maximum length is: ZTF18aavtvxx\n",
      "The maximum length of observation is: 1400\n"
     ]
    }
   ],
   "source": [
    "print('The oid of transients with maximum length is:', train_data.groupby(by='oid')['mjd'].size().idxmax())\n",
    "print('The maximum length of observation is:', train_data.groupby(by='oid')['mjd'].size().max())"
   ]
  },
  {
   "cell_type": "code",
   "execution_count": 12,
   "metadata": {},
   "outputs": [],
   "source": [
    "train_data = train_data[['oid','mjd','magpsf','sigmapsf','fid']]\n",
    "test_data = test_data[['oid','mjd','magpsf','sigmapsf','fid']]"
   ]
  },
  {
   "cell_type": "code",
   "execution_count": 13,
   "metadata": {},
   "outputs": [
    {
     "data": {
      "text/html": [
       "<div>\n",
       "<style scoped>\n",
       "    .dataframe tbody tr th:only-of-type {\n",
       "        vertical-align: middle;\n",
       "    }\n",
       "\n",
       "    .dataframe tbody tr th {\n",
       "        vertical-align: top;\n",
       "    }\n",
       "\n",
       "    .dataframe thead th {\n",
       "        text-align: right;\n",
       "    }\n",
       "</style>\n",
       "<table border=\"1\" class=\"dataframe\">\n",
       "  <thead>\n",
       "    <tr style=\"text-align: right;\">\n",
       "      <th></th>\n",
       "      <th>oid</th>\n",
       "      <th>mjd</th>\n",
       "      <th>magpsf</th>\n",
       "      <th>sigmapsf</th>\n",
       "      <th>fid</th>\n",
       "    </tr>\n",
       "  </thead>\n",
       "  <tbody>\n",
       "    <tr>\n",
       "      <th>9</th>\n",
       "      <td>ZTF20acphdcg</td>\n",
       "      <td>59270.233553</td>\n",
       "      <td>17.273174</td>\n",
       "      <td>0.051715</td>\n",
       "      <td>1</td>\n",
       "    </tr>\n",
       "    <tr>\n",
       "      <th>13</th>\n",
       "      <td>ZTF20acphdcg</td>\n",
       "      <td>59270.295313</td>\n",
       "      <td>17.398106</td>\n",
       "      <td>0.066342</td>\n",
       "      <td>2</td>\n",
       "    </tr>\n",
       "    <tr>\n",
       "      <th>36</th>\n",
       "      <td>ZTF20acphdcg</td>\n",
       "      <td>59271.225451</td>\n",
       "      <td>17.224977</td>\n",
       "      <td>0.036484</td>\n",
       "      <td>1</td>\n",
       "    </tr>\n",
       "    <tr>\n",
       "      <th>39</th>\n",
       "      <td>ZTF20acphdcg</td>\n",
       "      <td>59271.258333</td>\n",
       "      <td>17.460032</td>\n",
       "      <td>0.053383</td>\n",
       "      <td>2</td>\n",
       "    </tr>\n",
       "    <tr>\n",
       "      <th>49</th>\n",
       "      <td>ZTF20acphdcg</td>\n",
       "      <td>59272.170428</td>\n",
       "      <td>17.278603</td>\n",
       "      <td>0.047779</td>\n",
       "      <td>1</td>\n",
       "    </tr>\n",
       "    <tr>\n",
       "      <th>...</th>\n",
       "      <td>...</td>\n",
       "      <td>...</td>\n",
       "      <td>...</td>\n",
       "      <td>...</td>\n",
       "      <td>...</td>\n",
       "    </tr>\n",
       "    <tr>\n",
       "      <th>38841</th>\n",
       "      <td>ZTF20acphdcg</td>\n",
       "      <td>59265.212002</td>\n",
       "      <td>17.426886</td>\n",
       "      <td>0.042634</td>\n",
       "      <td>2</td>\n",
       "    </tr>\n",
       "    <tr>\n",
       "      <th>38869</th>\n",
       "      <td>ZTF20acphdcg</td>\n",
       "      <td>59266.133750</td>\n",
       "      <td>17.260433</td>\n",
       "      <td>0.055329</td>\n",
       "      <td>1</td>\n",
       "    </tr>\n",
       "    <tr>\n",
       "      <th>38870</th>\n",
       "      <td>ZTF20acphdcg</td>\n",
       "      <td>59266.212928</td>\n",
       "      <td>17.376047</td>\n",
       "      <td>0.041131</td>\n",
       "      <td>2</td>\n",
       "    </tr>\n",
       "    <tr>\n",
       "      <th>38900</th>\n",
       "      <td>ZTF20acphdcg</td>\n",
       "      <td>59267.174965</td>\n",
       "      <td>17.450434</td>\n",
       "      <td>0.042498</td>\n",
       "      <td>2</td>\n",
       "    </tr>\n",
       "    <tr>\n",
       "      <th>38903</th>\n",
       "      <td>ZTF20acphdcg</td>\n",
       "      <td>59267.253657</td>\n",
       "      <td>17.282661</td>\n",
       "      <td>0.050623</td>\n",
       "      <td>1</td>\n",
       "    </tr>\n",
       "  </tbody>\n",
       "</table>\n",
       "<p>327 rows × 5 columns</p>\n",
       "</div>"
      ],
      "text/plain": [
       "                oid           mjd     magpsf  sigmapsf  fid\n",
       "9      ZTF20acphdcg  59270.233553  17.273174  0.051715    1\n",
       "13     ZTF20acphdcg  59270.295313  17.398106  0.066342    2\n",
       "36     ZTF20acphdcg  59271.225451  17.224977  0.036484    1\n",
       "39     ZTF20acphdcg  59271.258333  17.460032  0.053383    2\n",
       "49     ZTF20acphdcg  59272.170428  17.278603  0.047779    1\n",
       "...             ...           ...        ...       ...  ...\n",
       "38841  ZTF20acphdcg  59265.212002  17.426886  0.042634    2\n",
       "38869  ZTF20acphdcg  59266.133750  17.260433  0.055329    1\n",
       "38870  ZTF20acphdcg  59266.212928  17.376047  0.041131    2\n",
       "38900  ZTF20acphdcg  59267.174965  17.450434  0.042498    2\n",
       "38903  ZTF20acphdcg  59267.253657  17.282661  0.050623    1\n",
       "\n",
       "[327 rows x 5 columns]"
      ]
     },
     "execution_count": 13,
     "metadata": {},
     "output_type": "execute_result"
    }
   ],
   "source": [
    "one_light_curve = train_data[train_data.oid == train_data.oid.unique()[3]]\n",
    "one_light_curve"
   ]
  },
  {
   "cell_type": "code",
   "execution_count": 14,
   "metadata": {},
   "outputs": [
    {
     "data": {
      "image/png": "[encoded data removed]",
      "text/plain": [
       "<Figure size 640x480 with 1 Axes>"
      ]
     },
     "metadata": {},
     "output_type": "display_data"
    }
   ],
   "source": [
    "plot_light_curve(one_light_curve, one_light_curve.oid.unique()[0])"
   ]
  },
  {
   "cell_type": "markdown",
   "metadata": {},
   "source": [
    "# Synthetic Model"
   ]
  },
  {
   "cell_type": "markdown",
   "metadata": {},
   "source": [
    "The next Syntethic model is based on the papers of [Olivares et al. 2010](https://ui.adsabs.harvard.edu/abs/2010ApJ...715..833O/abstract).\n",
    "\n",
    "This synthetic model created light-curves based on the next functions:\n",
    "\n",
    "$$ f_{\\text{DF}} = \\frac{-a_0}{1+\\exp\\left( (t - t_{\\text{PT}})\\right) / w_0}$$\n",
    "$$ l(t) = p_o(t-t_{\\text{PT}}) + m_0$$\n",
    "$$ g(t) = -P e^{\\left(\\frac{t-Q}{R}\\right)^{2}}"
   ]
  },
  {
   "cell_type": "code",
   "execution_count": 15,
   "metadata": {},
   "outputs": [],
   "source": [
    "class SyntheticLigthCurve:\n",
    "    def __init__(self,tpt,a0,w0,p0,m0,P,Q,R):\n",
    "        self.a0 = a0\n",
    "        self.w0 = w0\n",
    "        self.tpt = tpt\n",
    "        self.p0 = p0\n",
    "        self.m0 = m0\n",
    "        self.P = P\n",
    "        self.Q = Q\n",
    "        self.R = R\n",
    "\n",
    "    def olivares(self,t):\n",
    "        f_fd = -self.a0/(1+np.exp((t-self.tpt)/self.w0))\n",
    "        f_ld = self.p0*(t-self.tpt)+self.m0\n",
    "        f_gs =  -self.P * np.exp(-((t-self.Q)/self.R)**2)\n",
    "        f = f_fd + f_ld + f_gs\n",
    "        return f"
   ]
  },
  {
   "cell_type": "code",
   "execution_count": 16,
   "metadata": {},
   "outputs": [],
   "source": [
    "# Definir los parámetros iniciales\n",
    "p0_v = [91.026,1.744,3.602,0.008,14.482,1.675,102.148,-15.984] # tpt, a0, w0, p0_v, m0, P, Q, R\n",
    "p0_r = [88.948,1.584,4.485,0.005,13.759,1.528,101.390,-17.934] # tpt, a0, w0, p0_v, m0, P, Q, R\n",
    "increase_factor = [1, 1, 0.01, 0, 0.01, 0.01, 0.01, 0.01]\n",
    "\n",
    "N = 1000\n",
    "time_length = 300 # days\n",
    "\n",
    "oid = []\n",
    "mjd = []\n",
    "mag_v = []\n",
    "mag_r = []\n",
    "\n",
    "# Generación de los datos sintéticos\n",
    "for n in range(N):\n",
    "    increase_random = np.random.random()\n",
    "    time = np.linspace(50, 150, 50)\n",
    "    \n",
    "    po_v = [p0_v[i] + increase_factor[i] * increase_random for i in range(len(p0_v))]\n",
    "    po_r = [p0_r[i] + increase_factor[i] * increase_random for i in range(len(p0_r))]\n",
    "    \n",
    "    synthetic_lc_v = SyntheticLigthCurve(po_v[0], po_v[1], po_v[2], po_v[3], po_v[4], po_v[5], po_v[6], po_v[7])\n",
    "    synthetic_lc_r = SyntheticLigthCurve(po_r[0], po_r[1], po_r[2], po_r[3], po_r[4], po_r[5], po_r[6], po_r[7])\n",
    "    \n",
    "    f_v = synthetic_lc_v.olivares(time)\n",
    "    f_r = synthetic_lc_r.olivares(time)\n",
    "    \n",
    "    mjd.append(np.array(time))\n",
    "    mag_v.append(np.array(f_v))\n",
    "    mag_r.append(np.array(f_r))\n",
    "\n",
    "# Crear una lista vacía para almacenar los datos\n",
    "train_data_synthetic = []\n",
    "test_data_synthetic  = []\n",
    "\n",
    "# Iterar sobre cada conjunto de tiempo y brillo\n",
    "for i in range(len(mjd)):\n",
    "    time_set = mjd[i]\n",
    "    brightness_set_v = mag_v[i]\n",
    "    brightness_set_r = mag_r[i]\n",
    "    code = 'ZTF' + str(i + 1)  # Código de pertenencia (del 1 al N)\n",
    "    \n",
    "    for time, brightness_v, brightness_r in zip(time_set, brightness_set_v, brightness_set_r):\n",
    "        if i + 1 <= int(N * 0.8):  # 80% para entrenamiento\n",
    "            # Añadir observaciones de filtro v (fid = 1)\n",
    "            train_data_synthetic.append([code, time, brightness_v, 1])\n",
    "            # Añadir observaciones de filtro r (fid = 2)\n",
    "            train_data_synthetic.append([code, time, brightness_r, 2])\n",
    "        else:  # 20% para prueba\n",
    "            # Añadir observaciones de filtro v (fid = 1)\n",
    "            test_data_synthetic.append([code, time, brightness_v, 1])\n",
    "            # Añadir observaciones de filtro r (fid = 2)\n",
    "            test_data_synthetic.append([code, time, brightness_r, 2])\n",
    "\n",
    "# Crear los DataFrames\n",
    "train_data_synthetic = pd.DataFrame(train_data_synthetic, columns=['oid', 'mjd', 'magpsf', 'fid'])\n",
    "test_data_synthetic = pd.DataFrame(test_data_synthetic, columns=['oid', 'mjd', 'magpsf', 'fid'])\n",
    "\n",
    "# Añadir una columna para 'sigmapsf'\n",
    "train_data_synthetic['sigmapsf'] = 0.001\n",
    "test_data_synthetic['sigmapsf'] = 0.001"
   ]
  },
  {
   "cell_type": "code",
   "execution_count": 17,
   "metadata": {},
   "outputs": [
    {
     "data": {
      "image/png": "[encoded data removed]",
      "text/plain": [
       "<Figure size 640x480 with 1 Axes>"
      ]
     },
     "metadata": {},
     "output_type": "display_data"
    }
   ],
   "source": [
    "oid_idx = 0\n",
    "plot_light_curve(train_data_synthetic[train_data_synthetic.oid == train_data_synthetic.oid.unique()[oid_idx]], oid=train_data_synthetic.oid.unique()[oid_idx])"
   ]
  },
  {
   "cell_type": "code",
   "execution_count": 18,
   "metadata": {},
   "outputs": [],
   "source": [
    "train_data_synthetic = mag_to_flux(train_data_synthetic)\n",
    "test_data_synthetic  = mag_to_flux(test_data_synthetic)"
   ]
  },
  {
   "cell_type": "code",
   "execution_count": 19,
   "metadata": {},
   "outputs": [
    {
     "data": {
      "text/html": [
       "<div>\n",
       "<style scoped>\n",
       "    .dataframe tbody tr th:only-of-type {\n",
       "        vertical-align: middle;\n",
       "    }\n",
       "\n",
       "    .dataframe tbody tr th {\n",
       "        vertical-align: top;\n",
       "    }\n",
       "\n",
       "    .dataframe thead th {\n",
       "        text-align: right;\n",
       "    }\n",
       "</style>\n",
       "<table border=\"1\" class=\"dataframe\">\n",
       "  <thead>\n",
       "    <tr style=\"text-align: right;\">\n",
       "      <th></th>\n",
       "      <th>oid</th>\n",
       "      <th>mjd</th>\n",
       "      <th>fid</th>\n",
       "      <th>flux</th>\n",
       "      <th>fluxerr</th>\n",
       "    </tr>\n",
       "  </thead>\n",
       "  <tbody>\n",
       "    <tr>\n",
       "      <th>0</th>\n",
       "      <td>ZTF1</td>\n",
       "      <td>50.000000</td>\n",
       "      <td>1</td>\n",
       "      <td>8.902192e-25</td>\n",
       "      <td>3.627438e-20</td>\n",
       "    </tr>\n",
       "    <tr>\n",
       "      <th>1</th>\n",
       "      <td>ZTF1</td>\n",
       "      <td>50.000000</td>\n",
       "      <td>2</td>\n",
       "      <td>1.319067e-24</td>\n",
       "      <td>3.627438e-20</td>\n",
       "    </tr>\n",
       "    <tr>\n",
       "      <th>2</th>\n",
       "      <td>ZTF1</td>\n",
       "      <td>52.040816</td>\n",
       "      <td>1</td>\n",
       "      <td>8.769586e-25</td>\n",
       "      <td>3.627438e-20</td>\n",
       "    </tr>\n",
       "    <tr>\n",
       "      <th>3</th>\n",
       "      <td>ZTF1</td>\n",
       "      <td>52.040816</td>\n",
       "      <td>2</td>\n",
       "      <td>1.306932e-24</td>\n",
       "      <td>3.627438e-20</td>\n",
       "    </tr>\n",
       "    <tr>\n",
       "      <th>4</th>\n",
       "      <td>ZTF1</td>\n",
       "      <td>54.081633</td>\n",
       "      <td>1</td>\n",
       "      <td>8.639298e-25</td>\n",
       "      <td>3.627438e-20</td>\n",
       "    </tr>\n",
       "  </tbody>\n",
       "</table>\n",
       "</div>"
      ],
      "text/plain": [
       "    oid        mjd  fid          flux       fluxerr\n",
       "0  ZTF1  50.000000    1  8.902192e-25  3.627438e-20\n",
       "1  ZTF1  50.000000    2  1.319067e-24  3.627438e-20\n",
       "2  ZTF1  52.040816    1  8.769586e-25  3.627438e-20\n",
       "3  ZTF1  52.040816    2  1.306932e-24  3.627438e-20\n",
       "4  ZTF1  54.081633    1  8.639298e-25  3.627438e-20"
      ]
     },
     "execution_count": 19,
     "metadata": {},
     "output_type": "execute_result"
    }
   ],
   "source": [
    "train_data_synthetic.head()"
   ]
  },
  {
   "cell_type": "code",
   "execution_count": 20,
   "metadata": {},
   "outputs": [],
   "source": [
    "train_data = mag_to_flux(train_data)\n",
    "test_data = mag_to_flux(test_data)"
   ]
  },
  {
   "cell_type": "code",
   "execution_count": 21,
   "metadata": {},
   "outputs": [
    {
     "data": {
      "text/html": [
       "<div>\n",
       "<style scoped>\n",
       "    .dataframe tbody tr th:only-of-type {\n",
       "        vertical-align: middle;\n",
       "    }\n",
       "\n",
       "    .dataframe tbody tr th {\n",
       "        vertical-align: top;\n",
       "    }\n",
       "\n",
       "    .dataframe thead th {\n",
       "        text-align: right;\n",
       "    }\n",
       "</style>\n",
       "<table border=\"1\" class=\"dataframe\">\n",
       "  <thead>\n",
       "    <tr style=\"text-align: right;\">\n",
       "      <th></th>\n",
       "      <th>oid</th>\n",
       "      <th>mjd</th>\n",
       "      <th>fid</th>\n",
       "      <th>flux</th>\n",
       "      <th>fluxerr</th>\n",
       "    </tr>\n",
       "  </thead>\n",
       "  <tbody>\n",
       "    <tr>\n",
       "      <th>0</th>\n",
       "      <td>ZTF19abgpgyp</td>\n",
       "      <td>59269.523877</td>\n",
       "      <td>2</td>\n",
       "      <td>2.545142e-28</td>\n",
       "      <td>2.987744e-20</td>\n",
       "    </tr>\n",
       "    <tr>\n",
       "      <th>1</th>\n",
       "      <td>ZTF19abgpgyp</td>\n",
       "      <td>59253.511354</td>\n",
       "      <td>2</td>\n",
       "      <td>1.943748e-28</td>\n",
       "      <td>2.860300e-20</td>\n",
       "    </tr>\n",
       "    <tr>\n",
       "      <th>2</th>\n",
       "      <td>ZTF19abgpgyp</td>\n",
       "      <td>59256.430266</td>\n",
       "      <td>2</td>\n",
       "      <td>1.990673e-28</td>\n",
       "      <td>2.832472e-20</td>\n",
       "    </tr>\n",
       "    <tr>\n",
       "      <th>3</th>\n",
       "      <td>ZTF19abgpgyp</td>\n",
       "      <td>59264.536181</td>\n",
       "      <td>2</td>\n",
       "      <td>1.970425e-28</td>\n",
       "      <td>2.754424e-20</td>\n",
       "    </tr>\n",
       "    <tr>\n",
       "      <th>4</th>\n",
       "      <td>ZTF19aatubsj</td>\n",
       "      <td>59269.535255</td>\n",
       "      <td>2</td>\n",
       "      <td>2.881244e-28</td>\n",
       "      <td>3.127780e-20</td>\n",
       "    </tr>\n",
       "  </tbody>\n",
       "</table>\n",
       "</div>"
      ],
      "text/plain": [
       "            oid           mjd  fid          flux       fluxerr\n",
       "0  ZTF19abgpgyp  59269.523877    2  2.545142e-28  2.987744e-20\n",
       "1  ZTF19abgpgyp  59253.511354    2  1.943748e-28  2.860300e-20\n",
       "2  ZTF19abgpgyp  59256.430266    2  1.990673e-28  2.832472e-20\n",
       "3  ZTF19abgpgyp  59264.536181    2  1.970425e-28  2.754424e-20\n",
       "4  ZTF19aatubsj  59269.535255    2  2.881244e-28  3.127780e-20"
      ]
     },
     "execution_count": 21,
     "metadata": {},
     "output_type": "execute_result"
    }
   ],
   "source": [
    "train_data.head()"
   ]
  },
  {
   "cell_type": "code",
   "execution_count": 22,
   "metadata": {},
   "outputs": [
    {
     "data": {
      "image/png": "[encoded data removed]",
      "text/plain": [
       "<Figure size 640x480 with 1 Axes>"
      ]
     },
     "metadata": {},
     "output_type": "display_data"
    },
    {
     "data": {
      "image/png": "[encoded data removed]",
      "text/plain": [
       "<Figure size 640x480 with 1 Axes>"
      ]
     },
     "metadata": {},
     "output_type": "display_data"
    }
   ],
   "source": [
    "oid_idx = 0\n",
    "plot_light_curve(train_data_synthetic[train_data_synthetic.oid == train_data_synthetic.oid.unique()[oid_idx]], oid=train_data_synthetic.oid.unique()[oid_idx])\n",
    "plot_light_curve(train_data[train_data.oid == train_data.oid.unique()[oid_idx]], oid=train_data.oid.unique()[oid_idx])"
   ]
  },
  {
   "cell_type": "code",
   "execution_count": 23,
   "metadata": {},
   "outputs": [
    {
     "name": "stdout",
     "output_type": "stream",
     "text": [
      "    oid        mjd  fid          flux       fluxerr\n",
      "0  ZTF1  50.000000    1  8.902192e-25  3.627438e-20\n",
      "1  ZTF1  50.000000    2  1.319067e-24  3.627438e-20\n",
      "2  ZTF1  52.040816    1  8.769586e-25  3.627438e-20\n",
      "3  ZTF1  52.040816    2  1.306932e-24  3.627438e-20\n",
      "4  ZTF1  54.081633    1  8.639298e-25  3.627438e-20\n",
      "\n",
      "Shape train_data_synthethic: (80000, 5)\n",
      "Length train_data_synthethic: 80000\n",
      "\n",
      "      oid        mjd  fid          flux       fluxerr\n",
      "0  ZTF801  50.000000    1  4.874237e-25  3.627438e-20\n",
      "1  ZTF801  50.000000    2  7.235767e-25  3.627438e-20\n",
      "2  ZTF801  52.040816    1  4.801642e-25  3.627438e-20\n",
      "3  ZTF801  52.040816    2  7.169419e-25  3.627438e-20\n",
      "4  ZTF801  54.081633    1  4.730323e-25  3.627438e-20\n",
      "\n",
      "Shape test_data_synthethic: (20000, 5)\n",
      "Length test_data_synthethic: 20000\n"
     ]
    }
   ],
   "source": [
    "print(train_data_synthetic.head())\n",
    "print('\\nShape train_data_synthethic:', train_data_synthetic.shape)\n",
    "print('Length train_data_synthethic:', len(train_data_synthetic))\n",
    "print()\n",
    "print(test_data_synthetic.head())\n",
    "print('\\nShape test_data_synthethic:', test_data_synthetic.shape)\n",
    "print('Length test_data_synthethic:', len(test_data_synthetic))"
   ]
  },
  {
   "cell_type": "markdown",
   "metadata": {},
   "source": [
    "# Processing the Data"
   ]
  },
  {
   "cell_type": "code",
   "execution_count": 24,
   "metadata": {},
   "outputs": [],
   "source": [
    "def new_light_curves(light_curves):\n",
    "    \"\"\" Create a new data set adding the grid_time and\n",
    "    time_index columns\n",
    "    \"\"\"\n",
    "\n",
    "    new_light_curves = pd.DataFrame()\n",
    "    for id_group, group in light_curves.groupby('oid'):\n",
    "        light_curve_processed = process_light_curve_parsnip(group)\n",
    "        new_light_curves = pd.concat([new_light_curves, light_curve_processed])\n",
    "\n",
    "    return new_light_curves\n",
    "\n",
    "\n",
    "train_data_synthetic = new_light_curves(train_data_synthetic)\n",
    "test_data_synthetic  = new_light_curves(test_data_synthetic)"
   ]
  },
  {
   "cell_type": "code",
   "execution_count": 25,
   "metadata": {},
   "outputs": [],
   "source": [
    "train_data = new_light_curves(train_data)\n",
    "test_data  = new_light_curves(test_data)"
   ]
  },
  {
   "cell_type": "code",
   "execution_count": 26,
   "metadata": {},
   "outputs": [
    {
     "name": "stdout",
     "output_type": "stream",
     "text": [
      "    oid        mjd  fid          flux       fluxerr  grid_time  time_index\n",
      "0  ZTF1  50.000000    1  8.902192e-25  3.627438e-20  -4.124136         146\n",
      "1  ZTF1  50.000000    2  1.319067e-24  3.627438e-20  -4.124136         146\n",
      "2  ZTF1  52.040816    1  8.769586e-25  3.627438e-20  -2.077733         148\n",
      "3  ZTF1  52.040816    2  1.306932e-24  3.627438e-20  -2.077733         148\n",
      "4  ZTF1  54.081633    1  8.639298e-25  3.627438e-20  -0.031329         150\n",
      "\n",
      "Shape train_data_synthethic: (80000, 7)\n",
      "Length train_data_synthethic: 80000\n",
      "\n",
      "           oid        mjd  fid          flux       fluxerr  grid_time  \\\n",
      "19900  ZTF1000  50.000000    1  7.067790e-25  3.627438e-20  -4.124136   \n",
      "19901  ZTF1000  50.000000    2  1.048002e-24  3.627438e-20  -4.124136   \n",
      "19902  ZTF1000  52.040816    1  6.962514e-25  3.627438e-20  -2.077733   \n",
      "19903  ZTF1000  52.040816    2  1.038371e-24  3.627438e-20  -2.077733   \n",
      "19904  ZTF1000  54.081633    1  6.859082e-25  3.627438e-20  -0.031329   \n",
      "\n",
      "       time_index  \n",
      "19900         146  \n",
      "19901         146  \n",
      "19902         148  \n",
      "19903         148  \n",
      "19904         150  \n",
      "\n",
      "Shape test_data_synthethic: (20000, 7)\n",
      "Length test_data_synthethic: 20000\n"
     ]
    }
   ],
   "source": [
    "print(train_data_synthetic.head())\n",
    "print('\\nShape train_data_synthethic:', train_data_synthetic.shape)\n",
    "print('Length train_data_synthethic:', len(train_data_synthetic))\n",
    "print()\n",
    "print(test_data_synthetic.head())\n",
    "print('\\nShape test_data_synthethic:', test_data_synthetic.shape)\n",
    "print('Length test_data_synthethic:', len(test_data_synthetic))"
   ]
  },
  {
   "cell_type": "code",
   "execution_count": 42,
   "metadata": {},
   "outputs": [],
   "source": [
    "class LightCurveDataset():\n",
    "    def __init__(self, dataframe):\n",
    "        self.dataframe = dataframe\n",
    "        # Agrupar por 'oid' y almacenar los grupos\n",
    "        self.groups = dataframe.groupby('oid')\n",
    "\n",
    "    def __len__(self):\n",
    "        return len(self.groups)\n",
    "\n",
    "    def __getitem__(self, idx):\n",
    "        # Obtener el 'oid' por índice (esto devuelve una tupla: (oid, dataframe))\n",
    "        oid, group = list(self.groups)[idx]\n",
    "\n",
    "        # Convertir las columnas 'tiempo' y 'mag' en listas\n",
    "        #mjd = torch.tensor(group['mjd'].values, dtype=torch.float32).to(device)\n",
    "        #magpsf = torch.tensor(group['magpsf'].values, dtype=torch.float32).to(device)\n",
    "        #sigmapsf = torch.tensor(group['sigmapsf'].values, dtype=torch.float32).to(device)\n",
    "        #grid_time = torch.tensor(group['grid_time'].values, dtype=torch.float32).to(device)\n",
    "        #time_index = torch.tensor(group['time_index'].values, dtype=torch.float32).to(device)\n",
    "\n",
    "        mjd = group['mjd'].to_numpy()\n",
    "        flux = group['flux'].to_numpy()\n",
    "        fluxerr = group['fluxerr'].to_numpy()\n",
    "        fid = group['fid'].to_numpy()\n",
    "        grid_time = group['grid_time'].to_numpy()\n",
    "        time_index = group['time_index'].to_numpy()\n",
    "\n",
    "\n",
    "        # Retornar un diccionario en el formato deseado\n",
    "        # light_curve_dict = {\n",
    "        #     oid: {\n",
    "        #         'mjd': mjd,\n",
    "        #         'flux': flux,\n",
    "        #         'fluxerr': fluxerr,\n",
    "        #         'grid_time': grid_time,\n",
    "        #         'time_index': time_index\n",
    "        #     }\n",
    "        # }\n",
    "\n",
    "        light_curve_dict = {\n",
    "          'mjd': mjd,\n",
    "          'fid': fid,\n",
    "          'flux': flux,\n",
    "          'fluxerr': fluxerr,\n",
    "          'grid_time': grid_time,\n",
    "          'time_index': time_index\n",
    "        }\n",
    "\n",
    "        # light_curve_dict = {\n",
    "        #   'mjd': torch.tensor(mjd, dtype=torch.float32).to(device),\n",
    "        #   'flux': torch.tensor(flux, dtype=torch.float32).to(device),\n",
    "        #   'fluxerr': torch.tensor(fluxerr, dtype=torch.float32).to(device),\n",
    "        #   'grid_time': torch.tensor(grid_time, dtype=torch.torch.uint32).to(device),\n",
    "        #   'time_index': torch.tensor(time_index, dtype=torch.torch.uint32).to(device)\n",
    "        # }\n",
    "\n",
    "        return light_curve_dict\n",
    "\n",
    "# Instancia el dataset personalizado\n",
    "train_pandas_dataset = LightCurveDataset(train_data)\n",
    "train_pandas_dataset_synthetic = LightCurveDataset(train_data_synthetic)\n",
    "test_pandas_dataset = LightCurveDataset(test_data)\n",
    "test_pandas_dataset_synthetic = LightCurveDataset(test_data_synthetic)\n",
    "\n",
    "# Crear el DataLoader\n",
    "train_loader = DataLoader(train_pandas_dataset, batch_size=64, collate_fn=list, shuffle=True)\n",
    "test_loader = DataLoader(test_pandas_dataset, batch_size=64, collate_fn=list, shuffle=True)"
   ]
  },
  {
   "cell_type": "code",
   "execution_count": null,
   "metadata": {},
   "outputs": [],
   "source": [
    "for batch in train_loader:\n",
    "    print(type(batch))  # Verifica el tipo de batch\n",
    "    print(batch[0]['time_index'])\n",
    "    print(_get_data(batch))\n",
    "    break"
   ]
  },
  {
   "cell_type": "code",
   "execution_count": 31,
   "metadata": {},
   "outputs": [],
   "source": [
    "class ModelV0(nn.Module):\n",
    "\n",
    "    def __init__(self, input_size, hidden_dim, latent_size, device):\n",
    "\n",
    "        self.device = device\n",
    "        super().__init__()\n",
    "\n",
    "        # encoder\n",
    "        self.encoder = nn.Sequential(\n",
    "            nn.Linear(in_features=input_size, out_features=hidden_dim),\n",
    "            nn.ReLU(),\n",
    "            nn.Linear(in_features=hidden_dim, out_features=latent_size),\n",
    "            nn.ReLU()\n",
    "            )\n",
    "\n",
    "        # latent mean and variance\n",
    "        # Acá tenia un dos en\n",
    "        #mu_size, logvar_size = 3, 3\n",
    "        self.encode_mean_layer = nn.Linear(in_features=latent_size, out_features=2)\n",
    "        self.encode_logvar_layer = nn.Linear(in_features=latent_size, out_features=2)\n",
    "\n",
    "        # decoder\n",
    "        self.decoder = nn.Sequential(\n",
    "            nn.Linear(in_features=2, out_features=latent_size),\n",
    "            nn.ReLU(),\n",
    "            nn.Linear(in_features=latent_size, out_features=hidden_dim),\n",
    "            nn.ReLU(),\n",
    "            nn.Linear(in_features=hidden_dim, out_features=input_size),\n",
    "            )\n",
    "\n",
    "        self.to(self.device)\n",
    "\n",
    "    def encode(self, x):\n",
    "        print('Shape pre-encoder', x.shape)\n",
    "        x = x.permute(0,2,1)\n",
    "        print('second Shape pre-encoder', x.shape)\n",
    "        x = self.encoder(x)\n",
    "\n",
    "        print('Entro al Encoder')\n",
    "        print(x.shape)\n",
    "        mean, logvar = self.encode_mean_layer(x), self.encode_logvar_layer(x)\n",
    "        return mean, logvar\n",
    "\n",
    "    def reparameterization(self, mean, logvar):\n",
    "        print('Esta parametrizando al Encoder')\n",
    "        # Var(x) = std**2 -> 0.5*ln(Var(x)) = ln(std)\n",
    "        # std = exp(0.5*ln(Var(x)))\n",
    "        std = torch.exp(0.5*logvar)\n",
    "        eps = torch.randn_like(std)\n",
    "        z = mean + eps*std\n",
    "        return z\n",
    "\n",
    "    def decode(self, x):\n",
    "        print('Entro al DeEncoder')\n",
    "        return self.decoder(x)\n",
    "\n",
    "    def forward(self, x):\n",
    "        mean, logvar = self.encode(x)\n",
    "        z = self.reparameterization(mean, logvar)\n",
    "        x_hat = self.decode(z)\n",
    "        print('Melo el forward')\n",
    "        return x_hat, mean, logvar\n",
    "\n",
    "    def obtain_results(self, light_curves):\n",
    "\n",
    "        data = _get_data(light_curves)\n",
    "        print('Paso el Get data')\n",
    "\n",
    "        # Encode the light_curves\n",
    "        encoding_mu, encoding_logvar = self.encode(data['input_data'])\n",
    "        #print(encoding_mu)\n",
    "        #print(encoding_logvar)\n",
    "\n",
    "        time = data['compare_data'][:,0]\n",
    "        obs_flux = data['compare_data'][:, 1]\n",
    "        obs_fluxerr = data['compare_data'][:, 2]\n",
    "        obs_weight = data['compare_data'][:, 3]\n",
    "\n",
    "        results ={\n",
    "            'redshift': data['redshift'],\n",
    "            'time': time,\n",
    "            'obs_flux': obs_flux,\n",
    "            'obs_fluxerr': obs_fluxerr,\n",
    "            'obs_weight': obs_weight,\n",
    "            'encoding_mu': encoding_mu,\n",
    "            'encoding_logvar': encoding_logvar,\n",
    "        }\n",
    "\n",
    "        #results = {k:v.detach().cpu().numpy() for k,v in results.items()}\n",
    "        #results = {k:v.detach().cpu().numpy() for k,v in results.items()}\n",
    "\n",
    "        return results"
   ]
  },
  {
   "cell_type": "code",
   "execution_count": 43,
   "metadata": {},
   "outputs": [],
   "source": [
    "class ModelV1(nn.Module):\n",
    "    \"\"\" This model will use Conv1d to encode the NN\n",
    "    The Output Size using Conv1d in Pytorch could be calculated using:\n",
    "\n",
    "    L_out = [Lin + 2 x padding - dilation x (kernel_size - 1) - 1] / stride + 1\n",
    "\n",
    "    Also this modle will use ConvTransposed1d to decode the NN\n",
    "    The Ouput size using ConvTransposed1d in PyTorch could be calculated using:\n",
    "\n",
    "    L_out=(Lin-1)xstride-2xpadding+dilationx(kernel_size-1)+output_padding+1\n",
    "\n",
    "    \"\"\"\n",
    "\n",
    "    def __init__(self, input_size: int, latent_size: int, batch_size:int, device: str, **kwargs) -> None:\n",
    "        super().__init__()\n",
    "        self.device = device\n",
    "\n",
    "        # Encoder\n",
    "        self.encoder = nn.Sequential(\n",
    "            nn.Conv1d(in_channels=input_size, out_channels=16, kernel_size=3, dilation=1, padding=2*1),  # Input size [batch_size, input_size = 3, 300] Output_size = [batch_size, 16, 302]\n",
    "            nn.ReLU(inplace=True),\n",
    "            nn.Conv1d(in_channels=16, out_channels=32, kernel_size=3, dilation=1, padding=2*1),  # Input size [batch_size, input_size = 16, 302] Output_size = [batch_size, 32, 304]\n",
    "            nn.ReLU(inplace=True),\n",
    "            nn.Conv1d(in_channels=32, out_channels=64, kernel_size=3, dilation=1, padding=2*1), # Input size [batch_size, input_size = 32, 304] Output_size = [batch_size, 64, 306]\n",
    "            nn.ReLU(inplace=True),\n",
    "            )\n",
    "\n",
    "        self.linear = nn.Linear(in_features=batch_size*306, out_features=64)\n",
    "\n",
    "        # Linear layers for encoding mean and logvar\n",
    "        self.encode_mean = nn.Linear(in_features=64, out_features=latent_size)\n",
    "        self.encode_logvar = nn.Linear(in_features=64, out_features=latent_size)\n",
    "\n",
    "        # Decoder input layer\n",
    "        self.decoder_input = nn.Linear(in_features=latent_size, out_features=64)\n",
    "\n",
    "        # Decoder with transposed convolutions (ConvTranspose1d)\n",
    "\n",
    "        self.decoder = nn.Sequential(\n",
    "            nn.ConvTranspose1d(in_channels=64, out_channels=32, kernel_size=3, padding=2*1),\n",
    "            nn.ReLU(),\n",
    "            nn.ConvTranspose1d(in_channels=32, out_channels=16, kernel_size=3, padding=2*1),\n",
    "            nn.ReLU(),\n",
    "            nn.ConvTranspose1d(in_channels=16, out_channels=3, kernel_size=3, padding=2*1)  # Output size [batch_size, 3, input_size]\n",
    "        )\n",
    "\n",
    "        self.to(self.device)\n",
    "\n",
    "    def encode(self, x):\n",
    "        print('Shape pre-encoder', x.shape)\n",
    "        x = self.encoder(x)\n",
    "        print('Shape Encoder:',x.shape)\n",
    "        x = x.view(64, -1) # Flatten the output, keeping batch dimension\n",
    "        #print('Shape after flattening:', x.shape)\n",
    "        x = self.linear(x)\n",
    "        mu, log_var = self.encode_mean(x), self.encode_logvar(x)\n",
    "        print('Shape mu:',mu.shape)\n",
    "        print('Shape log_var:',log_var.shape)\n",
    "        return mu, log_var\n",
    "\n",
    "    def decode(self, z: torch.Tensor) -> torch.Tensor:\n",
    "        result = self.decoder_input(z)\n",
    "        result = self.decoder(result)\n",
    "        return result\n",
    "\n",
    "    def reparameterize(self, mu: torch.Tensor, logvar: torch.Tensor) -> torch.Tensor:\n",
    "        std = torch.exp(0.5 * logvar)\n",
    "        eps = torch.randn_like(std)\n",
    "        return mu + eps * std\n",
    "\n",
    "    def forward(self, input: torch.Tensor, **kwargs) -> list:\n",
    "        print('Shape input:',input.shape)\n",
    "        mu, log_var = self.encode(input)\n",
    "        print('Shape mu:',mu.shape)\n",
    "        print('Shape log_var:',log_var.shape)\n",
    "        z = self.reparameterize(mu, log_var)\n",
    "        return [self.decode(z), input, mu, log_var]\n",
    "\n",
    "    def obtain_results(self, light_curves):\n",
    "\n",
    "        data = _get_data(light_curves)\n",
    "        print('Paso el Get data')\n",
    "\n",
    "        # Encode the light_curves\n",
    "        encoding_mu, encoding_logvar = self.encode(data['input_data'])\n",
    "        #print(encoding_mu)\n",
    "        #print(encoding_logvar)\n",
    "\n",
    "        time = data['compare_data'][:,0]\n",
    "        obs_flux = data['compare_data'][:, 1]\n",
    "        obs_fluxerr = data['compare_data'][:, 2]\n",
    "        obs_weight = data['compare_data'][:, 3]\n",
    "\n",
    "        results ={\n",
    "            'redshift': data['redshift'],\n",
    "            'time': time,\n",
    "            'obs_flux': obs_flux,\n",
    "            'obs_fluxerr': obs_fluxerr,\n",
    "            'obs_weight': obs_weight,\n",
    "            'fid': data['fid'],\n",
    "            'encoding_mu': encoding_mu,\n",
    "            'encoding_logvar': encoding_logvar,\n",
    "        }\n",
    "\n",
    "        #results = {k:v.detach().cpu().numpy() for k,v in results.items()}\n",
    "        #results = {k:v.detach().cpu().numpy() for k,v in results.items()}\n",
    "\n",
    "        return results"
   ]
  },
  {
   "cell_type": "code",
   "execution_count": 44,
   "metadata": {},
   "outputs": [],
   "source": [
    "input_size = 5 # input_size = 2 * N_bands + 1 -> 2: flux and error 1 for redshift.\n",
    "h_dim = 200\n",
    "z_dim = 20\n",
    "num_epoch = 1\n",
    "batch_size = 32\n",
    "learning_rate = 1e-4\n",
    "\n",
    "#model = ModelV0(input_size=input_size, hidden_dim=h_dim, latent_size=z_dim, device=device)\n",
    "model = ModelV1(input_size = input_size, latent_size = z_dim, batch_size=batch_size, device=device)\n",
    "optimizer = torch.optim.Adam(model.parameters(), lr=learning_rate)\n",
    "\n",
    "\n",
    "train_loader = DataLoader(train_pandas_dataset, batch_size=batch_size, collate_fn=list, shuffle=True)\n",
    "train_loader_synthetic = DataLoader(train_pandas_dataset_synthetic, batch_size=batch_size, collate_fn=list, shuffle=False)\n",
    "\n",
    "test_loader = DataLoader(test_pandas_dataset, batch_size=batch_size, collate_fn=list, shuffle=True)\n",
    "test_loader_synthetic = DataLoader(test_pandas_dataset_synthetic, batch_size=batch_size, collate_fn=list, shuffle=False)\n",
    "\n",
    "#train_loader = DataLoader(train_pandas_dataset, batch_size=batch_size, collate_fn=list, shuffle=True)\n",
    "#test_loader = DataLoader(test_pandas_dataset, batch_size=batch_size, collate_fn=list, shuffle=True)"
   ]
  },
  {
   "cell_type": "code",
   "execution_count": 45,
   "metadata": {},
   "outputs": [
    {
     "data": {
      "text/plain": [
       "=================================================================\n",
       "Layer (type:depth-idx)                   Param #\n",
       "=================================================================\n",
       "ModelV1                                  --\n",
       "├─Sequential: 1-1                        --\n",
       "│    └─Conv1d: 2-1                       256\n",
       "│    └─ReLU: 2-2                         --\n",
       "│    └─Conv1d: 2-3                       1,568\n",
       "│    └─ReLU: 2-4                         --\n",
       "│    └─Conv1d: 2-5                       6,208\n",
       "│    └─ReLU: 2-6                         --\n",
       "├─Linear: 1-2                            626,752\n",
       "├─Linear: 1-3                            1,300\n",
       "├─Linear: 1-4                            1,300\n",
       "├─Linear: 1-5                            1,344\n",
       "├─Sequential: 1-6                        --\n",
       "│    └─ConvTranspose1d: 2-7              6,176\n",
       "│    └─ReLU: 2-8                         --\n",
       "│    └─ConvTranspose1d: 2-9              1,552\n",
       "│    └─ReLU: 2-10                        --\n",
       "│    └─ConvTranspose1d: 2-11             147\n",
       "=================================================================\n",
       "Total params: 646,603\n",
       "Trainable params: 646,603\n",
       "Non-trainable params: 0\n",
       "================================================================="
      ]
     },
     "execution_count": 45,
     "metadata": {},
     "output_type": "execute_result"
    }
   ],
   "source": [
    "from torchinfo import summary\n",
    "summary(model)"
   ]
  },
  {
   "cell_type": "code",
   "execution_count": 46,
   "metadata": {},
   "outputs": [],
   "source": [
    "def loss_function(results):\n",
    "\n",
    "#     print('X_reconstructed:\\nType:',type(X_reconstructed),\\\n",
    "#           '\\nShape:',X_reconstructed.shape)\n",
    "#     print('X_weights:\\nType',type(X_weights),\\\n",
    "#           '\\nShape:',X_weights.shape)\n",
    "      nll = (0.5 * torch.tensor(results['obs_weight']) * torch.tensor(results['obs_flux'])**2)\n",
    "      kld = -0.5 * (1 + torch.tensor(results['encoding_logvar'], requires_grad=True)\n",
    "                      - torch.tensor(results['encoding_mu'], requires_grad=True)**2\n",
    "                      - torch.exp(torch.tensor(results['encoding_logvar'], requires_grad=True)))\n",
    "\n",
    "      nll = torch.sum(nll)\n",
    "      #print(nll)\n",
    "      kl_div = torch.sum(kld)\n",
    "      #print(kl_div)\n",
    "\n",
    "      return nll + kl_div"
   ]
  },
  {
   "cell_type": "code",
   "execution_count": 47,
   "metadata": {},
   "outputs": [],
   "source": [
    "def replace_nan_grads(parameters, value=0.0):\n",
    "    \"\"\"Replace NaN gradients\n",
    "\n",
    "    Parameters\n",
    "    ----------\n",
    "    parameters : Iterator[torch.Tensor]\n",
    "        Model parameters, usually you can get them by `model.parameters()`\n",
    "    value : float, optional\n",
    "        Value to replace NaNs with\n",
    "    \"\"\"\n",
    "    for p in parameters:\n",
    "        if p.grad is None:\n",
    "            continue\n",
    "        grads = p.grad.data\n",
    "        grads[torch.isnan(grads)] = value"
   ]
  },
  {
   "cell_type": "code",
   "execution_count": 65,
   "metadata": {},
   "outputs": [
    {
     "name": "stderr",
     "output_type": "stream",
     "text": [
      "  0%|          | 0/1 [00:00<?, ?it/s]"
     ]
    },
    {
     "name": "stdout",
     "output_type": "stream",
     "text": [
      "0\n",
      "Comenzo get_data\n",
      "Grid shape: (32, 2, 300)\n",
      "Paso el Get data\n",
      "Shape pre-encoder torch.Size([32, 5, 300])\n",
      "Shape Encoder: torch.Size([32, 64, 306])\n",
      "Shape mu: torch.Size([64, 20])\n",
      "Shape log_var: torch.Size([64, 20])\n"
     ]
    },
    {
     "name": "stderr",
     "output_type": "stream",
     "text": [
      "/tmp/ipykernel_5342/3808935312.py:7: UserWarning: To copy construct from a tensor, it is recommended to use sourceTensor.clone().detach() or sourceTensor.clone().detach().requires_grad_(True), rather than torch.tensor(sourceTensor).\n",
      "  nll = (0.5 * torch.tensor(results['obs_weight']) * torch.tensor(results['obs_flux'])**2)\n",
      "/tmp/ipykernel_5342/3808935312.py:8: UserWarning: To copy construct from a tensor, it is recommended to use sourceTensor.clone().detach() or sourceTensor.clone().detach().requires_grad_(True), rather than torch.tensor(sourceTensor).\n",
      "  kld = -0.5 * (1 + torch.tensor(results['encoding_logvar'], requires_grad=True)\n",
      "/tmp/ipykernel_5342/3808935312.py:9: UserWarning: To copy construct from a tensor, it is recommended to use sourceTensor.clone().detach() or sourceTensor.clone().detach().requires_grad_(True), rather than torch.tensor(sourceTensor).\n",
      "  - torch.tensor(results['encoding_mu'], requires_grad=True)**2\n",
      "/tmp/ipykernel_5342/3808935312.py:10: UserWarning: To copy construct from a tensor, it is recommended to use sourceTensor.clone().detach() or sourceTensor.clone().detach().requires_grad_(True), rather than torch.tensor(sourceTensor).\n",
      "  - torch.exp(torch.tensor(results['encoding_logvar'], requires_grad=True)))\n"
     ]
    },
    {
     "name": "stdout",
     "output_type": "stream",
     "text": [
      "1\n",
      "Comenzo get_data\n",
      "Grid shape: (32, 2, 300)\n",
      "Paso el Get data\n",
      "Shape pre-encoder torch.Size([32, 5, 300])\n",
      "Shape Encoder: torch.Size([32, 64, 306])\n",
      "Shape mu: torch.Size([64, 20])\n",
      "Shape log_var: torch.Size([64, 20])\n"
     ]
    },
    {
     "name": "stderr",
     "output_type": "stream",
     "text": [
      "/tmp/ipykernel_5342/3808935312.py:7: UserWarning: To copy construct from a tensor, it is recommended to use sourceTensor.clone().detach() or sourceTensor.clone().detach().requires_grad_(True), rather than torch.tensor(sourceTensor).\n",
      "  nll = (0.5 * torch.tensor(results['obs_weight']) * torch.tensor(results['obs_flux'])**2)\n",
      "/tmp/ipykernel_5342/3808935312.py:8: UserWarning: To copy construct from a tensor, it is recommended to use sourceTensor.clone().detach() or sourceTensor.clone().detach().requires_grad_(True), rather than torch.tensor(sourceTensor).\n",
      "  kld = -0.5 * (1 + torch.tensor(results['encoding_logvar'], requires_grad=True)\n",
      "/tmp/ipykernel_5342/3808935312.py:9: UserWarning: To copy construct from a tensor, it is recommended to use sourceTensor.clone().detach() or sourceTensor.clone().detach().requires_grad_(True), rather than torch.tensor(sourceTensor).\n",
      "  - torch.tensor(results['encoding_mu'], requires_grad=True)**2\n",
      "/tmp/ipykernel_5342/3808935312.py:10: UserWarning: To copy construct from a tensor, it is recommended to use sourceTensor.clone().detach() or sourceTensor.clone().detach().requires_grad_(True), rather than torch.tensor(sourceTensor).\n",
      "  - torch.exp(torch.tensor(results['encoding_logvar'], requires_grad=True)))\n"
     ]
    },
    {
     "name": "stdout",
     "output_type": "stream",
     "text": [
      "2\n",
      "Comenzo get_data\n",
      "Grid shape: (32, 2, 300)\n",
      "Paso el Get data\n",
      "Shape pre-encoder torch.Size([32, 5, 300])\n",
      "Shape Encoder: torch.Size([32, 64, 306])\n",
      "Shape mu: torch.Size([64, 20])\n",
      "Shape log_var: torch.Size([64, 20])\n"
     ]
    },
    {
     "name": "stderr",
     "output_type": "stream",
     "text": [
      "/tmp/ipykernel_5342/3808935312.py:7: UserWarning: To copy construct from a tensor, it is recommended to use sourceTensor.clone().detach() or sourceTensor.clone().detach().requires_grad_(True), rather than torch.tensor(sourceTensor).\n",
      "  nll = (0.5 * torch.tensor(results['obs_weight']) * torch.tensor(results['obs_flux'])**2)\n",
      "/tmp/ipykernel_5342/3808935312.py:8: UserWarning: To copy construct from a tensor, it is recommended to use sourceTensor.clone().detach() or sourceTensor.clone().detach().requires_grad_(True), rather than torch.tensor(sourceTensor).\n",
      "  kld = -0.5 * (1 + torch.tensor(results['encoding_logvar'], requires_grad=True)\n",
      "/tmp/ipykernel_5342/3808935312.py:9: UserWarning: To copy construct from a tensor, it is recommended to use sourceTensor.clone().detach() or sourceTensor.clone().detach().requires_grad_(True), rather than torch.tensor(sourceTensor).\n",
      "  - torch.tensor(results['encoding_mu'], requires_grad=True)**2\n",
      "/tmp/ipykernel_5342/3808935312.py:10: UserWarning: To copy construct from a tensor, it is recommended to use sourceTensor.clone().detach() or sourceTensor.clone().detach().requires_grad_(True), rather than torch.tensor(sourceTensor).\n",
      "  - torch.exp(torch.tensor(results['encoding_logvar'], requires_grad=True)))\n"
     ]
    },
    {
     "name": "stdout",
     "output_type": "stream",
     "text": [
      "3\n",
      "Comenzo get_data\n",
      "Grid shape: (32, 2, 300)\n",
      "Paso el Get data\n",
      "Shape pre-encoder torch.Size([32, 5, 300])\n",
      "Shape Encoder: torch.Size([32, 64, 306])\n",
      "Shape mu: torch.Size([64, 20])\n",
      "Shape log_var: torch.Size([64, 20])\n"
     ]
    },
    {
     "name": "stderr",
     "output_type": "stream",
     "text": [
      "/tmp/ipykernel_5342/3808935312.py:7: UserWarning: To copy construct from a tensor, it is recommended to use sourceTensor.clone().detach() or sourceTensor.clone().detach().requires_grad_(True), rather than torch.tensor(sourceTensor).\n",
      "  nll = (0.5 * torch.tensor(results['obs_weight']) * torch.tensor(results['obs_flux'])**2)\n",
      "/tmp/ipykernel_5342/3808935312.py:8: UserWarning: To copy construct from a tensor, it is recommended to use sourceTensor.clone().detach() or sourceTensor.clone().detach().requires_grad_(True), rather than torch.tensor(sourceTensor).\n",
      "  kld = -0.5 * (1 + torch.tensor(results['encoding_logvar'], requires_grad=True)\n",
      "/tmp/ipykernel_5342/3808935312.py:9: UserWarning: To copy construct from a tensor, it is recommended to use sourceTensor.clone().detach() or sourceTensor.clone().detach().requires_grad_(True), rather than torch.tensor(sourceTensor).\n",
      "  - torch.tensor(results['encoding_mu'], requires_grad=True)**2\n",
      "/tmp/ipykernel_5342/3808935312.py:10: UserWarning: To copy construct from a tensor, it is recommended to use sourceTensor.clone().detach() or sourceTensor.clone().detach().requires_grad_(True), rather than torch.tensor(sourceTensor).\n",
      "  - torch.exp(torch.tensor(results['encoding_logvar'], requires_grad=True)))\n"
     ]
    },
    {
     "name": "stdout",
     "output_type": "stream",
     "text": [
      "4\n",
      "Comenzo get_data\n",
      "Grid shape: (32, 2, 300)\n",
      "Paso el Get data\n",
      "Shape pre-encoder torch.Size([32, 5, 300])\n",
      "Shape Encoder: torch.Size([32, 64, 306])\n",
      "Shape mu: torch.Size([64, 20])\n",
      "Shape log_var: torch.Size([64, 20])\n"
     ]
    },
    {
     "name": "stderr",
     "output_type": "stream",
     "text": [
      "/tmp/ipykernel_5342/3808935312.py:7: UserWarning: To copy construct from a tensor, it is recommended to use sourceTensor.clone().detach() or sourceTensor.clone().detach().requires_grad_(True), rather than torch.tensor(sourceTensor).\n",
      "  nll = (0.5 * torch.tensor(results['obs_weight']) * torch.tensor(results['obs_flux'])**2)\n",
      "/tmp/ipykernel_5342/3808935312.py:8: UserWarning: To copy construct from a tensor, it is recommended to use sourceTensor.clone().detach() or sourceTensor.clone().detach().requires_grad_(True), rather than torch.tensor(sourceTensor).\n",
      "  kld = -0.5 * (1 + torch.tensor(results['encoding_logvar'], requires_grad=True)\n",
      "/tmp/ipykernel_5342/3808935312.py:9: UserWarning: To copy construct from a tensor, it is recommended to use sourceTensor.clone().detach() or sourceTensor.clone().detach().requires_grad_(True), rather than torch.tensor(sourceTensor).\n",
      "  - torch.tensor(results['encoding_mu'], requires_grad=True)**2\n",
      "/tmp/ipykernel_5342/3808935312.py:10: UserWarning: To copy construct from a tensor, it is recommended to use sourceTensor.clone().detach() or sourceTensor.clone().detach().requires_grad_(True), rather than torch.tensor(sourceTensor).\n",
      "  - torch.exp(torch.tensor(results['encoding_logvar'], requires_grad=True)))\n"
     ]
    },
    {
     "name": "stdout",
     "output_type": "stream",
     "text": [
      "5\n",
      "Comenzo get_data\n",
      "Grid shape: (32, 2, 300)\n",
      "Paso el Get data\n",
      "Shape pre-encoder torch.Size([32, 5, 300])\n",
      "Shape Encoder: torch.Size([32, 64, 306])\n",
      "Shape mu: torch.Size([64, 20])\n",
      "Shape log_var: torch.Size([64, 20])\n"
     ]
    },
    {
     "name": "stderr",
     "output_type": "stream",
     "text": [
      "/tmp/ipykernel_5342/3808935312.py:7: UserWarning: To copy construct from a tensor, it is recommended to use sourceTensor.clone().detach() or sourceTensor.clone().detach().requires_grad_(True), rather than torch.tensor(sourceTensor).\n",
      "  nll = (0.5 * torch.tensor(results['obs_weight']) * torch.tensor(results['obs_flux'])**2)\n",
      "/tmp/ipykernel_5342/3808935312.py:8: UserWarning: To copy construct from a tensor, it is recommended to use sourceTensor.clone().detach() or sourceTensor.clone().detach().requires_grad_(True), rather than torch.tensor(sourceTensor).\n",
      "  kld = -0.5 * (1 + torch.tensor(results['encoding_logvar'], requires_grad=True)\n",
      "/tmp/ipykernel_5342/3808935312.py:9: UserWarning: To copy construct from a tensor, it is recommended to use sourceTensor.clone().detach() or sourceTensor.clone().detach().requires_grad_(True), rather than torch.tensor(sourceTensor).\n",
      "  - torch.tensor(results['encoding_mu'], requires_grad=True)**2\n",
      "/tmp/ipykernel_5342/3808935312.py:10: UserWarning: To copy construct from a tensor, it is recommended to use sourceTensor.clone().detach() or sourceTensor.clone().detach().requires_grad_(True), rather than torch.tensor(sourceTensor).\n",
      "  - torch.exp(torch.tensor(results['encoding_logvar'], requires_grad=True)))\n"
     ]
    },
    {
     "name": "stdout",
     "output_type": "stream",
     "text": [
      "6\n",
      "Comenzo get_data\n",
      "Grid shape: (32, 2, 300)\n",
      "Paso el Get data\n",
      "Shape pre-encoder torch.Size([32, 5, 300])\n",
      "Shape Encoder: torch.Size([32, 64, 306])\n",
      "Shape mu: torch.Size([64, 20])\n",
      "Shape log_var: torch.Size([64, 20])\n"
     ]
    },
    {
     "name": "stderr",
     "output_type": "stream",
     "text": [
      "/tmp/ipykernel_5342/3808935312.py:7: UserWarning: To copy construct from a tensor, it is recommended to use sourceTensor.clone().detach() or sourceTensor.clone().detach().requires_grad_(True), rather than torch.tensor(sourceTensor).\n",
      "  nll = (0.5 * torch.tensor(results['obs_weight']) * torch.tensor(results['obs_flux'])**2)\n",
      "/tmp/ipykernel_5342/3808935312.py:8: UserWarning: To copy construct from a tensor, it is recommended to use sourceTensor.clone().detach() or sourceTensor.clone().detach().requires_grad_(True), rather than torch.tensor(sourceTensor).\n",
      "  kld = -0.5 * (1 + torch.tensor(results['encoding_logvar'], requires_grad=True)\n",
      "/tmp/ipykernel_5342/3808935312.py:9: UserWarning: To copy construct from a tensor, it is recommended to use sourceTensor.clone().detach() or sourceTensor.clone().detach().requires_grad_(True), rather than torch.tensor(sourceTensor).\n",
      "  - torch.tensor(results['encoding_mu'], requires_grad=True)**2\n",
      "/tmp/ipykernel_5342/3808935312.py:10: UserWarning: To copy construct from a tensor, it is recommended to use sourceTensor.clone().detach() or sourceTensor.clone().detach().requires_grad_(True), rather than torch.tensor(sourceTensor).\n",
      "  - torch.exp(torch.tensor(results['encoding_logvar'], requires_grad=True)))\n"
     ]
    },
    {
     "name": "stdout",
     "output_type": "stream",
     "text": [
      "7\n",
      "Comenzo get_data\n",
      "Grid shape: (32, 2, 300)\n",
      "Paso el Get data\n",
      "Shape pre-encoder torch.Size([32, 5, 300])\n",
      "Shape Encoder: torch.Size([32, 64, 306])\n",
      "Shape mu: torch.Size([64, 20])\n",
      "Shape log_var: torch.Size([64, 20])\n"
     ]
    },
    {
     "name": "stderr",
     "output_type": "stream",
     "text": [
      "/tmp/ipykernel_5342/3808935312.py:7: UserWarning: To copy construct from a tensor, it is recommended to use sourceTensor.clone().detach() or sourceTensor.clone().detach().requires_grad_(True), rather than torch.tensor(sourceTensor).\n",
      "  nll = (0.5 * torch.tensor(results['obs_weight']) * torch.tensor(results['obs_flux'])**2)\n",
      "/tmp/ipykernel_5342/3808935312.py:8: UserWarning: To copy construct from a tensor, it is recommended to use sourceTensor.clone().detach() or sourceTensor.clone().detach().requires_grad_(True), rather than torch.tensor(sourceTensor).\n",
      "  kld = -0.5 * (1 + torch.tensor(results['encoding_logvar'], requires_grad=True)\n",
      "/tmp/ipykernel_5342/3808935312.py:9: UserWarning: To copy construct from a tensor, it is recommended to use sourceTensor.clone().detach() or sourceTensor.clone().detach().requires_grad_(True), rather than torch.tensor(sourceTensor).\n",
      "  - torch.tensor(results['encoding_mu'], requires_grad=True)**2\n",
      "/tmp/ipykernel_5342/3808935312.py:10: UserWarning: To copy construct from a tensor, it is recommended to use sourceTensor.clone().detach() or sourceTensor.clone().detach().requires_grad_(True), rather than torch.tensor(sourceTensor).\n",
      "  - torch.exp(torch.tensor(results['encoding_logvar'], requires_grad=True)))\n"
     ]
    },
    {
     "name": "stdout",
     "output_type": "stream",
     "text": [
      "8\n",
      "Comenzo get_data\n",
      "Grid shape: (32, 2, 300)\n",
      "Paso el Get data\n",
      "Shape pre-encoder torch.Size([32, 5, 300])\n",
      "Shape Encoder: torch.Size([32, 64, 306])\n",
      "Shape mu: torch.Size([64, 20])\n",
      "Shape log_var: torch.Size([64, 20])\n"
     ]
    },
    {
     "name": "stderr",
     "output_type": "stream",
     "text": [
      "/tmp/ipykernel_5342/3808935312.py:7: UserWarning: To copy construct from a tensor, it is recommended to use sourceTensor.clone().detach() or sourceTensor.clone().detach().requires_grad_(True), rather than torch.tensor(sourceTensor).\n",
      "  nll = (0.5 * torch.tensor(results['obs_weight']) * torch.tensor(results['obs_flux'])**2)\n",
      "/tmp/ipykernel_5342/3808935312.py:8: UserWarning: To copy construct from a tensor, it is recommended to use sourceTensor.clone().detach() or sourceTensor.clone().detach().requires_grad_(True), rather than torch.tensor(sourceTensor).\n",
      "  kld = -0.5 * (1 + torch.tensor(results['encoding_logvar'], requires_grad=True)\n",
      "/tmp/ipykernel_5342/3808935312.py:9: UserWarning: To copy construct from a tensor, it is recommended to use sourceTensor.clone().detach() or sourceTensor.clone().detach().requires_grad_(True), rather than torch.tensor(sourceTensor).\n",
      "  - torch.tensor(results['encoding_mu'], requires_grad=True)**2\n",
      "/tmp/ipykernel_5342/3808935312.py:10: UserWarning: To copy construct from a tensor, it is recommended to use sourceTensor.clone().detach() or sourceTensor.clone().detach().requires_grad_(True), rather than torch.tensor(sourceTensor).\n",
      "  - torch.exp(torch.tensor(results['encoding_logvar'], requires_grad=True)))\n"
     ]
    },
    {
     "name": "stdout",
     "output_type": "stream",
     "text": [
      "9\n",
      "Comenzo get_data\n",
      "Grid shape: (32, 2, 300)\n",
      "Paso el Get data\n",
      "Shape pre-encoder torch.Size([32, 5, 300])\n",
      "Shape Encoder: torch.Size([32, 64, 306])\n",
      "Shape mu: torch.Size([64, 20])\n",
      "Shape log_var: torch.Size([64, 20])\n"
     ]
    },
    {
     "name": "stderr",
     "output_type": "stream",
     "text": [
      "/tmp/ipykernel_5342/3808935312.py:7: UserWarning: To copy construct from a tensor, it is recommended to use sourceTensor.clone().detach() or sourceTensor.clone().detach().requires_grad_(True), rather than torch.tensor(sourceTensor).\n",
      "  nll = (0.5 * torch.tensor(results['obs_weight']) * torch.tensor(results['obs_flux'])**2)\n",
      "/tmp/ipykernel_5342/3808935312.py:8: UserWarning: To copy construct from a tensor, it is recommended to use sourceTensor.clone().detach() or sourceTensor.clone().detach().requires_grad_(True), rather than torch.tensor(sourceTensor).\n",
      "  kld = -0.5 * (1 + torch.tensor(results['encoding_logvar'], requires_grad=True)\n",
      "/tmp/ipykernel_5342/3808935312.py:9: UserWarning: To copy construct from a tensor, it is recommended to use sourceTensor.clone().detach() or sourceTensor.clone().detach().requires_grad_(True), rather than torch.tensor(sourceTensor).\n",
      "  - torch.tensor(results['encoding_mu'], requires_grad=True)**2\n",
      "/tmp/ipykernel_5342/3808935312.py:10: UserWarning: To copy construct from a tensor, it is recommended to use sourceTensor.clone().detach() or sourceTensor.clone().detach().requires_grad_(True), rather than torch.tensor(sourceTensor).\n",
      "  - torch.exp(torch.tensor(results['encoding_logvar'], requires_grad=True)))\n"
     ]
    },
    {
     "name": "stdout",
     "output_type": "stream",
     "text": [
      "10\n",
      "Comenzo get_data\n",
      "Grid shape: (32, 2, 300)\n",
      "Paso el Get data\n",
      "Shape pre-encoder torch.Size([32, 5, 300])\n",
      "Shape Encoder: torch.Size([32, 64, 306])\n",
      "Shape mu: torch.Size([64, 20])\n",
      "Shape log_var: torch.Size([64, 20])\n"
     ]
    },
    {
     "name": "stderr",
     "output_type": "stream",
     "text": [
      "/tmp/ipykernel_5342/3808935312.py:7: UserWarning: To copy construct from a tensor, it is recommended to use sourceTensor.clone().detach() or sourceTensor.clone().detach().requires_grad_(True), rather than torch.tensor(sourceTensor).\n",
      "  nll = (0.5 * torch.tensor(results['obs_weight']) * torch.tensor(results['obs_flux'])**2)\n",
      "/tmp/ipykernel_5342/3808935312.py:8: UserWarning: To copy construct from a tensor, it is recommended to use sourceTensor.clone().detach() or sourceTensor.clone().detach().requires_grad_(True), rather than torch.tensor(sourceTensor).\n",
      "  kld = -0.5 * (1 + torch.tensor(results['encoding_logvar'], requires_grad=True)\n",
      "/tmp/ipykernel_5342/3808935312.py:9: UserWarning: To copy construct from a tensor, it is recommended to use sourceTensor.clone().detach() or sourceTensor.clone().detach().requires_grad_(True), rather than torch.tensor(sourceTensor).\n",
      "  - torch.tensor(results['encoding_mu'], requires_grad=True)**2\n",
      "/tmp/ipykernel_5342/3808935312.py:10: UserWarning: To copy construct from a tensor, it is recommended to use sourceTensor.clone().detach() or sourceTensor.clone().detach().requires_grad_(True), rather than torch.tensor(sourceTensor).\n",
      "  - torch.exp(torch.tensor(results['encoding_logvar'], requires_grad=True)))\n"
     ]
    },
    {
     "name": "stdout",
     "output_type": "stream",
     "text": [
      "11\n",
      "Comenzo get_data\n",
      "Grid shape: (32, 2, 300)\n",
      "Paso el Get data\n",
      "Shape pre-encoder torch.Size([32, 5, 300])\n",
      "Shape Encoder: torch.Size([32, 64, 306])\n",
      "Shape mu: torch.Size([64, 20])\n",
      "Shape log_var: torch.Size([64, 20])\n"
     ]
    },
    {
     "name": "stderr",
     "output_type": "stream",
     "text": [
      "/tmp/ipykernel_5342/3808935312.py:7: UserWarning: To copy construct from a tensor, it is recommended to use sourceTensor.clone().detach() or sourceTensor.clone().detach().requires_grad_(True), rather than torch.tensor(sourceTensor).\n",
      "  nll = (0.5 * torch.tensor(results['obs_weight']) * torch.tensor(results['obs_flux'])**2)\n",
      "/tmp/ipykernel_5342/3808935312.py:8: UserWarning: To copy construct from a tensor, it is recommended to use sourceTensor.clone().detach() or sourceTensor.clone().detach().requires_grad_(True), rather than torch.tensor(sourceTensor).\n",
      "  kld = -0.5 * (1 + torch.tensor(results['encoding_logvar'], requires_grad=True)\n",
      "/tmp/ipykernel_5342/3808935312.py:9: UserWarning: To copy construct from a tensor, it is recommended to use sourceTensor.clone().detach() or sourceTensor.clone().detach().requires_grad_(True), rather than torch.tensor(sourceTensor).\n",
      "  - torch.tensor(results['encoding_mu'], requires_grad=True)**2\n",
      "/tmp/ipykernel_5342/3808935312.py:10: UserWarning: To copy construct from a tensor, it is recommended to use sourceTensor.clone().detach() or sourceTensor.clone().detach().requires_grad_(True), rather than torch.tensor(sourceTensor).\n",
      "  - torch.exp(torch.tensor(results['encoding_logvar'], requires_grad=True)))\n"
     ]
    },
    {
     "name": "stdout",
     "output_type": "stream",
     "text": [
      "12\n",
      "Comenzo get_data\n",
      "Grid shape: (32, 2, 300)\n",
      "Paso el Get data\n",
      "Shape pre-encoder torch.Size([32, 5, 300])\n",
      "Shape Encoder: torch.Size([32, 64, 306])\n",
      "Shape mu: torch.Size([64, 20])\n",
      "Shape log_var: torch.Size([64, 20])\n"
     ]
    },
    {
     "name": "stderr",
     "output_type": "stream",
     "text": [
      "/tmp/ipykernel_5342/3808935312.py:7: UserWarning: To copy construct from a tensor, it is recommended to use sourceTensor.clone().detach() or sourceTensor.clone().detach().requires_grad_(True), rather than torch.tensor(sourceTensor).\n",
      "  nll = (0.5 * torch.tensor(results['obs_weight']) * torch.tensor(results['obs_flux'])**2)\n",
      "/tmp/ipykernel_5342/3808935312.py:8: UserWarning: To copy construct from a tensor, it is recommended to use sourceTensor.clone().detach() or sourceTensor.clone().detach().requires_grad_(True), rather than torch.tensor(sourceTensor).\n",
      "  kld = -0.5 * (1 + torch.tensor(results['encoding_logvar'], requires_grad=True)\n",
      "/tmp/ipykernel_5342/3808935312.py:9: UserWarning: To copy construct from a tensor, it is recommended to use sourceTensor.clone().detach() or sourceTensor.clone().detach().requires_grad_(True), rather than torch.tensor(sourceTensor).\n",
      "  - torch.tensor(results['encoding_mu'], requires_grad=True)**2\n",
      "/tmp/ipykernel_5342/3808935312.py:10: UserWarning: To copy construct from a tensor, it is recommended to use sourceTensor.clone().detach() or sourceTensor.clone().detach().requires_grad_(True), rather than torch.tensor(sourceTensor).\n",
      "  - torch.exp(torch.tensor(results['encoding_logvar'], requires_grad=True)))\n"
     ]
    },
    {
     "name": "stdout",
     "output_type": "stream",
     "text": [
      "13\n",
      "Comenzo get_data\n",
      "Grid shape: (32, 2, 300)\n",
      "Paso el Get data\n",
      "Shape pre-encoder torch.Size([32, 5, 300])\n",
      "Shape Encoder: torch.Size([32, 64, 306])\n",
      "Shape mu: torch.Size([64, 20])\n",
      "Shape log_var: torch.Size([64, 20])\n"
     ]
    },
    {
     "name": "stderr",
     "output_type": "stream",
     "text": [
      "/tmp/ipykernel_5342/3808935312.py:7: UserWarning: To copy construct from a tensor, it is recommended to use sourceTensor.clone().detach() or sourceTensor.clone().detach().requires_grad_(True), rather than torch.tensor(sourceTensor).\n",
      "  nll = (0.5 * torch.tensor(results['obs_weight']) * torch.tensor(results['obs_flux'])**2)\n",
      "/tmp/ipykernel_5342/3808935312.py:8: UserWarning: To copy construct from a tensor, it is recommended to use sourceTensor.clone().detach() or sourceTensor.clone().detach().requires_grad_(True), rather than torch.tensor(sourceTensor).\n",
      "  kld = -0.5 * (1 + torch.tensor(results['encoding_logvar'], requires_grad=True)\n",
      "/tmp/ipykernel_5342/3808935312.py:9: UserWarning: To copy construct from a tensor, it is recommended to use sourceTensor.clone().detach() or sourceTensor.clone().detach().requires_grad_(True), rather than torch.tensor(sourceTensor).\n",
      "  - torch.tensor(results['encoding_mu'], requires_grad=True)**2\n",
      "/tmp/ipykernel_5342/3808935312.py:10: UserWarning: To copy construct from a tensor, it is recommended to use sourceTensor.clone().detach() or sourceTensor.clone().detach().requires_grad_(True), rather than torch.tensor(sourceTensor).\n",
      "  - torch.exp(torch.tensor(results['encoding_logvar'], requires_grad=True)))\n"
     ]
    },
    {
     "name": "stdout",
     "output_type": "stream",
     "text": [
      "14\n",
      "Comenzo get_data\n",
      "Grid shape: (32, 2, 300)\n",
      "Paso el Get data\n",
      "Shape pre-encoder torch.Size([32, 5, 300])\n",
      "Shape Encoder: torch.Size([32, 64, 306])\n",
      "Shape mu: torch.Size([64, 20])\n",
      "Shape log_var: torch.Size([64, 20])\n"
     ]
    },
    {
     "name": "stderr",
     "output_type": "stream",
     "text": [
      "/tmp/ipykernel_5342/3808935312.py:7: UserWarning: To copy construct from a tensor, it is recommended to use sourceTensor.clone().detach() or sourceTensor.clone().detach().requires_grad_(True), rather than torch.tensor(sourceTensor).\n",
      "  nll = (0.5 * torch.tensor(results['obs_weight']) * torch.tensor(results['obs_flux'])**2)\n",
      "/tmp/ipykernel_5342/3808935312.py:8: UserWarning: To copy construct from a tensor, it is recommended to use sourceTensor.clone().detach() or sourceTensor.clone().detach().requires_grad_(True), rather than torch.tensor(sourceTensor).\n",
      "  kld = -0.5 * (1 + torch.tensor(results['encoding_logvar'], requires_grad=True)\n",
      "/tmp/ipykernel_5342/3808935312.py:9: UserWarning: To copy construct from a tensor, it is recommended to use sourceTensor.clone().detach() or sourceTensor.clone().detach().requires_grad_(True), rather than torch.tensor(sourceTensor).\n",
      "  - torch.tensor(results['encoding_mu'], requires_grad=True)**2\n",
      "/tmp/ipykernel_5342/3808935312.py:10: UserWarning: To copy construct from a tensor, it is recommended to use sourceTensor.clone().detach() or sourceTensor.clone().detach().requires_grad_(True), rather than torch.tensor(sourceTensor).\n",
      "  - torch.exp(torch.tensor(results['encoding_logvar'], requires_grad=True)))\n"
     ]
    },
    {
     "name": "stdout",
     "output_type": "stream",
     "text": [
      "15\n",
      "Comenzo get_data\n",
      "Grid shape: (32, 2, 300)\n",
      "Paso el Get data\n",
      "Shape pre-encoder torch.Size([32, 5, 300])\n",
      "Shape Encoder: torch.Size([32, 64, 306])\n",
      "Shape mu: torch.Size([64, 20])\n",
      "Shape log_var: torch.Size([64, 20])\n"
     ]
    },
    {
     "name": "stderr",
     "output_type": "stream",
     "text": [
      "/tmp/ipykernel_5342/3808935312.py:7: UserWarning: To copy construct from a tensor, it is recommended to use sourceTensor.clone().detach() or sourceTensor.clone().detach().requires_grad_(True), rather than torch.tensor(sourceTensor).\n",
      "  nll = (0.5 * torch.tensor(results['obs_weight']) * torch.tensor(results['obs_flux'])**2)\n",
      "/tmp/ipykernel_5342/3808935312.py:8: UserWarning: To copy construct from a tensor, it is recommended to use sourceTensor.clone().detach() or sourceTensor.clone().detach().requires_grad_(True), rather than torch.tensor(sourceTensor).\n",
      "  kld = -0.5 * (1 + torch.tensor(results['encoding_logvar'], requires_grad=True)\n",
      "/tmp/ipykernel_5342/3808935312.py:9: UserWarning: To copy construct from a tensor, it is recommended to use sourceTensor.clone().detach() or sourceTensor.clone().detach().requires_grad_(True), rather than torch.tensor(sourceTensor).\n",
      "  - torch.tensor(results['encoding_mu'], requires_grad=True)**2\n",
      "/tmp/ipykernel_5342/3808935312.py:10: UserWarning: To copy construct from a tensor, it is recommended to use sourceTensor.clone().detach() or sourceTensor.clone().detach().requires_grad_(True), rather than torch.tensor(sourceTensor).\n",
      "  - torch.exp(torch.tensor(results['encoding_logvar'], requires_grad=True)))\n"
     ]
    },
    {
     "name": "stdout",
     "output_type": "stream",
     "text": [
      "16\n",
      "Comenzo get_data\n",
      "Grid shape: (32, 2, 300)\n",
      "Paso el Get data\n",
      "Shape pre-encoder torch.Size([32, 5, 300])\n",
      "Shape Encoder: torch.Size([32, 64, 306])\n",
      "Shape mu: torch.Size([64, 20])\n",
      "Shape log_var: torch.Size([64, 20])\n"
     ]
    },
    {
     "name": "stderr",
     "output_type": "stream",
     "text": [
      "/tmp/ipykernel_5342/3808935312.py:7: UserWarning: To copy construct from a tensor, it is recommended to use sourceTensor.clone().detach() or sourceTensor.clone().detach().requires_grad_(True), rather than torch.tensor(sourceTensor).\n",
      "  nll = (0.5 * torch.tensor(results['obs_weight']) * torch.tensor(results['obs_flux'])**2)\n",
      "/tmp/ipykernel_5342/3808935312.py:8: UserWarning: To copy construct from a tensor, it is recommended to use sourceTensor.clone().detach() or sourceTensor.clone().detach().requires_grad_(True), rather than torch.tensor(sourceTensor).\n",
      "  kld = -0.5 * (1 + torch.tensor(results['encoding_logvar'], requires_grad=True)\n",
      "/tmp/ipykernel_5342/3808935312.py:9: UserWarning: To copy construct from a tensor, it is recommended to use sourceTensor.clone().detach() or sourceTensor.clone().detach().requires_grad_(True), rather than torch.tensor(sourceTensor).\n",
      "  - torch.tensor(results['encoding_mu'], requires_grad=True)**2\n",
      "/tmp/ipykernel_5342/3808935312.py:10: UserWarning: To copy construct from a tensor, it is recommended to use sourceTensor.clone().detach() or sourceTensor.clone().detach().requires_grad_(True), rather than torch.tensor(sourceTensor).\n",
      "  - torch.exp(torch.tensor(results['encoding_logvar'], requires_grad=True)))\n"
     ]
    },
    {
     "name": "stdout",
     "output_type": "stream",
     "text": [
      "17\n",
      "Comenzo get_data\n",
      "Grid shape: (32, 2, 300)\n",
      "Paso el Get data\n",
      "Shape pre-encoder torch.Size([32, 5, 300])\n",
      "Shape Encoder: torch.Size([32, 64, 306])\n",
      "Shape mu: torch.Size([64, 20])\n",
      "Shape log_var: torch.Size([64, 20])\n"
     ]
    },
    {
     "name": "stderr",
     "output_type": "stream",
     "text": [
      "/tmp/ipykernel_5342/3808935312.py:7: UserWarning: To copy construct from a tensor, it is recommended to use sourceTensor.clone().detach() or sourceTensor.clone().detach().requires_grad_(True), rather than torch.tensor(sourceTensor).\n",
      "  nll = (0.5 * torch.tensor(results['obs_weight']) * torch.tensor(results['obs_flux'])**2)\n",
      "/tmp/ipykernel_5342/3808935312.py:8: UserWarning: To copy construct from a tensor, it is recommended to use sourceTensor.clone().detach() or sourceTensor.clone().detach().requires_grad_(True), rather than torch.tensor(sourceTensor).\n",
      "  kld = -0.5 * (1 + torch.tensor(results['encoding_logvar'], requires_grad=True)\n",
      "/tmp/ipykernel_5342/3808935312.py:9: UserWarning: To copy construct from a tensor, it is recommended to use sourceTensor.clone().detach() or sourceTensor.clone().detach().requires_grad_(True), rather than torch.tensor(sourceTensor).\n",
      "  - torch.tensor(results['encoding_mu'], requires_grad=True)**2\n",
      "/tmp/ipykernel_5342/3808935312.py:10: UserWarning: To copy construct from a tensor, it is recommended to use sourceTensor.clone().detach() or sourceTensor.clone().detach().requires_grad_(True), rather than torch.tensor(sourceTensor).\n",
      "  - torch.exp(torch.tensor(results['encoding_logvar'], requires_grad=True)))\n"
     ]
    },
    {
     "name": "stdout",
     "output_type": "stream",
     "text": [
      "18\n",
      "Comenzo get_data\n",
      "Grid shape: (32, 2, 300)\n",
      "Paso el Get data\n",
      "Shape pre-encoder torch.Size([32, 5, 300])\n",
      "Shape Encoder: torch.Size([32, 64, 306])\n",
      "Shape mu: torch.Size([64, 20])\n",
      "Shape log_var: torch.Size([64, 20])\n"
     ]
    },
    {
     "name": "stderr",
     "output_type": "stream",
     "text": [
      "/tmp/ipykernel_5342/3808935312.py:7: UserWarning: To copy construct from a tensor, it is recommended to use sourceTensor.clone().detach() or sourceTensor.clone().detach().requires_grad_(True), rather than torch.tensor(sourceTensor).\n",
      "  nll = (0.5 * torch.tensor(results['obs_weight']) * torch.tensor(results['obs_flux'])**2)\n",
      "/tmp/ipykernel_5342/3808935312.py:8: UserWarning: To copy construct from a tensor, it is recommended to use sourceTensor.clone().detach() or sourceTensor.clone().detach().requires_grad_(True), rather than torch.tensor(sourceTensor).\n",
      "  kld = -0.5 * (1 + torch.tensor(results['encoding_logvar'], requires_grad=True)\n",
      "/tmp/ipykernel_5342/3808935312.py:9: UserWarning: To copy construct from a tensor, it is recommended to use sourceTensor.clone().detach() or sourceTensor.clone().detach().requires_grad_(True), rather than torch.tensor(sourceTensor).\n",
      "  - torch.tensor(results['encoding_mu'], requires_grad=True)**2\n",
      "/tmp/ipykernel_5342/3808935312.py:10: UserWarning: To copy construct from a tensor, it is recommended to use sourceTensor.clone().detach() or sourceTensor.clone().detach().requires_grad_(True), rather than torch.tensor(sourceTensor).\n",
      "  - torch.exp(torch.tensor(results['encoding_logvar'], requires_grad=True)))\n"
     ]
    },
    {
     "name": "stdout",
     "output_type": "stream",
     "text": [
      "19\n",
      "Comenzo get_data\n",
      "Grid shape: (32, 2, 300)\n",
      "Paso el Get data\n",
      "Shape pre-encoder torch.Size([32, 5, 300])\n",
      "Shape Encoder: torch.Size([32, 64, 306])\n",
      "Shape mu: torch.Size([64, 20])\n",
      "Shape log_var: torch.Size([64, 20])\n"
     ]
    },
    {
     "name": "stderr",
     "output_type": "stream",
     "text": [
      "/tmp/ipykernel_5342/3808935312.py:7: UserWarning: To copy construct from a tensor, it is recommended to use sourceTensor.clone().detach() or sourceTensor.clone().detach().requires_grad_(True), rather than torch.tensor(sourceTensor).\n",
      "  nll = (0.5 * torch.tensor(results['obs_weight']) * torch.tensor(results['obs_flux'])**2)\n",
      "/tmp/ipykernel_5342/3808935312.py:8: UserWarning: To copy construct from a tensor, it is recommended to use sourceTensor.clone().detach() or sourceTensor.clone().detach().requires_grad_(True), rather than torch.tensor(sourceTensor).\n",
      "  kld = -0.5 * (1 + torch.tensor(results['encoding_logvar'], requires_grad=True)\n",
      "/tmp/ipykernel_5342/3808935312.py:9: UserWarning: To copy construct from a tensor, it is recommended to use sourceTensor.clone().detach() or sourceTensor.clone().detach().requires_grad_(True), rather than torch.tensor(sourceTensor).\n",
      "  - torch.tensor(results['encoding_mu'], requires_grad=True)**2\n",
      "/tmp/ipykernel_5342/3808935312.py:10: UserWarning: To copy construct from a tensor, it is recommended to use sourceTensor.clone().detach() or sourceTensor.clone().detach().requires_grad_(True), rather than torch.tensor(sourceTensor).\n",
      "  - torch.exp(torch.tensor(results['encoding_logvar'], requires_grad=True)))\n"
     ]
    },
    {
     "name": "stdout",
     "output_type": "stream",
     "text": [
      "20\n",
      "Comenzo get_data\n",
      "Grid shape: (32, 2, 300)\n",
      "Paso el Get data\n",
      "Shape pre-encoder torch.Size([32, 5, 300])\n",
      "Shape Encoder: torch.Size([32, 64, 306])\n",
      "Shape mu: torch.Size([64, 20])\n",
      "Shape log_var: torch.Size([64, 20])\n"
     ]
    },
    {
     "name": "stderr",
     "output_type": "stream",
     "text": [
      "/tmp/ipykernel_5342/3808935312.py:7: UserWarning: To copy construct from a tensor, it is recommended to use sourceTensor.clone().detach() or sourceTensor.clone().detach().requires_grad_(True), rather than torch.tensor(sourceTensor).\n",
      "  nll = (0.5 * torch.tensor(results['obs_weight']) * torch.tensor(results['obs_flux'])**2)\n",
      "/tmp/ipykernel_5342/3808935312.py:8: UserWarning: To copy construct from a tensor, it is recommended to use sourceTensor.clone().detach() or sourceTensor.clone().detach().requires_grad_(True), rather than torch.tensor(sourceTensor).\n",
      "  kld = -0.5 * (1 + torch.tensor(results['encoding_logvar'], requires_grad=True)\n",
      "/tmp/ipykernel_5342/3808935312.py:9: UserWarning: To copy construct from a tensor, it is recommended to use sourceTensor.clone().detach() or sourceTensor.clone().detach().requires_grad_(True), rather than torch.tensor(sourceTensor).\n",
      "  - torch.tensor(results['encoding_mu'], requires_grad=True)**2\n",
      "/tmp/ipykernel_5342/3808935312.py:10: UserWarning: To copy construct from a tensor, it is recommended to use sourceTensor.clone().detach() or sourceTensor.clone().detach().requires_grad_(True), rather than torch.tensor(sourceTensor).\n",
      "  - torch.exp(torch.tensor(results['encoding_logvar'], requires_grad=True)))\n"
     ]
    },
    {
     "name": "stdout",
     "output_type": "stream",
     "text": [
      "21\n",
      "Comenzo get_data\n",
      "Grid shape: (32, 2, 300)\n",
      "Paso el Get data\n",
      "Shape pre-encoder torch.Size([32, 5, 300])\n",
      "Shape Encoder: torch.Size([32, 64, 306])\n",
      "Shape mu: torch.Size([64, 20])\n",
      "Shape log_var: torch.Size([64, 20])\n"
     ]
    },
    {
     "name": "stderr",
     "output_type": "stream",
     "text": [
      "/tmp/ipykernel_5342/3808935312.py:7: UserWarning: To copy construct from a tensor, it is recommended to use sourceTensor.clone().detach() or sourceTensor.clone().detach().requires_grad_(True), rather than torch.tensor(sourceTensor).\n",
      "  nll = (0.5 * torch.tensor(results['obs_weight']) * torch.tensor(results['obs_flux'])**2)\n",
      "/tmp/ipykernel_5342/3808935312.py:8: UserWarning: To copy construct from a tensor, it is recommended to use sourceTensor.clone().detach() or sourceTensor.clone().detach().requires_grad_(True), rather than torch.tensor(sourceTensor).\n",
      "  kld = -0.5 * (1 + torch.tensor(results['encoding_logvar'], requires_grad=True)\n",
      "/tmp/ipykernel_5342/3808935312.py:9: UserWarning: To copy construct from a tensor, it is recommended to use sourceTensor.clone().detach() or sourceTensor.clone().detach().requires_grad_(True), rather than torch.tensor(sourceTensor).\n",
      "  - torch.tensor(results['encoding_mu'], requires_grad=True)**2\n",
      "/tmp/ipykernel_5342/3808935312.py:10: UserWarning: To copy construct from a tensor, it is recommended to use sourceTensor.clone().detach() or sourceTensor.clone().detach().requires_grad_(True), rather than torch.tensor(sourceTensor).\n",
      "  - torch.exp(torch.tensor(results['encoding_logvar'], requires_grad=True)))\n"
     ]
    },
    {
     "name": "stdout",
     "output_type": "stream",
     "text": [
      "22\n",
      "Comenzo get_data\n",
      "Grid shape: (32, 2, 300)\n",
      "Paso el Get data\n",
      "Shape pre-encoder torch.Size([32, 5, 300])\n",
      "Shape Encoder: torch.Size([32, 64, 306])\n",
      "Shape mu: torch.Size([64, 20])\n",
      "Shape log_var: torch.Size([64, 20])\n"
     ]
    },
    {
     "name": "stderr",
     "output_type": "stream",
     "text": [
      "/tmp/ipykernel_5342/3808935312.py:7: UserWarning: To copy construct from a tensor, it is recommended to use sourceTensor.clone().detach() or sourceTensor.clone().detach().requires_grad_(True), rather than torch.tensor(sourceTensor).\n",
      "  nll = (0.5 * torch.tensor(results['obs_weight']) * torch.tensor(results['obs_flux'])**2)\n",
      "/tmp/ipykernel_5342/3808935312.py:8: UserWarning: To copy construct from a tensor, it is recommended to use sourceTensor.clone().detach() or sourceTensor.clone().detach().requires_grad_(True), rather than torch.tensor(sourceTensor).\n",
      "  kld = -0.5 * (1 + torch.tensor(results['encoding_logvar'], requires_grad=True)\n",
      "/tmp/ipykernel_5342/3808935312.py:9: UserWarning: To copy construct from a tensor, it is recommended to use sourceTensor.clone().detach() or sourceTensor.clone().detach().requires_grad_(True), rather than torch.tensor(sourceTensor).\n",
      "  - torch.tensor(results['encoding_mu'], requires_grad=True)**2\n",
      "/tmp/ipykernel_5342/3808935312.py:10: UserWarning: To copy construct from a tensor, it is recommended to use sourceTensor.clone().detach() or sourceTensor.clone().detach().requires_grad_(True), rather than torch.tensor(sourceTensor).\n",
      "  - torch.exp(torch.tensor(results['encoding_logvar'], requires_grad=True)))\n"
     ]
    },
    {
     "name": "stdout",
     "output_type": "stream",
     "text": [
      "23\n",
      "Comenzo get_data\n",
      "Grid shape: (32, 2, 300)\n",
      "Paso el Get data\n",
      "Shape pre-encoder torch.Size([32, 5, 300])\n",
      "Shape Encoder: torch.Size([32, 64, 306])\n",
      "Shape mu: torch.Size([64, 20])\n",
      "Shape log_var: torch.Size([64, 20])\n"
     ]
    },
    {
     "name": "stderr",
     "output_type": "stream",
     "text": [
      "/tmp/ipykernel_5342/3808935312.py:7: UserWarning: To copy construct from a tensor, it is recommended to use sourceTensor.clone().detach() or sourceTensor.clone().detach().requires_grad_(True), rather than torch.tensor(sourceTensor).\n",
      "  nll = (0.5 * torch.tensor(results['obs_weight']) * torch.tensor(results['obs_flux'])**2)\n",
      "/tmp/ipykernel_5342/3808935312.py:8: UserWarning: To copy construct from a tensor, it is recommended to use sourceTensor.clone().detach() or sourceTensor.clone().detach().requires_grad_(True), rather than torch.tensor(sourceTensor).\n",
      "  kld = -0.5 * (1 + torch.tensor(results['encoding_logvar'], requires_grad=True)\n",
      "/tmp/ipykernel_5342/3808935312.py:9: UserWarning: To copy construct from a tensor, it is recommended to use sourceTensor.clone().detach() or sourceTensor.clone().detach().requires_grad_(True), rather than torch.tensor(sourceTensor).\n",
      "  - torch.tensor(results['encoding_mu'], requires_grad=True)**2\n",
      "/tmp/ipykernel_5342/3808935312.py:10: UserWarning: To copy construct from a tensor, it is recommended to use sourceTensor.clone().detach() or sourceTensor.clone().detach().requires_grad_(True), rather than torch.tensor(sourceTensor).\n",
      "  - torch.exp(torch.tensor(results['encoding_logvar'], requires_grad=True)))\n"
     ]
    },
    {
     "name": "stdout",
     "output_type": "stream",
     "text": [
      "24\n",
      "Comenzo get_data\n",
      "Grid shape: (32, 2, 300)\n",
      "Paso el Get data\n",
      "Shape pre-encoder torch.Size([32, 5, 300])\n",
      "Shape Encoder: torch.Size([32, 64, 306])\n",
      "Shape mu: torch.Size([64, 20])\n",
      "Shape log_var: torch.Size([64, 20])\n"
     ]
    },
    {
     "name": "stderr",
     "output_type": "stream",
     "text": [
      "/tmp/ipykernel_5342/3808935312.py:7: UserWarning: To copy construct from a tensor, it is recommended to use sourceTensor.clone().detach() or sourceTensor.clone().detach().requires_grad_(True), rather than torch.tensor(sourceTensor).\n",
      "  nll = (0.5 * torch.tensor(results['obs_weight']) * torch.tensor(results['obs_flux'])**2)\n",
      "/tmp/ipykernel_5342/3808935312.py:8: UserWarning: To copy construct from a tensor, it is recommended to use sourceTensor.clone().detach() or sourceTensor.clone().detach().requires_grad_(True), rather than torch.tensor(sourceTensor).\n",
      "  kld = -0.5 * (1 + torch.tensor(results['encoding_logvar'], requires_grad=True)\n",
      "/tmp/ipykernel_5342/3808935312.py:9: UserWarning: To copy construct from a tensor, it is recommended to use sourceTensor.clone().detach() or sourceTensor.clone().detach().requires_grad_(True), rather than torch.tensor(sourceTensor).\n",
      "  - torch.tensor(results['encoding_mu'], requires_grad=True)**2\n",
      "/tmp/ipykernel_5342/3808935312.py:10: UserWarning: To copy construct from a tensor, it is recommended to use sourceTensor.clone().detach() or sourceTensor.clone().detach().requires_grad_(True), rather than torch.tensor(sourceTensor).\n",
      "  - torch.exp(torch.tensor(results['encoding_logvar'], requires_grad=True)))\n"
     ]
    },
    {
     "name": "stdout",
     "output_type": "stream",
     "text": [
      "25\n",
      "Comenzo get_data\n",
      "Grid shape: (32, 2, 300)\n",
      "Paso el Get data\n",
      "Shape pre-encoder torch.Size([32, 5, 300])\n",
      "Shape Encoder: torch.Size([32, 64, 306])\n",
      "Shape mu: torch.Size([64, 20])\n",
      "Shape log_var: torch.Size([64, 20])\n"
     ]
    },
    {
     "name": "stderr",
     "output_type": "stream",
     "text": [
      "/tmp/ipykernel_5342/3808935312.py:7: UserWarning: To copy construct from a tensor, it is recommended to use sourceTensor.clone().detach() or sourceTensor.clone().detach().requires_grad_(True), rather than torch.tensor(sourceTensor).\n",
      "  nll = (0.5 * torch.tensor(results['obs_weight']) * torch.tensor(results['obs_flux'])**2)\n",
      "/tmp/ipykernel_5342/3808935312.py:8: UserWarning: To copy construct from a tensor, it is recommended to use sourceTensor.clone().detach() or sourceTensor.clone().detach().requires_grad_(True), rather than torch.tensor(sourceTensor).\n",
      "  kld = -0.5 * (1 + torch.tensor(results['encoding_logvar'], requires_grad=True)\n",
      "/tmp/ipykernel_5342/3808935312.py:9: UserWarning: To copy construct from a tensor, it is recommended to use sourceTensor.clone().detach() or sourceTensor.clone().detach().requires_grad_(True), rather than torch.tensor(sourceTensor).\n",
      "  - torch.tensor(results['encoding_mu'], requires_grad=True)**2\n",
      "/tmp/ipykernel_5342/3808935312.py:10: UserWarning: To copy construct from a tensor, it is recommended to use sourceTensor.clone().detach() or sourceTensor.clone().detach().requires_grad_(True), rather than torch.tensor(sourceTensor).\n",
      "  - torch.exp(torch.tensor(results['encoding_logvar'], requires_grad=True)))\n"
     ]
    },
    {
     "name": "stdout",
     "output_type": "stream",
     "text": [
      "26\n",
      "Comenzo get_data\n",
      "Grid shape: (32, 2, 300)\n",
      "Paso el Get data\n",
      "Shape pre-encoder torch.Size([32, 5, 300])\n",
      "Shape Encoder: torch.Size([32, 64, 306])\n",
      "Shape mu: torch.Size([64, 20])\n",
      "Shape log_var: torch.Size([64, 20])\n"
     ]
    },
    {
     "name": "stderr",
     "output_type": "stream",
     "text": [
      "/tmp/ipykernel_5342/3808935312.py:7: UserWarning: To copy construct from a tensor, it is recommended to use sourceTensor.clone().detach() or sourceTensor.clone().detach().requires_grad_(True), rather than torch.tensor(sourceTensor).\n",
      "  nll = (0.5 * torch.tensor(results['obs_weight']) * torch.tensor(results['obs_flux'])**2)\n",
      "/tmp/ipykernel_5342/3808935312.py:8: UserWarning: To copy construct from a tensor, it is recommended to use sourceTensor.clone().detach() or sourceTensor.clone().detach().requires_grad_(True), rather than torch.tensor(sourceTensor).\n",
      "  kld = -0.5 * (1 + torch.tensor(results['encoding_logvar'], requires_grad=True)\n",
      "/tmp/ipykernel_5342/3808935312.py:9: UserWarning: To copy construct from a tensor, it is recommended to use sourceTensor.clone().detach() or sourceTensor.clone().detach().requires_grad_(True), rather than torch.tensor(sourceTensor).\n",
      "  - torch.tensor(results['encoding_mu'], requires_grad=True)**2\n",
      "/tmp/ipykernel_5342/3808935312.py:10: UserWarning: To copy construct from a tensor, it is recommended to use sourceTensor.clone().detach() or sourceTensor.clone().detach().requires_grad_(True), rather than torch.tensor(sourceTensor).\n",
      "  - torch.exp(torch.tensor(results['encoding_logvar'], requires_grad=True)))\n"
     ]
    },
    {
     "name": "stdout",
     "output_type": "stream",
     "text": [
      "27\n",
      "Comenzo get_data\n",
      "Grid shape: (32, 2, 300)\n",
      "Paso el Get data\n",
      "Shape pre-encoder torch.Size([32, 5, 300])\n",
      "Shape Encoder: torch.Size([32, 64, 306])\n",
      "Shape mu: torch.Size([64, 20])\n",
      "Shape log_var: torch.Size([64, 20])\n"
     ]
    },
    {
     "name": "stderr",
     "output_type": "stream",
     "text": [
      "/tmp/ipykernel_5342/3808935312.py:7: UserWarning: To copy construct from a tensor, it is recommended to use sourceTensor.clone().detach() or sourceTensor.clone().detach().requires_grad_(True), rather than torch.tensor(sourceTensor).\n",
      "  nll = (0.5 * torch.tensor(results['obs_weight']) * torch.tensor(results['obs_flux'])**2)\n",
      "/tmp/ipykernel_5342/3808935312.py:8: UserWarning: To copy construct from a tensor, it is recommended to use sourceTensor.clone().detach() or sourceTensor.clone().detach().requires_grad_(True), rather than torch.tensor(sourceTensor).\n",
      "  kld = -0.5 * (1 + torch.tensor(results['encoding_logvar'], requires_grad=True)\n",
      "/tmp/ipykernel_5342/3808935312.py:9: UserWarning: To copy construct from a tensor, it is recommended to use sourceTensor.clone().detach() or sourceTensor.clone().detach().requires_grad_(True), rather than torch.tensor(sourceTensor).\n",
      "  - torch.tensor(results['encoding_mu'], requires_grad=True)**2\n",
      "/tmp/ipykernel_5342/3808935312.py:10: UserWarning: To copy construct from a tensor, it is recommended to use sourceTensor.clone().detach() or sourceTensor.clone().detach().requires_grad_(True), rather than torch.tensor(sourceTensor).\n",
      "  - torch.exp(torch.tensor(results['encoding_logvar'], requires_grad=True)))\n"
     ]
    },
    {
     "name": "stdout",
     "output_type": "stream",
     "text": [
      "28\n",
      "Comenzo get_data\n",
      "Grid shape: (32, 2, 300)\n",
      "Paso el Get data\n",
      "Shape pre-encoder torch.Size([32, 5, 300])\n",
      "Shape Encoder: torch.Size([32, 64, 306])\n",
      "Shape mu: torch.Size([64, 20])\n",
      "Shape log_var: torch.Size([64, 20])\n"
     ]
    },
    {
     "name": "stderr",
     "output_type": "stream",
     "text": [
      "/tmp/ipykernel_5342/3808935312.py:7: UserWarning: To copy construct from a tensor, it is recommended to use sourceTensor.clone().detach() or sourceTensor.clone().detach().requires_grad_(True), rather than torch.tensor(sourceTensor).\n",
      "  nll = (0.5 * torch.tensor(results['obs_weight']) * torch.tensor(results['obs_flux'])**2)\n",
      "/tmp/ipykernel_5342/3808935312.py:8: UserWarning: To copy construct from a tensor, it is recommended to use sourceTensor.clone().detach() or sourceTensor.clone().detach().requires_grad_(True), rather than torch.tensor(sourceTensor).\n",
      "  kld = -0.5 * (1 + torch.tensor(results['encoding_logvar'], requires_grad=True)\n",
      "/tmp/ipykernel_5342/3808935312.py:9: UserWarning: To copy construct from a tensor, it is recommended to use sourceTensor.clone().detach() or sourceTensor.clone().detach().requires_grad_(True), rather than torch.tensor(sourceTensor).\n",
      "  - torch.tensor(results['encoding_mu'], requires_grad=True)**2\n",
      "/tmp/ipykernel_5342/3808935312.py:10: UserWarning: To copy construct from a tensor, it is recommended to use sourceTensor.clone().detach() or sourceTensor.clone().detach().requires_grad_(True), rather than torch.tensor(sourceTensor).\n",
      "  - torch.exp(torch.tensor(results['encoding_logvar'], requires_grad=True)))\n"
     ]
    },
    {
     "name": "stdout",
     "output_type": "stream",
     "text": [
      "29\n",
      "Comenzo get_data\n",
      "Grid shape: (32, 2, 300)\n",
      "Paso el Get data\n",
      "Shape pre-encoder torch.Size([32, 5, 300])\n",
      "Shape Encoder: torch.Size([32, 64, 306])\n",
      "Shape mu: torch.Size([64, 20])\n",
      "Shape log_var: torch.Size([64, 20])\n"
     ]
    },
    {
     "name": "stderr",
     "output_type": "stream",
     "text": [
      "/tmp/ipykernel_5342/3808935312.py:7: UserWarning: To copy construct from a tensor, it is recommended to use sourceTensor.clone().detach() or sourceTensor.clone().detach().requires_grad_(True), rather than torch.tensor(sourceTensor).\n",
      "  nll = (0.5 * torch.tensor(results['obs_weight']) * torch.tensor(results['obs_flux'])**2)\n",
      "/tmp/ipykernel_5342/3808935312.py:8: UserWarning: To copy construct from a tensor, it is recommended to use sourceTensor.clone().detach() or sourceTensor.clone().detach().requires_grad_(True), rather than torch.tensor(sourceTensor).\n",
      "  kld = -0.5 * (1 + torch.tensor(results['encoding_logvar'], requires_grad=True)\n",
      "/tmp/ipykernel_5342/3808935312.py:9: UserWarning: To copy construct from a tensor, it is recommended to use sourceTensor.clone().detach() or sourceTensor.clone().detach().requires_grad_(True), rather than torch.tensor(sourceTensor).\n",
      "  - torch.tensor(results['encoding_mu'], requires_grad=True)**2\n",
      "/tmp/ipykernel_5342/3808935312.py:10: UserWarning: To copy construct from a tensor, it is recommended to use sourceTensor.clone().detach() or sourceTensor.clone().detach().requires_grad_(True), rather than torch.tensor(sourceTensor).\n",
      "  - torch.exp(torch.tensor(results['encoding_logvar'], requires_grad=True)))\n"
     ]
    },
    {
     "name": "stdout",
     "output_type": "stream",
     "text": [
      "30\n",
      "Comenzo get_data\n",
      "Grid shape: (32, 2, 300)\n",
      "Paso el Get data\n",
      "Shape pre-encoder torch.Size([32, 5, 300])\n",
      "Shape Encoder: torch.Size([32, 64, 306])\n",
      "Shape mu: torch.Size([64, 20])\n",
      "Shape log_var: torch.Size([64, 20])\n"
     ]
    },
    {
     "name": "stderr",
     "output_type": "stream",
     "text": [
      "/tmp/ipykernel_5342/3808935312.py:7: UserWarning: To copy construct from a tensor, it is recommended to use sourceTensor.clone().detach() or sourceTensor.clone().detach().requires_grad_(True), rather than torch.tensor(sourceTensor).\n",
      "  nll = (0.5 * torch.tensor(results['obs_weight']) * torch.tensor(results['obs_flux'])**2)\n",
      "/tmp/ipykernel_5342/3808935312.py:8: UserWarning: To copy construct from a tensor, it is recommended to use sourceTensor.clone().detach() or sourceTensor.clone().detach().requires_grad_(True), rather than torch.tensor(sourceTensor).\n",
      "  kld = -0.5 * (1 + torch.tensor(results['encoding_logvar'], requires_grad=True)\n",
      "/tmp/ipykernel_5342/3808935312.py:9: UserWarning: To copy construct from a tensor, it is recommended to use sourceTensor.clone().detach() or sourceTensor.clone().detach().requires_grad_(True), rather than torch.tensor(sourceTensor).\n",
      "  - torch.tensor(results['encoding_mu'], requires_grad=True)**2\n",
      "/tmp/ipykernel_5342/3808935312.py:10: UserWarning: To copy construct from a tensor, it is recommended to use sourceTensor.clone().detach() or sourceTensor.clone().detach().requires_grad_(True), rather than torch.tensor(sourceTensor).\n",
      "  - torch.exp(torch.tensor(results['encoding_logvar'], requires_grad=True)))\n"
     ]
    },
    {
     "name": "stdout",
     "output_type": "stream",
     "text": [
      "31\n",
      "Comenzo get_data\n",
      "Grid shape: (32, 2, 300)\n",
      "Paso el Get data\n",
      "Shape pre-encoder torch.Size([32, 5, 300])\n",
      "Shape Encoder: torch.Size([32, 64, 306])\n",
      "Shape mu: torch.Size([64, 20])\n",
      "Shape log_var: torch.Size([64, 20])\n"
     ]
    },
    {
     "name": "stderr",
     "output_type": "stream",
     "text": [
      "/tmp/ipykernel_5342/3808935312.py:7: UserWarning: To copy construct from a tensor, it is recommended to use sourceTensor.clone().detach() or sourceTensor.clone().detach().requires_grad_(True), rather than torch.tensor(sourceTensor).\n",
      "  nll = (0.5 * torch.tensor(results['obs_weight']) * torch.tensor(results['obs_flux'])**2)\n",
      "/tmp/ipykernel_5342/3808935312.py:8: UserWarning: To copy construct from a tensor, it is recommended to use sourceTensor.clone().detach() or sourceTensor.clone().detach().requires_grad_(True), rather than torch.tensor(sourceTensor).\n",
      "  kld = -0.5 * (1 + torch.tensor(results['encoding_logvar'], requires_grad=True)\n",
      "/tmp/ipykernel_5342/3808935312.py:9: UserWarning: To copy construct from a tensor, it is recommended to use sourceTensor.clone().detach() or sourceTensor.clone().detach().requires_grad_(True), rather than torch.tensor(sourceTensor).\n",
      "  - torch.tensor(results['encoding_mu'], requires_grad=True)**2\n",
      "/tmp/ipykernel_5342/3808935312.py:10: UserWarning: To copy construct from a tensor, it is recommended to use sourceTensor.clone().detach() or sourceTensor.clone().detach().requires_grad_(True), rather than torch.tensor(sourceTensor).\n",
      "  - torch.exp(torch.tensor(results['encoding_logvar'], requires_grad=True)))\n"
     ]
    },
    {
     "name": "stdout",
     "output_type": "stream",
     "text": [
      "32\n",
      "Comenzo get_data\n",
      "Grid shape: (32, 2, 300)\n",
      "Paso el Get data\n",
      "Shape pre-encoder torch.Size([32, 5, 300])\n",
      "Shape Encoder: torch.Size([32, 64, 306])\n",
      "Shape mu: torch.Size([64, 20])\n",
      "Shape log_var: torch.Size([64, 20])\n"
     ]
    },
    {
     "name": "stderr",
     "output_type": "stream",
     "text": [
      "/tmp/ipykernel_5342/3808935312.py:7: UserWarning: To copy construct from a tensor, it is recommended to use sourceTensor.clone().detach() or sourceTensor.clone().detach().requires_grad_(True), rather than torch.tensor(sourceTensor).\n",
      "  nll = (0.5 * torch.tensor(results['obs_weight']) * torch.tensor(results['obs_flux'])**2)\n",
      "/tmp/ipykernel_5342/3808935312.py:8: UserWarning: To copy construct from a tensor, it is recommended to use sourceTensor.clone().detach() or sourceTensor.clone().detach().requires_grad_(True), rather than torch.tensor(sourceTensor).\n",
      "  kld = -0.5 * (1 + torch.tensor(results['encoding_logvar'], requires_grad=True)\n",
      "/tmp/ipykernel_5342/3808935312.py:9: UserWarning: To copy construct from a tensor, it is recommended to use sourceTensor.clone().detach() or sourceTensor.clone().detach().requires_grad_(True), rather than torch.tensor(sourceTensor).\n",
      "  - torch.tensor(results['encoding_mu'], requires_grad=True)**2\n",
      "/tmp/ipykernel_5342/3808935312.py:10: UserWarning: To copy construct from a tensor, it is recommended to use sourceTensor.clone().detach() or sourceTensor.clone().detach().requires_grad_(True), rather than torch.tensor(sourceTensor).\n",
      "  - torch.exp(torch.tensor(results['encoding_logvar'], requires_grad=True)))\n"
     ]
    },
    {
     "name": "stdout",
     "output_type": "stream",
     "text": [
      "33\n",
      "Comenzo get_data\n",
      "Grid shape: (32, 2, 300)\n",
      "Paso el Get data\n",
      "Shape pre-encoder torch.Size([32, 5, 300])\n",
      "Shape Encoder: torch.Size([32, 64, 306])\n",
      "Shape mu: torch.Size([64, 20])\n",
      "Shape log_var: torch.Size([64, 20])\n"
     ]
    },
    {
     "name": "stderr",
     "output_type": "stream",
     "text": [
      "/tmp/ipykernel_5342/3808935312.py:7: UserWarning: To copy construct from a tensor, it is recommended to use sourceTensor.clone().detach() or sourceTensor.clone().detach().requires_grad_(True), rather than torch.tensor(sourceTensor).\n",
      "  nll = (0.5 * torch.tensor(results['obs_weight']) * torch.tensor(results['obs_flux'])**2)\n",
      "/tmp/ipykernel_5342/3808935312.py:8: UserWarning: To copy construct from a tensor, it is recommended to use sourceTensor.clone().detach() or sourceTensor.clone().detach().requires_grad_(True), rather than torch.tensor(sourceTensor).\n",
      "  kld = -0.5 * (1 + torch.tensor(results['encoding_logvar'], requires_grad=True)\n",
      "/tmp/ipykernel_5342/3808935312.py:9: UserWarning: To copy construct from a tensor, it is recommended to use sourceTensor.clone().detach() or sourceTensor.clone().detach().requires_grad_(True), rather than torch.tensor(sourceTensor).\n",
      "  - torch.tensor(results['encoding_mu'], requires_grad=True)**2\n",
      "/tmp/ipykernel_5342/3808935312.py:10: UserWarning: To copy construct from a tensor, it is recommended to use sourceTensor.clone().detach() or sourceTensor.clone().detach().requires_grad_(True), rather than torch.tensor(sourceTensor).\n",
      "  - torch.exp(torch.tensor(results['encoding_logvar'], requires_grad=True)))\n"
     ]
    },
    {
     "name": "stdout",
     "output_type": "stream",
     "text": [
      "34\n",
      "Comenzo get_data\n",
      "Grid shape: (32, 2, 300)\n",
      "Paso el Get data\n",
      "Shape pre-encoder torch.Size([32, 5, 300])\n",
      "Shape Encoder: torch.Size([32, 64, 306])\n",
      "Shape mu: torch.Size([64, 20])\n",
      "Shape log_var: torch.Size([64, 20])\n"
     ]
    },
    {
     "name": "stderr",
     "output_type": "stream",
     "text": [
      "/tmp/ipykernel_5342/3808935312.py:7: UserWarning: To copy construct from a tensor, it is recommended to use sourceTensor.clone().detach() or sourceTensor.clone().detach().requires_grad_(True), rather than torch.tensor(sourceTensor).\n",
      "  nll = (0.5 * torch.tensor(results['obs_weight']) * torch.tensor(results['obs_flux'])**2)\n",
      "/tmp/ipykernel_5342/3808935312.py:8: UserWarning: To copy construct from a tensor, it is recommended to use sourceTensor.clone().detach() or sourceTensor.clone().detach().requires_grad_(True), rather than torch.tensor(sourceTensor).\n",
      "  kld = -0.5 * (1 + torch.tensor(results['encoding_logvar'], requires_grad=True)\n",
      "/tmp/ipykernel_5342/3808935312.py:9: UserWarning: To copy construct from a tensor, it is recommended to use sourceTensor.clone().detach() or sourceTensor.clone().detach().requires_grad_(True), rather than torch.tensor(sourceTensor).\n",
      "  - torch.tensor(results['encoding_mu'], requires_grad=True)**2\n",
      "/tmp/ipykernel_5342/3808935312.py:10: UserWarning: To copy construct from a tensor, it is recommended to use sourceTensor.clone().detach() or sourceTensor.clone().detach().requires_grad_(True), rather than torch.tensor(sourceTensor).\n",
      "  - torch.exp(torch.tensor(results['encoding_logvar'], requires_grad=True)))\n"
     ]
    },
    {
     "name": "stdout",
     "output_type": "stream",
     "text": [
      "35\n",
      "Comenzo get_data\n",
      "Grid shape: (32, 2, 300)\n",
      "Paso el Get data\n",
      "Shape pre-encoder torch.Size([32, 5, 300])\n",
      "Shape Encoder: torch.Size([32, 64, 306])\n",
      "Shape mu: torch.Size([64, 20])\n",
      "Shape log_var: torch.Size([64, 20])\n"
     ]
    },
    {
     "name": "stderr",
     "output_type": "stream",
     "text": [
      "/tmp/ipykernel_5342/3808935312.py:7: UserWarning: To copy construct from a tensor, it is recommended to use sourceTensor.clone().detach() or sourceTensor.clone().detach().requires_grad_(True), rather than torch.tensor(sourceTensor).\n",
      "  nll = (0.5 * torch.tensor(results['obs_weight']) * torch.tensor(results['obs_flux'])**2)\n",
      "/tmp/ipykernel_5342/3808935312.py:8: UserWarning: To copy construct from a tensor, it is recommended to use sourceTensor.clone().detach() or sourceTensor.clone().detach().requires_grad_(True), rather than torch.tensor(sourceTensor).\n",
      "  kld = -0.5 * (1 + torch.tensor(results['encoding_logvar'], requires_grad=True)\n",
      "/tmp/ipykernel_5342/3808935312.py:9: UserWarning: To copy construct from a tensor, it is recommended to use sourceTensor.clone().detach() or sourceTensor.clone().detach().requires_grad_(True), rather than torch.tensor(sourceTensor).\n",
      "  - torch.tensor(results['encoding_mu'], requires_grad=True)**2\n",
      "/tmp/ipykernel_5342/3808935312.py:10: UserWarning: To copy construct from a tensor, it is recommended to use sourceTensor.clone().detach() or sourceTensor.clone().detach().requires_grad_(True), rather than torch.tensor(sourceTensor).\n",
      "  - torch.exp(torch.tensor(results['encoding_logvar'], requires_grad=True)))\n"
     ]
    },
    {
     "name": "stdout",
     "output_type": "stream",
     "text": [
      "36\n",
      "Comenzo get_data\n",
      "Grid shape: (32, 2, 300)\n",
      "Paso el Get data\n",
      "Shape pre-encoder torch.Size([32, 5, 300])\n",
      "Shape Encoder: torch.Size([32, 64, 306])\n",
      "Shape mu: torch.Size([64, 20])\n",
      "Shape log_var: torch.Size([64, 20])\n"
     ]
    },
    {
     "name": "stderr",
     "output_type": "stream",
     "text": [
      "/tmp/ipykernel_5342/3808935312.py:7: UserWarning: To copy construct from a tensor, it is recommended to use sourceTensor.clone().detach() or sourceTensor.clone().detach().requires_grad_(True), rather than torch.tensor(sourceTensor).\n",
      "  nll = (0.5 * torch.tensor(results['obs_weight']) * torch.tensor(results['obs_flux'])**2)\n",
      "/tmp/ipykernel_5342/3808935312.py:8: UserWarning: To copy construct from a tensor, it is recommended to use sourceTensor.clone().detach() or sourceTensor.clone().detach().requires_grad_(True), rather than torch.tensor(sourceTensor).\n",
      "  kld = -0.5 * (1 + torch.tensor(results['encoding_logvar'], requires_grad=True)\n",
      "/tmp/ipykernel_5342/3808935312.py:9: UserWarning: To copy construct from a tensor, it is recommended to use sourceTensor.clone().detach() or sourceTensor.clone().detach().requires_grad_(True), rather than torch.tensor(sourceTensor).\n",
      "  - torch.tensor(results['encoding_mu'], requires_grad=True)**2\n",
      "/tmp/ipykernel_5342/3808935312.py:10: UserWarning: To copy construct from a tensor, it is recommended to use sourceTensor.clone().detach() or sourceTensor.clone().detach().requires_grad_(True), rather than torch.tensor(sourceTensor).\n",
      "  - torch.exp(torch.tensor(results['encoding_logvar'], requires_grad=True)))\n"
     ]
    },
    {
     "name": "stdout",
     "output_type": "stream",
     "text": [
      "37\n",
      "Comenzo get_data\n",
      "Grid shape: (32, 2, 300)\n",
      "Paso el Get data\n",
      "Shape pre-encoder torch.Size([32, 5, 300])\n",
      "Shape Encoder: torch.Size([32, 64, 306])\n",
      "Shape mu: torch.Size([64, 20])\n",
      "Shape log_var: torch.Size([64, 20])\n"
     ]
    },
    {
     "name": "stderr",
     "output_type": "stream",
     "text": [
      "/tmp/ipykernel_5342/3808935312.py:7: UserWarning: To copy construct from a tensor, it is recommended to use sourceTensor.clone().detach() or sourceTensor.clone().detach().requires_grad_(True), rather than torch.tensor(sourceTensor).\n",
      "  nll = (0.5 * torch.tensor(results['obs_weight']) * torch.tensor(results['obs_flux'])**2)\n",
      "/tmp/ipykernel_5342/3808935312.py:8: UserWarning: To copy construct from a tensor, it is recommended to use sourceTensor.clone().detach() or sourceTensor.clone().detach().requires_grad_(True), rather than torch.tensor(sourceTensor).\n",
      "  kld = -0.5 * (1 + torch.tensor(results['encoding_logvar'], requires_grad=True)\n",
      "/tmp/ipykernel_5342/3808935312.py:9: UserWarning: To copy construct from a tensor, it is recommended to use sourceTensor.clone().detach() or sourceTensor.clone().detach().requires_grad_(True), rather than torch.tensor(sourceTensor).\n",
      "  - torch.tensor(results['encoding_mu'], requires_grad=True)**2\n",
      "/tmp/ipykernel_5342/3808935312.py:10: UserWarning: To copy construct from a tensor, it is recommended to use sourceTensor.clone().detach() or sourceTensor.clone().detach().requires_grad_(True), rather than torch.tensor(sourceTensor).\n",
      "  - torch.exp(torch.tensor(results['encoding_logvar'], requires_grad=True)))\n"
     ]
    },
    {
     "name": "stdout",
     "output_type": "stream",
     "text": [
      "38\n",
      "Comenzo get_data\n",
      "Grid shape: (32, 2, 300)\n",
      "Paso el Get data\n",
      "Shape pre-encoder torch.Size([32, 5, 300])\n",
      "Shape Encoder: torch.Size([32, 64, 306])\n",
      "Shape mu: torch.Size([64, 20])\n",
      "Shape log_var: torch.Size([64, 20])\n"
     ]
    },
    {
     "name": "stderr",
     "output_type": "stream",
     "text": [
      "/tmp/ipykernel_5342/3808935312.py:7: UserWarning: To copy construct from a tensor, it is recommended to use sourceTensor.clone().detach() or sourceTensor.clone().detach().requires_grad_(True), rather than torch.tensor(sourceTensor).\n",
      "  nll = (0.5 * torch.tensor(results['obs_weight']) * torch.tensor(results['obs_flux'])**2)\n",
      "/tmp/ipykernel_5342/3808935312.py:8: UserWarning: To copy construct from a tensor, it is recommended to use sourceTensor.clone().detach() or sourceTensor.clone().detach().requires_grad_(True), rather than torch.tensor(sourceTensor).\n",
      "  kld = -0.5 * (1 + torch.tensor(results['encoding_logvar'], requires_grad=True)\n",
      "/tmp/ipykernel_5342/3808935312.py:9: UserWarning: To copy construct from a tensor, it is recommended to use sourceTensor.clone().detach() or sourceTensor.clone().detach().requires_grad_(True), rather than torch.tensor(sourceTensor).\n",
      "  - torch.tensor(results['encoding_mu'], requires_grad=True)**2\n",
      "/tmp/ipykernel_5342/3808935312.py:10: UserWarning: To copy construct from a tensor, it is recommended to use sourceTensor.clone().detach() or sourceTensor.clone().detach().requires_grad_(True), rather than torch.tensor(sourceTensor).\n",
      "  - torch.exp(torch.tensor(results['encoding_logvar'], requires_grad=True)))\n"
     ]
    },
    {
     "name": "stdout",
     "output_type": "stream",
     "text": [
      "39\n",
      "Comenzo get_data\n",
      "Grid shape: (32, 2, 300)\n",
      "Paso el Get data\n",
      "Shape pre-encoder torch.Size([32, 5, 300])\n",
      "Shape Encoder: torch.Size([32, 64, 306])\n",
      "Shape mu: torch.Size([64, 20])\n",
      "Shape log_var: torch.Size([64, 20])\n"
     ]
    },
    {
     "name": "stderr",
     "output_type": "stream",
     "text": [
      "/tmp/ipykernel_5342/3808935312.py:7: UserWarning: To copy construct from a tensor, it is recommended to use sourceTensor.clone().detach() or sourceTensor.clone().detach().requires_grad_(True), rather than torch.tensor(sourceTensor).\n",
      "  nll = (0.5 * torch.tensor(results['obs_weight']) * torch.tensor(results['obs_flux'])**2)\n",
      "/tmp/ipykernel_5342/3808935312.py:8: UserWarning: To copy construct from a tensor, it is recommended to use sourceTensor.clone().detach() or sourceTensor.clone().detach().requires_grad_(True), rather than torch.tensor(sourceTensor).\n",
      "  kld = -0.5 * (1 + torch.tensor(results['encoding_logvar'], requires_grad=True)\n",
      "/tmp/ipykernel_5342/3808935312.py:9: UserWarning: To copy construct from a tensor, it is recommended to use sourceTensor.clone().detach() or sourceTensor.clone().detach().requires_grad_(True), rather than torch.tensor(sourceTensor).\n",
      "  - torch.tensor(results['encoding_mu'], requires_grad=True)**2\n",
      "/tmp/ipykernel_5342/3808935312.py:10: UserWarning: To copy construct from a tensor, it is recommended to use sourceTensor.clone().detach() or sourceTensor.clone().detach().requires_grad_(True), rather than torch.tensor(sourceTensor).\n",
      "  - torch.exp(torch.tensor(results['encoding_logvar'], requires_grad=True)))\n"
     ]
    },
    {
     "name": "stdout",
     "output_type": "stream",
     "text": [
      "40\n",
      "Comenzo get_data\n",
      "Grid shape: (32, 2, 300)\n",
      "Paso el Get data\n",
      "Shape pre-encoder torch.Size([32, 5, 300])\n",
      "Shape Encoder: torch.Size([32, 64, 306])\n",
      "Shape mu: torch.Size([64, 20])\n",
      "Shape log_var: torch.Size([64, 20])\n"
     ]
    },
    {
     "name": "stderr",
     "output_type": "stream",
     "text": [
      "/tmp/ipykernel_5342/3808935312.py:7: UserWarning: To copy construct from a tensor, it is recommended to use sourceTensor.clone().detach() or sourceTensor.clone().detach().requires_grad_(True), rather than torch.tensor(sourceTensor).\n",
      "  nll = (0.5 * torch.tensor(results['obs_weight']) * torch.tensor(results['obs_flux'])**2)\n",
      "/tmp/ipykernel_5342/3808935312.py:8: UserWarning: To copy construct from a tensor, it is recommended to use sourceTensor.clone().detach() or sourceTensor.clone().detach().requires_grad_(True), rather than torch.tensor(sourceTensor).\n",
      "  kld = -0.5 * (1 + torch.tensor(results['encoding_logvar'], requires_grad=True)\n",
      "/tmp/ipykernel_5342/3808935312.py:9: UserWarning: To copy construct from a tensor, it is recommended to use sourceTensor.clone().detach() or sourceTensor.clone().detach().requires_grad_(True), rather than torch.tensor(sourceTensor).\n",
      "  - torch.tensor(results['encoding_mu'], requires_grad=True)**2\n",
      "/tmp/ipykernel_5342/3808935312.py:10: UserWarning: To copy construct from a tensor, it is recommended to use sourceTensor.clone().detach() or sourceTensor.clone().detach().requires_grad_(True), rather than torch.tensor(sourceTensor).\n",
      "  - torch.exp(torch.tensor(results['encoding_logvar'], requires_grad=True)))\n"
     ]
    },
    {
     "name": "stdout",
     "output_type": "stream",
     "text": [
      "41\n",
      "Comenzo get_data\n",
      "Grid shape: (32, 2, 300)\n",
      "Paso el Get data\n",
      "Shape pre-encoder torch.Size([32, 5, 300])\n",
      "Shape Encoder: torch.Size([32, 64, 306])\n",
      "Shape mu: torch.Size([64, 20])\n",
      "Shape log_var: torch.Size([64, 20])\n"
     ]
    },
    {
     "name": "stderr",
     "output_type": "stream",
     "text": [
      "/tmp/ipykernel_5342/3808935312.py:7: UserWarning: To copy construct from a tensor, it is recommended to use sourceTensor.clone().detach() or sourceTensor.clone().detach().requires_grad_(True), rather than torch.tensor(sourceTensor).\n",
      "  nll = (0.5 * torch.tensor(results['obs_weight']) * torch.tensor(results['obs_flux'])**2)\n",
      "/tmp/ipykernel_5342/3808935312.py:8: UserWarning: To copy construct from a tensor, it is recommended to use sourceTensor.clone().detach() or sourceTensor.clone().detach().requires_grad_(True), rather than torch.tensor(sourceTensor).\n",
      "  kld = -0.5 * (1 + torch.tensor(results['encoding_logvar'], requires_grad=True)\n",
      "/tmp/ipykernel_5342/3808935312.py:9: UserWarning: To copy construct from a tensor, it is recommended to use sourceTensor.clone().detach() or sourceTensor.clone().detach().requires_grad_(True), rather than torch.tensor(sourceTensor).\n",
      "  - torch.tensor(results['encoding_mu'], requires_grad=True)**2\n",
      "/tmp/ipykernel_5342/3808935312.py:10: UserWarning: To copy construct from a tensor, it is recommended to use sourceTensor.clone().detach() or sourceTensor.clone().detach().requires_grad_(True), rather than torch.tensor(sourceTensor).\n",
      "  - torch.exp(torch.tensor(results['encoding_logvar'], requires_grad=True)))\n"
     ]
    },
    {
     "name": "stdout",
     "output_type": "stream",
     "text": [
      "42\n",
      "Comenzo get_data\n",
      "Grid shape: (32, 2, 300)\n",
      "Paso el Get data\n",
      "Shape pre-encoder torch.Size([32, 5, 300])\n",
      "Shape Encoder: torch.Size([32, 64, 306])\n",
      "Shape mu: torch.Size([64, 20])\n",
      "Shape log_var: torch.Size([64, 20])\n"
     ]
    },
    {
     "name": "stderr",
     "output_type": "stream",
     "text": [
      "/tmp/ipykernel_5342/3808935312.py:7: UserWarning: To copy construct from a tensor, it is recommended to use sourceTensor.clone().detach() or sourceTensor.clone().detach().requires_grad_(True), rather than torch.tensor(sourceTensor).\n",
      "  nll = (0.5 * torch.tensor(results['obs_weight']) * torch.tensor(results['obs_flux'])**2)\n",
      "/tmp/ipykernel_5342/3808935312.py:8: UserWarning: To copy construct from a tensor, it is recommended to use sourceTensor.clone().detach() or sourceTensor.clone().detach().requires_grad_(True), rather than torch.tensor(sourceTensor).\n",
      "  kld = -0.5 * (1 + torch.tensor(results['encoding_logvar'], requires_grad=True)\n",
      "/tmp/ipykernel_5342/3808935312.py:9: UserWarning: To copy construct from a tensor, it is recommended to use sourceTensor.clone().detach() or sourceTensor.clone().detach().requires_grad_(True), rather than torch.tensor(sourceTensor).\n",
      "  - torch.tensor(results['encoding_mu'], requires_grad=True)**2\n",
      "/tmp/ipykernel_5342/3808935312.py:10: UserWarning: To copy construct from a tensor, it is recommended to use sourceTensor.clone().detach() or sourceTensor.clone().detach().requires_grad_(True), rather than torch.tensor(sourceTensor).\n",
      "  - torch.exp(torch.tensor(results['encoding_logvar'], requires_grad=True)))\n"
     ]
    },
    {
     "name": "stdout",
     "output_type": "stream",
     "text": [
      "43\n",
      "Comenzo get_data\n",
      "Grid shape: (32, 2, 300)\n",
      "Paso el Get data\n",
      "Shape pre-encoder torch.Size([32, 5, 300])\n",
      "Shape Encoder: torch.Size([32, 64, 306])\n",
      "Shape mu: torch.Size([64, 20])\n",
      "Shape log_var: torch.Size([64, 20])\n"
     ]
    },
    {
     "name": "stderr",
     "output_type": "stream",
     "text": [
      "/tmp/ipykernel_5342/3808935312.py:7: UserWarning: To copy construct from a tensor, it is recommended to use sourceTensor.clone().detach() or sourceTensor.clone().detach().requires_grad_(True), rather than torch.tensor(sourceTensor).\n",
      "  nll = (0.5 * torch.tensor(results['obs_weight']) * torch.tensor(results['obs_flux'])**2)\n",
      "/tmp/ipykernel_5342/3808935312.py:8: UserWarning: To copy construct from a tensor, it is recommended to use sourceTensor.clone().detach() or sourceTensor.clone().detach().requires_grad_(True), rather than torch.tensor(sourceTensor).\n",
      "  kld = -0.5 * (1 + torch.tensor(results['encoding_logvar'], requires_grad=True)\n",
      "/tmp/ipykernel_5342/3808935312.py:9: UserWarning: To copy construct from a tensor, it is recommended to use sourceTensor.clone().detach() or sourceTensor.clone().detach().requires_grad_(True), rather than torch.tensor(sourceTensor).\n",
      "  - torch.tensor(results['encoding_mu'], requires_grad=True)**2\n",
      "/tmp/ipykernel_5342/3808935312.py:10: UserWarning: To copy construct from a tensor, it is recommended to use sourceTensor.clone().detach() or sourceTensor.clone().detach().requires_grad_(True), rather than torch.tensor(sourceTensor).\n",
      "  - torch.exp(torch.tensor(results['encoding_logvar'], requires_grad=True)))\n"
     ]
    },
    {
     "name": "stdout",
     "output_type": "stream",
     "text": [
      "44\n",
      "Comenzo get_data\n",
      "Grid shape: (32, 2, 300)\n",
      "Paso el Get data\n",
      "Shape pre-encoder torch.Size([32, 5, 300])\n",
      "Shape Encoder: torch.Size([32, 64, 306])\n",
      "Shape mu: torch.Size([64, 20])\n",
      "Shape log_var: torch.Size([64, 20])\n"
     ]
    },
    {
     "name": "stderr",
     "output_type": "stream",
     "text": [
      "/tmp/ipykernel_5342/3808935312.py:7: UserWarning: To copy construct from a tensor, it is recommended to use sourceTensor.clone().detach() or sourceTensor.clone().detach().requires_grad_(True), rather than torch.tensor(sourceTensor).\n",
      "  nll = (0.5 * torch.tensor(results['obs_weight']) * torch.tensor(results['obs_flux'])**2)\n",
      "/tmp/ipykernel_5342/3808935312.py:8: UserWarning: To copy construct from a tensor, it is recommended to use sourceTensor.clone().detach() or sourceTensor.clone().detach().requires_grad_(True), rather than torch.tensor(sourceTensor).\n",
      "  kld = -0.5 * (1 + torch.tensor(results['encoding_logvar'], requires_grad=True)\n",
      "/tmp/ipykernel_5342/3808935312.py:9: UserWarning: To copy construct from a tensor, it is recommended to use sourceTensor.clone().detach() or sourceTensor.clone().detach().requires_grad_(True), rather than torch.tensor(sourceTensor).\n",
      "  - torch.tensor(results['encoding_mu'], requires_grad=True)**2\n",
      "/tmp/ipykernel_5342/3808935312.py:10: UserWarning: To copy construct from a tensor, it is recommended to use sourceTensor.clone().detach() or sourceTensor.clone().detach().requires_grad_(True), rather than torch.tensor(sourceTensor).\n",
      "  - torch.exp(torch.tensor(results['encoding_logvar'], requires_grad=True)))\n"
     ]
    },
    {
     "name": "stdout",
     "output_type": "stream",
     "text": [
      "45\n",
      "Comenzo get_data\n",
      "Grid shape: (32, 2, 300)\n",
      "Paso el Get data\n",
      "Shape pre-encoder torch.Size([32, 5, 300])\n",
      "Shape Encoder: torch.Size([32, 64, 306])\n",
      "Shape mu: torch.Size([64, 20])\n",
      "Shape log_var: torch.Size([64, 20])\n"
     ]
    },
    {
     "name": "stderr",
     "output_type": "stream",
     "text": [
      "/tmp/ipykernel_5342/3808935312.py:7: UserWarning: To copy construct from a tensor, it is recommended to use sourceTensor.clone().detach() or sourceTensor.clone().detach().requires_grad_(True), rather than torch.tensor(sourceTensor).\n",
      "  nll = (0.5 * torch.tensor(results['obs_weight']) * torch.tensor(results['obs_flux'])**2)\n",
      "/tmp/ipykernel_5342/3808935312.py:8: UserWarning: To copy construct from a tensor, it is recommended to use sourceTensor.clone().detach() or sourceTensor.clone().detach().requires_grad_(True), rather than torch.tensor(sourceTensor).\n",
      "  kld = -0.5 * (1 + torch.tensor(results['encoding_logvar'], requires_grad=True)\n",
      "/tmp/ipykernel_5342/3808935312.py:9: UserWarning: To copy construct from a tensor, it is recommended to use sourceTensor.clone().detach() or sourceTensor.clone().detach().requires_grad_(True), rather than torch.tensor(sourceTensor).\n",
      "  - torch.tensor(results['encoding_mu'], requires_grad=True)**2\n",
      "/tmp/ipykernel_5342/3808935312.py:10: UserWarning: To copy construct from a tensor, it is recommended to use sourceTensor.clone().detach() or sourceTensor.clone().detach().requires_grad_(True), rather than torch.tensor(sourceTensor).\n",
      "  - torch.exp(torch.tensor(results['encoding_logvar'], requires_grad=True)))\n"
     ]
    },
    {
     "name": "stdout",
     "output_type": "stream",
     "text": [
      "46\n",
      "Comenzo get_data\n",
      "Grid shape: (32, 2, 300)\n",
      "Paso el Get data\n",
      "Shape pre-encoder torch.Size([32, 5, 300])\n",
      "Shape Encoder: torch.Size([32, 64, 306])\n",
      "Shape mu: torch.Size([64, 20])\n",
      "Shape log_var: torch.Size([64, 20])\n"
     ]
    },
    {
     "name": "stderr",
     "output_type": "stream",
     "text": [
      "/tmp/ipykernel_5342/3808935312.py:7: UserWarning: To copy construct from a tensor, it is recommended to use sourceTensor.clone().detach() or sourceTensor.clone().detach().requires_grad_(True), rather than torch.tensor(sourceTensor).\n",
      "  nll = (0.5 * torch.tensor(results['obs_weight']) * torch.tensor(results['obs_flux'])**2)\n",
      "/tmp/ipykernel_5342/3808935312.py:8: UserWarning: To copy construct from a tensor, it is recommended to use sourceTensor.clone().detach() or sourceTensor.clone().detach().requires_grad_(True), rather than torch.tensor(sourceTensor).\n",
      "  kld = -0.5 * (1 + torch.tensor(results['encoding_logvar'], requires_grad=True)\n",
      "/tmp/ipykernel_5342/3808935312.py:9: UserWarning: To copy construct from a tensor, it is recommended to use sourceTensor.clone().detach() or sourceTensor.clone().detach().requires_grad_(True), rather than torch.tensor(sourceTensor).\n",
      "  - torch.tensor(results['encoding_mu'], requires_grad=True)**2\n",
      "/tmp/ipykernel_5342/3808935312.py:10: UserWarning: To copy construct from a tensor, it is recommended to use sourceTensor.clone().detach() or sourceTensor.clone().detach().requires_grad_(True), rather than torch.tensor(sourceTensor).\n",
      "  - torch.exp(torch.tensor(results['encoding_logvar'], requires_grad=True)))\n"
     ]
    },
    {
     "name": "stdout",
     "output_type": "stream",
     "text": [
      "47\n",
      "Comenzo get_data\n",
      "Grid shape: (32, 2, 300)\n",
      "Paso el Get data\n",
      "Shape pre-encoder torch.Size([32, 5, 300])\n",
      "Shape Encoder: torch.Size([32, 64, 306])\n",
      "Shape mu: torch.Size([64, 20])\n",
      "Shape log_var: torch.Size([64, 20])\n"
     ]
    },
    {
     "name": "stderr",
     "output_type": "stream",
     "text": [
      "/tmp/ipykernel_5342/3808935312.py:7: UserWarning: To copy construct from a tensor, it is recommended to use sourceTensor.clone().detach() or sourceTensor.clone().detach().requires_grad_(True), rather than torch.tensor(sourceTensor).\n",
      "  nll = (0.5 * torch.tensor(results['obs_weight']) * torch.tensor(results['obs_flux'])**2)\n",
      "/tmp/ipykernel_5342/3808935312.py:8: UserWarning: To copy construct from a tensor, it is recommended to use sourceTensor.clone().detach() or sourceTensor.clone().detach().requires_grad_(True), rather than torch.tensor(sourceTensor).\n",
      "  kld = -0.5 * (1 + torch.tensor(results['encoding_logvar'], requires_grad=True)\n",
      "/tmp/ipykernel_5342/3808935312.py:9: UserWarning: To copy construct from a tensor, it is recommended to use sourceTensor.clone().detach() or sourceTensor.clone().detach().requires_grad_(True), rather than torch.tensor(sourceTensor).\n",
      "  - torch.tensor(results['encoding_mu'], requires_grad=True)**2\n",
      "/tmp/ipykernel_5342/3808935312.py:10: UserWarning: To copy construct from a tensor, it is recommended to use sourceTensor.clone().detach() or sourceTensor.clone().detach().requires_grad_(True), rather than torch.tensor(sourceTensor).\n",
      "  - torch.exp(torch.tensor(results['encoding_logvar'], requires_grad=True)))\n"
     ]
    },
    {
     "name": "stdout",
     "output_type": "stream",
     "text": [
      "48\n",
      "Comenzo get_data\n",
      "Grid shape: (32, 2, 300)\n",
      "Paso el Get data\n",
      "Shape pre-encoder torch.Size([32, 5, 300])\n",
      "Shape Encoder: torch.Size([32, 64, 306])\n",
      "Shape mu: torch.Size([64, 20])\n",
      "Shape log_var: torch.Size([64, 20])\n"
     ]
    },
    {
     "name": "stderr",
     "output_type": "stream",
     "text": [
      "/tmp/ipykernel_5342/3808935312.py:7: UserWarning: To copy construct from a tensor, it is recommended to use sourceTensor.clone().detach() or sourceTensor.clone().detach().requires_grad_(True), rather than torch.tensor(sourceTensor).\n",
      "  nll = (0.5 * torch.tensor(results['obs_weight']) * torch.tensor(results['obs_flux'])**2)\n",
      "/tmp/ipykernel_5342/3808935312.py:8: UserWarning: To copy construct from a tensor, it is recommended to use sourceTensor.clone().detach() or sourceTensor.clone().detach().requires_grad_(True), rather than torch.tensor(sourceTensor).\n",
      "  kld = -0.5 * (1 + torch.tensor(results['encoding_logvar'], requires_grad=True)\n",
      "/tmp/ipykernel_5342/3808935312.py:9: UserWarning: To copy construct from a tensor, it is recommended to use sourceTensor.clone().detach() or sourceTensor.clone().detach().requires_grad_(True), rather than torch.tensor(sourceTensor).\n",
      "  - torch.tensor(results['encoding_mu'], requires_grad=True)**2\n",
      "/tmp/ipykernel_5342/3808935312.py:10: UserWarning: To copy construct from a tensor, it is recommended to use sourceTensor.clone().detach() or sourceTensor.clone().detach().requires_grad_(True), rather than torch.tensor(sourceTensor).\n",
      "  - torch.exp(torch.tensor(results['encoding_logvar'], requires_grad=True)))\n"
     ]
    },
    {
     "name": "stdout",
     "output_type": "stream",
     "text": [
      "49\n",
      "Comenzo get_data\n",
      "Grid shape: (32, 2, 300)\n",
      "Paso el Get data\n",
      "Shape pre-encoder torch.Size([32, 5, 300])\n",
      "Shape Encoder: torch.Size([32, 64, 306])\n",
      "Shape mu: torch.Size([64, 20])\n",
      "Shape log_var: torch.Size([64, 20])\n"
     ]
    },
    {
     "name": "stderr",
     "output_type": "stream",
     "text": [
      "/tmp/ipykernel_5342/3808935312.py:7: UserWarning: To copy construct from a tensor, it is recommended to use sourceTensor.clone().detach() or sourceTensor.clone().detach().requires_grad_(True), rather than torch.tensor(sourceTensor).\n",
      "  nll = (0.5 * torch.tensor(results['obs_weight']) * torch.tensor(results['obs_flux'])**2)\n",
      "/tmp/ipykernel_5342/3808935312.py:8: UserWarning: To copy construct from a tensor, it is recommended to use sourceTensor.clone().detach() or sourceTensor.clone().detach().requires_grad_(True), rather than torch.tensor(sourceTensor).\n",
      "  kld = -0.5 * (1 + torch.tensor(results['encoding_logvar'], requires_grad=True)\n",
      "/tmp/ipykernel_5342/3808935312.py:9: UserWarning: To copy construct from a tensor, it is recommended to use sourceTensor.clone().detach() or sourceTensor.clone().detach().requires_grad_(True), rather than torch.tensor(sourceTensor).\n",
      "  - torch.tensor(results['encoding_mu'], requires_grad=True)**2\n",
      "/tmp/ipykernel_5342/3808935312.py:10: UserWarning: To copy construct from a tensor, it is recommended to use sourceTensor.clone().detach() or sourceTensor.clone().detach().requires_grad_(True), rather than torch.tensor(sourceTensor).\n",
      "  - torch.exp(torch.tensor(results['encoding_logvar'], requires_grad=True)))\n"
     ]
    },
    {
     "name": "stdout",
     "output_type": "stream",
     "text": [
      "50\n",
      "Comenzo get_data\n",
      "Grid shape: (32, 2, 300)\n",
      "Paso el Get data\n",
      "Shape pre-encoder torch.Size([32, 5, 300])\n",
      "Shape Encoder: torch.Size([32, 64, 306])\n",
      "Shape mu: torch.Size([64, 20])\n",
      "Shape log_var: torch.Size([64, 20])\n"
     ]
    },
    {
     "name": "stderr",
     "output_type": "stream",
     "text": [
      "/tmp/ipykernel_5342/3808935312.py:7: UserWarning: To copy construct from a tensor, it is recommended to use sourceTensor.clone().detach() or sourceTensor.clone().detach().requires_grad_(True), rather than torch.tensor(sourceTensor).\n",
      "  nll = (0.5 * torch.tensor(results['obs_weight']) * torch.tensor(results['obs_flux'])**2)\n",
      "/tmp/ipykernel_5342/3808935312.py:8: UserWarning: To copy construct from a tensor, it is recommended to use sourceTensor.clone().detach() or sourceTensor.clone().detach().requires_grad_(True), rather than torch.tensor(sourceTensor).\n",
      "  kld = -0.5 * (1 + torch.tensor(results['encoding_logvar'], requires_grad=True)\n",
      "/tmp/ipykernel_5342/3808935312.py:9: UserWarning: To copy construct from a tensor, it is recommended to use sourceTensor.clone().detach() or sourceTensor.clone().detach().requires_grad_(True), rather than torch.tensor(sourceTensor).\n",
      "  - torch.tensor(results['encoding_mu'], requires_grad=True)**2\n",
      "/tmp/ipykernel_5342/3808935312.py:10: UserWarning: To copy construct from a tensor, it is recommended to use sourceTensor.clone().detach() or sourceTensor.clone().detach().requires_grad_(True), rather than torch.tensor(sourceTensor).\n",
      "  - torch.exp(torch.tensor(results['encoding_logvar'], requires_grad=True)))\n"
     ]
    },
    {
     "name": "stdout",
     "output_type": "stream",
     "text": [
      "51\n",
      "Comenzo get_data\n",
      "Grid shape: (32, 2, 300)\n",
      "Paso el Get data\n",
      "Shape pre-encoder torch.Size([32, 5, 300])\n",
      "Shape Encoder: torch.Size([32, 64, 306])\n",
      "Shape mu: torch.Size([64, 20])\n",
      "Shape log_var: torch.Size([64, 20])\n"
     ]
    },
    {
     "name": "stderr",
     "output_type": "stream",
     "text": [
      "/tmp/ipykernel_5342/3808935312.py:7: UserWarning: To copy construct from a tensor, it is recommended to use sourceTensor.clone().detach() or sourceTensor.clone().detach().requires_grad_(True), rather than torch.tensor(sourceTensor).\n",
      "  nll = (0.5 * torch.tensor(results['obs_weight']) * torch.tensor(results['obs_flux'])**2)\n",
      "/tmp/ipykernel_5342/3808935312.py:8: UserWarning: To copy construct from a tensor, it is recommended to use sourceTensor.clone().detach() or sourceTensor.clone().detach().requires_grad_(True), rather than torch.tensor(sourceTensor).\n",
      "  kld = -0.5 * (1 + torch.tensor(results['encoding_logvar'], requires_grad=True)\n",
      "/tmp/ipykernel_5342/3808935312.py:9: UserWarning: To copy construct from a tensor, it is recommended to use sourceTensor.clone().detach() or sourceTensor.clone().detach().requires_grad_(True), rather than torch.tensor(sourceTensor).\n",
      "  - torch.tensor(results['encoding_mu'], requires_grad=True)**2\n",
      "/tmp/ipykernel_5342/3808935312.py:10: UserWarning: To copy construct from a tensor, it is recommended to use sourceTensor.clone().detach() or sourceTensor.clone().detach().requires_grad_(True), rather than torch.tensor(sourceTensor).\n",
      "  - torch.exp(torch.tensor(results['encoding_logvar'], requires_grad=True)))\n"
     ]
    },
    {
     "name": "stdout",
     "output_type": "stream",
     "text": [
      "52\n",
      "Comenzo get_data\n",
      "Grid shape: (32, 2, 300)\n",
      "Paso el Get data\n",
      "Shape pre-encoder torch.Size([32, 5, 300])\n",
      "Shape Encoder: torch.Size([32, 64, 306])\n",
      "Shape mu: torch.Size([64, 20])\n",
      "Shape log_var: torch.Size([64, 20])\n"
     ]
    },
    {
     "name": "stderr",
     "output_type": "stream",
     "text": [
      "/tmp/ipykernel_5342/3808935312.py:7: UserWarning: To copy construct from a tensor, it is recommended to use sourceTensor.clone().detach() or sourceTensor.clone().detach().requires_grad_(True), rather than torch.tensor(sourceTensor).\n",
      "  nll = (0.5 * torch.tensor(results['obs_weight']) * torch.tensor(results['obs_flux'])**2)\n",
      "/tmp/ipykernel_5342/3808935312.py:8: UserWarning: To copy construct from a tensor, it is recommended to use sourceTensor.clone().detach() or sourceTensor.clone().detach().requires_grad_(True), rather than torch.tensor(sourceTensor).\n",
      "  kld = -0.5 * (1 + torch.tensor(results['encoding_logvar'], requires_grad=True)\n",
      "/tmp/ipykernel_5342/3808935312.py:9: UserWarning: To copy construct from a tensor, it is recommended to use sourceTensor.clone().detach() or sourceTensor.clone().detach().requires_grad_(True), rather than torch.tensor(sourceTensor).\n",
      "  - torch.tensor(results['encoding_mu'], requires_grad=True)**2\n",
      "/tmp/ipykernel_5342/3808935312.py:10: UserWarning: To copy construct from a tensor, it is recommended to use sourceTensor.clone().detach() or sourceTensor.clone().detach().requires_grad_(True), rather than torch.tensor(sourceTensor).\n",
      "  - torch.exp(torch.tensor(results['encoding_logvar'], requires_grad=True)))\n"
     ]
    },
    {
     "name": "stdout",
     "output_type": "stream",
     "text": [
      "53\n",
      "Comenzo get_data\n",
      "Grid shape: (32, 2, 300)\n",
      "Paso el Get data\n",
      "Shape pre-encoder torch.Size([32, 5, 300])\n",
      "Shape Encoder: torch.Size([32, 64, 306])\n",
      "Shape mu: torch.Size([64, 20])\n",
      "Shape log_var: torch.Size([64, 20])\n"
     ]
    },
    {
     "name": "stderr",
     "output_type": "stream",
     "text": [
      "/tmp/ipykernel_5342/3808935312.py:7: UserWarning: To copy construct from a tensor, it is recommended to use sourceTensor.clone().detach() or sourceTensor.clone().detach().requires_grad_(True), rather than torch.tensor(sourceTensor).\n",
      "  nll = (0.5 * torch.tensor(results['obs_weight']) * torch.tensor(results['obs_flux'])**2)\n",
      "/tmp/ipykernel_5342/3808935312.py:8: UserWarning: To copy construct from a tensor, it is recommended to use sourceTensor.clone().detach() or sourceTensor.clone().detach().requires_grad_(True), rather than torch.tensor(sourceTensor).\n",
      "  kld = -0.5 * (1 + torch.tensor(results['encoding_logvar'], requires_grad=True)\n",
      "/tmp/ipykernel_5342/3808935312.py:9: UserWarning: To copy construct from a tensor, it is recommended to use sourceTensor.clone().detach() or sourceTensor.clone().detach().requires_grad_(True), rather than torch.tensor(sourceTensor).\n",
      "  - torch.tensor(results['encoding_mu'], requires_grad=True)**2\n",
      "/tmp/ipykernel_5342/3808935312.py:10: UserWarning: To copy construct from a tensor, it is recommended to use sourceTensor.clone().detach() or sourceTensor.clone().detach().requires_grad_(True), rather than torch.tensor(sourceTensor).\n",
      "  - torch.exp(torch.tensor(results['encoding_logvar'], requires_grad=True)))\n"
     ]
    },
    {
     "name": "stdout",
     "output_type": "stream",
     "text": [
      "54\n",
      "Comenzo get_data\n",
      "Grid shape: (32, 2, 300)\n",
      "Paso el Get data\n",
      "Shape pre-encoder torch.Size([32, 5, 300])\n",
      "Shape Encoder: torch.Size([32, 64, 306])\n",
      "Shape mu: torch.Size([64, 20])\n",
      "Shape log_var: torch.Size([64, 20])\n"
     ]
    },
    {
     "name": "stderr",
     "output_type": "stream",
     "text": [
      "/tmp/ipykernel_5342/3808935312.py:7: UserWarning: To copy construct from a tensor, it is recommended to use sourceTensor.clone().detach() or sourceTensor.clone().detach().requires_grad_(True), rather than torch.tensor(sourceTensor).\n",
      "  nll = (0.5 * torch.tensor(results['obs_weight']) * torch.tensor(results['obs_flux'])**2)\n",
      "/tmp/ipykernel_5342/3808935312.py:8: UserWarning: To copy construct from a tensor, it is recommended to use sourceTensor.clone().detach() or sourceTensor.clone().detach().requires_grad_(True), rather than torch.tensor(sourceTensor).\n",
      "  kld = -0.5 * (1 + torch.tensor(results['encoding_logvar'], requires_grad=True)\n",
      "/tmp/ipykernel_5342/3808935312.py:9: UserWarning: To copy construct from a tensor, it is recommended to use sourceTensor.clone().detach() or sourceTensor.clone().detach().requires_grad_(True), rather than torch.tensor(sourceTensor).\n",
      "  - torch.tensor(results['encoding_mu'], requires_grad=True)**2\n",
      "/tmp/ipykernel_5342/3808935312.py:10: UserWarning: To copy construct from a tensor, it is recommended to use sourceTensor.clone().detach() or sourceTensor.clone().detach().requires_grad_(True), rather than torch.tensor(sourceTensor).\n",
      "  - torch.exp(torch.tensor(results['encoding_logvar'], requires_grad=True)))\n"
     ]
    },
    {
     "name": "stdout",
     "output_type": "stream",
     "text": [
      "55\n",
      "Comenzo get_data\n",
      "Grid shape: (32, 2, 300)\n",
      "Paso el Get data\n",
      "Shape pre-encoder torch.Size([32, 5, 300])\n",
      "Shape Encoder: torch.Size([32, 64, 306])\n",
      "Shape mu: torch.Size([64, 20])\n",
      "Shape log_var: torch.Size([64, 20])\n"
     ]
    },
    {
     "name": "stderr",
     "output_type": "stream",
     "text": [
      "/tmp/ipykernel_5342/3808935312.py:7: UserWarning: To copy construct from a tensor, it is recommended to use sourceTensor.clone().detach() or sourceTensor.clone().detach().requires_grad_(True), rather than torch.tensor(sourceTensor).\n",
      "  nll = (0.5 * torch.tensor(results['obs_weight']) * torch.tensor(results['obs_flux'])**2)\n",
      "/tmp/ipykernel_5342/3808935312.py:8: UserWarning: To copy construct from a tensor, it is recommended to use sourceTensor.clone().detach() or sourceTensor.clone().detach().requires_grad_(True), rather than torch.tensor(sourceTensor).\n",
      "  kld = -0.5 * (1 + torch.tensor(results['encoding_logvar'], requires_grad=True)\n",
      "/tmp/ipykernel_5342/3808935312.py:9: UserWarning: To copy construct from a tensor, it is recommended to use sourceTensor.clone().detach() or sourceTensor.clone().detach().requires_grad_(True), rather than torch.tensor(sourceTensor).\n",
      "  - torch.tensor(results['encoding_mu'], requires_grad=True)**2\n",
      "/tmp/ipykernel_5342/3808935312.py:10: UserWarning: To copy construct from a tensor, it is recommended to use sourceTensor.clone().detach() or sourceTensor.clone().detach().requires_grad_(True), rather than torch.tensor(sourceTensor).\n",
      "  - torch.exp(torch.tensor(results['encoding_logvar'], requires_grad=True)))\n"
     ]
    },
    {
     "name": "stdout",
     "output_type": "stream",
     "text": [
      "56\n",
      "Comenzo get_data\n",
      "Grid shape: (32, 2, 300)\n",
      "Paso el Get data\n",
      "Shape pre-encoder torch.Size([32, 5, 300])\n",
      "Shape Encoder: torch.Size([32, 64, 306])\n",
      "Shape mu: torch.Size([64, 20])\n",
      "Shape log_var: torch.Size([64, 20])\n"
     ]
    },
    {
     "name": "stderr",
     "output_type": "stream",
     "text": [
      "/tmp/ipykernel_5342/3808935312.py:7: UserWarning: To copy construct from a tensor, it is recommended to use sourceTensor.clone().detach() or sourceTensor.clone().detach().requires_grad_(True), rather than torch.tensor(sourceTensor).\n",
      "  nll = (0.5 * torch.tensor(results['obs_weight']) * torch.tensor(results['obs_flux'])**2)\n",
      "/tmp/ipykernel_5342/3808935312.py:8: UserWarning: To copy construct from a tensor, it is recommended to use sourceTensor.clone().detach() or sourceTensor.clone().detach().requires_grad_(True), rather than torch.tensor(sourceTensor).\n",
      "  kld = -0.5 * (1 + torch.tensor(results['encoding_logvar'], requires_grad=True)\n",
      "/tmp/ipykernel_5342/3808935312.py:9: UserWarning: To copy construct from a tensor, it is recommended to use sourceTensor.clone().detach() or sourceTensor.clone().detach().requires_grad_(True), rather than torch.tensor(sourceTensor).\n",
      "  - torch.tensor(results['encoding_mu'], requires_grad=True)**2\n",
      "/tmp/ipykernel_5342/3808935312.py:10: UserWarning: To copy construct from a tensor, it is recommended to use sourceTensor.clone().detach() or sourceTensor.clone().detach().requires_grad_(True), rather than torch.tensor(sourceTensor).\n",
      "  - torch.exp(torch.tensor(results['encoding_logvar'], requires_grad=True)))\n"
     ]
    },
    {
     "name": "stdout",
     "output_type": "stream",
     "text": [
      "57\n",
      "Comenzo get_data\n",
      "Grid shape: (32, 2, 300)\n",
      "Paso el Get data\n",
      "Shape pre-encoder torch.Size([32, 5, 300])\n",
      "Shape Encoder: torch.Size([32, 64, 306])\n",
      "Shape mu: torch.Size([64, 20])\n",
      "Shape log_var: torch.Size([64, 20])\n"
     ]
    },
    {
     "name": "stderr",
     "output_type": "stream",
     "text": [
      "/tmp/ipykernel_5342/3808935312.py:7: UserWarning: To copy construct from a tensor, it is recommended to use sourceTensor.clone().detach() or sourceTensor.clone().detach().requires_grad_(True), rather than torch.tensor(sourceTensor).\n",
      "  nll = (0.5 * torch.tensor(results['obs_weight']) * torch.tensor(results['obs_flux'])**2)\n",
      "/tmp/ipykernel_5342/3808935312.py:8: UserWarning: To copy construct from a tensor, it is recommended to use sourceTensor.clone().detach() or sourceTensor.clone().detach().requires_grad_(True), rather than torch.tensor(sourceTensor).\n",
      "  kld = -0.5 * (1 + torch.tensor(results['encoding_logvar'], requires_grad=True)\n",
      "/tmp/ipykernel_5342/3808935312.py:9: UserWarning: To copy construct from a tensor, it is recommended to use sourceTensor.clone().detach() or sourceTensor.clone().detach().requires_grad_(True), rather than torch.tensor(sourceTensor).\n",
      "  - torch.tensor(results['encoding_mu'], requires_grad=True)**2\n",
      "/tmp/ipykernel_5342/3808935312.py:10: UserWarning: To copy construct from a tensor, it is recommended to use sourceTensor.clone().detach() or sourceTensor.clone().detach().requires_grad_(True), rather than torch.tensor(sourceTensor).\n",
      "  - torch.exp(torch.tensor(results['encoding_logvar'], requires_grad=True)))\n"
     ]
    },
    {
     "name": "stdout",
     "output_type": "stream",
     "text": [
      "58\n",
      "Comenzo get_data\n",
      "Grid shape: (32, 2, 300)\n",
      "Paso el Get data\n",
      "Shape pre-encoder torch.Size([32, 5, 300])\n",
      "Shape Encoder: torch.Size([32, 64, 306])\n",
      "Shape mu: torch.Size([64, 20])\n",
      "Shape log_var: torch.Size([64, 20])\n"
     ]
    },
    {
     "name": "stderr",
     "output_type": "stream",
     "text": [
      "/tmp/ipykernel_5342/3808935312.py:7: UserWarning: To copy construct from a tensor, it is recommended to use sourceTensor.clone().detach() or sourceTensor.clone().detach().requires_grad_(True), rather than torch.tensor(sourceTensor).\n",
      "  nll = (0.5 * torch.tensor(results['obs_weight']) * torch.tensor(results['obs_flux'])**2)\n",
      "/tmp/ipykernel_5342/3808935312.py:8: UserWarning: To copy construct from a tensor, it is recommended to use sourceTensor.clone().detach() or sourceTensor.clone().detach().requires_grad_(True), rather than torch.tensor(sourceTensor).\n",
      "  kld = -0.5 * (1 + torch.tensor(results['encoding_logvar'], requires_grad=True)\n",
      "/tmp/ipykernel_5342/3808935312.py:9: UserWarning: To copy construct from a tensor, it is recommended to use sourceTensor.clone().detach() or sourceTensor.clone().detach().requires_grad_(True), rather than torch.tensor(sourceTensor).\n",
      "  - torch.tensor(results['encoding_mu'], requires_grad=True)**2\n",
      "/tmp/ipykernel_5342/3808935312.py:10: UserWarning: To copy construct from a tensor, it is recommended to use sourceTensor.clone().detach() or sourceTensor.clone().detach().requires_grad_(True), rather than torch.tensor(sourceTensor).\n",
      "  - torch.exp(torch.tensor(results['encoding_logvar'], requires_grad=True)))\n"
     ]
    },
    {
     "name": "stdout",
     "output_type": "stream",
     "text": [
      "59\n",
      "Comenzo get_data\n",
      "Grid shape: (32, 2, 300)\n",
      "Paso el Get data\n",
      "Shape pre-encoder torch.Size([32, 5, 300])\n",
      "Shape Encoder: torch.Size([32, 64, 306])\n",
      "Shape mu: torch.Size([64, 20])\n",
      "Shape log_var: torch.Size([64, 20])\n"
     ]
    },
    {
     "name": "stderr",
     "output_type": "stream",
     "text": [
      "/tmp/ipykernel_5342/3808935312.py:7: UserWarning: To copy construct from a tensor, it is recommended to use sourceTensor.clone().detach() or sourceTensor.clone().detach().requires_grad_(True), rather than torch.tensor(sourceTensor).\n",
      "  nll = (0.5 * torch.tensor(results['obs_weight']) * torch.tensor(results['obs_flux'])**2)\n",
      "/tmp/ipykernel_5342/3808935312.py:8: UserWarning: To copy construct from a tensor, it is recommended to use sourceTensor.clone().detach() or sourceTensor.clone().detach().requires_grad_(True), rather than torch.tensor(sourceTensor).\n",
      "  kld = -0.5 * (1 + torch.tensor(results['encoding_logvar'], requires_grad=True)\n",
      "/tmp/ipykernel_5342/3808935312.py:9: UserWarning: To copy construct from a tensor, it is recommended to use sourceTensor.clone().detach() or sourceTensor.clone().detach().requires_grad_(True), rather than torch.tensor(sourceTensor).\n",
      "  - torch.tensor(results['encoding_mu'], requires_grad=True)**2\n",
      "/tmp/ipykernel_5342/3808935312.py:10: UserWarning: To copy construct from a tensor, it is recommended to use sourceTensor.clone().detach() or sourceTensor.clone().detach().requires_grad_(True), rather than torch.tensor(sourceTensor).\n",
      "  - torch.exp(torch.tensor(results['encoding_logvar'], requires_grad=True)))\n"
     ]
    },
    {
     "name": "stdout",
     "output_type": "stream",
     "text": [
      "60\n",
      "Comenzo get_data\n",
      "Grid shape: (32, 2, 300)\n",
      "Paso el Get data\n",
      "Shape pre-encoder torch.Size([32, 5, 300])\n",
      "Shape Encoder: torch.Size([32, 64, 306])\n",
      "Shape mu: torch.Size([64, 20])\n",
      "Shape log_var: torch.Size([64, 20])\n"
     ]
    },
    {
     "name": "stderr",
     "output_type": "stream",
     "text": [
      "/tmp/ipykernel_5342/3808935312.py:7: UserWarning: To copy construct from a tensor, it is recommended to use sourceTensor.clone().detach() or sourceTensor.clone().detach().requires_grad_(True), rather than torch.tensor(sourceTensor).\n",
      "  nll = (0.5 * torch.tensor(results['obs_weight']) * torch.tensor(results['obs_flux'])**2)\n",
      "/tmp/ipykernel_5342/3808935312.py:8: UserWarning: To copy construct from a tensor, it is recommended to use sourceTensor.clone().detach() or sourceTensor.clone().detach().requires_grad_(True), rather than torch.tensor(sourceTensor).\n",
      "  kld = -0.5 * (1 + torch.tensor(results['encoding_logvar'], requires_grad=True)\n",
      "/tmp/ipykernel_5342/3808935312.py:9: UserWarning: To copy construct from a tensor, it is recommended to use sourceTensor.clone().detach() or sourceTensor.clone().detach().requires_grad_(True), rather than torch.tensor(sourceTensor).\n",
      "  - torch.tensor(results['encoding_mu'], requires_grad=True)**2\n",
      "/tmp/ipykernel_5342/3808935312.py:10: UserWarning: To copy construct from a tensor, it is recommended to use sourceTensor.clone().detach() or sourceTensor.clone().detach().requires_grad_(True), rather than torch.tensor(sourceTensor).\n",
      "  - torch.exp(torch.tensor(results['encoding_logvar'], requires_grad=True)))\n"
     ]
    },
    {
     "name": "stdout",
     "output_type": "stream",
     "text": [
      "61\n",
      "Comenzo get_data\n",
      "Grid shape: (32, 2, 300)\n",
      "Paso el Get data\n",
      "Shape pre-encoder torch.Size([32, 5, 300])\n",
      "Shape Encoder: torch.Size([32, 64, 306])\n",
      "Shape mu: torch.Size([64, 20])\n",
      "Shape log_var: torch.Size([64, 20])\n"
     ]
    },
    {
     "name": "stderr",
     "output_type": "stream",
     "text": [
      "/tmp/ipykernel_5342/3808935312.py:7: UserWarning: To copy construct from a tensor, it is recommended to use sourceTensor.clone().detach() or sourceTensor.clone().detach().requires_grad_(True), rather than torch.tensor(sourceTensor).\n",
      "  nll = (0.5 * torch.tensor(results['obs_weight']) * torch.tensor(results['obs_flux'])**2)\n",
      "/tmp/ipykernel_5342/3808935312.py:8: UserWarning: To copy construct from a tensor, it is recommended to use sourceTensor.clone().detach() or sourceTensor.clone().detach().requires_grad_(True), rather than torch.tensor(sourceTensor).\n",
      "  kld = -0.5 * (1 + torch.tensor(results['encoding_logvar'], requires_grad=True)\n",
      "/tmp/ipykernel_5342/3808935312.py:9: UserWarning: To copy construct from a tensor, it is recommended to use sourceTensor.clone().detach() or sourceTensor.clone().detach().requires_grad_(True), rather than torch.tensor(sourceTensor).\n",
      "  - torch.tensor(results['encoding_mu'], requires_grad=True)**2\n",
      "/tmp/ipykernel_5342/3808935312.py:10: UserWarning: To copy construct from a tensor, it is recommended to use sourceTensor.clone().detach() or sourceTensor.clone().detach().requires_grad_(True), rather than torch.tensor(sourceTensor).\n",
      "  - torch.exp(torch.tensor(results['encoding_logvar'], requires_grad=True)))\n"
     ]
    },
    {
     "name": "stdout",
     "output_type": "stream",
     "text": [
      "62\n",
      "Comenzo get_data\n",
      "Grid shape: (32, 2, 300)\n",
      "Paso el Get data\n",
      "Shape pre-encoder torch.Size([32, 5, 300])\n",
      "Shape Encoder: torch.Size([32, 64, 306])\n",
      "Shape mu: torch.Size([64, 20])\n",
      "Shape log_var: torch.Size([64, 20])\n"
     ]
    },
    {
     "name": "stderr",
     "output_type": "stream",
     "text": [
      "/tmp/ipykernel_5342/3808935312.py:7: UserWarning: To copy construct from a tensor, it is recommended to use sourceTensor.clone().detach() or sourceTensor.clone().detach().requires_grad_(True), rather than torch.tensor(sourceTensor).\n",
      "  nll = (0.5 * torch.tensor(results['obs_weight']) * torch.tensor(results['obs_flux'])**2)\n",
      "/tmp/ipykernel_5342/3808935312.py:8: UserWarning: To copy construct from a tensor, it is recommended to use sourceTensor.clone().detach() or sourceTensor.clone().detach().requires_grad_(True), rather than torch.tensor(sourceTensor).\n",
      "  kld = -0.5 * (1 + torch.tensor(results['encoding_logvar'], requires_grad=True)\n",
      "/tmp/ipykernel_5342/3808935312.py:9: UserWarning: To copy construct from a tensor, it is recommended to use sourceTensor.clone().detach() or sourceTensor.clone().detach().requires_grad_(True), rather than torch.tensor(sourceTensor).\n",
      "  - torch.tensor(results['encoding_mu'], requires_grad=True)**2\n",
      "/tmp/ipykernel_5342/3808935312.py:10: UserWarning: To copy construct from a tensor, it is recommended to use sourceTensor.clone().detach() or sourceTensor.clone().detach().requires_grad_(True), rather than torch.tensor(sourceTensor).\n",
      "  - torch.exp(torch.tensor(results['encoding_logvar'], requires_grad=True)))\n"
     ]
    },
    {
     "name": "stdout",
     "output_type": "stream",
     "text": [
      "63\n",
      "Comenzo get_data\n",
      "Grid shape: (32, 2, 300)\n",
      "Paso el Get data\n",
      "Shape pre-encoder torch.Size([32, 5, 300])\n",
      "Shape Encoder: torch.Size([32, 64, 306])\n",
      "Shape mu: torch.Size([64, 20])\n",
      "Shape log_var: torch.Size([64, 20])\n"
     ]
    },
    {
     "name": "stderr",
     "output_type": "stream",
     "text": [
      "/tmp/ipykernel_5342/3808935312.py:7: UserWarning: To copy construct from a tensor, it is recommended to use sourceTensor.clone().detach() or sourceTensor.clone().detach().requires_grad_(True), rather than torch.tensor(sourceTensor).\n",
      "  nll = (0.5 * torch.tensor(results['obs_weight']) * torch.tensor(results['obs_flux'])**2)\n",
      "/tmp/ipykernel_5342/3808935312.py:8: UserWarning: To copy construct from a tensor, it is recommended to use sourceTensor.clone().detach() or sourceTensor.clone().detach().requires_grad_(True), rather than torch.tensor(sourceTensor).\n",
      "  kld = -0.5 * (1 + torch.tensor(results['encoding_logvar'], requires_grad=True)\n",
      "/tmp/ipykernel_5342/3808935312.py:9: UserWarning: To copy construct from a tensor, it is recommended to use sourceTensor.clone().detach() or sourceTensor.clone().detach().requires_grad_(True), rather than torch.tensor(sourceTensor).\n",
      "  - torch.tensor(results['encoding_mu'], requires_grad=True)**2\n",
      "/tmp/ipykernel_5342/3808935312.py:10: UserWarning: To copy construct from a tensor, it is recommended to use sourceTensor.clone().detach() or sourceTensor.clone().detach().requires_grad_(True), rather than torch.tensor(sourceTensor).\n",
      "  - torch.exp(torch.tensor(results['encoding_logvar'], requires_grad=True)))\n"
     ]
    },
    {
     "name": "stdout",
     "output_type": "stream",
     "text": [
      "64\n",
      "Comenzo get_data\n",
      "Grid shape: (32, 2, 300)\n",
      "Paso el Get data\n",
      "Shape pre-encoder torch.Size([32, 5, 300])\n",
      "Shape Encoder: torch.Size([32, 64, 306])\n",
      "Shape mu: torch.Size([64, 20])\n",
      "Shape log_var: torch.Size([64, 20])\n"
     ]
    },
    {
     "name": "stderr",
     "output_type": "stream",
     "text": [
      "/tmp/ipykernel_5342/3808935312.py:7: UserWarning: To copy construct from a tensor, it is recommended to use sourceTensor.clone().detach() or sourceTensor.clone().detach().requires_grad_(True), rather than torch.tensor(sourceTensor).\n",
      "  nll = (0.5 * torch.tensor(results['obs_weight']) * torch.tensor(results['obs_flux'])**2)\n",
      "/tmp/ipykernel_5342/3808935312.py:8: UserWarning: To copy construct from a tensor, it is recommended to use sourceTensor.clone().detach() or sourceTensor.clone().detach().requires_grad_(True), rather than torch.tensor(sourceTensor).\n",
      "  kld = -0.5 * (1 + torch.tensor(results['encoding_logvar'], requires_grad=True)\n",
      "/tmp/ipykernel_5342/3808935312.py:9: UserWarning: To copy construct from a tensor, it is recommended to use sourceTensor.clone().detach() or sourceTensor.clone().detach().requires_grad_(True), rather than torch.tensor(sourceTensor).\n",
      "  - torch.tensor(results['encoding_mu'], requires_grad=True)**2\n",
      "/tmp/ipykernel_5342/3808935312.py:10: UserWarning: To copy construct from a tensor, it is recommended to use sourceTensor.clone().detach() or sourceTensor.clone().detach().requires_grad_(True), rather than torch.tensor(sourceTensor).\n",
      "  - torch.exp(torch.tensor(results['encoding_logvar'], requires_grad=True)))\n"
     ]
    },
    {
     "name": "stdout",
     "output_type": "stream",
     "text": [
      "65\n",
      "Comenzo get_data\n",
      "Grid shape: (32, 2, 300)\n",
      "Paso el Get data\n",
      "Shape pre-encoder torch.Size([32, 5, 300])\n",
      "Shape Encoder: torch.Size([32, 64, 306])\n",
      "Shape mu: torch.Size([64, 20])\n",
      "Shape log_var: torch.Size([64, 20])\n"
     ]
    },
    {
     "name": "stderr",
     "output_type": "stream",
     "text": [
      "/tmp/ipykernel_5342/3808935312.py:7: UserWarning: To copy construct from a tensor, it is recommended to use sourceTensor.clone().detach() or sourceTensor.clone().detach().requires_grad_(True), rather than torch.tensor(sourceTensor).\n",
      "  nll = (0.5 * torch.tensor(results['obs_weight']) * torch.tensor(results['obs_flux'])**2)\n",
      "/tmp/ipykernel_5342/3808935312.py:8: UserWarning: To copy construct from a tensor, it is recommended to use sourceTensor.clone().detach() or sourceTensor.clone().detach().requires_grad_(True), rather than torch.tensor(sourceTensor).\n",
      "  kld = -0.5 * (1 + torch.tensor(results['encoding_logvar'], requires_grad=True)\n",
      "/tmp/ipykernel_5342/3808935312.py:9: UserWarning: To copy construct from a tensor, it is recommended to use sourceTensor.clone().detach() or sourceTensor.clone().detach().requires_grad_(True), rather than torch.tensor(sourceTensor).\n",
      "  - torch.tensor(results['encoding_mu'], requires_grad=True)**2\n",
      "/tmp/ipykernel_5342/3808935312.py:10: UserWarning: To copy construct from a tensor, it is recommended to use sourceTensor.clone().detach() or sourceTensor.clone().detach().requires_grad_(True), rather than torch.tensor(sourceTensor).\n",
      "  - torch.exp(torch.tensor(results['encoding_logvar'], requires_grad=True)))\n"
     ]
    },
    {
     "name": "stdout",
     "output_type": "stream",
     "text": [
      "66\n",
      "Comenzo get_data\n",
      "Grid shape: (32, 2, 300)\n",
      "Paso el Get data\n",
      "Shape pre-encoder torch.Size([32, 5, 300])\n",
      "Shape Encoder: torch.Size([32, 64, 306])\n",
      "Shape mu: torch.Size([64, 20])\n",
      "Shape log_var: torch.Size([64, 20])\n"
     ]
    },
    {
     "name": "stderr",
     "output_type": "stream",
     "text": [
      "/tmp/ipykernel_5342/3808935312.py:7: UserWarning: To copy construct from a tensor, it is recommended to use sourceTensor.clone().detach() or sourceTensor.clone().detach().requires_grad_(True), rather than torch.tensor(sourceTensor).\n",
      "  nll = (0.5 * torch.tensor(results['obs_weight']) * torch.tensor(results['obs_flux'])**2)\n",
      "/tmp/ipykernel_5342/3808935312.py:8: UserWarning: To copy construct from a tensor, it is recommended to use sourceTensor.clone().detach() or sourceTensor.clone().detach().requires_grad_(True), rather than torch.tensor(sourceTensor).\n",
      "  kld = -0.5 * (1 + torch.tensor(results['encoding_logvar'], requires_grad=True)\n",
      "/tmp/ipykernel_5342/3808935312.py:9: UserWarning: To copy construct from a tensor, it is recommended to use sourceTensor.clone().detach() or sourceTensor.clone().detach().requires_grad_(True), rather than torch.tensor(sourceTensor).\n",
      "  - torch.tensor(results['encoding_mu'], requires_grad=True)**2\n",
      "/tmp/ipykernel_5342/3808935312.py:10: UserWarning: To copy construct from a tensor, it is recommended to use sourceTensor.clone().detach() or sourceTensor.clone().detach().requires_grad_(True), rather than torch.tensor(sourceTensor).\n",
      "  - torch.exp(torch.tensor(results['encoding_logvar'], requires_grad=True)))\n"
     ]
    },
    {
     "name": "stdout",
     "output_type": "stream",
     "text": [
      "67\n",
      "Comenzo get_data\n",
      "Grid shape: (32, 2, 300)\n",
      "Paso el Get data\n",
      "Shape pre-encoder torch.Size([32, 5, 300])\n",
      "Shape Encoder: torch.Size([32, 64, 306])\n",
      "Shape mu: torch.Size([64, 20])\n",
      "Shape log_var: torch.Size([64, 20])\n"
     ]
    },
    {
     "name": "stderr",
     "output_type": "stream",
     "text": [
      "/tmp/ipykernel_5342/3808935312.py:7: UserWarning: To copy construct from a tensor, it is recommended to use sourceTensor.clone().detach() or sourceTensor.clone().detach().requires_grad_(True), rather than torch.tensor(sourceTensor).\n",
      "  nll = (0.5 * torch.tensor(results['obs_weight']) * torch.tensor(results['obs_flux'])**2)\n",
      "/tmp/ipykernel_5342/3808935312.py:8: UserWarning: To copy construct from a tensor, it is recommended to use sourceTensor.clone().detach() or sourceTensor.clone().detach().requires_grad_(True), rather than torch.tensor(sourceTensor).\n",
      "  kld = -0.5 * (1 + torch.tensor(results['encoding_logvar'], requires_grad=True)\n",
      "/tmp/ipykernel_5342/3808935312.py:9: UserWarning: To copy construct from a tensor, it is recommended to use sourceTensor.clone().detach() or sourceTensor.clone().detach().requires_grad_(True), rather than torch.tensor(sourceTensor).\n",
      "  - torch.tensor(results['encoding_mu'], requires_grad=True)**2\n",
      "/tmp/ipykernel_5342/3808935312.py:10: UserWarning: To copy construct from a tensor, it is recommended to use sourceTensor.clone().detach() or sourceTensor.clone().detach().requires_grad_(True), rather than torch.tensor(sourceTensor).\n",
      "  - torch.exp(torch.tensor(results['encoding_logvar'], requires_grad=True)))\n"
     ]
    },
    {
     "name": "stdout",
     "output_type": "stream",
     "text": [
      "68\n",
      "Comenzo get_data\n",
      "Grid shape: (32, 2, 300)\n",
      "Paso el Get data\n",
      "Shape pre-encoder torch.Size([32, 5, 300])\n",
      "Shape Encoder: torch.Size([32, 64, 306])\n",
      "Shape mu: torch.Size([64, 20])\n",
      "Shape log_var: torch.Size([64, 20])\n"
     ]
    },
    {
     "name": "stderr",
     "output_type": "stream",
     "text": [
      "/tmp/ipykernel_5342/3808935312.py:7: UserWarning: To copy construct from a tensor, it is recommended to use sourceTensor.clone().detach() or sourceTensor.clone().detach().requires_grad_(True), rather than torch.tensor(sourceTensor).\n",
      "  nll = (0.5 * torch.tensor(results['obs_weight']) * torch.tensor(results['obs_flux'])**2)\n",
      "/tmp/ipykernel_5342/3808935312.py:8: UserWarning: To copy construct from a tensor, it is recommended to use sourceTensor.clone().detach() or sourceTensor.clone().detach().requires_grad_(True), rather than torch.tensor(sourceTensor).\n",
      "  kld = -0.5 * (1 + torch.tensor(results['encoding_logvar'], requires_grad=True)\n",
      "/tmp/ipykernel_5342/3808935312.py:9: UserWarning: To copy construct from a tensor, it is recommended to use sourceTensor.clone().detach() or sourceTensor.clone().detach().requires_grad_(True), rather than torch.tensor(sourceTensor).\n",
      "  - torch.tensor(results['encoding_mu'], requires_grad=True)**2\n",
      "/tmp/ipykernel_5342/3808935312.py:10: UserWarning: To copy construct from a tensor, it is recommended to use sourceTensor.clone().detach() or sourceTensor.clone().detach().requires_grad_(True), rather than torch.tensor(sourceTensor).\n",
      "  - torch.exp(torch.tensor(results['encoding_logvar'], requires_grad=True)))\n"
     ]
    },
    {
     "name": "stdout",
     "output_type": "stream",
     "text": [
      "69\n",
      "Comenzo get_data\n",
      "Grid shape: (32, 2, 300)\n",
      "Paso el Get data\n",
      "Shape pre-encoder torch.Size([32, 5, 300])\n",
      "Shape Encoder: torch.Size([32, 64, 306])\n",
      "Shape mu: torch.Size([64, 20])\n",
      "Shape log_var: torch.Size([64, 20])\n"
     ]
    },
    {
     "name": "stderr",
     "output_type": "stream",
     "text": [
      "/tmp/ipykernel_5342/3808935312.py:7: UserWarning: To copy construct from a tensor, it is recommended to use sourceTensor.clone().detach() or sourceTensor.clone().detach().requires_grad_(True), rather than torch.tensor(sourceTensor).\n",
      "  nll = (0.5 * torch.tensor(results['obs_weight']) * torch.tensor(results['obs_flux'])**2)\n",
      "/tmp/ipykernel_5342/3808935312.py:8: UserWarning: To copy construct from a tensor, it is recommended to use sourceTensor.clone().detach() or sourceTensor.clone().detach().requires_grad_(True), rather than torch.tensor(sourceTensor).\n",
      "  kld = -0.5 * (1 + torch.tensor(results['encoding_logvar'], requires_grad=True)\n",
      "/tmp/ipykernel_5342/3808935312.py:9: UserWarning: To copy construct from a tensor, it is recommended to use sourceTensor.clone().detach() or sourceTensor.clone().detach().requires_grad_(True), rather than torch.tensor(sourceTensor).\n",
      "  - torch.tensor(results['encoding_mu'], requires_grad=True)**2\n",
      "/tmp/ipykernel_5342/3808935312.py:10: UserWarning: To copy construct from a tensor, it is recommended to use sourceTensor.clone().detach() or sourceTensor.clone().detach().requires_grad_(True), rather than torch.tensor(sourceTensor).\n",
      "  - torch.exp(torch.tensor(results['encoding_logvar'], requires_grad=True)))\n"
     ]
    },
    {
     "name": "stdout",
     "output_type": "stream",
     "text": [
      "70\n",
      "Comenzo get_data\n",
      "Grid shape: (32, 2, 300)\n",
      "Paso el Get data\n",
      "Shape pre-encoder torch.Size([32, 5, 300])\n",
      "Shape Encoder: torch.Size([32, 64, 306])\n",
      "Shape mu: torch.Size([64, 20])\n",
      "Shape log_var: torch.Size([64, 20])\n"
     ]
    },
    {
     "name": "stderr",
     "output_type": "stream",
     "text": [
      "/tmp/ipykernel_5342/3808935312.py:7: UserWarning: To copy construct from a tensor, it is recommended to use sourceTensor.clone().detach() or sourceTensor.clone().detach().requires_grad_(True), rather than torch.tensor(sourceTensor).\n",
      "  nll = (0.5 * torch.tensor(results['obs_weight']) * torch.tensor(results['obs_flux'])**2)\n",
      "/tmp/ipykernel_5342/3808935312.py:8: UserWarning: To copy construct from a tensor, it is recommended to use sourceTensor.clone().detach() or sourceTensor.clone().detach().requires_grad_(True), rather than torch.tensor(sourceTensor).\n",
      "  kld = -0.5 * (1 + torch.tensor(results['encoding_logvar'], requires_grad=True)\n",
      "/tmp/ipykernel_5342/3808935312.py:9: UserWarning: To copy construct from a tensor, it is recommended to use sourceTensor.clone().detach() or sourceTensor.clone().detach().requires_grad_(True), rather than torch.tensor(sourceTensor).\n",
      "  - torch.tensor(results['encoding_mu'], requires_grad=True)**2\n",
      "/tmp/ipykernel_5342/3808935312.py:10: UserWarning: To copy construct from a tensor, it is recommended to use sourceTensor.clone().detach() or sourceTensor.clone().detach().requires_grad_(True), rather than torch.tensor(sourceTensor).\n",
      "  - torch.exp(torch.tensor(results['encoding_logvar'], requires_grad=True)))\n"
     ]
    },
    {
     "name": "stdout",
     "output_type": "stream",
     "text": [
      "71\n",
      "Comenzo get_data\n",
      "Grid shape: (32, 2, 300)\n",
      "Paso el Get data\n",
      "Shape pre-encoder torch.Size([32, 5, 300])\n",
      "Shape Encoder: torch.Size([32, 64, 306])\n",
      "Shape mu: torch.Size([64, 20])\n",
      "Shape log_var: torch.Size([64, 20])\n"
     ]
    },
    {
     "name": "stderr",
     "output_type": "stream",
     "text": [
      "/tmp/ipykernel_5342/3808935312.py:7: UserWarning: To copy construct from a tensor, it is recommended to use sourceTensor.clone().detach() or sourceTensor.clone().detach().requires_grad_(True), rather than torch.tensor(sourceTensor).\n",
      "  nll = (0.5 * torch.tensor(results['obs_weight']) * torch.tensor(results['obs_flux'])**2)\n",
      "/tmp/ipykernel_5342/3808935312.py:8: UserWarning: To copy construct from a tensor, it is recommended to use sourceTensor.clone().detach() or sourceTensor.clone().detach().requires_grad_(True), rather than torch.tensor(sourceTensor).\n",
      "  kld = -0.5 * (1 + torch.tensor(results['encoding_logvar'], requires_grad=True)\n",
      "/tmp/ipykernel_5342/3808935312.py:9: UserWarning: To copy construct from a tensor, it is recommended to use sourceTensor.clone().detach() or sourceTensor.clone().detach().requires_grad_(True), rather than torch.tensor(sourceTensor).\n",
      "  - torch.tensor(results['encoding_mu'], requires_grad=True)**2\n",
      "/tmp/ipykernel_5342/3808935312.py:10: UserWarning: To copy construct from a tensor, it is recommended to use sourceTensor.clone().detach() or sourceTensor.clone().detach().requires_grad_(True), rather than torch.tensor(sourceTensor).\n",
      "  - torch.exp(torch.tensor(results['encoding_logvar'], requires_grad=True)))\n"
     ]
    },
    {
     "name": "stdout",
     "output_type": "stream",
     "text": [
      "72\n",
      "Comenzo get_data\n",
      "Grid shape: (32, 2, 300)\n",
      "Paso el Get data\n",
      "Shape pre-encoder torch.Size([32, 5, 300])\n",
      "Shape Encoder: torch.Size([32, 64, 306])\n",
      "Shape mu: torch.Size([64, 20])\n",
      "Shape log_var: torch.Size([64, 20])\n"
     ]
    },
    {
     "name": "stderr",
     "output_type": "stream",
     "text": [
      "/tmp/ipykernel_5342/3808935312.py:7: UserWarning: To copy construct from a tensor, it is recommended to use sourceTensor.clone().detach() or sourceTensor.clone().detach().requires_grad_(True), rather than torch.tensor(sourceTensor).\n",
      "  nll = (0.5 * torch.tensor(results['obs_weight']) * torch.tensor(results['obs_flux'])**2)\n",
      "/tmp/ipykernel_5342/3808935312.py:8: UserWarning: To copy construct from a tensor, it is recommended to use sourceTensor.clone().detach() or sourceTensor.clone().detach().requires_grad_(True), rather than torch.tensor(sourceTensor).\n",
      "  kld = -0.5 * (1 + torch.tensor(results['encoding_logvar'], requires_grad=True)\n",
      "/tmp/ipykernel_5342/3808935312.py:9: UserWarning: To copy construct from a tensor, it is recommended to use sourceTensor.clone().detach() or sourceTensor.clone().detach().requires_grad_(True), rather than torch.tensor(sourceTensor).\n",
      "  - torch.tensor(results['encoding_mu'], requires_grad=True)**2\n",
      "/tmp/ipykernel_5342/3808935312.py:10: UserWarning: To copy construct from a tensor, it is recommended to use sourceTensor.clone().detach() or sourceTensor.clone().detach().requires_grad_(True), rather than torch.tensor(sourceTensor).\n",
      "  - torch.exp(torch.tensor(results['encoding_logvar'], requires_grad=True)))\n"
     ]
    },
    {
     "name": "stdout",
     "output_type": "stream",
     "text": [
      "73\n",
      "Comenzo get_data\n",
      "Grid shape: (32, 2, 300)\n",
      "Paso el Get data\n",
      "Shape pre-encoder torch.Size([32, 5, 300])\n",
      "Shape Encoder: torch.Size([32, 64, 306])\n",
      "Shape mu: torch.Size([64, 20])\n",
      "Shape log_var: torch.Size([64, 20])\n"
     ]
    },
    {
     "name": "stderr",
     "output_type": "stream",
     "text": [
      "/tmp/ipykernel_5342/3808935312.py:7: UserWarning: To copy construct from a tensor, it is recommended to use sourceTensor.clone().detach() or sourceTensor.clone().detach().requires_grad_(True), rather than torch.tensor(sourceTensor).\n",
      "  nll = (0.5 * torch.tensor(results['obs_weight']) * torch.tensor(results['obs_flux'])**2)\n",
      "/tmp/ipykernel_5342/3808935312.py:8: UserWarning: To copy construct from a tensor, it is recommended to use sourceTensor.clone().detach() or sourceTensor.clone().detach().requires_grad_(True), rather than torch.tensor(sourceTensor).\n",
      "  kld = -0.5 * (1 + torch.tensor(results['encoding_logvar'], requires_grad=True)\n",
      "/tmp/ipykernel_5342/3808935312.py:9: UserWarning: To copy construct from a tensor, it is recommended to use sourceTensor.clone().detach() or sourceTensor.clone().detach().requires_grad_(True), rather than torch.tensor(sourceTensor).\n",
      "  - torch.tensor(results['encoding_mu'], requires_grad=True)**2\n",
      "/tmp/ipykernel_5342/3808935312.py:10: UserWarning: To copy construct from a tensor, it is recommended to use sourceTensor.clone().detach() or sourceTensor.clone().detach().requires_grad_(True), rather than torch.tensor(sourceTensor).\n",
      "  - torch.exp(torch.tensor(results['encoding_logvar'], requires_grad=True)))\n"
     ]
    },
    {
     "name": "stdout",
     "output_type": "stream",
     "text": [
      "74\n",
      "Comenzo get_data\n",
      "Grid shape: (32, 2, 300)\n",
      "Paso el Get data\n",
      "Shape pre-encoder torch.Size([32, 5, 300])\n",
      "Shape Encoder: torch.Size([32, 64, 306])\n",
      "Shape mu: torch.Size([64, 20])\n",
      "Shape log_var: torch.Size([64, 20])\n"
     ]
    },
    {
     "name": "stderr",
     "output_type": "stream",
     "text": [
      "/tmp/ipykernel_5342/3808935312.py:7: UserWarning: To copy construct from a tensor, it is recommended to use sourceTensor.clone().detach() or sourceTensor.clone().detach().requires_grad_(True), rather than torch.tensor(sourceTensor).\n",
      "  nll = (0.5 * torch.tensor(results['obs_weight']) * torch.tensor(results['obs_flux'])**2)\n",
      "/tmp/ipykernel_5342/3808935312.py:8: UserWarning: To copy construct from a tensor, it is recommended to use sourceTensor.clone().detach() or sourceTensor.clone().detach().requires_grad_(True), rather than torch.tensor(sourceTensor).\n",
      "  kld = -0.5 * (1 + torch.tensor(results['encoding_logvar'], requires_grad=True)\n",
      "/tmp/ipykernel_5342/3808935312.py:9: UserWarning: To copy construct from a tensor, it is recommended to use sourceTensor.clone().detach() or sourceTensor.clone().detach().requires_grad_(True), rather than torch.tensor(sourceTensor).\n",
      "  - torch.tensor(results['encoding_mu'], requires_grad=True)**2\n",
      "/tmp/ipykernel_5342/3808935312.py:10: UserWarning: To copy construct from a tensor, it is recommended to use sourceTensor.clone().detach() or sourceTensor.clone().detach().requires_grad_(True), rather than torch.tensor(sourceTensor).\n",
      "  - torch.exp(torch.tensor(results['encoding_logvar'], requires_grad=True)))\n"
     ]
    },
    {
     "name": "stdout",
     "output_type": "stream",
     "text": [
      "75\n",
      "Comenzo get_data\n",
      "Grid shape: (32, 2, 300)\n",
      "Paso el Get data\n",
      "Shape pre-encoder torch.Size([32, 5, 300])\n",
      "Shape Encoder: torch.Size([32, 64, 306])\n",
      "Shape mu: torch.Size([64, 20])\n",
      "Shape log_var: torch.Size([64, 20])\n"
     ]
    },
    {
     "name": "stderr",
     "output_type": "stream",
     "text": [
      "/tmp/ipykernel_5342/3808935312.py:7: UserWarning: To copy construct from a tensor, it is recommended to use sourceTensor.clone().detach() or sourceTensor.clone().detach().requires_grad_(True), rather than torch.tensor(sourceTensor).\n",
      "  nll = (0.5 * torch.tensor(results['obs_weight']) * torch.tensor(results['obs_flux'])**2)\n",
      "/tmp/ipykernel_5342/3808935312.py:8: UserWarning: To copy construct from a tensor, it is recommended to use sourceTensor.clone().detach() or sourceTensor.clone().detach().requires_grad_(True), rather than torch.tensor(sourceTensor).\n",
      "  kld = -0.5 * (1 + torch.tensor(results['encoding_logvar'], requires_grad=True)\n",
      "/tmp/ipykernel_5342/3808935312.py:9: UserWarning: To copy construct from a tensor, it is recommended to use sourceTensor.clone().detach() or sourceTensor.clone().detach().requires_grad_(True), rather than torch.tensor(sourceTensor).\n",
      "  - torch.tensor(results['encoding_mu'], requires_grad=True)**2\n",
      "/tmp/ipykernel_5342/3808935312.py:10: UserWarning: To copy construct from a tensor, it is recommended to use sourceTensor.clone().detach() or sourceTensor.clone().detach().requires_grad_(True), rather than torch.tensor(sourceTensor).\n",
      "  - torch.exp(torch.tensor(results['encoding_logvar'], requires_grad=True)))\n"
     ]
    },
    {
     "name": "stdout",
     "output_type": "stream",
     "text": [
      "76\n",
      "Comenzo get_data\n",
      "Grid shape: (32, 2, 300)\n",
      "Paso el Get data\n",
      "Shape pre-encoder torch.Size([32, 5, 300])\n",
      "Shape Encoder: torch.Size([32, 64, 306])\n",
      "Shape mu: torch.Size([64, 20])\n",
      "Shape log_var: torch.Size([64, 20])\n"
     ]
    },
    {
     "name": "stderr",
     "output_type": "stream",
     "text": [
      "/tmp/ipykernel_5342/3808935312.py:7: UserWarning: To copy construct from a tensor, it is recommended to use sourceTensor.clone().detach() or sourceTensor.clone().detach().requires_grad_(True), rather than torch.tensor(sourceTensor).\n",
      "  nll = (0.5 * torch.tensor(results['obs_weight']) * torch.tensor(results['obs_flux'])**2)\n",
      "/tmp/ipykernel_5342/3808935312.py:8: UserWarning: To copy construct from a tensor, it is recommended to use sourceTensor.clone().detach() or sourceTensor.clone().detach().requires_grad_(True), rather than torch.tensor(sourceTensor).\n",
      "  kld = -0.5 * (1 + torch.tensor(results['encoding_logvar'], requires_grad=True)\n",
      "/tmp/ipykernel_5342/3808935312.py:9: UserWarning: To copy construct from a tensor, it is recommended to use sourceTensor.clone().detach() or sourceTensor.clone().detach().requires_grad_(True), rather than torch.tensor(sourceTensor).\n",
      "  - torch.tensor(results['encoding_mu'], requires_grad=True)**2\n",
      "/tmp/ipykernel_5342/3808935312.py:10: UserWarning: To copy construct from a tensor, it is recommended to use sourceTensor.clone().detach() or sourceTensor.clone().detach().requires_grad_(True), rather than torch.tensor(sourceTensor).\n",
      "  - torch.exp(torch.tensor(results['encoding_logvar'], requires_grad=True)))\n"
     ]
    },
    {
     "name": "stdout",
     "output_type": "stream",
     "text": [
      "77\n",
      "Comenzo get_data\n",
      "Grid shape: (32, 2, 300)\n",
      "Paso el Get data\n",
      "Shape pre-encoder torch.Size([32, 5, 300])\n",
      "Shape Encoder: torch.Size([32, 64, 306])\n",
      "Shape mu: torch.Size([64, 20])\n",
      "Shape log_var: torch.Size([64, 20])\n"
     ]
    },
    {
     "name": "stderr",
     "output_type": "stream",
     "text": [
      "/tmp/ipykernel_5342/3808935312.py:7: UserWarning: To copy construct from a tensor, it is recommended to use sourceTensor.clone().detach() or sourceTensor.clone().detach().requires_grad_(True), rather than torch.tensor(sourceTensor).\n",
      "  nll = (0.5 * torch.tensor(results['obs_weight']) * torch.tensor(results['obs_flux'])**2)\n",
      "/tmp/ipykernel_5342/3808935312.py:8: UserWarning: To copy construct from a tensor, it is recommended to use sourceTensor.clone().detach() or sourceTensor.clone().detach().requires_grad_(True), rather than torch.tensor(sourceTensor).\n",
      "  kld = -0.5 * (1 + torch.tensor(results['encoding_logvar'], requires_grad=True)\n",
      "/tmp/ipykernel_5342/3808935312.py:9: UserWarning: To copy construct from a tensor, it is recommended to use sourceTensor.clone().detach() or sourceTensor.clone().detach().requires_grad_(True), rather than torch.tensor(sourceTensor).\n",
      "  - torch.tensor(results['encoding_mu'], requires_grad=True)**2\n",
      "/tmp/ipykernel_5342/3808935312.py:10: UserWarning: To copy construct from a tensor, it is recommended to use sourceTensor.clone().detach() or sourceTensor.clone().detach().requires_grad_(True), rather than torch.tensor(sourceTensor).\n",
      "  - torch.exp(torch.tensor(results['encoding_logvar'], requires_grad=True)))\n"
     ]
    },
    {
     "name": "stdout",
     "output_type": "stream",
     "text": [
      "78\n",
      "Comenzo get_data\n",
      "Grid shape: (32, 2, 300)\n",
      "Paso el Get data\n",
      "Shape pre-encoder torch.Size([32, 5, 300])\n",
      "Shape Encoder: torch.Size([32, 64, 306])\n",
      "Shape mu: torch.Size([64, 20])\n",
      "Shape log_var: torch.Size([64, 20])\n"
     ]
    },
    {
     "name": "stderr",
     "output_type": "stream",
     "text": [
      "/tmp/ipykernel_5342/3808935312.py:7: UserWarning: To copy construct from a tensor, it is recommended to use sourceTensor.clone().detach() or sourceTensor.clone().detach().requires_grad_(True), rather than torch.tensor(sourceTensor).\n",
      "  nll = (0.5 * torch.tensor(results['obs_weight']) * torch.tensor(results['obs_flux'])**2)\n",
      "/tmp/ipykernel_5342/3808935312.py:8: UserWarning: To copy construct from a tensor, it is recommended to use sourceTensor.clone().detach() or sourceTensor.clone().detach().requires_grad_(True), rather than torch.tensor(sourceTensor).\n",
      "  kld = -0.5 * (1 + torch.tensor(results['encoding_logvar'], requires_grad=True)\n",
      "/tmp/ipykernel_5342/3808935312.py:9: UserWarning: To copy construct from a tensor, it is recommended to use sourceTensor.clone().detach() or sourceTensor.clone().detach().requires_grad_(True), rather than torch.tensor(sourceTensor).\n",
      "  - torch.tensor(results['encoding_mu'], requires_grad=True)**2\n",
      "/tmp/ipykernel_5342/3808935312.py:10: UserWarning: To copy construct from a tensor, it is recommended to use sourceTensor.clone().detach() or sourceTensor.clone().detach().requires_grad_(True), rather than torch.tensor(sourceTensor).\n",
      "  - torch.exp(torch.tensor(results['encoding_logvar'], requires_grad=True)))\n"
     ]
    },
    {
     "name": "stdout",
     "output_type": "stream",
     "text": [
      "79\n",
      "Comenzo get_data\n",
      "Grid shape: (32, 2, 300)\n",
      "Paso el Get data\n",
      "Shape pre-encoder torch.Size([32, 5, 300])\n",
      "Shape Encoder: torch.Size([32, 64, 306])\n",
      "Shape mu: torch.Size([64, 20])\n",
      "Shape log_var: torch.Size([64, 20])\n"
     ]
    },
    {
     "name": "stderr",
     "output_type": "stream",
     "text": [
      "/tmp/ipykernel_5342/3808935312.py:7: UserWarning: To copy construct from a tensor, it is recommended to use sourceTensor.clone().detach() or sourceTensor.clone().detach().requires_grad_(True), rather than torch.tensor(sourceTensor).\n",
      "  nll = (0.5 * torch.tensor(results['obs_weight']) * torch.tensor(results['obs_flux'])**2)\n",
      "/tmp/ipykernel_5342/3808935312.py:8: UserWarning: To copy construct from a tensor, it is recommended to use sourceTensor.clone().detach() or sourceTensor.clone().detach().requires_grad_(True), rather than torch.tensor(sourceTensor).\n",
      "  kld = -0.5 * (1 + torch.tensor(results['encoding_logvar'], requires_grad=True)\n",
      "/tmp/ipykernel_5342/3808935312.py:9: UserWarning: To copy construct from a tensor, it is recommended to use sourceTensor.clone().detach() or sourceTensor.clone().detach().requires_grad_(True), rather than torch.tensor(sourceTensor).\n",
      "  - torch.tensor(results['encoding_mu'], requires_grad=True)**2\n",
      "/tmp/ipykernel_5342/3808935312.py:10: UserWarning: To copy construct from a tensor, it is recommended to use sourceTensor.clone().detach() or sourceTensor.clone().detach().requires_grad_(True), rather than torch.tensor(sourceTensor).\n",
      "  - torch.exp(torch.tensor(results['encoding_logvar'], requires_grad=True)))\n"
     ]
    },
    {
     "name": "stdout",
     "output_type": "stream",
     "text": [
      "80\n",
      "Comenzo get_data\n",
      "Grid shape: (32, 2, 300)\n",
      "Paso el Get data\n",
      "Shape pre-encoder torch.Size([32, 5, 300])\n",
      "Shape Encoder: torch.Size([32, 64, 306])\n",
      "Shape mu: torch.Size([64, 20])\n",
      "Shape log_var: torch.Size([64, 20])\n"
     ]
    },
    {
     "name": "stderr",
     "output_type": "stream",
     "text": [
      "/tmp/ipykernel_5342/3808935312.py:7: UserWarning: To copy construct from a tensor, it is recommended to use sourceTensor.clone().detach() or sourceTensor.clone().detach().requires_grad_(True), rather than torch.tensor(sourceTensor).\n",
      "  nll = (0.5 * torch.tensor(results['obs_weight']) * torch.tensor(results['obs_flux'])**2)\n",
      "/tmp/ipykernel_5342/3808935312.py:8: UserWarning: To copy construct from a tensor, it is recommended to use sourceTensor.clone().detach() or sourceTensor.clone().detach().requires_grad_(True), rather than torch.tensor(sourceTensor).\n",
      "  kld = -0.5 * (1 + torch.tensor(results['encoding_logvar'], requires_grad=True)\n",
      "/tmp/ipykernel_5342/3808935312.py:9: UserWarning: To copy construct from a tensor, it is recommended to use sourceTensor.clone().detach() or sourceTensor.clone().detach().requires_grad_(True), rather than torch.tensor(sourceTensor).\n",
      "  - torch.tensor(results['encoding_mu'], requires_grad=True)**2\n",
      "/tmp/ipykernel_5342/3808935312.py:10: UserWarning: To copy construct from a tensor, it is recommended to use sourceTensor.clone().detach() or sourceTensor.clone().detach().requires_grad_(True), rather than torch.tensor(sourceTensor).\n",
      "  - torch.exp(torch.tensor(results['encoding_logvar'], requires_grad=True)))\n"
     ]
    },
    {
     "name": "stdout",
     "output_type": "stream",
     "text": [
      "81\n",
      "Comenzo get_data\n",
      "Grid shape: (32, 2, 300)\n",
      "Paso el Get data\n",
      "Shape pre-encoder torch.Size([32, 5, 300])\n",
      "Shape Encoder: torch.Size([32, 64, 306])\n",
      "Shape mu: torch.Size([64, 20])\n",
      "Shape log_var: torch.Size([64, 20])\n"
     ]
    },
    {
     "name": "stderr",
     "output_type": "stream",
     "text": [
      "/tmp/ipykernel_5342/3808935312.py:7: UserWarning: To copy construct from a tensor, it is recommended to use sourceTensor.clone().detach() or sourceTensor.clone().detach().requires_grad_(True), rather than torch.tensor(sourceTensor).\n",
      "  nll = (0.5 * torch.tensor(results['obs_weight']) * torch.tensor(results['obs_flux'])**2)\n",
      "/tmp/ipykernel_5342/3808935312.py:8: UserWarning: To copy construct from a tensor, it is recommended to use sourceTensor.clone().detach() or sourceTensor.clone().detach().requires_grad_(True), rather than torch.tensor(sourceTensor).\n",
      "  kld = -0.5 * (1 + torch.tensor(results['encoding_logvar'], requires_grad=True)\n",
      "/tmp/ipykernel_5342/3808935312.py:9: UserWarning: To copy construct from a tensor, it is recommended to use sourceTensor.clone().detach() or sourceTensor.clone().detach().requires_grad_(True), rather than torch.tensor(sourceTensor).\n",
      "  - torch.tensor(results['encoding_mu'], requires_grad=True)**2\n",
      "/tmp/ipykernel_5342/3808935312.py:10: UserWarning: To copy construct from a tensor, it is recommended to use sourceTensor.clone().detach() or sourceTensor.clone().detach().requires_grad_(True), rather than torch.tensor(sourceTensor).\n",
      "  - torch.exp(torch.tensor(results['encoding_logvar'], requires_grad=True)))\n"
     ]
    },
    {
     "name": "stdout",
     "output_type": "stream",
     "text": [
      "82\n",
      "Comenzo get_data\n",
      "Grid shape: (32, 2, 300)\n",
      "Paso el Get data\n",
      "Shape pre-encoder torch.Size([32, 5, 300])\n",
      "Shape Encoder: torch.Size([32, 64, 306])\n",
      "Shape mu: torch.Size([64, 20])\n",
      "Shape log_var: torch.Size([64, 20])\n"
     ]
    },
    {
     "name": "stderr",
     "output_type": "stream",
     "text": [
      "/tmp/ipykernel_5342/3808935312.py:7: UserWarning: To copy construct from a tensor, it is recommended to use sourceTensor.clone().detach() or sourceTensor.clone().detach().requires_grad_(True), rather than torch.tensor(sourceTensor).\n",
      "  nll = (0.5 * torch.tensor(results['obs_weight']) * torch.tensor(results['obs_flux'])**2)\n",
      "/tmp/ipykernel_5342/3808935312.py:8: UserWarning: To copy construct from a tensor, it is recommended to use sourceTensor.clone().detach() or sourceTensor.clone().detach().requires_grad_(True), rather than torch.tensor(sourceTensor).\n",
      "  kld = -0.5 * (1 + torch.tensor(results['encoding_logvar'], requires_grad=True)\n",
      "/tmp/ipykernel_5342/3808935312.py:9: UserWarning: To copy construct from a tensor, it is recommended to use sourceTensor.clone().detach() or sourceTensor.clone().detach().requires_grad_(True), rather than torch.tensor(sourceTensor).\n",
      "  - torch.tensor(results['encoding_mu'], requires_grad=True)**2\n",
      "/tmp/ipykernel_5342/3808935312.py:10: UserWarning: To copy construct from a tensor, it is recommended to use sourceTensor.clone().detach() or sourceTensor.clone().detach().requires_grad_(True), rather than torch.tensor(sourceTensor).\n",
      "  - torch.exp(torch.tensor(results['encoding_logvar'], requires_grad=True)))\n"
     ]
    },
    {
     "name": "stdout",
     "output_type": "stream",
     "text": [
      "83\n",
      "Comenzo get_data\n",
      "Grid shape: (32, 2, 300)\n",
      "Paso el Get data\n",
      "Shape pre-encoder torch.Size([32, 5, 300])\n",
      "Shape Encoder: torch.Size([32, 64, 306])\n",
      "Shape mu: torch.Size([64, 20])\n",
      "Shape log_var: torch.Size([64, 20])\n"
     ]
    },
    {
     "name": "stderr",
     "output_type": "stream",
     "text": [
      "/tmp/ipykernel_5342/3808935312.py:7: UserWarning: To copy construct from a tensor, it is recommended to use sourceTensor.clone().detach() or sourceTensor.clone().detach().requires_grad_(True), rather than torch.tensor(sourceTensor).\n",
      "  nll = (0.5 * torch.tensor(results['obs_weight']) * torch.tensor(results['obs_flux'])**2)\n",
      "/tmp/ipykernel_5342/3808935312.py:8: UserWarning: To copy construct from a tensor, it is recommended to use sourceTensor.clone().detach() or sourceTensor.clone().detach().requires_grad_(True), rather than torch.tensor(sourceTensor).\n",
      "  kld = -0.5 * (1 + torch.tensor(results['encoding_logvar'], requires_grad=True)\n",
      "/tmp/ipykernel_5342/3808935312.py:9: UserWarning: To copy construct from a tensor, it is recommended to use sourceTensor.clone().detach() or sourceTensor.clone().detach().requires_grad_(True), rather than torch.tensor(sourceTensor).\n",
      "  - torch.tensor(results['encoding_mu'], requires_grad=True)**2\n",
      "/tmp/ipykernel_5342/3808935312.py:10: UserWarning: To copy construct from a tensor, it is recommended to use sourceTensor.clone().detach() or sourceTensor.clone().detach().requires_grad_(True), rather than torch.tensor(sourceTensor).\n",
      "  - torch.exp(torch.tensor(results['encoding_logvar'], requires_grad=True)))\n"
     ]
    },
    {
     "name": "stdout",
     "output_type": "stream",
     "text": [
      "84\n",
      "Comenzo get_data\n",
      "Grid shape: (32, 2, 300)\n",
      "Paso el Get data\n",
      "Shape pre-encoder torch.Size([32, 5, 300])\n",
      "Shape Encoder: torch.Size([32, 64, 306])\n",
      "Shape mu: torch.Size([64, 20])\n",
      "Shape log_var: torch.Size([64, 20])\n"
     ]
    },
    {
     "name": "stderr",
     "output_type": "stream",
     "text": [
      "/tmp/ipykernel_5342/3808935312.py:7: UserWarning: To copy construct from a tensor, it is recommended to use sourceTensor.clone().detach() or sourceTensor.clone().detach().requires_grad_(True), rather than torch.tensor(sourceTensor).\n",
      "  nll = (0.5 * torch.tensor(results['obs_weight']) * torch.tensor(results['obs_flux'])**2)\n",
      "/tmp/ipykernel_5342/3808935312.py:8: UserWarning: To copy construct from a tensor, it is recommended to use sourceTensor.clone().detach() or sourceTensor.clone().detach().requires_grad_(True), rather than torch.tensor(sourceTensor).\n",
      "  kld = -0.5 * (1 + torch.tensor(results['encoding_logvar'], requires_grad=True)\n",
      "/tmp/ipykernel_5342/3808935312.py:9: UserWarning: To copy construct from a tensor, it is recommended to use sourceTensor.clone().detach() or sourceTensor.clone().detach().requires_grad_(True), rather than torch.tensor(sourceTensor).\n",
      "  - torch.tensor(results['encoding_mu'], requires_grad=True)**2\n",
      "/tmp/ipykernel_5342/3808935312.py:10: UserWarning: To copy construct from a tensor, it is recommended to use sourceTensor.clone().detach() or sourceTensor.clone().detach().requires_grad_(True), rather than torch.tensor(sourceTensor).\n",
      "  - torch.exp(torch.tensor(results['encoding_logvar'], requires_grad=True)))\n"
     ]
    },
    {
     "name": "stdout",
     "output_type": "stream",
     "text": [
      "85\n",
      "Comenzo get_data\n",
      "Grid shape: (32, 2, 300)\n",
      "Paso el Get data\n",
      "Shape pre-encoder torch.Size([32, 5, 300])\n",
      "Shape Encoder: torch.Size([32, 64, 306])\n",
      "Shape mu: torch.Size([64, 20])\n",
      "Shape log_var: torch.Size([64, 20])\n"
     ]
    },
    {
     "name": "stderr",
     "output_type": "stream",
     "text": [
      "/tmp/ipykernel_5342/3808935312.py:7: UserWarning: To copy construct from a tensor, it is recommended to use sourceTensor.clone().detach() or sourceTensor.clone().detach().requires_grad_(True), rather than torch.tensor(sourceTensor).\n",
      "  nll = (0.5 * torch.tensor(results['obs_weight']) * torch.tensor(results['obs_flux'])**2)\n",
      "/tmp/ipykernel_5342/3808935312.py:8: UserWarning: To copy construct from a tensor, it is recommended to use sourceTensor.clone().detach() or sourceTensor.clone().detach().requires_grad_(True), rather than torch.tensor(sourceTensor).\n",
      "  kld = -0.5 * (1 + torch.tensor(results['encoding_logvar'], requires_grad=True)\n",
      "/tmp/ipykernel_5342/3808935312.py:9: UserWarning: To copy construct from a tensor, it is recommended to use sourceTensor.clone().detach() or sourceTensor.clone().detach().requires_grad_(True), rather than torch.tensor(sourceTensor).\n",
      "  - torch.tensor(results['encoding_mu'], requires_grad=True)**2\n",
      "/tmp/ipykernel_5342/3808935312.py:10: UserWarning: To copy construct from a tensor, it is recommended to use sourceTensor.clone().detach() or sourceTensor.clone().detach().requires_grad_(True), rather than torch.tensor(sourceTensor).\n",
      "  - torch.exp(torch.tensor(results['encoding_logvar'], requires_grad=True)))\n"
     ]
    },
    {
     "name": "stdout",
     "output_type": "stream",
     "text": [
      "86\n",
      "Comenzo get_data\n",
      "Grid shape: (32, 2, 300)\n",
      "Paso el Get data\n",
      "Shape pre-encoder torch.Size([32, 5, 300])\n",
      "Shape Encoder: torch.Size([32, 64, 306])\n",
      "Shape mu: torch.Size([64, 20])\n",
      "Shape log_var: torch.Size([64, 20])\n"
     ]
    },
    {
     "name": "stderr",
     "output_type": "stream",
     "text": [
      "/tmp/ipykernel_5342/3808935312.py:7: UserWarning: To copy construct from a tensor, it is recommended to use sourceTensor.clone().detach() or sourceTensor.clone().detach().requires_grad_(True), rather than torch.tensor(sourceTensor).\n",
      "  nll = (0.5 * torch.tensor(results['obs_weight']) * torch.tensor(results['obs_flux'])**2)\n",
      "/tmp/ipykernel_5342/3808935312.py:8: UserWarning: To copy construct from a tensor, it is recommended to use sourceTensor.clone().detach() or sourceTensor.clone().detach().requires_grad_(True), rather than torch.tensor(sourceTensor).\n",
      "  kld = -0.5 * (1 + torch.tensor(results['encoding_logvar'], requires_grad=True)\n",
      "/tmp/ipykernel_5342/3808935312.py:9: UserWarning: To copy construct from a tensor, it is recommended to use sourceTensor.clone().detach() or sourceTensor.clone().detach().requires_grad_(True), rather than torch.tensor(sourceTensor).\n",
      "  - torch.tensor(results['encoding_mu'], requires_grad=True)**2\n",
      "/tmp/ipykernel_5342/3808935312.py:10: UserWarning: To copy construct from a tensor, it is recommended to use sourceTensor.clone().detach() or sourceTensor.clone().detach().requires_grad_(True), rather than torch.tensor(sourceTensor).\n",
      "  - torch.exp(torch.tensor(results['encoding_logvar'], requires_grad=True)))\n"
     ]
    },
    {
     "name": "stdout",
     "output_type": "stream",
     "text": [
      "87\n",
      "Comenzo get_data\n",
      "Grid shape: (32, 2, 300)\n",
      "Paso el Get data\n",
      "Shape pre-encoder torch.Size([32, 5, 300])\n",
      "Shape Encoder: torch.Size([32, 64, 306])\n",
      "Shape mu: torch.Size([64, 20])\n",
      "Shape log_var: torch.Size([64, 20])\n"
     ]
    },
    {
     "name": "stderr",
     "output_type": "stream",
     "text": [
      "/tmp/ipykernel_5342/3808935312.py:7: UserWarning: To copy construct from a tensor, it is recommended to use sourceTensor.clone().detach() or sourceTensor.clone().detach().requires_grad_(True), rather than torch.tensor(sourceTensor).\n",
      "  nll = (0.5 * torch.tensor(results['obs_weight']) * torch.tensor(results['obs_flux'])**2)\n",
      "/tmp/ipykernel_5342/3808935312.py:8: UserWarning: To copy construct from a tensor, it is recommended to use sourceTensor.clone().detach() or sourceTensor.clone().detach().requires_grad_(True), rather than torch.tensor(sourceTensor).\n",
      "  kld = -0.5 * (1 + torch.tensor(results['encoding_logvar'], requires_grad=True)\n",
      "/tmp/ipykernel_5342/3808935312.py:9: UserWarning: To copy construct from a tensor, it is recommended to use sourceTensor.clone().detach() or sourceTensor.clone().detach().requires_grad_(True), rather than torch.tensor(sourceTensor).\n",
      "  - torch.tensor(results['encoding_mu'], requires_grad=True)**2\n",
      "/tmp/ipykernel_5342/3808935312.py:10: UserWarning: To copy construct from a tensor, it is recommended to use sourceTensor.clone().detach() or sourceTensor.clone().detach().requires_grad_(True), rather than torch.tensor(sourceTensor).\n",
      "  - torch.exp(torch.tensor(results['encoding_logvar'], requires_grad=True)))\n"
     ]
    },
    {
     "name": "stdout",
     "output_type": "stream",
     "text": [
      "88\n",
      "Comenzo get_data\n",
      "Grid shape: (32, 2, 300)\n",
      "Paso el Get data\n",
      "Shape pre-encoder torch.Size([32, 5, 300])\n",
      "Shape Encoder: torch.Size([32, 64, 306])\n",
      "Shape mu: torch.Size([64, 20])\n",
      "Shape log_var: torch.Size([64, 20])\n"
     ]
    },
    {
     "name": "stderr",
     "output_type": "stream",
     "text": [
      "/tmp/ipykernel_5342/3808935312.py:7: UserWarning: To copy construct from a tensor, it is recommended to use sourceTensor.clone().detach() or sourceTensor.clone().detach().requires_grad_(True), rather than torch.tensor(sourceTensor).\n",
      "  nll = (0.5 * torch.tensor(results['obs_weight']) * torch.tensor(results['obs_flux'])**2)\n",
      "/tmp/ipykernel_5342/3808935312.py:8: UserWarning: To copy construct from a tensor, it is recommended to use sourceTensor.clone().detach() or sourceTensor.clone().detach().requires_grad_(True), rather than torch.tensor(sourceTensor).\n",
      "  kld = -0.5 * (1 + torch.tensor(results['encoding_logvar'], requires_grad=True)\n",
      "/tmp/ipykernel_5342/3808935312.py:9: UserWarning: To copy construct from a tensor, it is recommended to use sourceTensor.clone().detach() or sourceTensor.clone().detach().requires_grad_(True), rather than torch.tensor(sourceTensor).\n",
      "  - torch.tensor(results['encoding_mu'], requires_grad=True)**2\n",
      "/tmp/ipykernel_5342/3808935312.py:10: UserWarning: To copy construct from a tensor, it is recommended to use sourceTensor.clone().detach() or sourceTensor.clone().detach().requires_grad_(True), rather than torch.tensor(sourceTensor).\n",
      "  - torch.exp(torch.tensor(results['encoding_logvar'], requires_grad=True)))\n"
     ]
    },
    {
     "name": "stdout",
     "output_type": "stream",
     "text": [
      "89\n",
      "Comenzo get_data\n",
      "Grid shape: (32, 2, 300)\n",
      "Paso el Get data\n",
      "Shape pre-encoder torch.Size([32, 5, 300])\n",
      "Shape Encoder: torch.Size([32, 64, 306])\n",
      "Shape mu: torch.Size([64, 20])\n",
      "Shape log_var: torch.Size([64, 20])\n"
     ]
    },
    {
     "name": "stderr",
     "output_type": "stream",
     "text": [
      "/tmp/ipykernel_5342/3808935312.py:7: UserWarning: To copy construct from a tensor, it is recommended to use sourceTensor.clone().detach() or sourceTensor.clone().detach().requires_grad_(True), rather than torch.tensor(sourceTensor).\n",
      "  nll = (0.5 * torch.tensor(results['obs_weight']) * torch.tensor(results['obs_flux'])**2)\n",
      "/tmp/ipykernel_5342/3808935312.py:8: UserWarning: To copy construct from a tensor, it is recommended to use sourceTensor.clone().detach() or sourceTensor.clone().detach().requires_grad_(True), rather than torch.tensor(sourceTensor).\n",
      "  kld = -0.5 * (1 + torch.tensor(results['encoding_logvar'], requires_grad=True)\n",
      "/tmp/ipykernel_5342/3808935312.py:9: UserWarning: To copy construct from a tensor, it is recommended to use sourceTensor.clone().detach() or sourceTensor.clone().detach().requires_grad_(True), rather than torch.tensor(sourceTensor).\n",
      "  - torch.tensor(results['encoding_mu'], requires_grad=True)**2\n",
      "/tmp/ipykernel_5342/3808935312.py:10: UserWarning: To copy construct from a tensor, it is recommended to use sourceTensor.clone().detach() or sourceTensor.clone().detach().requires_grad_(True), rather than torch.tensor(sourceTensor).\n",
      "  - torch.exp(torch.tensor(results['encoding_logvar'], requires_grad=True)))\n"
     ]
    },
    {
     "name": "stdout",
     "output_type": "stream",
     "text": [
      "90\n",
      "Comenzo get_data\n",
      "Grid shape: (32, 2, 300)\n",
      "Paso el Get data\n",
      "Shape pre-encoder torch.Size([32, 5, 300])\n",
      "Shape Encoder: torch.Size([32, 64, 306])\n",
      "Shape mu: torch.Size([64, 20])\n",
      "Shape log_var: torch.Size([64, 20])\n"
     ]
    },
    {
     "name": "stderr",
     "output_type": "stream",
     "text": [
      "/tmp/ipykernel_5342/3808935312.py:7: UserWarning: To copy construct from a tensor, it is recommended to use sourceTensor.clone().detach() or sourceTensor.clone().detach().requires_grad_(True), rather than torch.tensor(sourceTensor).\n",
      "  nll = (0.5 * torch.tensor(results['obs_weight']) * torch.tensor(results['obs_flux'])**2)\n",
      "/tmp/ipykernel_5342/3808935312.py:8: UserWarning: To copy construct from a tensor, it is recommended to use sourceTensor.clone().detach() or sourceTensor.clone().detach().requires_grad_(True), rather than torch.tensor(sourceTensor).\n",
      "  kld = -0.5 * (1 + torch.tensor(results['encoding_logvar'], requires_grad=True)\n",
      "/tmp/ipykernel_5342/3808935312.py:9: UserWarning: To copy construct from a tensor, it is recommended to use sourceTensor.clone().detach() or sourceTensor.clone().detach().requires_grad_(True), rather than torch.tensor(sourceTensor).\n",
      "  - torch.tensor(results['encoding_mu'], requires_grad=True)**2\n",
      "/tmp/ipykernel_5342/3808935312.py:10: UserWarning: To copy construct from a tensor, it is recommended to use sourceTensor.clone().detach() or sourceTensor.clone().detach().requires_grad_(True), rather than torch.tensor(sourceTensor).\n",
      "  - torch.exp(torch.tensor(results['encoding_logvar'], requires_grad=True)))\n"
     ]
    },
    {
     "name": "stdout",
     "output_type": "stream",
     "text": [
      "91\n",
      "Comenzo get_data\n",
      "Grid shape: (32, 2, 300)\n",
      "Paso el Get data\n",
      "Shape pre-encoder torch.Size([32, 5, 300])\n",
      "Shape Encoder: torch.Size([32, 64, 306])\n",
      "Shape mu: torch.Size([64, 20])\n",
      "Shape log_var: torch.Size([64, 20])\n"
     ]
    },
    {
     "name": "stderr",
     "output_type": "stream",
     "text": [
      "/tmp/ipykernel_5342/3808935312.py:7: UserWarning: To copy construct from a tensor, it is recommended to use sourceTensor.clone().detach() or sourceTensor.clone().detach().requires_grad_(True), rather than torch.tensor(sourceTensor).\n",
      "  nll = (0.5 * torch.tensor(results['obs_weight']) * torch.tensor(results['obs_flux'])**2)\n",
      "/tmp/ipykernel_5342/3808935312.py:8: UserWarning: To copy construct from a tensor, it is recommended to use sourceTensor.clone().detach() or sourceTensor.clone().detach().requires_grad_(True), rather than torch.tensor(sourceTensor).\n",
      "  kld = -0.5 * (1 + torch.tensor(results['encoding_logvar'], requires_grad=True)\n",
      "/tmp/ipykernel_5342/3808935312.py:9: UserWarning: To copy construct from a tensor, it is recommended to use sourceTensor.clone().detach() or sourceTensor.clone().detach().requires_grad_(True), rather than torch.tensor(sourceTensor).\n",
      "  - torch.tensor(results['encoding_mu'], requires_grad=True)**2\n",
      "/tmp/ipykernel_5342/3808935312.py:10: UserWarning: To copy construct from a tensor, it is recommended to use sourceTensor.clone().detach() or sourceTensor.clone().detach().requires_grad_(True), rather than torch.tensor(sourceTensor).\n",
      "  - torch.exp(torch.tensor(results['encoding_logvar'], requires_grad=True)))\n"
     ]
    },
    {
     "name": "stdout",
     "output_type": "stream",
     "text": [
      "92\n",
      "Comenzo get_data\n",
      "Grid shape: (32, 2, 300)\n",
      "Paso el Get data\n",
      "Shape pre-encoder torch.Size([32, 5, 300])\n",
      "Shape Encoder: torch.Size([32, 64, 306])\n",
      "Shape mu: torch.Size([64, 20])\n",
      "Shape log_var: torch.Size([64, 20])\n"
     ]
    },
    {
     "name": "stderr",
     "output_type": "stream",
     "text": [
      "/tmp/ipykernel_5342/3808935312.py:7: UserWarning: To copy construct from a tensor, it is recommended to use sourceTensor.clone().detach() or sourceTensor.clone().detach().requires_grad_(True), rather than torch.tensor(sourceTensor).\n",
      "  nll = (0.5 * torch.tensor(results['obs_weight']) * torch.tensor(results['obs_flux'])**2)\n",
      "/tmp/ipykernel_5342/3808935312.py:8: UserWarning: To copy construct from a tensor, it is recommended to use sourceTensor.clone().detach() or sourceTensor.clone().detach().requires_grad_(True), rather than torch.tensor(sourceTensor).\n",
      "  kld = -0.5 * (1 + torch.tensor(results['encoding_logvar'], requires_grad=True)\n",
      "/tmp/ipykernel_5342/3808935312.py:9: UserWarning: To copy construct from a tensor, it is recommended to use sourceTensor.clone().detach() or sourceTensor.clone().detach().requires_grad_(True), rather than torch.tensor(sourceTensor).\n",
      "  - torch.tensor(results['encoding_mu'], requires_grad=True)**2\n",
      "/tmp/ipykernel_5342/3808935312.py:10: UserWarning: To copy construct from a tensor, it is recommended to use sourceTensor.clone().detach() or sourceTensor.clone().detach().requires_grad_(True), rather than torch.tensor(sourceTensor).\n",
      "  - torch.exp(torch.tensor(results['encoding_logvar'], requires_grad=True)))\n"
     ]
    },
    {
     "name": "stdout",
     "output_type": "stream",
     "text": [
      "93\n",
      "Comenzo get_data\n",
      "Grid shape: (32, 2, 300)\n",
      "Paso el Get data\n",
      "Shape pre-encoder torch.Size([32, 5, 300])\n",
      "Shape Encoder: torch.Size([32, 64, 306])\n",
      "Shape mu: torch.Size([64, 20])\n",
      "Shape log_var: torch.Size([64, 20])\n"
     ]
    },
    {
     "name": "stderr",
     "output_type": "stream",
     "text": [
      "/tmp/ipykernel_5342/3808935312.py:7: UserWarning: To copy construct from a tensor, it is recommended to use sourceTensor.clone().detach() or sourceTensor.clone().detach().requires_grad_(True), rather than torch.tensor(sourceTensor).\n",
      "  nll = (0.5 * torch.tensor(results['obs_weight']) * torch.tensor(results['obs_flux'])**2)\n",
      "/tmp/ipykernel_5342/3808935312.py:8: UserWarning: To copy construct from a tensor, it is recommended to use sourceTensor.clone().detach() or sourceTensor.clone().detach().requires_grad_(True), rather than torch.tensor(sourceTensor).\n",
      "  kld = -0.5 * (1 + torch.tensor(results['encoding_logvar'], requires_grad=True)\n",
      "/tmp/ipykernel_5342/3808935312.py:9: UserWarning: To copy construct from a tensor, it is recommended to use sourceTensor.clone().detach() or sourceTensor.clone().detach().requires_grad_(True), rather than torch.tensor(sourceTensor).\n",
      "  - torch.tensor(results['encoding_mu'], requires_grad=True)**2\n",
      "/tmp/ipykernel_5342/3808935312.py:10: UserWarning: To copy construct from a tensor, it is recommended to use sourceTensor.clone().detach() or sourceTensor.clone().detach().requires_grad_(True), rather than torch.tensor(sourceTensor).\n",
      "  - torch.exp(torch.tensor(results['encoding_logvar'], requires_grad=True)))\n"
     ]
    },
    {
     "name": "stdout",
     "output_type": "stream",
     "text": [
      "94\n",
      "Comenzo get_data\n",
      "Grid shape: (32, 2, 300)\n",
      "Paso el Get data\n",
      "Shape pre-encoder torch.Size([32, 5, 300])\n",
      "Shape Encoder: torch.Size([32, 64, 306])\n",
      "Shape mu: torch.Size([64, 20])\n",
      "Shape log_var: torch.Size([64, 20])\n"
     ]
    },
    {
     "name": "stderr",
     "output_type": "stream",
     "text": [
      "/tmp/ipykernel_5342/3808935312.py:7: UserWarning: To copy construct from a tensor, it is recommended to use sourceTensor.clone().detach() or sourceTensor.clone().detach().requires_grad_(True), rather than torch.tensor(sourceTensor).\n",
      "  nll = (0.5 * torch.tensor(results['obs_weight']) * torch.tensor(results['obs_flux'])**2)\n",
      "/tmp/ipykernel_5342/3808935312.py:8: UserWarning: To copy construct from a tensor, it is recommended to use sourceTensor.clone().detach() or sourceTensor.clone().detach().requires_grad_(True), rather than torch.tensor(sourceTensor).\n",
      "  kld = -0.5 * (1 + torch.tensor(results['encoding_logvar'], requires_grad=True)\n",
      "/tmp/ipykernel_5342/3808935312.py:9: UserWarning: To copy construct from a tensor, it is recommended to use sourceTensor.clone().detach() or sourceTensor.clone().detach().requires_grad_(True), rather than torch.tensor(sourceTensor).\n",
      "  - torch.tensor(results['encoding_mu'], requires_grad=True)**2\n",
      "/tmp/ipykernel_5342/3808935312.py:10: UserWarning: To copy construct from a tensor, it is recommended to use sourceTensor.clone().detach() or sourceTensor.clone().detach().requires_grad_(True), rather than torch.tensor(sourceTensor).\n",
      "  - torch.exp(torch.tensor(results['encoding_logvar'], requires_grad=True)))\n"
     ]
    },
    {
     "name": "stdout",
     "output_type": "stream",
     "text": [
      "95\n",
      "Comenzo get_data\n",
      "Grid shape: (32, 2, 300)\n",
      "Paso el Get data\n",
      "Shape pre-encoder torch.Size([32, 5, 300])\n",
      "Shape Encoder: torch.Size([32, 64, 306])\n",
      "Shape mu: torch.Size([64, 20])\n",
      "Shape log_var: torch.Size([64, 20])\n"
     ]
    },
    {
     "name": "stderr",
     "output_type": "stream",
     "text": [
      "/tmp/ipykernel_5342/3808935312.py:7: UserWarning: To copy construct from a tensor, it is recommended to use sourceTensor.clone().detach() or sourceTensor.clone().detach().requires_grad_(True), rather than torch.tensor(sourceTensor).\n",
      "  nll = (0.5 * torch.tensor(results['obs_weight']) * torch.tensor(results['obs_flux'])**2)\n",
      "/tmp/ipykernel_5342/3808935312.py:8: UserWarning: To copy construct from a tensor, it is recommended to use sourceTensor.clone().detach() or sourceTensor.clone().detach().requires_grad_(True), rather than torch.tensor(sourceTensor).\n",
      "  kld = -0.5 * (1 + torch.tensor(results['encoding_logvar'], requires_grad=True)\n",
      "/tmp/ipykernel_5342/3808935312.py:9: UserWarning: To copy construct from a tensor, it is recommended to use sourceTensor.clone().detach() or sourceTensor.clone().detach().requires_grad_(True), rather than torch.tensor(sourceTensor).\n",
      "  - torch.tensor(results['encoding_mu'], requires_grad=True)**2\n",
      "/tmp/ipykernel_5342/3808935312.py:10: UserWarning: To copy construct from a tensor, it is recommended to use sourceTensor.clone().detach() or sourceTensor.clone().detach().requires_grad_(True), rather than torch.tensor(sourceTensor).\n",
      "  - torch.exp(torch.tensor(results['encoding_logvar'], requires_grad=True)))\n"
     ]
    },
    {
     "name": "stdout",
     "output_type": "stream",
     "text": [
      "96\n",
      "Comenzo get_data\n",
      "Grid shape: (32, 2, 300)\n",
      "Paso el Get data\n",
      "Shape pre-encoder torch.Size([32, 5, 300])\n",
      "Shape Encoder: torch.Size([32, 64, 306])\n",
      "Shape mu: torch.Size([64, 20])\n",
      "Shape log_var: torch.Size([64, 20])\n"
     ]
    },
    {
     "name": "stderr",
     "output_type": "stream",
     "text": [
      "/tmp/ipykernel_5342/3808935312.py:7: UserWarning: To copy construct from a tensor, it is recommended to use sourceTensor.clone().detach() or sourceTensor.clone().detach().requires_grad_(True), rather than torch.tensor(sourceTensor).\n",
      "  nll = (0.5 * torch.tensor(results['obs_weight']) * torch.tensor(results['obs_flux'])**2)\n",
      "/tmp/ipykernel_5342/3808935312.py:8: UserWarning: To copy construct from a tensor, it is recommended to use sourceTensor.clone().detach() or sourceTensor.clone().detach().requires_grad_(True), rather than torch.tensor(sourceTensor).\n",
      "  kld = -0.5 * (1 + torch.tensor(results['encoding_logvar'], requires_grad=True)\n",
      "/tmp/ipykernel_5342/3808935312.py:9: UserWarning: To copy construct from a tensor, it is recommended to use sourceTensor.clone().detach() or sourceTensor.clone().detach().requires_grad_(True), rather than torch.tensor(sourceTensor).\n",
      "  - torch.tensor(results['encoding_mu'], requires_grad=True)**2\n",
      "/tmp/ipykernel_5342/3808935312.py:10: UserWarning: To copy construct from a tensor, it is recommended to use sourceTensor.clone().detach() or sourceTensor.clone().detach().requires_grad_(True), rather than torch.tensor(sourceTensor).\n",
      "  - torch.exp(torch.tensor(results['encoding_logvar'], requires_grad=True)))\n"
     ]
    },
    {
     "name": "stdout",
     "output_type": "stream",
     "text": [
      "97\n",
      "Comenzo get_data\n",
      "Grid shape: (32, 2, 300)\n",
      "Paso el Get data\n",
      "Shape pre-encoder torch.Size([32, 5, 300])\n",
      "Shape Encoder: torch.Size([32, 64, 306])\n",
      "Shape mu: torch.Size([64, 20])\n",
      "Shape log_var: torch.Size([64, 20])\n"
     ]
    },
    {
     "name": "stderr",
     "output_type": "stream",
     "text": [
      "/tmp/ipykernel_5342/3808935312.py:7: UserWarning: To copy construct from a tensor, it is recommended to use sourceTensor.clone().detach() or sourceTensor.clone().detach().requires_grad_(True), rather than torch.tensor(sourceTensor).\n",
      "  nll = (0.5 * torch.tensor(results['obs_weight']) * torch.tensor(results['obs_flux'])**2)\n",
      "/tmp/ipykernel_5342/3808935312.py:8: UserWarning: To copy construct from a tensor, it is recommended to use sourceTensor.clone().detach() or sourceTensor.clone().detach().requires_grad_(True), rather than torch.tensor(sourceTensor).\n",
      "  kld = -0.5 * (1 + torch.tensor(results['encoding_logvar'], requires_grad=True)\n",
      "/tmp/ipykernel_5342/3808935312.py:9: UserWarning: To copy construct from a tensor, it is recommended to use sourceTensor.clone().detach() or sourceTensor.clone().detach().requires_grad_(True), rather than torch.tensor(sourceTensor).\n",
      "  - torch.tensor(results['encoding_mu'], requires_grad=True)**2\n",
      "/tmp/ipykernel_5342/3808935312.py:10: UserWarning: To copy construct from a tensor, it is recommended to use sourceTensor.clone().detach() or sourceTensor.clone().detach().requires_grad_(True), rather than torch.tensor(sourceTensor).\n",
      "  - torch.exp(torch.tensor(results['encoding_logvar'], requires_grad=True)))\n"
     ]
    },
    {
     "name": "stdout",
     "output_type": "stream",
     "text": [
      "98\n",
      "Comenzo get_data\n",
      "Grid shape: (32, 2, 300)\n",
      "Paso el Get data\n",
      "Shape pre-encoder torch.Size([32, 5, 300])\n",
      "Shape Encoder: torch.Size([32, 64, 306])\n",
      "Shape mu: torch.Size([64, 20])\n",
      "Shape log_var: torch.Size([64, 20])\n"
     ]
    },
    {
     "name": "stderr",
     "output_type": "stream",
     "text": [
      "/tmp/ipykernel_5342/3808935312.py:7: UserWarning: To copy construct from a tensor, it is recommended to use sourceTensor.clone().detach() or sourceTensor.clone().detach().requires_grad_(True), rather than torch.tensor(sourceTensor).\n",
      "  nll = (0.5 * torch.tensor(results['obs_weight']) * torch.tensor(results['obs_flux'])**2)\n",
      "/tmp/ipykernel_5342/3808935312.py:8: UserWarning: To copy construct from a tensor, it is recommended to use sourceTensor.clone().detach() or sourceTensor.clone().detach().requires_grad_(True), rather than torch.tensor(sourceTensor).\n",
      "  kld = -0.5 * (1 + torch.tensor(results['encoding_logvar'], requires_grad=True)\n",
      "/tmp/ipykernel_5342/3808935312.py:9: UserWarning: To copy construct from a tensor, it is recommended to use sourceTensor.clone().detach() or sourceTensor.clone().detach().requires_grad_(True), rather than torch.tensor(sourceTensor).\n",
      "  - torch.tensor(results['encoding_mu'], requires_grad=True)**2\n",
      "/tmp/ipykernel_5342/3808935312.py:10: UserWarning: To copy construct from a tensor, it is recommended to use sourceTensor.clone().detach() or sourceTensor.clone().detach().requires_grad_(True), rather than torch.tensor(sourceTensor).\n",
      "  - torch.exp(torch.tensor(results['encoding_logvar'], requires_grad=True)))\n"
     ]
    },
    {
     "name": "stdout",
     "output_type": "stream",
     "text": [
      "99\n",
      "Comenzo get_data\n",
      "Grid shape: (32, 2, 300)\n",
      "Paso el Get data\n",
      "Shape pre-encoder torch.Size([32, 5, 300])\n",
      "Shape Encoder: torch.Size([32, 64, 306])\n",
      "Shape mu: torch.Size([64, 20])\n",
      "Shape log_var: torch.Size([64, 20])\n"
     ]
    },
    {
     "name": "stderr",
     "output_type": "stream",
     "text": [
      "/tmp/ipykernel_5342/3808935312.py:7: UserWarning: To copy construct from a tensor, it is recommended to use sourceTensor.clone().detach() or sourceTensor.clone().detach().requires_grad_(True), rather than torch.tensor(sourceTensor).\n",
      "  nll = (0.5 * torch.tensor(results['obs_weight']) * torch.tensor(results['obs_flux'])**2)\n",
      "/tmp/ipykernel_5342/3808935312.py:8: UserWarning: To copy construct from a tensor, it is recommended to use sourceTensor.clone().detach() or sourceTensor.clone().detach().requires_grad_(True), rather than torch.tensor(sourceTensor).\n",
      "  kld = -0.5 * (1 + torch.tensor(results['encoding_logvar'], requires_grad=True)\n",
      "/tmp/ipykernel_5342/3808935312.py:9: UserWarning: To copy construct from a tensor, it is recommended to use sourceTensor.clone().detach() or sourceTensor.clone().detach().requires_grad_(True), rather than torch.tensor(sourceTensor).\n",
      "  - torch.tensor(results['encoding_mu'], requires_grad=True)**2\n",
      "/tmp/ipykernel_5342/3808935312.py:10: UserWarning: To copy construct from a tensor, it is recommended to use sourceTensor.clone().detach() or sourceTensor.clone().detach().requires_grad_(True), rather than torch.tensor(sourceTensor).\n",
      "  - torch.exp(torch.tensor(results['encoding_logvar'], requires_grad=True)))\n"
     ]
    },
    {
     "name": "stdout",
     "output_type": "stream",
     "text": [
      "100\n",
      "Comenzo get_data\n",
      "Grid shape: (32, 2, 300)\n",
      "Paso el Get data\n",
      "Shape pre-encoder torch.Size([32, 5, 300])\n",
      "Shape Encoder: torch.Size([32, 64, 306])\n",
      "Shape mu: torch.Size([64, 20])\n",
      "Shape log_var: torch.Size([64, 20])\n"
     ]
    },
    {
     "name": "stderr",
     "output_type": "stream",
     "text": [
      "/tmp/ipykernel_5342/3808935312.py:7: UserWarning: To copy construct from a tensor, it is recommended to use sourceTensor.clone().detach() or sourceTensor.clone().detach().requires_grad_(True), rather than torch.tensor(sourceTensor).\n",
      "  nll = (0.5 * torch.tensor(results['obs_weight']) * torch.tensor(results['obs_flux'])**2)\n",
      "/tmp/ipykernel_5342/3808935312.py:8: UserWarning: To copy construct from a tensor, it is recommended to use sourceTensor.clone().detach() or sourceTensor.clone().detach().requires_grad_(True), rather than torch.tensor(sourceTensor).\n",
      "  kld = -0.5 * (1 + torch.tensor(results['encoding_logvar'], requires_grad=True)\n",
      "/tmp/ipykernel_5342/3808935312.py:9: UserWarning: To copy construct from a tensor, it is recommended to use sourceTensor.clone().detach() or sourceTensor.clone().detach().requires_grad_(True), rather than torch.tensor(sourceTensor).\n",
      "  - torch.tensor(results['encoding_mu'], requires_grad=True)**2\n",
      "/tmp/ipykernel_5342/3808935312.py:10: UserWarning: To copy construct from a tensor, it is recommended to use sourceTensor.clone().detach() or sourceTensor.clone().detach().requires_grad_(True), rather than torch.tensor(sourceTensor).\n",
      "  - torch.exp(torch.tensor(results['encoding_logvar'], requires_grad=True)))\n"
     ]
    },
    {
     "name": "stdout",
     "output_type": "stream",
     "text": [
      "101\n",
      "Comenzo get_data\n",
      "Grid shape: (32, 2, 300)\n",
      "Paso el Get data\n",
      "Shape pre-encoder torch.Size([32, 5, 300])\n",
      "Shape Encoder: torch.Size([32, 64, 306])\n",
      "Shape mu: torch.Size([64, 20])\n",
      "Shape log_var: torch.Size([64, 20])\n"
     ]
    },
    {
     "name": "stderr",
     "output_type": "stream",
     "text": [
      "/tmp/ipykernel_5342/3808935312.py:7: UserWarning: To copy construct from a tensor, it is recommended to use sourceTensor.clone().detach() or sourceTensor.clone().detach().requires_grad_(True), rather than torch.tensor(sourceTensor).\n",
      "  nll = (0.5 * torch.tensor(results['obs_weight']) * torch.tensor(results['obs_flux'])**2)\n",
      "/tmp/ipykernel_5342/3808935312.py:8: UserWarning: To copy construct from a tensor, it is recommended to use sourceTensor.clone().detach() or sourceTensor.clone().detach().requires_grad_(True), rather than torch.tensor(sourceTensor).\n",
      "  kld = -0.5 * (1 + torch.tensor(results['encoding_logvar'], requires_grad=True)\n",
      "/tmp/ipykernel_5342/3808935312.py:9: UserWarning: To copy construct from a tensor, it is recommended to use sourceTensor.clone().detach() or sourceTensor.clone().detach().requires_grad_(True), rather than torch.tensor(sourceTensor).\n",
      "  - torch.tensor(results['encoding_mu'], requires_grad=True)**2\n",
      "/tmp/ipykernel_5342/3808935312.py:10: UserWarning: To copy construct from a tensor, it is recommended to use sourceTensor.clone().detach() or sourceTensor.clone().detach().requires_grad_(True), rather than torch.tensor(sourceTensor).\n",
      "  - torch.exp(torch.tensor(results['encoding_logvar'], requires_grad=True)))\n"
     ]
    },
    {
     "name": "stdout",
     "output_type": "stream",
     "text": [
      "102\n",
      "Comenzo get_data\n",
      "Grid shape: (32, 2, 300)\n",
      "Paso el Get data\n",
      "Shape pre-encoder torch.Size([32, 5, 300])\n",
      "Shape Encoder: torch.Size([32, 64, 306])\n",
      "Shape mu: torch.Size([64, 20])\n",
      "Shape log_var: torch.Size([64, 20])\n"
     ]
    },
    {
     "name": "stderr",
     "output_type": "stream",
     "text": [
      "/tmp/ipykernel_5342/3808935312.py:7: UserWarning: To copy construct from a tensor, it is recommended to use sourceTensor.clone().detach() or sourceTensor.clone().detach().requires_grad_(True), rather than torch.tensor(sourceTensor).\n",
      "  nll = (0.5 * torch.tensor(results['obs_weight']) * torch.tensor(results['obs_flux'])**2)\n",
      "/tmp/ipykernel_5342/3808935312.py:8: UserWarning: To copy construct from a tensor, it is recommended to use sourceTensor.clone().detach() or sourceTensor.clone().detach().requires_grad_(True), rather than torch.tensor(sourceTensor).\n",
      "  kld = -0.5 * (1 + torch.tensor(results['encoding_logvar'], requires_grad=True)\n",
      "/tmp/ipykernel_5342/3808935312.py:9: UserWarning: To copy construct from a tensor, it is recommended to use sourceTensor.clone().detach() or sourceTensor.clone().detach().requires_grad_(True), rather than torch.tensor(sourceTensor).\n",
      "  - torch.tensor(results['encoding_mu'], requires_grad=True)**2\n",
      "/tmp/ipykernel_5342/3808935312.py:10: UserWarning: To copy construct from a tensor, it is recommended to use sourceTensor.clone().detach() or sourceTensor.clone().detach().requires_grad_(True), rather than torch.tensor(sourceTensor).\n",
      "  - torch.exp(torch.tensor(results['encoding_logvar'], requires_grad=True)))\n"
     ]
    },
    {
     "name": "stdout",
     "output_type": "stream",
     "text": [
      "103\n",
      "Comenzo get_data\n",
      "Grid shape: (32, 2, 300)\n",
      "Paso el Get data\n",
      "Shape pre-encoder torch.Size([32, 5, 300])\n",
      "Shape Encoder: torch.Size([32, 64, 306])\n",
      "Shape mu: torch.Size([64, 20])\n",
      "Shape log_var: torch.Size([64, 20])\n"
     ]
    },
    {
     "name": "stderr",
     "output_type": "stream",
     "text": [
      "/tmp/ipykernel_5342/3808935312.py:7: UserWarning: To copy construct from a tensor, it is recommended to use sourceTensor.clone().detach() or sourceTensor.clone().detach().requires_grad_(True), rather than torch.tensor(sourceTensor).\n",
      "  nll = (0.5 * torch.tensor(results['obs_weight']) * torch.tensor(results['obs_flux'])**2)\n",
      "/tmp/ipykernel_5342/3808935312.py:8: UserWarning: To copy construct from a tensor, it is recommended to use sourceTensor.clone().detach() or sourceTensor.clone().detach().requires_grad_(True), rather than torch.tensor(sourceTensor).\n",
      "  kld = -0.5 * (1 + torch.tensor(results['encoding_logvar'], requires_grad=True)\n",
      "/tmp/ipykernel_5342/3808935312.py:9: UserWarning: To copy construct from a tensor, it is recommended to use sourceTensor.clone().detach() or sourceTensor.clone().detach().requires_grad_(True), rather than torch.tensor(sourceTensor).\n",
      "  - torch.tensor(results['encoding_mu'], requires_grad=True)**2\n",
      "/tmp/ipykernel_5342/3808935312.py:10: UserWarning: To copy construct from a tensor, it is recommended to use sourceTensor.clone().detach() or sourceTensor.clone().detach().requires_grad_(True), rather than torch.tensor(sourceTensor).\n",
      "  - torch.exp(torch.tensor(results['encoding_logvar'], requires_grad=True)))\n"
     ]
    },
    {
     "name": "stdout",
     "output_type": "stream",
     "text": [
      "104\n",
      "Comenzo get_data\n",
      "Grid shape: (32, 2, 300)\n",
      "Paso el Get data\n",
      "Shape pre-encoder torch.Size([32, 5, 300])\n",
      "Shape Encoder: torch.Size([32, 64, 306])\n",
      "Shape mu: torch.Size([64, 20])\n",
      "Shape log_var: torch.Size([64, 20])\n"
     ]
    },
    {
     "name": "stderr",
     "output_type": "stream",
     "text": [
      "/tmp/ipykernel_5342/3808935312.py:7: UserWarning: To copy construct from a tensor, it is recommended to use sourceTensor.clone().detach() or sourceTensor.clone().detach().requires_grad_(True), rather than torch.tensor(sourceTensor).\n",
      "  nll = (0.5 * torch.tensor(results['obs_weight']) * torch.tensor(results['obs_flux'])**2)\n",
      "/tmp/ipykernel_5342/3808935312.py:8: UserWarning: To copy construct from a tensor, it is recommended to use sourceTensor.clone().detach() or sourceTensor.clone().detach().requires_grad_(True), rather than torch.tensor(sourceTensor).\n",
      "  kld = -0.5 * (1 + torch.tensor(results['encoding_logvar'], requires_grad=True)\n",
      "/tmp/ipykernel_5342/3808935312.py:9: UserWarning: To copy construct from a tensor, it is recommended to use sourceTensor.clone().detach() or sourceTensor.clone().detach().requires_grad_(True), rather than torch.tensor(sourceTensor).\n",
      "  - torch.tensor(results['encoding_mu'], requires_grad=True)**2\n",
      "/tmp/ipykernel_5342/3808935312.py:10: UserWarning: To copy construct from a tensor, it is recommended to use sourceTensor.clone().detach() or sourceTensor.clone().detach().requires_grad_(True), rather than torch.tensor(sourceTensor).\n",
      "  - torch.exp(torch.tensor(results['encoding_logvar'], requires_grad=True)))\n"
     ]
    },
    {
     "name": "stdout",
     "output_type": "stream",
     "text": [
      "105\n",
      "Comenzo get_data\n",
      "Grid shape: (32, 2, 300)\n",
      "Paso el Get data\n",
      "Shape pre-encoder torch.Size([32, 5, 300])\n",
      "Shape Encoder: torch.Size([32, 64, 306])\n",
      "Shape mu: torch.Size([64, 20])\n",
      "Shape log_var: torch.Size([64, 20])\n"
     ]
    },
    {
     "name": "stderr",
     "output_type": "stream",
     "text": [
      "/tmp/ipykernel_5342/3808935312.py:7: UserWarning: To copy construct from a tensor, it is recommended to use sourceTensor.clone().detach() or sourceTensor.clone().detach().requires_grad_(True), rather than torch.tensor(sourceTensor).\n",
      "  nll = (0.5 * torch.tensor(results['obs_weight']) * torch.tensor(results['obs_flux'])**2)\n",
      "/tmp/ipykernel_5342/3808935312.py:8: UserWarning: To copy construct from a tensor, it is recommended to use sourceTensor.clone().detach() or sourceTensor.clone().detach().requires_grad_(True), rather than torch.tensor(sourceTensor).\n",
      "  kld = -0.5 * (1 + torch.tensor(results['encoding_logvar'], requires_grad=True)\n",
      "/tmp/ipykernel_5342/3808935312.py:9: UserWarning: To copy construct from a tensor, it is recommended to use sourceTensor.clone().detach() or sourceTensor.clone().detach().requires_grad_(True), rather than torch.tensor(sourceTensor).\n",
      "  - torch.tensor(results['encoding_mu'], requires_grad=True)**2\n",
      "/tmp/ipykernel_5342/3808935312.py:10: UserWarning: To copy construct from a tensor, it is recommended to use sourceTensor.clone().detach() or sourceTensor.clone().detach().requires_grad_(True), rather than torch.tensor(sourceTensor).\n",
      "  - torch.exp(torch.tensor(results['encoding_logvar'], requires_grad=True)))\n"
     ]
    },
    {
     "name": "stdout",
     "output_type": "stream",
     "text": [
      "106\n",
      "Comenzo get_data\n",
      "Grid shape: (32, 2, 300)\n",
      "Paso el Get data\n",
      "Shape pre-encoder torch.Size([32, 5, 300])\n",
      "Shape Encoder: torch.Size([32, 64, 306])\n",
      "Shape mu: torch.Size([64, 20])\n",
      "Shape log_var: torch.Size([64, 20])\n"
     ]
    },
    {
     "name": "stderr",
     "output_type": "stream",
     "text": [
      "/tmp/ipykernel_5342/3808935312.py:7: UserWarning: To copy construct from a tensor, it is recommended to use sourceTensor.clone().detach() or sourceTensor.clone().detach().requires_grad_(True), rather than torch.tensor(sourceTensor).\n",
      "  nll = (0.5 * torch.tensor(results['obs_weight']) * torch.tensor(results['obs_flux'])**2)\n",
      "/tmp/ipykernel_5342/3808935312.py:8: UserWarning: To copy construct from a tensor, it is recommended to use sourceTensor.clone().detach() or sourceTensor.clone().detach().requires_grad_(True), rather than torch.tensor(sourceTensor).\n",
      "  kld = -0.5 * (1 + torch.tensor(results['encoding_logvar'], requires_grad=True)\n",
      "/tmp/ipykernel_5342/3808935312.py:9: UserWarning: To copy construct from a tensor, it is recommended to use sourceTensor.clone().detach() or sourceTensor.clone().detach().requires_grad_(True), rather than torch.tensor(sourceTensor).\n",
      "  - torch.tensor(results['encoding_mu'], requires_grad=True)**2\n",
      "/tmp/ipykernel_5342/3808935312.py:10: UserWarning: To copy construct from a tensor, it is recommended to use sourceTensor.clone().detach() or sourceTensor.clone().detach().requires_grad_(True), rather than torch.tensor(sourceTensor).\n",
      "  - torch.exp(torch.tensor(results['encoding_logvar'], requires_grad=True)))\n"
     ]
    },
    {
     "name": "stdout",
     "output_type": "stream",
     "text": [
      "107\n",
      "Comenzo get_data\n",
      "Grid shape: (32, 2, 300)\n",
      "Paso el Get data\n",
      "Shape pre-encoder torch.Size([32, 5, 300])\n",
      "Shape Encoder: torch.Size([32, 64, 306])\n",
      "Shape mu: torch.Size([64, 20])\n",
      "Shape log_var: torch.Size([64, 20])\n"
     ]
    },
    {
     "name": "stderr",
     "output_type": "stream",
     "text": [
      "/tmp/ipykernel_5342/3808935312.py:7: UserWarning: To copy construct from a tensor, it is recommended to use sourceTensor.clone().detach() or sourceTensor.clone().detach().requires_grad_(True), rather than torch.tensor(sourceTensor).\n",
      "  nll = (0.5 * torch.tensor(results['obs_weight']) * torch.tensor(results['obs_flux'])**2)\n",
      "/tmp/ipykernel_5342/3808935312.py:8: UserWarning: To copy construct from a tensor, it is recommended to use sourceTensor.clone().detach() or sourceTensor.clone().detach().requires_grad_(True), rather than torch.tensor(sourceTensor).\n",
      "  kld = -0.5 * (1 + torch.tensor(results['encoding_logvar'], requires_grad=True)\n",
      "/tmp/ipykernel_5342/3808935312.py:9: UserWarning: To copy construct from a tensor, it is recommended to use sourceTensor.clone().detach() or sourceTensor.clone().detach().requires_grad_(True), rather than torch.tensor(sourceTensor).\n",
      "  - torch.tensor(results['encoding_mu'], requires_grad=True)**2\n",
      "/tmp/ipykernel_5342/3808935312.py:10: UserWarning: To copy construct from a tensor, it is recommended to use sourceTensor.clone().detach() or sourceTensor.clone().detach().requires_grad_(True), rather than torch.tensor(sourceTensor).\n",
      "  - torch.exp(torch.tensor(results['encoding_logvar'], requires_grad=True)))\n"
     ]
    },
    {
     "name": "stdout",
     "output_type": "stream",
     "text": [
      "108\n",
      "Comenzo get_data\n",
      "Grid shape: (32, 2, 300)\n",
      "Paso el Get data\n",
      "Shape pre-encoder torch.Size([32, 5, 300])\n",
      "Shape Encoder: torch.Size([32, 64, 306])\n",
      "Shape mu: torch.Size([64, 20])\n",
      "Shape log_var: torch.Size([64, 20])\n"
     ]
    },
    {
     "name": "stderr",
     "output_type": "stream",
     "text": [
      "/tmp/ipykernel_5342/3808935312.py:7: UserWarning: To copy construct from a tensor, it is recommended to use sourceTensor.clone().detach() or sourceTensor.clone().detach().requires_grad_(True), rather than torch.tensor(sourceTensor).\n",
      "  nll = (0.5 * torch.tensor(results['obs_weight']) * torch.tensor(results['obs_flux'])**2)\n",
      "/tmp/ipykernel_5342/3808935312.py:8: UserWarning: To copy construct from a tensor, it is recommended to use sourceTensor.clone().detach() or sourceTensor.clone().detach().requires_grad_(True), rather than torch.tensor(sourceTensor).\n",
      "  kld = -0.5 * (1 + torch.tensor(results['encoding_logvar'], requires_grad=True)\n",
      "/tmp/ipykernel_5342/3808935312.py:9: UserWarning: To copy construct from a tensor, it is recommended to use sourceTensor.clone().detach() or sourceTensor.clone().detach().requires_grad_(True), rather than torch.tensor(sourceTensor).\n",
      "  - torch.tensor(results['encoding_mu'], requires_grad=True)**2\n",
      "/tmp/ipykernel_5342/3808935312.py:10: UserWarning: To copy construct from a tensor, it is recommended to use sourceTensor.clone().detach() or sourceTensor.clone().detach().requires_grad_(True), rather than torch.tensor(sourceTensor).\n",
      "  - torch.exp(torch.tensor(results['encoding_logvar'], requires_grad=True)))\n"
     ]
    },
    {
     "name": "stdout",
     "output_type": "stream",
     "text": [
      "109\n",
      "Comenzo get_data\n",
      "Grid shape: (32, 2, 300)\n",
      "Paso el Get data\n",
      "Shape pre-encoder torch.Size([32, 5, 300])\n",
      "Shape Encoder: torch.Size([32, 64, 306])\n",
      "Shape mu: torch.Size([64, 20])\n",
      "Shape log_var: torch.Size([64, 20])\n"
     ]
    },
    {
     "name": "stderr",
     "output_type": "stream",
     "text": [
      "/tmp/ipykernel_5342/3808935312.py:7: UserWarning: To copy construct from a tensor, it is recommended to use sourceTensor.clone().detach() or sourceTensor.clone().detach().requires_grad_(True), rather than torch.tensor(sourceTensor).\n",
      "  nll = (0.5 * torch.tensor(results['obs_weight']) * torch.tensor(results['obs_flux'])**2)\n",
      "/tmp/ipykernel_5342/3808935312.py:8: UserWarning: To copy construct from a tensor, it is recommended to use sourceTensor.clone().detach() or sourceTensor.clone().detach().requires_grad_(True), rather than torch.tensor(sourceTensor).\n",
      "  kld = -0.5 * (1 + torch.tensor(results['encoding_logvar'], requires_grad=True)\n",
      "/tmp/ipykernel_5342/3808935312.py:9: UserWarning: To copy construct from a tensor, it is recommended to use sourceTensor.clone().detach() or sourceTensor.clone().detach().requires_grad_(True), rather than torch.tensor(sourceTensor).\n",
      "  - torch.tensor(results['encoding_mu'], requires_grad=True)**2\n",
      "/tmp/ipykernel_5342/3808935312.py:10: UserWarning: To copy construct from a tensor, it is recommended to use sourceTensor.clone().detach() or sourceTensor.clone().detach().requires_grad_(True), rather than torch.tensor(sourceTensor).\n",
      "  - torch.exp(torch.tensor(results['encoding_logvar'], requires_grad=True)))\n"
     ]
    },
    {
     "name": "stdout",
     "output_type": "stream",
     "text": [
      "110\n",
      "Comenzo get_data\n",
      "Grid shape: (32, 2, 300)\n",
      "Paso el Get data\n",
      "Shape pre-encoder torch.Size([32, 5, 300])\n",
      "Shape Encoder: torch.Size([32, 64, 306])\n",
      "Shape mu: torch.Size([64, 20])\n",
      "Shape log_var: torch.Size([64, 20])\n"
     ]
    },
    {
     "name": "stderr",
     "output_type": "stream",
     "text": [
      "/tmp/ipykernel_5342/3808935312.py:7: UserWarning: To copy construct from a tensor, it is recommended to use sourceTensor.clone().detach() or sourceTensor.clone().detach().requires_grad_(True), rather than torch.tensor(sourceTensor).\n",
      "  nll = (0.5 * torch.tensor(results['obs_weight']) * torch.tensor(results['obs_flux'])**2)\n",
      "/tmp/ipykernel_5342/3808935312.py:8: UserWarning: To copy construct from a tensor, it is recommended to use sourceTensor.clone().detach() or sourceTensor.clone().detach().requires_grad_(True), rather than torch.tensor(sourceTensor).\n",
      "  kld = -0.5 * (1 + torch.tensor(results['encoding_logvar'], requires_grad=True)\n",
      "/tmp/ipykernel_5342/3808935312.py:9: UserWarning: To copy construct from a tensor, it is recommended to use sourceTensor.clone().detach() or sourceTensor.clone().detach().requires_grad_(True), rather than torch.tensor(sourceTensor).\n",
      "  - torch.tensor(results['encoding_mu'], requires_grad=True)**2\n",
      "/tmp/ipykernel_5342/3808935312.py:10: UserWarning: To copy construct from a tensor, it is recommended to use sourceTensor.clone().detach() or sourceTensor.clone().detach().requires_grad_(True), rather than torch.tensor(sourceTensor).\n",
      "  - torch.exp(torch.tensor(results['encoding_logvar'], requires_grad=True)))\n"
     ]
    },
    {
     "name": "stdout",
     "output_type": "stream",
     "text": [
      "111\n",
      "Comenzo get_data\n",
      "Grid shape: (32, 2, 300)\n",
      "Paso el Get data\n",
      "Shape pre-encoder torch.Size([32, 5, 300])\n",
      "Shape Encoder: torch.Size([32, 64, 306])\n",
      "Shape mu: torch.Size([64, 20])\n",
      "Shape log_var: torch.Size([64, 20])\n"
     ]
    },
    {
     "name": "stderr",
     "output_type": "stream",
     "text": [
      "/tmp/ipykernel_5342/3808935312.py:7: UserWarning: To copy construct from a tensor, it is recommended to use sourceTensor.clone().detach() or sourceTensor.clone().detach().requires_grad_(True), rather than torch.tensor(sourceTensor).\n",
      "  nll = (0.5 * torch.tensor(results['obs_weight']) * torch.tensor(results['obs_flux'])**2)\n",
      "/tmp/ipykernel_5342/3808935312.py:8: UserWarning: To copy construct from a tensor, it is recommended to use sourceTensor.clone().detach() or sourceTensor.clone().detach().requires_grad_(True), rather than torch.tensor(sourceTensor).\n",
      "  kld = -0.5 * (1 + torch.tensor(results['encoding_logvar'], requires_grad=True)\n",
      "/tmp/ipykernel_5342/3808935312.py:9: UserWarning: To copy construct from a tensor, it is recommended to use sourceTensor.clone().detach() or sourceTensor.clone().detach().requires_grad_(True), rather than torch.tensor(sourceTensor).\n",
      "  - torch.tensor(results['encoding_mu'], requires_grad=True)**2\n",
      "/tmp/ipykernel_5342/3808935312.py:10: UserWarning: To copy construct from a tensor, it is recommended to use sourceTensor.clone().detach() or sourceTensor.clone().detach().requires_grad_(True), rather than torch.tensor(sourceTensor).\n",
      "  - torch.exp(torch.tensor(results['encoding_logvar'], requires_grad=True)))\n"
     ]
    },
    {
     "name": "stdout",
     "output_type": "stream",
     "text": [
      "112\n",
      "Comenzo get_data\n",
      "Grid shape: (32, 2, 300)\n",
      "Paso el Get data\n",
      "Shape pre-encoder torch.Size([32, 5, 300])\n",
      "Shape Encoder: torch.Size([32, 64, 306])\n",
      "Shape mu: torch.Size([64, 20])\n",
      "Shape log_var: torch.Size([64, 20])\n"
     ]
    },
    {
     "name": "stderr",
     "output_type": "stream",
     "text": [
      "/tmp/ipykernel_5342/3808935312.py:7: UserWarning: To copy construct from a tensor, it is recommended to use sourceTensor.clone().detach() or sourceTensor.clone().detach().requires_grad_(True), rather than torch.tensor(sourceTensor).\n",
      "  nll = (0.5 * torch.tensor(results['obs_weight']) * torch.tensor(results['obs_flux'])**2)\n",
      "/tmp/ipykernel_5342/3808935312.py:8: UserWarning: To copy construct from a tensor, it is recommended to use sourceTensor.clone().detach() or sourceTensor.clone().detach().requires_grad_(True), rather than torch.tensor(sourceTensor).\n",
      "  kld = -0.5 * (1 + torch.tensor(results['encoding_logvar'], requires_grad=True)\n",
      "/tmp/ipykernel_5342/3808935312.py:9: UserWarning: To copy construct from a tensor, it is recommended to use sourceTensor.clone().detach() or sourceTensor.clone().detach().requires_grad_(True), rather than torch.tensor(sourceTensor).\n",
      "  - torch.tensor(results['encoding_mu'], requires_grad=True)**2\n",
      "/tmp/ipykernel_5342/3808935312.py:10: UserWarning: To copy construct from a tensor, it is recommended to use sourceTensor.clone().detach() or sourceTensor.clone().detach().requires_grad_(True), rather than torch.tensor(sourceTensor).\n",
      "  - torch.exp(torch.tensor(results['encoding_logvar'], requires_grad=True)))\n"
     ]
    },
    {
     "name": "stdout",
     "output_type": "stream",
     "text": [
      "113\n",
      "Comenzo get_data\n",
      "Grid shape: (32, 2, 300)\n",
      "Paso el Get data\n",
      "Shape pre-encoder torch.Size([32, 5, 300])\n",
      "Shape Encoder: torch.Size([32, 64, 306])\n",
      "Shape mu: torch.Size([64, 20])\n",
      "Shape log_var: torch.Size([64, 20])\n"
     ]
    },
    {
     "name": "stderr",
     "output_type": "stream",
     "text": [
      "/tmp/ipykernel_5342/3808935312.py:7: UserWarning: To copy construct from a tensor, it is recommended to use sourceTensor.clone().detach() or sourceTensor.clone().detach().requires_grad_(True), rather than torch.tensor(sourceTensor).\n",
      "  nll = (0.5 * torch.tensor(results['obs_weight']) * torch.tensor(results['obs_flux'])**2)\n",
      "/tmp/ipykernel_5342/3808935312.py:8: UserWarning: To copy construct from a tensor, it is recommended to use sourceTensor.clone().detach() or sourceTensor.clone().detach().requires_grad_(True), rather than torch.tensor(sourceTensor).\n",
      "  kld = -0.5 * (1 + torch.tensor(results['encoding_logvar'], requires_grad=True)\n",
      "/tmp/ipykernel_5342/3808935312.py:9: UserWarning: To copy construct from a tensor, it is recommended to use sourceTensor.clone().detach() or sourceTensor.clone().detach().requires_grad_(True), rather than torch.tensor(sourceTensor).\n",
      "  - torch.tensor(results['encoding_mu'], requires_grad=True)**2\n",
      "/tmp/ipykernel_5342/3808935312.py:10: UserWarning: To copy construct from a tensor, it is recommended to use sourceTensor.clone().detach() or sourceTensor.clone().detach().requires_grad_(True), rather than torch.tensor(sourceTensor).\n",
      "  - torch.exp(torch.tensor(results['encoding_logvar'], requires_grad=True)))\n"
     ]
    },
    {
     "name": "stdout",
     "output_type": "stream",
     "text": [
      "114\n",
      "Comenzo get_data\n",
      "Grid shape: (32, 2, 300)\n",
      "Paso el Get data\n",
      "Shape pre-encoder torch.Size([32, 5, 300])\n",
      "Shape Encoder: torch.Size([32, 64, 306])\n",
      "Shape mu: torch.Size([64, 20])\n",
      "Shape log_var: torch.Size([64, 20])\n"
     ]
    },
    {
     "name": "stderr",
     "output_type": "stream",
     "text": [
      "/tmp/ipykernel_5342/3808935312.py:7: UserWarning: To copy construct from a tensor, it is recommended to use sourceTensor.clone().detach() or sourceTensor.clone().detach().requires_grad_(True), rather than torch.tensor(sourceTensor).\n",
      "  nll = (0.5 * torch.tensor(results['obs_weight']) * torch.tensor(results['obs_flux'])**2)\n",
      "/tmp/ipykernel_5342/3808935312.py:8: UserWarning: To copy construct from a tensor, it is recommended to use sourceTensor.clone().detach() or sourceTensor.clone().detach().requires_grad_(True), rather than torch.tensor(sourceTensor).\n",
      "  kld = -0.5 * (1 + torch.tensor(results['encoding_logvar'], requires_grad=True)\n",
      "/tmp/ipykernel_5342/3808935312.py:9: UserWarning: To copy construct from a tensor, it is recommended to use sourceTensor.clone().detach() or sourceTensor.clone().detach().requires_grad_(True), rather than torch.tensor(sourceTensor).\n",
      "  - torch.tensor(results['encoding_mu'], requires_grad=True)**2\n",
      "/tmp/ipykernel_5342/3808935312.py:10: UserWarning: To copy construct from a tensor, it is recommended to use sourceTensor.clone().detach() or sourceTensor.clone().detach().requires_grad_(True), rather than torch.tensor(sourceTensor).\n",
      "  - torch.exp(torch.tensor(results['encoding_logvar'], requires_grad=True)))\n"
     ]
    },
    {
     "name": "stdout",
     "output_type": "stream",
     "text": [
      "115\n",
      "Comenzo get_data\n",
      "Grid shape: (32, 2, 300)\n",
      "Paso el Get data\n",
      "Shape pre-encoder torch.Size([32, 5, 300])\n",
      "Shape Encoder: torch.Size([32, 64, 306])\n",
      "Shape mu: torch.Size([64, 20])\n",
      "Shape log_var: torch.Size([64, 20])\n"
     ]
    },
    {
     "name": "stderr",
     "output_type": "stream",
     "text": [
      "/tmp/ipykernel_5342/3808935312.py:7: UserWarning: To copy construct from a tensor, it is recommended to use sourceTensor.clone().detach() or sourceTensor.clone().detach().requires_grad_(True), rather than torch.tensor(sourceTensor).\n",
      "  nll = (0.5 * torch.tensor(results['obs_weight']) * torch.tensor(results['obs_flux'])**2)\n",
      "/tmp/ipykernel_5342/3808935312.py:8: UserWarning: To copy construct from a tensor, it is recommended to use sourceTensor.clone().detach() or sourceTensor.clone().detach().requires_grad_(True), rather than torch.tensor(sourceTensor).\n",
      "  kld = -0.5 * (1 + torch.tensor(results['encoding_logvar'], requires_grad=True)\n",
      "/tmp/ipykernel_5342/3808935312.py:9: UserWarning: To copy construct from a tensor, it is recommended to use sourceTensor.clone().detach() or sourceTensor.clone().detach().requires_grad_(True), rather than torch.tensor(sourceTensor).\n",
      "  - torch.tensor(results['encoding_mu'], requires_grad=True)**2\n",
      "/tmp/ipykernel_5342/3808935312.py:10: UserWarning: To copy construct from a tensor, it is recommended to use sourceTensor.clone().detach() or sourceTensor.clone().detach().requires_grad_(True), rather than torch.tensor(sourceTensor).\n",
      "  - torch.exp(torch.tensor(results['encoding_logvar'], requires_grad=True)))\n"
     ]
    },
    {
     "name": "stdout",
     "output_type": "stream",
     "text": [
      "116\n",
      "Comenzo get_data\n",
      "Grid shape: (32, 2, 300)\n",
      "Paso el Get data\n",
      "Shape pre-encoder torch.Size([32, 5, 300])\n",
      "Shape Encoder: torch.Size([32, 64, 306])\n",
      "Shape mu: torch.Size([64, 20])\n",
      "Shape log_var: torch.Size([64, 20])\n"
     ]
    },
    {
     "name": "stderr",
     "output_type": "stream",
     "text": [
      "/tmp/ipykernel_5342/3808935312.py:7: UserWarning: To copy construct from a tensor, it is recommended to use sourceTensor.clone().detach() or sourceTensor.clone().detach().requires_grad_(True), rather than torch.tensor(sourceTensor).\n",
      "  nll = (0.5 * torch.tensor(results['obs_weight']) * torch.tensor(results['obs_flux'])**2)\n",
      "/tmp/ipykernel_5342/3808935312.py:8: UserWarning: To copy construct from a tensor, it is recommended to use sourceTensor.clone().detach() or sourceTensor.clone().detach().requires_grad_(True), rather than torch.tensor(sourceTensor).\n",
      "  kld = -0.5 * (1 + torch.tensor(results['encoding_logvar'], requires_grad=True)\n",
      "/tmp/ipykernel_5342/3808935312.py:9: UserWarning: To copy construct from a tensor, it is recommended to use sourceTensor.clone().detach() or sourceTensor.clone().detach().requires_grad_(True), rather than torch.tensor(sourceTensor).\n",
      "  - torch.tensor(results['encoding_mu'], requires_grad=True)**2\n",
      "/tmp/ipykernel_5342/3808935312.py:10: UserWarning: To copy construct from a tensor, it is recommended to use sourceTensor.clone().detach() or sourceTensor.clone().detach().requires_grad_(True), rather than torch.tensor(sourceTensor).\n",
      "  - torch.exp(torch.tensor(results['encoding_logvar'], requires_grad=True)))\n"
     ]
    },
    {
     "name": "stdout",
     "output_type": "stream",
     "text": [
      "117\n",
      "Comenzo get_data\n",
      "Grid shape: (32, 2, 300)\n",
      "Paso el Get data\n",
      "Shape pre-encoder torch.Size([32, 5, 300])\n",
      "Shape Encoder: torch.Size([32, 64, 306])\n",
      "Shape mu: torch.Size([64, 20])\n",
      "Shape log_var: torch.Size([64, 20])\n"
     ]
    },
    {
     "name": "stderr",
     "output_type": "stream",
     "text": [
      "/tmp/ipykernel_5342/3808935312.py:7: UserWarning: To copy construct from a tensor, it is recommended to use sourceTensor.clone().detach() or sourceTensor.clone().detach().requires_grad_(True), rather than torch.tensor(sourceTensor).\n",
      "  nll = (0.5 * torch.tensor(results['obs_weight']) * torch.tensor(results['obs_flux'])**2)\n",
      "/tmp/ipykernel_5342/3808935312.py:8: UserWarning: To copy construct from a tensor, it is recommended to use sourceTensor.clone().detach() or sourceTensor.clone().detach().requires_grad_(True), rather than torch.tensor(sourceTensor).\n",
      "  kld = -0.5 * (1 + torch.tensor(results['encoding_logvar'], requires_grad=True)\n",
      "/tmp/ipykernel_5342/3808935312.py:9: UserWarning: To copy construct from a tensor, it is recommended to use sourceTensor.clone().detach() or sourceTensor.clone().detach().requires_grad_(True), rather than torch.tensor(sourceTensor).\n",
      "  - torch.tensor(results['encoding_mu'], requires_grad=True)**2\n",
      "/tmp/ipykernel_5342/3808935312.py:10: UserWarning: To copy construct from a tensor, it is recommended to use sourceTensor.clone().detach() or sourceTensor.clone().detach().requires_grad_(True), rather than torch.tensor(sourceTensor).\n",
      "  - torch.exp(torch.tensor(results['encoding_logvar'], requires_grad=True)))\n"
     ]
    },
    {
     "name": "stdout",
     "output_type": "stream",
     "text": [
      "118\n",
      "Comenzo get_data\n",
      "Grid shape: (32, 2, 300)\n",
      "Paso el Get data\n",
      "Shape pre-encoder torch.Size([32, 5, 300])\n",
      "Shape Encoder: torch.Size([32, 64, 306])\n",
      "Shape mu: torch.Size([64, 20])\n",
      "Shape log_var: torch.Size([64, 20])\n"
     ]
    },
    {
     "name": "stderr",
     "output_type": "stream",
     "text": [
      "/tmp/ipykernel_5342/3808935312.py:7: UserWarning: To copy construct from a tensor, it is recommended to use sourceTensor.clone().detach() or sourceTensor.clone().detach().requires_grad_(True), rather than torch.tensor(sourceTensor).\n",
      "  nll = (0.5 * torch.tensor(results['obs_weight']) * torch.tensor(results['obs_flux'])**2)\n",
      "/tmp/ipykernel_5342/3808935312.py:8: UserWarning: To copy construct from a tensor, it is recommended to use sourceTensor.clone().detach() or sourceTensor.clone().detach().requires_grad_(True), rather than torch.tensor(sourceTensor).\n",
      "  kld = -0.5 * (1 + torch.tensor(results['encoding_logvar'], requires_grad=True)\n",
      "/tmp/ipykernel_5342/3808935312.py:9: UserWarning: To copy construct from a tensor, it is recommended to use sourceTensor.clone().detach() or sourceTensor.clone().detach().requires_grad_(True), rather than torch.tensor(sourceTensor).\n",
      "  - torch.tensor(results['encoding_mu'], requires_grad=True)**2\n",
      "/tmp/ipykernel_5342/3808935312.py:10: UserWarning: To copy construct from a tensor, it is recommended to use sourceTensor.clone().detach() or sourceTensor.clone().detach().requires_grad_(True), rather than torch.tensor(sourceTensor).\n",
      "  - torch.exp(torch.tensor(results['encoding_logvar'], requires_grad=True)))\n"
     ]
    },
    {
     "name": "stdout",
     "output_type": "stream",
     "text": [
      "119\n",
      "Comenzo get_data\n",
      "Grid shape: (32, 2, 300)\n",
      "Paso el Get data\n",
      "Shape pre-encoder torch.Size([32, 5, 300])\n",
      "Shape Encoder: torch.Size([32, 64, 306])\n",
      "Shape mu: torch.Size([64, 20])\n",
      "Shape log_var: torch.Size([64, 20])\n"
     ]
    },
    {
     "name": "stderr",
     "output_type": "stream",
     "text": [
      "/tmp/ipykernel_5342/3808935312.py:7: UserWarning: To copy construct from a tensor, it is recommended to use sourceTensor.clone().detach() or sourceTensor.clone().detach().requires_grad_(True), rather than torch.tensor(sourceTensor).\n",
      "  nll = (0.5 * torch.tensor(results['obs_weight']) * torch.tensor(results['obs_flux'])**2)\n",
      "/tmp/ipykernel_5342/3808935312.py:8: UserWarning: To copy construct from a tensor, it is recommended to use sourceTensor.clone().detach() or sourceTensor.clone().detach().requires_grad_(True), rather than torch.tensor(sourceTensor).\n",
      "  kld = -0.5 * (1 + torch.tensor(results['encoding_logvar'], requires_grad=True)\n",
      "/tmp/ipykernel_5342/3808935312.py:9: UserWarning: To copy construct from a tensor, it is recommended to use sourceTensor.clone().detach() or sourceTensor.clone().detach().requires_grad_(True), rather than torch.tensor(sourceTensor).\n",
      "  - torch.tensor(results['encoding_mu'], requires_grad=True)**2\n",
      "/tmp/ipykernel_5342/3808935312.py:10: UserWarning: To copy construct from a tensor, it is recommended to use sourceTensor.clone().detach() or sourceTensor.clone().detach().requires_grad_(True), rather than torch.tensor(sourceTensor).\n",
      "  - torch.exp(torch.tensor(results['encoding_logvar'], requires_grad=True)))\n"
     ]
    },
    {
     "name": "stdout",
     "output_type": "stream",
     "text": [
      "120\n",
      "Comenzo get_data\n",
      "Grid shape: (32, 2, 300)\n",
      "Paso el Get data\n",
      "Shape pre-encoder torch.Size([32, 5, 300])\n",
      "Shape Encoder: torch.Size([32, 64, 306])\n",
      "Shape mu: torch.Size([64, 20])\n",
      "Shape log_var: torch.Size([64, 20])\n"
     ]
    },
    {
     "name": "stderr",
     "output_type": "stream",
     "text": [
      "/tmp/ipykernel_5342/3808935312.py:7: UserWarning: To copy construct from a tensor, it is recommended to use sourceTensor.clone().detach() or sourceTensor.clone().detach().requires_grad_(True), rather than torch.tensor(sourceTensor).\n",
      "  nll = (0.5 * torch.tensor(results['obs_weight']) * torch.tensor(results['obs_flux'])**2)\n",
      "/tmp/ipykernel_5342/3808935312.py:8: UserWarning: To copy construct from a tensor, it is recommended to use sourceTensor.clone().detach() or sourceTensor.clone().detach().requires_grad_(True), rather than torch.tensor(sourceTensor).\n",
      "  kld = -0.5 * (1 + torch.tensor(results['encoding_logvar'], requires_grad=True)\n",
      "/tmp/ipykernel_5342/3808935312.py:9: UserWarning: To copy construct from a tensor, it is recommended to use sourceTensor.clone().detach() or sourceTensor.clone().detach().requires_grad_(True), rather than torch.tensor(sourceTensor).\n",
      "  - torch.tensor(results['encoding_mu'], requires_grad=True)**2\n",
      "/tmp/ipykernel_5342/3808935312.py:10: UserWarning: To copy construct from a tensor, it is recommended to use sourceTensor.clone().detach() or sourceTensor.clone().detach().requires_grad_(True), rather than torch.tensor(sourceTensor).\n",
      "  - torch.exp(torch.tensor(results['encoding_logvar'], requires_grad=True)))\n"
     ]
    },
    {
     "name": "stdout",
     "output_type": "stream",
     "text": [
      "121\n",
      "Comenzo get_data\n",
      "Grid shape: (32, 2, 300)\n",
      "Paso el Get data\n",
      "Shape pre-encoder torch.Size([32, 5, 300])\n",
      "Shape Encoder: torch.Size([32, 64, 306])\n",
      "Shape mu: torch.Size([64, 20])\n",
      "Shape log_var: torch.Size([64, 20])\n"
     ]
    },
    {
     "name": "stderr",
     "output_type": "stream",
     "text": [
      "/tmp/ipykernel_5342/3808935312.py:7: UserWarning: To copy construct from a tensor, it is recommended to use sourceTensor.clone().detach() or sourceTensor.clone().detach().requires_grad_(True), rather than torch.tensor(sourceTensor).\n",
      "  nll = (0.5 * torch.tensor(results['obs_weight']) * torch.tensor(results['obs_flux'])**2)\n",
      "/tmp/ipykernel_5342/3808935312.py:8: UserWarning: To copy construct from a tensor, it is recommended to use sourceTensor.clone().detach() or sourceTensor.clone().detach().requires_grad_(True), rather than torch.tensor(sourceTensor).\n",
      "  kld = -0.5 * (1 + torch.tensor(results['encoding_logvar'], requires_grad=True)\n",
      "/tmp/ipykernel_5342/3808935312.py:9: UserWarning: To copy construct from a tensor, it is recommended to use sourceTensor.clone().detach() or sourceTensor.clone().detach().requires_grad_(True), rather than torch.tensor(sourceTensor).\n",
      "  - torch.tensor(results['encoding_mu'], requires_grad=True)**2\n",
      "/tmp/ipykernel_5342/3808935312.py:10: UserWarning: To copy construct from a tensor, it is recommended to use sourceTensor.clone().detach() or sourceTensor.clone().detach().requires_grad_(True), rather than torch.tensor(sourceTensor).\n",
      "  - torch.exp(torch.tensor(results['encoding_logvar'], requires_grad=True)))\n"
     ]
    },
    {
     "name": "stdout",
     "output_type": "stream",
     "text": [
      "122\n",
      "Comenzo get_data\n",
      "Grid shape: (32, 2, 300)\n",
      "Paso el Get data\n",
      "Shape pre-encoder torch.Size([32, 5, 300])\n",
      "Shape Encoder: torch.Size([32, 64, 306])\n",
      "Shape mu: torch.Size([64, 20])\n",
      "Shape log_var: torch.Size([64, 20])\n"
     ]
    },
    {
     "name": "stderr",
     "output_type": "stream",
     "text": [
      "/tmp/ipykernel_5342/3808935312.py:7: UserWarning: To copy construct from a tensor, it is recommended to use sourceTensor.clone().detach() or sourceTensor.clone().detach().requires_grad_(True), rather than torch.tensor(sourceTensor).\n",
      "  nll = (0.5 * torch.tensor(results['obs_weight']) * torch.tensor(results['obs_flux'])**2)\n",
      "/tmp/ipykernel_5342/3808935312.py:8: UserWarning: To copy construct from a tensor, it is recommended to use sourceTensor.clone().detach() or sourceTensor.clone().detach().requires_grad_(True), rather than torch.tensor(sourceTensor).\n",
      "  kld = -0.5 * (1 + torch.tensor(results['encoding_logvar'], requires_grad=True)\n",
      "/tmp/ipykernel_5342/3808935312.py:9: UserWarning: To copy construct from a tensor, it is recommended to use sourceTensor.clone().detach() or sourceTensor.clone().detach().requires_grad_(True), rather than torch.tensor(sourceTensor).\n",
      "  - torch.tensor(results['encoding_mu'], requires_grad=True)**2\n",
      "/tmp/ipykernel_5342/3808935312.py:10: UserWarning: To copy construct from a tensor, it is recommended to use sourceTensor.clone().detach() or sourceTensor.clone().detach().requires_grad_(True), rather than torch.tensor(sourceTensor).\n",
      "  - torch.exp(torch.tensor(results['encoding_logvar'], requires_grad=True)))\n"
     ]
    },
    {
     "name": "stdout",
     "output_type": "stream",
     "text": [
      "123\n",
      "Comenzo get_data\n",
      "Grid shape: (32, 2, 300)\n",
      "Paso el Get data\n",
      "Shape pre-encoder torch.Size([32, 5, 300])\n",
      "Shape Encoder: torch.Size([32, 64, 306])\n",
      "Shape mu: torch.Size([64, 20])\n",
      "Shape log_var: torch.Size([64, 20])\n"
     ]
    },
    {
     "name": "stderr",
     "output_type": "stream",
     "text": [
      "/tmp/ipykernel_5342/3808935312.py:7: UserWarning: To copy construct from a tensor, it is recommended to use sourceTensor.clone().detach() or sourceTensor.clone().detach().requires_grad_(True), rather than torch.tensor(sourceTensor).\n",
      "  nll = (0.5 * torch.tensor(results['obs_weight']) * torch.tensor(results['obs_flux'])**2)\n",
      "/tmp/ipykernel_5342/3808935312.py:8: UserWarning: To copy construct from a tensor, it is recommended to use sourceTensor.clone().detach() or sourceTensor.clone().detach().requires_grad_(True), rather than torch.tensor(sourceTensor).\n",
      "  kld = -0.5 * (1 + torch.tensor(results['encoding_logvar'], requires_grad=True)\n",
      "/tmp/ipykernel_5342/3808935312.py:9: UserWarning: To copy construct from a tensor, it is recommended to use sourceTensor.clone().detach() or sourceTensor.clone().detach().requires_grad_(True), rather than torch.tensor(sourceTensor).\n",
      "  - torch.tensor(results['encoding_mu'], requires_grad=True)**2\n",
      "/tmp/ipykernel_5342/3808935312.py:10: UserWarning: To copy construct from a tensor, it is recommended to use sourceTensor.clone().detach() or sourceTensor.clone().detach().requires_grad_(True), rather than torch.tensor(sourceTensor).\n",
      "  - torch.exp(torch.tensor(results['encoding_logvar'], requires_grad=True)))\n"
     ]
    },
    {
     "name": "stdout",
     "output_type": "stream",
     "text": [
      "124\n",
      "Comenzo get_data\n",
      "Grid shape: (32, 2, 300)\n",
      "Paso el Get data\n",
      "Shape pre-encoder torch.Size([32, 5, 300])\n",
      "Shape Encoder: torch.Size([32, 64, 306])\n",
      "Shape mu: torch.Size([64, 20])\n",
      "Shape log_var: torch.Size([64, 20])\n"
     ]
    },
    {
     "name": "stderr",
     "output_type": "stream",
     "text": [
      "/tmp/ipykernel_5342/3808935312.py:7: UserWarning: To copy construct from a tensor, it is recommended to use sourceTensor.clone().detach() or sourceTensor.clone().detach().requires_grad_(True), rather than torch.tensor(sourceTensor).\n",
      "  nll = (0.5 * torch.tensor(results['obs_weight']) * torch.tensor(results['obs_flux'])**2)\n",
      "/tmp/ipykernel_5342/3808935312.py:8: UserWarning: To copy construct from a tensor, it is recommended to use sourceTensor.clone().detach() or sourceTensor.clone().detach().requires_grad_(True), rather than torch.tensor(sourceTensor).\n",
      "  kld = -0.5 * (1 + torch.tensor(results['encoding_logvar'], requires_grad=True)\n",
      "/tmp/ipykernel_5342/3808935312.py:9: UserWarning: To copy construct from a tensor, it is recommended to use sourceTensor.clone().detach() or sourceTensor.clone().detach().requires_grad_(True), rather than torch.tensor(sourceTensor).\n",
      "  - torch.tensor(results['encoding_mu'], requires_grad=True)**2\n",
      "/tmp/ipykernel_5342/3808935312.py:10: UserWarning: To copy construct from a tensor, it is recommended to use sourceTensor.clone().detach() or sourceTensor.clone().detach().requires_grad_(True), rather than torch.tensor(sourceTensor).\n",
      "  - torch.exp(torch.tensor(results['encoding_logvar'], requires_grad=True)))\n"
     ]
    },
    {
     "name": "stdout",
     "output_type": "stream",
     "text": [
      "125\n",
      "Comenzo get_data\n",
      "Grid shape: (32, 2, 300)\n",
      "Paso el Get data\n",
      "Shape pre-encoder torch.Size([32, 5, 300])\n",
      "Shape Encoder: torch.Size([32, 64, 306])\n",
      "Shape mu: torch.Size([64, 20])\n",
      "Shape log_var: torch.Size([64, 20])\n"
     ]
    },
    {
     "name": "stderr",
     "output_type": "stream",
     "text": [
      "/tmp/ipykernel_5342/3808935312.py:7: UserWarning: To copy construct from a tensor, it is recommended to use sourceTensor.clone().detach() or sourceTensor.clone().detach().requires_grad_(True), rather than torch.tensor(sourceTensor).\n",
      "  nll = (0.5 * torch.tensor(results['obs_weight']) * torch.tensor(results['obs_flux'])**2)\n",
      "/tmp/ipykernel_5342/3808935312.py:8: UserWarning: To copy construct from a tensor, it is recommended to use sourceTensor.clone().detach() or sourceTensor.clone().detach().requires_grad_(True), rather than torch.tensor(sourceTensor).\n",
      "  kld = -0.5 * (1 + torch.tensor(results['encoding_logvar'], requires_grad=True)\n",
      "/tmp/ipykernel_5342/3808935312.py:9: UserWarning: To copy construct from a tensor, it is recommended to use sourceTensor.clone().detach() or sourceTensor.clone().detach().requires_grad_(True), rather than torch.tensor(sourceTensor).\n",
      "  - torch.tensor(results['encoding_mu'], requires_grad=True)**2\n",
      "/tmp/ipykernel_5342/3808935312.py:10: UserWarning: To copy construct from a tensor, it is recommended to use sourceTensor.clone().detach() or sourceTensor.clone().detach().requires_grad_(True), rather than torch.tensor(sourceTensor).\n",
      "  - torch.exp(torch.tensor(results['encoding_logvar'], requires_grad=True)))\n"
     ]
    },
    {
     "name": "stdout",
     "output_type": "stream",
     "text": [
      "126\n",
      "Comenzo get_data\n",
      "Grid shape: (32, 2, 300)\n",
      "Paso el Get data\n",
      "Shape pre-encoder torch.Size([32, 5, 300])\n",
      "Shape Encoder: torch.Size([32, 64, 306])\n",
      "Shape mu: torch.Size([64, 20])\n",
      "Shape log_var: torch.Size([64, 20])\n"
     ]
    },
    {
     "name": "stderr",
     "output_type": "stream",
     "text": [
      "/tmp/ipykernel_5342/3808935312.py:7: UserWarning: To copy construct from a tensor, it is recommended to use sourceTensor.clone().detach() or sourceTensor.clone().detach().requires_grad_(True), rather than torch.tensor(sourceTensor).\n",
      "  nll = (0.5 * torch.tensor(results['obs_weight']) * torch.tensor(results['obs_flux'])**2)\n",
      "/tmp/ipykernel_5342/3808935312.py:8: UserWarning: To copy construct from a tensor, it is recommended to use sourceTensor.clone().detach() or sourceTensor.clone().detach().requires_grad_(True), rather than torch.tensor(sourceTensor).\n",
      "  kld = -0.5 * (1 + torch.tensor(results['encoding_logvar'], requires_grad=True)\n",
      "/tmp/ipykernel_5342/3808935312.py:9: UserWarning: To copy construct from a tensor, it is recommended to use sourceTensor.clone().detach() or sourceTensor.clone().detach().requires_grad_(True), rather than torch.tensor(sourceTensor).\n",
      "  - torch.tensor(results['encoding_mu'], requires_grad=True)**2\n",
      "/tmp/ipykernel_5342/3808935312.py:10: UserWarning: To copy construct from a tensor, it is recommended to use sourceTensor.clone().detach() or sourceTensor.clone().detach().requires_grad_(True), rather than torch.tensor(sourceTensor).\n",
      "  - torch.exp(torch.tensor(results['encoding_logvar'], requires_grad=True)))\n"
     ]
    },
    {
     "name": "stdout",
     "output_type": "stream",
     "text": [
      "127\n",
      "Comenzo get_data\n",
      "Grid shape: (32, 2, 300)\n",
      "Paso el Get data\n",
      "Shape pre-encoder torch.Size([32, 5, 300])\n",
      "Shape Encoder: torch.Size([32, 64, 306])\n",
      "Shape mu: torch.Size([64, 20])\n",
      "Shape log_var: torch.Size([64, 20])\n"
     ]
    },
    {
     "name": "stderr",
     "output_type": "stream",
     "text": [
      "/tmp/ipykernel_5342/3808935312.py:7: UserWarning: To copy construct from a tensor, it is recommended to use sourceTensor.clone().detach() or sourceTensor.clone().detach().requires_grad_(True), rather than torch.tensor(sourceTensor).\n",
      "  nll = (0.5 * torch.tensor(results['obs_weight']) * torch.tensor(results['obs_flux'])**2)\n",
      "/tmp/ipykernel_5342/3808935312.py:8: UserWarning: To copy construct from a tensor, it is recommended to use sourceTensor.clone().detach() or sourceTensor.clone().detach().requires_grad_(True), rather than torch.tensor(sourceTensor).\n",
      "  kld = -0.5 * (1 + torch.tensor(results['encoding_logvar'], requires_grad=True)\n",
      "/tmp/ipykernel_5342/3808935312.py:9: UserWarning: To copy construct from a tensor, it is recommended to use sourceTensor.clone().detach() or sourceTensor.clone().detach().requires_grad_(True), rather than torch.tensor(sourceTensor).\n",
      "  - torch.tensor(results['encoding_mu'], requires_grad=True)**2\n",
      "/tmp/ipykernel_5342/3808935312.py:10: UserWarning: To copy construct from a tensor, it is recommended to use sourceTensor.clone().detach() or sourceTensor.clone().detach().requires_grad_(True), rather than torch.tensor(sourceTensor).\n",
      "  - torch.exp(torch.tensor(results['encoding_logvar'], requires_grad=True)))\n"
     ]
    },
    {
     "name": "stdout",
     "output_type": "stream",
     "text": [
      "128\n",
      "Comenzo get_data\n",
      "Grid shape: (32, 2, 300)\n",
      "Paso el Get data\n",
      "Shape pre-encoder torch.Size([32, 5, 300])\n",
      "Shape Encoder: torch.Size([32, 64, 306])\n",
      "Shape mu: torch.Size([64, 20])\n",
      "Shape log_var: torch.Size([64, 20])\n"
     ]
    },
    {
     "name": "stderr",
     "output_type": "stream",
     "text": [
      "/tmp/ipykernel_5342/3808935312.py:7: UserWarning: To copy construct from a tensor, it is recommended to use sourceTensor.clone().detach() or sourceTensor.clone().detach().requires_grad_(True), rather than torch.tensor(sourceTensor).\n",
      "  nll = (0.5 * torch.tensor(results['obs_weight']) * torch.tensor(results['obs_flux'])**2)\n",
      "/tmp/ipykernel_5342/3808935312.py:8: UserWarning: To copy construct from a tensor, it is recommended to use sourceTensor.clone().detach() or sourceTensor.clone().detach().requires_grad_(True), rather than torch.tensor(sourceTensor).\n",
      "  kld = -0.5 * (1 + torch.tensor(results['encoding_logvar'], requires_grad=True)\n",
      "/tmp/ipykernel_5342/3808935312.py:9: UserWarning: To copy construct from a tensor, it is recommended to use sourceTensor.clone().detach() or sourceTensor.clone().detach().requires_grad_(True), rather than torch.tensor(sourceTensor).\n",
      "  - torch.tensor(results['encoding_mu'], requires_grad=True)**2\n",
      "/tmp/ipykernel_5342/3808935312.py:10: UserWarning: To copy construct from a tensor, it is recommended to use sourceTensor.clone().detach() or sourceTensor.clone().detach().requires_grad_(True), rather than torch.tensor(sourceTensor).\n",
      "  - torch.exp(torch.tensor(results['encoding_logvar'], requires_grad=True)))\n"
     ]
    },
    {
     "name": "stdout",
     "output_type": "stream",
     "text": [
      "129\n",
      "Comenzo get_data\n",
      "Grid shape: (32, 2, 300)\n",
      "Paso el Get data\n",
      "Shape pre-encoder torch.Size([32, 5, 300])\n",
      "Shape Encoder: torch.Size([32, 64, 306])\n",
      "Shape mu: torch.Size([64, 20])\n",
      "Shape log_var: torch.Size([64, 20])\n"
     ]
    },
    {
     "name": "stderr",
     "output_type": "stream",
     "text": [
      "/tmp/ipykernel_5342/3808935312.py:7: UserWarning: To copy construct from a tensor, it is recommended to use sourceTensor.clone().detach() or sourceTensor.clone().detach().requires_grad_(True), rather than torch.tensor(sourceTensor).\n",
      "  nll = (0.5 * torch.tensor(results['obs_weight']) * torch.tensor(results['obs_flux'])**2)\n",
      "/tmp/ipykernel_5342/3808935312.py:8: UserWarning: To copy construct from a tensor, it is recommended to use sourceTensor.clone().detach() or sourceTensor.clone().detach().requires_grad_(True), rather than torch.tensor(sourceTensor).\n",
      "  kld = -0.5 * (1 + torch.tensor(results['encoding_logvar'], requires_grad=True)\n",
      "/tmp/ipykernel_5342/3808935312.py:9: UserWarning: To copy construct from a tensor, it is recommended to use sourceTensor.clone().detach() or sourceTensor.clone().detach().requires_grad_(True), rather than torch.tensor(sourceTensor).\n",
      "  - torch.tensor(results['encoding_mu'], requires_grad=True)**2\n",
      "/tmp/ipykernel_5342/3808935312.py:10: UserWarning: To copy construct from a tensor, it is recommended to use sourceTensor.clone().detach() or sourceTensor.clone().detach().requires_grad_(True), rather than torch.tensor(sourceTensor).\n",
      "  - torch.exp(torch.tensor(results['encoding_logvar'], requires_grad=True)))\n"
     ]
    },
    {
     "name": "stdout",
     "output_type": "stream",
     "text": [
      "130\n",
      "Comenzo get_data\n",
      "Grid shape: (32, 2, 300)\n",
      "Paso el Get data\n",
      "Shape pre-encoder torch.Size([32, 5, 300])\n",
      "Shape Encoder: torch.Size([32, 64, 306])\n",
      "Shape mu: torch.Size([64, 20])\n",
      "Shape log_var: torch.Size([64, 20])\n"
     ]
    },
    {
     "name": "stderr",
     "output_type": "stream",
     "text": [
      "/tmp/ipykernel_5342/3808935312.py:7: UserWarning: To copy construct from a tensor, it is recommended to use sourceTensor.clone().detach() or sourceTensor.clone().detach().requires_grad_(True), rather than torch.tensor(sourceTensor).\n",
      "  nll = (0.5 * torch.tensor(results['obs_weight']) * torch.tensor(results['obs_flux'])**2)\n",
      "/tmp/ipykernel_5342/3808935312.py:8: UserWarning: To copy construct from a tensor, it is recommended to use sourceTensor.clone().detach() or sourceTensor.clone().detach().requires_grad_(True), rather than torch.tensor(sourceTensor).\n",
      "  kld = -0.5 * (1 + torch.tensor(results['encoding_logvar'], requires_grad=True)\n",
      "/tmp/ipykernel_5342/3808935312.py:9: UserWarning: To copy construct from a tensor, it is recommended to use sourceTensor.clone().detach() or sourceTensor.clone().detach().requires_grad_(True), rather than torch.tensor(sourceTensor).\n",
      "  - torch.tensor(results['encoding_mu'], requires_grad=True)**2\n",
      "/tmp/ipykernel_5342/3808935312.py:10: UserWarning: To copy construct from a tensor, it is recommended to use sourceTensor.clone().detach() or sourceTensor.clone().detach().requires_grad_(True), rather than torch.tensor(sourceTensor).\n",
      "  - torch.exp(torch.tensor(results['encoding_logvar'], requires_grad=True)))\n"
     ]
    },
    {
     "name": "stdout",
     "output_type": "stream",
     "text": [
      "131\n",
      "Comenzo get_data\n",
      "Grid shape: (32, 2, 300)\n",
      "Paso el Get data\n",
      "Shape pre-encoder torch.Size([32, 5, 300])\n",
      "Shape Encoder: torch.Size([32, 64, 306])\n",
      "Shape mu: torch.Size([64, 20])\n",
      "Shape log_var: torch.Size([64, 20])\n"
     ]
    },
    {
     "name": "stderr",
     "output_type": "stream",
     "text": [
      "/tmp/ipykernel_5342/3808935312.py:7: UserWarning: To copy construct from a tensor, it is recommended to use sourceTensor.clone().detach() or sourceTensor.clone().detach().requires_grad_(True), rather than torch.tensor(sourceTensor).\n",
      "  nll = (0.5 * torch.tensor(results['obs_weight']) * torch.tensor(results['obs_flux'])**2)\n",
      "/tmp/ipykernel_5342/3808935312.py:8: UserWarning: To copy construct from a tensor, it is recommended to use sourceTensor.clone().detach() or sourceTensor.clone().detach().requires_grad_(True), rather than torch.tensor(sourceTensor).\n",
      "  kld = -0.5 * (1 + torch.tensor(results['encoding_logvar'], requires_grad=True)\n",
      "/tmp/ipykernel_5342/3808935312.py:9: UserWarning: To copy construct from a tensor, it is recommended to use sourceTensor.clone().detach() or sourceTensor.clone().detach().requires_grad_(True), rather than torch.tensor(sourceTensor).\n",
      "  - torch.tensor(results['encoding_mu'], requires_grad=True)**2\n",
      "/tmp/ipykernel_5342/3808935312.py:10: UserWarning: To copy construct from a tensor, it is recommended to use sourceTensor.clone().detach() or sourceTensor.clone().detach().requires_grad_(True), rather than torch.tensor(sourceTensor).\n",
      "  - torch.exp(torch.tensor(results['encoding_logvar'], requires_grad=True)))\n"
     ]
    },
    {
     "name": "stdout",
     "output_type": "stream",
     "text": [
      "132\n",
      "Comenzo get_data\n",
      "Grid shape: (32, 2, 300)\n",
      "Paso el Get data\n",
      "Shape pre-encoder torch.Size([32, 5, 300])\n",
      "Shape Encoder: torch.Size([32, 64, 306])\n",
      "Shape mu: torch.Size([64, 20])\n",
      "Shape log_var: torch.Size([64, 20])\n"
     ]
    },
    {
     "name": "stderr",
     "output_type": "stream",
     "text": [
      "/tmp/ipykernel_5342/3808935312.py:7: UserWarning: To copy construct from a tensor, it is recommended to use sourceTensor.clone().detach() or sourceTensor.clone().detach().requires_grad_(True), rather than torch.tensor(sourceTensor).\n",
      "  nll = (0.5 * torch.tensor(results['obs_weight']) * torch.tensor(results['obs_flux'])**2)\n",
      "/tmp/ipykernel_5342/3808935312.py:8: UserWarning: To copy construct from a tensor, it is recommended to use sourceTensor.clone().detach() or sourceTensor.clone().detach().requires_grad_(True), rather than torch.tensor(sourceTensor).\n",
      "  kld = -0.5 * (1 + torch.tensor(results['encoding_logvar'], requires_grad=True)\n",
      "/tmp/ipykernel_5342/3808935312.py:9: UserWarning: To copy construct from a tensor, it is recommended to use sourceTensor.clone().detach() or sourceTensor.clone().detach().requires_grad_(True), rather than torch.tensor(sourceTensor).\n",
      "  - torch.tensor(results['encoding_mu'], requires_grad=True)**2\n",
      "/tmp/ipykernel_5342/3808935312.py:10: UserWarning: To copy construct from a tensor, it is recommended to use sourceTensor.clone().detach() or sourceTensor.clone().detach().requires_grad_(True), rather than torch.tensor(sourceTensor).\n",
      "  - torch.exp(torch.tensor(results['encoding_logvar'], requires_grad=True)))\n"
     ]
    },
    {
     "name": "stdout",
     "output_type": "stream",
     "text": [
      "133\n",
      "Comenzo get_data\n",
      "Grid shape: (32, 2, 300)\n",
      "Paso el Get data\n",
      "Shape pre-encoder torch.Size([32, 5, 300])\n",
      "Shape Encoder: torch.Size([32, 64, 306])\n",
      "Shape mu: torch.Size([64, 20])\n",
      "Shape log_var: torch.Size([64, 20])\n"
     ]
    },
    {
     "name": "stderr",
     "output_type": "stream",
     "text": [
      "/tmp/ipykernel_5342/3808935312.py:7: UserWarning: To copy construct from a tensor, it is recommended to use sourceTensor.clone().detach() or sourceTensor.clone().detach().requires_grad_(True), rather than torch.tensor(sourceTensor).\n",
      "  nll = (0.5 * torch.tensor(results['obs_weight']) * torch.tensor(results['obs_flux'])**2)\n",
      "/tmp/ipykernel_5342/3808935312.py:8: UserWarning: To copy construct from a tensor, it is recommended to use sourceTensor.clone().detach() or sourceTensor.clone().detach().requires_grad_(True), rather than torch.tensor(sourceTensor).\n",
      "  kld = -0.5 * (1 + torch.tensor(results['encoding_logvar'], requires_grad=True)\n",
      "/tmp/ipykernel_5342/3808935312.py:9: UserWarning: To copy construct from a tensor, it is recommended to use sourceTensor.clone().detach() or sourceTensor.clone().detach().requires_grad_(True), rather than torch.tensor(sourceTensor).\n",
      "  - torch.tensor(results['encoding_mu'], requires_grad=True)**2\n",
      "/tmp/ipykernel_5342/3808935312.py:10: UserWarning: To copy construct from a tensor, it is recommended to use sourceTensor.clone().detach() or sourceTensor.clone().detach().requires_grad_(True), rather than torch.tensor(sourceTensor).\n",
      "  - torch.exp(torch.tensor(results['encoding_logvar'], requires_grad=True)))\n"
     ]
    },
    {
     "name": "stdout",
     "output_type": "stream",
     "text": [
      "134\n",
      "Comenzo get_data\n",
      "Grid shape: (32, 2, 300)\n",
      "Paso el Get data\n",
      "Shape pre-encoder torch.Size([32, 5, 300])\n",
      "Shape Encoder: torch.Size([32, 64, 306])\n",
      "Shape mu: torch.Size([64, 20])\n",
      "Shape log_var: torch.Size([64, 20])\n"
     ]
    },
    {
     "name": "stderr",
     "output_type": "stream",
     "text": [
      "/tmp/ipykernel_5342/3808935312.py:7: UserWarning: To copy construct from a tensor, it is recommended to use sourceTensor.clone().detach() or sourceTensor.clone().detach().requires_grad_(True), rather than torch.tensor(sourceTensor).\n",
      "  nll = (0.5 * torch.tensor(results['obs_weight']) * torch.tensor(results['obs_flux'])**2)\n",
      "/tmp/ipykernel_5342/3808935312.py:8: UserWarning: To copy construct from a tensor, it is recommended to use sourceTensor.clone().detach() or sourceTensor.clone().detach().requires_grad_(True), rather than torch.tensor(sourceTensor).\n",
      "  kld = -0.5 * (1 + torch.tensor(results['encoding_logvar'], requires_grad=True)\n",
      "/tmp/ipykernel_5342/3808935312.py:9: UserWarning: To copy construct from a tensor, it is recommended to use sourceTensor.clone().detach() or sourceTensor.clone().detach().requires_grad_(True), rather than torch.tensor(sourceTensor).\n",
      "  - torch.tensor(results['encoding_mu'], requires_grad=True)**2\n",
      "/tmp/ipykernel_5342/3808935312.py:10: UserWarning: To copy construct from a tensor, it is recommended to use sourceTensor.clone().detach() or sourceTensor.clone().detach().requires_grad_(True), rather than torch.tensor(sourceTensor).\n",
      "  - torch.exp(torch.tensor(results['encoding_logvar'], requires_grad=True)))\n"
     ]
    },
    {
     "name": "stdout",
     "output_type": "stream",
     "text": [
      "135\n",
      "Comenzo get_data\n",
      "Grid shape: (32, 2, 300)\n",
      "Paso el Get data\n",
      "Shape pre-encoder torch.Size([32, 5, 300])\n",
      "Shape Encoder: torch.Size([32, 64, 306])\n",
      "Shape mu: torch.Size([64, 20])\n",
      "Shape log_var: torch.Size([64, 20])\n"
     ]
    },
    {
     "name": "stderr",
     "output_type": "stream",
     "text": [
      "/tmp/ipykernel_5342/3808935312.py:7: UserWarning: To copy construct from a tensor, it is recommended to use sourceTensor.clone().detach() or sourceTensor.clone().detach().requires_grad_(True), rather than torch.tensor(sourceTensor).\n",
      "  nll = (0.5 * torch.tensor(results['obs_weight']) * torch.tensor(results['obs_flux'])**2)\n",
      "/tmp/ipykernel_5342/3808935312.py:8: UserWarning: To copy construct from a tensor, it is recommended to use sourceTensor.clone().detach() or sourceTensor.clone().detach().requires_grad_(True), rather than torch.tensor(sourceTensor).\n",
      "  kld = -0.5 * (1 + torch.tensor(results['encoding_logvar'], requires_grad=True)\n",
      "/tmp/ipykernel_5342/3808935312.py:9: UserWarning: To copy construct from a tensor, it is recommended to use sourceTensor.clone().detach() or sourceTensor.clone().detach().requires_grad_(True), rather than torch.tensor(sourceTensor).\n",
      "  - torch.tensor(results['encoding_mu'], requires_grad=True)**2\n",
      "/tmp/ipykernel_5342/3808935312.py:10: UserWarning: To copy construct from a tensor, it is recommended to use sourceTensor.clone().detach() or sourceTensor.clone().detach().requires_grad_(True), rather than torch.tensor(sourceTensor).\n",
      "  - torch.exp(torch.tensor(results['encoding_logvar'], requires_grad=True)))\n"
     ]
    },
    {
     "name": "stdout",
     "output_type": "stream",
     "text": [
      "136\n",
      "Comenzo get_data\n",
      "Grid shape: (32, 2, 300)\n",
      "Paso el Get data\n",
      "Shape pre-encoder torch.Size([32, 5, 300])\n",
      "Shape Encoder: torch.Size([32, 64, 306])\n",
      "Shape mu: torch.Size([64, 20])\n",
      "Shape log_var: torch.Size([64, 20])\n"
     ]
    },
    {
     "name": "stderr",
     "output_type": "stream",
     "text": [
      "/tmp/ipykernel_5342/3808935312.py:7: UserWarning: To copy construct from a tensor, it is recommended to use sourceTensor.clone().detach() or sourceTensor.clone().detach().requires_grad_(True), rather than torch.tensor(sourceTensor).\n",
      "  nll = (0.5 * torch.tensor(results['obs_weight']) * torch.tensor(results['obs_flux'])**2)\n",
      "/tmp/ipykernel_5342/3808935312.py:8: UserWarning: To copy construct from a tensor, it is recommended to use sourceTensor.clone().detach() or sourceTensor.clone().detach().requires_grad_(True), rather than torch.tensor(sourceTensor).\n",
      "  kld = -0.5 * (1 + torch.tensor(results['encoding_logvar'], requires_grad=True)\n",
      "/tmp/ipykernel_5342/3808935312.py:9: UserWarning: To copy construct from a tensor, it is recommended to use sourceTensor.clone().detach() or sourceTensor.clone().detach().requires_grad_(True), rather than torch.tensor(sourceTensor).\n",
      "  - torch.tensor(results['encoding_mu'], requires_grad=True)**2\n",
      "/tmp/ipykernel_5342/3808935312.py:10: UserWarning: To copy construct from a tensor, it is recommended to use sourceTensor.clone().detach() or sourceTensor.clone().detach().requires_grad_(True), rather than torch.tensor(sourceTensor).\n",
      "  - torch.exp(torch.tensor(results['encoding_logvar'], requires_grad=True)))\n"
     ]
    },
    {
     "name": "stdout",
     "output_type": "stream",
     "text": [
      "137\n",
      "Comenzo get_data\n",
      "Grid shape: (32, 2, 300)\n",
      "Paso el Get data\n",
      "Shape pre-encoder torch.Size([32, 5, 300])\n",
      "Shape Encoder: torch.Size([32, 64, 306])\n",
      "Shape mu: torch.Size([64, 20])\n",
      "Shape log_var: torch.Size([64, 20])\n"
     ]
    },
    {
     "name": "stderr",
     "output_type": "stream",
     "text": [
      "/tmp/ipykernel_5342/3808935312.py:7: UserWarning: To copy construct from a tensor, it is recommended to use sourceTensor.clone().detach() or sourceTensor.clone().detach().requires_grad_(True), rather than torch.tensor(sourceTensor).\n",
      "  nll = (0.5 * torch.tensor(results['obs_weight']) * torch.tensor(results['obs_flux'])**2)\n",
      "/tmp/ipykernel_5342/3808935312.py:8: UserWarning: To copy construct from a tensor, it is recommended to use sourceTensor.clone().detach() or sourceTensor.clone().detach().requires_grad_(True), rather than torch.tensor(sourceTensor).\n",
      "  kld = -0.5 * (1 + torch.tensor(results['encoding_logvar'], requires_grad=True)\n",
      "/tmp/ipykernel_5342/3808935312.py:9: UserWarning: To copy construct from a tensor, it is recommended to use sourceTensor.clone().detach() or sourceTensor.clone().detach().requires_grad_(True), rather than torch.tensor(sourceTensor).\n",
      "  - torch.tensor(results['encoding_mu'], requires_grad=True)**2\n",
      "/tmp/ipykernel_5342/3808935312.py:10: UserWarning: To copy construct from a tensor, it is recommended to use sourceTensor.clone().detach() or sourceTensor.clone().detach().requires_grad_(True), rather than torch.tensor(sourceTensor).\n",
      "  - torch.exp(torch.tensor(results['encoding_logvar'], requires_grad=True)))\n"
     ]
    },
    {
     "name": "stdout",
     "output_type": "stream",
     "text": [
      "138\n",
      "Comenzo get_data\n",
      "Grid shape: (32, 2, 300)\n",
      "Paso el Get data\n",
      "Shape pre-encoder torch.Size([32, 5, 300])\n",
      "Shape Encoder: torch.Size([32, 64, 306])\n",
      "Shape mu: torch.Size([64, 20])\n",
      "Shape log_var: torch.Size([64, 20])\n"
     ]
    },
    {
     "name": "stderr",
     "output_type": "stream",
     "text": [
      "/tmp/ipykernel_5342/3808935312.py:7: UserWarning: To copy construct from a tensor, it is recommended to use sourceTensor.clone().detach() or sourceTensor.clone().detach().requires_grad_(True), rather than torch.tensor(sourceTensor).\n",
      "  nll = (0.5 * torch.tensor(results['obs_weight']) * torch.tensor(results['obs_flux'])**2)\n",
      "/tmp/ipykernel_5342/3808935312.py:8: UserWarning: To copy construct from a tensor, it is recommended to use sourceTensor.clone().detach() or sourceTensor.clone().detach().requires_grad_(True), rather than torch.tensor(sourceTensor).\n",
      "  kld = -0.5 * (1 + torch.tensor(results['encoding_logvar'], requires_grad=True)\n",
      "/tmp/ipykernel_5342/3808935312.py:9: UserWarning: To copy construct from a tensor, it is recommended to use sourceTensor.clone().detach() or sourceTensor.clone().detach().requires_grad_(True), rather than torch.tensor(sourceTensor).\n",
      "  - torch.tensor(results['encoding_mu'], requires_grad=True)**2\n",
      "/tmp/ipykernel_5342/3808935312.py:10: UserWarning: To copy construct from a tensor, it is recommended to use sourceTensor.clone().detach() or sourceTensor.clone().detach().requires_grad_(True), rather than torch.tensor(sourceTensor).\n",
      "  - torch.exp(torch.tensor(results['encoding_logvar'], requires_grad=True)))\n"
     ]
    },
    {
     "name": "stdout",
     "output_type": "stream",
     "text": [
      "139\n",
      "Comenzo get_data\n",
      "Grid shape: (32, 2, 300)\n",
      "Paso el Get data\n",
      "Shape pre-encoder torch.Size([32, 5, 300])\n",
      "Shape Encoder: torch.Size([32, 64, 306])\n",
      "Shape mu: torch.Size([64, 20])\n",
      "Shape log_var: torch.Size([64, 20])\n"
     ]
    },
    {
     "name": "stderr",
     "output_type": "stream",
     "text": [
      "/tmp/ipykernel_5342/3808935312.py:7: UserWarning: To copy construct from a tensor, it is recommended to use sourceTensor.clone().detach() or sourceTensor.clone().detach().requires_grad_(True), rather than torch.tensor(sourceTensor).\n",
      "  nll = (0.5 * torch.tensor(results['obs_weight']) * torch.tensor(results['obs_flux'])**2)\n",
      "/tmp/ipykernel_5342/3808935312.py:8: UserWarning: To copy construct from a tensor, it is recommended to use sourceTensor.clone().detach() or sourceTensor.clone().detach().requires_grad_(True), rather than torch.tensor(sourceTensor).\n",
      "  kld = -0.5 * (1 + torch.tensor(results['encoding_logvar'], requires_grad=True)\n",
      "/tmp/ipykernel_5342/3808935312.py:9: UserWarning: To copy construct from a tensor, it is recommended to use sourceTensor.clone().detach() or sourceTensor.clone().detach().requires_grad_(True), rather than torch.tensor(sourceTensor).\n",
      "  - torch.tensor(results['encoding_mu'], requires_grad=True)**2\n",
      "/tmp/ipykernel_5342/3808935312.py:10: UserWarning: To copy construct from a tensor, it is recommended to use sourceTensor.clone().detach() or sourceTensor.clone().detach().requires_grad_(True), rather than torch.tensor(sourceTensor).\n",
      "  - torch.exp(torch.tensor(results['encoding_logvar'], requires_grad=True)))\n"
     ]
    },
    {
     "name": "stdout",
     "output_type": "stream",
     "text": [
      "140\n",
      "Comenzo get_data\n",
      "Grid shape: (32, 2, 300)\n",
      "Paso el Get data\n",
      "Shape pre-encoder torch.Size([32, 5, 300])\n",
      "Shape Encoder: torch.Size([32, 64, 306])\n",
      "Shape mu: torch.Size([64, 20])\n",
      "Shape log_var: torch.Size([64, 20])\n"
     ]
    },
    {
     "name": "stderr",
     "output_type": "stream",
     "text": [
      "/tmp/ipykernel_5342/3808935312.py:7: UserWarning: To copy construct from a tensor, it is recommended to use sourceTensor.clone().detach() or sourceTensor.clone().detach().requires_grad_(True), rather than torch.tensor(sourceTensor).\n",
      "  nll = (0.5 * torch.tensor(results['obs_weight']) * torch.tensor(results['obs_flux'])**2)\n",
      "/tmp/ipykernel_5342/3808935312.py:8: UserWarning: To copy construct from a tensor, it is recommended to use sourceTensor.clone().detach() or sourceTensor.clone().detach().requires_grad_(True), rather than torch.tensor(sourceTensor).\n",
      "  kld = -0.5 * (1 + torch.tensor(results['encoding_logvar'], requires_grad=True)\n",
      "/tmp/ipykernel_5342/3808935312.py:9: UserWarning: To copy construct from a tensor, it is recommended to use sourceTensor.clone().detach() or sourceTensor.clone().detach().requires_grad_(True), rather than torch.tensor(sourceTensor).\n",
      "  - torch.tensor(results['encoding_mu'], requires_grad=True)**2\n",
      "/tmp/ipykernel_5342/3808935312.py:10: UserWarning: To copy construct from a tensor, it is recommended to use sourceTensor.clone().detach() or sourceTensor.clone().detach().requires_grad_(True), rather than torch.tensor(sourceTensor).\n",
      "  - torch.exp(torch.tensor(results['encoding_logvar'], requires_grad=True)))\n"
     ]
    },
    {
     "name": "stdout",
     "output_type": "stream",
     "text": [
      "141\n",
      "Comenzo get_data\n",
      "Grid shape: (32, 2, 300)\n",
      "Paso el Get data\n",
      "Shape pre-encoder torch.Size([32, 5, 300])\n",
      "Shape Encoder: torch.Size([32, 64, 306])\n",
      "Shape mu: torch.Size([64, 20])\n",
      "Shape log_var: torch.Size([64, 20])\n"
     ]
    },
    {
     "name": "stderr",
     "output_type": "stream",
     "text": [
      "/tmp/ipykernel_5342/3808935312.py:7: UserWarning: To copy construct from a tensor, it is recommended to use sourceTensor.clone().detach() or sourceTensor.clone().detach().requires_grad_(True), rather than torch.tensor(sourceTensor).\n",
      "  nll = (0.5 * torch.tensor(results['obs_weight']) * torch.tensor(results['obs_flux'])**2)\n",
      "/tmp/ipykernel_5342/3808935312.py:8: UserWarning: To copy construct from a tensor, it is recommended to use sourceTensor.clone().detach() or sourceTensor.clone().detach().requires_grad_(True), rather than torch.tensor(sourceTensor).\n",
      "  kld = -0.5 * (1 + torch.tensor(results['encoding_logvar'], requires_grad=True)\n",
      "/tmp/ipykernel_5342/3808935312.py:9: UserWarning: To copy construct from a tensor, it is recommended to use sourceTensor.clone().detach() or sourceTensor.clone().detach().requires_grad_(True), rather than torch.tensor(sourceTensor).\n",
      "  - torch.tensor(results['encoding_mu'], requires_grad=True)**2\n",
      "/tmp/ipykernel_5342/3808935312.py:10: UserWarning: To copy construct from a tensor, it is recommended to use sourceTensor.clone().detach() or sourceTensor.clone().detach().requires_grad_(True), rather than torch.tensor(sourceTensor).\n",
      "  - torch.exp(torch.tensor(results['encoding_logvar'], requires_grad=True)))\n"
     ]
    },
    {
     "name": "stdout",
     "output_type": "stream",
     "text": [
      "142\n",
      "Comenzo get_data\n",
      "Grid shape: (32, 2, 300)\n",
      "Paso el Get data\n",
      "Shape pre-encoder torch.Size([32, 5, 300])\n",
      "Shape Encoder: torch.Size([32, 64, 306])\n",
      "Shape mu: torch.Size([64, 20])\n",
      "Shape log_var: torch.Size([64, 20])\n"
     ]
    },
    {
     "name": "stderr",
     "output_type": "stream",
     "text": [
      "/tmp/ipykernel_5342/3808935312.py:7: UserWarning: To copy construct from a tensor, it is recommended to use sourceTensor.clone().detach() or sourceTensor.clone().detach().requires_grad_(True), rather than torch.tensor(sourceTensor).\n",
      "  nll = (0.5 * torch.tensor(results['obs_weight']) * torch.tensor(results['obs_flux'])**2)\n",
      "/tmp/ipykernel_5342/3808935312.py:8: UserWarning: To copy construct from a tensor, it is recommended to use sourceTensor.clone().detach() or sourceTensor.clone().detach().requires_grad_(True), rather than torch.tensor(sourceTensor).\n",
      "  kld = -0.5 * (1 + torch.tensor(results['encoding_logvar'], requires_grad=True)\n",
      "/tmp/ipykernel_5342/3808935312.py:9: UserWarning: To copy construct from a tensor, it is recommended to use sourceTensor.clone().detach() or sourceTensor.clone().detach().requires_grad_(True), rather than torch.tensor(sourceTensor).\n",
      "  - torch.tensor(results['encoding_mu'], requires_grad=True)**2\n",
      "/tmp/ipykernel_5342/3808935312.py:10: UserWarning: To copy construct from a tensor, it is recommended to use sourceTensor.clone().detach() or sourceTensor.clone().detach().requires_grad_(True), rather than torch.tensor(sourceTensor).\n",
      "  - torch.exp(torch.tensor(results['encoding_logvar'], requires_grad=True)))\n"
     ]
    },
    {
     "name": "stdout",
     "output_type": "stream",
     "text": [
      "143\n",
      "Comenzo get_data\n",
      "Grid shape: (32, 2, 300)\n",
      "Paso el Get data\n",
      "Shape pre-encoder torch.Size([32, 5, 300])\n",
      "Shape Encoder: torch.Size([32, 64, 306])\n",
      "Shape mu: torch.Size([64, 20])\n",
      "Shape log_var: torch.Size([64, 20])\n"
     ]
    },
    {
     "name": "stderr",
     "output_type": "stream",
     "text": [
      "/tmp/ipykernel_5342/3808935312.py:7: UserWarning: To copy construct from a tensor, it is recommended to use sourceTensor.clone().detach() or sourceTensor.clone().detach().requires_grad_(True), rather than torch.tensor(sourceTensor).\n",
      "  nll = (0.5 * torch.tensor(results['obs_weight']) * torch.tensor(results['obs_flux'])**2)\n",
      "/tmp/ipykernel_5342/3808935312.py:8: UserWarning: To copy construct from a tensor, it is recommended to use sourceTensor.clone().detach() or sourceTensor.clone().detach().requires_grad_(True), rather than torch.tensor(sourceTensor).\n",
      "  kld = -0.5 * (1 + torch.tensor(results['encoding_logvar'], requires_grad=True)\n",
      "/tmp/ipykernel_5342/3808935312.py:9: UserWarning: To copy construct from a tensor, it is recommended to use sourceTensor.clone().detach() or sourceTensor.clone().detach().requires_grad_(True), rather than torch.tensor(sourceTensor).\n",
      "  - torch.tensor(results['encoding_mu'], requires_grad=True)**2\n",
      "/tmp/ipykernel_5342/3808935312.py:10: UserWarning: To copy construct from a tensor, it is recommended to use sourceTensor.clone().detach() or sourceTensor.clone().detach().requires_grad_(True), rather than torch.tensor(sourceTensor).\n",
      "  - torch.exp(torch.tensor(results['encoding_logvar'], requires_grad=True)))\n"
     ]
    },
    {
     "name": "stdout",
     "output_type": "stream",
     "text": [
      "144\n",
      "Comenzo get_data\n",
      "Grid shape: (32, 2, 300)\n",
      "Paso el Get data\n",
      "Shape pre-encoder torch.Size([32, 5, 300])\n",
      "Shape Encoder: torch.Size([32, 64, 306])\n",
      "Shape mu: torch.Size([64, 20])\n",
      "Shape log_var: torch.Size([64, 20])\n"
     ]
    },
    {
     "name": "stderr",
     "output_type": "stream",
     "text": [
      "/tmp/ipykernel_5342/3808935312.py:7: UserWarning: To copy construct from a tensor, it is recommended to use sourceTensor.clone().detach() or sourceTensor.clone().detach().requires_grad_(True), rather than torch.tensor(sourceTensor).\n",
      "  nll = (0.5 * torch.tensor(results['obs_weight']) * torch.tensor(results['obs_flux'])**2)\n",
      "/tmp/ipykernel_5342/3808935312.py:8: UserWarning: To copy construct from a tensor, it is recommended to use sourceTensor.clone().detach() or sourceTensor.clone().detach().requires_grad_(True), rather than torch.tensor(sourceTensor).\n",
      "  kld = -0.5 * (1 + torch.tensor(results['encoding_logvar'], requires_grad=True)\n",
      "/tmp/ipykernel_5342/3808935312.py:9: UserWarning: To copy construct from a tensor, it is recommended to use sourceTensor.clone().detach() or sourceTensor.clone().detach().requires_grad_(True), rather than torch.tensor(sourceTensor).\n",
      "  - torch.tensor(results['encoding_mu'], requires_grad=True)**2\n",
      "/tmp/ipykernel_5342/3808935312.py:10: UserWarning: To copy construct from a tensor, it is recommended to use sourceTensor.clone().detach() or sourceTensor.clone().detach().requires_grad_(True), rather than torch.tensor(sourceTensor).\n",
      "  - torch.exp(torch.tensor(results['encoding_logvar'], requires_grad=True)))\n"
     ]
    },
    {
     "name": "stdout",
     "output_type": "stream",
     "text": [
      "145\n",
      "Comenzo get_data\n",
      "Grid shape: (32, 2, 300)\n",
      "Paso el Get data\n",
      "Shape pre-encoder torch.Size([32, 5, 300])\n",
      "Shape Encoder: torch.Size([32, 64, 306])\n",
      "Shape mu: torch.Size([64, 20])\n",
      "Shape log_var: torch.Size([64, 20])\n"
     ]
    },
    {
     "name": "stderr",
     "output_type": "stream",
     "text": [
      "/tmp/ipykernel_5342/3808935312.py:7: UserWarning: To copy construct from a tensor, it is recommended to use sourceTensor.clone().detach() or sourceTensor.clone().detach().requires_grad_(True), rather than torch.tensor(sourceTensor).\n",
      "  nll = (0.5 * torch.tensor(results['obs_weight']) * torch.tensor(results['obs_flux'])**2)\n",
      "/tmp/ipykernel_5342/3808935312.py:8: UserWarning: To copy construct from a tensor, it is recommended to use sourceTensor.clone().detach() or sourceTensor.clone().detach().requires_grad_(True), rather than torch.tensor(sourceTensor).\n",
      "  kld = -0.5 * (1 + torch.tensor(results['encoding_logvar'], requires_grad=True)\n",
      "/tmp/ipykernel_5342/3808935312.py:9: UserWarning: To copy construct from a tensor, it is recommended to use sourceTensor.clone().detach() or sourceTensor.clone().detach().requires_grad_(True), rather than torch.tensor(sourceTensor).\n",
      "  - torch.tensor(results['encoding_mu'], requires_grad=True)**2\n",
      "/tmp/ipykernel_5342/3808935312.py:10: UserWarning: To copy construct from a tensor, it is recommended to use sourceTensor.clone().detach() or sourceTensor.clone().detach().requires_grad_(True), rather than torch.tensor(sourceTensor).\n",
      "  - torch.exp(torch.tensor(results['encoding_logvar'], requires_grad=True)))\n"
     ]
    },
    {
     "name": "stdout",
     "output_type": "stream",
     "text": [
      "146\n",
      "Comenzo get_data\n",
      "Grid shape: (32, 2, 300)\n",
      "Paso el Get data\n",
      "Shape pre-encoder torch.Size([32, 5, 300])\n",
      "Shape Encoder: torch.Size([32, 64, 306])\n",
      "Shape mu: torch.Size([64, 20])\n",
      "Shape log_var: torch.Size([64, 20])\n"
     ]
    },
    {
     "name": "stderr",
     "output_type": "stream",
     "text": [
      "/tmp/ipykernel_5342/3808935312.py:7: UserWarning: To copy construct from a tensor, it is recommended to use sourceTensor.clone().detach() or sourceTensor.clone().detach().requires_grad_(True), rather than torch.tensor(sourceTensor).\n",
      "  nll = (0.5 * torch.tensor(results['obs_weight']) * torch.tensor(results['obs_flux'])**2)\n",
      "/tmp/ipykernel_5342/3808935312.py:8: UserWarning: To copy construct from a tensor, it is recommended to use sourceTensor.clone().detach() or sourceTensor.clone().detach().requires_grad_(True), rather than torch.tensor(sourceTensor).\n",
      "  kld = -0.5 * (1 + torch.tensor(results['encoding_logvar'], requires_grad=True)\n",
      "/tmp/ipykernel_5342/3808935312.py:9: UserWarning: To copy construct from a tensor, it is recommended to use sourceTensor.clone().detach() or sourceTensor.clone().detach().requires_grad_(True), rather than torch.tensor(sourceTensor).\n",
      "  - torch.tensor(results['encoding_mu'], requires_grad=True)**2\n",
      "/tmp/ipykernel_5342/3808935312.py:10: UserWarning: To copy construct from a tensor, it is recommended to use sourceTensor.clone().detach() or sourceTensor.clone().detach().requires_grad_(True), rather than torch.tensor(sourceTensor).\n",
      "  - torch.exp(torch.tensor(results['encoding_logvar'], requires_grad=True)))\n"
     ]
    },
    {
     "name": "stdout",
     "output_type": "stream",
     "text": [
      "147\n",
      "Comenzo get_data\n",
      "Grid shape: (32, 2, 300)\n",
      "Paso el Get data\n",
      "Shape pre-encoder torch.Size([32, 5, 300])\n",
      "Shape Encoder: torch.Size([32, 64, 306])\n",
      "Shape mu: torch.Size([64, 20])\n",
      "Shape log_var: torch.Size([64, 20])\n"
     ]
    },
    {
     "name": "stderr",
     "output_type": "stream",
     "text": [
      "/tmp/ipykernel_5342/3808935312.py:7: UserWarning: To copy construct from a tensor, it is recommended to use sourceTensor.clone().detach() or sourceTensor.clone().detach().requires_grad_(True), rather than torch.tensor(sourceTensor).\n",
      "  nll = (0.5 * torch.tensor(results['obs_weight']) * torch.tensor(results['obs_flux'])**2)\n",
      "/tmp/ipykernel_5342/3808935312.py:8: UserWarning: To copy construct from a tensor, it is recommended to use sourceTensor.clone().detach() or sourceTensor.clone().detach().requires_grad_(True), rather than torch.tensor(sourceTensor).\n",
      "  kld = -0.5 * (1 + torch.tensor(results['encoding_logvar'], requires_grad=True)\n",
      "/tmp/ipykernel_5342/3808935312.py:9: UserWarning: To copy construct from a tensor, it is recommended to use sourceTensor.clone().detach() or sourceTensor.clone().detach().requires_grad_(True), rather than torch.tensor(sourceTensor).\n",
      "  - torch.tensor(results['encoding_mu'], requires_grad=True)**2\n",
      "/tmp/ipykernel_5342/3808935312.py:10: UserWarning: To copy construct from a tensor, it is recommended to use sourceTensor.clone().detach() or sourceTensor.clone().detach().requires_grad_(True), rather than torch.tensor(sourceTensor).\n",
      "  - torch.exp(torch.tensor(results['encoding_logvar'], requires_grad=True)))\n"
     ]
    },
    {
     "name": "stdout",
     "output_type": "stream",
     "text": [
      "148\n",
      "Comenzo get_data\n",
      "Grid shape: (32, 2, 300)\n",
      "Paso el Get data\n",
      "Shape pre-encoder torch.Size([32, 5, 300])\n",
      "Shape Encoder: torch.Size([32, 64, 306])\n",
      "Shape mu: torch.Size([64, 20])\n",
      "Shape log_var: torch.Size([64, 20])\n"
     ]
    },
    {
     "name": "stderr",
     "output_type": "stream",
     "text": [
      "/tmp/ipykernel_5342/3808935312.py:7: UserWarning: To copy construct from a tensor, it is recommended to use sourceTensor.clone().detach() or sourceTensor.clone().detach().requires_grad_(True), rather than torch.tensor(sourceTensor).\n",
      "  nll = (0.5 * torch.tensor(results['obs_weight']) * torch.tensor(results['obs_flux'])**2)\n",
      "/tmp/ipykernel_5342/3808935312.py:8: UserWarning: To copy construct from a tensor, it is recommended to use sourceTensor.clone().detach() or sourceTensor.clone().detach().requires_grad_(True), rather than torch.tensor(sourceTensor).\n",
      "  kld = -0.5 * (1 + torch.tensor(results['encoding_logvar'], requires_grad=True)\n",
      "/tmp/ipykernel_5342/3808935312.py:9: UserWarning: To copy construct from a tensor, it is recommended to use sourceTensor.clone().detach() or sourceTensor.clone().detach().requires_grad_(True), rather than torch.tensor(sourceTensor).\n",
      "  - torch.tensor(results['encoding_mu'], requires_grad=True)**2\n",
      "/tmp/ipykernel_5342/3808935312.py:10: UserWarning: To copy construct from a tensor, it is recommended to use sourceTensor.clone().detach() or sourceTensor.clone().detach().requires_grad_(True), rather than torch.tensor(sourceTensor).\n",
      "  - torch.exp(torch.tensor(results['encoding_logvar'], requires_grad=True)))\n"
     ]
    },
    {
     "name": "stdout",
     "output_type": "stream",
     "text": [
      "149\n",
      "Comenzo get_data\n",
      "Grid shape: (32, 2, 300)\n",
      "Paso el Get data\n",
      "Shape pre-encoder torch.Size([32, 5, 300])\n",
      "Shape Encoder: torch.Size([32, 64, 306])\n",
      "Shape mu: torch.Size([64, 20])\n",
      "Shape log_var: torch.Size([64, 20])\n"
     ]
    },
    {
     "name": "stderr",
     "output_type": "stream",
     "text": [
      "/tmp/ipykernel_5342/3808935312.py:7: UserWarning: To copy construct from a tensor, it is recommended to use sourceTensor.clone().detach() or sourceTensor.clone().detach().requires_grad_(True), rather than torch.tensor(sourceTensor).\n",
      "  nll = (0.5 * torch.tensor(results['obs_weight']) * torch.tensor(results['obs_flux'])**2)\n",
      "/tmp/ipykernel_5342/3808935312.py:8: UserWarning: To copy construct from a tensor, it is recommended to use sourceTensor.clone().detach() or sourceTensor.clone().detach().requires_grad_(True), rather than torch.tensor(sourceTensor).\n",
      "  kld = -0.5 * (1 + torch.tensor(results['encoding_logvar'], requires_grad=True)\n",
      "/tmp/ipykernel_5342/3808935312.py:9: UserWarning: To copy construct from a tensor, it is recommended to use sourceTensor.clone().detach() or sourceTensor.clone().detach().requires_grad_(True), rather than torch.tensor(sourceTensor).\n",
      "  - torch.tensor(results['encoding_mu'], requires_grad=True)**2\n",
      "/tmp/ipykernel_5342/3808935312.py:10: UserWarning: To copy construct from a tensor, it is recommended to use sourceTensor.clone().detach() or sourceTensor.clone().detach().requires_grad_(True), rather than torch.tensor(sourceTensor).\n",
      "  - torch.exp(torch.tensor(results['encoding_logvar'], requires_grad=True)))\n"
     ]
    },
    {
     "name": "stdout",
     "output_type": "stream",
     "text": [
      "150\n",
      "Comenzo get_data\n",
      "Grid shape: (32, 2, 300)\n",
      "Paso el Get data\n",
      "Shape pre-encoder torch.Size([32, 5, 300])\n",
      "Shape Encoder: torch.Size([32, 64, 306])\n",
      "Shape mu: torch.Size([64, 20])\n",
      "Shape log_var: torch.Size([64, 20])\n"
     ]
    },
    {
     "name": "stderr",
     "output_type": "stream",
     "text": [
      "/tmp/ipykernel_5342/3808935312.py:7: UserWarning: To copy construct from a tensor, it is recommended to use sourceTensor.clone().detach() or sourceTensor.clone().detach().requires_grad_(True), rather than torch.tensor(sourceTensor).\n",
      "  nll = (0.5 * torch.tensor(results['obs_weight']) * torch.tensor(results['obs_flux'])**2)\n",
      "/tmp/ipykernel_5342/3808935312.py:8: UserWarning: To copy construct from a tensor, it is recommended to use sourceTensor.clone().detach() or sourceTensor.clone().detach().requires_grad_(True), rather than torch.tensor(sourceTensor).\n",
      "  kld = -0.5 * (1 + torch.tensor(results['encoding_logvar'], requires_grad=True)\n",
      "/tmp/ipykernel_5342/3808935312.py:9: UserWarning: To copy construct from a tensor, it is recommended to use sourceTensor.clone().detach() or sourceTensor.clone().detach().requires_grad_(True), rather than torch.tensor(sourceTensor).\n",
      "  - torch.tensor(results['encoding_mu'], requires_grad=True)**2\n",
      "/tmp/ipykernel_5342/3808935312.py:10: UserWarning: To copy construct from a tensor, it is recommended to use sourceTensor.clone().detach() or sourceTensor.clone().detach().requires_grad_(True), rather than torch.tensor(sourceTensor).\n",
      "  - torch.exp(torch.tensor(results['encoding_logvar'], requires_grad=True)))\n"
     ]
    },
    {
     "name": "stdout",
     "output_type": "stream",
     "text": [
      "151\n",
      "Comenzo get_data\n",
      "Grid shape: (32, 2, 300)\n",
      "Paso el Get data\n",
      "Shape pre-encoder torch.Size([32, 5, 300])\n",
      "Shape Encoder: torch.Size([32, 64, 306])\n",
      "Shape mu: torch.Size([64, 20])\n",
      "Shape log_var: torch.Size([64, 20])\n"
     ]
    },
    {
     "name": "stderr",
     "output_type": "stream",
     "text": [
      "/tmp/ipykernel_5342/3808935312.py:7: UserWarning: To copy construct from a tensor, it is recommended to use sourceTensor.clone().detach() or sourceTensor.clone().detach().requires_grad_(True), rather than torch.tensor(sourceTensor).\n",
      "  nll = (0.5 * torch.tensor(results['obs_weight']) * torch.tensor(results['obs_flux'])**2)\n",
      "/tmp/ipykernel_5342/3808935312.py:8: UserWarning: To copy construct from a tensor, it is recommended to use sourceTensor.clone().detach() or sourceTensor.clone().detach().requires_grad_(True), rather than torch.tensor(sourceTensor).\n",
      "  kld = -0.5 * (1 + torch.tensor(results['encoding_logvar'], requires_grad=True)\n",
      "/tmp/ipykernel_5342/3808935312.py:9: UserWarning: To copy construct from a tensor, it is recommended to use sourceTensor.clone().detach() or sourceTensor.clone().detach().requires_grad_(True), rather than torch.tensor(sourceTensor).\n",
      "  - torch.tensor(results['encoding_mu'], requires_grad=True)**2\n",
      "/tmp/ipykernel_5342/3808935312.py:10: UserWarning: To copy construct from a tensor, it is recommended to use sourceTensor.clone().detach() or sourceTensor.clone().detach().requires_grad_(True), rather than torch.tensor(sourceTensor).\n",
      "  - torch.exp(torch.tensor(results['encoding_logvar'], requires_grad=True)))\n"
     ]
    },
    {
     "name": "stdout",
     "output_type": "stream",
     "text": [
      "152\n",
      "Comenzo get_data\n",
      "Grid shape: (32, 2, 300)\n",
      "Paso el Get data\n",
      "Shape pre-encoder torch.Size([32, 5, 300])\n",
      "Shape Encoder: torch.Size([32, 64, 306])\n",
      "Shape mu: torch.Size([64, 20])\n",
      "Shape log_var: torch.Size([64, 20])\n"
     ]
    },
    {
     "name": "stderr",
     "output_type": "stream",
     "text": [
      "/tmp/ipykernel_5342/3808935312.py:7: UserWarning: To copy construct from a tensor, it is recommended to use sourceTensor.clone().detach() or sourceTensor.clone().detach().requires_grad_(True), rather than torch.tensor(sourceTensor).\n",
      "  nll = (0.5 * torch.tensor(results['obs_weight']) * torch.tensor(results['obs_flux'])**2)\n",
      "/tmp/ipykernel_5342/3808935312.py:8: UserWarning: To copy construct from a tensor, it is recommended to use sourceTensor.clone().detach() or sourceTensor.clone().detach().requires_grad_(True), rather than torch.tensor(sourceTensor).\n",
      "  kld = -0.5 * (1 + torch.tensor(results['encoding_logvar'], requires_grad=True)\n",
      "/tmp/ipykernel_5342/3808935312.py:9: UserWarning: To copy construct from a tensor, it is recommended to use sourceTensor.clone().detach() or sourceTensor.clone().detach().requires_grad_(True), rather than torch.tensor(sourceTensor).\n",
      "  - torch.tensor(results['encoding_mu'], requires_grad=True)**2\n",
      "/tmp/ipykernel_5342/3808935312.py:10: UserWarning: To copy construct from a tensor, it is recommended to use sourceTensor.clone().detach() or sourceTensor.clone().detach().requires_grad_(True), rather than torch.tensor(sourceTensor).\n",
      "  - torch.exp(torch.tensor(results['encoding_logvar'], requires_grad=True)))\n"
     ]
    },
    {
     "name": "stdout",
     "output_type": "stream",
     "text": [
      "153\n",
      "Comenzo get_data\n",
      "Grid shape: (32, 2, 300)\n",
      "Paso el Get data\n",
      "Shape pre-encoder torch.Size([32, 5, 300])\n",
      "Shape Encoder: torch.Size([32, 64, 306])\n",
      "Shape mu: torch.Size([64, 20])\n",
      "Shape log_var: torch.Size([64, 20])\n"
     ]
    },
    {
     "name": "stderr",
     "output_type": "stream",
     "text": [
      "/tmp/ipykernel_5342/3808935312.py:7: UserWarning: To copy construct from a tensor, it is recommended to use sourceTensor.clone().detach() or sourceTensor.clone().detach().requires_grad_(True), rather than torch.tensor(sourceTensor).\n",
      "  nll = (0.5 * torch.tensor(results['obs_weight']) * torch.tensor(results['obs_flux'])**2)\n",
      "/tmp/ipykernel_5342/3808935312.py:8: UserWarning: To copy construct from a tensor, it is recommended to use sourceTensor.clone().detach() or sourceTensor.clone().detach().requires_grad_(True), rather than torch.tensor(sourceTensor).\n",
      "  kld = -0.5 * (1 + torch.tensor(results['encoding_logvar'], requires_grad=True)\n",
      "/tmp/ipykernel_5342/3808935312.py:9: UserWarning: To copy construct from a tensor, it is recommended to use sourceTensor.clone().detach() or sourceTensor.clone().detach().requires_grad_(True), rather than torch.tensor(sourceTensor).\n",
      "  - torch.tensor(results['encoding_mu'], requires_grad=True)**2\n",
      "/tmp/ipykernel_5342/3808935312.py:10: UserWarning: To copy construct from a tensor, it is recommended to use sourceTensor.clone().detach() or sourceTensor.clone().detach().requires_grad_(True), rather than torch.tensor(sourceTensor).\n",
      "  - torch.exp(torch.tensor(results['encoding_logvar'], requires_grad=True)))\n"
     ]
    },
    {
     "name": "stdout",
     "output_type": "stream",
     "text": [
      "154\n",
      "Comenzo get_data\n",
      "Grid shape: (32, 2, 300)\n",
      "Paso el Get data\n",
      "Shape pre-encoder torch.Size([32, 5, 300])\n",
      "Shape Encoder: torch.Size([32, 64, 306])\n",
      "Shape mu: torch.Size([64, 20])\n",
      "Shape log_var: torch.Size([64, 20])\n"
     ]
    },
    {
     "name": "stderr",
     "output_type": "stream",
     "text": [
      "/tmp/ipykernel_5342/3808935312.py:7: UserWarning: To copy construct from a tensor, it is recommended to use sourceTensor.clone().detach() or sourceTensor.clone().detach().requires_grad_(True), rather than torch.tensor(sourceTensor).\n",
      "  nll = (0.5 * torch.tensor(results['obs_weight']) * torch.tensor(results['obs_flux'])**2)\n",
      "/tmp/ipykernel_5342/3808935312.py:8: UserWarning: To copy construct from a tensor, it is recommended to use sourceTensor.clone().detach() or sourceTensor.clone().detach().requires_grad_(True), rather than torch.tensor(sourceTensor).\n",
      "  kld = -0.5 * (1 + torch.tensor(results['encoding_logvar'], requires_grad=True)\n",
      "/tmp/ipykernel_5342/3808935312.py:9: UserWarning: To copy construct from a tensor, it is recommended to use sourceTensor.clone().detach() or sourceTensor.clone().detach().requires_grad_(True), rather than torch.tensor(sourceTensor).\n",
      "  - torch.tensor(results['encoding_mu'], requires_grad=True)**2\n",
      "/tmp/ipykernel_5342/3808935312.py:10: UserWarning: To copy construct from a tensor, it is recommended to use sourceTensor.clone().detach() or sourceTensor.clone().detach().requires_grad_(True), rather than torch.tensor(sourceTensor).\n",
      "  - torch.exp(torch.tensor(results['encoding_logvar'], requires_grad=True)))\n"
     ]
    },
    {
     "name": "stdout",
     "output_type": "stream",
     "text": [
      "155\n",
      "Comenzo get_data\n",
      "Grid shape: (32, 2, 300)\n",
      "Paso el Get data\n",
      "Shape pre-encoder torch.Size([32, 5, 300])\n",
      "Shape Encoder: torch.Size([32, 64, 306])\n",
      "Shape mu: torch.Size([64, 20])\n",
      "Shape log_var: torch.Size([64, 20])\n"
     ]
    },
    {
     "name": "stderr",
     "output_type": "stream",
     "text": [
      "/tmp/ipykernel_5342/3808935312.py:7: UserWarning: To copy construct from a tensor, it is recommended to use sourceTensor.clone().detach() or sourceTensor.clone().detach().requires_grad_(True), rather than torch.tensor(sourceTensor).\n",
      "  nll = (0.5 * torch.tensor(results['obs_weight']) * torch.tensor(results['obs_flux'])**2)\n",
      "/tmp/ipykernel_5342/3808935312.py:8: UserWarning: To copy construct from a tensor, it is recommended to use sourceTensor.clone().detach() or sourceTensor.clone().detach().requires_grad_(True), rather than torch.tensor(sourceTensor).\n",
      "  kld = -0.5 * (1 + torch.tensor(results['encoding_logvar'], requires_grad=True)\n",
      "/tmp/ipykernel_5342/3808935312.py:9: UserWarning: To copy construct from a tensor, it is recommended to use sourceTensor.clone().detach() or sourceTensor.clone().detach().requires_grad_(True), rather than torch.tensor(sourceTensor).\n",
      "  - torch.tensor(results['encoding_mu'], requires_grad=True)**2\n",
      "/tmp/ipykernel_5342/3808935312.py:10: UserWarning: To copy construct from a tensor, it is recommended to use sourceTensor.clone().detach() or sourceTensor.clone().detach().requires_grad_(True), rather than torch.tensor(sourceTensor).\n",
      "  - torch.exp(torch.tensor(results['encoding_logvar'], requires_grad=True)))\n"
     ]
    },
    {
     "name": "stdout",
     "output_type": "stream",
     "text": [
      "156\n",
      "Comenzo get_data\n",
      "Grid shape: (32, 2, 300)\n",
      "Paso el Get data\n",
      "Shape pre-encoder torch.Size([32, 5, 300])\n",
      "Shape Encoder: torch.Size([32, 64, 306])\n",
      "Shape mu: torch.Size([64, 20])\n",
      "Shape log_var: torch.Size([64, 20])\n"
     ]
    },
    {
     "name": "stderr",
     "output_type": "stream",
     "text": [
      "/tmp/ipykernel_5342/3808935312.py:7: UserWarning: To copy construct from a tensor, it is recommended to use sourceTensor.clone().detach() or sourceTensor.clone().detach().requires_grad_(True), rather than torch.tensor(sourceTensor).\n",
      "  nll = (0.5 * torch.tensor(results['obs_weight']) * torch.tensor(results['obs_flux'])**2)\n",
      "/tmp/ipykernel_5342/3808935312.py:8: UserWarning: To copy construct from a tensor, it is recommended to use sourceTensor.clone().detach() or sourceTensor.clone().detach().requires_grad_(True), rather than torch.tensor(sourceTensor).\n",
      "  kld = -0.5 * (1 + torch.tensor(results['encoding_logvar'], requires_grad=True)\n",
      "/tmp/ipykernel_5342/3808935312.py:9: UserWarning: To copy construct from a tensor, it is recommended to use sourceTensor.clone().detach() or sourceTensor.clone().detach().requires_grad_(True), rather than torch.tensor(sourceTensor).\n",
      "  - torch.tensor(results['encoding_mu'], requires_grad=True)**2\n",
      "/tmp/ipykernel_5342/3808935312.py:10: UserWarning: To copy construct from a tensor, it is recommended to use sourceTensor.clone().detach() or sourceTensor.clone().detach().requires_grad_(True), rather than torch.tensor(sourceTensor).\n",
      "  - torch.exp(torch.tensor(results['encoding_logvar'], requires_grad=True)))\n"
     ]
    },
    {
     "name": "stdout",
     "output_type": "stream",
     "text": [
      "157\n",
      "Comenzo get_data\n",
      "Grid shape: (32, 2, 300)\n",
      "Paso el Get data\n",
      "Shape pre-encoder torch.Size([32, 5, 300])\n",
      "Shape Encoder: torch.Size([32, 64, 306])\n",
      "Shape mu: torch.Size([64, 20])\n",
      "Shape log_var: torch.Size([64, 20])\n"
     ]
    },
    {
     "name": "stderr",
     "output_type": "stream",
     "text": [
      "/tmp/ipykernel_5342/3808935312.py:7: UserWarning: To copy construct from a tensor, it is recommended to use sourceTensor.clone().detach() or sourceTensor.clone().detach().requires_grad_(True), rather than torch.tensor(sourceTensor).\n",
      "  nll = (0.5 * torch.tensor(results['obs_weight']) * torch.tensor(results['obs_flux'])**2)\n",
      "/tmp/ipykernel_5342/3808935312.py:8: UserWarning: To copy construct from a tensor, it is recommended to use sourceTensor.clone().detach() or sourceTensor.clone().detach().requires_grad_(True), rather than torch.tensor(sourceTensor).\n",
      "  kld = -0.5 * (1 + torch.tensor(results['encoding_logvar'], requires_grad=True)\n",
      "/tmp/ipykernel_5342/3808935312.py:9: UserWarning: To copy construct from a tensor, it is recommended to use sourceTensor.clone().detach() or sourceTensor.clone().detach().requires_grad_(True), rather than torch.tensor(sourceTensor).\n",
      "  - torch.tensor(results['encoding_mu'], requires_grad=True)**2\n",
      "/tmp/ipykernel_5342/3808935312.py:10: UserWarning: To copy construct from a tensor, it is recommended to use sourceTensor.clone().detach() or sourceTensor.clone().detach().requires_grad_(True), rather than torch.tensor(sourceTensor).\n",
      "  - torch.exp(torch.tensor(results['encoding_logvar'], requires_grad=True)))\n"
     ]
    },
    {
     "name": "stdout",
     "output_type": "stream",
     "text": [
      "158\n",
      "Comenzo get_data\n",
      "Grid shape: (32, 2, 300)\n",
      "Paso el Get data\n",
      "Shape pre-encoder torch.Size([32, 5, 300])\n",
      "Shape Encoder: torch.Size([32, 64, 306])\n",
      "Shape mu: torch.Size([64, 20])\n",
      "Shape log_var: torch.Size([64, 20])\n"
     ]
    },
    {
     "name": "stderr",
     "output_type": "stream",
     "text": [
      "/tmp/ipykernel_5342/3808935312.py:7: UserWarning: To copy construct from a tensor, it is recommended to use sourceTensor.clone().detach() or sourceTensor.clone().detach().requires_grad_(True), rather than torch.tensor(sourceTensor).\n",
      "  nll = (0.5 * torch.tensor(results['obs_weight']) * torch.tensor(results['obs_flux'])**2)\n",
      "/tmp/ipykernel_5342/3808935312.py:8: UserWarning: To copy construct from a tensor, it is recommended to use sourceTensor.clone().detach() or sourceTensor.clone().detach().requires_grad_(True), rather than torch.tensor(sourceTensor).\n",
      "  kld = -0.5 * (1 + torch.tensor(results['encoding_logvar'], requires_grad=True)\n",
      "/tmp/ipykernel_5342/3808935312.py:9: UserWarning: To copy construct from a tensor, it is recommended to use sourceTensor.clone().detach() or sourceTensor.clone().detach().requires_grad_(True), rather than torch.tensor(sourceTensor).\n",
      "  - torch.tensor(results['encoding_mu'], requires_grad=True)**2\n",
      "/tmp/ipykernel_5342/3808935312.py:10: UserWarning: To copy construct from a tensor, it is recommended to use sourceTensor.clone().detach() or sourceTensor.clone().detach().requires_grad_(True), rather than torch.tensor(sourceTensor).\n",
      "  - torch.exp(torch.tensor(results['encoding_logvar'], requires_grad=True)))\n"
     ]
    },
    {
     "name": "stdout",
     "output_type": "stream",
     "text": [
      "159\n",
      "Comenzo get_data\n",
      "Grid shape: (32, 2, 300)\n",
      "Paso el Get data\n",
      "Shape pre-encoder torch.Size([32, 5, 300])\n",
      "Shape Encoder: torch.Size([32, 64, 306])\n",
      "Shape mu: torch.Size([64, 20])\n",
      "Shape log_var: torch.Size([64, 20])\n"
     ]
    },
    {
     "name": "stderr",
     "output_type": "stream",
     "text": [
      "/tmp/ipykernel_5342/3808935312.py:7: UserWarning: To copy construct from a tensor, it is recommended to use sourceTensor.clone().detach() or sourceTensor.clone().detach().requires_grad_(True), rather than torch.tensor(sourceTensor).\n",
      "  nll = (0.5 * torch.tensor(results['obs_weight']) * torch.tensor(results['obs_flux'])**2)\n",
      "/tmp/ipykernel_5342/3808935312.py:8: UserWarning: To copy construct from a tensor, it is recommended to use sourceTensor.clone().detach() or sourceTensor.clone().detach().requires_grad_(True), rather than torch.tensor(sourceTensor).\n",
      "  kld = -0.5 * (1 + torch.tensor(results['encoding_logvar'], requires_grad=True)\n",
      "/tmp/ipykernel_5342/3808935312.py:9: UserWarning: To copy construct from a tensor, it is recommended to use sourceTensor.clone().detach() or sourceTensor.clone().detach().requires_grad_(True), rather than torch.tensor(sourceTensor).\n",
      "  - torch.tensor(results['encoding_mu'], requires_grad=True)**2\n",
      "/tmp/ipykernel_5342/3808935312.py:10: UserWarning: To copy construct from a tensor, it is recommended to use sourceTensor.clone().detach() or sourceTensor.clone().detach().requires_grad_(True), rather than torch.tensor(sourceTensor).\n",
      "  - torch.exp(torch.tensor(results['encoding_logvar'], requires_grad=True)))\n"
     ]
    },
    {
     "name": "stdout",
     "output_type": "stream",
     "text": [
      "160\n",
      "Comenzo get_data\n",
      "Grid shape: (32, 2, 300)\n",
      "Paso el Get data\n",
      "Shape pre-encoder torch.Size([32, 5, 300])\n",
      "Shape Encoder: torch.Size([32, 64, 306])\n",
      "Shape mu: torch.Size([64, 20])\n",
      "Shape log_var: torch.Size([64, 20])\n"
     ]
    },
    {
     "name": "stderr",
     "output_type": "stream",
     "text": [
      "/tmp/ipykernel_5342/3808935312.py:7: UserWarning: To copy construct from a tensor, it is recommended to use sourceTensor.clone().detach() or sourceTensor.clone().detach().requires_grad_(True), rather than torch.tensor(sourceTensor).\n",
      "  nll = (0.5 * torch.tensor(results['obs_weight']) * torch.tensor(results['obs_flux'])**2)\n",
      "/tmp/ipykernel_5342/3808935312.py:8: UserWarning: To copy construct from a tensor, it is recommended to use sourceTensor.clone().detach() or sourceTensor.clone().detach().requires_grad_(True), rather than torch.tensor(sourceTensor).\n",
      "  kld = -0.5 * (1 + torch.tensor(results['encoding_logvar'], requires_grad=True)\n",
      "/tmp/ipykernel_5342/3808935312.py:9: UserWarning: To copy construct from a tensor, it is recommended to use sourceTensor.clone().detach() or sourceTensor.clone().detach().requires_grad_(True), rather than torch.tensor(sourceTensor).\n",
      "  - torch.tensor(results['encoding_mu'], requires_grad=True)**2\n",
      "/tmp/ipykernel_5342/3808935312.py:10: UserWarning: To copy construct from a tensor, it is recommended to use sourceTensor.clone().detach() or sourceTensor.clone().detach().requires_grad_(True), rather than torch.tensor(sourceTensor).\n",
      "  - torch.exp(torch.tensor(results['encoding_logvar'], requires_grad=True)))\n"
     ]
    },
    {
     "name": "stdout",
     "output_type": "stream",
     "text": [
      "161\n",
      "Comenzo get_data\n",
      "Grid shape: (32, 2, 300)\n",
      "Paso el Get data\n",
      "Shape pre-encoder torch.Size([32, 5, 300])\n",
      "Shape Encoder: torch.Size([32, 64, 306])\n",
      "Shape mu: torch.Size([64, 20])\n",
      "Shape log_var: torch.Size([64, 20])\n"
     ]
    },
    {
     "name": "stderr",
     "output_type": "stream",
     "text": [
      "/tmp/ipykernel_5342/3808935312.py:7: UserWarning: To copy construct from a tensor, it is recommended to use sourceTensor.clone().detach() or sourceTensor.clone().detach().requires_grad_(True), rather than torch.tensor(sourceTensor).\n",
      "  nll = (0.5 * torch.tensor(results['obs_weight']) * torch.tensor(results['obs_flux'])**2)\n",
      "/tmp/ipykernel_5342/3808935312.py:8: UserWarning: To copy construct from a tensor, it is recommended to use sourceTensor.clone().detach() or sourceTensor.clone().detach().requires_grad_(True), rather than torch.tensor(sourceTensor).\n",
      "  kld = -0.5 * (1 + torch.tensor(results['encoding_logvar'], requires_grad=True)\n",
      "/tmp/ipykernel_5342/3808935312.py:9: UserWarning: To copy construct from a tensor, it is recommended to use sourceTensor.clone().detach() or sourceTensor.clone().detach().requires_grad_(True), rather than torch.tensor(sourceTensor).\n",
      "  - torch.tensor(results['encoding_mu'], requires_grad=True)**2\n",
      "/tmp/ipykernel_5342/3808935312.py:10: UserWarning: To copy construct from a tensor, it is recommended to use sourceTensor.clone().detach() or sourceTensor.clone().detach().requires_grad_(True), rather than torch.tensor(sourceTensor).\n",
      "  - torch.exp(torch.tensor(results['encoding_logvar'], requires_grad=True)))\n"
     ]
    },
    {
     "name": "stdout",
     "output_type": "stream",
     "text": [
      "162\n",
      "Comenzo get_data\n",
      "Grid shape: (32, 2, 300)\n",
      "Paso el Get data\n",
      "Shape pre-encoder torch.Size([32, 5, 300])\n",
      "Shape Encoder: torch.Size([32, 64, 306])\n",
      "Shape mu: torch.Size([64, 20])\n",
      "Shape log_var: torch.Size([64, 20])\n"
     ]
    },
    {
     "name": "stderr",
     "output_type": "stream",
     "text": [
      "/tmp/ipykernel_5342/3808935312.py:7: UserWarning: To copy construct from a tensor, it is recommended to use sourceTensor.clone().detach() or sourceTensor.clone().detach().requires_grad_(True), rather than torch.tensor(sourceTensor).\n",
      "  nll = (0.5 * torch.tensor(results['obs_weight']) * torch.tensor(results['obs_flux'])**2)\n",
      "/tmp/ipykernel_5342/3808935312.py:8: UserWarning: To copy construct from a tensor, it is recommended to use sourceTensor.clone().detach() or sourceTensor.clone().detach().requires_grad_(True), rather than torch.tensor(sourceTensor).\n",
      "  kld = -0.5 * (1 + torch.tensor(results['encoding_logvar'], requires_grad=True)\n",
      "/tmp/ipykernel_5342/3808935312.py:9: UserWarning: To copy construct from a tensor, it is recommended to use sourceTensor.clone().detach() or sourceTensor.clone().detach().requires_grad_(True), rather than torch.tensor(sourceTensor).\n",
      "  - torch.tensor(results['encoding_mu'], requires_grad=True)**2\n",
      "/tmp/ipykernel_5342/3808935312.py:10: UserWarning: To copy construct from a tensor, it is recommended to use sourceTensor.clone().detach() or sourceTensor.clone().detach().requires_grad_(True), rather than torch.tensor(sourceTensor).\n",
      "  - torch.exp(torch.tensor(results['encoding_logvar'], requires_grad=True)))\n"
     ]
    },
    {
     "name": "stdout",
     "output_type": "stream",
     "text": [
      "163\n",
      "Comenzo get_data\n",
      "Grid shape: (32, 2, 300)\n",
      "Paso el Get data\n",
      "Shape pre-encoder torch.Size([32, 5, 300])\n",
      "Shape Encoder: torch.Size([32, 64, 306])\n",
      "Shape mu: torch.Size([64, 20])\n",
      "Shape log_var: torch.Size([64, 20])\n"
     ]
    },
    {
     "name": "stderr",
     "output_type": "stream",
     "text": [
      "/tmp/ipykernel_5342/3808935312.py:7: UserWarning: To copy construct from a tensor, it is recommended to use sourceTensor.clone().detach() or sourceTensor.clone().detach().requires_grad_(True), rather than torch.tensor(sourceTensor).\n",
      "  nll = (0.5 * torch.tensor(results['obs_weight']) * torch.tensor(results['obs_flux'])**2)\n",
      "/tmp/ipykernel_5342/3808935312.py:8: UserWarning: To copy construct from a tensor, it is recommended to use sourceTensor.clone().detach() or sourceTensor.clone().detach().requires_grad_(True), rather than torch.tensor(sourceTensor).\n",
      "  kld = -0.5 * (1 + torch.tensor(results['encoding_logvar'], requires_grad=True)\n",
      "/tmp/ipykernel_5342/3808935312.py:9: UserWarning: To copy construct from a tensor, it is recommended to use sourceTensor.clone().detach() or sourceTensor.clone().detach().requires_grad_(True), rather than torch.tensor(sourceTensor).\n",
      "  - torch.tensor(results['encoding_mu'], requires_grad=True)**2\n",
      "/tmp/ipykernel_5342/3808935312.py:10: UserWarning: To copy construct from a tensor, it is recommended to use sourceTensor.clone().detach() or sourceTensor.clone().detach().requires_grad_(True), rather than torch.tensor(sourceTensor).\n",
      "  - torch.exp(torch.tensor(results['encoding_logvar'], requires_grad=True)))\n"
     ]
    },
    {
     "name": "stdout",
     "output_type": "stream",
     "text": [
      "164\n",
      "Comenzo get_data\n",
      "Grid shape: (32, 2, 300)\n",
      "Paso el Get data\n",
      "Shape pre-encoder torch.Size([32, 5, 300])\n",
      "Shape Encoder: torch.Size([32, 64, 306])\n",
      "Shape mu: torch.Size([64, 20])\n",
      "Shape log_var: torch.Size([64, 20])\n"
     ]
    },
    {
     "name": "stderr",
     "output_type": "stream",
     "text": [
      "/tmp/ipykernel_5342/3808935312.py:7: UserWarning: To copy construct from a tensor, it is recommended to use sourceTensor.clone().detach() or sourceTensor.clone().detach().requires_grad_(True), rather than torch.tensor(sourceTensor).\n",
      "  nll = (0.5 * torch.tensor(results['obs_weight']) * torch.tensor(results['obs_flux'])**2)\n",
      "/tmp/ipykernel_5342/3808935312.py:8: UserWarning: To copy construct from a tensor, it is recommended to use sourceTensor.clone().detach() or sourceTensor.clone().detach().requires_grad_(True), rather than torch.tensor(sourceTensor).\n",
      "  kld = -0.5 * (1 + torch.tensor(results['encoding_logvar'], requires_grad=True)\n",
      "/tmp/ipykernel_5342/3808935312.py:9: UserWarning: To copy construct from a tensor, it is recommended to use sourceTensor.clone().detach() or sourceTensor.clone().detach().requires_grad_(True), rather than torch.tensor(sourceTensor).\n",
      "  - torch.tensor(results['encoding_mu'], requires_grad=True)**2\n",
      "/tmp/ipykernel_5342/3808935312.py:10: UserWarning: To copy construct from a tensor, it is recommended to use sourceTensor.clone().detach() or sourceTensor.clone().detach().requires_grad_(True), rather than torch.tensor(sourceTensor).\n",
      "  - torch.exp(torch.tensor(results['encoding_logvar'], requires_grad=True)))\n"
     ]
    },
    {
     "name": "stdout",
     "output_type": "stream",
     "text": [
      "165\n",
      "Comenzo get_data\n",
      "Grid shape: (32, 2, 300)\n",
      "Paso el Get data\n",
      "Shape pre-encoder torch.Size([32, 5, 300])\n",
      "Shape Encoder: torch.Size([32, 64, 306])\n",
      "Shape mu: torch.Size([64, 20])\n",
      "Shape log_var: torch.Size([64, 20])\n"
     ]
    },
    {
     "name": "stderr",
     "output_type": "stream",
     "text": [
      "/tmp/ipykernel_5342/3808935312.py:7: UserWarning: To copy construct from a tensor, it is recommended to use sourceTensor.clone().detach() or sourceTensor.clone().detach().requires_grad_(True), rather than torch.tensor(sourceTensor).\n",
      "  nll = (0.5 * torch.tensor(results['obs_weight']) * torch.tensor(results['obs_flux'])**2)\n",
      "/tmp/ipykernel_5342/3808935312.py:8: UserWarning: To copy construct from a tensor, it is recommended to use sourceTensor.clone().detach() or sourceTensor.clone().detach().requires_grad_(True), rather than torch.tensor(sourceTensor).\n",
      "  kld = -0.5 * (1 + torch.tensor(results['encoding_logvar'], requires_grad=True)\n",
      "/tmp/ipykernel_5342/3808935312.py:9: UserWarning: To copy construct from a tensor, it is recommended to use sourceTensor.clone().detach() or sourceTensor.clone().detach().requires_grad_(True), rather than torch.tensor(sourceTensor).\n",
      "  - torch.tensor(results['encoding_mu'], requires_grad=True)**2\n",
      "/tmp/ipykernel_5342/3808935312.py:10: UserWarning: To copy construct from a tensor, it is recommended to use sourceTensor.clone().detach() or sourceTensor.clone().detach().requires_grad_(True), rather than torch.tensor(sourceTensor).\n",
      "  - torch.exp(torch.tensor(results['encoding_logvar'], requires_grad=True)))\n"
     ]
    },
    {
     "name": "stdout",
     "output_type": "stream",
     "text": [
      "166\n",
      "Comenzo get_data\n",
      "Grid shape: (32, 2, 300)\n",
      "Paso el Get data\n",
      "Shape pre-encoder torch.Size([32, 5, 300])\n",
      "Shape Encoder: torch.Size([32, 64, 306])\n",
      "Shape mu: torch.Size([64, 20])\n",
      "Shape log_var: torch.Size([64, 20])\n"
     ]
    },
    {
     "name": "stderr",
     "output_type": "stream",
     "text": [
      "/tmp/ipykernel_5342/3808935312.py:7: UserWarning: To copy construct from a tensor, it is recommended to use sourceTensor.clone().detach() or sourceTensor.clone().detach().requires_grad_(True), rather than torch.tensor(sourceTensor).\n",
      "  nll = (0.5 * torch.tensor(results['obs_weight']) * torch.tensor(results['obs_flux'])**2)\n",
      "/tmp/ipykernel_5342/3808935312.py:8: UserWarning: To copy construct from a tensor, it is recommended to use sourceTensor.clone().detach() or sourceTensor.clone().detach().requires_grad_(True), rather than torch.tensor(sourceTensor).\n",
      "  kld = -0.5 * (1 + torch.tensor(results['encoding_logvar'], requires_grad=True)\n",
      "/tmp/ipykernel_5342/3808935312.py:9: UserWarning: To copy construct from a tensor, it is recommended to use sourceTensor.clone().detach() or sourceTensor.clone().detach().requires_grad_(True), rather than torch.tensor(sourceTensor).\n",
      "  - torch.tensor(results['encoding_mu'], requires_grad=True)**2\n",
      "/tmp/ipykernel_5342/3808935312.py:10: UserWarning: To copy construct from a tensor, it is recommended to use sourceTensor.clone().detach() or sourceTensor.clone().detach().requires_grad_(True), rather than torch.tensor(sourceTensor).\n",
      "  - torch.exp(torch.tensor(results['encoding_logvar'], requires_grad=True)))\n"
     ]
    },
    {
     "name": "stdout",
     "output_type": "stream",
     "text": [
      "167\n",
      "Comenzo get_data\n",
      "Grid shape: (32, 2, 300)\n",
      "Paso el Get data\n",
      "Shape pre-encoder torch.Size([32, 5, 300])\n",
      "Shape Encoder: torch.Size([32, 64, 306])\n",
      "Shape mu: torch.Size([64, 20])\n",
      "Shape log_var: torch.Size([64, 20])\n"
     ]
    },
    {
     "name": "stderr",
     "output_type": "stream",
     "text": [
      "/tmp/ipykernel_5342/3808935312.py:7: UserWarning: To copy construct from a tensor, it is recommended to use sourceTensor.clone().detach() or sourceTensor.clone().detach().requires_grad_(True), rather than torch.tensor(sourceTensor).\n",
      "  nll = (0.5 * torch.tensor(results['obs_weight']) * torch.tensor(results['obs_flux'])**2)\n",
      "/tmp/ipykernel_5342/3808935312.py:8: UserWarning: To copy construct from a tensor, it is recommended to use sourceTensor.clone().detach() or sourceTensor.clone().detach().requires_grad_(True), rather than torch.tensor(sourceTensor).\n",
      "  kld = -0.5 * (1 + torch.tensor(results['encoding_logvar'], requires_grad=True)\n",
      "/tmp/ipykernel_5342/3808935312.py:9: UserWarning: To copy construct from a tensor, it is recommended to use sourceTensor.clone().detach() or sourceTensor.clone().detach().requires_grad_(True), rather than torch.tensor(sourceTensor).\n",
      "  - torch.tensor(results['encoding_mu'], requires_grad=True)**2\n",
      "/tmp/ipykernel_5342/3808935312.py:10: UserWarning: To copy construct from a tensor, it is recommended to use sourceTensor.clone().detach() or sourceTensor.clone().detach().requires_grad_(True), rather than torch.tensor(sourceTensor).\n",
      "  - torch.exp(torch.tensor(results['encoding_logvar'], requires_grad=True)))\n"
     ]
    },
    {
     "name": "stdout",
     "output_type": "stream",
     "text": [
      "168\n",
      "Comenzo get_data\n",
      "Grid shape: (32, 2, 300)\n",
      "Paso el Get data\n",
      "Shape pre-encoder torch.Size([32, 5, 300])\n",
      "Shape Encoder: torch.Size([32, 64, 306])\n",
      "Shape mu: torch.Size([64, 20])\n",
      "Shape log_var: torch.Size([64, 20])\n"
     ]
    },
    {
     "name": "stderr",
     "output_type": "stream",
     "text": [
      "/tmp/ipykernel_5342/3808935312.py:7: UserWarning: To copy construct from a tensor, it is recommended to use sourceTensor.clone().detach() or sourceTensor.clone().detach().requires_grad_(True), rather than torch.tensor(sourceTensor).\n",
      "  nll = (0.5 * torch.tensor(results['obs_weight']) * torch.tensor(results['obs_flux'])**2)\n",
      "/tmp/ipykernel_5342/3808935312.py:8: UserWarning: To copy construct from a tensor, it is recommended to use sourceTensor.clone().detach() or sourceTensor.clone().detach().requires_grad_(True), rather than torch.tensor(sourceTensor).\n",
      "  kld = -0.5 * (1 + torch.tensor(results['encoding_logvar'], requires_grad=True)\n",
      "/tmp/ipykernel_5342/3808935312.py:9: UserWarning: To copy construct from a tensor, it is recommended to use sourceTensor.clone().detach() or sourceTensor.clone().detach().requires_grad_(True), rather than torch.tensor(sourceTensor).\n",
      "  - torch.tensor(results['encoding_mu'], requires_grad=True)**2\n",
      "/tmp/ipykernel_5342/3808935312.py:10: UserWarning: To copy construct from a tensor, it is recommended to use sourceTensor.clone().detach() or sourceTensor.clone().detach().requires_grad_(True), rather than torch.tensor(sourceTensor).\n",
      "  - torch.exp(torch.tensor(results['encoding_logvar'], requires_grad=True)))\n"
     ]
    },
    {
     "name": "stdout",
     "output_type": "stream",
     "text": [
      "169\n",
      "Comenzo get_data\n",
      "Grid shape: (32, 2, 300)\n",
      "Paso el Get data\n",
      "Shape pre-encoder torch.Size([32, 5, 300])\n",
      "Shape Encoder: torch.Size([32, 64, 306])\n",
      "Shape mu: torch.Size([64, 20])\n",
      "Shape log_var: torch.Size([64, 20])\n"
     ]
    },
    {
     "name": "stderr",
     "output_type": "stream",
     "text": [
      "/tmp/ipykernel_5342/3808935312.py:7: UserWarning: To copy construct from a tensor, it is recommended to use sourceTensor.clone().detach() or sourceTensor.clone().detach().requires_grad_(True), rather than torch.tensor(sourceTensor).\n",
      "  nll = (0.5 * torch.tensor(results['obs_weight']) * torch.tensor(results['obs_flux'])**2)\n",
      "/tmp/ipykernel_5342/3808935312.py:8: UserWarning: To copy construct from a tensor, it is recommended to use sourceTensor.clone().detach() or sourceTensor.clone().detach().requires_grad_(True), rather than torch.tensor(sourceTensor).\n",
      "  kld = -0.5 * (1 + torch.tensor(results['encoding_logvar'], requires_grad=True)\n",
      "/tmp/ipykernel_5342/3808935312.py:9: UserWarning: To copy construct from a tensor, it is recommended to use sourceTensor.clone().detach() or sourceTensor.clone().detach().requires_grad_(True), rather than torch.tensor(sourceTensor).\n",
      "  - torch.tensor(results['encoding_mu'], requires_grad=True)**2\n",
      "/tmp/ipykernel_5342/3808935312.py:10: UserWarning: To copy construct from a tensor, it is recommended to use sourceTensor.clone().detach() or sourceTensor.clone().detach().requires_grad_(True), rather than torch.tensor(sourceTensor).\n",
      "  - torch.exp(torch.tensor(results['encoding_logvar'], requires_grad=True)))\n"
     ]
    },
    {
     "name": "stdout",
     "output_type": "stream",
     "text": [
      "170\n",
      "Comenzo get_data\n",
      "Grid shape: (32, 2, 300)\n",
      "Paso el Get data\n",
      "Shape pre-encoder torch.Size([32, 5, 300])\n",
      "Shape Encoder: torch.Size([32, 64, 306])\n",
      "Shape mu: torch.Size([64, 20])\n",
      "Shape log_var: torch.Size([64, 20])\n"
     ]
    },
    {
     "name": "stderr",
     "output_type": "stream",
     "text": [
      "/tmp/ipykernel_5342/3808935312.py:7: UserWarning: To copy construct from a tensor, it is recommended to use sourceTensor.clone().detach() or sourceTensor.clone().detach().requires_grad_(True), rather than torch.tensor(sourceTensor).\n",
      "  nll = (0.5 * torch.tensor(results['obs_weight']) * torch.tensor(results['obs_flux'])**2)\n",
      "/tmp/ipykernel_5342/3808935312.py:8: UserWarning: To copy construct from a tensor, it is recommended to use sourceTensor.clone().detach() or sourceTensor.clone().detach().requires_grad_(True), rather than torch.tensor(sourceTensor).\n",
      "  kld = -0.5 * (1 + torch.tensor(results['encoding_logvar'], requires_grad=True)\n",
      "/tmp/ipykernel_5342/3808935312.py:9: UserWarning: To copy construct from a tensor, it is recommended to use sourceTensor.clone().detach() or sourceTensor.clone().detach().requires_grad_(True), rather than torch.tensor(sourceTensor).\n",
      "  - torch.tensor(results['encoding_mu'], requires_grad=True)**2\n",
      "/tmp/ipykernel_5342/3808935312.py:10: UserWarning: To copy construct from a tensor, it is recommended to use sourceTensor.clone().detach() or sourceTensor.clone().detach().requires_grad_(True), rather than torch.tensor(sourceTensor).\n",
      "  - torch.exp(torch.tensor(results['encoding_logvar'], requires_grad=True)))\n"
     ]
    },
    {
     "name": "stdout",
     "output_type": "stream",
     "text": [
      "171\n",
      "Comenzo get_data\n",
      "Grid shape: (32, 2, 300)\n",
      "Paso el Get data\n",
      "Shape pre-encoder torch.Size([32, 5, 300])\n",
      "Shape Encoder: torch.Size([32, 64, 306])\n",
      "Shape mu: torch.Size([64, 20])\n",
      "Shape log_var: torch.Size([64, 20])\n"
     ]
    },
    {
     "name": "stderr",
     "output_type": "stream",
     "text": [
      "/tmp/ipykernel_5342/3808935312.py:7: UserWarning: To copy construct from a tensor, it is recommended to use sourceTensor.clone().detach() or sourceTensor.clone().detach().requires_grad_(True), rather than torch.tensor(sourceTensor).\n",
      "  nll = (0.5 * torch.tensor(results['obs_weight']) * torch.tensor(results['obs_flux'])**2)\n",
      "/tmp/ipykernel_5342/3808935312.py:8: UserWarning: To copy construct from a tensor, it is recommended to use sourceTensor.clone().detach() or sourceTensor.clone().detach().requires_grad_(True), rather than torch.tensor(sourceTensor).\n",
      "  kld = -0.5 * (1 + torch.tensor(results['encoding_logvar'], requires_grad=True)\n",
      "/tmp/ipykernel_5342/3808935312.py:9: UserWarning: To copy construct from a tensor, it is recommended to use sourceTensor.clone().detach() or sourceTensor.clone().detach().requires_grad_(True), rather than torch.tensor(sourceTensor).\n",
      "  - torch.tensor(results['encoding_mu'], requires_grad=True)**2\n",
      "/tmp/ipykernel_5342/3808935312.py:10: UserWarning: To copy construct from a tensor, it is recommended to use sourceTensor.clone().detach() or sourceTensor.clone().detach().requires_grad_(True), rather than torch.tensor(sourceTensor).\n",
      "  - torch.exp(torch.tensor(results['encoding_logvar'], requires_grad=True)))\n"
     ]
    },
    {
     "name": "stdout",
     "output_type": "stream",
     "text": [
      "172\n",
      "Comenzo get_data\n",
      "Grid shape: (32, 2, 300)\n",
      "Paso el Get data\n",
      "Shape pre-encoder torch.Size([32, 5, 300])\n",
      "Shape Encoder: torch.Size([32, 64, 306])\n",
      "Shape mu: torch.Size([64, 20])\n",
      "Shape log_var: torch.Size([64, 20])\n"
     ]
    },
    {
     "name": "stderr",
     "output_type": "stream",
     "text": [
      "/tmp/ipykernel_5342/3808935312.py:7: UserWarning: To copy construct from a tensor, it is recommended to use sourceTensor.clone().detach() or sourceTensor.clone().detach().requires_grad_(True), rather than torch.tensor(sourceTensor).\n",
      "  nll = (0.5 * torch.tensor(results['obs_weight']) * torch.tensor(results['obs_flux'])**2)\n",
      "/tmp/ipykernel_5342/3808935312.py:8: UserWarning: To copy construct from a tensor, it is recommended to use sourceTensor.clone().detach() or sourceTensor.clone().detach().requires_grad_(True), rather than torch.tensor(sourceTensor).\n",
      "  kld = -0.5 * (1 + torch.tensor(results['encoding_logvar'], requires_grad=True)\n",
      "/tmp/ipykernel_5342/3808935312.py:9: UserWarning: To copy construct from a tensor, it is recommended to use sourceTensor.clone().detach() or sourceTensor.clone().detach().requires_grad_(True), rather than torch.tensor(sourceTensor).\n",
      "  - torch.tensor(results['encoding_mu'], requires_grad=True)**2\n",
      "/tmp/ipykernel_5342/3808935312.py:10: UserWarning: To copy construct from a tensor, it is recommended to use sourceTensor.clone().detach() or sourceTensor.clone().detach().requires_grad_(True), rather than torch.tensor(sourceTensor).\n",
      "  - torch.exp(torch.tensor(results['encoding_logvar'], requires_grad=True)))\n"
     ]
    },
    {
     "name": "stdout",
     "output_type": "stream",
     "text": [
      "173\n",
      "Comenzo get_data\n",
      "Grid shape: (32, 2, 300)\n",
      "Paso el Get data\n",
      "Shape pre-encoder torch.Size([32, 5, 300])\n",
      "Shape Encoder: torch.Size([32, 64, 306])\n",
      "Shape mu: torch.Size([64, 20])\n",
      "Shape log_var: torch.Size([64, 20])\n"
     ]
    },
    {
     "name": "stderr",
     "output_type": "stream",
     "text": [
      "/tmp/ipykernel_5342/3808935312.py:7: UserWarning: To copy construct from a tensor, it is recommended to use sourceTensor.clone().detach() or sourceTensor.clone().detach().requires_grad_(True), rather than torch.tensor(sourceTensor).\n",
      "  nll = (0.5 * torch.tensor(results['obs_weight']) * torch.tensor(results['obs_flux'])**2)\n",
      "/tmp/ipykernel_5342/3808935312.py:8: UserWarning: To copy construct from a tensor, it is recommended to use sourceTensor.clone().detach() or sourceTensor.clone().detach().requires_grad_(True), rather than torch.tensor(sourceTensor).\n",
      "  kld = -0.5 * (1 + torch.tensor(results['encoding_logvar'], requires_grad=True)\n",
      "/tmp/ipykernel_5342/3808935312.py:9: UserWarning: To copy construct from a tensor, it is recommended to use sourceTensor.clone().detach() or sourceTensor.clone().detach().requires_grad_(True), rather than torch.tensor(sourceTensor).\n",
      "  - torch.tensor(results['encoding_mu'], requires_grad=True)**2\n",
      "/tmp/ipykernel_5342/3808935312.py:10: UserWarning: To copy construct from a tensor, it is recommended to use sourceTensor.clone().detach() or sourceTensor.clone().detach().requires_grad_(True), rather than torch.tensor(sourceTensor).\n",
      "  - torch.exp(torch.tensor(results['encoding_logvar'], requires_grad=True)))\n"
     ]
    },
    {
     "name": "stdout",
     "output_type": "stream",
     "text": [
      "174\n",
      "Comenzo get_data\n",
      "Grid shape: (32, 2, 300)\n",
      "Paso el Get data\n",
      "Shape pre-encoder torch.Size([32, 5, 300])\n",
      "Shape Encoder: torch.Size([32, 64, 306])\n",
      "Shape mu: torch.Size([64, 20])\n",
      "Shape log_var: torch.Size([64, 20])\n"
     ]
    },
    {
     "name": "stderr",
     "output_type": "stream",
     "text": [
      "/tmp/ipykernel_5342/3808935312.py:7: UserWarning: To copy construct from a tensor, it is recommended to use sourceTensor.clone().detach() or sourceTensor.clone().detach().requires_grad_(True), rather than torch.tensor(sourceTensor).\n",
      "  nll = (0.5 * torch.tensor(results['obs_weight']) * torch.tensor(results['obs_flux'])**2)\n",
      "/tmp/ipykernel_5342/3808935312.py:8: UserWarning: To copy construct from a tensor, it is recommended to use sourceTensor.clone().detach() or sourceTensor.clone().detach().requires_grad_(True), rather than torch.tensor(sourceTensor).\n",
      "  kld = -0.5 * (1 + torch.tensor(results['encoding_logvar'], requires_grad=True)\n",
      "/tmp/ipykernel_5342/3808935312.py:9: UserWarning: To copy construct from a tensor, it is recommended to use sourceTensor.clone().detach() or sourceTensor.clone().detach().requires_grad_(True), rather than torch.tensor(sourceTensor).\n",
      "  - torch.tensor(results['encoding_mu'], requires_grad=True)**2\n",
      "/tmp/ipykernel_5342/3808935312.py:10: UserWarning: To copy construct from a tensor, it is recommended to use sourceTensor.clone().detach() or sourceTensor.clone().detach().requires_grad_(True), rather than torch.tensor(sourceTensor).\n",
      "  - torch.exp(torch.tensor(results['encoding_logvar'], requires_grad=True)))\n"
     ]
    },
    {
     "name": "stdout",
     "output_type": "stream",
     "text": [
      "175\n",
      "Comenzo get_data\n",
      "Grid shape: (32, 2, 300)\n",
      "Paso el Get data\n",
      "Shape pre-encoder torch.Size([32, 5, 300])\n",
      "Shape Encoder: torch.Size([32, 64, 306])\n",
      "Shape mu: torch.Size([64, 20])\n",
      "Shape log_var: torch.Size([64, 20])\n"
     ]
    },
    {
     "name": "stderr",
     "output_type": "stream",
     "text": [
      "/tmp/ipykernel_5342/3808935312.py:7: UserWarning: To copy construct from a tensor, it is recommended to use sourceTensor.clone().detach() or sourceTensor.clone().detach().requires_grad_(True), rather than torch.tensor(sourceTensor).\n",
      "  nll = (0.5 * torch.tensor(results['obs_weight']) * torch.tensor(results['obs_flux'])**2)\n",
      "/tmp/ipykernel_5342/3808935312.py:8: UserWarning: To copy construct from a tensor, it is recommended to use sourceTensor.clone().detach() or sourceTensor.clone().detach().requires_grad_(True), rather than torch.tensor(sourceTensor).\n",
      "  kld = -0.5 * (1 + torch.tensor(results['encoding_logvar'], requires_grad=True)\n",
      "/tmp/ipykernel_5342/3808935312.py:9: UserWarning: To copy construct from a tensor, it is recommended to use sourceTensor.clone().detach() or sourceTensor.clone().detach().requires_grad_(True), rather than torch.tensor(sourceTensor).\n",
      "  - torch.tensor(results['encoding_mu'], requires_grad=True)**2\n",
      "/tmp/ipykernel_5342/3808935312.py:10: UserWarning: To copy construct from a tensor, it is recommended to use sourceTensor.clone().detach() or sourceTensor.clone().detach().requires_grad_(True), rather than torch.tensor(sourceTensor).\n",
      "  - torch.exp(torch.tensor(results['encoding_logvar'], requires_grad=True)))\n"
     ]
    },
    {
     "name": "stdout",
     "output_type": "stream",
     "text": [
      "176\n",
      "Comenzo get_data\n",
      "Grid shape: (32, 2, 300)\n",
      "Paso el Get data\n",
      "Shape pre-encoder torch.Size([32, 5, 300])\n",
      "Shape Encoder: torch.Size([32, 64, 306])\n",
      "Shape mu: torch.Size([64, 20])\n",
      "Shape log_var: torch.Size([64, 20])\n"
     ]
    },
    {
     "name": "stderr",
     "output_type": "stream",
     "text": [
      "/tmp/ipykernel_5342/3808935312.py:7: UserWarning: To copy construct from a tensor, it is recommended to use sourceTensor.clone().detach() or sourceTensor.clone().detach().requires_grad_(True), rather than torch.tensor(sourceTensor).\n",
      "  nll = (0.5 * torch.tensor(results['obs_weight']) * torch.tensor(results['obs_flux'])**2)\n",
      "/tmp/ipykernel_5342/3808935312.py:8: UserWarning: To copy construct from a tensor, it is recommended to use sourceTensor.clone().detach() or sourceTensor.clone().detach().requires_grad_(True), rather than torch.tensor(sourceTensor).\n",
      "  kld = -0.5 * (1 + torch.tensor(results['encoding_logvar'], requires_grad=True)\n",
      "/tmp/ipykernel_5342/3808935312.py:9: UserWarning: To copy construct from a tensor, it is recommended to use sourceTensor.clone().detach() or sourceTensor.clone().detach().requires_grad_(True), rather than torch.tensor(sourceTensor).\n",
      "  - torch.tensor(results['encoding_mu'], requires_grad=True)**2\n",
      "/tmp/ipykernel_5342/3808935312.py:10: UserWarning: To copy construct from a tensor, it is recommended to use sourceTensor.clone().detach() or sourceTensor.clone().detach().requires_grad_(True), rather than torch.tensor(sourceTensor).\n",
      "  - torch.exp(torch.tensor(results['encoding_logvar'], requires_grad=True)))\n"
     ]
    },
    {
     "name": "stdout",
     "output_type": "stream",
     "text": [
      "177\n",
      "Comenzo get_data\n",
      "Grid shape: (32, 2, 300)\n",
      "Paso el Get data\n",
      "Shape pre-encoder torch.Size([32, 5, 300])\n",
      "Shape Encoder: torch.Size([32, 64, 306])\n",
      "Shape mu: torch.Size([64, 20])\n",
      "Shape log_var: torch.Size([64, 20])\n"
     ]
    },
    {
     "name": "stderr",
     "output_type": "stream",
     "text": [
      "/tmp/ipykernel_5342/3808935312.py:7: UserWarning: To copy construct from a tensor, it is recommended to use sourceTensor.clone().detach() or sourceTensor.clone().detach().requires_grad_(True), rather than torch.tensor(sourceTensor).\n",
      "  nll = (0.5 * torch.tensor(results['obs_weight']) * torch.tensor(results['obs_flux'])**2)\n",
      "/tmp/ipykernel_5342/3808935312.py:8: UserWarning: To copy construct from a tensor, it is recommended to use sourceTensor.clone().detach() or sourceTensor.clone().detach().requires_grad_(True), rather than torch.tensor(sourceTensor).\n",
      "  kld = -0.5 * (1 + torch.tensor(results['encoding_logvar'], requires_grad=True)\n",
      "/tmp/ipykernel_5342/3808935312.py:9: UserWarning: To copy construct from a tensor, it is recommended to use sourceTensor.clone().detach() or sourceTensor.clone().detach().requires_grad_(True), rather than torch.tensor(sourceTensor).\n",
      "  - torch.tensor(results['encoding_mu'], requires_grad=True)**2\n",
      "/tmp/ipykernel_5342/3808935312.py:10: UserWarning: To copy construct from a tensor, it is recommended to use sourceTensor.clone().detach() or sourceTensor.clone().detach().requires_grad_(True), rather than torch.tensor(sourceTensor).\n",
      "  - torch.exp(torch.tensor(results['encoding_logvar'], requires_grad=True)))\n"
     ]
    },
    {
     "name": "stdout",
     "output_type": "stream",
     "text": [
      "178\n",
      "Comenzo get_data\n",
      "Grid shape: (32, 2, 300)\n",
      "Paso el Get data\n",
      "Shape pre-encoder torch.Size([32, 5, 300])\n",
      "Shape Encoder: torch.Size([32, 64, 306])\n",
      "Shape mu: torch.Size([64, 20])\n",
      "Shape log_var: torch.Size([64, 20])\n"
     ]
    },
    {
     "name": "stderr",
     "output_type": "stream",
     "text": [
      "/tmp/ipykernel_5342/3808935312.py:7: UserWarning: To copy construct from a tensor, it is recommended to use sourceTensor.clone().detach() or sourceTensor.clone().detach().requires_grad_(True), rather than torch.tensor(sourceTensor).\n",
      "  nll = (0.5 * torch.tensor(results['obs_weight']) * torch.tensor(results['obs_flux'])**2)\n",
      "/tmp/ipykernel_5342/3808935312.py:8: UserWarning: To copy construct from a tensor, it is recommended to use sourceTensor.clone().detach() or sourceTensor.clone().detach().requires_grad_(True), rather than torch.tensor(sourceTensor).\n",
      "  kld = -0.5 * (1 + torch.tensor(results['encoding_logvar'], requires_grad=True)\n",
      "/tmp/ipykernel_5342/3808935312.py:9: UserWarning: To copy construct from a tensor, it is recommended to use sourceTensor.clone().detach() or sourceTensor.clone().detach().requires_grad_(True), rather than torch.tensor(sourceTensor).\n",
      "  - torch.tensor(results['encoding_mu'], requires_grad=True)**2\n",
      "/tmp/ipykernel_5342/3808935312.py:10: UserWarning: To copy construct from a tensor, it is recommended to use sourceTensor.clone().detach() or sourceTensor.clone().detach().requires_grad_(True), rather than torch.tensor(sourceTensor).\n",
      "  - torch.exp(torch.tensor(results['encoding_logvar'], requires_grad=True)))\n"
     ]
    },
    {
     "name": "stdout",
     "output_type": "stream",
     "text": [
      "179\n",
      "Comenzo get_data\n",
      "Grid shape: (32, 2, 300)\n",
      "Paso el Get data\n",
      "Shape pre-encoder torch.Size([32, 5, 300])\n",
      "Shape Encoder: torch.Size([32, 64, 306])\n",
      "Shape mu: torch.Size([64, 20])\n",
      "Shape log_var: torch.Size([64, 20])\n"
     ]
    },
    {
     "name": "stderr",
     "output_type": "stream",
     "text": [
      "/tmp/ipykernel_5342/3808935312.py:7: UserWarning: To copy construct from a tensor, it is recommended to use sourceTensor.clone().detach() or sourceTensor.clone().detach().requires_grad_(True), rather than torch.tensor(sourceTensor).\n",
      "  nll = (0.5 * torch.tensor(results['obs_weight']) * torch.tensor(results['obs_flux'])**2)\n",
      "/tmp/ipykernel_5342/3808935312.py:8: UserWarning: To copy construct from a tensor, it is recommended to use sourceTensor.clone().detach() or sourceTensor.clone().detach().requires_grad_(True), rather than torch.tensor(sourceTensor).\n",
      "  kld = -0.5 * (1 + torch.tensor(results['encoding_logvar'], requires_grad=True)\n",
      "/tmp/ipykernel_5342/3808935312.py:9: UserWarning: To copy construct from a tensor, it is recommended to use sourceTensor.clone().detach() or sourceTensor.clone().detach().requires_grad_(True), rather than torch.tensor(sourceTensor).\n",
      "  - torch.tensor(results['encoding_mu'], requires_grad=True)**2\n",
      "/tmp/ipykernel_5342/3808935312.py:10: UserWarning: To copy construct from a tensor, it is recommended to use sourceTensor.clone().detach() or sourceTensor.clone().detach().requires_grad_(True), rather than torch.tensor(sourceTensor).\n",
      "  - torch.exp(torch.tensor(results['encoding_logvar'], requires_grad=True)))\n"
     ]
    },
    {
     "name": "stdout",
     "output_type": "stream",
     "text": [
      "180\n",
      "Comenzo get_data\n",
      "Grid shape: (32, 2, 300)\n",
      "Paso el Get data\n",
      "Shape pre-encoder torch.Size([32, 5, 300])\n",
      "Shape Encoder: torch.Size([32, 64, 306])\n",
      "Shape mu: torch.Size([64, 20])\n",
      "Shape log_var: torch.Size([64, 20])\n"
     ]
    },
    {
     "name": "stderr",
     "output_type": "stream",
     "text": [
      "/tmp/ipykernel_5342/3808935312.py:7: UserWarning: To copy construct from a tensor, it is recommended to use sourceTensor.clone().detach() or sourceTensor.clone().detach().requires_grad_(True), rather than torch.tensor(sourceTensor).\n",
      "  nll = (0.5 * torch.tensor(results['obs_weight']) * torch.tensor(results['obs_flux'])**2)\n",
      "/tmp/ipykernel_5342/3808935312.py:8: UserWarning: To copy construct from a tensor, it is recommended to use sourceTensor.clone().detach() or sourceTensor.clone().detach().requires_grad_(True), rather than torch.tensor(sourceTensor).\n",
      "  kld = -0.5 * (1 + torch.tensor(results['encoding_logvar'], requires_grad=True)\n",
      "/tmp/ipykernel_5342/3808935312.py:9: UserWarning: To copy construct from a tensor, it is recommended to use sourceTensor.clone().detach() or sourceTensor.clone().detach().requires_grad_(True), rather than torch.tensor(sourceTensor).\n",
      "  - torch.tensor(results['encoding_mu'], requires_grad=True)**2\n",
      "/tmp/ipykernel_5342/3808935312.py:10: UserWarning: To copy construct from a tensor, it is recommended to use sourceTensor.clone().detach() or sourceTensor.clone().detach().requires_grad_(True), rather than torch.tensor(sourceTensor).\n",
      "  - torch.exp(torch.tensor(results['encoding_logvar'], requires_grad=True)))\n"
     ]
    },
    {
     "name": "stdout",
     "output_type": "stream",
     "text": [
      "181\n",
      "Comenzo get_data\n",
      "Grid shape: (32, 2, 300)\n",
      "Paso el Get data\n",
      "Shape pre-encoder torch.Size([32, 5, 300])\n",
      "Shape Encoder: torch.Size([32, 64, 306])\n",
      "Shape mu: torch.Size([64, 20])\n",
      "Shape log_var: torch.Size([64, 20])\n"
     ]
    },
    {
     "name": "stderr",
     "output_type": "stream",
     "text": [
      "/tmp/ipykernel_5342/3808935312.py:7: UserWarning: To copy construct from a tensor, it is recommended to use sourceTensor.clone().detach() or sourceTensor.clone().detach().requires_grad_(True), rather than torch.tensor(sourceTensor).\n",
      "  nll = (0.5 * torch.tensor(results['obs_weight']) * torch.tensor(results['obs_flux'])**2)\n",
      "/tmp/ipykernel_5342/3808935312.py:8: UserWarning: To copy construct from a tensor, it is recommended to use sourceTensor.clone().detach() or sourceTensor.clone().detach().requires_grad_(True), rather than torch.tensor(sourceTensor).\n",
      "  kld = -0.5 * (1 + torch.tensor(results['encoding_logvar'], requires_grad=True)\n",
      "/tmp/ipykernel_5342/3808935312.py:9: UserWarning: To copy construct from a tensor, it is recommended to use sourceTensor.clone().detach() or sourceTensor.clone().detach().requires_grad_(True), rather than torch.tensor(sourceTensor).\n",
      "  - torch.tensor(results['encoding_mu'], requires_grad=True)**2\n",
      "/tmp/ipykernel_5342/3808935312.py:10: UserWarning: To copy construct from a tensor, it is recommended to use sourceTensor.clone().detach() or sourceTensor.clone().detach().requires_grad_(True), rather than torch.tensor(sourceTensor).\n",
      "  - torch.exp(torch.tensor(results['encoding_logvar'], requires_grad=True)))\n"
     ]
    },
    {
     "name": "stdout",
     "output_type": "stream",
     "text": [
      "182\n",
      "Comenzo get_data\n",
      "Grid shape: (32, 2, 300)\n",
      "Paso el Get data\n",
      "Shape pre-encoder torch.Size([32, 5, 300])\n",
      "Shape Encoder: torch.Size([32, 64, 306])\n",
      "Shape mu: torch.Size([64, 20])\n",
      "Shape log_var: torch.Size([64, 20])\n"
     ]
    },
    {
     "name": "stderr",
     "output_type": "stream",
     "text": [
      "/tmp/ipykernel_5342/3808935312.py:7: UserWarning: To copy construct from a tensor, it is recommended to use sourceTensor.clone().detach() or sourceTensor.clone().detach().requires_grad_(True), rather than torch.tensor(sourceTensor).\n",
      "  nll = (0.5 * torch.tensor(results['obs_weight']) * torch.tensor(results['obs_flux'])**2)\n",
      "/tmp/ipykernel_5342/3808935312.py:8: UserWarning: To copy construct from a tensor, it is recommended to use sourceTensor.clone().detach() or sourceTensor.clone().detach().requires_grad_(True), rather than torch.tensor(sourceTensor).\n",
      "  kld = -0.5 * (1 + torch.tensor(results['encoding_logvar'], requires_grad=True)\n",
      "/tmp/ipykernel_5342/3808935312.py:9: UserWarning: To copy construct from a tensor, it is recommended to use sourceTensor.clone().detach() or sourceTensor.clone().detach().requires_grad_(True), rather than torch.tensor(sourceTensor).\n",
      "  - torch.tensor(results['encoding_mu'], requires_grad=True)**2\n",
      "/tmp/ipykernel_5342/3808935312.py:10: UserWarning: To copy construct from a tensor, it is recommended to use sourceTensor.clone().detach() or sourceTensor.clone().detach().requires_grad_(True), rather than torch.tensor(sourceTensor).\n",
      "  - torch.exp(torch.tensor(results['encoding_logvar'], requires_grad=True)))\n"
     ]
    },
    {
     "name": "stdout",
     "output_type": "stream",
     "text": [
      "183\n",
      "Comenzo get_data\n",
      "Grid shape: (32, 2, 300)\n",
      "Paso el Get data\n",
      "Shape pre-encoder torch.Size([32, 5, 300])\n",
      "Shape Encoder: torch.Size([32, 64, 306])\n",
      "Shape mu: torch.Size([64, 20])\n",
      "Shape log_var: torch.Size([64, 20])\n"
     ]
    },
    {
     "name": "stderr",
     "output_type": "stream",
     "text": [
      "/tmp/ipykernel_5342/3808935312.py:7: UserWarning: To copy construct from a tensor, it is recommended to use sourceTensor.clone().detach() or sourceTensor.clone().detach().requires_grad_(True), rather than torch.tensor(sourceTensor).\n",
      "  nll = (0.5 * torch.tensor(results['obs_weight']) * torch.tensor(results['obs_flux'])**2)\n",
      "/tmp/ipykernel_5342/3808935312.py:8: UserWarning: To copy construct from a tensor, it is recommended to use sourceTensor.clone().detach() or sourceTensor.clone().detach().requires_grad_(True), rather than torch.tensor(sourceTensor).\n",
      "  kld = -0.5 * (1 + torch.tensor(results['encoding_logvar'], requires_grad=True)\n",
      "/tmp/ipykernel_5342/3808935312.py:9: UserWarning: To copy construct from a tensor, it is recommended to use sourceTensor.clone().detach() or sourceTensor.clone().detach().requires_grad_(True), rather than torch.tensor(sourceTensor).\n",
      "  - torch.tensor(results['encoding_mu'], requires_grad=True)**2\n",
      "/tmp/ipykernel_5342/3808935312.py:10: UserWarning: To copy construct from a tensor, it is recommended to use sourceTensor.clone().detach() or sourceTensor.clone().detach().requires_grad_(True), rather than torch.tensor(sourceTensor).\n",
      "  - torch.exp(torch.tensor(results['encoding_logvar'], requires_grad=True)))\n"
     ]
    },
    {
     "name": "stdout",
     "output_type": "stream",
     "text": [
      "184\n",
      "Comenzo get_data\n",
      "Grid shape: (32, 2, 300)\n",
      "Paso el Get data\n",
      "Shape pre-encoder torch.Size([32, 5, 300])\n",
      "Shape Encoder: torch.Size([32, 64, 306])\n",
      "Shape mu: torch.Size([64, 20])\n",
      "Shape log_var: torch.Size([64, 20])\n"
     ]
    },
    {
     "name": "stderr",
     "output_type": "stream",
     "text": [
      "/tmp/ipykernel_5342/3808935312.py:7: UserWarning: To copy construct from a tensor, it is recommended to use sourceTensor.clone().detach() or sourceTensor.clone().detach().requires_grad_(True), rather than torch.tensor(sourceTensor).\n",
      "  nll = (0.5 * torch.tensor(results['obs_weight']) * torch.tensor(results['obs_flux'])**2)\n",
      "/tmp/ipykernel_5342/3808935312.py:8: UserWarning: To copy construct from a tensor, it is recommended to use sourceTensor.clone().detach() or sourceTensor.clone().detach().requires_grad_(True), rather than torch.tensor(sourceTensor).\n",
      "  kld = -0.5 * (1 + torch.tensor(results['encoding_logvar'], requires_grad=True)\n",
      "/tmp/ipykernel_5342/3808935312.py:9: UserWarning: To copy construct from a tensor, it is recommended to use sourceTensor.clone().detach() or sourceTensor.clone().detach().requires_grad_(True), rather than torch.tensor(sourceTensor).\n",
      "  - torch.tensor(results['encoding_mu'], requires_grad=True)**2\n",
      "/tmp/ipykernel_5342/3808935312.py:10: UserWarning: To copy construct from a tensor, it is recommended to use sourceTensor.clone().detach() or sourceTensor.clone().detach().requires_grad_(True), rather than torch.tensor(sourceTensor).\n",
      "  - torch.exp(torch.tensor(results['encoding_logvar'], requires_grad=True)))\n"
     ]
    },
    {
     "name": "stdout",
     "output_type": "stream",
     "text": [
      "185\n",
      "Comenzo get_data\n",
      "Grid shape: (32, 2, 300)\n",
      "Paso el Get data\n",
      "Shape pre-encoder torch.Size([32, 5, 300])\n",
      "Shape Encoder: torch.Size([32, 64, 306])\n",
      "Shape mu: torch.Size([64, 20])\n",
      "Shape log_var: torch.Size([64, 20])\n"
     ]
    },
    {
     "name": "stderr",
     "output_type": "stream",
     "text": [
      "/tmp/ipykernel_5342/3808935312.py:7: UserWarning: To copy construct from a tensor, it is recommended to use sourceTensor.clone().detach() or sourceTensor.clone().detach().requires_grad_(True), rather than torch.tensor(sourceTensor).\n",
      "  nll = (0.5 * torch.tensor(results['obs_weight']) * torch.tensor(results['obs_flux'])**2)\n",
      "/tmp/ipykernel_5342/3808935312.py:8: UserWarning: To copy construct from a tensor, it is recommended to use sourceTensor.clone().detach() or sourceTensor.clone().detach().requires_grad_(True), rather than torch.tensor(sourceTensor).\n",
      "  kld = -0.5 * (1 + torch.tensor(results['encoding_logvar'], requires_grad=True)\n",
      "/tmp/ipykernel_5342/3808935312.py:9: UserWarning: To copy construct from a tensor, it is recommended to use sourceTensor.clone().detach() or sourceTensor.clone().detach().requires_grad_(True), rather than torch.tensor(sourceTensor).\n",
      "  - torch.tensor(results['encoding_mu'], requires_grad=True)**2\n",
      "/tmp/ipykernel_5342/3808935312.py:10: UserWarning: To copy construct from a tensor, it is recommended to use sourceTensor.clone().detach() or sourceTensor.clone().detach().requires_grad_(True), rather than torch.tensor(sourceTensor).\n",
      "  - torch.exp(torch.tensor(results['encoding_logvar'], requires_grad=True)))\n"
     ]
    },
    {
     "name": "stdout",
     "output_type": "stream",
     "text": [
      "186\n",
      "Comenzo get_data\n",
      "Grid shape: (32, 2, 300)\n",
      "Paso el Get data\n",
      "Shape pre-encoder torch.Size([32, 5, 300])\n",
      "Shape Encoder: torch.Size([32, 64, 306])\n",
      "Shape mu: torch.Size([64, 20])\n",
      "Shape log_var: torch.Size([64, 20])\n"
     ]
    },
    {
     "name": "stderr",
     "output_type": "stream",
     "text": [
      "/tmp/ipykernel_5342/3808935312.py:7: UserWarning: To copy construct from a tensor, it is recommended to use sourceTensor.clone().detach() or sourceTensor.clone().detach().requires_grad_(True), rather than torch.tensor(sourceTensor).\n",
      "  nll = (0.5 * torch.tensor(results['obs_weight']) * torch.tensor(results['obs_flux'])**2)\n",
      "/tmp/ipykernel_5342/3808935312.py:8: UserWarning: To copy construct from a tensor, it is recommended to use sourceTensor.clone().detach() or sourceTensor.clone().detach().requires_grad_(True), rather than torch.tensor(sourceTensor).\n",
      "  kld = -0.5 * (1 + torch.tensor(results['encoding_logvar'], requires_grad=True)\n",
      "/tmp/ipykernel_5342/3808935312.py:9: UserWarning: To copy construct from a tensor, it is recommended to use sourceTensor.clone().detach() or sourceTensor.clone().detach().requires_grad_(True), rather than torch.tensor(sourceTensor).\n",
      "  - torch.tensor(results['encoding_mu'], requires_grad=True)**2\n",
      "/tmp/ipykernel_5342/3808935312.py:10: UserWarning: To copy construct from a tensor, it is recommended to use sourceTensor.clone().detach() or sourceTensor.clone().detach().requires_grad_(True), rather than torch.tensor(sourceTensor).\n",
      "  - torch.exp(torch.tensor(results['encoding_logvar'], requires_grad=True)))\n"
     ]
    },
    {
     "name": "stdout",
     "output_type": "stream",
     "text": [
      "187\n",
      "Comenzo get_data\n",
      "Grid shape: (32, 2, 300)\n",
      "Paso el Get data\n",
      "Shape pre-encoder torch.Size([32, 5, 300])\n",
      "Shape Encoder: torch.Size([32, 64, 306])\n",
      "Shape mu: torch.Size([64, 20])\n",
      "Shape log_var: torch.Size([64, 20])\n"
     ]
    },
    {
     "name": "stderr",
     "output_type": "stream",
     "text": [
      "/tmp/ipykernel_5342/3808935312.py:7: UserWarning: To copy construct from a tensor, it is recommended to use sourceTensor.clone().detach() or sourceTensor.clone().detach().requires_grad_(True), rather than torch.tensor(sourceTensor).\n",
      "  nll = (0.5 * torch.tensor(results['obs_weight']) * torch.tensor(results['obs_flux'])**2)\n",
      "/tmp/ipykernel_5342/3808935312.py:8: UserWarning: To copy construct from a tensor, it is recommended to use sourceTensor.clone().detach() or sourceTensor.clone().detach().requires_grad_(True), rather than torch.tensor(sourceTensor).\n",
      "  kld = -0.5 * (1 + torch.tensor(results['encoding_logvar'], requires_grad=True)\n",
      "/tmp/ipykernel_5342/3808935312.py:9: UserWarning: To copy construct from a tensor, it is recommended to use sourceTensor.clone().detach() or sourceTensor.clone().detach().requires_grad_(True), rather than torch.tensor(sourceTensor).\n",
      "  - torch.tensor(results['encoding_mu'], requires_grad=True)**2\n",
      "/tmp/ipykernel_5342/3808935312.py:10: UserWarning: To copy construct from a tensor, it is recommended to use sourceTensor.clone().detach() or sourceTensor.clone().detach().requires_grad_(True), rather than torch.tensor(sourceTensor).\n",
      "  - torch.exp(torch.tensor(results['encoding_logvar'], requires_grad=True)))\n"
     ]
    },
    {
     "name": "stdout",
     "output_type": "stream",
     "text": [
      "188\n",
      "Comenzo get_data\n",
      "Grid shape: (32, 2, 300)\n",
      "Paso el Get data\n",
      "Shape pre-encoder torch.Size([32, 5, 300])\n",
      "Shape Encoder: torch.Size([32, 64, 306])\n",
      "Shape mu: torch.Size([64, 20])\n",
      "Shape log_var: torch.Size([64, 20])\n"
     ]
    },
    {
     "name": "stderr",
     "output_type": "stream",
     "text": [
      "/tmp/ipykernel_5342/3808935312.py:7: UserWarning: To copy construct from a tensor, it is recommended to use sourceTensor.clone().detach() or sourceTensor.clone().detach().requires_grad_(True), rather than torch.tensor(sourceTensor).\n",
      "  nll = (0.5 * torch.tensor(results['obs_weight']) * torch.tensor(results['obs_flux'])**2)\n",
      "/tmp/ipykernel_5342/3808935312.py:8: UserWarning: To copy construct from a tensor, it is recommended to use sourceTensor.clone().detach() or sourceTensor.clone().detach().requires_grad_(True), rather than torch.tensor(sourceTensor).\n",
      "  kld = -0.5 * (1 + torch.tensor(results['encoding_logvar'], requires_grad=True)\n",
      "/tmp/ipykernel_5342/3808935312.py:9: UserWarning: To copy construct from a tensor, it is recommended to use sourceTensor.clone().detach() or sourceTensor.clone().detach().requires_grad_(True), rather than torch.tensor(sourceTensor).\n",
      "  - torch.tensor(results['encoding_mu'], requires_grad=True)**2\n",
      "/tmp/ipykernel_5342/3808935312.py:10: UserWarning: To copy construct from a tensor, it is recommended to use sourceTensor.clone().detach() or sourceTensor.clone().detach().requires_grad_(True), rather than torch.tensor(sourceTensor).\n",
      "  - torch.exp(torch.tensor(results['encoding_logvar'], requires_grad=True)))\n"
     ]
    },
    {
     "name": "stdout",
     "output_type": "stream",
     "text": [
      "189\n",
      "Comenzo get_data\n",
      "Grid shape: (32, 2, 300)\n",
      "Paso el Get data\n",
      "Shape pre-encoder torch.Size([32, 5, 300])\n",
      "Shape Encoder: torch.Size([32, 64, 306])\n",
      "Shape mu: torch.Size([64, 20])\n",
      "Shape log_var: torch.Size([64, 20])\n"
     ]
    },
    {
     "name": "stderr",
     "output_type": "stream",
     "text": [
      "/tmp/ipykernel_5342/3808935312.py:7: UserWarning: To copy construct from a tensor, it is recommended to use sourceTensor.clone().detach() or sourceTensor.clone().detach().requires_grad_(True), rather than torch.tensor(sourceTensor).\n",
      "  nll = (0.5 * torch.tensor(results['obs_weight']) * torch.tensor(results['obs_flux'])**2)\n",
      "/tmp/ipykernel_5342/3808935312.py:8: UserWarning: To copy construct from a tensor, it is recommended to use sourceTensor.clone().detach() or sourceTensor.clone().detach().requires_grad_(True), rather than torch.tensor(sourceTensor).\n",
      "  kld = -0.5 * (1 + torch.tensor(results['encoding_logvar'], requires_grad=True)\n",
      "/tmp/ipykernel_5342/3808935312.py:9: UserWarning: To copy construct from a tensor, it is recommended to use sourceTensor.clone().detach() or sourceTensor.clone().detach().requires_grad_(True), rather than torch.tensor(sourceTensor).\n",
      "  - torch.tensor(results['encoding_mu'], requires_grad=True)**2\n",
      "/tmp/ipykernel_5342/3808935312.py:10: UserWarning: To copy construct from a tensor, it is recommended to use sourceTensor.clone().detach() or sourceTensor.clone().detach().requires_grad_(True), rather than torch.tensor(sourceTensor).\n",
      "  - torch.exp(torch.tensor(results['encoding_logvar'], requires_grad=True)))\n"
     ]
    },
    {
     "name": "stdout",
     "output_type": "stream",
     "text": [
      "190\n",
      "Comenzo get_data\n",
      "Grid shape: (32, 2, 300)\n",
      "Paso el Get data\n",
      "Shape pre-encoder torch.Size([32, 5, 300])\n",
      "Shape Encoder: torch.Size([32, 64, 306])\n",
      "Shape mu: torch.Size([64, 20])\n",
      "Shape log_var: torch.Size([64, 20])\n"
     ]
    },
    {
     "name": "stderr",
     "output_type": "stream",
     "text": [
      "/tmp/ipykernel_5342/3808935312.py:7: UserWarning: To copy construct from a tensor, it is recommended to use sourceTensor.clone().detach() or sourceTensor.clone().detach().requires_grad_(True), rather than torch.tensor(sourceTensor).\n",
      "  nll = (0.5 * torch.tensor(results['obs_weight']) * torch.tensor(results['obs_flux'])**2)\n",
      "/tmp/ipykernel_5342/3808935312.py:8: UserWarning: To copy construct from a tensor, it is recommended to use sourceTensor.clone().detach() or sourceTensor.clone().detach().requires_grad_(True), rather than torch.tensor(sourceTensor).\n",
      "  kld = -0.5 * (1 + torch.tensor(results['encoding_logvar'], requires_grad=True)\n",
      "/tmp/ipykernel_5342/3808935312.py:9: UserWarning: To copy construct from a tensor, it is recommended to use sourceTensor.clone().detach() or sourceTensor.clone().detach().requires_grad_(True), rather than torch.tensor(sourceTensor).\n",
      "  - torch.tensor(results['encoding_mu'], requires_grad=True)**2\n",
      "/tmp/ipykernel_5342/3808935312.py:10: UserWarning: To copy construct from a tensor, it is recommended to use sourceTensor.clone().detach() or sourceTensor.clone().detach().requires_grad_(True), rather than torch.tensor(sourceTensor).\n",
      "  - torch.exp(torch.tensor(results['encoding_logvar'], requires_grad=True)))\n"
     ]
    },
    {
     "name": "stdout",
     "output_type": "stream",
     "text": [
      "191\n",
      "Comenzo get_data\n",
      "Grid shape: (32, 2, 300)\n",
      "Paso el Get data\n",
      "Shape pre-encoder torch.Size([32, 5, 300])\n",
      "Shape Encoder: torch.Size([32, 64, 306])\n",
      "Shape mu: torch.Size([64, 20])\n",
      "Shape log_var: torch.Size([64, 20])\n"
     ]
    },
    {
     "name": "stderr",
     "output_type": "stream",
     "text": [
      "/tmp/ipykernel_5342/3808935312.py:7: UserWarning: To copy construct from a tensor, it is recommended to use sourceTensor.clone().detach() or sourceTensor.clone().detach().requires_grad_(True), rather than torch.tensor(sourceTensor).\n",
      "  nll = (0.5 * torch.tensor(results['obs_weight']) * torch.tensor(results['obs_flux'])**2)\n",
      "/tmp/ipykernel_5342/3808935312.py:8: UserWarning: To copy construct from a tensor, it is recommended to use sourceTensor.clone().detach() or sourceTensor.clone().detach().requires_grad_(True), rather than torch.tensor(sourceTensor).\n",
      "  kld = -0.5 * (1 + torch.tensor(results['encoding_logvar'], requires_grad=True)\n",
      "/tmp/ipykernel_5342/3808935312.py:9: UserWarning: To copy construct from a tensor, it is recommended to use sourceTensor.clone().detach() or sourceTensor.clone().detach().requires_grad_(True), rather than torch.tensor(sourceTensor).\n",
      "  - torch.tensor(results['encoding_mu'], requires_grad=True)**2\n",
      "/tmp/ipykernel_5342/3808935312.py:10: UserWarning: To copy construct from a tensor, it is recommended to use sourceTensor.clone().detach() or sourceTensor.clone().detach().requires_grad_(True), rather than torch.tensor(sourceTensor).\n",
      "  - torch.exp(torch.tensor(results['encoding_logvar'], requires_grad=True)))\n"
     ]
    },
    {
     "name": "stdout",
     "output_type": "stream",
     "text": [
      "192\n",
      "Comenzo get_data\n",
      "Grid shape: (32, 2, 300)\n",
      "Paso el Get data\n",
      "Shape pre-encoder torch.Size([32, 5, 300])\n",
      "Shape Encoder: torch.Size([32, 64, 306])\n",
      "Shape mu: torch.Size([64, 20])\n",
      "Shape log_var: torch.Size([64, 20])\n"
     ]
    },
    {
     "name": "stderr",
     "output_type": "stream",
     "text": [
      "/tmp/ipykernel_5342/3808935312.py:7: UserWarning: To copy construct from a tensor, it is recommended to use sourceTensor.clone().detach() or sourceTensor.clone().detach().requires_grad_(True), rather than torch.tensor(sourceTensor).\n",
      "  nll = (0.5 * torch.tensor(results['obs_weight']) * torch.tensor(results['obs_flux'])**2)\n",
      "/tmp/ipykernel_5342/3808935312.py:8: UserWarning: To copy construct from a tensor, it is recommended to use sourceTensor.clone().detach() or sourceTensor.clone().detach().requires_grad_(True), rather than torch.tensor(sourceTensor).\n",
      "  kld = -0.5 * (1 + torch.tensor(results['encoding_logvar'], requires_grad=True)\n",
      "/tmp/ipykernel_5342/3808935312.py:9: UserWarning: To copy construct from a tensor, it is recommended to use sourceTensor.clone().detach() or sourceTensor.clone().detach().requires_grad_(True), rather than torch.tensor(sourceTensor).\n",
      "  - torch.tensor(results['encoding_mu'], requires_grad=True)**2\n",
      "/tmp/ipykernel_5342/3808935312.py:10: UserWarning: To copy construct from a tensor, it is recommended to use sourceTensor.clone().detach() or sourceTensor.clone().detach().requires_grad_(True), rather than torch.tensor(sourceTensor).\n",
      "  - torch.exp(torch.tensor(results['encoding_logvar'], requires_grad=True)))\n"
     ]
    },
    {
     "name": "stdout",
     "output_type": "stream",
     "text": [
      "193\n",
      "Comenzo get_data\n",
      "Grid shape: (32, 2, 300)\n",
      "Paso el Get data\n",
      "Shape pre-encoder torch.Size([32, 5, 300])\n",
      "Shape Encoder: torch.Size([32, 64, 306])\n",
      "Shape mu: torch.Size([64, 20])\n",
      "Shape log_var: torch.Size([64, 20])\n"
     ]
    },
    {
     "name": "stderr",
     "output_type": "stream",
     "text": [
      "/tmp/ipykernel_5342/3808935312.py:7: UserWarning: To copy construct from a tensor, it is recommended to use sourceTensor.clone().detach() or sourceTensor.clone().detach().requires_grad_(True), rather than torch.tensor(sourceTensor).\n",
      "  nll = (0.5 * torch.tensor(results['obs_weight']) * torch.tensor(results['obs_flux'])**2)\n",
      "/tmp/ipykernel_5342/3808935312.py:8: UserWarning: To copy construct from a tensor, it is recommended to use sourceTensor.clone().detach() or sourceTensor.clone().detach().requires_grad_(True), rather than torch.tensor(sourceTensor).\n",
      "  kld = -0.5 * (1 + torch.tensor(results['encoding_logvar'], requires_grad=True)\n",
      "/tmp/ipykernel_5342/3808935312.py:9: UserWarning: To copy construct from a tensor, it is recommended to use sourceTensor.clone().detach() or sourceTensor.clone().detach().requires_grad_(True), rather than torch.tensor(sourceTensor).\n",
      "  - torch.tensor(results['encoding_mu'], requires_grad=True)**2\n",
      "/tmp/ipykernel_5342/3808935312.py:10: UserWarning: To copy construct from a tensor, it is recommended to use sourceTensor.clone().detach() or sourceTensor.clone().detach().requires_grad_(True), rather than torch.tensor(sourceTensor).\n",
      "  - torch.exp(torch.tensor(results['encoding_logvar'], requires_grad=True)))\n"
     ]
    },
    {
     "name": "stdout",
     "output_type": "stream",
     "text": [
      "194\n",
      "Comenzo get_data\n",
      "Grid shape: (32, 2, 300)\n",
      "Paso el Get data\n",
      "Shape pre-encoder torch.Size([32, 5, 300])\n",
      "Shape Encoder: torch.Size([32, 64, 306])\n",
      "Shape mu: torch.Size([64, 20])\n",
      "Shape log_var: torch.Size([64, 20])\n"
     ]
    },
    {
     "name": "stderr",
     "output_type": "stream",
     "text": [
      "/tmp/ipykernel_5342/3808935312.py:7: UserWarning: To copy construct from a tensor, it is recommended to use sourceTensor.clone().detach() or sourceTensor.clone().detach().requires_grad_(True), rather than torch.tensor(sourceTensor).\n",
      "  nll = (0.5 * torch.tensor(results['obs_weight']) * torch.tensor(results['obs_flux'])**2)\n",
      "/tmp/ipykernel_5342/3808935312.py:8: UserWarning: To copy construct from a tensor, it is recommended to use sourceTensor.clone().detach() or sourceTensor.clone().detach().requires_grad_(True), rather than torch.tensor(sourceTensor).\n",
      "  kld = -0.5 * (1 + torch.tensor(results['encoding_logvar'], requires_grad=True)\n",
      "/tmp/ipykernel_5342/3808935312.py:9: UserWarning: To copy construct from a tensor, it is recommended to use sourceTensor.clone().detach() or sourceTensor.clone().detach().requires_grad_(True), rather than torch.tensor(sourceTensor).\n",
      "  - torch.tensor(results['encoding_mu'], requires_grad=True)**2\n",
      "/tmp/ipykernel_5342/3808935312.py:10: UserWarning: To copy construct from a tensor, it is recommended to use sourceTensor.clone().detach() or sourceTensor.clone().detach().requires_grad_(True), rather than torch.tensor(sourceTensor).\n",
      "  - torch.exp(torch.tensor(results['encoding_logvar'], requires_grad=True)))\n"
     ]
    },
    {
     "name": "stdout",
     "output_type": "stream",
     "text": [
      "195\n",
      "Comenzo get_data\n",
      "Grid shape: (32, 2, 300)\n",
      "Paso el Get data\n",
      "Shape pre-encoder torch.Size([32, 5, 300])\n",
      "Shape Encoder: torch.Size([32, 64, 306])\n",
      "Shape mu: torch.Size([64, 20])\n",
      "Shape log_var: torch.Size([64, 20])\n"
     ]
    },
    {
     "name": "stderr",
     "output_type": "stream",
     "text": [
      "/tmp/ipykernel_5342/3808935312.py:7: UserWarning: To copy construct from a tensor, it is recommended to use sourceTensor.clone().detach() or sourceTensor.clone().detach().requires_grad_(True), rather than torch.tensor(sourceTensor).\n",
      "  nll = (0.5 * torch.tensor(results['obs_weight']) * torch.tensor(results['obs_flux'])**2)\n",
      "/tmp/ipykernel_5342/3808935312.py:8: UserWarning: To copy construct from a tensor, it is recommended to use sourceTensor.clone().detach() or sourceTensor.clone().detach().requires_grad_(True), rather than torch.tensor(sourceTensor).\n",
      "  kld = -0.5 * (1 + torch.tensor(results['encoding_logvar'], requires_grad=True)\n",
      "/tmp/ipykernel_5342/3808935312.py:9: UserWarning: To copy construct from a tensor, it is recommended to use sourceTensor.clone().detach() or sourceTensor.clone().detach().requires_grad_(True), rather than torch.tensor(sourceTensor).\n",
      "  - torch.tensor(results['encoding_mu'], requires_grad=True)**2\n",
      "/tmp/ipykernel_5342/3808935312.py:10: UserWarning: To copy construct from a tensor, it is recommended to use sourceTensor.clone().detach() or sourceTensor.clone().detach().requires_grad_(True), rather than torch.tensor(sourceTensor).\n",
      "  - torch.exp(torch.tensor(results['encoding_logvar'], requires_grad=True)))\n"
     ]
    },
    {
     "name": "stdout",
     "output_type": "stream",
     "text": [
      "196\n",
      "Comenzo get_data\n",
      "Grid shape: (32, 2, 300)\n",
      "Paso el Get data\n",
      "Shape pre-encoder torch.Size([32, 5, 300])\n",
      "Shape Encoder: torch.Size([32, 64, 306])\n",
      "Shape mu: torch.Size([64, 20])\n",
      "Shape log_var: torch.Size([64, 20])\n"
     ]
    },
    {
     "name": "stderr",
     "output_type": "stream",
     "text": [
      "/tmp/ipykernel_5342/3808935312.py:7: UserWarning: To copy construct from a tensor, it is recommended to use sourceTensor.clone().detach() or sourceTensor.clone().detach().requires_grad_(True), rather than torch.tensor(sourceTensor).\n",
      "  nll = (0.5 * torch.tensor(results['obs_weight']) * torch.tensor(results['obs_flux'])**2)\n",
      "/tmp/ipykernel_5342/3808935312.py:8: UserWarning: To copy construct from a tensor, it is recommended to use sourceTensor.clone().detach() or sourceTensor.clone().detach().requires_grad_(True), rather than torch.tensor(sourceTensor).\n",
      "  kld = -0.5 * (1 + torch.tensor(results['encoding_logvar'], requires_grad=True)\n",
      "/tmp/ipykernel_5342/3808935312.py:9: UserWarning: To copy construct from a tensor, it is recommended to use sourceTensor.clone().detach() or sourceTensor.clone().detach().requires_grad_(True), rather than torch.tensor(sourceTensor).\n",
      "  - torch.tensor(results['encoding_mu'], requires_grad=True)**2\n",
      "/tmp/ipykernel_5342/3808935312.py:10: UserWarning: To copy construct from a tensor, it is recommended to use sourceTensor.clone().detach() or sourceTensor.clone().detach().requires_grad_(True), rather than torch.tensor(sourceTensor).\n",
      "  - torch.exp(torch.tensor(results['encoding_logvar'], requires_grad=True)))\n"
     ]
    },
    {
     "name": "stdout",
     "output_type": "stream",
     "text": [
      "197\n",
      "Comenzo get_data\n",
      "Grid shape: (32, 2, 300)\n",
      "Paso el Get data\n",
      "Shape pre-encoder torch.Size([32, 5, 300])\n",
      "Shape Encoder: torch.Size([32, 64, 306])\n",
      "Shape mu: torch.Size([64, 20])\n",
      "Shape log_var: torch.Size([64, 20])\n"
     ]
    },
    {
     "name": "stderr",
     "output_type": "stream",
     "text": [
      "/tmp/ipykernel_5342/3808935312.py:7: UserWarning: To copy construct from a tensor, it is recommended to use sourceTensor.clone().detach() or sourceTensor.clone().detach().requires_grad_(True), rather than torch.tensor(sourceTensor).\n",
      "  nll = (0.5 * torch.tensor(results['obs_weight']) * torch.tensor(results['obs_flux'])**2)\n",
      "/tmp/ipykernel_5342/3808935312.py:8: UserWarning: To copy construct from a tensor, it is recommended to use sourceTensor.clone().detach() or sourceTensor.clone().detach().requires_grad_(True), rather than torch.tensor(sourceTensor).\n",
      "  kld = -0.5 * (1 + torch.tensor(results['encoding_logvar'], requires_grad=True)\n",
      "/tmp/ipykernel_5342/3808935312.py:9: UserWarning: To copy construct from a tensor, it is recommended to use sourceTensor.clone().detach() or sourceTensor.clone().detach().requires_grad_(True), rather than torch.tensor(sourceTensor).\n",
      "  - torch.tensor(results['encoding_mu'], requires_grad=True)**2\n",
      "/tmp/ipykernel_5342/3808935312.py:10: UserWarning: To copy construct from a tensor, it is recommended to use sourceTensor.clone().detach() or sourceTensor.clone().detach().requires_grad_(True), rather than torch.tensor(sourceTensor).\n",
      "  - torch.exp(torch.tensor(results['encoding_logvar'], requires_grad=True)))\n"
     ]
    },
    {
     "name": "stdout",
     "output_type": "stream",
     "text": [
      "198\n",
      "Comenzo get_data\n",
      "Grid shape: (32, 2, 300)\n",
      "Paso el Get data\n",
      "Shape pre-encoder torch.Size([32, 5, 300])\n",
      "Shape Encoder: torch.Size([32, 64, 306])\n",
      "Shape mu: torch.Size([64, 20])\n",
      "Shape log_var: torch.Size([64, 20])\n"
     ]
    },
    {
     "name": "stderr",
     "output_type": "stream",
     "text": [
      "/tmp/ipykernel_5342/3808935312.py:7: UserWarning: To copy construct from a tensor, it is recommended to use sourceTensor.clone().detach() or sourceTensor.clone().detach().requires_grad_(True), rather than torch.tensor(sourceTensor).\n",
      "  nll = (0.5 * torch.tensor(results['obs_weight']) * torch.tensor(results['obs_flux'])**2)\n",
      "/tmp/ipykernel_5342/3808935312.py:8: UserWarning: To copy construct from a tensor, it is recommended to use sourceTensor.clone().detach() or sourceTensor.clone().detach().requires_grad_(True), rather than torch.tensor(sourceTensor).\n",
      "  kld = -0.5 * (1 + torch.tensor(results['encoding_logvar'], requires_grad=True)\n",
      "/tmp/ipykernel_5342/3808935312.py:9: UserWarning: To copy construct from a tensor, it is recommended to use sourceTensor.clone().detach() or sourceTensor.clone().detach().requires_grad_(True), rather than torch.tensor(sourceTensor).\n",
      "  - torch.tensor(results['encoding_mu'], requires_grad=True)**2\n",
      "/tmp/ipykernel_5342/3808935312.py:10: UserWarning: To copy construct from a tensor, it is recommended to use sourceTensor.clone().detach() or sourceTensor.clone().detach().requires_grad_(True), rather than torch.tensor(sourceTensor).\n",
      "  - torch.exp(torch.tensor(results['encoding_logvar'], requires_grad=True)))\n"
     ]
    },
    {
     "name": "stdout",
     "output_type": "stream",
     "text": [
      "199\n",
      "Comenzo get_data\n",
      "Grid shape: (32, 2, 300)\n",
      "Paso el Get data\n",
      "Shape pre-encoder torch.Size([32, 5, 300])\n",
      "Shape Encoder: torch.Size([32, 64, 306])\n",
      "Shape mu: torch.Size([64, 20])\n",
      "Shape log_var: torch.Size([64, 20])\n"
     ]
    },
    {
     "name": "stderr",
     "output_type": "stream",
     "text": [
      "/tmp/ipykernel_5342/3808935312.py:7: UserWarning: To copy construct from a tensor, it is recommended to use sourceTensor.clone().detach() or sourceTensor.clone().detach().requires_grad_(True), rather than torch.tensor(sourceTensor).\n",
      "  nll = (0.5 * torch.tensor(results['obs_weight']) * torch.tensor(results['obs_flux'])**2)\n",
      "/tmp/ipykernel_5342/3808935312.py:8: UserWarning: To copy construct from a tensor, it is recommended to use sourceTensor.clone().detach() or sourceTensor.clone().detach().requires_grad_(True), rather than torch.tensor(sourceTensor).\n",
      "  kld = -0.5 * (1 + torch.tensor(results['encoding_logvar'], requires_grad=True)\n",
      "/tmp/ipykernel_5342/3808935312.py:9: UserWarning: To copy construct from a tensor, it is recommended to use sourceTensor.clone().detach() or sourceTensor.clone().detach().requires_grad_(True), rather than torch.tensor(sourceTensor).\n",
      "  - torch.tensor(results['encoding_mu'], requires_grad=True)**2\n",
      "/tmp/ipykernel_5342/3808935312.py:10: UserWarning: To copy construct from a tensor, it is recommended to use sourceTensor.clone().detach() or sourceTensor.clone().detach().requires_grad_(True), rather than torch.tensor(sourceTensor).\n",
      "  - torch.exp(torch.tensor(results['encoding_logvar'], requires_grad=True)))\n"
     ]
    },
    {
     "name": "stdout",
     "output_type": "stream",
     "text": [
      "200\n",
      "Comenzo get_data\n",
      "Grid shape: (32, 2, 300)\n",
      "Paso el Get data\n",
      "Shape pre-encoder torch.Size([32, 5, 300])\n",
      "Shape Encoder: torch.Size([32, 64, 306])\n",
      "Shape mu: torch.Size([64, 20])\n",
      "Shape log_var: torch.Size([64, 20])\n"
     ]
    },
    {
     "name": "stderr",
     "output_type": "stream",
     "text": [
      "/tmp/ipykernel_5342/3808935312.py:7: UserWarning: To copy construct from a tensor, it is recommended to use sourceTensor.clone().detach() or sourceTensor.clone().detach().requires_grad_(True), rather than torch.tensor(sourceTensor).\n",
      "  nll = (0.5 * torch.tensor(results['obs_weight']) * torch.tensor(results['obs_flux'])**2)\n",
      "/tmp/ipykernel_5342/3808935312.py:8: UserWarning: To copy construct from a tensor, it is recommended to use sourceTensor.clone().detach() or sourceTensor.clone().detach().requires_grad_(True), rather than torch.tensor(sourceTensor).\n",
      "  kld = -0.5 * (1 + torch.tensor(results['encoding_logvar'], requires_grad=True)\n",
      "/tmp/ipykernel_5342/3808935312.py:9: UserWarning: To copy construct from a tensor, it is recommended to use sourceTensor.clone().detach() or sourceTensor.clone().detach().requires_grad_(True), rather than torch.tensor(sourceTensor).\n",
      "  - torch.tensor(results['encoding_mu'], requires_grad=True)**2\n",
      "/tmp/ipykernel_5342/3808935312.py:10: UserWarning: To copy construct from a tensor, it is recommended to use sourceTensor.clone().detach() or sourceTensor.clone().detach().requires_grad_(True), rather than torch.tensor(sourceTensor).\n",
      "  - torch.exp(torch.tensor(results['encoding_logvar'], requires_grad=True)))\n",
      "  0%|          | 0/1 [47:27<?, ?it/s]"
     ]
    },
    {
     "name": "stdout",
     "output_type": "stream",
     "text": [
      "201\n",
      "Comenzo get_data\n",
      "Grid shape: (1, 2, 300)\n",
      "Paso el Get data\n",
      "Shape pre-encoder torch.Size([1, 5, 300])\n",
      "Shape Encoder: torch.Size([1, 64, 306])\n"
     ]
    },
    {
     "name": "stderr",
     "output_type": "stream",
     "text": [
      "\n"
     ]
    },
    {
     "ename": "RuntimeError",
     "evalue": "mat1 and mat2 shapes cannot be multiplied (64x306 and 9792x64)",
     "output_type": "error",
     "traceback": [
      "\u001b[0;31m---------------------------------------------------------------------------\u001b[0m",
      "\u001b[0;31mRuntimeError\u001b[0m                              Traceback (most recent call last)",
      "Cell \u001b[0;32mIn[65], line 12\u001b[0m\n\u001b[1;32m     10\u001b[0m \u001b[38;5;28;01mfor\u001b[39;00m i, batch \u001b[38;5;129;01min\u001b[39;00m \u001b[38;5;28menumerate\u001b[39m(train_loader):\n\u001b[1;32m     11\u001b[0m     \u001b[38;5;28mprint\u001b[39m(i)\n\u001b[0;32m---> 12\u001b[0m     results \u001b[38;5;241m=\u001b[39m \u001b[43mmodel\u001b[49m\u001b[38;5;241;43m.\u001b[39;49m\u001b[43mobtain_results\u001b[49m\u001b[43m(\u001b[49m\u001b[43mbatch\u001b[49m\u001b[43m)\u001b[49m\n\u001b[1;32m     13\u001b[0m     loss \u001b[38;5;241m=\u001b[39m loss_function(results)\n\u001b[1;32m     15\u001b[0m     loss\u001b[38;5;241m.\u001b[39mbackward()\n",
      "Cell \u001b[0;32mIn[43], line 79\u001b[0m, in \u001b[0;36mModelV1.obtain_results\u001b[0;34m(self, light_curves)\u001b[0m\n\u001b[1;32m     76\u001b[0m \u001b[38;5;28mprint\u001b[39m(\u001b[38;5;124m'\u001b[39m\u001b[38;5;124mPaso el Get data\u001b[39m\u001b[38;5;124m'\u001b[39m)\n\u001b[1;32m     78\u001b[0m \u001b[38;5;66;03m# Encode the light_curves\u001b[39;00m\n\u001b[0;32m---> 79\u001b[0m encoding_mu, encoding_logvar \u001b[38;5;241m=\u001b[39m \u001b[38;5;28;43mself\u001b[39;49m\u001b[38;5;241;43m.\u001b[39;49m\u001b[43mencode\u001b[49m\u001b[43m(\u001b[49m\u001b[43mdata\u001b[49m\u001b[43m[\u001b[49m\u001b[38;5;124;43m'\u001b[39;49m\u001b[38;5;124;43minput_data\u001b[39;49m\u001b[38;5;124;43m'\u001b[39;49m\u001b[43m]\u001b[49m\u001b[43m)\u001b[49m\n\u001b[1;32m     80\u001b[0m \u001b[38;5;66;03m#print(encoding_mu)\u001b[39;00m\n\u001b[1;32m     81\u001b[0m \u001b[38;5;66;03m#print(encoding_logvar)\u001b[39;00m\n\u001b[1;32m     83\u001b[0m time \u001b[38;5;241m=\u001b[39m data[\u001b[38;5;124m'\u001b[39m\u001b[38;5;124mcompare_data\u001b[39m\u001b[38;5;124m'\u001b[39m][:,\u001b[38;5;241m0\u001b[39m]\n",
      "Cell \u001b[0;32mIn[43], line 49\u001b[0m, in \u001b[0;36mModelV1.encode\u001b[0;34m(self, x)\u001b[0m\n\u001b[1;32m     47\u001b[0m x \u001b[38;5;241m=\u001b[39m x\u001b[38;5;241m.\u001b[39mview(\u001b[38;5;241m64\u001b[39m, \u001b[38;5;241m-\u001b[39m\u001b[38;5;241m1\u001b[39m) \u001b[38;5;66;03m# Flatten the output, keeping batch dimension\u001b[39;00m\n\u001b[1;32m     48\u001b[0m \u001b[38;5;66;03m#print('Shape after flattening:', x.shape)\u001b[39;00m\n\u001b[0;32m---> 49\u001b[0m x \u001b[38;5;241m=\u001b[39m \u001b[38;5;28;43mself\u001b[39;49m\u001b[38;5;241;43m.\u001b[39;49m\u001b[43mlinear\u001b[49m\u001b[43m(\u001b[49m\u001b[43mx\u001b[49m\u001b[43m)\u001b[49m\n\u001b[1;32m     50\u001b[0m mu, log_var \u001b[38;5;241m=\u001b[39m \u001b[38;5;28mself\u001b[39m\u001b[38;5;241m.\u001b[39mencode_mean(x), \u001b[38;5;28mself\u001b[39m\u001b[38;5;241m.\u001b[39mencode_logvar(x)\n\u001b[1;32m     51\u001b[0m \u001b[38;5;28mprint\u001b[39m(\u001b[38;5;124m'\u001b[39m\u001b[38;5;124mShape mu:\u001b[39m\u001b[38;5;124m'\u001b[39m,mu\u001b[38;5;241m.\u001b[39mshape)\n",
      "File \u001b[0;32m~/.local/lib/python3.12/site-packages/torch/nn/modules/module.py:1553\u001b[0m, in \u001b[0;36mModule._wrapped_call_impl\u001b[0;34m(self, *args, **kwargs)\u001b[0m\n\u001b[1;32m   1551\u001b[0m     \u001b[38;5;28;01mreturn\u001b[39;00m \u001b[38;5;28mself\u001b[39m\u001b[38;5;241m.\u001b[39m_compiled_call_impl(\u001b[38;5;241m*\u001b[39margs, \u001b[38;5;241m*\u001b[39m\u001b[38;5;241m*\u001b[39mkwargs)  \u001b[38;5;66;03m# type: ignore[misc]\u001b[39;00m\n\u001b[1;32m   1552\u001b[0m \u001b[38;5;28;01melse\u001b[39;00m:\n\u001b[0;32m-> 1553\u001b[0m     \u001b[38;5;28;01mreturn\u001b[39;00m \u001b[38;5;28;43mself\u001b[39;49m\u001b[38;5;241;43m.\u001b[39;49m\u001b[43m_call_impl\u001b[49m\u001b[43m(\u001b[49m\u001b[38;5;241;43m*\u001b[39;49m\u001b[43margs\u001b[49m\u001b[43m,\u001b[49m\u001b[43m \u001b[49m\u001b[38;5;241;43m*\u001b[39;49m\u001b[38;5;241;43m*\u001b[39;49m\u001b[43mkwargs\u001b[49m\u001b[43m)\u001b[49m\n",
      "File \u001b[0;32m~/.local/lib/python3.12/site-packages/torch/nn/modules/module.py:1562\u001b[0m, in \u001b[0;36mModule._call_impl\u001b[0;34m(self, *args, **kwargs)\u001b[0m\n\u001b[1;32m   1557\u001b[0m \u001b[38;5;66;03m# If we don't have any hooks, we want to skip the rest of the logic in\u001b[39;00m\n\u001b[1;32m   1558\u001b[0m \u001b[38;5;66;03m# this function, and just call forward.\u001b[39;00m\n\u001b[1;32m   1559\u001b[0m \u001b[38;5;28;01mif\u001b[39;00m \u001b[38;5;129;01mnot\u001b[39;00m (\u001b[38;5;28mself\u001b[39m\u001b[38;5;241m.\u001b[39m_backward_hooks \u001b[38;5;129;01mor\u001b[39;00m \u001b[38;5;28mself\u001b[39m\u001b[38;5;241m.\u001b[39m_backward_pre_hooks \u001b[38;5;129;01mor\u001b[39;00m \u001b[38;5;28mself\u001b[39m\u001b[38;5;241m.\u001b[39m_forward_hooks \u001b[38;5;129;01mor\u001b[39;00m \u001b[38;5;28mself\u001b[39m\u001b[38;5;241m.\u001b[39m_forward_pre_hooks\n\u001b[1;32m   1560\u001b[0m         \u001b[38;5;129;01mor\u001b[39;00m _global_backward_pre_hooks \u001b[38;5;129;01mor\u001b[39;00m _global_backward_hooks\n\u001b[1;32m   1561\u001b[0m         \u001b[38;5;129;01mor\u001b[39;00m _global_forward_hooks \u001b[38;5;129;01mor\u001b[39;00m _global_forward_pre_hooks):\n\u001b[0;32m-> 1562\u001b[0m     \u001b[38;5;28;01mreturn\u001b[39;00m \u001b[43mforward_call\u001b[49m\u001b[43m(\u001b[49m\u001b[38;5;241;43m*\u001b[39;49m\u001b[43margs\u001b[49m\u001b[43m,\u001b[49m\u001b[43m \u001b[49m\u001b[38;5;241;43m*\u001b[39;49m\u001b[38;5;241;43m*\u001b[39;49m\u001b[43mkwargs\u001b[49m\u001b[43m)\u001b[49m\n\u001b[1;32m   1564\u001b[0m \u001b[38;5;28;01mtry\u001b[39;00m:\n\u001b[1;32m   1565\u001b[0m     result \u001b[38;5;241m=\u001b[39m \u001b[38;5;28;01mNone\u001b[39;00m\n",
      "File \u001b[0;32m~/.local/lib/python3.12/site-packages/torch/nn/modules/linear.py:117\u001b[0m, in \u001b[0;36mLinear.forward\u001b[0;34m(self, input)\u001b[0m\n\u001b[1;32m    116\u001b[0m \u001b[38;5;28;01mdef\u001b[39;00m \u001b[38;5;21mforward\u001b[39m(\u001b[38;5;28mself\u001b[39m, \u001b[38;5;28minput\u001b[39m: Tensor) \u001b[38;5;241m-\u001b[39m\u001b[38;5;241m>\u001b[39m Tensor:\n\u001b[0;32m--> 117\u001b[0m     \u001b[38;5;28;01mreturn\u001b[39;00m \u001b[43mF\u001b[49m\u001b[38;5;241;43m.\u001b[39;49m\u001b[43mlinear\u001b[49m\u001b[43m(\u001b[49m\u001b[38;5;28;43minput\u001b[39;49m\u001b[43m,\u001b[49m\u001b[43m \u001b[49m\u001b[38;5;28;43mself\u001b[39;49m\u001b[38;5;241;43m.\u001b[39;49m\u001b[43mweight\u001b[49m\u001b[43m,\u001b[49m\u001b[43m \u001b[49m\u001b[38;5;28;43mself\u001b[39;49m\u001b[38;5;241;43m.\u001b[39;49m\u001b[43mbias\u001b[49m\u001b[43m)\u001b[49m\n",
      "\u001b[0;31mRuntimeError\u001b[0m: mat1 and mat2 shapes cannot be multiplied (64x306 and 9792x64)"
     ]
    }
   ],
   "source": [
    "train_losses = []\n",
    "for epoch in tqdm(range(num_epoch)):\n",
    "    # Set the model to training mode\n",
    "    model.train()\n",
    "    i = 0\n",
    "    train_loss = 0.0\n",
    "\n",
    "    # Iteration over the batches\n",
    "    #for i, batch in enumerate(train_loader_synthetic):\n",
    "    for i, batch in enumerate(train_loader):\n",
    "        print(i)\n",
    "        results = model.obtain_results(batch)\n",
    "        loss = loss_function(results)\n",
    "\n",
    "        loss.backward()\n",
    "        train_loss += loss.item()\n",
    "        train_losses.append(loss.item())\n",
    "\n",
    "        optimizer.step()\n",
    "        optimizer.zero_grad()\n",
    "\n",
    "    # Puedes añadir un mensaje de final de epoch aquí si lo deseas\n",
    "    #if epoch % 10 == 0:\n",
    "    print(f'Epoch [{epoch+1}/{num_epoch}], Loss: {train_loss / len(batch)}')"
   ]
  },
  {
   "cell_type": "code",
   "execution_count": 66,
   "metadata": {},
   "outputs": [
    {
     "name": "stdout",
     "output_type": "stream",
     "text": [
      "Comenzo get_data\n",
      "Grid shape: (32, 2, 300)\n",
      "Paso el Get data\n",
      "Shape pre-encoder torch.Size([32, 5, 300])\n",
      "Shape Encoder: torch.Size([32, 64, 306])\n",
      "Shape mu: torch.Size([64, 20])\n",
      "Shape log_var: torch.Size([64, 20])\n"
     ]
    },
    {
     "name": "stderr",
     "output_type": "stream",
     "text": [
      "/tmp/ipykernel_5342/3808935312.py:7: UserWarning: To copy construct from a tensor, it is recommended to use sourceTensor.clone().detach() or sourceTensor.clone().detach().requires_grad_(True), rather than torch.tensor(sourceTensor).\n",
      "  nll = (0.5 * torch.tensor(results['obs_weight']) * torch.tensor(results['obs_flux'])**2)\n",
      "/tmp/ipykernel_5342/3808935312.py:8: UserWarning: To copy construct from a tensor, it is recommended to use sourceTensor.clone().detach() or sourceTensor.clone().detach().requires_grad_(True), rather than torch.tensor(sourceTensor).\n",
      "  kld = -0.5 * (1 + torch.tensor(results['encoding_logvar'], requires_grad=True)\n",
      "/tmp/ipykernel_5342/3808935312.py:9: UserWarning: To copy construct from a tensor, it is recommended to use sourceTensor.clone().detach() or sourceTensor.clone().detach().requires_grad_(True), rather than torch.tensor(sourceTensor).\n",
      "  - torch.tensor(results['encoding_mu'], requires_grad=True)**2\n",
      "/tmp/ipykernel_5342/3808935312.py:10: UserWarning: To copy construct from a tensor, it is recommended to use sourceTensor.clone().detach() or sourceTensor.clone().detach().requires_grad_(True), rather than torch.tensor(sourceTensor).\n",
      "  - torch.exp(torch.tensor(results['encoding_logvar'], requires_grad=True)))\n"
     ]
    },
    {
     "name": "stdout",
     "output_type": "stream",
     "text": [
      "Comenzo get_data\n",
      "Grid shape: (32, 2, 300)\n",
      "Paso el Get data\n",
      "Shape pre-encoder torch.Size([32, 5, 300])\n",
      "Shape Encoder: torch.Size([32, 64, 306])\n",
      "Shape mu: torch.Size([64, 20])\n",
      "Shape log_var: torch.Size([64, 20])\n"
     ]
    },
    {
     "name": "stderr",
     "output_type": "stream",
     "text": [
      "/tmp/ipykernel_5342/3808935312.py:7: UserWarning: To copy construct from a tensor, it is recommended to use sourceTensor.clone().detach() or sourceTensor.clone().detach().requires_grad_(True), rather than torch.tensor(sourceTensor).\n",
      "  nll = (0.5 * torch.tensor(results['obs_weight']) * torch.tensor(results['obs_flux'])**2)\n",
      "/tmp/ipykernel_5342/3808935312.py:8: UserWarning: To copy construct from a tensor, it is recommended to use sourceTensor.clone().detach() or sourceTensor.clone().detach().requires_grad_(True), rather than torch.tensor(sourceTensor).\n",
      "  kld = -0.5 * (1 + torch.tensor(results['encoding_logvar'], requires_grad=True)\n",
      "/tmp/ipykernel_5342/3808935312.py:9: UserWarning: To copy construct from a tensor, it is recommended to use sourceTensor.clone().detach() or sourceTensor.clone().detach().requires_grad_(True), rather than torch.tensor(sourceTensor).\n",
      "  - torch.tensor(results['encoding_mu'], requires_grad=True)**2\n",
      "/tmp/ipykernel_5342/3808935312.py:10: UserWarning: To copy construct from a tensor, it is recommended to use sourceTensor.clone().detach() or sourceTensor.clone().detach().requires_grad_(True), rather than torch.tensor(sourceTensor).\n",
      "  - torch.exp(torch.tensor(results['encoding_logvar'], requires_grad=True)))\n"
     ]
    },
    {
     "name": "stdout",
     "output_type": "stream",
     "text": [
      "Comenzo get_data\n",
      "Grid shape: (32, 2, 300)\n",
      "Paso el Get data\n",
      "Shape pre-encoder torch.Size([32, 5, 300])\n",
      "Shape Encoder: torch.Size([32, 64, 306])\n",
      "Shape mu: torch.Size([64, 20])\n",
      "Shape log_var: torch.Size([64, 20])\n"
     ]
    },
    {
     "name": "stderr",
     "output_type": "stream",
     "text": [
      "/tmp/ipykernel_5342/3808935312.py:7: UserWarning: To copy construct from a tensor, it is recommended to use sourceTensor.clone().detach() or sourceTensor.clone().detach().requires_grad_(True), rather than torch.tensor(sourceTensor).\n",
      "  nll = (0.5 * torch.tensor(results['obs_weight']) * torch.tensor(results['obs_flux'])**2)\n",
      "/tmp/ipykernel_5342/3808935312.py:8: UserWarning: To copy construct from a tensor, it is recommended to use sourceTensor.clone().detach() or sourceTensor.clone().detach().requires_grad_(True), rather than torch.tensor(sourceTensor).\n",
      "  kld = -0.5 * (1 + torch.tensor(results['encoding_logvar'], requires_grad=True)\n",
      "/tmp/ipykernel_5342/3808935312.py:9: UserWarning: To copy construct from a tensor, it is recommended to use sourceTensor.clone().detach() or sourceTensor.clone().detach().requires_grad_(True), rather than torch.tensor(sourceTensor).\n",
      "  - torch.tensor(results['encoding_mu'], requires_grad=True)**2\n",
      "/tmp/ipykernel_5342/3808935312.py:10: UserWarning: To copy construct from a tensor, it is recommended to use sourceTensor.clone().detach() or sourceTensor.clone().detach().requires_grad_(True), rather than torch.tensor(sourceTensor).\n",
      "  - torch.exp(torch.tensor(results['encoding_logvar'], requires_grad=True)))\n"
     ]
    },
    {
     "name": "stdout",
     "output_type": "stream",
     "text": [
      "Comenzo get_data\n",
      "Grid shape: (32, 2, 300)\n",
      "Paso el Get data\n",
      "Shape pre-encoder torch.Size([32, 5, 300])\n",
      "Shape Encoder: torch.Size([32, 64, 306])\n",
      "Shape mu: torch.Size([64, 20])\n",
      "Shape log_var: torch.Size([64, 20])\n"
     ]
    },
    {
     "name": "stderr",
     "output_type": "stream",
     "text": [
      "/tmp/ipykernel_5342/3808935312.py:7: UserWarning: To copy construct from a tensor, it is recommended to use sourceTensor.clone().detach() or sourceTensor.clone().detach().requires_grad_(True), rather than torch.tensor(sourceTensor).\n",
      "  nll = (0.5 * torch.tensor(results['obs_weight']) * torch.tensor(results['obs_flux'])**2)\n",
      "/tmp/ipykernel_5342/3808935312.py:8: UserWarning: To copy construct from a tensor, it is recommended to use sourceTensor.clone().detach() or sourceTensor.clone().detach().requires_grad_(True), rather than torch.tensor(sourceTensor).\n",
      "  kld = -0.5 * (1 + torch.tensor(results['encoding_logvar'], requires_grad=True)\n",
      "/tmp/ipykernel_5342/3808935312.py:9: UserWarning: To copy construct from a tensor, it is recommended to use sourceTensor.clone().detach() or sourceTensor.clone().detach().requires_grad_(True), rather than torch.tensor(sourceTensor).\n",
      "  - torch.tensor(results['encoding_mu'], requires_grad=True)**2\n",
      "/tmp/ipykernel_5342/3808935312.py:10: UserWarning: To copy construct from a tensor, it is recommended to use sourceTensor.clone().detach() or sourceTensor.clone().detach().requires_grad_(True), rather than torch.tensor(sourceTensor).\n",
      "  - torch.exp(torch.tensor(results['encoding_logvar'], requires_grad=True)))\n"
     ]
    },
    {
     "name": "stdout",
     "output_type": "stream",
     "text": [
      "Comenzo get_data\n",
      "Grid shape: (32, 2, 300)\n",
      "Paso el Get data\n",
      "Shape pre-encoder torch.Size([32, 5, 300])\n",
      "Shape Encoder: torch.Size([32, 64, 306])\n",
      "Shape mu: torch.Size([64, 20])\n",
      "Shape log_var: torch.Size([64, 20])\n"
     ]
    },
    {
     "name": "stderr",
     "output_type": "stream",
     "text": [
      "/tmp/ipykernel_5342/3808935312.py:7: UserWarning: To copy construct from a tensor, it is recommended to use sourceTensor.clone().detach() or sourceTensor.clone().detach().requires_grad_(True), rather than torch.tensor(sourceTensor).\n",
      "  nll = (0.5 * torch.tensor(results['obs_weight']) * torch.tensor(results['obs_flux'])**2)\n",
      "/tmp/ipykernel_5342/3808935312.py:8: UserWarning: To copy construct from a tensor, it is recommended to use sourceTensor.clone().detach() or sourceTensor.clone().detach().requires_grad_(True), rather than torch.tensor(sourceTensor).\n",
      "  kld = -0.5 * (1 + torch.tensor(results['encoding_logvar'], requires_grad=True)\n",
      "/tmp/ipykernel_5342/3808935312.py:9: UserWarning: To copy construct from a tensor, it is recommended to use sourceTensor.clone().detach() or sourceTensor.clone().detach().requires_grad_(True), rather than torch.tensor(sourceTensor).\n",
      "  - torch.tensor(results['encoding_mu'], requires_grad=True)**2\n",
      "/tmp/ipykernel_5342/3808935312.py:10: UserWarning: To copy construct from a tensor, it is recommended to use sourceTensor.clone().detach() or sourceTensor.clone().detach().requires_grad_(True), rather than torch.tensor(sourceTensor).\n",
      "  - torch.exp(torch.tensor(results['encoding_logvar'], requires_grad=True)))\n"
     ]
    },
    {
     "name": "stdout",
     "output_type": "stream",
     "text": [
      "Comenzo get_data\n",
      "Grid shape: (32, 2, 300)\n",
      "Paso el Get data\n",
      "Shape pre-encoder torch.Size([32, 5, 300])\n",
      "Shape Encoder: torch.Size([32, 64, 306])\n",
      "Shape mu: torch.Size([64, 20])\n",
      "Shape log_var: torch.Size([64, 20])\n"
     ]
    },
    {
     "name": "stderr",
     "output_type": "stream",
     "text": [
      "/tmp/ipykernel_5342/3808935312.py:7: UserWarning: To copy construct from a tensor, it is recommended to use sourceTensor.clone().detach() or sourceTensor.clone().detach().requires_grad_(True), rather than torch.tensor(sourceTensor).\n",
      "  nll = (0.5 * torch.tensor(results['obs_weight']) * torch.tensor(results['obs_flux'])**2)\n",
      "/tmp/ipykernel_5342/3808935312.py:8: UserWarning: To copy construct from a tensor, it is recommended to use sourceTensor.clone().detach() or sourceTensor.clone().detach().requires_grad_(True), rather than torch.tensor(sourceTensor).\n",
      "  kld = -0.5 * (1 + torch.tensor(results['encoding_logvar'], requires_grad=True)\n",
      "/tmp/ipykernel_5342/3808935312.py:9: UserWarning: To copy construct from a tensor, it is recommended to use sourceTensor.clone().detach() or sourceTensor.clone().detach().requires_grad_(True), rather than torch.tensor(sourceTensor).\n",
      "  - torch.tensor(results['encoding_mu'], requires_grad=True)**2\n",
      "/tmp/ipykernel_5342/3808935312.py:10: UserWarning: To copy construct from a tensor, it is recommended to use sourceTensor.clone().detach() or sourceTensor.clone().detach().requires_grad_(True), rather than torch.tensor(sourceTensor).\n",
      "  - torch.exp(torch.tensor(results['encoding_logvar'], requires_grad=True)))\n"
     ]
    },
    {
     "name": "stdout",
     "output_type": "stream",
     "text": [
      "Comenzo get_data\n",
      "Grid shape: (32, 2, 300)\n",
      "Paso el Get data\n",
      "Shape pre-encoder torch.Size([32, 5, 300])\n",
      "Shape Encoder: torch.Size([32, 64, 306])\n",
      "Shape mu: torch.Size([64, 20])\n",
      "Shape log_var: torch.Size([64, 20])\n"
     ]
    },
    {
     "name": "stderr",
     "output_type": "stream",
     "text": [
      "/tmp/ipykernel_5342/3808935312.py:7: UserWarning: To copy construct from a tensor, it is recommended to use sourceTensor.clone().detach() or sourceTensor.clone().detach().requires_grad_(True), rather than torch.tensor(sourceTensor).\n",
      "  nll = (0.5 * torch.tensor(results['obs_weight']) * torch.tensor(results['obs_flux'])**2)\n",
      "/tmp/ipykernel_5342/3808935312.py:8: UserWarning: To copy construct from a tensor, it is recommended to use sourceTensor.clone().detach() or sourceTensor.clone().detach().requires_grad_(True), rather than torch.tensor(sourceTensor).\n",
      "  kld = -0.5 * (1 + torch.tensor(results['encoding_logvar'], requires_grad=True)\n",
      "/tmp/ipykernel_5342/3808935312.py:9: UserWarning: To copy construct from a tensor, it is recommended to use sourceTensor.clone().detach() or sourceTensor.clone().detach().requires_grad_(True), rather than torch.tensor(sourceTensor).\n",
      "  - torch.tensor(results['encoding_mu'], requires_grad=True)**2\n",
      "/tmp/ipykernel_5342/3808935312.py:10: UserWarning: To copy construct from a tensor, it is recommended to use sourceTensor.clone().detach() or sourceTensor.clone().detach().requires_grad_(True), rather than torch.tensor(sourceTensor).\n",
      "  - torch.exp(torch.tensor(results['encoding_logvar'], requires_grad=True)))\n"
     ]
    },
    {
     "name": "stdout",
     "output_type": "stream",
     "text": [
      "Comenzo get_data\n",
      "Grid shape: (32, 2, 300)\n",
      "Paso el Get data\n",
      "Shape pre-encoder torch.Size([32, 5, 300])\n",
      "Shape Encoder: torch.Size([32, 64, 306])\n",
      "Shape mu: torch.Size([64, 20])\n",
      "Shape log_var: torch.Size([64, 20])\n"
     ]
    },
    {
     "name": "stderr",
     "output_type": "stream",
     "text": [
      "/tmp/ipykernel_5342/3808935312.py:7: UserWarning: To copy construct from a tensor, it is recommended to use sourceTensor.clone().detach() or sourceTensor.clone().detach().requires_grad_(True), rather than torch.tensor(sourceTensor).\n",
      "  nll = (0.5 * torch.tensor(results['obs_weight']) * torch.tensor(results['obs_flux'])**2)\n",
      "/tmp/ipykernel_5342/3808935312.py:8: UserWarning: To copy construct from a tensor, it is recommended to use sourceTensor.clone().detach() or sourceTensor.clone().detach().requires_grad_(True), rather than torch.tensor(sourceTensor).\n",
      "  kld = -0.5 * (1 + torch.tensor(results['encoding_logvar'], requires_grad=True)\n",
      "/tmp/ipykernel_5342/3808935312.py:9: UserWarning: To copy construct from a tensor, it is recommended to use sourceTensor.clone().detach() or sourceTensor.clone().detach().requires_grad_(True), rather than torch.tensor(sourceTensor).\n",
      "  - torch.tensor(results['encoding_mu'], requires_grad=True)**2\n",
      "/tmp/ipykernel_5342/3808935312.py:10: UserWarning: To copy construct from a tensor, it is recommended to use sourceTensor.clone().detach() or sourceTensor.clone().detach().requires_grad_(True), rather than torch.tensor(sourceTensor).\n",
      "  - torch.exp(torch.tensor(results['encoding_logvar'], requires_grad=True)))\n"
     ]
    },
    {
     "name": "stdout",
     "output_type": "stream",
     "text": [
      "Comenzo get_data\n",
      "Grid shape: (32, 2, 300)\n",
      "Paso el Get data\n",
      "Shape pre-encoder torch.Size([32, 5, 300])\n",
      "Shape Encoder: torch.Size([32, 64, 306])\n",
      "Shape mu: torch.Size([64, 20])\n",
      "Shape log_var: torch.Size([64, 20])\n"
     ]
    },
    {
     "name": "stderr",
     "output_type": "stream",
     "text": [
      "/tmp/ipykernel_5342/3808935312.py:7: UserWarning: To copy construct from a tensor, it is recommended to use sourceTensor.clone().detach() or sourceTensor.clone().detach().requires_grad_(True), rather than torch.tensor(sourceTensor).\n",
      "  nll = (0.5 * torch.tensor(results['obs_weight']) * torch.tensor(results['obs_flux'])**2)\n",
      "/tmp/ipykernel_5342/3808935312.py:8: UserWarning: To copy construct from a tensor, it is recommended to use sourceTensor.clone().detach() or sourceTensor.clone().detach().requires_grad_(True), rather than torch.tensor(sourceTensor).\n",
      "  kld = -0.5 * (1 + torch.tensor(results['encoding_logvar'], requires_grad=True)\n",
      "/tmp/ipykernel_5342/3808935312.py:9: UserWarning: To copy construct from a tensor, it is recommended to use sourceTensor.clone().detach() or sourceTensor.clone().detach().requires_grad_(True), rather than torch.tensor(sourceTensor).\n",
      "  - torch.tensor(results['encoding_mu'], requires_grad=True)**2\n",
      "/tmp/ipykernel_5342/3808935312.py:10: UserWarning: To copy construct from a tensor, it is recommended to use sourceTensor.clone().detach() or sourceTensor.clone().detach().requires_grad_(True), rather than torch.tensor(sourceTensor).\n",
      "  - torch.exp(torch.tensor(results['encoding_logvar'], requires_grad=True)))\n"
     ]
    },
    {
     "name": "stdout",
     "output_type": "stream",
     "text": [
      "Comenzo get_data\n",
      "Grid shape: (32, 2, 300)\n",
      "Paso el Get data\n",
      "Shape pre-encoder torch.Size([32, 5, 300])\n",
      "Shape Encoder: torch.Size([32, 64, 306])\n",
      "Shape mu: torch.Size([64, 20])\n",
      "Shape log_var: torch.Size([64, 20])\n"
     ]
    },
    {
     "name": "stderr",
     "output_type": "stream",
     "text": [
      "/tmp/ipykernel_5342/3808935312.py:7: UserWarning: To copy construct from a tensor, it is recommended to use sourceTensor.clone().detach() or sourceTensor.clone().detach().requires_grad_(True), rather than torch.tensor(sourceTensor).\n",
      "  nll = (0.5 * torch.tensor(results['obs_weight']) * torch.tensor(results['obs_flux'])**2)\n",
      "/tmp/ipykernel_5342/3808935312.py:8: UserWarning: To copy construct from a tensor, it is recommended to use sourceTensor.clone().detach() or sourceTensor.clone().detach().requires_grad_(True), rather than torch.tensor(sourceTensor).\n",
      "  kld = -0.5 * (1 + torch.tensor(results['encoding_logvar'], requires_grad=True)\n",
      "/tmp/ipykernel_5342/3808935312.py:9: UserWarning: To copy construct from a tensor, it is recommended to use sourceTensor.clone().detach() or sourceTensor.clone().detach().requires_grad_(True), rather than torch.tensor(sourceTensor).\n",
      "  - torch.tensor(results['encoding_mu'], requires_grad=True)**2\n",
      "/tmp/ipykernel_5342/3808935312.py:10: UserWarning: To copy construct from a tensor, it is recommended to use sourceTensor.clone().detach() or sourceTensor.clone().detach().requires_grad_(True), rather than torch.tensor(sourceTensor).\n",
      "  - torch.exp(torch.tensor(results['encoding_logvar'], requires_grad=True)))\n"
     ]
    },
    {
     "name": "stdout",
     "output_type": "stream",
     "text": [
      "Comenzo get_data\n",
      "Grid shape: (32, 2, 300)\n",
      "Paso el Get data\n",
      "Shape pre-encoder torch.Size([32, 5, 300])\n",
      "Shape Encoder: torch.Size([32, 64, 306])\n",
      "Shape mu: torch.Size([64, 20])\n",
      "Shape log_var: torch.Size([64, 20])\n"
     ]
    },
    {
     "name": "stderr",
     "output_type": "stream",
     "text": [
      "/tmp/ipykernel_5342/3808935312.py:7: UserWarning: To copy construct from a tensor, it is recommended to use sourceTensor.clone().detach() or sourceTensor.clone().detach().requires_grad_(True), rather than torch.tensor(sourceTensor).\n",
      "  nll = (0.5 * torch.tensor(results['obs_weight']) * torch.tensor(results['obs_flux'])**2)\n",
      "/tmp/ipykernel_5342/3808935312.py:8: UserWarning: To copy construct from a tensor, it is recommended to use sourceTensor.clone().detach() or sourceTensor.clone().detach().requires_grad_(True), rather than torch.tensor(sourceTensor).\n",
      "  kld = -0.5 * (1 + torch.tensor(results['encoding_logvar'], requires_grad=True)\n",
      "/tmp/ipykernel_5342/3808935312.py:9: UserWarning: To copy construct from a tensor, it is recommended to use sourceTensor.clone().detach() or sourceTensor.clone().detach().requires_grad_(True), rather than torch.tensor(sourceTensor).\n",
      "  - torch.tensor(results['encoding_mu'], requires_grad=True)**2\n",
      "/tmp/ipykernel_5342/3808935312.py:10: UserWarning: To copy construct from a tensor, it is recommended to use sourceTensor.clone().detach() or sourceTensor.clone().detach().requires_grad_(True), rather than torch.tensor(sourceTensor).\n",
      "  - torch.exp(torch.tensor(results['encoding_logvar'], requires_grad=True)))\n"
     ]
    },
    {
     "name": "stdout",
     "output_type": "stream",
     "text": [
      "Comenzo get_data\n",
      "Grid shape: (32, 2, 300)\n",
      "Paso el Get data\n",
      "Shape pre-encoder torch.Size([32, 5, 300])\n",
      "Shape Encoder: torch.Size([32, 64, 306])\n",
      "Shape mu: torch.Size([64, 20])\n",
      "Shape log_var: torch.Size([64, 20])\n"
     ]
    },
    {
     "name": "stderr",
     "output_type": "stream",
     "text": [
      "/tmp/ipykernel_5342/3808935312.py:7: UserWarning: To copy construct from a tensor, it is recommended to use sourceTensor.clone().detach() or sourceTensor.clone().detach().requires_grad_(True), rather than torch.tensor(sourceTensor).\n",
      "  nll = (0.5 * torch.tensor(results['obs_weight']) * torch.tensor(results['obs_flux'])**2)\n",
      "/tmp/ipykernel_5342/3808935312.py:8: UserWarning: To copy construct from a tensor, it is recommended to use sourceTensor.clone().detach() or sourceTensor.clone().detach().requires_grad_(True), rather than torch.tensor(sourceTensor).\n",
      "  kld = -0.5 * (1 + torch.tensor(results['encoding_logvar'], requires_grad=True)\n",
      "/tmp/ipykernel_5342/3808935312.py:9: UserWarning: To copy construct from a tensor, it is recommended to use sourceTensor.clone().detach() or sourceTensor.clone().detach().requires_grad_(True), rather than torch.tensor(sourceTensor).\n",
      "  - torch.tensor(results['encoding_mu'], requires_grad=True)**2\n",
      "/tmp/ipykernel_5342/3808935312.py:10: UserWarning: To copy construct from a tensor, it is recommended to use sourceTensor.clone().detach() or sourceTensor.clone().detach().requires_grad_(True), rather than torch.tensor(sourceTensor).\n",
      "  - torch.exp(torch.tensor(results['encoding_logvar'], requires_grad=True)))\n"
     ]
    },
    {
     "name": "stdout",
     "output_type": "stream",
     "text": [
      "Comenzo get_data\n",
      "Grid shape: (32, 2, 300)\n",
      "Paso el Get data\n",
      "Shape pre-encoder torch.Size([32, 5, 300])\n",
      "Shape Encoder: torch.Size([32, 64, 306])\n",
      "Shape mu: torch.Size([64, 20])\n",
      "Shape log_var: torch.Size([64, 20])\n"
     ]
    },
    {
     "name": "stderr",
     "output_type": "stream",
     "text": [
      "/tmp/ipykernel_5342/3808935312.py:7: UserWarning: To copy construct from a tensor, it is recommended to use sourceTensor.clone().detach() or sourceTensor.clone().detach().requires_grad_(True), rather than torch.tensor(sourceTensor).\n",
      "  nll = (0.5 * torch.tensor(results['obs_weight']) * torch.tensor(results['obs_flux'])**2)\n",
      "/tmp/ipykernel_5342/3808935312.py:8: UserWarning: To copy construct from a tensor, it is recommended to use sourceTensor.clone().detach() or sourceTensor.clone().detach().requires_grad_(True), rather than torch.tensor(sourceTensor).\n",
      "  kld = -0.5 * (1 + torch.tensor(results['encoding_logvar'], requires_grad=True)\n",
      "/tmp/ipykernel_5342/3808935312.py:9: UserWarning: To copy construct from a tensor, it is recommended to use sourceTensor.clone().detach() or sourceTensor.clone().detach().requires_grad_(True), rather than torch.tensor(sourceTensor).\n",
      "  - torch.tensor(results['encoding_mu'], requires_grad=True)**2\n",
      "/tmp/ipykernel_5342/3808935312.py:10: UserWarning: To copy construct from a tensor, it is recommended to use sourceTensor.clone().detach() or sourceTensor.clone().detach().requires_grad_(True), rather than torch.tensor(sourceTensor).\n",
      "  - torch.exp(torch.tensor(results['encoding_logvar'], requires_grad=True)))\n"
     ]
    },
    {
     "name": "stdout",
     "output_type": "stream",
     "text": [
      "Comenzo get_data\n",
      "Grid shape: (32, 2, 300)\n",
      "Paso el Get data\n",
      "Shape pre-encoder torch.Size([32, 5, 300])\n",
      "Shape Encoder: torch.Size([32, 64, 306])\n",
      "Shape mu: torch.Size([64, 20])\n",
      "Shape log_var: torch.Size([64, 20])\n"
     ]
    },
    {
     "name": "stderr",
     "output_type": "stream",
     "text": [
      "/tmp/ipykernel_5342/3808935312.py:7: UserWarning: To copy construct from a tensor, it is recommended to use sourceTensor.clone().detach() or sourceTensor.clone().detach().requires_grad_(True), rather than torch.tensor(sourceTensor).\n",
      "  nll = (0.5 * torch.tensor(results['obs_weight']) * torch.tensor(results['obs_flux'])**2)\n",
      "/tmp/ipykernel_5342/3808935312.py:8: UserWarning: To copy construct from a tensor, it is recommended to use sourceTensor.clone().detach() or sourceTensor.clone().detach().requires_grad_(True), rather than torch.tensor(sourceTensor).\n",
      "  kld = -0.5 * (1 + torch.tensor(results['encoding_logvar'], requires_grad=True)\n",
      "/tmp/ipykernel_5342/3808935312.py:9: UserWarning: To copy construct from a tensor, it is recommended to use sourceTensor.clone().detach() or sourceTensor.clone().detach().requires_grad_(True), rather than torch.tensor(sourceTensor).\n",
      "  - torch.tensor(results['encoding_mu'], requires_grad=True)**2\n",
      "/tmp/ipykernel_5342/3808935312.py:10: UserWarning: To copy construct from a tensor, it is recommended to use sourceTensor.clone().detach() or sourceTensor.clone().detach().requires_grad_(True), rather than torch.tensor(sourceTensor).\n",
      "  - torch.exp(torch.tensor(results['encoding_logvar'], requires_grad=True)))\n"
     ]
    },
    {
     "name": "stdout",
     "output_type": "stream",
     "text": [
      "Comenzo get_data\n",
      "Grid shape: (32, 2, 300)\n",
      "Paso el Get data\n",
      "Shape pre-encoder torch.Size([32, 5, 300])\n",
      "Shape Encoder: torch.Size([32, 64, 306])\n",
      "Shape mu: torch.Size([64, 20])\n",
      "Shape log_var: torch.Size([64, 20])\n"
     ]
    },
    {
     "name": "stderr",
     "output_type": "stream",
     "text": [
      "/tmp/ipykernel_5342/3808935312.py:7: UserWarning: To copy construct from a tensor, it is recommended to use sourceTensor.clone().detach() or sourceTensor.clone().detach().requires_grad_(True), rather than torch.tensor(sourceTensor).\n",
      "  nll = (0.5 * torch.tensor(results['obs_weight']) * torch.tensor(results['obs_flux'])**2)\n",
      "/tmp/ipykernel_5342/3808935312.py:8: UserWarning: To copy construct from a tensor, it is recommended to use sourceTensor.clone().detach() or sourceTensor.clone().detach().requires_grad_(True), rather than torch.tensor(sourceTensor).\n",
      "  kld = -0.5 * (1 + torch.tensor(results['encoding_logvar'], requires_grad=True)\n",
      "/tmp/ipykernel_5342/3808935312.py:9: UserWarning: To copy construct from a tensor, it is recommended to use sourceTensor.clone().detach() or sourceTensor.clone().detach().requires_grad_(True), rather than torch.tensor(sourceTensor).\n",
      "  - torch.tensor(results['encoding_mu'], requires_grad=True)**2\n",
      "/tmp/ipykernel_5342/3808935312.py:10: UserWarning: To copy construct from a tensor, it is recommended to use sourceTensor.clone().detach() or sourceTensor.clone().detach().requires_grad_(True), rather than torch.tensor(sourceTensor).\n",
      "  - torch.exp(torch.tensor(results['encoding_logvar'], requires_grad=True)))\n"
     ]
    },
    {
     "name": "stdout",
     "output_type": "stream",
     "text": [
      "Comenzo get_data\n",
      "Grid shape: (32, 2, 300)\n",
      "Paso el Get data\n",
      "Shape pre-encoder torch.Size([32, 5, 300])\n",
      "Shape Encoder: torch.Size([32, 64, 306])\n",
      "Shape mu: torch.Size([64, 20])\n",
      "Shape log_var: torch.Size([64, 20])\n"
     ]
    },
    {
     "name": "stderr",
     "output_type": "stream",
     "text": [
      "/tmp/ipykernel_5342/3808935312.py:7: UserWarning: To copy construct from a tensor, it is recommended to use sourceTensor.clone().detach() or sourceTensor.clone().detach().requires_grad_(True), rather than torch.tensor(sourceTensor).\n",
      "  nll = (0.5 * torch.tensor(results['obs_weight']) * torch.tensor(results['obs_flux'])**2)\n",
      "/tmp/ipykernel_5342/3808935312.py:8: UserWarning: To copy construct from a tensor, it is recommended to use sourceTensor.clone().detach() or sourceTensor.clone().detach().requires_grad_(True), rather than torch.tensor(sourceTensor).\n",
      "  kld = -0.5 * (1 + torch.tensor(results['encoding_logvar'], requires_grad=True)\n",
      "/tmp/ipykernel_5342/3808935312.py:9: UserWarning: To copy construct from a tensor, it is recommended to use sourceTensor.clone().detach() or sourceTensor.clone().detach().requires_grad_(True), rather than torch.tensor(sourceTensor).\n",
      "  - torch.tensor(results['encoding_mu'], requires_grad=True)**2\n",
      "/tmp/ipykernel_5342/3808935312.py:10: UserWarning: To copy construct from a tensor, it is recommended to use sourceTensor.clone().detach() or sourceTensor.clone().detach().requires_grad_(True), rather than torch.tensor(sourceTensor).\n",
      "  - torch.exp(torch.tensor(results['encoding_logvar'], requires_grad=True)))\n"
     ]
    },
    {
     "name": "stdout",
     "output_type": "stream",
     "text": [
      "Comenzo get_data\n",
      "Grid shape: (32, 2, 300)\n",
      "Paso el Get data\n",
      "Shape pre-encoder torch.Size([32, 5, 300])\n",
      "Shape Encoder: torch.Size([32, 64, 306])\n",
      "Shape mu: torch.Size([64, 20])\n",
      "Shape log_var: torch.Size([64, 20])\n"
     ]
    },
    {
     "name": "stderr",
     "output_type": "stream",
     "text": [
      "/tmp/ipykernel_5342/3808935312.py:7: UserWarning: To copy construct from a tensor, it is recommended to use sourceTensor.clone().detach() or sourceTensor.clone().detach().requires_grad_(True), rather than torch.tensor(sourceTensor).\n",
      "  nll = (0.5 * torch.tensor(results['obs_weight']) * torch.tensor(results['obs_flux'])**2)\n",
      "/tmp/ipykernel_5342/3808935312.py:8: UserWarning: To copy construct from a tensor, it is recommended to use sourceTensor.clone().detach() or sourceTensor.clone().detach().requires_grad_(True), rather than torch.tensor(sourceTensor).\n",
      "  kld = -0.5 * (1 + torch.tensor(results['encoding_logvar'], requires_grad=True)\n",
      "/tmp/ipykernel_5342/3808935312.py:9: UserWarning: To copy construct from a tensor, it is recommended to use sourceTensor.clone().detach() or sourceTensor.clone().detach().requires_grad_(True), rather than torch.tensor(sourceTensor).\n",
      "  - torch.tensor(results['encoding_mu'], requires_grad=True)**2\n",
      "/tmp/ipykernel_5342/3808935312.py:10: UserWarning: To copy construct from a tensor, it is recommended to use sourceTensor.clone().detach() or sourceTensor.clone().detach().requires_grad_(True), rather than torch.tensor(sourceTensor).\n",
      "  - torch.exp(torch.tensor(results['encoding_logvar'], requires_grad=True)))\n"
     ]
    },
    {
     "name": "stdout",
     "output_type": "stream",
     "text": [
      "Comenzo get_data\n",
      "Grid shape: (32, 2, 300)\n",
      "Paso el Get data\n",
      "Shape pre-encoder torch.Size([32, 5, 300])\n",
      "Shape Encoder: torch.Size([32, 64, 306])\n",
      "Shape mu: torch.Size([64, 20])\n",
      "Shape log_var: torch.Size([64, 20])\n"
     ]
    },
    {
     "name": "stderr",
     "output_type": "stream",
     "text": [
      "/tmp/ipykernel_5342/3808935312.py:7: UserWarning: To copy construct from a tensor, it is recommended to use sourceTensor.clone().detach() or sourceTensor.clone().detach().requires_grad_(True), rather than torch.tensor(sourceTensor).\n",
      "  nll = (0.5 * torch.tensor(results['obs_weight']) * torch.tensor(results['obs_flux'])**2)\n",
      "/tmp/ipykernel_5342/3808935312.py:8: UserWarning: To copy construct from a tensor, it is recommended to use sourceTensor.clone().detach() or sourceTensor.clone().detach().requires_grad_(True), rather than torch.tensor(sourceTensor).\n",
      "  kld = -0.5 * (1 + torch.tensor(results['encoding_logvar'], requires_grad=True)\n",
      "/tmp/ipykernel_5342/3808935312.py:9: UserWarning: To copy construct from a tensor, it is recommended to use sourceTensor.clone().detach() or sourceTensor.clone().detach().requires_grad_(True), rather than torch.tensor(sourceTensor).\n",
      "  - torch.tensor(results['encoding_mu'], requires_grad=True)**2\n",
      "/tmp/ipykernel_5342/3808935312.py:10: UserWarning: To copy construct from a tensor, it is recommended to use sourceTensor.clone().detach() or sourceTensor.clone().detach().requires_grad_(True), rather than torch.tensor(sourceTensor).\n",
      "  - torch.exp(torch.tensor(results['encoding_logvar'], requires_grad=True)))\n"
     ]
    },
    {
     "name": "stdout",
     "output_type": "stream",
     "text": [
      "Comenzo get_data\n",
      "Grid shape: (32, 2, 300)\n",
      "Paso el Get data\n",
      "Shape pre-encoder torch.Size([32, 5, 300])\n",
      "Shape Encoder: torch.Size([32, 64, 306])\n",
      "Shape mu: torch.Size([64, 20])\n",
      "Shape log_var: torch.Size([64, 20])\n"
     ]
    },
    {
     "name": "stderr",
     "output_type": "stream",
     "text": [
      "/tmp/ipykernel_5342/3808935312.py:7: UserWarning: To copy construct from a tensor, it is recommended to use sourceTensor.clone().detach() or sourceTensor.clone().detach().requires_grad_(True), rather than torch.tensor(sourceTensor).\n",
      "  nll = (0.5 * torch.tensor(results['obs_weight']) * torch.tensor(results['obs_flux'])**2)\n",
      "/tmp/ipykernel_5342/3808935312.py:8: UserWarning: To copy construct from a tensor, it is recommended to use sourceTensor.clone().detach() or sourceTensor.clone().detach().requires_grad_(True), rather than torch.tensor(sourceTensor).\n",
      "  kld = -0.5 * (1 + torch.tensor(results['encoding_logvar'], requires_grad=True)\n",
      "/tmp/ipykernel_5342/3808935312.py:9: UserWarning: To copy construct from a tensor, it is recommended to use sourceTensor.clone().detach() or sourceTensor.clone().detach().requires_grad_(True), rather than torch.tensor(sourceTensor).\n",
      "  - torch.tensor(results['encoding_mu'], requires_grad=True)**2\n",
      "/tmp/ipykernel_5342/3808935312.py:10: UserWarning: To copy construct from a tensor, it is recommended to use sourceTensor.clone().detach() or sourceTensor.clone().detach().requires_grad_(True), rather than torch.tensor(sourceTensor).\n",
      "  - torch.exp(torch.tensor(results['encoding_logvar'], requires_grad=True)))\n"
     ]
    },
    {
     "name": "stdout",
     "output_type": "stream",
     "text": [
      "Comenzo get_data\n",
      "Grid shape: (32, 2, 300)\n",
      "Paso el Get data\n",
      "Shape pre-encoder torch.Size([32, 5, 300])\n",
      "Shape Encoder: torch.Size([32, 64, 306])\n",
      "Shape mu: torch.Size([64, 20])\n",
      "Shape log_var: torch.Size([64, 20])\n"
     ]
    },
    {
     "name": "stderr",
     "output_type": "stream",
     "text": [
      "/tmp/ipykernel_5342/3808935312.py:7: UserWarning: To copy construct from a tensor, it is recommended to use sourceTensor.clone().detach() or sourceTensor.clone().detach().requires_grad_(True), rather than torch.tensor(sourceTensor).\n",
      "  nll = (0.5 * torch.tensor(results['obs_weight']) * torch.tensor(results['obs_flux'])**2)\n",
      "/tmp/ipykernel_5342/3808935312.py:8: UserWarning: To copy construct from a tensor, it is recommended to use sourceTensor.clone().detach() or sourceTensor.clone().detach().requires_grad_(True), rather than torch.tensor(sourceTensor).\n",
      "  kld = -0.5 * (1 + torch.tensor(results['encoding_logvar'], requires_grad=True)\n",
      "/tmp/ipykernel_5342/3808935312.py:9: UserWarning: To copy construct from a tensor, it is recommended to use sourceTensor.clone().detach() or sourceTensor.clone().detach().requires_grad_(True), rather than torch.tensor(sourceTensor).\n",
      "  - torch.tensor(results['encoding_mu'], requires_grad=True)**2\n",
      "/tmp/ipykernel_5342/3808935312.py:10: UserWarning: To copy construct from a tensor, it is recommended to use sourceTensor.clone().detach() or sourceTensor.clone().detach().requires_grad_(True), rather than torch.tensor(sourceTensor).\n",
      "  - torch.exp(torch.tensor(results['encoding_logvar'], requires_grad=True)))\n"
     ]
    },
    {
     "name": "stdout",
     "output_type": "stream",
     "text": [
      "Comenzo get_data\n",
      "Grid shape: (32, 2, 300)\n",
      "Paso el Get data\n",
      "Shape pre-encoder torch.Size([32, 5, 300])\n",
      "Shape Encoder: torch.Size([32, 64, 306])\n",
      "Shape mu: torch.Size([64, 20])\n",
      "Shape log_var: torch.Size([64, 20])\n"
     ]
    },
    {
     "name": "stderr",
     "output_type": "stream",
     "text": [
      "/tmp/ipykernel_5342/3808935312.py:7: UserWarning: To copy construct from a tensor, it is recommended to use sourceTensor.clone().detach() or sourceTensor.clone().detach().requires_grad_(True), rather than torch.tensor(sourceTensor).\n",
      "  nll = (0.5 * torch.tensor(results['obs_weight']) * torch.tensor(results['obs_flux'])**2)\n",
      "/tmp/ipykernel_5342/3808935312.py:8: UserWarning: To copy construct from a tensor, it is recommended to use sourceTensor.clone().detach() or sourceTensor.clone().detach().requires_grad_(True), rather than torch.tensor(sourceTensor).\n",
      "  kld = -0.5 * (1 + torch.tensor(results['encoding_logvar'], requires_grad=True)\n",
      "/tmp/ipykernel_5342/3808935312.py:9: UserWarning: To copy construct from a tensor, it is recommended to use sourceTensor.clone().detach() or sourceTensor.clone().detach().requires_grad_(True), rather than torch.tensor(sourceTensor).\n",
      "  - torch.tensor(results['encoding_mu'], requires_grad=True)**2\n",
      "/tmp/ipykernel_5342/3808935312.py:10: UserWarning: To copy construct from a tensor, it is recommended to use sourceTensor.clone().detach() or sourceTensor.clone().detach().requires_grad_(True), rather than torch.tensor(sourceTensor).\n",
      "  - torch.exp(torch.tensor(results['encoding_logvar'], requires_grad=True)))\n"
     ]
    },
    {
     "name": "stdout",
     "output_type": "stream",
     "text": [
      "Comenzo get_data\n",
      "Grid shape: (32, 2, 300)\n",
      "Paso el Get data\n",
      "Shape pre-encoder torch.Size([32, 5, 300])\n",
      "Shape Encoder: torch.Size([32, 64, 306])\n",
      "Shape mu: torch.Size([64, 20])\n",
      "Shape log_var: torch.Size([64, 20])\n"
     ]
    },
    {
     "name": "stderr",
     "output_type": "stream",
     "text": [
      "/tmp/ipykernel_5342/3808935312.py:7: UserWarning: To copy construct from a tensor, it is recommended to use sourceTensor.clone().detach() or sourceTensor.clone().detach().requires_grad_(True), rather than torch.tensor(sourceTensor).\n",
      "  nll = (0.5 * torch.tensor(results['obs_weight']) * torch.tensor(results['obs_flux'])**2)\n",
      "/tmp/ipykernel_5342/3808935312.py:8: UserWarning: To copy construct from a tensor, it is recommended to use sourceTensor.clone().detach() or sourceTensor.clone().detach().requires_grad_(True), rather than torch.tensor(sourceTensor).\n",
      "  kld = -0.5 * (1 + torch.tensor(results['encoding_logvar'], requires_grad=True)\n",
      "/tmp/ipykernel_5342/3808935312.py:9: UserWarning: To copy construct from a tensor, it is recommended to use sourceTensor.clone().detach() or sourceTensor.clone().detach().requires_grad_(True), rather than torch.tensor(sourceTensor).\n",
      "  - torch.tensor(results['encoding_mu'], requires_grad=True)**2\n",
      "/tmp/ipykernel_5342/3808935312.py:10: UserWarning: To copy construct from a tensor, it is recommended to use sourceTensor.clone().detach() or sourceTensor.clone().detach().requires_grad_(True), rather than torch.tensor(sourceTensor).\n",
      "  - torch.exp(torch.tensor(results['encoding_logvar'], requires_grad=True)))\n"
     ]
    },
    {
     "name": "stdout",
     "output_type": "stream",
     "text": [
      "Comenzo get_data\n",
      "Grid shape: (32, 2, 300)\n",
      "Paso el Get data\n",
      "Shape pre-encoder torch.Size([32, 5, 300])\n",
      "Shape Encoder: torch.Size([32, 64, 306])\n",
      "Shape mu: torch.Size([64, 20])\n",
      "Shape log_var: torch.Size([64, 20])\n"
     ]
    },
    {
     "name": "stderr",
     "output_type": "stream",
     "text": [
      "/tmp/ipykernel_5342/3808935312.py:7: UserWarning: To copy construct from a tensor, it is recommended to use sourceTensor.clone().detach() or sourceTensor.clone().detach().requires_grad_(True), rather than torch.tensor(sourceTensor).\n",
      "  nll = (0.5 * torch.tensor(results['obs_weight']) * torch.tensor(results['obs_flux'])**2)\n",
      "/tmp/ipykernel_5342/3808935312.py:8: UserWarning: To copy construct from a tensor, it is recommended to use sourceTensor.clone().detach() or sourceTensor.clone().detach().requires_grad_(True), rather than torch.tensor(sourceTensor).\n",
      "  kld = -0.5 * (1 + torch.tensor(results['encoding_logvar'], requires_grad=True)\n",
      "/tmp/ipykernel_5342/3808935312.py:9: UserWarning: To copy construct from a tensor, it is recommended to use sourceTensor.clone().detach() or sourceTensor.clone().detach().requires_grad_(True), rather than torch.tensor(sourceTensor).\n",
      "  - torch.tensor(results['encoding_mu'], requires_grad=True)**2\n",
      "/tmp/ipykernel_5342/3808935312.py:10: UserWarning: To copy construct from a tensor, it is recommended to use sourceTensor.clone().detach() or sourceTensor.clone().detach().requires_grad_(True), rather than torch.tensor(sourceTensor).\n",
      "  - torch.exp(torch.tensor(results['encoding_logvar'], requires_grad=True)))\n"
     ]
    },
    {
     "name": "stdout",
     "output_type": "stream",
     "text": [
      "Comenzo get_data\n",
      "Grid shape: (32, 2, 300)\n",
      "Paso el Get data\n",
      "Shape pre-encoder torch.Size([32, 5, 300])\n",
      "Shape Encoder: torch.Size([32, 64, 306])\n",
      "Shape mu: torch.Size([64, 20])\n",
      "Shape log_var: torch.Size([64, 20])\n"
     ]
    },
    {
     "name": "stderr",
     "output_type": "stream",
     "text": [
      "/tmp/ipykernel_5342/3808935312.py:7: UserWarning: To copy construct from a tensor, it is recommended to use sourceTensor.clone().detach() or sourceTensor.clone().detach().requires_grad_(True), rather than torch.tensor(sourceTensor).\n",
      "  nll = (0.5 * torch.tensor(results['obs_weight']) * torch.tensor(results['obs_flux'])**2)\n",
      "/tmp/ipykernel_5342/3808935312.py:8: UserWarning: To copy construct from a tensor, it is recommended to use sourceTensor.clone().detach() or sourceTensor.clone().detach().requires_grad_(True), rather than torch.tensor(sourceTensor).\n",
      "  kld = -0.5 * (1 + torch.tensor(results['encoding_logvar'], requires_grad=True)\n",
      "/tmp/ipykernel_5342/3808935312.py:9: UserWarning: To copy construct from a tensor, it is recommended to use sourceTensor.clone().detach() or sourceTensor.clone().detach().requires_grad_(True), rather than torch.tensor(sourceTensor).\n",
      "  - torch.tensor(results['encoding_mu'], requires_grad=True)**2\n",
      "/tmp/ipykernel_5342/3808935312.py:10: UserWarning: To copy construct from a tensor, it is recommended to use sourceTensor.clone().detach() or sourceTensor.clone().detach().requires_grad_(True), rather than torch.tensor(sourceTensor).\n",
      "  - torch.exp(torch.tensor(results['encoding_logvar'], requires_grad=True)))\n"
     ]
    },
    {
     "name": "stdout",
     "output_type": "stream",
     "text": [
      "Comenzo get_data\n",
      "Grid shape: (32, 2, 300)\n",
      "Paso el Get data\n",
      "Shape pre-encoder torch.Size([32, 5, 300])\n",
      "Shape Encoder: torch.Size([32, 64, 306])\n",
      "Shape mu: torch.Size([64, 20])\n",
      "Shape log_var: torch.Size([64, 20])\n"
     ]
    },
    {
     "name": "stderr",
     "output_type": "stream",
     "text": [
      "/tmp/ipykernel_5342/3808935312.py:7: UserWarning: To copy construct from a tensor, it is recommended to use sourceTensor.clone().detach() or sourceTensor.clone().detach().requires_grad_(True), rather than torch.tensor(sourceTensor).\n",
      "  nll = (0.5 * torch.tensor(results['obs_weight']) * torch.tensor(results['obs_flux'])**2)\n",
      "/tmp/ipykernel_5342/3808935312.py:8: UserWarning: To copy construct from a tensor, it is recommended to use sourceTensor.clone().detach() or sourceTensor.clone().detach().requires_grad_(True), rather than torch.tensor(sourceTensor).\n",
      "  kld = -0.5 * (1 + torch.tensor(results['encoding_logvar'], requires_grad=True)\n",
      "/tmp/ipykernel_5342/3808935312.py:9: UserWarning: To copy construct from a tensor, it is recommended to use sourceTensor.clone().detach() or sourceTensor.clone().detach().requires_grad_(True), rather than torch.tensor(sourceTensor).\n",
      "  - torch.tensor(results['encoding_mu'], requires_grad=True)**2\n",
      "/tmp/ipykernel_5342/3808935312.py:10: UserWarning: To copy construct from a tensor, it is recommended to use sourceTensor.clone().detach() or sourceTensor.clone().detach().requires_grad_(True), rather than torch.tensor(sourceTensor).\n",
      "  - torch.exp(torch.tensor(results['encoding_logvar'], requires_grad=True)))\n"
     ]
    },
    {
     "name": "stdout",
     "output_type": "stream",
     "text": [
      "Comenzo get_data\n",
      "Grid shape: (32, 2, 300)\n",
      "Paso el Get data\n",
      "Shape pre-encoder torch.Size([32, 5, 300])\n",
      "Shape Encoder: torch.Size([32, 64, 306])\n",
      "Shape mu: torch.Size([64, 20])\n",
      "Shape log_var: torch.Size([64, 20])\n"
     ]
    },
    {
     "name": "stderr",
     "output_type": "stream",
     "text": [
      "/tmp/ipykernel_5342/3808935312.py:7: UserWarning: To copy construct from a tensor, it is recommended to use sourceTensor.clone().detach() or sourceTensor.clone().detach().requires_grad_(True), rather than torch.tensor(sourceTensor).\n",
      "  nll = (0.5 * torch.tensor(results['obs_weight']) * torch.tensor(results['obs_flux'])**2)\n",
      "/tmp/ipykernel_5342/3808935312.py:8: UserWarning: To copy construct from a tensor, it is recommended to use sourceTensor.clone().detach() or sourceTensor.clone().detach().requires_grad_(True), rather than torch.tensor(sourceTensor).\n",
      "  kld = -0.5 * (1 + torch.tensor(results['encoding_logvar'], requires_grad=True)\n",
      "/tmp/ipykernel_5342/3808935312.py:9: UserWarning: To copy construct from a tensor, it is recommended to use sourceTensor.clone().detach() or sourceTensor.clone().detach().requires_grad_(True), rather than torch.tensor(sourceTensor).\n",
      "  - torch.tensor(results['encoding_mu'], requires_grad=True)**2\n",
      "/tmp/ipykernel_5342/3808935312.py:10: UserWarning: To copy construct from a tensor, it is recommended to use sourceTensor.clone().detach() or sourceTensor.clone().detach().requires_grad_(True), rather than torch.tensor(sourceTensor).\n",
      "  - torch.exp(torch.tensor(results['encoding_logvar'], requires_grad=True)))\n"
     ]
    },
    {
     "name": "stdout",
     "output_type": "stream",
     "text": [
      "Comenzo get_data\n",
      "Grid shape: (32, 2, 300)\n",
      "Paso el Get data\n",
      "Shape pre-encoder torch.Size([32, 5, 300])\n",
      "Shape Encoder: torch.Size([32, 64, 306])\n",
      "Shape mu: torch.Size([64, 20])\n",
      "Shape log_var: torch.Size([64, 20])\n"
     ]
    },
    {
     "name": "stderr",
     "output_type": "stream",
     "text": [
      "/tmp/ipykernel_5342/3808935312.py:7: UserWarning: To copy construct from a tensor, it is recommended to use sourceTensor.clone().detach() or sourceTensor.clone().detach().requires_grad_(True), rather than torch.tensor(sourceTensor).\n",
      "  nll = (0.5 * torch.tensor(results['obs_weight']) * torch.tensor(results['obs_flux'])**2)\n",
      "/tmp/ipykernel_5342/3808935312.py:8: UserWarning: To copy construct from a tensor, it is recommended to use sourceTensor.clone().detach() or sourceTensor.clone().detach().requires_grad_(True), rather than torch.tensor(sourceTensor).\n",
      "  kld = -0.5 * (1 + torch.tensor(results['encoding_logvar'], requires_grad=True)\n",
      "/tmp/ipykernel_5342/3808935312.py:9: UserWarning: To copy construct from a tensor, it is recommended to use sourceTensor.clone().detach() or sourceTensor.clone().detach().requires_grad_(True), rather than torch.tensor(sourceTensor).\n",
      "  - torch.tensor(results['encoding_mu'], requires_grad=True)**2\n",
      "/tmp/ipykernel_5342/3808935312.py:10: UserWarning: To copy construct from a tensor, it is recommended to use sourceTensor.clone().detach() or sourceTensor.clone().detach().requires_grad_(True), rather than torch.tensor(sourceTensor).\n",
      "  - torch.exp(torch.tensor(results['encoding_logvar'], requires_grad=True)))\n"
     ]
    },
    {
     "name": "stdout",
     "output_type": "stream",
     "text": [
      "Comenzo get_data\n",
      "Grid shape: (32, 2, 300)\n",
      "Paso el Get data\n",
      "Shape pre-encoder torch.Size([32, 5, 300])\n",
      "Shape Encoder: torch.Size([32, 64, 306])\n",
      "Shape mu: torch.Size([64, 20])\n",
      "Shape log_var: torch.Size([64, 20])\n"
     ]
    },
    {
     "name": "stderr",
     "output_type": "stream",
     "text": [
      "/tmp/ipykernel_5342/3808935312.py:7: UserWarning: To copy construct from a tensor, it is recommended to use sourceTensor.clone().detach() or sourceTensor.clone().detach().requires_grad_(True), rather than torch.tensor(sourceTensor).\n",
      "  nll = (0.5 * torch.tensor(results['obs_weight']) * torch.tensor(results['obs_flux'])**2)\n",
      "/tmp/ipykernel_5342/3808935312.py:8: UserWarning: To copy construct from a tensor, it is recommended to use sourceTensor.clone().detach() or sourceTensor.clone().detach().requires_grad_(True), rather than torch.tensor(sourceTensor).\n",
      "  kld = -0.5 * (1 + torch.tensor(results['encoding_logvar'], requires_grad=True)\n",
      "/tmp/ipykernel_5342/3808935312.py:9: UserWarning: To copy construct from a tensor, it is recommended to use sourceTensor.clone().detach() or sourceTensor.clone().detach().requires_grad_(True), rather than torch.tensor(sourceTensor).\n",
      "  - torch.tensor(results['encoding_mu'], requires_grad=True)**2\n",
      "/tmp/ipykernel_5342/3808935312.py:10: UserWarning: To copy construct from a tensor, it is recommended to use sourceTensor.clone().detach() or sourceTensor.clone().detach().requires_grad_(True), rather than torch.tensor(sourceTensor).\n",
      "  - torch.exp(torch.tensor(results['encoding_logvar'], requires_grad=True)))\n"
     ]
    },
    {
     "name": "stdout",
     "output_type": "stream",
     "text": [
      "Comenzo get_data\n",
      "Grid shape: (32, 2, 300)\n",
      "Paso el Get data\n",
      "Shape pre-encoder torch.Size([32, 5, 300])\n",
      "Shape Encoder: torch.Size([32, 64, 306])\n",
      "Shape mu: torch.Size([64, 20])\n",
      "Shape log_var: torch.Size([64, 20])\n"
     ]
    },
    {
     "name": "stderr",
     "output_type": "stream",
     "text": [
      "/tmp/ipykernel_5342/3808935312.py:7: UserWarning: To copy construct from a tensor, it is recommended to use sourceTensor.clone().detach() or sourceTensor.clone().detach().requires_grad_(True), rather than torch.tensor(sourceTensor).\n",
      "  nll = (0.5 * torch.tensor(results['obs_weight']) * torch.tensor(results['obs_flux'])**2)\n",
      "/tmp/ipykernel_5342/3808935312.py:8: UserWarning: To copy construct from a tensor, it is recommended to use sourceTensor.clone().detach() or sourceTensor.clone().detach().requires_grad_(True), rather than torch.tensor(sourceTensor).\n",
      "  kld = -0.5 * (1 + torch.tensor(results['encoding_logvar'], requires_grad=True)\n",
      "/tmp/ipykernel_5342/3808935312.py:9: UserWarning: To copy construct from a tensor, it is recommended to use sourceTensor.clone().detach() or sourceTensor.clone().detach().requires_grad_(True), rather than torch.tensor(sourceTensor).\n",
      "  - torch.tensor(results['encoding_mu'], requires_grad=True)**2\n",
      "/tmp/ipykernel_5342/3808935312.py:10: UserWarning: To copy construct from a tensor, it is recommended to use sourceTensor.clone().detach() or sourceTensor.clone().detach().requires_grad_(True), rather than torch.tensor(sourceTensor).\n",
      "  - torch.exp(torch.tensor(results['encoding_logvar'], requires_grad=True)))\n"
     ]
    },
    {
     "name": "stdout",
     "output_type": "stream",
     "text": [
      "Comenzo get_data\n",
      "Grid shape: (32, 2, 300)\n",
      "Paso el Get data\n",
      "Shape pre-encoder torch.Size([32, 5, 300])\n",
      "Shape Encoder: torch.Size([32, 64, 306])\n",
      "Shape mu: torch.Size([64, 20])\n",
      "Shape log_var: torch.Size([64, 20])\n"
     ]
    },
    {
     "name": "stderr",
     "output_type": "stream",
     "text": [
      "/tmp/ipykernel_5342/3808935312.py:7: UserWarning: To copy construct from a tensor, it is recommended to use sourceTensor.clone().detach() or sourceTensor.clone().detach().requires_grad_(True), rather than torch.tensor(sourceTensor).\n",
      "  nll = (0.5 * torch.tensor(results['obs_weight']) * torch.tensor(results['obs_flux'])**2)\n",
      "/tmp/ipykernel_5342/3808935312.py:8: UserWarning: To copy construct from a tensor, it is recommended to use sourceTensor.clone().detach() or sourceTensor.clone().detach().requires_grad_(True), rather than torch.tensor(sourceTensor).\n",
      "  kld = -0.5 * (1 + torch.tensor(results['encoding_logvar'], requires_grad=True)\n",
      "/tmp/ipykernel_5342/3808935312.py:9: UserWarning: To copy construct from a tensor, it is recommended to use sourceTensor.clone().detach() or sourceTensor.clone().detach().requires_grad_(True), rather than torch.tensor(sourceTensor).\n",
      "  - torch.tensor(results['encoding_mu'], requires_grad=True)**2\n",
      "/tmp/ipykernel_5342/3808935312.py:10: UserWarning: To copy construct from a tensor, it is recommended to use sourceTensor.clone().detach() or sourceTensor.clone().detach().requires_grad_(True), rather than torch.tensor(sourceTensor).\n",
      "  - torch.exp(torch.tensor(results['encoding_logvar'], requires_grad=True)))\n"
     ]
    },
    {
     "name": "stdout",
     "output_type": "stream",
     "text": [
      "Comenzo get_data\n",
      "Grid shape: (32, 2, 300)\n",
      "Paso el Get data\n",
      "Shape pre-encoder torch.Size([32, 5, 300])\n",
      "Shape Encoder: torch.Size([32, 64, 306])\n",
      "Shape mu: torch.Size([64, 20])\n",
      "Shape log_var: torch.Size([64, 20])\n"
     ]
    },
    {
     "name": "stderr",
     "output_type": "stream",
     "text": [
      "/tmp/ipykernel_5342/3808935312.py:7: UserWarning: To copy construct from a tensor, it is recommended to use sourceTensor.clone().detach() or sourceTensor.clone().detach().requires_grad_(True), rather than torch.tensor(sourceTensor).\n",
      "  nll = (0.5 * torch.tensor(results['obs_weight']) * torch.tensor(results['obs_flux'])**2)\n",
      "/tmp/ipykernel_5342/3808935312.py:8: UserWarning: To copy construct from a tensor, it is recommended to use sourceTensor.clone().detach() or sourceTensor.clone().detach().requires_grad_(True), rather than torch.tensor(sourceTensor).\n",
      "  kld = -0.5 * (1 + torch.tensor(results['encoding_logvar'], requires_grad=True)\n",
      "/tmp/ipykernel_5342/3808935312.py:9: UserWarning: To copy construct from a tensor, it is recommended to use sourceTensor.clone().detach() or sourceTensor.clone().detach().requires_grad_(True), rather than torch.tensor(sourceTensor).\n",
      "  - torch.tensor(results['encoding_mu'], requires_grad=True)**2\n",
      "/tmp/ipykernel_5342/3808935312.py:10: UserWarning: To copy construct from a tensor, it is recommended to use sourceTensor.clone().detach() or sourceTensor.clone().detach().requires_grad_(True), rather than torch.tensor(sourceTensor).\n",
      "  - torch.exp(torch.tensor(results['encoding_logvar'], requires_grad=True)))\n"
     ]
    },
    {
     "name": "stdout",
     "output_type": "stream",
     "text": [
      "Comenzo get_data\n",
      "Grid shape: (32, 2, 300)\n",
      "Paso el Get data\n",
      "Shape pre-encoder torch.Size([32, 5, 300])\n",
      "Shape Encoder: torch.Size([32, 64, 306])\n",
      "Shape mu: torch.Size([64, 20])\n",
      "Shape log_var: torch.Size([64, 20])\n"
     ]
    },
    {
     "name": "stderr",
     "output_type": "stream",
     "text": [
      "/tmp/ipykernel_5342/3808935312.py:7: UserWarning: To copy construct from a tensor, it is recommended to use sourceTensor.clone().detach() or sourceTensor.clone().detach().requires_grad_(True), rather than torch.tensor(sourceTensor).\n",
      "  nll = (0.5 * torch.tensor(results['obs_weight']) * torch.tensor(results['obs_flux'])**2)\n",
      "/tmp/ipykernel_5342/3808935312.py:8: UserWarning: To copy construct from a tensor, it is recommended to use sourceTensor.clone().detach() or sourceTensor.clone().detach().requires_grad_(True), rather than torch.tensor(sourceTensor).\n",
      "  kld = -0.5 * (1 + torch.tensor(results['encoding_logvar'], requires_grad=True)\n",
      "/tmp/ipykernel_5342/3808935312.py:9: UserWarning: To copy construct from a tensor, it is recommended to use sourceTensor.clone().detach() or sourceTensor.clone().detach().requires_grad_(True), rather than torch.tensor(sourceTensor).\n",
      "  - torch.tensor(results['encoding_mu'], requires_grad=True)**2\n",
      "/tmp/ipykernel_5342/3808935312.py:10: UserWarning: To copy construct from a tensor, it is recommended to use sourceTensor.clone().detach() or sourceTensor.clone().detach().requires_grad_(True), rather than torch.tensor(sourceTensor).\n",
      "  - torch.exp(torch.tensor(results['encoding_logvar'], requires_grad=True)))\n"
     ]
    },
    {
     "name": "stdout",
     "output_type": "stream",
     "text": [
      "Comenzo get_data\n",
      "Grid shape: (32, 2, 300)\n",
      "Paso el Get data\n",
      "Shape pre-encoder torch.Size([32, 5, 300])\n",
      "Shape Encoder: torch.Size([32, 64, 306])\n",
      "Shape mu: torch.Size([64, 20])\n",
      "Shape log_var: torch.Size([64, 20])\n"
     ]
    },
    {
     "name": "stderr",
     "output_type": "stream",
     "text": [
      "/tmp/ipykernel_5342/3808935312.py:7: UserWarning: To copy construct from a tensor, it is recommended to use sourceTensor.clone().detach() or sourceTensor.clone().detach().requires_grad_(True), rather than torch.tensor(sourceTensor).\n",
      "  nll = (0.5 * torch.tensor(results['obs_weight']) * torch.tensor(results['obs_flux'])**2)\n",
      "/tmp/ipykernel_5342/3808935312.py:8: UserWarning: To copy construct from a tensor, it is recommended to use sourceTensor.clone().detach() or sourceTensor.clone().detach().requires_grad_(True), rather than torch.tensor(sourceTensor).\n",
      "  kld = -0.5 * (1 + torch.tensor(results['encoding_logvar'], requires_grad=True)\n",
      "/tmp/ipykernel_5342/3808935312.py:9: UserWarning: To copy construct from a tensor, it is recommended to use sourceTensor.clone().detach() or sourceTensor.clone().detach().requires_grad_(True), rather than torch.tensor(sourceTensor).\n",
      "  - torch.tensor(results['encoding_mu'], requires_grad=True)**2\n",
      "/tmp/ipykernel_5342/3808935312.py:10: UserWarning: To copy construct from a tensor, it is recommended to use sourceTensor.clone().detach() or sourceTensor.clone().detach().requires_grad_(True), rather than torch.tensor(sourceTensor).\n",
      "  - torch.exp(torch.tensor(results['encoding_logvar'], requires_grad=True)))\n"
     ]
    },
    {
     "name": "stdout",
     "output_type": "stream",
     "text": [
      "Comenzo get_data\n",
      "Grid shape: (32, 2, 300)\n",
      "Paso el Get data\n",
      "Shape pre-encoder torch.Size([32, 5, 300])\n",
      "Shape Encoder: torch.Size([32, 64, 306])\n",
      "Shape mu: torch.Size([64, 20])\n",
      "Shape log_var: torch.Size([64, 20])\n"
     ]
    },
    {
     "name": "stderr",
     "output_type": "stream",
     "text": [
      "/tmp/ipykernel_5342/3808935312.py:7: UserWarning: To copy construct from a tensor, it is recommended to use sourceTensor.clone().detach() or sourceTensor.clone().detach().requires_grad_(True), rather than torch.tensor(sourceTensor).\n",
      "  nll = (0.5 * torch.tensor(results['obs_weight']) * torch.tensor(results['obs_flux'])**2)\n",
      "/tmp/ipykernel_5342/3808935312.py:8: UserWarning: To copy construct from a tensor, it is recommended to use sourceTensor.clone().detach() or sourceTensor.clone().detach().requires_grad_(True), rather than torch.tensor(sourceTensor).\n",
      "  kld = -0.5 * (1 + torch.tensor(results['encoding_logvar'], requires_grad=True)\n",
      "/tmp/ipykernel_5342/3808935312.py:9: UserWarning: To copy construct from a tensor, it is recommended to use sourceTensor.clone().detach() or sourceTensor.clone().detach().requires_grad_(True), rather than torch.tensor(sourceTensor).\n",
      "  - torch.tensor(results['encoding_mu'], requires_grad=True)**2\n",
      "/tmp/ipykernel_5342/3808935312.py:10: UserWarning: To copy construct from a tensor, it is recommended to use sourceTensor.clone().detach() or sourceTensor.clone().detach().requires_grad_(True), rather than torch.tensor(sourceTensor).\n",
      "  - torch.exp(torch.tensor(results['encoding_logvar'], requires_grad=True)))\n"
     ]
    },
    {
     "name": "stdout",
     "output_type": "stream",
     "text": [
      "Comenzo get_data\n",
      "Grid shape: (32, 2, 300)\n",
      "Paso el Get data\n",
      "Shape pre-encoder torch.Size([32, 5, 300])\n",
      "Shape Encoder: torch.Size([32, 64, 306])\n",
      "Shape mu: torch.Size([64, 20])\n",
      "Shape log_var: torch.Size([64, 20])\n"
     ]
    },
    {
     "name": "stderr",
     "output_type": "stream",
     "text": [
      "/tmp/ipykernel_5342/3808935312.py:7: UserWarning: To copy construct from a tensor, it is recommended to use sourceTensor.clone().detach() or sourceTensor.clone().detach().requires_grad_(True), rather than torch.tensor(sourceTensor).\n",
      "  nll = (0.5 * torch.tensor(results['obs_weight']) * torch.tensor(results['obs_flux'])**2)\n",
      "/tmp/ipykernel_5342/3808935312.py:8: UserWarning: To copy construct from a tensor, it is recommended to use sourceTensor.clone().detach() or sourceTensor.clone().detach().requires_grad_(True), rather than torch.tensor(sourceTensor).\n",
      "  kld = -0.5 * (1 + torch.tensor(results['encoding_logvar'], requires_grad=True)\n",
      "/tmp/ipykernel_5342/3808935312.py:9: UserWarning: To copy construct from a tensor, it is recommended to use sourceTensor.clone().detach() or sourceTensor.clone().detach().requires_grad_(True), rather than torch.tensor(sourceTensor).\n",
      "  - torch.tensor(results['encoding_mu'], requires_grad=True)**2\n",
      "/tmp/ipykernel_5342/3808935312.py:10: UserWarning: To copy construct from a tensor, it is recommended to use sourceTensor.clone().detach() or sourceTensor.clone().detach().requires_grad_(True), rather than torch.tensor(sourceTensor).\n",
      "  - torch.exp(torch.tensor(results['encoding_logvar'], requires_grad=True)))\n"
     ]
    },
    {
     "name": "stdout",
     "output_type": "stream",
     "text": [
      "Comenzo get_data\n",
      "Grid shape: (32, 2, 300)\n",
      "Paso el Get data\n",
      "Shape pre-encoder torch.Size([32, 5, 300])\n",
      "Shape Encoder: torch.Size([32, 64, 306])\n",
      "Shape mu: torch.Size([64, 20])\n",
      "Shape log_var: torch.Size([64, 20])\n"
     ]
    },
    {
     "name": "stderr",
     "output_type": "stream",
     "text": [
      "/tmp/ipykernel_5342/3808935312.py:7: UserWarning: To copy construct from a tensor, it is recommended to use sourceTensor.clone().detach() or sourceTensor.clone().detach().requires_grad_(True), rather than torch.tensor(sourceTensor).\n",
      "  nll = (0.5 * torch.tensor(results['obs_weight']) * torch.tensor(results['obs_flux'])**2)\n",
      "/tmp/ipykernel_5342/3808935312.py:8: UserWarning: To copy construct from a tensor, it is recommended to use sourceTensor.clone().detach() or sourceTensor.clone().detach().requires_grad_(True), rather than torch.tensor(sourceTensor).\n",
      "  kld = -0.5 * (1 + torch.tensor(results['encoding_logvar'], requires_grad=True)\n",
      "/tmp/ipykernel_5342/3808935312.py:9: UserWarning: To copy construct from a tensor, it is recommended to use sourceTensor.clone().detach() or sourceTensor.clone().detach().requires_grad_(True), rather than torch.tensor(sourceTensor).\n",
      "  - torch.tensor(results['encoding_mu'], requires_grad=True)**2\n",
      "/tmp/ipykernel_5342/3808935312.py:10: UserWarning: To copy construct from a tensor, it is recommended to use sourceTensor.clone().detach() or sourceTensor.clone().detach().requires_grad_(True), rather than torch.tensor(sourceTensor).\n",
      "  - torch.exp(torch.tensor(results['encoding_logvar'], requires_grad=True)))\n"
     ]
    },
    {
     "name": "stdout",
     "output_type": "stream",
     "text": [
      "Comenzo get_data\n",
      "Grid shape: (32, 2, 300)\n",
      "Paso el Get data\n",
      "Shape pre-encoder torch.Size([32, 5, 300])\n",
      "Shape Encoder: torch.Size([32, 64, 306])\n",
      "Shape mu: torch.Size([64, 20])\n",
      "Shape log_var: torch.Size([64, 20])\n"
     ]
    },
    {
     "name": "stderr",
     "output_type": "stream",
     "text": [
      "/tmp/ipykernel_5342/3808935312.py:7: UserWarning: To copy construct from a tensor, it is recommended to use sourceTensor.clone().detach() or sourceTensor.clone().detach().requires_grad_(True), rather than torch.tensor(sourceTensor).\n",
      "  nll = (0.5 * torch.tensor(results['obs_weight']) * torch.tensor(results['obs_flux'])**2)\n",
      "/tmp/ipykernel_5342/3808935312.py:8: UserWarning: To copy construct from a tensor, it is recommended to use sourceTensor.clone().detach() or sourceTensor.clone().detach().requires_grad_(True), rather than torch.tensor(sourceTensor).\n",
      "  kld = -0.5 * (1 + torch.tensor(results['encoding_logvar'], requires_grad=True)\n",
      "/tmp/ipykernel_5342/3808935312.py:9: UserWarning: To copy construct from a tensor, it is recommended to use sourceTensor.clone().detach() or sourceTensor.clone().detach().requires_grad_(True), rather than torch.tensor(sourceTensor).\n",
      "  - torch.tensor(results['encoding_mu'], requires_grad=True)**2\n",
      "/tmp/ipykernel_5342/3808935312.py:10: UserWarning: To copy construct from a tensor, it is recommended to use sourceTensor.clone().detach() or sourceTensor.clone().detach().requires_grad_(True), rather than torch.tensor(sourceTensor).\n",
      "  - torch.exp(torch.tensor(results['encoding_logvar'], requires_grad=True)))\n"
     ]
    },
    {
     "name": "stdout",
     "output_type": "stream",
     "text": [
      "Comenzo get_data\n",
      "Grid shape: (32, 2, 300)\n",
      "Paso el Get data\n",
      "Shape pre-encoder torch.Size([32, 5, 300])\n",
      "Shape Encoder: torch.Size([32, 64, 306])\n",
      "Shape mu: torch.Size([64, 20])\n",
      "Shape log_var: torch.Size([64, 20])\n"
     ]
    },
    {
     "name": "stderr",
     "output_type": "stream",
     "text": [
      "/tmp/ipykernel_5342/3808935312.py:7: UserWarning: To copy construct from a tensor, it is recommended to use sourceTensor.clone().detach() or sourceTensor.clone().detach().requires_grad_(True), rather than torch.tensor(sourceTensor).\n",
      "  nll = (0.5 * torch.tensor(results['obs_weight']) * torch.tensor(results['obs_flux'])**2)\n",
      "/tmp/ipykernel_5342/3808935312.py:8: UserWarning: To copy construct from a tensor, it is recommended to use sourceTensor.clone().detach() or sourceTensor.clone().detach().requires_grad_(True), rather than torch.tensor(sourceTensor).\n",
      "  kld = -0.5 * (1 + torch.tensor(results['encoding_logvar'], requires_grad=True)\n",
      "/tmp/ipykernel_5342/3808935312.py:9: UserWarning: To copy construct from a tensor, it is recommended to use sourceTensor.clone().detach() or sourceTensor.clone().detach().requires_grad_(True), rather than torch.tensor(sourceTensor).\n",
      "  - torch.tensor(results['encoding_mu'], requires_grad=True)**2\n",
      "/tmp/ipykernel_5342/3808935312.py:10: UserWarning: To copy construct from a tensor, it is recommended to use sourceTensor.clone().detach() or sourceTensor.clone().detach().requires_grad_(True), rather than torch.tensor(sourceTensor).\n",
      "  - torch.exp(torch.tensor(results['encoding_logvar'], requires_grad=True)))\n"
     ]
    },
    {
     "name": "stdout",
     "output_type": "stream",
     "text": [
      "Comenzo get_data\n",
      "Grid shape: (32, 2, 300)\n",
      "Paso el Get data\n",
      "Shape pre-encoder torch.Size([32, 5, 300])\n",
      "Shape Encoder: torch.Size([32, 64, 306])\n",
      "Shape mu: torch.Size([64, 20])\n",
      "Shape log_var: torch.Size([64, 20])\n"
     ]
    },
    {
     "name": "stderr",
     "output_type": "stream",
     "text": [
      "/tmp/ipykernel_5342/3808935312.py:7: UserWarning: To copy construct from a tensor, it is recommended to use sourceTensor.clone().detach() or sourceTensor.clone().detach().requires_grad_(True), rather than torch.tensor(sourceTensor).\n",
      "  nll = (0.5 * torch.tensor(results['obs_weight']) * torch.tensor(results['obs_flux'])**2)\n",
      "/tmp/ipykernel_5342/3808935312.py:8: UserWarning: To copy construct from a tensor, it is recommended to use sourceTensor.clone().detach() or sourceTensor.clone().detach().requires_grad_(True), rather than torch.tensor(sourceTensor).\n",
      "  kld = -0.5 * (1 + torch.tensor(results['encoding_logvar'], requires_grad=True)\n",
      "/tmp/ipykernel_5342/3808935312.py:9: UserWarning: To copy construct from a tensor, it is recommended to use sourceTensor.clone().detach() or sourceTensor.clone().detach().requires_grad_(True), rather than torch.tensor(sourceTensor).\n",
      "  - torch.tensor(results['encoding_mu'], requires_grad=True)**2\n",
      "/tmp/ipykernel_5342/3808935312.py:10: UserWarning: To copy construct from a tensor, it is recommended to use sourceTensor.clone().detach() or sourceTensor.clone().detach().requires_grad_(True), rather than torch.tensor(sourceTensor).\n",
      "  - torch.exp(torch.tensor(results['encoding_logvar'], requires_grad=True)))\n"
     ]
    },
    {
     "name": "stdout",
     "output_type": "stream",
     "text": [
      "Comenzo get_data\n",
      "Grid shape: (32, 2, 300)\n",
      "Paso el Get data\n",
      "Shape pre-encoder torch.Size([32, 5, 300])\n",
      "Shape Encoder: torch.Size([32, 64, 306])\n",
      "Shape mu: torch.Size([64, 20])\n",
      "Shape log_var: torch.Size([64, 20])\n"
     ]
    },
    {
     "name": "stderr",
     "output_type": "stream",
     "text": [
      "/tmp/ipykernel_5342/3808935312.py:7: UserWarning: To copy construct from a tensor, it is recommended to use sourceTensor.clone().detach() or sourceTensor.clone().detach().requires_grad_(True), rather than torch.tensor(sourceTensor).\n",
      "  nll = (0.5 * torch.tensor(results['obs_weight']) * torch.tensor(results['obs_flux'])**2)\n",
      "/tmp/ipykernel_5342/3808935312.py:8: UserWarning: To copy construct from a tensor, it is recommended to use sourceTensor.clone().detach() or sourceTensor.clone().detach().requires_grad_(True), rather than torch.tensor(sourceTensor).\n",
      "  kld = -0.5 * (1 + torch.tensor(results['encoding_logvar'], requires_grad=True)\n",
      "/tmp/ipykernel_5342/3808935312.py:9: UserWarning: To copy construct from a tensor, it is recommended to use sourceTensor.clone().detach() or sourceTensor.clone().detach().requires_grad_(True), rather than torch.tensor(sourceTensor).\n",
      "  - torch.tensor(results['encoding_mu'], requires_grad=True)**2\n",
      "/tmp/ipykernel_5342/3808935312.py:10: UserWarning: To copy construct from a tensor, it is recommended to use sourceTensor.clone().detach() or sourceTensor.clone().detach().requires_grad_(True), rather than torch.tensor(sourceTensor).\n",
      "  - torch.exp(torch.tensor(results['encoding_logvar'], requires_grad=True)))\n"
     ]
    },
    {
     "name": "stdout",
     "output_type": "stream",
     "text": [
      "Comenzo get_data\n",
      "Grid shape: (32, 2, 300)\n",
      "Paso el Get data\n",
      "Shape pre-encoder torch.Size([32, 5, 300])\n",
      "Shape Encoder: torch.Size([32, 64, 306])\n",
      "Shape mu: torch.Size([64, 20])\n",
      "Shape log_var: torch.Size([64, 20])\n"
     ]
    },
    {
     "name": "stderr",
     "output_type": "stream",
     "text": [
      "/tmp/ipykernel_5342/3808935312.py:7: UserWarning: To copy construct from a tensor, it is recommended to use sourceTensor.clone().detach() or sourceTensor.clone().detach().requires_grad_(True), rather than torch.tensor(sourceTensor).\n",
      "  nll = (0.5 * torch.tensor(results['obs_weight']) * torch.tensor(results['obs_flux'])**2)\n",
      "/tmp/ipykernel_5342/3808935312.py:8: UserWarning: To copy construct from a tensor, it is recommended to use sourceTensor.clone().detach() or sourceTensor.clone().detach().requires_grad_(True), rather than torch.tensor(sourceTensor).\n",
      "  kld = -0.5 * (1 + torch.tensor(results['encoding_logvar'], requires_grad=True)\n",
      "/tmp/ipykernel_5342/3808935312.py:9: UserWarning: To copy construct from a tensor, it is recommended to use sourceTensor.clone().detach() or sourceTensor.clone().detach().requires_grad_(True), rather than torch.tensor(sourceTensor).\n",
      "  - torch.tensor(results['encoding_mu'], requires_grad=True)**2\n",
      "/tmp/ipykernel_5342/3808935312.py:10: UserWarning: To copy construct from a tensor, it is recommended to use sourceTensor.clone().detach() or sourceTensor.clone().detach().requires_grad_(True), rather than torch.tensor(sourceTensor).\n",
      "  - torch.exp(torch.tensor(results['encoding_logvar'], requires_grad=True)))\n"
     ]
    },
    {
     "name": "stdout",
     "output_type": "stream",
     "text": [
      "Comenzo get_data\n",
      "Grid shape: (32, 2, 300)\n",
      "Paso el Get data\n",
      "Shape pre-encoder torch.Size([32, 5, 300])\n",
      "Shape Encoder: torch.Size([32, 64, 306])\n",
      "Shape mu: torch.Size([64, 20])\n",
      "Shape log_var: torch.Size([64, 20])\n"
     ]
    },
    {
     "name": "stderr",
     "output_type": "stream",
     "text": [
      "/tmp/ipykernel_5342/3808935312.py:7: UserWarning: To copy construct from a tensor, it is recommended to use sourceTensor.clone().detach() or sourceTensor.clone().detach().requires_grad_(True), rather than torch.tensor(sourceTensor).\n",
      "  nll = (0.5 * torch.tensor(results['obs_weight']) * torch.tensor(results['obs_flux'])**2)\n",
      "/tmp/ipykernel_5342/3808935312.py:8: UserWarning: To copy construct from a tensor, it is recommended to use sourceTensor.clone().detach() or sourceTensor.clone().detach().requires_grad_(True), rather than torch.tensor(sourceTensor).\n",
      "  kld = -0.5 * (1 + torch.tensor(results['encoding_logvar'], requires_grad=True)\n",
      "/tmp/ipykernel_5342/3808935312.py:9: UserWarning: To copy construct from a tensor, it is recommended to use sourceTensor.clone().detach() or sourceTensor.clone().detach().requires_grad_(True), rather than torch.tensor(sourceTensor).\n",
      "  - torch.tensor(results['encoding_mu'], requires_grad=True)**2\n",
      "/tmp/ipykernel_5342/3808935312.py:10: UserWarning: To copy construct from a tensor, it is recommended to use sourceTensor.clone().detach() or sourceTensor.clone().detach().requires_grad_(True), rather than torch.tensor(sourceTensor).\n",
      "  - torch.exp(torch.tensor(results['encoding_logvar'], requires_grad=True)))\n"
     ]
    },
    {
     "name": "stdout",
     "output_type": "stream",
     "text": [
      "Comenzo get_data\n",
      "Grid shape: (32, 2, 300)\n",
      "Paso el Get data\n",
      "Shape pre-encoder torch.Size([32, 5, 300])\n",
      "Shape Encoder: torch.Size([32, 64, 306])\n",
      "Shape mu: torch.Size([64, 20])\n",
      "Shape log_var: torch.Size([64, 20])\n"
     ]
    },
    {
     "name": "stderr",
     "output_type": "stream",
     "text": [
      "/tmp/ipykernel_5342/3808935312.py:7: UserWarning: To copy construct from a tensor, it is recommended to use sourceTensor.clone().detach() or sourceTensor.clone().detach().requires_grad_(True), rather than torch.tensor(sourceTensor).\n",
      "  nll = (0.5 * torch.tensor(results['obs_weight']) * torch.tensor(results['obs_flux'])**2)\n",
      "/tmp/ipykernel_5342/3808935312.py:8: UserWarning: To copy construct from a tensor, it is recommended to use sourceTensor.clone().detach() or sourceTensor.clone().detach().requires_grad_(True), rather than torch.tensor(sourceTensor).\n",
      "  kld = -0.5 * (1 + torch.tensor(results['encoding_logvar'], requires_grad=True)\n",
      "/tmp/ipykernel_5342/3808935312.py:9: UserWarning: To copy construct from a tensor, it is recommended to use sourceTensor.clone().detach() or sourceTensor.clone().detach().requires_grad_(True), rather than torch.tensor(sourceTensor).\n",
      "  - torch.tensor(results['encoding_mu'], requires_grad=True)**2\n",
      "/tmp/ipykernel_5342/3808935312.py:10: UserWarning: To copy construct from a tensor, it is recommended to use sourceTensor.clone().detach() or sourceTensor.clone().detach().requires_grad_(True), rather than torch.tensor(sourceTensor).\n",
      "  - torch.exp(torch.tensor(results['encoding_logvar'], requires_grad=True)))\n"
     ]
    },
    {
     "name": "stdout",
     "output_type": "stream",
     "text": [
      "Comenzo get_data\n",
      "Grid shape: (32, 2, 300)\n",
      "Paso el Get data\n",
      "Shape pre-encoder torch.Size([32, 5, 300])\n",
      "Shape Encoder: torch.Size([32, 64, 306])\n",
      "Shape mu: torch.Size([64, 20])\n",
      "Shape log_var: torch.Size([64, 20])\n"
     ]
    },
    {
     "name": "stderr",
     "output_type": "stream",
     "text": [
      "/tmp/ipykernel_5342/3808935312.py:7: UserWarning: To copy construct from a tensor, it is recommended to use sourceTensor.clone().detach() or sourceTensor.clone().detach().requires_grad_(True), rather than torch.tensor(sourceTensor).\n",
      "  nll = (0.5 * torch.tensor(results['obs_weight']) * torch.tensor(results['obs_flux'])**2)\n",
      "/tmp/ipykernel_5342/3808935312.py:8: UserWarning: To copy construct from a tensor, it is recommended to use sourceTensor.clone().detach() or sourceTensor.clone().detach().requires_grad_(True), rather than torch.tensor(sourceTensor).\n",
      "  kld = -0.5 * (1 + torch.tensor(results['encoding_logvar'], requires_grad=True)\n",
      "/tmp/ipykernel_5342/3808935312.py:9: UserWarning: To copy construct from a tensor, it is recommended to use sourceTensor.clone().detach() or sourceTensor.clone().detach().requires_grad_(True), rather than torch.tensor(sourceTensor).\n",
      "  - torch.tensor(results['encoding_mu'], requires_grad=True)**2\n",
      "/tmp/ipykernel_5342/3808935312.py:10: UserWarning: To copy construct from a tensor, it is recommended to use sourceTensor.clone().detach() or sourceTensor.clone().detach().requires_grad_(True), rather than torch.tensor(sourceTensor).\n",
      "  - torch.exp(torch.tensor(results['encoding_logvar'], requires_grad=True)))\n"
     ]
    },
    {
     "name": "stdout",
     "output_type": "stream",
     "text": [
      "Comenzo get_data\n",
      "Grid shape: (32, 2, 300)\n",
      "Paso el Get data\n",
      "Shape pre-encoder torch.Size([32, 5, 300])\n",
      "Shape Encoder: torch.Size([32, 64, 306])\n",
      "Shape mu: torch.Size([64, 20])\n",
      "Shape log_var: torch.Size([64, 20])\n"
     ]
    },
    {
     "name": "stderr",
     "output_type": "stream",
     "text": [
      "/tmp/ipykernel_5342/3808935312.py:7: UserWarning: To copy construct from a tensor, it is recommended to use sourceTensor.clone().detach() or sourceTensor.clone().detach().requires_grad_(True), rather than torch.tensor(sourceTensor).\n",
      "  nll = (0.5 * torch.tensor(results['obs_weight']) * torch.tensor(results['obs_flux'])**2)\n",
      "/tmp/ipykernel_5342/3808935312.py:8: UserWarning: To copy construct from a tensor, it is recommended to use sourceTensor.clone().detach() or sourceTensor.clone().detach().requires_grad_(True), rather than torch.tensor(sourceTensor).\n",
      "  kld = -0.5 * (1 + torch.tensor(results['encoding_logvar'], requires_grad=True)\n",
      "/tmp/ipykernel_5342/3808935312.py:9: UserWarning: To copy construct from a tensor, it is recommended to use sourceTensor.clone().detach() or sourceTensor.clone().detach().requires_grad_(True), rather than torch.tensor(sourceTensor).\n",
      "  - torch.tensor(results['encoding_mu'], requires_grad=True)**2\n",
      "/tmp/ipykernel_5342/3808935312.py:10: UserWarning: To copy construct from a tensor, it is recommended to use sourceTensor.clone().detach() or sourceTensor.clone().detach().requires_grad_(True), rather than torch.tensor(sourceTensor).\n",
      "  - torch.exp(torch.tensor(results['encoding_logvar'], requires_grad=True)))\n"
     ]
    },
    {
     "name": "stdout",
     "output_type": "stream",
     "text": [
      "Comenzo get_data\n",
      "Grid shape: (32, 2, 300)\n",
      "Paso el Get data\n",
      "Shape pre-encoder torch.Size([32, 5, 300])\n",
      "Shape Encoder: torch.Size([32, 64, 306])\n",
      "Shape mu: torch.Size([64, 20])\n",
      "Shape log_var: torch.Size([64, 20])\n"
     ]
    },
    {
     "name": "stderr",
     "output_type": "stream",
     "text": [
      "/tmp/ipykernel_5342/3808935312.py:7: UserWarning: To copy construct from a tensor, it is recommended to use sourceTensor.clone().detach() or sourceTensor.clone().detach().requires_grad_(True), rather than torch.tensor(sourceTensor).\n",
      "  nll = (0.5 * torch.tensor(results['obs_weight']) * torch.tensor(results['obs_flux'])**2)\n",
      "/tmp/ipykernel_5342/3808935312.py:8: UserWarning: To copy construct from a tensor, it is recommended to use sourceTensor.clone().detach() or sourceTensor.clone().detach().requires_grad_(True), rather than torch.tensor(sourceTensor).\n",
      "  kld = -0.5 * (1 + torch.tensor(results['encoding_logvar'], requires_grad=True)\n",
      "/tmp/ipykernel_5342/3808935312.py:9: UserWarning: To copy construct from a tensor, it is recommended to use sourceTensor.clone().detach() or sourceTensor.clone().detach().requires_grad_(True), rather than torch.tensor(sourceTensor).\n",
      "  - torch.tensor(results['encoding_mu'], requires_grad=True)**2\n",
      "/tmp/ipykernel_5342/3808935312.py:10: UserWarning: To copy construct from a tensor, it is recommended to use sourceTensor.clone().detach() or sourceTensor.clone().detach().requires_grad_(True), rather than torch.tensor(sourceTensor).\n",
      "  - torch.exp(torch.tensor(results['encoding_logvar'], requires_grad=True)))\n"
     ]
    },
    {
     "name": "stdout",
     "output_type": "stream",
     "text": [
      "Comenzo get_data\n",
      "Grid shape: (32, 2, 300)\n",
      "Paso el Get data\n",
      "Shape pre-encoder torch.Size([32, 5, 300])\n",
      "Shape Encoder: torch.Size([32, 64, 306])\n",
      "Shape mu: torch.Size([64, 20])\n",
      "Shape log_var: torch.Size([64, 20])\n"
     ]
    },
    {
     "name": "stderr",
     "output_type": "stream",
     "text": [
      "/tmp/ipykernel_5342/3808935312.py:7: UserWarning: To copy construct from a tensor, it is recommended to use sourceTensor.clone().detach() or sourceTensor.clone().detach().requires_grad_(True), rather than torch.tensor(sourceTensor).\n",
      "  nll = (0.5 * torch.tensor(results['obs_weight']) * torch.tensor(results['obs_flux'])**2)\n",
      "/tmp/ipykernel_5342/3808935312.py:8: UserWarning: To copy construct from a tensor, it is recommended to use sourceTensor.clone().detach() or sourceTensor.clone().detach().requires_grad_(True), rather than torch.tensor(sourceTensor).\n",
      "  kld = -0.5 * (1 + torch.tensor(results['encoding_logvar'], requires_grad=True)\n",
      "/tmp/ipykernel_5342/3808935312.py:9: UserWarning: To copy construct from a tensor, it is recommended to use sourceTensor.clone().detach() or sourceTensor.clone().detach().requires_grad_(True), rather than torch.tensor(sourceTensor).\n",
      "  - torch.tensor(results['encoding_mu'], requires_grad=True)**2\n",
      "/tmp/ipykernel_5342/3808935312.py:10: UserWarning: To copy construct from a tensor, it is recommended to use sourceTensor.clone().detach() or sourceTensor.clone().detach().requires_grad_(True), rather than torch.tensor(sourceTensor).\n",
      "  - torch.exp(torch.tensor(results['encoding_logvar'], requires_grad=True)))\n"
     ]
    },
    {
     "name": "stdout",
     "output_type": "stream",
     "text": [
      "Comenzo get_data\n",
      "Grid shape: (32, 2, 300)\n",
      "Paso el Get data\n",
      "Shape pre-encoder torch.Size([32, 5, 300])\n",
      "Shape Encoder: torch.Size([32, 64, 306])\n",
      "Shape mu: torch.Size([64, 20])\n",
      "Shape log_var: torch.Size([64, 20])\n"
     ]
    },
    {
     "name": "stderr",
     "output_type": "stream",
     "text": [
      "/tmp/ipykernel_5342/3808935312.py:7: UserWarning: To copy construct from a tensor, it is recommended to use sourceTensor.clone().detach() or sourceTensor.clone().detach().requires_grad_(True), rather than torch.tensor(sourceTensor).\n",
      "  nll = (0.5 * torch.tensor(results['obs_weight']) * torch.tensor(results['obs_flux'])**2)\n",
      "/tmp/ipykernel_5342/3808935312.py:8: UserWarning: To copy construct from a tensor, it is recommended to use sourceTensor.clone().detach() or sourceTensor.clone().detach().requires_grad_(True), rather than torch.tensor(sourceTensor).\n",
      "  kld = -0.5 * (1 + torch.tensor(results['encoding_logvar'], requires_grad=True)\n",
      "/tmp/ipykernel_5342/3808935312.py:9: UserWarning: To copy construct from a tensor, it is recommended to use sourceTensor.clone().detach() or sourceTensor.clone().detach().requires_grad_(True), rather than torch.tensor(sourceTensor).\n",
      "  - torch.tensor(results['encoding_mu'], requires_grad=True)**2\n",
      "/tmp/ipykernel_5342/3808935312.py:10: UserWarning: To copy construct from a tensor, it is recommended to use sourceTensor.clone().detach() or sourceTensor.clone().detach().requires_grad_(True), rather than torch.tensor(sourceTensor).\n",
      "  - torch.exp(torch.tensor(results['encoding_logvar'], requires_grad=True)))\n"
     ]
    },
    {
     "name": "stdout",
     "output_type": "stream",
     "text": [
      "Comenzo get_data\n",
      "Grid shape: (32, 2, 300)\n",
      "Paso el Get data\n",
      "Shape pre-encoder torch.Size([32, 5, 300])\n",
      "Shape Encoder: torch.Size([32, 64, 306])\n",
      "Shape mu: torch.Size([64, 20])\n",
      "Shape log_var: torch.Size([64, 20])\n"
     ]
    },
    {
     "name": "stderr",
     "output_type": "stream",
     "text": [
      "/tmp/ipykernel_5342/3808935312.py:7: UserWarning: To copy construct from a tensor, it is recommended to use sourceTensor.clone().detach() or sourceTensor.clone().detach().requires_grad_(True), rather than torch.tensor(sourceTensor).\n",
      "  nll = (0.5 * torch.tensor(results['obs_weight']) * torch.tensor(results['obs_flux'])**2)\n",
      "/tmp/ipykernel_5342/3808935312.py:8: UserWarning: To copy construct from a tensor, it is recommended to use sourceTensor.clone().detach() or sourceTensor.clone().detach().requires_grad_(True), rather than torch.tensor(sourceTensor).\n",
      "  kld = -0.5 * (1 + torch.tensor(results['encoding_logvar'], requires_grad=True)\n",
      "/tmp/ipykernel_5342/3808935312.py:9: UserWarning: To copy construct from a tensor, it is recommended to use sourceTensor.clone().detach() or sourceTensor.clone().detach().requires_grad_(True), rather than torch.tensor(sourceTensor).\n",
      "  - torch.tensor(results['encoding_mu'], requires_grad=True)**2\n",
      "/tmp/ipykernel_5342/3808935312.py:10: UserWarning: To copy construct from a tensor, it is recommended to use sourceTensor.clone().detach() or sourceTensor.clone().detach().requires_grad_(True), rather than torch.tensor(sourceTensor).\n",
      "  - torch.exp(torch.tensor(results['encoding_logvar'], requires_grad=True)))\n"
     ]
    },
    {
     "name": "stdout",
     "output_type": "stream",
     "text": [
      "Comenzo get_data\n",
      "Grid shape: (32, 2, 300)\n",
      "Paso el Get data\n",
      "Shape pre-encoder torch.Size([32, 5, 300])\n",
      "Shape Encoder: torch.Size([32, 64, 306])\n",
      "Shape mu: torch.Size([64, 20])\n",
      "Shape log_var: torch.Size([64, 20])\n"
     ]
    },
    {
     "name": "stderr",
     "output_type": "stream",
     "text": [
      "/tmp/ipykernel_5342/3808935312.py:7: UserWarning: To copy construct from a tensor, it is recommended to use sourceTensor.clone().detach() or sourceTensor.clone().detach().requires_grad_(True), rather than torch.tensor(sourceTensor).\n",
      "  nll = (0.5 * torch.tensor(results['obs_weight']) * torch.tensor(results['obs_flux'])**2)\n",
      "/tmp/ipykernel_5342/3808935312.py:8: UserWarning: To copy construct from a tensor, it is recommended to use sourceTensor.clone().detach() or sourceTensor.clone().detach().requires_grad_(True), rather than torch.tensor(sourceTensor).\n",
      "  kld = -0.5 * (1 + torch.tensor(results['encoding_logvar'], requires_grad=True)\n",
      "/tmp/ipykernel_5342/3808935312.py:9: UserWarning: To copy construct from a tensor, it is recommended to use sourceTensor.clone().detach() or sourceTensor.clone().detach().requires_grad_(True), rather than torch.tensor(sourceTensor).\n",
      "  - torch.tensor(results['encoding_mu'], requires_grad=True)**2\n",
      "/tmp/ipykernel_5342/3808935312.py:10: UserWarning: To copy construct from a tensor, it is recommended to use sourceTensor.clone().detach() or sourceTensor.clone().detach().requires_grad_(True), rather than torch.tensor(sourceTensor).\n",
      "  - torch.exp(torch.tensor(results['encoding_logvar'], requires_grad=True)))\n"
     ]
    },
    {
     "name": "stdout",
     "output_type": "stream",
     "text": [
      "Comenzo get_data\n",
      "Grid shape: (9, 2, 300)\n",
      "Paso el Get data\n",
      "Shape pre-encoder torch.Size([9, 5, 300])\n",
      "Shape Encoder: torch.Size([9, 64, 306])\n"
     ]
    },
    {
     "ename": "RuntimeError",
     "evalue": "mat1 and mat2 shapes cannot be multiplied (64x2754 and 9792x64)",
     "output_type": "error",
     "traceback": [
      "\u001b[0;31m---------------------------------------------------------------------------\u001b[0m",
      "\u001b[0;31mRuntimeError\u001b[0m                              Traceback (most recent call last)",
      "Cell \u001b[0;32mIn[66], line 6\u001b[0m\n\u001b[1;32m      4\u001b[0m test_loss \u001b[38;5;241m=\u001b[39m \u001b[38;5;241m0.0\u001b[39m\n\u001b[1;32m      5\u001b[0m \u001b[38;5;28;01mfor\u001b[39;00m batch \u001b[38;5;129;01min\u001b[39;00m test_loader:\n\u001b[0;32m----> 6\u001b[0m     results \u001b[38;5;241m=\u001b[39m \u001b[43mmodel\u001b[49m\u001b[38;5;241;43m.\u001b[39;49m\u001b[43mobtain_results\u001b[49m\u001b[43m(\u001b[49m\u001b[43mbatch\u001b[49m\u001b[43m)\u001b[49m\n\u001b[1;32m      7\u001b[0m     predictions\u001b[38;5;241m.\u001b[39mappend(results)\n\u001b[1;32m      8\u001b[0m     loss \u001b[38;5;241m=\u001b[39m loss_function(results)\n",
      "Cell \u001b[0;32mIn[43], line 79\u001b[0m, in \u001b[0;36mModelV1.obtain_results\u001b[0;34m(self, light_curves)\u001b[0m\n\u001b[1;32m     76\u001b[0m \u001b[38;5;28mprint\u001b[39m(\u001b[38;5;124m'\u001b[39m\u001b[38;5;124mPaso el Get data\u001b[39m\u001b[38;5;124m'\u001b[39m)\n\u001b[1;32m     78\u001b[0m \u001b[38;5;66;03m# Encode the light_curves\u001b[39;00m\n\u001b[0;32m---> 79\u001b[0m encoding_mu, encoding_logvar \u001b[38;5;241m=\u001b[39m \u001b[38;5;28;43mself\u001b[39;49m\u001b[38;5;241;43m.\u001b[39;49m\u001b[43mencode\u001b[49m\u001b[43m(\u001b[49m\u001b[43mdata\u001b[49m\u001b[43m[\u001b[49m\u001b[38;5;124;43m'\u001b[39;49m\u001b[38;5;124;43minput_data\u001b[39;49m\u001b[38;5;124;43m'\u001b[39;49m\u001b[43m]\u001b[49m\u001b[43m)\u001b[49m\n\u001b[1;32m     80\u001b[0m \u001b[38;5;66;03m#print(encoding_mu)\u001b[39;00m\n\u001b[1;32m     81\u001b[0m \u001b[38;5;66;03m#print(encoding_logvar)\u001b[39;00m\n\u001b[1;32m     83\u001b[0m time \u001b[38;5;241m=\u001b[39m data[\u001b[38;5;124m'\u001b[39m\u001b[38;5;124mcompare_data\u001b[39m\u001b[38;5;124m'\u001b[39m][:,\u001b[38;5;241m0\u001b[39m]\n",
      "Cell \u001b[0;32mIn[43], line 49\u001b[0m, in \u001b[0;36mModelV1.encode\u001b[0;34m(self, x)\u001b[0m\n\u001b[1;32m     47\u001b[0m x \u001b[38;5;241m=\u001b[39m x\u001b[38;5;241m.\u001b[39mview(\u001b[38;5;241m64\u001b[39m, \u001b[38;5;241m-\u001b[39m\u001b[38;5;241m1\u001b[39m) \u001b[38;5;66;03m# Flatten the output, keeping batch dimension\u001b[39;00m\n\u001b[1;32m     48\u001b[0m \u001b[38;5;66;03m#print('Shape after flattening:', x.shape)\u001b[39;00m\n\u001b[0;32m---> 49\u001b[0m x \u001b[38;5;241m=\u001b[39m \u001b[38;5;28;43mself\u001b[39;49m\u001b[38;5;241;43m.\u001b[39;49m\u001b[43mlinear\u001b[49m\u001b[43m(\u001b[49m\u001b[43mx\u001b[49m\u001b[43m)\u001b[49m\n\u001b[1;32m     50\u001b[0m mu, log_var \u001b[38;5;241m=\u001b[39m \u001b[38;5;28mself\u001b[39m\u001b[38;5;241m.\u001b[39mencode_mean(x), \u001b[38;5;28mself\u001b[39m\u001b[38;5;241m.\u001b[39mencode_logvar(x)\n\u001b[1;32m     51\u001b[0m \u001b[38;5;28mprint\u001b[39m(\u001b[38;5;124m'\u001b[39m\u001b[38;5;124mShape mu:\u001b[39m\u001b[38;5;124m'\u001b[39m,mu\u001b[38;5;241m.\u001b[39mshape)\n",
      "File \u001b[0;32m~/.local/lib/python3.12/site-packages/torch/nn/modules/module.py:1553\u001b[0m, in \u001b[0;36mModule._wrapped_call_impl\u001b[0;34m(self, *args, **kwargs)\u001b[0m\n\u001b[1;32m   1551\u001b[0m     \u001b[38;5;28;01mreturn\u001b[39;00m \u001b[38;5;28mself\u001b[39m\u001b[38;5;241m.\u001b[39m_compiled_call_impl(\u001b[38;5;241m*\u001b[39margs, \u001b[38;5;241m*\u001b[39m\u001b[38;5;241m*\u001b[39mkwargs)  \u001b[38;5;66;03m# type: ignore[misc]\u001b[39;00m\n\u001b[1;32m   1552\u001b[0m \u001b[38;5;28;01melse\u001b[39;00m:\n\u001b[0;32m-> 1553\u001b[0m     \u001b[38;5;28;01mreturn\u001b[39;00m \u001b[38;5;28;43mself\u001b[39;49m\u001b[38;5;241;43m.\u001b[39;49m\u001b[43m_call_impl\u001b[49m\u001b[43m(\u001b[49m\u001b[38;5;241;43m*\u001b[39;49m\u001b[43margs\u001b[49m\u001b[43m,\u001b[49m\u001b[43m \u001b[49m\u001b[38;5;241;43m*\u001b[39;49m\u001b[38;5;241;43m*\u001b[39;49m\u001b[43mkwargs\u001b[49m\u001b[43m)\u001b[49m\n",
      "File \u001b[0;32m~/.local/lib/python3.12/site-packages/torch/nn/modules/module.py:1562\u001b[0m, in \u001b[0;36mModule._call_impl\u001b[0;34m(self, *args, **kwargs)\u001b[0m\n\u001b[1;32m   1557\u001b[0m \u001b[38;5;66;03m# If we don't have any hooks, we want to skip the rest of the logic in\u001b[39;00m\n\u001b[1;32m   1558\u001b[0m \u001b[38;5;66;03m# this function, and just call forward.\u001b[39;00m\n\u001b[1;32m   1559\u001b[0m \u001b[38;5;28;01mif\u001b[39;00m \u001b[38;5;129;01mnot\u001b[39;00m (\u001b[38;5;28mself\u001b[39m\u001b[38;5;241m.\u001b[39m_backward_hooks \u001b[38;5;129;01mor\u001b[39;00m \u001b[38;5;28mself\u001b[39m\u001b[38;5;241m.\u001b[39m_backward_pre_hooks \u001b[38;5;129;01mor\u001b[39;00m \u001b[38;5;28mself\u001b[39m\u001b[38;5;241m.\u001b[39m_forward_hooks \u001b[38;5;129;01mor\u001b[39;00m \u001b[38;5;28mself\u001b[39m\u001b[38;5;241m.\u001b[39m_forward_pre_hooks\n\u001b[1;32m   1560\u001b[0m         \u001b[38;5;129;01mor\u001b[39;00m _global_backward_pre_hooks \u001b[38;5;129;01mor\u001b[39;00m _global_backward_hooks\n\u001b[1;32m   1561\u001b[0m         \u001b[38;5;129;01mor\u001b[39;00m _global_forward_hooks \u001b[38;5;129;01mor\u001b[39;00m _global_forward_pre_hooks):\n\u001b[0;32m-> 1562\u001b[0m     \u001b[38;5;28;01mreturn\u001b[39;00m \u001b[43mforward_call\u001b[49m\u001b[43m(\u001b[49m\u001b[38;5;241;43m*\u001b[39;49m\u001b[43margs\u001b[49m\u001b[43m,\u001b[49m\u001b[43m \u001b[49m\u001b[38;5;241;43m*\u001b[39;49m\u001b[38;5;241;43m*\u001b[39;49m\u001b[43mkwargs\u001b[49m\u001b[43m)\u001b[49m\n\u001b[1;32m   1564\u001b[0m \u001b[38;5;28;01mtry\u001b[39;00m:\n\u001b[1;32m   1565\u001b[0m     result \u001b[38;5;241m=\u001b[39m \u001b[38;5;28;01mNone\u001b[39;00m\n",
      "File \u001b[0;32m~/.local/lib/python3.12/site-packages/torch/nn/modules/linear.py:117\u001b[0m, in \u001b[0;36mLinear.forward\u001b[0;34m(self, input)\u001b[0m\n\u001b[1;32m    116\u001b[0m \u001b[38;5;28;01mdef\u001b[39;00m \u001b[38;5;21mforward\u001b[39m(\u001b[38;5;28mself\u001b[39m, \u001b[38;5;28minput\u001b[39m: Tensor) \u001b[38;5;241m-\u001b[39m\u001b[38;5;241m>\u001b[39m Tensor:\n\u001b[0;32m--> 117\u001b[0m     \u001b[38;5;28;01mreturn\u001b[39;00m \u001b[43mF\u001b[49m\u001b[38;5;241;43m.\u001b[39;49m\u001b[43mlinear\u001b[49m\u001b[43m(\u001b[49m\u001b[38;5;28;43minput\u001b[39;49m\u001b[43m,\u001b[49m\u001b[43m \u001b[49m\u001b[38;5;28;43mself\u001b[39;49m\u001b[38;5;241;43m.\u001b[39;49m\u001b[43mweight\u001b[49m\u001b[43m,\u001b[49m\u001b[43m \u001b[49m\u001b[38;5;28;43mself\u001b[39;49m\u001b[38;5;241;43m.\u001b[39;49m\u001b[43mbias\u001b[49m\u001b[43m)\u001b[49m\n",
      "\u001b[0;31mRuntimeError\u001b[0m: mat1 and mat2 shapes cannot be multiplied (64x2754 and 9792x64)"
     ]
    }
   ],
   "source": [
    "predictions = []\n",
    "model.eval()\n",
    "with torch.inference_mode():\n",
    "    test_loss = 0.0\n",
    "    for batch in test_loader:\n",
    "        results = model.obtain_results(batch)\n",
    "        predictions.append(results)\n",
    "        loss = loss_function(results)\n",
    "\n",
    "        test_loss += loss.item()\n",
    "\n",
    "    print(f'Test Loss: {test_loss / len(batch)}')"
   ]
  },
  {
   "cell_type": "code",
   "execution_count": 49,
   "metadata": {},
   "outputs": [
    {
     "name": "stdout",
     "output_type": "stream",
     "text": [
      "Comenzo get_data\n",
      "fid:\n",
      " 0     1\n",
      "1     2\n",
      "2     1\n",
      "3     2\n",
      "4     1\n",
      "     ..\n",
      "95    2\n",
      "96    1\n",
      "97    2\n",
      "98    1\n",
      "99    2\n",
      "Name: fid, Length: 100, dtype: int64\n",
      "Creo el grid\n",
      "fid:\n",
      " 0     1\n",
      "1     2\n",
      "2     1\n",
      "3     2\n",
      "4     1\n",
      "     ..\n",
      "95    2\n",
      "96    1\n",
      "97    2\n",
      "98    1\n",
      "99    2\n",
      "Name: fid, Length: 100, dtype: int64\n",
      "Creo el grid\n",
      "fid:\n",
      " 0     1\n",
      "1     2\n",
      "2     1\n",
      "3     2\n",
      "4     1\n",
      "     ..\n",
      "95    2\n",
      "96    1\n",
      "97    2\n",
      "98    1\n",
      "99    2\n",
      "Name: fid, Length: 100, dtype: int64\n",
      "Creo el grid\n",
      "fid:\n",
      " 0     1\n",
      "1     2\n",
      "2     1\n",
      "3     2\n",
      "4     1\n",
      "     ..\n",
      "95    2\n",
      "96    1\n",
      "97    2\n",
      "98    1\n",
      "99    2\n",
      "Name: fid, Length: 100, dtype: int64\n",
      "Creo el grid\n",
      "fid:\n",
      " 0     1\n",
      "1     2\n",
      "2     1\n",
      "3     2\n",
      "4     1\n",
      "     ..\n",
      "95    2\n",
      "96    1\n",
      "97    2\n",
      "98    1\n",
      "99    2\n",
      "Name: fid, Length: 100, dtype: int64\n",
      "Creo el grid\n",
      "fid:\n",
      " 0     1\n",
      "1     2\n",
      "2     1\n",
      "3     2\n",
      "4     1\n",
      "     ..\n",
      "95    2\n",
      "96    1\n",
      "97    2\n",
      "98    1\n",
      "99    2\n",
      "Name: fid, Length: 100, dtype: int64\n",
      "Creo el grid\n",
      "fid:\n",
      " 0     1\n",
      "1     2\n",
      "2     1\n",
      "3     2\n",
      "4     1\n",
      "     ..\n",
      "95    2\n",
      "96    1\n",
      "97    2\n",
      "98    1\n",
      "99    2\n",
      "Name: fid, Length: 100, dtype: int64\n",
      "Creo el grid\n",
      "fid:\n",
      " 0     1\n",
      "1     2\n",
      "2     1\n",
      "3     2\n",
      "4     1\n",
      "     ..\n",
      "95    2\n",
      "96    1\n",
      "97    2\n",
      "98    1\n",
      "99    2\n",
      "Name: fid, Length: 100, dtype: int64\n",
      "Creo el grid\n",
      "fid:\n",
      " 0     1\n",
      "1     2\n",
      "2     1\n",
      "3     2\n",
      "4     1\n",
      "     ..\n",
      "95    2\n",
      "96    1\n",
      "97    2\n",
      "98    1\n",
      "99    2\n",
      "Name: fid, Length: 100, dtype: int64\n",
      "Creo el grid\n",
      "fid:\n",
      " 0     1\n",
      "1     2\n",
      "2     1\n",
      "3     2\n",
      "4     1\n",
      "     ..\n",
      "95    2\n",
      "96    1\n",
      "97    2\n",
      "98    1\n",
      "99    2\n",
      "Name: fid, Length: 100, dtype: int64\n",
      "Creo el grid\n",
      "fid:\n",
      " 0     1\n",
      "1     2\n",
      "2     1\n",
      "3     2\n",
      "4     1\n",
      "     ..\n",
      "95    2\n",
      "96    1\n",
      "97    2\n",
      "98    1\n",
      "99    2\n",
      "Name: fid, Length: 100, dtype: int64\n",
      "Creo el grid\n",
      "fid:\n",
      " 0     1\n",
      "1     2\n",
      "2     1\n",
      "3     2\n",
      "4     1\n",
      "     ..\n",
      "95    2\n",
      "96    1\n",
      "97    2\n",
      "98    1\n",
      "99    2\n",
      "Name: fid, Length: 100, dtype: int64\n",
      "Creo el grid\n",
      "fid:\n",
      " 0     1\n",
      "1     2\n",
      "2     1\n",
      "3     2\n",
      "4     1\n",
      "     ..\n",
      "95    2\n",
      "96    1\n",
      "97    2\n",
      "98    1\n",
      "99    2\n",
      "Name: fid, Length: 100, dtype: int64\n",
      "Creo el grid\n",
      "fid:\n",
      " 0     1\n",
      "1     2\n",
      "2     1\n",
      "3     2\n",
      "4     1\n",
      "     ..\n",
      "95    2\n",
      "96    1\n",
      "97    2\n",
      "98    1\n",
      "99    2\n",
      "Name: fid, Length: 100, dtype: int64\n",
      "Creo el grid\n",
      "fid:\n",
      " 0     1\n",
      "1     2\n",
      "2     1\n",
      "3     2\n",
      "4     1\n",
      "     ..\n",
      "95    2\n",
      "96    1\n",
      "97    2\n",
      "98    1\n",
      "99    2\n",
      "Name: fid, Length: 100, dtype: int64\n",
      "Creo el grid\n",
      "fid:\n",
      " 0     1\n",
      "1     2\n",
      "2     1\n",
      "3     2\n",
      "4     1\n",
      "     ..\n",
      "95    2\n",
      "96    1\n",
      "97    2\n",
      "98    1\n",
      "99    2\n",
      "Name: fid, Length: 100, dtype: int64\n",
      "Creo el grid\n",
      "fid:\n",
      " 0     1\n",
      "1     2\n",
      "2     1\n",
      "3     2\n",
      "4     1\n",
      "     ..\n",
      "95    2\n",
      "96    1\n",
      "97    2\n",
      "98    1\n",
      "99    2\n",
      "Name: fid, Length: 100, dtype: int64\n",
      "Creo el grid\n",
      "fid:\n",
      " 0     1\n",
      "1     2\n",
      "2     1\n",
      "3     2\n",
      "4     1\n",
      "     ..\n",
      "95    2\n",
      "96    1\n",
      "97    2\n",
      "98    1\n",
      "99    2\n",
      "Name: fid, Length: 100, dtype: int64\n",
      "Creo el grid\n",
      "fid:\n",
      " 0     1\n",
      "1     2\n",
      "2     1\n",
      "3     2\n",
      "4     1\n",
      "     ..\n",
      "95    2\n",
      "96    1\n",
      "97    2\n",
      "98    1\n",
      "99    2\n",
      "Name: fid, Length: 100, dtype: int64\n",
      "Creo el grid\n",
      "fid:\n",
      " 0     1\n",
      "1     2\n",
      "2     1\n",
      "3     2\n",
      "4     1\n",
      "     ..\n",
      "95    2\n",
      "96    1\n",
      "97    2\n",
      "98    1\n",
      "99    2\n",
      "Name: fid, Length: 100, dtype: int64\n",
      "Creo el grid\n",
      "fid:\n",
      " 0     1\n",
      "1     2\n",
      "2     1\n",
      "3     2\n",
      "4     1\n",
      "     ..\n",
      "95    2\n",
      "96    1\n",
      "97    2\n",
      "98    1\n",
      "99    2\n",
      "Name: fid, Length: 100, dtype: int64\n",
      "Creo el grid\n",
      "fid:\n",
      " 0     1\n",
      "1     2\n",
      "2     1\n",
      "3     2\n",
      "4     1\n",
      "     ..\n",
      "95    2\n",
      "96    1\n",
      "97    2\n",
      "98    1\n",
      "99    2\n",
      "Name: fid, Length: 100, dtype: int64\n",
      "Creo el grid\n",
      "fid:\n",
      " 0     1\n",
      "1     2\n",
      "2     1\n",
      "3     2\n",
      "4     1\n",
      "     ..\n",
      "95    2\n",
      "96    1\n",
      "97    2\n",
      "98    1\n",
      "99    2\n",
      "Name: fid, Length: 100, dtype: int64\n",
      "Creo el grid\n",
      "fid:\n",
      " 0     1\n",
      "1     2\n",
      "2     1\n",
      "3     2\n",
      "4     1\n",
      "     ..\n",
      "95    2\n",
      "96    1\n",
      "97    2\n",
      "98    1\n",
      "99    2\n",
      "Name: fid, Length: 100, dtype: int64\n",
      "Creo el grid\n",
      "fid:\n",
      " 0     1\n",
      "1     2\n",
      "2     1\n",
      "3     2\n",
      "4     1\n",
      "     ..\n",
      "95    2\n",
      "96    1\n",
      "97    2\n",
      "98    1\n",
      "99    2\n",
      "Name: fid, Length: 100, dtype: int64\n",
      "Creo el grid\n",
      "fid:\n",
      " 0     1\n",
      "1     2\n",
      "2     1\n",
      "3     2\n",
      "4     1\n",
      "     ..\n",
      "95    2\n",
      "96    1\n",
      "97    2\n",
      "98    1\n",
      "99    2\n",
      "Name: fid, Length: 100, dtype: int64\n",
      "Creo el grid\n",
      "fid:\n",
      " 0     1\n",
      "1     2\n",
      "2     1\n",
      "3     2\n",
      "4     1\n",
      "     ..\n",
      "95    2\n",
      "96    1\n",
      "97    2\n",
      "98    1\n",
      "99    2\n",
      "Name: fid, Length: 100, dtype: int64\n",
      "Creo el grid\n",
      "fid:\n",
      " 0     1\n",
      "1     2\n",
      "2     1\n",
      "3     2\n",
      "4     1\n",
      "     ..\n",
      "95    2\n",
      "96    1\n",
      "97    2\n",
      "98    1\n",
      "99    2\n",
      "Name: fid, Length: 100, dtype: int64\n",
      "Creo el grid\n",
      "fid:\n",
      " 0     1\n",
      "1     2\n",
      "2     1\n",
      "3     2\n",
      "4     1\n",
      "     ..\n",
      "95    2\n",
      "96    1\n",
      "97    2\n",
      "98    1\n",
      "99    2\n",
      "Name: fid, Length: 100, dtype: int64\n",
      "Creo el grid\n",
      "fid:\n",
      " 0     1\n",
      "1     2\n",
      "2     1\n",
      "3     2\n",
      "4     1\n",
      "     ..\n",
      "95    2\n",
      "96    1\n",
      "97    2\n",
      "98    1\n",
      "99    2\n",
      "Name: fid, Length: 100, dtype: int64\n",
      "Creo el grid\n",
      "fid:\n",
      " 0     1\n",
      "1     2\n",
      "2     1\n",
      "3     2\n",
      "4     1\n",
      "     ..\n",
      "95    2\n",
      "96    1\n",
      "97    2\n",
      "98    1\n",
      "99    2\n",
      "Name: fid, Length: 100, dtype: int64\n",
      "Creo el grid\n",
      "fid:\n",
      " 0     1\n",
      "1     2\n",
      "2     1\n",
      "3     2\n",
      "4     1\n",
      "     ..\n",
      "95    2\n",
      "96    1\n",
      "97    2\n",
      "98    1\n",
      "99    2\n",
      "Name: fid, Length: 100, dtype: int64\n",
      "Creo el grid\n",
      "Paso el Get data\n",
      "Shape pre-encoder torch.Size([32, 5, 300])\n",
      "Shape Encoder: torch.Size([32, 64, 306])\n",
      "Shape mu: torch.Size([64, 20])\n",
      "Shape log_var: torch.Size([64, 20])\n"
     ]
    },
    {
     "name": "stderr",
     "output_type": "stream",
     "text": [
      "/tmp/ipykernel_5342/3808935312.py:7: UserWarning: To copy construct from a tensor, it is recommended to use sourceTensor.clone().detach() or sourceTensor.clone().detach().requires_grad_(True), rather than torch.tensor(sourceTensor).\n",
      "  nll = (0.5 * torch.tensor(results['obs_weight']) * torch.tensor(results['obs_flux'])**2)\n",
      "/tmp/ipykernel_5342/3808935312.py:8: UserWarning: To copy construct from a tensor, it is recommended to use sourceTensor.clone().detach() or sourceTensor.clone().detach().requires_grad_(True), rather than torch.tensor(sourceTensor).\n",
      "  kld = -0.5 * (1 + torch.tensor(results['encoding_logvar'], requires_grad=True)\n",
      "/tmp/ipykernel_5342/3808935312.py:9: UserWarning: To copy construct from a tensor, it is recommended to use sourceTensor.clone().detach() or sourceTensor.clone().detach().requires_grad_(True), rather than torch.tensor(sourceTensor).\n",
      "  - torch.tensor(results['encoding_mu'], requires_grad=True)**2\n",
      "/tmp/ipykernel_5342/3808935312.py:10: UserWarning: To copy construct from a tensor, it is recommended to use sourceTensor.clone().detach() or sourceTensor.clone().detach().requires_grad_(True), rather than torch.tensor(sourceTensor).\n",
      "  - torch.exp(torch.tensor(results['encoding_logvar'], requires_grad=True)))\n"
     ]
    },
    {
     "name": "stdout",
     "output_type": "stream",
     "text": [
      "Comenzo get_data\n",
      "fid:\n",
      " 0     1\n",
      "1     2\n",
      "2     1\n",
      "3     2\n",
      "4     1\n",
      "     ..\n",
      "95    2\n",
      "96    1\n",
      "97    2\n",
      "98    1\n",
      "99    2\n",
      "Name: fid, Length: 100, dtype: int64\n",
      "Creo el grid\n",
      "fid:\n",
      " 0     1\n",
      "1     2\n",
      "2     1\n",
      "3     2\n",
      "4     1\n",
      "     ..\n",
      "95    2\n",
      "96    1\n",
      "97    2\n",
      "98    1\n",
      "99    2\n",
      "Name: fid, Length: 100, dtype: int64\n",
      "Creo el grid\n",
      "fid:\n",
      " 0     1\n",
      "1     2\n",
      "2     1\n",
      "3     2\n",
      "4     1\n",
      "     ..\n",
      "95    2\n",
      "96    1\n",
      "97    2\n",
      "98    1\n",
      "99    2\n",
      "Name: fid, Length: 100, dtype: int64\n",
      "Creo el grid\n",
      "fid:\n",
      " 0     1\n",
      "1     2\n",
      "2     1\n",
      "3     2\n",
      "4     1\n",
      "     ..\n",
      "95    2\n",
      "96    1\n",
      "97    2\n",
      "98    1\n",
      "99    2\n",
      "Name: fid, Length: 100, dtype: int64\n",
      "Creo el grid\n",
      "fid:\n",
      " 0     1\n",
      "1     2\n",
      "2     1\n",
      "3     2\n",
      "4     1\n",
      "     ..\n",
      "95    2\n",
      "96    1\n",
      "97    2\n",
      "98    1\n",
      "99    2\n",
      "Name: fid, Length: 100, dtype: int64\n",
      "Creo el grid\n",
      "fid:\n",
      " 0     1\n",
      "1     2\n",
      "2     1\n",
      "3     2\n",
      "4     1\n",
      "     ..\n",
      "95    2\n",
      "96    1\n",
      "97    2\n",
      "98    1\n",
      "99    2\n",
      "Name: fid, Length: 100, dtype: int64\n",
      "Creo el grid\n",
      "fid:\n",
      " 0     1\n",
      "1     2\n",
      "2     1\n",
      "3     2\n",
      "4     1\n",
      "     ..\n",
      "95    2\n",
      "96    1\n",
      "97    2\n",
      "98    1\n",
      "99    2\n",
      "Name: fid, Length: 100, dtype: int64\n",
      "Creo el grid\n",
      "fid:\n",
      " 0     1\n",
      "1     2\n",
      "2     1\n",
      "3     2\n",
      "4     1\n",
      "     ..\n",
      "95    2\n",
      "96    1\n",
      "97    2\n",
      "98    1\n",
      "99    2\n",
      "Name: fid, Length: 100, dtype: int64\n",
      "Creo el grid\n",
      "fid:\n",
      " 0     1\n",
      "1     2\n",
      "2     1\n",
      "3     2\n",
      "4     1\n",
      "     ..\n",
      "95    2\n",
      "96    1\n",
      "97    2\n",
      "98    1\n",
      "99    2\n",
      "Name: fid, Length: 100, dtype: int64\n",
      "Creo el grid\n",
      "fid:\n",
      " 0     1\n",
      "1     2\n",
      "2     1\n",
      "3     2\n",
      "4     1\n",
      "     ..\n",
      "95    2\n",
      "96    1\n",
      "97    2\n",
      "98    1\n",
      "99    2\n",
      "Name: fid, Length: 100, dtype: int64\n",
      "Creo el grid\n",
      "fid:\n",
      " 0     1\n",
      "1     2\n",
      "2     1\n",
      "3     2\n",
      "4     1\n",
      "     ..\n",
      "95    2\n",
      "96    1\n",
      "97    2\n",
      "98    1\n",
      "99    2\n",
      "Name: fid, Length: 100, dtype: int64\n",
      "Creo el grid\n",
      "fid:\n",
      " 0     1\n",
      "1     2\n",
      "2     1\n",
      "3     2\n",
      "4     1\n",
      "     ..\n",
      "95    2\n",
      "96    1\n",
      "97    2\n",
      "98    1\n",
      "99    2\n",
      "Name: fid, Length: 100, dtype: int64\n",
      "Creo el grid\n",
      "fid:\n",
      " 0     1\n",
      "1     2\n",
      "2     1\n",
      "3     2\n",
      "4     1\n",
      "     ..\n",
      "95    2\n",
      "96    1\n",
      "97    2\n",
      "98    1\n",
      "99    2\n",
      "Name: fid, Length: 100, dtype: int64\n",
      "Creo el grid\n",
      "fid:\n",
      " 0     1\n",
      "1     2\n",
      "2     1\n",
      "3     2\n",
      "4     1\n",
      "     ..\n",
      "95    2\n",
      "96    1\n",
      "97    2\n",
      "98    1\n",
      "99    2\n",
      "Name: fid, Length: 100, dtype: int64\n",
      "Creo el grid\n",
      "fid:\n",
      " 0     1\n",
      "1     2\n",
      "2     1\n",
      "3     2\n",
      "4     1\n",
      "     ..\n",
      "95    2\n",
      "96    1\n",
      "97    2\n",
      "98    1\n",
      "99    2\n",
      "Name: fid, Length: 100, dtype: int64\n",
      "Creo el grid\n",
      "fid:\n",
      " 0     1\n",
      "1     2\n",
      "2     1\n",
      "3     2\n",
      "4     1\n",
      "     ..\n",
      "95    2\n",
      "96    1\n",
      "97    2\n",
      "98    1\n",
      "99    2\n",
      "Name: fid, Length: 100, dtype: int64\n",
      "Creo el grid\n",
      "fid:\n",
      " 0     1\n",
      "1     2\n",
      "2     1\n",
      "3     2\n",
      "4     1\n",
      "     ..\n",
      "95    2\n",
      "96    1\n",
      "97    2\n",
      "98    1\n",
      "99    2\n",
      "Name: fid, Length: 100, dtype: int64\n",
      "Creo el grid\n",
      "fid:\n",
      " 0     1\n",
      "1     2\n",
      "2     1\n",
      "3     2\n",
      "4     1\n",
      "     ..\n",
      "95    2\n",
      "96    1\n",
      "97    2\n",
      "98    1\n",
      "99    2\n",
      "Name: fid, Length: 100, dtype: int64\n",
      "Creo el grid\n",
      "fid:\n",
      " 0     1\n",
      "1     2\n",
      "2     1\n",
      "3     2\n",
      "4     1\n",
      "     ..\n",
      "95    2\n",
      "96    1\n",
      "97    2\n",
      "98    1\n",
      "99    2\n",
      "Name: fid, Length: 100, dtype: int64\n",
      "Creo el grid\n",
      "fid:\n",
      " 0     1\n",
      "1     2\n",
      "2     1\n",
      "3     2\n",
      "4     1\n",
      "     ..\n",
      "95    2\n",
      "96    1\n",
      "97    2\n",
      "98    1\n",
      "99    2\n",
      "Name: fid, Length: 100, dtype: int64\n",
      "Creo el grid\n",
      "fid:\n",
      " 0     1\n",
      "1     2\n",
      "2     1\n",
      "3     2\n",
      "4     1\n",
      "     ..\n",
      "95    2\n",
      "96    1\n",
      "97    2\n",
      "98    1\n",
      "99    2\n",
      "Name: fid, Length: 100, dtype: int64\n",
      "Creo el grid\n",
      "fid:\n",
      " 0     1\n",
      "1     2\n",
      "2     1\n",
      "3     2\n",
      "4     1\n",
      "     ..\n",
      "95    2\n",
      "96    1\n",
      "97    2\n",
      "98    1\n",
      "99    2\n",
      "Name: fid, Length: 100, dtype: int64\n",
      "Creo el grid\n",
      "fid:\n",
      " 0     1\n",
      "1     2\n",
      "2     1\n",
      "3     2\n",
      "4     1\n",
      "     ..\n",
      "95    2\n",
      "96    1\n",
      "97    2\n",
      "98    1\n",
      "99    2\n",
      "Name: fid, Length: 100, dtype: int64\n",
      "Creo el grid\n",
      "fid:\n",
      " 0     1\n",
      "1     2\n",
      "2     1\n",
      "3     2\n",
      "4     1\n",
      "     ..\n",
      "95    2\n",
      "96    1\n",
      "97    2\n",
      "98    1\n",
      "99    2\n",
      "Name: fid, Length: 100, dtype: int64\n",
      "Creo el grid\n",
      "fid:\n",
      " 0     1\n",
      "1     2\n",
      "2     1\n",
      "3     2\n",
      "4     1\n",
      "     ..\n",
      "95    2\n",
      "96    1\n",
      "97    2\n",
      "98    1\n",
      "99    2\n",
      "Name: fid, Length: 100, dtype: int64\n",
      "Creo el grid\n",
      "fid:\n",
      " 0     1\n",
      "1     2\n",
      "2     1\n",
      "3     2\n",
      "4     1\n",
      "     ..\n",
      "95    2\n",
      "96    1\n",
      "97    2\n",
      "98    1\n",
      "99    2\n",
      "Name: fid, Length: 100, dtype: int64\n",
      "Creo el grid\n",
      "fid:\n",
      " 0     1\n",
      "1     2\n",
      "2     1\n",
      "3     2\n",
      "4     1\n",
      "     ..\n",
      "95    2\n",
      "96    1\n",
      "97    2\n",
      "98    1\n",
      "99    2\n",
      "Name: fid, Length: 100, dtype: int64\n",
      "Creo el grid\n",
      "fid:\n",
      " 0     1\n",
      "1     2\n",
      "2     1\n",
      "3     2\n",
      "4     1\n",
      "     ..\n",
      "95    2\n",
      "96    1\n",
      "97    2\n",
      "98    1\n",
      "99    2\n",
      "Name: fid, Length: 100, dtype: int64\n",
      "Creo el grid\n",
      "fid:\n",
      " 0     1\n",
      "1     2\n",
      "2     1\n",
      "3     2\n",
      "4     1\n",
      "     ..\n",
      "95    2\n",
      "96    1\n",
      "97    2\n",
      "98    1\n",
      "99    2\n",
      "Name: fid, Length: 100, dtype: int64\n",
      "Creo el grid\n",
      "fid:\n",
      " 0     1\n",
      "1     2\n",
      "2     1\n",
      "3     2\n",
      "4     1\n",
      "     ..\n",
      "95    2\n",
      "96    1\n",
      "97    2\n",
      "98    1\n",
      "99    2\n",
      "Name: fid, Length: 100, dtype: int64\n",
      "Creo el grid\n",
      "fid:\n",
      " 0     1\n",
      "1     2\n",
      "2     1\n",
      "3     2\n",
      "4     1\n",
      "     ..\n",
      "95    2\n",
      "96    1\n",
      "97    2\n",
      "98    1\n",
      "99    2\n",
      "Name: fid, Length: 100, dtype: int64\n",
      "Creo el grid\n",
      "fid:\n",
      " 0     1\n",
      "1     2\n",
      "2     1\n",
      "3     2\n",
      "4     1\n",
      "     ..\n",
      "95    2\n",
      "96    1\n",
      "97    2\n",
      "98    1\n",
      "99    2\n",
      "Name: fid, Length: 100, dtype: int64\n",
      "Creo el grid\n",
      "Paso el Get data\n",
      "Shape pre-encoder torch.Size([32, 5, 300])\n",
      "Shape Encoder: torch.Size([32, 64, 306])\n",
      "Shape mu: torch.Size([64, 20])\n",
      "Shape log_var: torch.Size([64, 20])\n"
     ]
    },
    {
     "name": "stderr",
     "output_type": "stream",
     "text": [
      "/tmp/ipykernel_5342/3808935312.py:7: UserWarning: To copy construct from a tensor, it is recommended to use sourceTensor.clone().detach() or sourceTensor.clone().detach().requires_grad_(True), rather than torch.tensor(sourceTensor).\n",
      "  nll = (0.5 * torch.tensor(results['obs_weight']) * torch.tensor(results['obs_flux'])**2)\n",
      "/tmp/ipykernel_5342/3808935312.py:8: UserWarning: To copy construct from a tensor, it is recommended to use sourceTensor.clone().detach() or sourceTensor.clone().detach().requires_grad_(True), rather than torch.tensor(sourceTensor).\n",
      "  kld = -0.5 * (1 + torch.tensor(results['encoding_logvar'], requires_grad=True)\n",
      "/tmp/ipykernel_5342/3808935312.py:9: UserWarning: To copy construct from a tensor, it is recommended to use sourceTensor.clone().detach() or sourceTensor.clone().detach().requires_grad_(True), rather than torch.tensor(sourceTensor).\n",
      "  - torch.tensor(results['encoding_mu'], requires_grad=True)**2\n",
      "/tmp/ipykernel_5342/3808935312.py:10: UserWarning: To copy construct from a tensor, it is recommended to use sourceTensor.clone().detach() or sourceTensor.clone().detach().requires_grad_(True), rather than torch.tensor(sourceTensor).\n",
      "  - torch.exp(torch.tensor(results['encoding_logvar'], requires_grad=True)))\n"
     ]
    },
    {
     "name": "stdout",
     "output_type": "stream",
     "text": [
      "Comenzo get_data\n",
      "fid:\n",
      " 0     1\n",
      "1     2\n",
      "2     1\n",
      "3     2\n",
      "4     1\n",
      "     ..\n",
      "95    2\n",
      "96    1\n",
      "97    2\n",
      "98    1\n",
      "99    2\n",
      "Name: fid, Length: 100, dtype: int64\n",
      "Creo el grid\n",
      "fid:\n",
      " 0     1\n",
      "1     2\n",
      "2     1\n",
      "3     2\n",
      "4     1\n",
      "     ..\n",
      "95    2\n",
      "96    1\n",
      "97    2\n",
      "98    1\n",
      "99    2\n",
      "Name: fid, Length: 100, dtype: int64\n",
      "Creo el grid\n",
      "fid:\n",
      " 0     1\n",
      "1     2\n",
      "2     1\n",
      "3     2\n",
      "4     1\n",
      "     ..\n",
      "95    2\n",
      "96    1\n",
      "97    2\n",
      "98    1\n",
      "99    2\n",
      "Name: fid, Length: 100, dtype: int64\n",
      "Creo el grid\n",
      "fid:\n",
      " 0     1\n",
      "1     2\n",
      "2     1\n",
      "3     2\n",
      "4     1\n",
      "     ..\n",
      "95    2\n",
      "96    1\n",
      "97    2\n",
      "98    1\n",
      "99    2\n",
      "Name: fid, Length: 100, dtype: int64\n",
      "Creo el grid\n",
      "fid:\n",
      " 0     1\n",
      "1     2\n",
      "2     1\n",
      "3     2\n",
      "4     1\n",
      "     ..\n",
      "95    2\n",
      "96    1\n",
      "97    2\n",
      "98    1\n",
      "99    2\n",
      "Name: fid, Length: 100, dtype: int64\n",
      "Creo el grid\n",
      "fid:\n",
      " 0     1\n",
      "1     2\n",
      "2     1\n",
      "3     2\n",
      "4     1\n",
      "     ..\n",
      "95    2\n",
      "96    1\n",
      "97    2\n",
      "98    1\n",
      "99    2\n",
      "Name: fid, Length: 100, dtype: int64\n",
      "Creo el grid\n",
      "fid:\n",
      " 0     1\n",
      "1     2\n",
      "2     1\n",
      "3     2\n",
      "4     1\n",
      "     ..\n",
      "95    2\n",
      "96    1\n",
      "97    2\n",
      "98    1\n",
      "99    2\n",
      "Name: fid, Length: 100, dtype: int64\n",
      "Creo el grid\n",
      "fid:\n",
      " 0     1\n",
      "1     2\n",
      "2     1\n",
      "3     2\n",
      "4     1\n",
      "     ..\n",
      "95    2\n",
      "96    1\n",
      "97    2\n",
      "98    1\n",
      "99    2\n",
      "Name: fid, Length: 100, dtype: int64\n",
      "Creo el grid\n",
      "fid:\n",
      " 0     1\n",
      "1     2\n",
      "2     1\n",
      "3     2\n",
      "4     1\n",
      "     ..\n",
      "95    2\n",
      "96    1\n",
      "97    2\n",
      "98    1\n",
      "99    2\n",
      "Name: fid, Length: 100, dtype: int64\n",
      "Creo el grid\n",
      "fid:\n",
      " 0     1\n",
      "1     2\n",
      "2     1\n",
      "3     2\n",
      "4     1\n",
      "     ..\n",
      "95    2\n",
      "96    1\n",
      "97    2\n",
      "98    1\n",
      "99    2\n",
      "Name: fid, Length: 100, dtype: int64\n",
      "Creo el grid\n",
      "fid:\n",
      " 0     1\n",
      "1     2\n",
      "2     1\n",
      "3     2\n",
      "4     1\n",
      "     ..\n",
      "95    2\n",
      "96    1\n",
      "97    2\n",
      "98    1\n",
      "99    2\n",
      "Name: fid, Length: 100, dtype: int64\n",
      "Creo el grid\n",
      "fid:\n",
      " 0     1\n",
      "1     2\n",
      "2     1\n",
      "3     2\n",
      "4     1\n",
      "     ..\n",
      "95    2\n",
      "96    1\n",
      "97    2\n",
      "98    1\n",
      "99    2\n",
      "Name: fid, Length: 100, dtype: int64\n",
      "Creo el grid\n",
      "fid:\n",
      " 0     1\n",
      "1     2\n",
      "2     1\n",
      "3     2\n",
      "4     1\n",
      "     ..\n",
      "95    2\n",
      "96    1\n",
      "97    2\n",
      "98    1\n",
      "99    2\n",
      "Name: fid, Length: 100, dtype: int64\n",
      "Creo el grid\n",
      "fid:\n",
      " 0     1\n",
      "1     2\n",
      "2     1\n",
      "3     2\n",
      "4     1\n",
      "     ..\n",
      "95    2\n",
      "96    1\n",
      "97    2\n",
      "98    1\n",
      "99    2\n",
      "Name: fid, Length: 100, dtype: int64\n",
      "Creo el grid\n",
      "fid:\n",
      " 0     1\n",
      "1     2\n",
      "2     1\n",
      "3     2\n",
      "4     1\n",
      "     ..\n",
      "95    2\n",
      "96    1\n",
      "97    2\n",
      "98    1\n",
      "99    2\n",
      "Name: fid, Length: 100, dtype: int64\n",
      "Creo el grid\n",
      "fid:\n",
      " 0     1\n",
      "1     2\n",
      "2     1\n",
      "3     2\n",
      "4     1\n",
      "     ..\n",
      "95    2\n",
      "96    1\n",
      "97    2\n",
      "98    1\n",
      "99    2\n",
      "Name: fid, Length: 100, dtype: int64\n",
      "Creo el grid\n",
      "fid:\n",
      " 0     1\n",
      "1     2\n",
      "2     1\n",
      "3     2\n",
      "4     1\n",
      "     ..\n",
      "95    2\n",
      "96    1\n",
      "97    2\n",
      "98    1\n",
      "99    2\n",
      "Name: fid, Length: 100, dtype: int64\n",
      "Creo el grid\n",
      "fid:\n",
      " 0     1\n",
      "1     2\n",
      "2     1\n",
      "3     2\n",
      "4     1\n",
      "     ..\n",
      "95    2\n",
      "96    1\n",
      "97    2\n",
      "98    1\n",
      "99    2\n",
      "Name: fid, Length: 100, dtype: int64\n",
      "Creo el grid\n",
      "fid:\n",
      " 0     1\n",
      "1     2\n",
      "2     1\n",
      "3     2\n",
      "4     1\n",
      "     ..\n",
      "95    2\n",
      "96    1\n",
      "97    2\n",
      "98    1\n",
      "99    2\n",
      "Name: fid, Length: 100, dtype: int64\n",
      "Creo el grid\n",
      "fid:\n",
      " 0     1\n",
      "1     2\n",
      "2     1\n",
      "3     2\n",
      "4     1\n",
      "     ..\n",
      "95    2\n",
      "96    1\n",
      "97    2\n",
      "98    1\n",
      "99    2\n",
      "Name: fid, Length: 100, dtype: int64\n",
      "Creo el grid\n",
      "fid:\n",
      " 0     1\n",
      "1     2\n",
      "2     1\n",
      "3     2\n",
      "4     1\n",
      "     ..\n",
      "95    2\n",
      "96    1\n",
      "97    2\n",
      "98    1\n",
      "99    2\n",
      "Name: fid, Length: 100, dtype: int64\n",
      "Creo el grid\n",
      "fid:\n",
      " 0     1\n",
      "1     2\n",
      "2     1\n",
      "3     2\n",
      "4     1\n",
      "     ..\n",
      "95    2\n",
      "96    1\n",
      "97    2\n",
      "98    1\n",
      "99    2\n",
      "Name: fid, Length: 100, dtype: int64\n",
      "Creo el grid\n",
      "fid:\n",
      " 0     1\n",
      "1     2\n",
      "2     1\n",
      "3     2\n",
      "4     1\n",
      "     ..\n",
      "95    2\n",
      "96    1\n",
      "97    2\n",
      "98    1\n",
      "99    2\n",
      "Name: fid, Length: 100, dtype: int64\n",
      "Creo el grid\n",
      "fid:\n",
      " 0     1\n",
      "1     2\n",
      "2     1\n",
      "3     2\n",
      "4     1\n",
      "     ..\n",
      "95    2\n",
      "96    1\n",
      "97    2\n",
      "98    1\n",
      "99    2\n",
      "Name: fid, Length: 100, dtype: int64\n",
      "Creo el grid\n",
      "fid:\n",
      " 0     1\n",
      "1     2\n",
      "2     1\n",
      "3     2\n",
      "4     1\n",
      "     ..\n",
      "95    2\n",
      "96    1\n",
      "97    2\n",
      "98    1\n",
      "99    2\n",
      "Name: fid, Length: 100, dtype: int64\n",
      "Creo el grid\n",
      "fid:\n",
      " 0     1\n",
      "1     2\n",
      "2     1\n",
      "3     2\n",
      "4     1\n",
      "     ..\n",
      "95    2\n",
      "96    1\n",
      "97    2\n",
      "98    1\n",
      "99    2\n",
      "Name: fid, Length: 100, dtype: int64\n",
      "Creo el grid\n",
      "fid:\n",
      " 0     1\n",
      "1     2\n",
      "2     1\n",
      "3     2\n",
      "4     1\n",
      "     ..\n",
      "95    2\n",
      "96    1\n",
      "97    2\n",
      "98    1\n",
      "99    2\n",
      "Name: fid, Length: 100, dtype: int64\n",
      "Creo el grid\n",
      "fid:\n",
      " 0     1\n",
      "1     2\n",
      "2     1\n",
      "3     2\n",
      "4     1\n",
      "     ..\n",
      "95    2\n",
      "96    1\n",
      "97    2\n",
      "98    1\n",
      "99    2\n",
      "Name: fid, Length: 100, dtype: int64\n",
      "Creo el grid\n",
      "fid:\n",
      " 0     1\n",
      "1     2\n",
      "2     1\n",
      "3     2\n",
      "4     1\n",
      "     ..\n",
      "95    2\n",
      "96    1\n",
      "97    2\n",
      "98    1\n",
      "99    2\n",
      "Name: fid, Length: 100, dtype: int64\n",
      "Creo el grid\n",
      "fid:\n",
      " 0     1\n",
      "1     2\n",
      "2     1\n",
      "3     2\n",
      "4     1\n",
      "     ..\n",
      "95    2\n",
      "96    1\n",
      "97    2\n",
      "98    1\n",
      "99    2\n",
      "Name: fid, Length: 100, dtype: int64\n",
      "Creo el grid\n",
      "fid:\n",
      " 0     1\n",
      "1     2\n",
      "2     1\n",
      "3     2\n",
      "4     1\n",
      "     ..\n",
      "95    2\n",
      "96    1\n",
      "97    2\n",
      "98    1\n",
      "99    2\n",
      "Name: fid, Length: 100, dtype: int64\n",
      "Creo el grid\n",
      "fid:\n",
      " 0     1\n",
      "1     2\n",
      "2     1\n",
      "3     2\n",
      "4     1\n",
      "     ..\n",
      "95    2\n",
      "96    1\n",
      "97    2\n",
      "98    1\n",
      "99    2\n",
      "Name: fid, Length: 100, dtype: int64\n",
      "Creo el grid\n",
      "Paso el Get data\n",
      "Shape pre-encoder torch.Size([32, 5, 300])\n",
      "Shape Encoder: torch.Size([32, 64, 306])\n",
      "Shape mu: torch.Size([64, 20])\n",
      "Shape log_var: torch.Size([64, 20])\n"
     ]
    },
    {
     "name": "stderr",
     "output_type": "stream",
     "text": [
      "/tmp/ipykernel_5342/3808935312.py:7: UserWarning: To copy construct from a tensor, it is recommended to use sourceTensor.clone().detach() or sourceTensor.clone().detach().requires_grad_(True), rather than torch.tensor(sourceTensor).\n",
      "  nll = (0.5 * torch.tensor(results['obs_weight']) * torch.tensor(results['obs_flux'])**2)\n",
      "/tmp/ipykernel_5342/3808935312.py:8: UserWarning: To copy construct from a tensor, it is recommended to use sourceTensor.clone().detach() or sourceTensor.clone().detach().requires_grad_(True), rather than torch.tensor(sourceTensor).\n",
      "  kld = -0.5 * (1 + torch.tensor(results['encoding_logvar'], requires_grad=True)\n",
      "/tmp/ipykernel_5342/3808935312.py:9: UserWarning: To copy construct from a tensor, it is recommended to use sourceTensor.clone().detach() or sourceTensor.clone().detach().requires_grad_(True), rather than torch.tensor(sourceTensor).\n",
      "  - torch.tensor(results['encoding_mu'], requires_grad=True)**2\n",
      "/tmp/ipykernel_5342/3808935312.py:10: UserWarning: To copy construct from a tensor, it is recommended to use sourceTensor.clone().detach() or sourceTensor.clone().detach().requires_grad_(True), rather than torch.tensor(sourceTensor).\n",
      "  - torch.exp(torch.tensor(results['encoding_logvar'], requires_grad=True)))\n"
     ]
    },
    {
     "name": "stdout",
     "output_type": "stream",
     "text": [
      "Comenzo get_data\n",
      "fid:\n",
      " 0     1\n",
      "1     2\n",
      "2     1\n",
      "3     2\n",
      "4     1\n",
      "     ..\n",
      "95    2\n",
      "96    1\n",
      "97    2\n",
      "98    1\n",
      "99    2\n",
      "Name: fid, Length: 100, dtype: int64\n",
      "Creo el grid\n",
      "fid:\n",
      " 0     1\n",
      "1     2\n",
      "2     1\n",
      "3     2\n",
      "4     1\n",
      "     ..\n",
      "95    2\n",
      "96    1\n",
      "97    2\n",
      "98    1\n",
      "99    2\n",
      "Name: fid, Length: 100, dtype: int64\n",
      "Creo el grid\n",
      "fid:\n",
      " 0     1\n",
      "1     2\n",
      "2     1\n",
      "3     2\n",
      "4     1\n",
      "     ..\n",
      "95    2\n",
      "96    1\n",
      "97    2\n",
      "98    1\n",
      "99    2\n",
      "Name: fid, Length: 100, dtype: int64\n",
      "Creo el grid\n",
      "fid:\n",
      " 0     1\n",
      "1     2\n",
      "2     1\n",
      "3     2\n",
      "4     1\n",
      "     ..\n",
      "95    2\n",
      "96    1\n",
      "97    2\n",
      "98    1\n",
      "99    2\n",
      "Name: fid, Length: 100, dtype: int64\n",
      "Creo el grid\n",
      "fid:\n",
      " 0     1\n",
      "1     2\n",
      "2     1\n",
      "3     2\n",
      "4     1\n",
      "     ..\n",
      "95    2\n",
      "96    1\n",
      "97    2\n",
      "98    1\n",
      "99    2\n",
      "Name: fid, Length: 100, dtype: int64\n",
      "Creo el grid\n",
      "fid:\n",
      " 0     1\n",
      "1     2\n",
      "2     1\n",
      "3     2\n",
      "4     1\n",
      "     ..\n",
      "95    2\n",
      "96    1\n",
      "97    2\n",
      "98    1\n",
      "99    2\n",
      "Name: fid, Length: 100, dtype: int64\n",
      "Creo el grid\n",
      "fid:\n",
      " 0     1\n",
      "1     2\n",
      "2     1\n",
      "3     2\n",
      "4     1\n",
      "     ..\n",
      "95    2\n",
      "96    1\n",
      "97    2\n",
      "98    1\n",
      "99    2\n",
      "Name: fid, Length: 100, dtype: int64\n",
      "Creo el grid\n",
      "fid:\n",
      " 0     1\n",
      "1     2\n",
      "2     1\n",
      "3     2\n",
      "4     1\n",
      "     ..\n",
      "95    2\n",
      "96    1\n",
      "97    2\n",
      "98    1\n",
      "99    2\n",
      "Name: fid, Length: 100, dtype: int64\n",
      "Creo el grid\n",
      "fid:\n",
      " 0     1\n",
      "1     2\n",
      "2     1\n",
      "3     2\n",
      "4     1\n",
      "     ..\n",
      "95    2\n",
      "96    1\n",
      "97    2\n",
      "98    1\n",
      "99    2\n",
      "Name: fid, Length: 100, dtype: int64\n",
      "Creo el grid\n",
      "fid:\n",
      " 0     1\n",
      "1     2\n",
      "2     1\n",
      "3     2\n",
      "4     1\n",
      "     ..\n",
      "95    2\n",
      "96    1\n",
      "97    2\n",
      "98    1\n",
      "99    2\n",
      "Name: fid, Length: 100, dtype: int64\n",
      "Creo el grid\n",
      "fid:\n",
      " 0     1\n",
      "1     2\n",
      "2     1\n",
      "3     2\n",
      "4     1\n",
      "     ..\n",
      "95    2\n",
      "96    1\n",
      "97    2\n",
      "98    1\n",
      "99    2\n",
      "Name: fid, Length: 100, dtype: int64\n",
      "Creo el grid\n",
      "fid:\n",
      " 0     1\n",
      "1     2\n",
      "2     1\n",
      "3     2\n",
      "4     1\n",
      "     ..\n",
      "95    2\n",
      "96    1\n",
      "97    2\n",
      "98    1\n",
      "99    2\n",
      "Name: fid, Length: 100, dtype: int64\n",
      "Creo el grid\n",
      "fid:\n",
      " 0     1\n",
      "1     2\n",
      "2     1\n",
      "3     2\n",
      "4     1\n",
      "     ..\n",
      "95    2\n",
      "96    1\n",
      "97    2\n",
      "98    1\n",
      "99    2\n",
      "Name: fid, Length: 100, dtype: int64\n",
      "Creo el grid\n",
      "fid:\n",
      " 0     1\n",
      "1     2\n",
      "2     1\n",
      "3     2\n",
      "4     1\n",
      "     ..\n",
      "95    2\n",
      "96    1\n",
      "97    2\n",
      "98    1\n",
      "99    2\n",
      "Name: fid, Length: 100, dtype: int64\n",
      "Creo el grid\n",
      "fid:\n",
      " 0     1\n",
      "1     2\n",
      "2     1\n",
      "3     2\n",
      "4     1\n",
      "     ..\n",
      "95    2\n",
      "96    1\n",
      "97    2\n",
      "98    1\n",
      "99    2\n",
      "Name: fid, Length: 100, dtype: int64\n",
      "Creo el grid\n",
      "fid:\n",
      " 0     1\n",
      "1     2\n",
      "2     1\n",
      "3     2\n",
      "4     1\n",
      "     ..\n",
      "95    2\n",
      "96    1\n",
      "97    2\n",
      "98    1\n",
      "99    2\n",
      "Name: fid, Length: 100, dtype: int64\n",
      "Creo el grid\n",
      "fid:\n",
      " 0     1\n",
      "1     2\n",
      "2     1\n",
      "3     2\n",
      "4     1\n",
      "     ..\n",
      "95    2\n",
      "96    1\n",
      "97    2\n",
      "98    1\n",
      "99    2\n",
      "Name: fid, Length: 100, dtype: int64\n",
      "Creo el grid\n",
      "fid:\n",
      " 0     1\n",
      "1     2\n",
      "2     1\n",
      "3     2\n",
      "4     1\n",
      "     ..\n",
      "95    2\n",
      "96    1\n",
      "97    2\n",
      "98    1\n",
      "99    2\n",
      "Name: fid, Length: 100, dtype: int64\n",
      "Creo el grid\n",
      "fid:\n",
      " 0     1\n",
      "1     2\n",
      "2     1\n",
      "3     2\n",
      "4     1\n",
      "     ..\n",
      "95    2\n",
      "96    1\n",
      "97    2\n",
      "98    1\n",
      "99    2\n",
      "Name: fid, Length: 100, dtype: int64\n",
      "Creo el grid\n",
      "fid:\n",
      " 0     1\n",
      "1     2\n",
      "2     1\n",
      "3     2\n",
      "4     1\n",
      "     ..\n",
      "95    2\n",
      "96    1\n",
      "97    2\n",
      "98    1\n",
      "99    2\n",
      "Name: fid, Length: 100, dtype: int64\n",
      "Creo el grid\n",
      "fid:\n",
      " 0     1\n",
      "1     2\n",
      "2     1\n",
      "3     2\n",
      "4     1\n",
      "     ..\n",
      "95    2\n",
      "96    1\n",
      "97    2\n",
      "98    1\n",
      "99    2\n",
      "Name: fid, Length: 100, dtype: int64\n",
      "Creo el grid\n",
      "fid:\n",
      " 0     1\n",
      "1     2\n",
      "2     1\n",
      "3     2\n",
      "4     1\n",
      "     ..\n",
      "95    2\n",
      "96    1\n",
      "97    2\n",
      "98    1\n",
      "99    2\n",
      "Name: fid, Length: 100, dtype: int64\n",
      "Creo el grid\n",
      "fid:\n",
      " 0     1\n",
      "1     2\n",
      "2     1\n",
      "3     2\n",
      "4     1\n",
      "     ..\n",
      "95    2\n",
      "96    1\n",
      "97    2\n",
      "98    1\n",
      "99    2\n",
      "Name: fid, Length: 100, dtype: int64\n",
      "Creo el grid\n",
      "fid:\n",
      " 0     1\n",
      "1     2\n",
      "2     1\n",
      "3     2\n",
      "4     1\n",
      "     ..\n",
      "95    2\n",
      "96    1\n",
      "97    2\n",
      "98    1\n",
      "99    2\n",
      "Name: fid, Length: 100, dtype: int64\n",
      "Creo el grid\n",
      "fid:\n",
      " 0     1\n",
      "1     2\n",
      "2     1\n",
      "3     2\n",
      "4     1\n",
      "     ..\n",
      "95    2\n",
      "96    1\n",
      "97    2\n",
      "98    1\n",
      "99    2\n",
      "Name: fid, Length: 100, dtype: int64\n",
      "Creo el grid\n",
      "fid:\n",
      " 0     1\n",
      "1     2\n",
      "2     1\n",
      "3     2\n",
      "4     1\n",
      "     ..\n",
      "95    2\n",
      "96    1\n",
      "97    2\n",
      "98    1\n",
      "99    2\n",
      "Name: fid, Length: 100, dtype: int64\n",
      "Creo el grid\n",
      "fid:\n",
      " 0     1\n",
      "1     2\n",
      "2     1\n",
      "3     2\n",
      "4     1\n",
      "     ..\n",
      "95    2\n",
      "96    1\n",
      "97    2\n",
      "98    1\n",
      "99    2\n",
      "Name: fid, Length: 100, dtype: int64\n",
      "Creo el grid\n",
      "fid:\n",
      " 0     1\n",
      "1     2\n",
      "2     1\n",
      "3     2\n",
      "4     1\n",
      "     ..\n",
      "95    2\n",
      "96    1\n",
      "97    2\n",
      "98    1\n",
      "99    2\n",
      "Name: fid, Length: 100, dtype: int64\n",
      "Creo el grid\n",
      "fid:\n",
      " 0     1\n",
      "1     2\n",
      "2     1\n",
      "3     2\n",
      "4     1\n",
      "     ..\n",
      "95    2\n",
      "96    1\n",
      "97    2\n",
      "98    1\n",
      "99    2\n",
      "Name: fid, Length: 100, dtype: int64\n",
      "Creo el grid\n",
      "fid:\n",
      " 0     1\n",
      "1     2\n",
      "2     1\n",
      "3     2\n",
      "4     1\n",
      "     ..\n",
      "95    2\n",
      "96    1\n",
      "97    2\n",
      "98    1\n",
      "99    2\n",
      "Name: fid, Length: 100, dtype: int64\n",
      "Creo el grid\n",
      "fid:\n",
      " 0     1\n",
      "1     2\n",
      "2     1\n",
      "3     2\n",
      "4     1\n",
      "     ..\n",
      "95    2\n",
      "96    1\n",
      "97    2\n",
      "98    1\n",
      "99    2\n",
      "Name: fid, Length: 100, dtype: int64\n",
      "Creo el grid\n",
      "fid:\n",
      " 0     1\n",
      "1     2\n",
      "2     1\n",
      "3     2\n",
      "4     1\n",
      "     ..\n",
      "95    2\n",
      "96    1\n",
      "97    2\n",
      "98    1\n",
      "99    2\n",
      "Name: fid, Length: 100, dtype: int64\n",
      "Creo el grid\n",
      "Paso el Get data\n",
      "Shape pre-encoder torch.Size([32, 5, 300])\n",
      "Shape Encoder: torch.Size([32, 64, 306])\n",
      "Shape mu: torch.Size([64, 20])\n",
      "Shape log_var: torch.Size([64, 20])\n"
     ]
    },
    {
     "name": "stderr",
     "output_type": "stream",
     "text": [
      "/tmp/ipykernel_5342/3808935312.py:7: UserWarning: To copy construct from a tensor, it is recommended to use sourceTensor.clone().detach() or sourceTensor.clone().detach().requires_grad_(True), rather than torch.tensor(sourceTensor).\n",
      "  nll = (0.5 * torch.tensor(results['obs_weight']) * torch.tensor(results['obs_flux'])**2)\n",
      "/tmp/ipykernel_5342/3808935312.py:8: UserWarning: To copy construct from a tensor, it is recommended to use sourceTensor.clone().detach() or sourceTensor.clone().detach().requires_grad_(True), rather than torch.tensor(sourceTensor).\n",
      "  kld = -0.5 * (1 + torch.tensor(results['encoding_logvar'], requires_grad=True)\n",
      "/tmp/ipykernel_5342/3808935312.py:9: UserWarning: To copy construct from a tensor, it is recommended to use sourceTensor.clone().detach() or sourceTensor.clone().detach().requires_grad_(True), rather than torch.tensor(sourceTensor).\n",
      "  - torch.tensor(results['encoding_mu'], requires_grad=True)**2\n",
      "/tmp/ipykernel_5342/3808935312.py:10: UserWarning: To copy construct from a tensor, it is recommended to use sourceTensor.clone().detach() or sourceTensor.clone().detach().requires_grad_(True), rather than torch.tensor(sourceTensor).\n",
      "  - torch.exp(torch.tensor(results['encoding_logvar'], requires_grad=True)))\n"
     ]
    },
    {
     "name": "stdout",
     "output_type": "stream",
     "text": [
      "Comenzo get_data\n",
      "fid:\n",
      " 0     1\n",
      "1     2\n",
      "2     1\n",
      "3     2\n",
      "4     1\n",
      "     ..\n",
      "95    2\n",
      "96    1\n",
      "97    2\n",
      "98    1\n",
      "99    2\n",
      "Name: fid, Length: 100, dtype: int64\n",
      "Creo el grid\n",
      "fid:\n",
      " 0     1\n",
      "1     2\n",
      "2     1\n",
      "3     2\n",
      "4     1\n",
      "     ..\n",
      "95    2\n",
      "96    1\n",
      "97    2\n",
      "98    1\n",
      "99    2\n",
      "Name: fid, Length: 100, dtype: int64\n",
      "Creo el grid\n",
      "fid:\n",
      " 0     1\n",
      "1     2\n",
      "2     1\n",
      "3     2\n",
      "4     1\n",
      "     ..\n",
      "95    2\n",
      "96    1\n",
      "97    2\n",
      "98    1\n",
      "99    2\n",
      "Name: fid, Length: 100, dtype: int64\n",
      "Creo el grid\n",
      "fid:\n",
      " 0     1\n",
      "1     2\n",
      "2     1\n",
      "3     2\n",
      "4     1\n",
      "     ..\n",
      "95    2\n",
      "96    1\n",
      "97    2\n",
      "98    1\n",
      "99    2\n",
      "Name: fid, Length: 100, dtype: int64\n",
      "Creo el grid\n",
      "fid:\n",
      " 0     1\n",
      "1     2\n",
      "2     1\n",
      "3     2\n",
      "4     1\n",
      "     ..\n",
      "95    2\n",
      "96    1\n",
      "97    2\n",
      "98    1\n",
      "99    2\n",
      "Name: fid, Length: 100, dtype: int64\n",
      "Creo el grid\n",
      "fid:\n",
      " 0     1\n",
      "1     2\n",
      "2     1\n",
      "3     2\n",
      "4     1\n",
      "     ..\n",
      "95    2\n",
      "96    1\n",
      "97    2\n",
      "98    1\n",
      "99    2\n",
      "Name: fid, Length: 100, dtype: int64\n",
      "Creo el grid\n",
      "fid:\n",
      " 0     1\n",
      "1     2\n",
      "2     1\n",
      "3     2\n",
      "4     1\n",
      "     ..\n",
      "95    2\n",
      "96    1\n",
      "97    2\n",
      "98    1\n",
      "99    2\n",
      "Name: fid, Length: 100, dtype: int64\n",
      "Creo el grid\n",
      "fid:\n",
      " 0     1\n",
      "1     2\n",
      "2     1\n",
      "3     2\n",
      "4     1\n",
      "     ..\n",
      "95    2\n",
      "96    1\n",
      "97    2\n",
      "98    1\n",
      "99    2\n",
      "Name: fid, Length: 100, dtype: int64\n",
      "Creo el grid\n",
      "fid:\n",
      " 0     1\n",
      "1     2\n",
      "2     1\n",
      "3     2\n",
      "4     1\n",
      "     ..\n",
      "95    2\n",
      "96    1\n",
      "97    2\n",
      "98    1\n",
      "99    2\n",
      "Name: fid, Length: 100, dtype: int64\n",
      "Creo el grid\n",
      "fid:\n",
      " 0     1\n",
      "1     2\n",
      "2     1\n",
      "3     2\n",
      "4     1\n",
      "     ..\n",
      "95    2\n",
      "96    1\n",
      "97    2\n",
      "98    1\n",
      "99    2\n",
      "Name: fid, Length: 100, dtype: int64\n",
      "Creo el grid\n",
      "fid:\n",
      " 0     1\n",
      "1     2\n",
      "2     1\n",
      "3     2\n",
      "4     1\n",
      "     ..\n",
      "95    2\n",
      "96    1\n",
      "97    2\n",
      "98    1\n",
      "99    2\n",
      "Name: fid, Length: 100, dtype: int64\n",
      "Creo el grid\n",
      "fid:\n",
      " 0     1\n",
      "1     2\n",
      "2     1\n",
      "3     2\n",
      "4     1\n",
      "     ..\n",
      "95    2\n",
      "96    1\n",
      "97    2\n",
      "98    1\n",
      "99    2\n",
      "Name: fid, Length: 100, dtype: int64\n",
      "Creo el grid\n",
      "fid:\n",
      " 0     1\n",
      "1     2\n",
      "2     1\n",
      "3     2\n",
      "4     1\n",
      "     ..\n",
      "95    2\n",
      "96    1\n",
      "97    2\n",
      "98    1\n",
      "99    2\n",
      "Name: fid, Length: 100, dtype: int64\n",
      "Creo el grid\n",
      "fid:\n",
      " 0     1\n",
      "1     2\n",
      "2     1\n",
      "3     2\n",
      "4     1\n",
      "     ..\n",
      "95    2\n",
      "96    1\n",
      "97    2\n",
      "98    1\n",
      "99    2\n",
      "Name: fid, Length: 100, dtype: int64\n",
      "Creo el grid\n",
      "fid:\n",
      " 0     1\n",
      "1     2\n",
      "2     1\n",
      "3     2\n",
      "4     1\n",
      "     ..\n",
      "95    2\n",
      "96    1\n",
      "97    2\n",
      "98    1\n",
      "99    2\n",
      "Name: fid, Length: 100, dtype: int64\n",
      "Creo el grid\n",
      "fid:\n",
      " 0     1\n",
      "1     2\n",
      "2     1\n",
      "3     2\n",
      "4     1\n",
      "     ..\n",
      "95    2\n",
      "96    1\n",
      "97    2\n",
      "98    1\n",
      "99    2\n",
      "Name: fid, Length: 100, dtype: int64\n",
      "Creo el grid\n",
      "fid:\n",
      " 0     1\n",
      "1     2\n",
      "2     1\n",
      "3     2\n",
      "4     1\n",
      "     ..\n",
      "95    2\n",
      "96    1\n",
      "97    2\n",
      "98    1\n",
      "99    2\n",
      "Name: fid, Length: 100, dtype: int64\n",
      "Creo el grid\n",
      "fid:\n",
      " 0     1\n",
      "1     2\n",
      "2     1\n",
      "3     2\n",
      "4     1\n",
      "     ..\n",
      "95    2\n",
      "96    1\n",
      "97    2\n",
      "98    1\n",
      "99    2\n",
      "Name: fid, Length: 100, dtype: int64\n",
      "Creo el grid\n",
      "fid:\n",
      " 0     1\n",
      "1     2\n",
      "2     1\n",
      "3     2\n",
      "4     1\n",
      "     ..\n",
      "95    2\n",
      "96    1\n",
      "97    2\n",
      "98    1\n",
      "99    2\n",
      "Name: fid, Length: 100, dtype: int64\n",
      "Creo el grid\n",
      "fid:\n",
      " 0     1\n",
      "1     2\n",
      "2     1\n",
      "3     2\n",
      "4     1\n",
      "     ..\n",
      "95    2\n",
      "96    1\n",
      "97    2\n",
      "98    1\n",
      "99    2\n",
      "Name: fid, Length: 100, dtype: int64\n",
      "Creo el grid\n",
      "fid:\n",
      " 0     1\n",
      "1     2\n",
      "2     1\n",
      "3     2\n",
      "4     1\n",
      "     ..\n",
      "95    2\n",
      "96    1\n",
      "97    2\n",
      "98    1\n",
      "99    2\n",
      "Name: fid, Length: 100, dtype: int64\n",
      "Creo el grid\n",
      "fid:\n",
      " 0     1\n",
      "1     2\n",
      "2     1\n",
      "3     2\n",
      "4     1\n",
      "     ..\n",
      "95    2\n",
      "96    1\n",
      "97    2\n",
      "98    1\n",
      "99    2\n",
      "Name: fid, Length: 100, dtype: int64\n",
      "Creo el grid\n",
      "fid:\n",
      " 0     1\n",
      "1     2\n",
      "2     1\n",
      "3     2\n",
      "4     1\n",
      "     ..\n",
      "95    2\n",
      "96    1\n",
      "97    2\n",
      "98    1\n",
      "99    2\n",
      "Name: fid, Length: 100, dtype: int64\n",
      "Creo el grid\n",
      "fid:\n",
      " 0     1\n",
      "1     2\n",
      "2     1\n",
      "3     2\n",
      "4     1\n",
      "     ..\n",
      "95    2\n",
      "96    1\n",
      "97    2\n",
      "98    1\n",
      "99    2\n",
      "Name: fid, Length: 100, dtype: int64\n",
      "Creo el grid\n",
      "fid:\n",
      " 0     1\n",
      "1     2\n",
      "2     1\n",
      "3     2\n",
      "4     1\n",
      "     ..\n",
      "95    2\n",
      "96    1\n",
      "97    2\n",
      "98    1\n",
      "99    2\n",
      "Name: fid, Length: 100, dtype: int64\n",
      "Creo el grid\n",
      "fid:\n",
      " 0     1\n",
      "1     2\n",
      "2     1\n",
      "3     2\n",
      "4     1\n",
      "     ..\n",
      "95    2\n",
      "96    1\n",
      "97    2\n",
      "98    1\n",
      "99    2\n",
      "Name: fid, Length: 100, dtype: int64\n",
      "Creo el grid\n",
      "fid:\n",
      " 0     1\n",
      "1     2\n",
      "2     1\n",
      "3     2\n",
      "4     1\n",
      "     ..\n",
      "95    2\n",
      "96    1\n",
      "97    2\n",
      "98    1\n",
      "99    2\n",
      "Name: fid, Length: 100, dtype: int64\n",
      "Creo el grid\n",
      "fid:\n",
      " 0     1\n",
      "1     2\n",
      "2     1\n",
      "3     2\n",
      "4     1\n",
      "     ..\n",
      "95    2\n",
      "96    1\n",
      "97    2\n",
      "98    1\n",
      "99    2\n",
      "Name: fid, Length: 100, dtype: int64\n",
      "Creo el grid\n",
      "fid:\n",
      " 0     1\n",
      "1     2\n",
      "2     1\n",
      "3     2\n",
      "4     1\n",
      "     ..\n",
      "95    2\n",
      "96    1\n",
      "97    2\n",
      "98    1\n",
      "99    2\n",
      "Name: fid, Length: 100, dtype: int64\n",
      "Creo el grid\n",
      "fid:\n",
      " 0     1\n",
      "1     2\n",
      "2     1\n",
      "3     2\n",
      "4     1\n",
      "     ..\n",
      "95    2\n",
      "96    1\n",
      "97    2\n",
      "98    1\n",
      "99    2\n",
      "Name: fid, Length: 100, dtype: int64\n",
      "Creo el grid\n",
      "fid:\n",
      " 0     1\n",
      "1     2\n",
      "2     1\n",
      "3     2\n",
      "4     1\n",
      "     ..\n",
      "95    2\n",
      "96    1\n",
      "97    2\n",
      "98    1\n",
      "99    2\n",
      "Name: fid, Length: 100, dtype: int64\n",
      "Creo el grid\n",
      "fid:\n",
      " 0     1\n",
      "1     2\n",
      "2     1\n",
      "3     2\n",
      "4     1\n",
      "     ..\n",
      "95    2\n",
      "96    1\n",
      "97    2\n",
      "98    1\n",
      "99    2\n",
      "Name: fid, Length: 100, dtype: int64\n",
      "Creo el grid\n",
      "Paso el Get data\n",
      "Shape pre-encoder torch.Size([32, 5, 300])\n",
      "Shape Encoder: torch.Size([32, 64, 306])\n",
      "Shape mu: torch.Size([64, 20])\n",
      "Shape log_var: torch.Size([64, 20])\n"
     ]
    },
    {
     "name": "stderr",
     "output_type": "stream",
     "text": [
      "/tmp/ipykernel_5342/3808935312.py:7: UserWarning: To copy construct from a tensor, it is recommended to use sourceTensor.clone().detach() or sourceTensor.clone().detach().requires_grad_(True), rather than torch.tensor(sourceTensor).\n",
      "  nll = (0.5 * torch.tensor(results['obs_weight']) * torch.tensor(results['obs_flux'])**2)\n",
      "/tmp/ipykernel_5342/3808935312.py:8: UserWarning: To copy construct from a tensor, it is recommended to use sourceTensor.clone().detach() or sourceTensor.clone().detach().requires_grad_(True), rather than torch.tensor(sourceTensor).\n",
      "  kld = -0.5 * (1 + torch.tensor(results['encoding_logvar'], requires_grad=True)\n",
      "/tmp/ipykernel_5342/3808935312.py:9: UserWarning: To copy construct from a tensor, it is recommended to use sourceTensor.clone().detach() or sourceTensor.clone().detach().requires_grad_(True), rather than torch.tensor(sourceTensor).\n",
      "  - torch.tensor(results['encoding_mu'], requires_grad=True)**2\n",
      "/tmp/ipykernel_5342/3808935312.py:10: UserWarning: To copy construct from a tensor, it is recommended to use sourceTensor.clone().detach() or sourceTensor.clone().detach().requires_grad_(True), rather than torch.tensor(sourceTensor).\n",
      "  - torch.exp(torch.tensor(results['encoding_logvar'], requires_grad=True)))\n"
     ]
    },
    {
     "name": "stdout",
     "output_type": "stream",
     "text": [
      "Comenzo get_data\n",
      "fid:\n",
      " 0     1\n",
      "1     2\n",
      "2     1\n",
      "3     2\n",
      "4     1\n",
      "     ..\n",
      "95    2\n",
      "96    1\n",
      "97    2\n",
      "98    1\n",
      "99    2\n",
      "Name: fid, Length: 100, dtype: int64\n",
      "Creo el grid\n",
      "fid:\n",
      " 0     1\n",
      "1     2\n",
      "2     1\n",
      "3     2\n",
      "4     1\n",
      "     ..\n",
      "95    2\n",
      "96    1\n",
      "97    2\n",
      "98    1\n",
      "99    2\n",
      "Name: fid, Length: 100, dtype: int64\n",
      "Creo el grid\n",
      "fid:\n",
      " 0     1\n",
      "1     2\n",
      "2     1\n",
      "3     2\n",
      "4     1\n",
      "     ..\n",
      "95    2\n",
      "96    1\n",
      "97    2\n",
      "98    1\n",
      "99    2\n",
      "Name: fid, Length: 100, dtype: int64\n",
      "Creo el grid\n",
      "fid:\n",
      " 0     1\n",
      "1     2\n",
      "2     1\n",
      "3     2\n",
      "4     1\n",
      "     ..\n",
      "95    2\n",
      "96    1\n",
      "97    2\n",
      "98    1\n",
      "99    2\n",
      "Name: fid, Length: 100, dtype: int64\n",
      "Creo el grid\n",
      "fid:\n",
      " 0     1\n",
      "1     2\n",
      "2     1\n",
      "3     2\n",
      "4     1\n",
      "     ..\n",
      "95    2\n",
      "96    1\n",
      "97    2\n",
      "98    1\n",
      "99    2\n",
      "Name: fid, Length: 100, dtype: int64\n",
      "Creo el grid\n",
      "fid:\n",
      " 0     1\n",
      "1     2\n",
      "2     1\n",
      "3     2\n",
      "4     1\n",
      "     ..\n",
      "95    2\n",
      "96    1\n",
      "97    2\n",
      "98    1\n",
      "99    2\n",
      "Name: fid, Length: 100, dtype: int64\n",
      "Creo el grid\n",
      "fid:\n",
      " 0     1\n",
      "1     2\n",
      "2     1\n",
      "3     2\n",
      "4     1\n",
      "     ..\n",
      "95    2\n",
      "96    1\n",
      "97    2\n",
      "98    1\n",
      "99    2\n",
      "Name: fid, Length: 100, dtype: int64\n",
      "Creo el grid\n",
      "fid:\n",
      " 0     1\n",
      "1     2\n",
      "2     1\n",
      "3     2\n",
      "4     1\n",
      "     ..\n",
      "95    2\n",
      "96    1\n",
      "97    2\n",
      "98    1\n",
      "99    2\n",
      "Name: fid, Length: 100, dtype: int64\n",
      "Creo el grid\n",
      "fid:\n",
      " 0     1\n",
      "1     2\n",
      "2     1\n",
      "3     2\n",
      "4     1\n",
      "     ..\n",
      "95    2\n",
      "96    1\n",
      "97    2\n",
      "98    1\n",
      "99    2\n",
      "Name: fid, Length: 100, dtype: int64\n",
      "Creo el grid\n",
      "fid:\n",
      " 0     1\n",
      "1     2\n",
      "2     1\n",
      "3     2\n",
      "4     1\n",
      "     ..\n",
      "95    2\n",
      "96    1\n",
      "97    2\n",
      "98    1\n",
      "99    2\n",
      "Name: fid, Length: 100, dtype: int64\n",
      "Creo el grid\n",
      "fid:\n",
      " 0     1\n",
      "1     2\n",
      "2     1\n",
      "3     2\n",
      "4     1\n",
      "     ..\n",
      "95    2\n",
      "96    1\n",
      "97    2\n",
      "98    1\n",
      "99    2\n",
      "Name: fid, Length: 100, dtype: int64\n",
      "Creo el grid\n",
      "fid:\n",
      " 0     1\n",
      "1     2\n",
      "2     1\n",
      "3     2\n",
      "4     1\n",
      "     ..\n",
      "95    2\n",
      "96    1\n",
      "97    2\n",
      "98    1\n",
      "99    2\n",
      "Name: fid, Length: 100, dtype: int64\n",
      "Creo el grid\n",
      "fid:\n",
      " 0     1\n",
      "1     2\n",
      "2     1\n",
      "3     2\n",
      "4     1\n",
      "     ..\n",
      "95    2\n",
      "96    1\n",
      "97    2\n",
      "98    1\n",
      "99    2\n",
      "Name: fid, Length: 100, dtype: int64\n",
      "Creo el grid\n",
      "fid:\n",
      " 0     1\n",
      "1     2\n",
      "2     1\n",
      "3     2\n",
      "4     1\n",
      "     ..\n",
      "95    2\n",
      "96    1\n",
      "97    2\n",
      "98    1\n",
      "99    2\n",
      "Name: fid, Length: 100, dtype: int64\n",
      "Creo el grid\n",
      "fid:\n",
      " 0     1\n",
      "1     2\n",
      "2     1\n",
      "3     2\n",
      "4     1\n",
      "     ..\n",
      "95    2\n",
      "96    1\n",
      "97    2\n",
      "98    1\n",
      "99    2\n",
      "Name: fid, Length: 100, dtype: int64\n",
      "Creo el grid\n",
      "fid:\n",
      " 0     1\n",
      "1     2\n",
      "2     1\n",
      "3     2\n",
      "4     1\n",
      "     ..\n",
      "95    2\n",
      "96    1\n",
      "97    2\n",
      "98    1\n",
      "99    2\n",
      "Name: fid, Length: 100, dtype: int64\n",
      "Creo el grid\n",
      "fid:\n",
      " 0     1\n",
      "1     2\n",
      "2     1\n",
      "3     2\n",
      "4     1\n",
      "     ..\n",
      "95    2\n",
      "96    1\n",
      "97    2\n",
      "98    1\n",
      "99    2\n",
      "Name: fid, Length: 100, dtype: int64\n",
      "Creo el grid\n",
      "fid:\n",
      " 0     1\n",
      "1     2\n",
      "2     1\n",
      "3     2\n",
      "4     1\n",
      "     ..\n",
      "95    2\n",
      "96    1\n",
      "97    2\n",
      "98    1\n",
      "99    2\n",
      "Name: fid, Length: 100, dtype: int64\n",
      "Creo el grid\n",
      "fid:\n",
      " 0     1\n",
      "1     2\n",
      "2     1\n",
      "3     2\n",
      "4     1\n",
      "     ..\n",
      "95    2\n",
      "96    1\n",
      "97    2\n",
      "98    1\n",
      "99    2\n",
      "Name: fid, Length: 100, dtype: int64\n",
      "Creo el grid\n",
      "fid:\n",
      " 0     1\n",
      "1     2\n",
      "2     1\n",
      "3     2\n",
      "4     1\n",
      "     ..\n",
      "95    2\n",
      "96    1\n",
      "97    2\n",
      "98    1\n",
      "99    2\n",
      "Name: fid, Length: 100, dtype: int64\n",
      "Creo el grid\n",
      "fid:\n",
      " 0     1\n",
      "1     2\n",
      "2     1\n",
      "3     2\n",
      "4     1\n",
      "     ..\n",
      "95    2\n",
      "96    1\n",
      "97    2\n",
      "98    1\n",
      "99    2\n",
      "Name: fid, Length: 100, dtype: int64\n",
      "Creo el grid\n",
      "fid:\n",
      " 0     1\n",
      "1     2\n",
      "2     1\n",
      "3     2\n",
      "4     1\n",
      "     ..\n",
      "95    2\n",
      "96    1\n",
      "97    2\n",
      "98    1\n",
      "99    2\n",
      "Name: fid, Length: 100, dtype: int64\n",
      "Creo el grid\n",
      "fid:\n",
      " 0     1\n",
      "1     2\n",
      "2     1\n",
      "3     2\n",
      "4     1\n",
      "     ..\n",
      "95    2\n",
      "96    1\n",
      "97    2\n",
      "98    1\n",
      "99    2\n",
      "Name: fid, Length: 100, dtype: int64\n",
      "Creo el grid\n",
      "fid:\n",
      " 0     1\n",
      "1     2\n",
      "2     1\n",
      "3     2\n",
      "4     1\n",
      "     ..\n",
      "95    2\n",
      "96    1\n",
      "97    2\n",
      "98    1\n",
      "99    2\n",
      "Name: fid, Length: 100, dtype: int64\n",
      "Creo el grid\n",
      "fid:\n",
      " 0     1\n",
      "1     2\n",
      "2     1\n",
      "3     2\n",
      "4     1\n",
      "     ..\n",
      "95    2\n",
      "96    1\n",
      "97    2\n",
      "98    1\n",
      "99    2\n",
      "Name: fid, Length: 100, dtype: int64\n",
      "Creo el grid\n",
      "fid:\n",
      " 0     1\n",
      "1     2\n",
      "2     1\n",
      "3     2\n",
      "4     1\n",
      "     ..\n",
      "95    2\n",
      "96    1\n",
      "97    2\n",
      "98    1\n",
      "99    2\n",
      "Name: fid, Length: 100, dtype: int64\n",
      "Creo el grid\n",
      "fid:\n",
      " 0     1\n",
      "1     2\n",
      "2     1\n",
      "3     2\n",
      "4     1\n",
      "     ..\n",
      "95    2\n",
      "96    1\n",
      "97    2\n",
      "98    1\n",
      "99    2\n",
      "Name: fid, Length: 100, dtype: int64\n",
      "Creo el grid\n",
      "fid:\n",
      " 0     1\n",
      "1     2\n",
      "2     1\n",
      "3     2\n",
      "4     1\n",
      "     ..\n",
      "95    2\n",
      "96    1\n",
      "97    2\n",
      "98    1\n",
      "99    2\n",
      "Name: fid, Length: 100, dtype: int64\n",
      "Creo el grid\n",
      "fid:\n",
      " 0     1\n",
      "1     2\n",
      "2     1\n",
      "3     2\n",
      "4     1\n",
      "     ..\n",
      "95    2\n",
      "96    1\n",
      "97    2\n",
      "98    1\n",
      "99    2\n",
      "Name: fid, Length: 100, dtype: int64\n",
      "Creo el grid\n",
      "fid:\n",
      " 0     1\n",
      "1     2\n",
      "2     1\n",
      "3     2\n",
      "4     1\n",
      "     ..\n",
      "95    2\n",
      "96    1\n",
      "97    2\n",
      "98    1\n",
      "99    2\n",
      "Name: fid, Length: 100, dtype: int64\n",
      "Creo el grid\n",
      "fid:\n",
      " 0     1\n",
      "1     2\n",
      "2     1\n",
      "3     2\n",
      "4     1\n",
      "     ..\n",
      "95    2\n",
      "96    1\n",
      "97    2\n",
      "98    1\n",
      "99    2\n",
      "Name: fid, Length: 100, dtype: int64\n",
      "Creo el grid\n",
      "fid:\n",
      " 0     1\n",
      "1     2\n",
      "2     1\n",
      "3     2\n",
      "4     1\n",
      "     ..\n",
      "95    2\n",
      "96    1\n",
      "97    2\n",
      "98    1\n",
      "99    2\n",
      "Name: fid, Length: 100, dtype: int64\n",
      "Creo el grid\n",
      "Paso el Get data\n",
      "Shape pre-encoder torch.Size([32, 5, 300])\n",
      "Shape Encoder: torch.Size([32, 64, 306])\n",
      "Shape mu: torch.Size([64, 20])\n",
      "Shape log_var: torch.Size([64, 20])\n",
      "Comenzo get_data\n",
      "fid:\n",
      " 0     1\n",
      "1     2\n",
      "2     1\n",
      "3     2\n",
      "4     1\n",
      "     ..\n",
      "95    2\n",
      "96    1\n",
      "97    2\n",
      "98    1\n",
      "99    2\n",
      "Name: fid, Length: 100, dtype: int64\n",
      "Creo el grid\n"
     ]
    },
    {
     "name": "stderr",
     "output_type": "stream",
     "text": [
      "/tmp/ipykernel_5342/3808935312.py:7: UserWarning: To copy construct from a tensor, it is recommended to use sourceTensor.clone().detach() or sourceTensor.clone().detach().requires_grad_(True), rather than torch.tensor(sourceTensor).\n",
      "  nll = (0.5 * torch.tensor(results['obs_weight']) * torch.tensor(results['obs_flux'])**2)\n",
      "/tmp/ipykernel_5342/3808935312.py:8: UserWarning: To copy construct from a tensor, it is recommended to use sourceTensor.clone().detach() or sourceTensor.clone().detach().requires_grad_(True), rather than torch.tensor(sourceTensor).\n",
      "  kld = -0.5 * (1 + torch.tensor(results['encoding_logvar'], requires_grad=True)\n",
      "/tmp/ipykernel_5342/3808935312.py:9: UserWarning: To copy construct from a tensor, it is recommended to use sourceTensor.clone().detach() or sourceTensor.clone().detach().requires_grad_(True), rather than torch.tensor(sourceTensor).\n",
      "  - torch.tensor(results['encoding_mu'], requires_grad=True)**2\n",
      "/tmp/ipykernel_5342/3808935312.py:10: UserWarning: To copy construct from a tensor, it is recommended to use sourceTensor.clone().detach() or sourceTensor.clone().detach().requires_grad_(True), rather than torch.tensor(sourceTensor).\n",
      "  - torch.exp(torch.tensor(results['encoding_logvar'], requires_grad=True)))\n"
     ]
    },
    {
     "name": "stdout",
     "output_type": "stream",
     "text": [
      "fid:\n",
      " 0     1\n",
      "1     2\n",
      "2     1\n",
      "3     2\n",
      "4     1\n",
      "     ..\n",
      "95    2\n",
      "96    1\n",
      "97    2\n",
      "98    1\n",
      "99    2\n",
      "Name: fid, Length: 100, dtype: int64\n",
      "Creo el grid\n",
      "fid:\n",
      " 0     1\n",
      "1     2\n",
      "2     1\n",
      "3     2\n",
      "4     1\n",
      "     ..\n",
      "95    2\n",
      "96    1\n",
      "97    2\n",
      "98    1\n",
      "99    2\n",
      "Name: fid, Length: 100, dtype: int64\n",
      "Creo el grid\n",
      "fid:\n",
      " 0     1\n",
      "1     2\n",
      "2     1\n",
      "3     2\n",
      "4     1\n",
      "     ..\n",
      "95    2\n",
      "96    1\n",
      "97    2\n",
      "98    1\n",
      "99    2\n",
      "Name: fid, Length: 100, dtype: int64\n",
      "Creo el grid\n",
      "fid:\n",
      " 0     1\n",
      "1     2\n",
      "2     1\n",
      "3     2\n",
      "4     1\n",
      "     ..\n",
      "95    2\n",
      "96    1\n",
      "97    2\n",
      "98    1\n",
      "99    2\n",
      "Name: fid, Length: 100, dtype: int64\n",
      "Creo el grid\n",
      "fid:\n",
      " 0     1\n",
      "1     2\n",
      "2     1\n",
      "3     2\n",
      "4     1\n",
      "     ..\n",
      "95    2\n",
      "96    1\n",
      "97    2\n",
      "98    1\n",
      "99    2\n",
      "Name: fid, Length: 100, dtype: int64\n",
      "Creo el grid\n",
      "fid:\n",
      " 0     1\n",
      "1     2\n",
      "2     1\n",
      "3     2\n",
      "4     1\n",
      "     ..\n",
      "95    2\n",
      "96    1\n",
      "97    2\n",
      "98    1\n",
      "99    2\n",
      "Name: fid, Length: 100, dtype: int64\n",
      "Creo el grid\n",
      "fid:\n",
      " 0     1\n",
      "1     2\n",
      "2     1\n",
      "3     2\n",
      "4     1\n",
      "     ..\n",
      "95    2\n",
      "96    1\n",
      "97    2\n",
      "98    1\n",
      "99    2\n",
      "Name: fid, Length: 100, dtype: int64\n",
      "Creo el grid\n",
      "Paso el Get data\n",
      "Shape pre-encoder torch.Size([8, 5, 300])\n",
      "Shape Encoder: torch.Size([8, 64, 306])\n"
     ]
    },
    {
     "ename": "RuntimeError",
     "evalue": "mat1 and mat2 shapes cannot be multiplied (64x2448 and 9792x64)",
     "output_type": "error",
     "traceback": [
      "\u001b[0;31m---------------------------------------------------------------------------\u001b[0m",
      "\u001b[0;31mRuntimeError\u001b[0m                              Traceback (most recent call last)",
      "Cell \u001b[0;32mIn[49], line 6\u001b[0m\n\u001b[1;32m      4\u001b[0m test_loss \u001b[38;5;241m=\u001b[39m \u001b[38;5;241m0.0\u001b[39m\n\u001b[1;32m      5\u001b[0m \u001b[38;5;28;01mfor\u001b[39;00m batch \u001b[38;5;129;01min\u001b[39;00m test_loader_synthetic:\n\u001b[0;32m----> 6\u001b[0m     results \u001b[38;5;241m=\u001b[39m \u001b[43mmodel\u001b[49m\u001b[38;5;241;43m.\u001b[39;49m\u001b[43mobtain_results\u001b[49m\u001b[43m(\u001b[49m\u001b[43mbatch\u001b[49m\u001b[43m)\u001b[49m\n\u001b[1;32m      7\u001b[0m     predictions\u001b[38;5;241m.\u001b[39mappend(results)\n\u001b[1;32m      8\u001b[0m     loss \u001b[38;5;241m=\u001b[39m loss_function(results)\n",
      "Cell \u001b[0;32mIn[43], line 79\u001b[0m, in \u001b[0;36mModelV1.obtain_results\u001b[0;34m(self, light_curves)\u001b[0m\n\u001b[1;32m     76\u001b[0m \u001b[38;5;28mprint\u001b[39m(\u001b[38;5;124m'\u001b[39m\u001b[38;5;124mPaso el Get data\u001b[39m\u001b[38;5;124m'\u001b[39m)\n\u001b[1;32m     78\u001b[0m \u001b[38;5;66;03m# Encode the light_curves\u001b[39;00m\n\u001b[0;32m---> 79\u001b[0m encoding_mu, encoding_logvar \u001b[38;5;241m=\u001b[39m \u001b[38;5;28;43mself\u001b[39;49m\u001b[38;5;241;43m.\u001b[39;49m\u001b[43mencode\u001b[49m\u001b[43m(\u001b[49m\u001b[43mdata\u001b[49m\u001b[43m[\u001b[49m\u001b[38;5;124;43m'\u001b[39;49m\u001b[38;5;124;43minput_data\u001b[39;49m\u001b[38;5;124;43m'\u001b[39;49m\u001b[43m]\u001b[49m\u001b[43m)\u001b[49m\n\u001b[1;32m     80\u001b[0m \u001b[38;5;66;03m#print(encoding_mu)\u001b[39;00m\n\u001b[1;32m     81\u001b[0m \u001b[38;5;66;03m#print(encoding_logvar)\u001b[39;00m\n\u001b[1;32m     83\u001b[0m time \u001b[38;5;241m=\u001b[39m data[\u001b[38;5;124m'\u001b[39m\u001b[38;5;124mcompare_data\u001b[39m\u001b[38;5;124m'\u001b[39m][:,\u001b[38;5;241m0\u001b[39m]\n",
      "Cell \u001b[0;32mIn[43], line 49\u001b[0m, in \u001b[0;36mModelV1.encode\u001b[0;34m(self, x)\u001b[0m\n\u001b[1;32m     47\u001b[0m x \u001b[38;5;241m=\u001b[39m x\u001b[38;5;241m.\u001b[39mview(\u001b[38;5;241m64\u001b[39m, \u001b[38;5;241m-\u001b[39m\u001b[38;5;241m1\u001b[39m) \u001b[38;5;66;03m# Flatten the output, keeping batch dimension\u001b[39;00m\n\u001b[1;32m     48\u001b[0m \u001b[38;5;66;03m#print('Shape after flattening:', x.shape)\u001b[39;00m\n\u001b[0;32m---> 49\u001b[0m x \u001b[38;5;241m=\u001b[39m \u001b[38;5;28;43mself\u001b[39;49m\u001b[38;5;241;43m.\u001b[39;49m\u001b[43mlinear\u001b[49m\u001b[43m(\u001b[49m\u001b[43mx\u001b[49m\u001b[43m)\u001b[49m\n\u001b[1;32m     50\u001b[0m mu, log_var \u001b[38;5;241m=\u001b[39m \u001b[38;5;28mself\u001b[39m\u001b[38;5;241m.\u001b[39mencode_mean(x), \u001b[38;5;28mself\u001b[39m\u001b[38;5;241m.\u001b[39mencode_logvar(x)\n\u001b[1;32m     51\u001b[0m \u001b[38;5;28mprint\u001b[39m(\u001b[38;5;124m'\u001b[39m\u001b[38;5;124mShape mu:\u001b[39m\u001b[38;5;124m'\u001b[39m,mu\u001b[38;5;241m.\u001b[39mshape)\n",
      "File \u001b[0;32m~/.local/lib/python3.12/site-packages/torch/nn/modules/module.py:1553\u001b[0m, in \u001b[0;36mModule._wrapped_call_impl\u001b[0;34m(self, *args, **kwargs)\u001b[0m\n\u001b[1;32m   1551\u001b[0m     \u001b[38;5;28;01mreturn\u001b[39;00m \u001b[38;5;28mself\u001b[39m\u001b[38;5;241m.\u001b[39m_compiled_call_impl(\u001b[38;5;241m*\u001b[39margs, \u001b[38;5;241m*\u001b[39m\u001b[38;5;241m*\u001b[39mkwargs)  \u001b[38;5;66;03m# type: ignore[misc]\u001b[39;00m\n\u001b[1;32m   1552\u001b[0m \u001b[38;5;28;01melse\u001b[39;00m:\n\u001b[0;32m-> 1553\u001b[0m     \u001b[38;5;28;01mreturn\u001b[39;00m \u001b[38;5;28;43mself\u001b[39;49m\u001b[38;5;241;43m.\u001b[39;49m\u001b[43m_call_impl\u001b[49m\u001b[43m(\u001b[49m\u001b[38;5;241;43m*\u001b[39;49m\u001b[43margs\u001b[49m\u001b[43m,\u001b[49m\u001b[43m \u001b[49m\u001b[38;5;241;43m*\u001b[39;49m\u001b[38;5;241;43m*\u001b[39;49m\u001b[43mkwargs\u001b[49m\u001b[43m)\u001b[49m\n",
      "File \u001b[0;32m~/.local/lib/python3.12/site-packages/torch/nn/modules/module.py:1562\u001b[0m, in \u001b[0;36mModule._call_impl\u001b[0;34m(self, *args, **kwargs)\u001b[0m\n\u001b[1;32m   1557\u001b[0m \u001b[38;5;66;03m# If we don't have any hooks, we want to skip the rest of the logic in\u001b[39;00m\n\u001b[1;32m   1558\u001b[0m \u001b[38;5;66;03m# this function, and just call forward.\u001b[39;00m\n\u001b[1;32m   1559\u001b[0m \u001b[38;5;28;01mif\u001b[39;00m \u001b[38;5;129;01mnot\u001b[39;00m (\u001b[38;5;28mself\u001b[39m\u001b[38;5;241m.\u001b[39m_backward_hooks \u001b[38;5;129;01mor\u001b[39;00m \u001b[38;5;28mself\u001b[39m\u001b[38;5;241m.\u001b[39m_backward_pre_hooks \u001b[38;5;129;01mor\u001b[39;00m \u001b[38;5;28mself\u001b[39m\u001b[38;5;241m.\u001b[39m_forward_hooks \u001b[38;5;129;01mor\u001b[39;00m \u001b[38;5;28mself\u001b[39m\u001b[38;5;241m.\u001b[39m_forward_pre_hooks\n\u001b[1;32m   1560\u001b[0m         \u001b[38;5;129;01mor\u001b[39;00m _global_backward_pre_hooks \u001b[38;5;129;01mor\u001b[39;00m _global_backward_hooks\n\u001b[1;32m   1561\u001b[0m         \u001b[38;5;129;01mor\u001b[39;00m _global_forward_hooks \u001b[38;5;129;01mor\u001b[39;00m _global_forward_pre_hooks):\n\u001b[0;32m-> 1562\u001b[0m     \u001b[38;5;28;01mreturn\u001b[39;00m \u001b[43mforward_call\u001b[49m\u001b[43m(\u001b[49m\u001b[38;5;241;43m*\u001b[39;49m\u001b[43margs\u001b[49m\u001b[43m,\u001b[49m\u001b[43m \u001b[49m\u001b[38;5;241;43m*\u001b[39;49m\u001b[38;5;241;43m*\u001b[39;49m\u001b[43mkwargs\u001b[49m\u001b[43m)\u001b[49m\n\u001b[1;32m   1564\u001b[0m \u001b[38;5;28;01mtry\u001b[39;00m:\n\u001b[1;32m   1565\u001b[0m     result \u001b[38;5;241m=\u001b[39m \u001b[38;5;28;01mNone\u001b[39;00m\n",
      "File \u001b[0;32m~/.local/lib/python3.12/site-packages/torch/nn/modules/linear.py:117\u001b[0m, in \u001b[0;36mLinear.forward\u001b[0;34m(self, input)\u001b[0m\n\u001b[1;32m    116\u001b[0m \u001b[38;5;28;01mdef\u001b[39;00m \u001b[38;5;21mforward\u001b[39m(\u001b[38;5;28mself\u001b[39m, \u001b[38;5;28minput\u001b[39m: Tensor) \u001b[38;5;241m-\u001b[39m\u001b[38;5;241m>\u001b[39m Tensor:\n\u001b[0;32m--> 117\u001b[0m     \u001b[38;5;28;01mreturn\u001b[39;00m \u001b[43mF\u001b[49m\u001b[38;5;241;43m.\u001b[39;49m\u001b[43mlinear\u001b[49m\u001b[43m(\u001b[49m\u001b[38;5;28;43minput\u001b[39;49m\u001b[43m,\u001b[49m\u001b[43m \u001b[49m\u001b[38;5;28;43mself\u001b[39;49m\u001b[38;5;241;43m.\u001b[39;49m\u001b[43mweight\u001b[49m\u001b[43m,\u001b[49m\u001b[43m \u001b[49m\u001b[38;5;28;43mself\u001b[39;49m\u001b[38;5;241;43m.\u001b[39;49m\u001b[43mbias\u001b[49m\u001b[43m)\u001b[49m\n",
      "\u001b[0;31mRuntimeError\u001b[0m: mat1 and mat2 shapes cannot be multiplied (64x2448 and 9792x64)"
     ]
    }
   ],
   "source": [
    "predictions = []\n",
    "model.eval()\n",
    "with torch.inference_mode():\n",
    "    test_loss = 0.0\n",
    "    for batch in test_loader_synthetic:\n",
    "        results = model.obtain_results(batch)\n",
    "        predictions.append(results)\n",
    "        loss = loss_function(results)\n",
    "\n",
    "        test_loss += loss.item()\n",
    "\n",
    "    print(f'Test Loss: {test_loss / len(batch)}')"
   ]
  },
  {
   "cell_type": "code",
   "execution_count": 50,
   "metadata": {},
   "outputs": [
    {
     "data": {
      "text/plain": [
       "dict_keys(['redshift', 'time', 'obs_flux', 'obs_fluxerr', 'obs_weight', 'fid', 'encoding_mu', 'encoding_logvar'])"
      ]
     },
     "execution_count": 50,
     "metadata": {},
     "output_type": "execute_result"
    }
   ],
   "source": [
    "predictions[0].keys()"
   ]
  },
  {
   "cell_type": "code",
   "execution_count": 51,
   "metadata": {},
   "outputs": [
    {
     "name": "stdout",
     "output_type": "stream",
     "text": [
      "tensor([[7.0678e-25, 1.0480e-24, 6.9625e-25,  ..., 8.6663e-26, 3.7850e-26,\n",
      "         8.5787e-26],\n",
      "        [4.8742e-25, 7.2358e-25, 4.8016e-25,  ..., 8.6824e-26, 3.7878e-26,\n",
      "         8.5947e-26],\n",
      "        [5.2029e-25, 7.7220e-25, 5.1254e-25,  ..., 8.6796e-26, 3.7873e-26,\n",
      "         8.5919e-26],\n",
      "        ...,\n",
      "        [5.0331e-25, 7.4709e-25, 4.9581e-25,  ..., 8.6810e-26, 3.7875e-26,\n",
      "         8.5933e-26],\n",
      "        [7.0963e-25, 1.0522e-24, 6.9906e-25,  ..., 8.6661e-26, 3.7849e-26,\n",
      "         8.5786e-26],\n",
      "        [6.1455e-25, 9.1164e-25, 6.0539e-25,  ..., 8.6723e-26, 3.7860e-26,\n",
      "         8.5847e-26]])\n",
      "Predictions 0 shape obs_flux: torch.Size([32, 100])\n",
      "tensor([[ -4.1241,  -4.1241,  -2.0777,  ...,  94.1032,  96.1497,  96.1497],\n",
      "        [-29.1241, -29.1241, -27.0777,  ...,  69.1032,  71.1497,  71.1497],\n",
      "        [-29.1241, -29.1241, -27.0777,  ...,  69.1032,  71.1497,  71.1497],\n",
      "        ...,\n",
      "        [-29.1241, -29.1241, -27.0777,  ...,  69.1032,  71.1497,  71.1497],\n",
      "        [ -4.1241,  -4.1241,  -2.0777,  ...,  94.1032,  96.1497,  96.1497],\n",
      "        [-26.1241, -26.1241, -24.0777,  ...,  72.1032,  74.1497,  74.1497]])\n",
      "Predictions 0 shape obs_flux: torch.Size([32, 100])\n"
     ]
    }
   ],
   "source": [
    "print(predictions[0]['obs_flux'])\n",
    "print('Predictions 0 shape obs_flux:', predictions[0]['obs_flux'].shape)\n",
    "print(predictions[0]['time'])\n",
    "print('Predictions 0 shape obs_flux:', predictions[0]['time'].shape)"
   ]
  },
  {
   "cell_type": "code",
   "execution_count": 52,
   "metadata": {},
   "outputs": [
    {
     "data": {
      "image/png": "[encoded data removed]",
      "text/plain": [
       "<Figure size 640x480 with 1 Axes>"
      ]
     },
     "metadata": {},
     "output_type": "display_data"
    }
   ],
   "source": [
    "# Assuming 'predictions' contains the output from your model for the test set\n",
    "\n",
    "for i, batch in enumerate(test_loader_synthetic):\n",
    "  if i == 0:\n",
    "    # Access the data in the batch (assuming it's in the format [data, labels])\n",
    "    data = batch[0]\n",
    "    data = pd.DataFrame(data)\n",
    "    data_v = data[data['fid'] == 1]\n",
    "    data_r = data[data['fid'] == 2]\n",
    "    # Assuming your data has 'time' and 'obs_flux' attributes\n",
    "    time_v = data_v['mjd']\n",
    "    time_r = data_r['mjd']\n",
    "    obs_flux_r = data_r['flux']\n",
    "    obs_flux_v = data_v['flux']\n",
    "\n",
    "    # Plot the data from the test loader\n",
    "    plt.plot(time_v, obs_flux_v, '-o', label='Test Data V')\n",
    "    plt.plot(time_r, obs_flux_r, '-o', label='Test Data R')\n",
    "\n",
    "# Plot the predictions\n",
    "plt.plot(predictions[0]['time'][0], predictions[0]['obs_flux'][0], 'o', label='Predictions')\n",
    "\n",
    "plt.xlabel('Time')\n",
    "plt.ylabel('Observed Flux')\n",
    "plt.title('Test Data vs. Predictions')\n",
    "plt.legend()\n",
    "plt.show()"
   ]
  },
  {
   "cell_type": "code",
   "execution_count": null,
   "metadata": {},
   "outputs": [],
   "source": [
    "fig, ax = plt.subplots()\n",
    "ax.plot(np.arange(num_epoch), np.array(train_losses)/300)\n",
    "ax.set_xlabel('Epochs')\n",
    "ax.set_ylabel('Train loss')"
   ]
  },
  {
   "cell_type": "code",
   "execution_count": null,
   "metadata": {},
   "outputs": [],
   "source": [
    "def plot_curves(time, original_magnitude, reconstructed_magnitude, title='Curvas Originales y Reconstruidas'):\n",
    "    plt.figure(figsize=(12, 6))\n",
    "    plt.plot(time, original_magnitude, label='Original', linestyle='--', color='blue')\n",
    "    plt.plot(time, reconstructed_magnitude, label='Reconstruido', linestyle='-', color='red')\n",
    "    plt.xlabel('Tiempo')\n",
    "    plt.ylabel('Magnitud')\n",
    "    plt.title(title)\n",
    "    plt.legend()\n",
    "    plt.show()"
   ]
  },
  {
   "cell_type": "code",
   "execution_count": null,
   "metadata": {},
   "outputs": [],
   "source": [
    "model.eval()\n",
    "\n",
    "# Definir una lista para almacenar las pérdidas de cada muestra de prueba\n",
    "test_losses = []\n",
    "\n",
    "# Definir una lista para almacenar las reconstrucciones de las muestras de prueba\n",
    "reconstructions = []\n",
    "\n",
    "#with torch.inference_mode():\n",
    "with torch.inference_mode():\n",
    "    for _, group_oid in test_data_synthetic.groupby(by='oid'):\n",
    "        X = group_oid[['mjd','magpsf','sigmapsf']]\n",
    "        #X = process_light_curve_atat(X)# Karpathy constant is just a joke\n",
    "        X = process_light_curve_parsnip(X)\n",
    "        X, X_weights = create_grid(X)\n",
    "        time = X[0,:]\n",
    "        original_magnitude = X[1,:]\n",
    "        X = torch.tensor(X, dtype=torch.float32)\n",
    "        X_weights = torch.tensor(X_weights, dtype=torch.float32)\n",
    "        X = X.T\n",
    "        X_weights = X_weights.T\n",
    "\n",
    "        # Forward pass\n",
    "        X_reconstructed, mu, logvar = model(X)\n",
    "\n",
    "        #print(X_reconstructed)\n",
    "        # Convierte las predicciones a numpy\n",
    "        reconstructed_magnitude = X_reconstructed.cpu().numpy()[:,0]  # Segunda fila para magnitud\n",
    "        #print(len(reconstructed_magnitude))\n",
    "        \n",
    "        # Grafica\n",
    "        plot_curves(time, original_magnitude, reconstructed_magnitude, title=f'Curvas para OID {oid}')\n",
    "        \n",
    "        # Sal de la iteración si solo deseas graficar para un OID\n",
    "        break\n",
    "\n",
    "        # Compute loss\n",
    "        loss = loss_function(X_reconstructed, X_weights, mu, logvar)\n",
    "        #replace_nan_grads(model.parameters())\n",
    "\n",
    "        # Guardar la pérdida y las reconstrucciones\n",
    "        test_losses.append(loss.item())\n",
    "        reconstructions.append(X_reconstructed.cpu().numpy())\n",
    "\n",
    "    # Calcular la pérdida promedio en los datos de prueba\n",
    "    average_test_loss = np.mean(test_losses)\n",
    "    print(\"Average test loss:\", average_test_loss)"
   ]
  },
  {
   "cell_type": "code",
   "execution_count": null,
   "metadata": {},
   "outputs": [],
   "source": [
    "reconstructions = np.array(reconstructions)\n",
    "len(reconstructions[0][:,0]), len(reconstructions[0][:,1])"
   ]
  },
  {
   "cell_type": "code",
   "execution_count": null,
   "metadata": {},
   "outputs": [],
   "source": [
    "reconstructions[0][:,0]"
   ]
  },
  {
   "cell_type": "code",
   "execution_count": null,
   "metadata": {},
   "outputs": [],
   "source": [
    "sample_index = 2\n",
    "sample_data = test_data_synthetic[test_data_synthetic.oid == test_data_synthetic.oid.unique()[sample_index]]\n",
    "sample_data = process_light_curve_parsnip(sample_data)\n",
    "sample_data, _ = create_grid(sample_data)\n",
    "sample_reconstruction = reconstructions[sample_index]\n",
    "\n",
    "fig, ax = plt.subplots()\n",
    "\n",
    "ax.plot(sample_data[0,:], sample_data[1,:], 'o', color='C0')\n",
    "ax.plot(np.linspace(0,300,300), sample_reconstruction[:,1], 'o', color='C1')\n",
    "\n",
    "ax.set_xlabel('Time')\n",
    "ax.set_ylabel('Flux')\n",
    "ax.set_title('Original vs. Reconstructed Flux')\n",
    "#ax.legend()\n",
    "#ax.invert_yaxis()\n",
    "plt.show()"
   ]
  },
  {
   "cell_type": "code",
   "execution_count": null,
   "metadata": {},
   "outputs": [],
   "source": []
  }
 ],
 "metadata": {
  "kernelspec": {
   "display_name": "Python 3",
   "language": "python",
   "name": "python3"
  },
  "language_info": {
   "codemirror_mode": {
    "name": "ipython",
    "version": 3
   },
   "file_extension": ".py",
   "mimetype": "text/x-python",
   "name": "python",
   "nbconvert_exporter": "python",
   "pygments_lexer": "ipython3",
   "version": "3.10.12"
  }
 },
 "nbformat": 4,
 "nbformat_minor": 2
}
