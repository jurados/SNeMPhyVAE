{
 "cells": [
  {
   "cell_type": "code",
   "execution_count": 1,
   "id": "ec13b5b4",
   "metadata": {},
   "outputs": [],
   "source": [
    "import os\n",
    "import sys\n",
    "\n",
    "import numpy as np\n",
    "import pandas as pd\n",
    "\n",
    "import matplotlib.pyplot as plt\n",
    "import torch\n",
    "import torch.nn as nn\n",
    "import torch.optim as optim\n"
   ]
  },
  {
   "cell_type": "code",
   "execution_count": 82,
   "id": "83746f0f",
   "metadata": {},
   "outputs": [
    {
     "ename": "TypeError",
     "evalue": "linspace() received an invalid combination of arguments - got (int, int, Tensor), but expected one of:\n * (Tensor start, Tensor end, int steps, *, Tensor out = None, torch.dtype dtype = None, torch.layout layout = None, torch.device device = None, bool pin_memory = False, bool requires_grad = False)\n * (Number start, Tensor end, int steps, *, Tensor out = None, torch.dtype dtype = None, torch.layout layout = None, torch.device device = None, bool pin_memory = False, bool requires_grad = False)\n * (Tensor start, Number end, int steps, *, Tensor out = None, torch.dtype dtype = None, torch.layout layout = None, torch.device device = None, bool pin_memory = False, bool requires_grad = False)\n * (Number start, Number end, int steps, *, Tensor out = None, torch.dtype dtype = None, torch.layout layout = None, torch.device device = None, bool pin_memory = False, bool requires_grad = False)\n",
     "output_type": "error",
     "traceback": [
      "\u001b[31m---------------------------------------------------------------------------\u001b[39m",
      "\u001b[31mTypeError\u001b[39m                                 Traceback (most recent call last)",
      "\u001b[36mCell\u001b[39m\u001b[36m \u001b[39m\u001b[32mIn[82]\u001b[39m\u001b[32m, line 4\u001b[39m\n\u001b[32m      1\u001b[39m batch, sbins, time = \u001b[32m3\u001b[39m, \u001b[32m4\u001b[39m, \u001b[32m10\u001b[39m\n\u001b[32m      3\u001b[39m time = torch.linspace(-np.pi/\u001b[32m2\u001b[39m, \u001b[32m3\u001b[39m*np.pi/\u001b[32m2\u001b[39m, time)\n\u001b[32m----> \u001b[39m\u001b[32m4\u001b[39m wave = \u001b[43mtorch\u001b[49m\u001b[43m.\u001b[49m\u001b[43mlinspace\u001b[49m\u001b[43m(\u001b[49m\u001b[32;43m3\u001b[39;49m\u001b[43m,\u001b[49m\u001b[43m \u001b[49m\u001b[32;43m10\u001b[39;49m\u001b[43m,\u001b[49m\u001b[43m \u001b[49m\u001b[43mtime\u001b[49m\u001b[43m)\u001b[49m\n\u001b[32m      5\u001b[39m tensor = torch.sin(time).unsqueeze(\u001b[32m0\u001b[39m).unsqueeze(-\u001b[32m1\u001b[39m).expand(batch, sbins, time).permute(\u001b[32m0\u001b[39m,\u001b[32m2\u001b[39m,\u001b[32m1\u001b[39m)\n\u001b[32m      6\u001b[39m tensor, tensor.shape, tensor.dtype, tensor.device\n",
      "\u001b[31mTypeError\u001b[39m: linspace() received an invalid combination of arguments - got (int, int, Tensor), but expected one of:\n * (Tensor start, Tensor end, int steps, *, Tensor out = None, torch.dtype dtype = None, torch.layout layout = None, torch.device device = None, bool pin_memory = False, bool requires_grad = False)\n * (Number start, Tensor end, int steps, *, Tensor out = None, torch.dtype dtype = None, torch.layout layout = None, torch.device device = None, bool pin_memory = False, bool requires_grad = False)\n * (Tensor start, Number end, int steps, *, Tensor out = None, torch.dtype dtype = None, torch.layout layout = None, torch.device device = None, bool pin_memory = False, bool requires_grad = False)\n * (Number start, Number end, int steps, *, Tensor out = None, torch.dtype dtype = None, torch.layout layout = None, torch.device device = None, bool pin_memory = False, bool requires_grad = False)\n"
     ]
    }
   ],
   "source": [
    "batch, sbins, time = 3, 4, 10\n",
    "\n",
    "time = torch.linspace(-np.pi/2, 3*np.pi/2, time)\n",
    "wave = torch.linspace(3, 10, time)\n",
    "tensor = torch.sin(time).unsqueeze(0).unsqueeze(-1).expand(batch, sbins, time).permute(0,2,1)\n",
    "tensor, tensor.shape, tensor.dtype, tensor.device"
   ]
  },
  {
   "cell_type": "code",
   "execution_count": 83,
   "id": "7652fce6",
   "metadata": {},
   "outputs": [
    {
     "data": {
      "text/plain": [
       "(tensor([[[False, False, False,  True,  True,  True,  True, False, False, False],\n",
       "          [False, False, False,  True,  True,  True,  True, False, False, False],\n",
       "          [False, False, False,  True,  True,  True,  True, False, False, False],\n",
       "          [False, False, False,  True,  True,  True,  True, False, False, False]],\n",
       " \n",
       "         [[False, False, False,  True,  True,  True,  True, False, False, False],\n",
       "          [False, False, False,  True,  True,  True,  True, False, False, False],\n",
       "          [False, False, False,  True,  True,  True,  True, False, False, False],\n",
       "          [False, False, False,  True,  True,  True,  True, False, False, False]],\n",
       " \n",
       "         [[False, False, False,  True,  True,  True,  True, False, False, False],\n",
       "          [False, False, False,  True,  True,  True,  True, False, False, False],\n",
       "          [False, False, False,  True,  True,  True,  True, False, False, False],\n",
       "          [False, False, False,  True,  True,  True,  True, False, False, False]]]),\n",
       " torch.Size([3, 4, 10]),\n",
       " torch.bool,\n",
       " device(type='cpu'))"
      ]
     },
     "execution_count": 83,
     "metadata": {},
     "output_type": "execute_result"
    }
   ],
   "source": [
    "mask = tensor >= 0\n",
    "mask, mask.shape, mask.dtype, mask.device"
   ]
  },
  {
   "cell_type": "code",
   "execution_count": 84,
   "id": "8a040c59",
   "metadata": {},
   "outputs": [
    {
     "data": {
      "text/plain": [
       "(tensor([[[-0.0000, -0.0000, -0.0000, 0.5000, 0.9397, 0.9397, 0.5000, -0.0000,\n",
       "           -0.0000, -0.0000],\n",
       "          [-0.0000, -0.0000, -0.0000, 0.5000, 0.9397, 0.9397, 0.5000, -0.0000,\n",
       "           -0.0000, -0.0000],\n",
       "          [-0.0000, -0.0000, -0.0000, 0.5000, 0.9397, 0.9397, 0.5000, -0.0000,\n",
       "           -0.0000, -0.0000],\n",
       "          [-0.0000, -0.0000, -0.0000, 0.5000, 0.9397, 0.9397, 0.5000, -0.0000,\n",
       "           -0.0000, -0.0000]],\n",
       " \n",
       "         [[-0.0000, -0.0000, -0.0000, 0.5000, 0.9397, 0.9397, 0.5000, -0.0000,\n",
       "           -0.0000, -0.0000],\n",
       "          [-0.0000, -0.0000, -0.0000, 0.5000, 0.9397, 0.9397, 0.5000, -0.0000,\n",
       "           -0.0000, -0.0000],\n",
       "          [-0.0000, -0.0000, -0.0000, 0.5000, 0.9397, 0.9397, 0.5000, -0.0000,\n",
       "           -0.0000, -0.0000],\n",
       "          [-0.0000, -0.0000, -0.0000, 0.5000, 0.9397, 0.9397, 0.5000, -0.0000,\n",
       "           -0.0000, -0.0000]],\n",
       " \n",
       "         [[-0.0000, -0.0000, -0.0000, 0.5000, 0.9397, 0.9397, 0.5000, -0.0000,\n",
       "           -0.0000, -0.0000],\n",
       "          [-0.0000, -0.0000, -0.0000, 0.5000, 0.9397, 0.9397, 0.5000, -0.0000,\n",
       "           -0.0000, -0.0000],\n",
       "          [-0.0000, -0.0000, -0.0000, 0.5000, 0.9397, 0.9397, 0.5000, -0.0000,\n",
       "           -0.0000, -0.0000],\n",
       "          [-0.0000, -0.0000, -0.0000, 0.5000, 0.9397, 0.9397, 0.5000, -0.0000,\n",
       "           -0.0000, -0.0000]]]),\n",
       " torch.Size([3, 4, 10]),\n",
       " torch.float32,\n",
       " device(type='cpu'))"
      ]
     },
     "execution_count": 84,
     "metadata": {},
     "output_type": "execute_result"
    }
   ],
   "source": [
    "positive = tensor * mask.float()\n",
    "positive, positive.shape, positive.dtype, positive.device"
   ]
  },
  {
   "cell_type": "code",
   "execution_count": 85,
   "id": "b3a8a9fc",
   "metadata": {},
   "outputs": [],
   "source": [
    "from torchcubicspline import natural_cubic_spline_coeffs, NaturalCubicSpline"
   ]
  },
  {
   "cell_type": "code",
   "execution_count": 116,
   "id": "16882f68",
   "metadata": {},
   "outputs": [
    {
     "data": {
      "text/plain": [
       "(tensor([[[0.0000, 0.0000, 0.0000, 0.5000, 0.9397, 0.0000, 0.5000, 0.0000,\n",
       "           0.0000, 0.0000],\n",
       "          [0.0000, 0.0000, 0.0000, 0.5000, 0.9397, 0.0000, 0.5000, 0.0000,\n",
       "           0.0000, 0.0000],\n",
       "          [0.0000, 0.0000, 0.0000, 0.5000, 0.9397, 0.0000, 0.5000, 0.0000,\n",
       "           0.0000, 0.0000],\n",
       "          [0.0000, 0.0000, 0.0000, 0.5000, 0.9397, 0.0000, 0.5000, 0.0000,\n",
       "           0.0000, 0.0000]],\n",
       " \n",
       "         [[0.0000, 0.0000, 0.0000, 0.5000, 0.9397, 0.0000, 0.5000, 0.0000,\n",
       "           0.0000, 0.0000],\n",
       "          [0.0000, 0.0000, 0.0000, 0.5000, 0.9397, 0.0000, 0.5000, 0.0000,\n",
       "           0.0000, 0.0000],\n",
       "          [0.0000, 0.0000, 0.0000, 0.5000, 0.9397, 0.0000, 0.5000, 0.0000,\n",
       "           0.0000, 0.0000],\n",
       "          [0.0000, 0.0000, 0.0000, 0.5000, 0.9397, 0.0000, 0.5000, 0.0000,\n",
       "           0.0000, 0.0000]],\n",
       " \n",
       "         [[0.0000, 0.0000, 0.0000, 0.5000, 0.9397, 0.0000, 0.5000, 0.0000,\n",
       "           0.0000, 0.0000],\n",
       "          [0.0000, 0.0000, 0.0000, 0.5000, 0.9397, 0.0000, 0.5000, 0.0000,\n",
       "           0.0000, 0.0000],\n",
       "          [0.0000, 0.0000, 0.0000, 0.5000, 0.9397, 0.0000, 0.5000, 0.0000,\n",
       "           0.0000, 0.0000],\n",
       "          [0.0000, 0.0000, 0.0000, 0.5000, 0.9397, 0.0000, 0.5000, 0.0000,\n",
       "           0.0000, 0.0000]]]),\n",
       " torch.Size([3, 4, 10]),\n",
       " torch.float32,\n",
       " device(type='cpu'))"
      ]
     },
     "execution_count": 116,
     "metadata": {},
     "output_type": "execute_result"
    }
   ],
   "source": [
    "tensor_vacio = torch.zeros_like(tensor)\n",
    "\n",
    "for batch_idx in range(tensor.shape[0]):\n",
    "    for time_idx in range(tensor.shape[1]):\n",
    "        \n",
    "        spectrum = tensor[batch_idx, time_idx, :]\n",
    "        mask = spectrum >= 0\n",
    "        idx_original = torch.where(mask)[0]\n",
    "        #print(idx_original)\n",
    "        spectrum_positive = spectrum[mask]\n",
    "        #print(spectrum_positive)\n",
    "        #print(spectrum_positive.shape)\n",
    "        sp_idx   = torch.linspace(0, len(idx_original)-1, steps=3).long()\n",
    "        #print(sp_idx)\n",
    "        idx_wave = idx_original[sp_idx]\n",
    "        \n",
    "        wave_npoints     = wave[idx_wave]\n",
    "        spectrum_npoints = spectrum_positive[sp_idx]\n",
    "        \n",
    "        #print(\"Wave npoints:\")\n",
    "        #print(wave_npoints)\n",
    "        \n",
    "        #print(wave_npoints.shape)\n",
    "        #print(spectrum_npoints)\n",
    "        #print(spectrum_npoints.shape)\n",
    "        coeffs = natural_cubic_spline_coeffs(wave_npoints, spectrum_npoints.unsqueeze(-1))\n",
    "        spline = NaturalCubicSpline(coeffs)\n",
    "        \n",
    "        spline_values = spline.evaluate(wave_npoints)\n",
    "        #print(spline_values)\n",
    "        spline_tensor = torch.zeros_like(tensor[batch_idx, time_idx, :])\n",
    "        spline_tensor[idx_wave] = spline_values.squeeze(-1)\n",
    "        #print(spline_tensor)\n",
    "        \n",
    "        #plt.plot(wave, tensor[batch_idx, time_idx, :].cpu(), 'o', label='Original')\n",
    "        #plt.plot(wave, spectrum)\n",
    "        #plt.plot(wave_npoints, spectrum_npoints)\n",
    "        #plt.axhline(0, color='k', ls='--')\n",
    "        #plt.plot(wave_npoints, spline_values, color='red')\n",
    "        #plt.plot(wave, spline_tensor, color='green', ls='--', label='Spline')\n",
    "        #\n",
    "        #plt.show()\n",
    "        \n",
    "        tensor_vacio[batch_idx, time_idx, :] = spline_tensor\n",
    "\n",
    "tensor_vacio, tensor_vacio.shape, tensor_vacio.dtype, tensor_vacio.device"
   ]
  },
  {
   "cell_type": "code",
   "execution_count": null,
   "id": "9aace5c7",
   "metadata": {},
   "outputs": [],
   "source": []
  }
 ],
 "metadata": {
  "kernelspec": {
   "display_name": "SNeMPhyVAE (3.12.3)",
   "language": "python",
   "name": "python3"
  },
  "language_info": {
   "codemirror_mode": {
    "name": "ipython",
    "version": 3
   },
   "file_extension": ".py",
   "mimetype": "text/x-python",
   "name": "python",
   "nbconvert_exporter": "python",
   "pygments_lexer": "ipython3",
   "version": "3.12.3"
  }
 },
 "nbformat": 4,
 "nbformat_minor": 5
}
