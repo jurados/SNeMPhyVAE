{
 "cells": [
  {
   "cell_type": "code",
   "execution_count": 2,
   "id": "ec13b5b4",
   "metadata": {},
   "outputs": [],
   "source": [
    "import numpy as np\n",
    "import pandas as pd\n",
    "\n",
    "import matplotlib.pyplot as plt\n",
    "import torch\n",
    "import torch.nn as nn\n",
    "import torch.optim as optim\n"
   ]
  },
  {
   "cell_type": "code",
   "execution_count": 7,
   "id": "83746f0f",
   "metadata": {},
   "outputs": [
    {
     "data": {
      "text/plain": [
       "(tensor([[[-1.0086, -0.1969,  0.4743,  1.2332],\n",
       "          [ 0.8735,  0.8753,  0.0528,  0.9843]],\n",
       " \n",
       "         [[ 0.6155, -0.3092,  0.7226,  0.2468],\n",
       "          [ 0.8574, -0.4524,  2.1020,  0.0915]],\n",
       " \n",
       "         [[-0.4897,  0.7155, -1.6454,  0.0726],\n",
       "          [-0.0483, -0.2290,  0.2160, -2.1783]]]),\n",
       " torch.Size([3, 2, 4]),\n",
       " torch.float32,\n",
       " device(type='cpu'))"
      ]
     },
     "execution_count": 7,
     "metadata": {},
     "output_type": "execute_result"
    }
   ],
   "source": [
    "tensor = torch.randn(3, 4, 2).permute(0, 2, 1)\n",
    "tensor, tensor.shape, tensor.dtype, tensor.device"
   ]
  },
  {
   "cell_type": "code",
   "execution_count": 8,
   "id": "7652fce6",
   "metadata": {},
   "outputs": [
    {
     "data": {
      "text/plain": [
       "(tensor([[[False, False,  True,  True],\n",
       "          [ True,  True,  True,  True]],\n",
       " \n",
       "         [[ True, False,  True,  True],\n",
       "          [ True, False,  True,  True]],\n",
       " \n",
       "         [[False,  True, False,  True],\n",
       "          [False, False,  True, False]]]),\n",
       " torch.Size([3, 2, 4]),\n",
       " torch.bool,\n",
       " device(type='cpu'))"
      ]
     },
     "execution_count": 8,
     "metadata": {},
     "output_type": "execute_result"
    }
   ],
   "source": [
    "mask = tensor > 0\n",
    "mask, mask.shape, mask.dtype, mask.device"
   ]
  },
  {
   "cell_type": "code",
   "execution_count": 9,
   "id": "7638e10f",
   "metadata": {},
   "outputs": [
    {
     "data": {
      "text/plain": [
       "tensor([0, 1])"
      ]
     },
     "execution_count": 9,
     "metadata": {},
     "output_type": "execute_result"
    }
   ],
   "source": [
    "valid_mask = mask.any(dim=0).any(dim=1)\n",
    "valid_mask_index = torch.where(valid_mask)[0]\n",
    "valid_mask_index"
   ]
  },
  {
   "cell_type": "code",
   "execution_count": 11,
   "id": "8a040c59",
   "metadata": {},
   "outputs": [
    {
     "data": {
      "text/plain": [
       "tensor([0.4743, 1.2332, 0.8735, 0.8753, 0.0528, 0.9843, 0.6155, 0.7226, 0.2468,\n",
       "        0.8574, 2.1020, 0.0915, 0.7155, 0.0726, 0.2160])"
      ]
     },
     "execution_count": 11,
     "metadata": {},
     "output_type": "execute_result"
    }
   ],
   "source": [
    "tensor[mask]"
   ]
  },
  {
   "cell_type": "code",
   "execution_count": 10,
   "id": "8f6edba2",
   "metadata": {},
   "outputs": [
    {
     "data": {
      "text/plain": [
       "tensor([[[-1.0086, -0.1969,  0.4743,  1.2332],\n",
       "         [ 0.8735,  0.8753,  0.0528,  0.9843]],\n",
       "\n",
       "        [[ 0.6155, -0.3092,  0.7226,  0.2468],\n",
       "         [ 0.8574, -0.4524,  2.1020,  0.0915]]])"
      ]
     },
     "execution_count": 10,
     "metadata": {},
     "output_type": "execute_result"
    }
   ],
   "source": [
    "tensor[valid_mask_index]"
   ]
  }
 ],
 "metadata": {
  "kernelspec": {
   "display_name": "SNeMPhyVAE (3.12.3)",
   "language": "python",
   "name": "python3"
  },
  "language_info": {
   "codemirror_mode": {
    "name": "ipython",
    "version": 3
   },
   "file_extension": ".py",
   "mimetype": "text/x-python",
   "name": "python",
   "nbconvert_exporter": "python",
   "pygments_lexer": "ipython3",
   "version": "3.12.3"
  }
 },
 "nbformat": 4,
 "nbformat_minor": 5
}
