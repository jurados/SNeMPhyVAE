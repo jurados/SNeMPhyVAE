{
 "cells": [
  {
   "cell_type": "code",
   "execution_count": 23,
   "id": "ec13b5b4",
   "metadata": {},
   "outputs": [],
   "source": [
    "import os\n",
    "import sys\n",
    "\n",
    "import numpy as np\n",
    "import pandas as pd\n",
    "\n",
    "import matplotlib.pyplot as plt\n",
    "import torch\n",
    "import torch.nn as nn\n",
    "import torch.optim as optim\n"
   ]
  },
  {
   "cell_type": "code",
   "execution_count": 7,
   "id": "83746f0f",
   "metadata": {},
   "outputs": [
    {
     "data": {
      "text/plain": [
       "(tensor([[[-1.0086, -0.1969,  0.4743,  1.2332],\n",
       "          [ 0.8735,  0.8753,  0.0528,  0.9843]],\n",
       " \n",
       "         [[ 0.6155, -0.3092,  0.7226,  0.2468],\n",
       "          [ 0.8574, -0.4524,  2.1020,  0.0915]],\n",
       " \n",
       "         [[-0.4897,  0.7155, -1.6454,  0.0726],\n",
       "          [-0.0483, -0.2290,  0.2160, -2.1783]]]),\n",
       " torch.Size([3, 2, 4]),\n",
       " torch.float32,\n",
       " device(type='cpu'))"
      ]
     },
     "execution_count": 7,
     "metadata": {},
     "output_type": "execute_result"
    }
   ],
   "source": [
    "tensor = torch.randn(3, 4, 2).permute(0, 2, 1)\n",
    "tensor, tensor.shape, tensor.dtype, tensor.device"
   ]
  },
  {
   "cell_type": "code",
   "execution_count": 8,
   "id": "7652fce6",
   "metadata": {},
   "outputs": [
    {
     "data": {
      "text/plain": [
       "(tensor([[[False, False,  True,  True],\n",
       "          [ True,  True,  True,  True]],\n",
       " \n",
       "         [[ True, False,  True,  True],\n",
       "          [ True, False,  True,  True]],\n",
       " \n",
       "         [[False,  True, False,  True],\n",
       "          [False, False,  True, False]]]),\n",
       " torch.Size([3, 2, 4]),\n",
       " torch.bool,\n",
       " device(type='cpu'))"
      ]
     },
     "execution_count": 8,
     "metadata": {},
     "output_type": "execute_result"
    }
   ],
   "source": [
    "mask = tensor > 0\n",
    "mask, mask.shape, mask.dtype, mask.device"
   ]
  },
  {
   "cell_type": "code",
   "execution_count": 9,
   "id": "7638e10f",
   "metadata": {},
   "outputs": [
    {
     "data": {
      "text/plain": [
       "tensor([0, 1])"
      ]
     },
     "execution_count": 9,
     "metadata": {},
     "output_type": "execute_result"
    }
   ],
   "source": [
    "valid_mask = mask.any(dim=0).any(dim=1)\n",
    "valid_mask_index = torch.where(valid_mask)[0]\n",
    "valid_mask_index"
   ]
  },
  {
   "cell_type": "code",
   "execution_count": 11,
   "id": "8a040c59",
   "metadata": {},
   "outputs": [
    {
     "data": {
      "text/plain": [
       "tensor([0.4743, 1.2332, 0.8735, 0.8753, 0.0528, 0.9843, 0.6155, 0.7226, 0.2468,\n",
       "        0.8574, 2.1020, 0.0915, 0.7155, 0.0726, 0.2160])"
      ]
     },
     "execution_count": 11,
     "metadata": {},
     "output_type": "execute_result"
    }
   ],
   "source": [
    "tensor[mask]"
   ]
  },
  {
   "cell_type": "code",
   "execution_count": 10,
   "id": "8f6edba2",
   "metadata": {},
   "outputs": [
    {
     "data": {
      "text/plain": [
       "tensor([[[-1.0086, -0.1969,  0.4743,  1.2332],\n",
       "         [ 0.8735,  0.8753,  0.0528,  0.9843]],\n",
       "\n",
       "        [[ 0.6155, -0.3092,  0.7226,  0.2468],\n",
       "         [ 0.8574, -0.4524,  2.1020,  0.0915]]])"
      ]
     },
     "execution_count": 10,
     "metadata": {},
     "output_type": "execute_result"
    }
   ],
   "source": [
    "tensor[valid_mask_index]"
   ]
  },
  {
   "cell_type": "code",
   "execution_count": null,
   "id": "9aace5c7",
   "metadata": {},
   "outputs": [],
   "source": []
  },
  {
   "cell_type": "code",
   "execution_count": 29,
   "id": "1ee79acc",
   "metadata": {},
   "outputs": [],
   "source": [
    "import argparse\n",
    "import sys\n",
    "sys.path.append('../SNeMPhyVAE/scripts/')\n",
    "from settings import initial_settings"
   ]
  },
  {
   "cell_type": "code",
   "execution_count": 31,
   "id": "6830085b",
   "metadata": {},
   "outputs": [
    {
     "data": {
      "text/plain": [
       "{'sideral_scale': 1.0027379097096139,\n",
       " 'bands': None,\n",
       " 'reference_time': None,\n",
       " 'time_window': 300,\n",
       " 'time_pad': 100,\n",
       " 'error_floor': 0.01,\n",
       " 'time_sigma': 20.0,\n",
       " 'color_sigma': 0.3,\n",
       " 'magsys': 'ab',\n",
       " 'zeropoint': 25.0,\n",
       " 'min_wave': 3206.34,\n",
       " 'max_wave': 10915.01,\n",
       " 'spectrum_bins': 1838,\n",
       " 'band_oversampling': 51,\n",
       " 'max_redshift': 1.0,\n",
       " 'batch_size': 64,\n",
       " 'learning_rate': 0.001,\n",
       " 'penalty': 0.001,\n",
       " 'latent_size': 3,\n",
       " 'encode_conv_architecture': [40, 80, 120, 160, 200, 200, 200],\n",
       " 'encode_conv_dilations': [1, 2, 4, 8, 16, 32, 64],\n",
       " 'encode_fullyconnected_architecture': [200],\n",
       " 'encode_time_architecture': [200],\n",
       " 'encode_latent_prepool_architecture': [200],\n",
       " 'encode_latent_postpool_architecture': [200],\n",
       " 'decode_architecture': [40, 80, 160, 300]}"
      ]
     },
     "execution_count": 31,
     "metadata": {},
     "output_type": "execute_result"
    }
   ],
   "source": [
    "initial_settings"
   ]
  },
  {
   "cell_type": "code",
   "execution_count": 33,
   "id": "4c204b81",
   "metadata": {},
   "outputs": [
    {
     "name": "stderr",
     "output_type": "stream",
     "text": [
      "usage: ipykernel_launcher.py [-h] [--latent_size LATENT_SIZE]\n",
      "ipykernel_launcher.py: error: unrecognized arguments: --f=/run/user/1000/jupyter/runtime/kernel-v37656da4647f7bb97d10feb50986b4935ffe12ce4.json\n"
     ]
    },
    {
     "ename": "SystemExit",
     "evalue": "2",
     "output_type": "error",
     "traceback": [
      "An exception has occurred, use %tb to see the full traceback.\n",
      "\u001b[31mSystemExit\u001b[39m\u001b[31m:\u001b[39m 2\n"
     ]
    },
    {
     "name": "stderr",
     "output_type": "stream",
     "text": [
      "/home/jurados/SNeMPhyVAE/SNeMPhyVAE/lib/python3.12/site-packages/IPython/core/interactiveshell.py:3707: UserWarning: To exit: use 'exit', 'quit', or Ctrl-D.\n",
      "  warn(\"To exit: use 'exit', 'quit', or Ctrl-D.\", stacklevel=1)\n"
     ]
    }
   ],
   "source": [
    "parser = argparse.ArgumentParser()\n",
    "parser.add_argument('--latent_size', type=int, default=3, help='Size of the latent space')\n",
    "args = parser.parse_args(args=sys.argv[1:])\n",
    "\n",
    "if args.latent_size is not None:\n",
    "    initial_settings['latent_size'] = args.latent_size\n",
    "    \n",
    "print(\"Current latent size:\", initial_settings['latent_size'])"
   ]
  },
  {
   "cell_type": "code",
   "execution_count": 13,
   "id": "709a2816",
   "metadata": {},
   "outputs": [],
   "source": [
    "import yaml"
   ]
  },
  {
   "cell_type": "code",
   "execution_count": 15,
   "id": "746440ef",
   "metadata": {},
   "outputs": [
    {
     "ename": "TypeError",
     "evalue": "load() missing 1 required positional argument: 'Loader'",
     "output_type": "error",
     "traceback": [
      "\u001b[31m---------------------------------------------------------------------------\u001b[39m",
      "\u001b[31mTypeError\u001b[39m                                 Traceback (most recent call last)",
      "\u001b[36mCell\u001b[39m\u001b[36m \u001b[39m\u001b[32mIn[15]\u001b[39m\u001b[32m, line 11\u001b[39m\n\u001b[32m      1\u001b[39m document = \u001b[33m\"\"\"\u001b[39m\n\u001b[32m      2\u001b[39m \u001b[33ma: 1\u001b[39m\n\u001b[32m      3\u001b[39m \u001b[33mb:\u001b[39m\n\u001b[32m   (...)\u001b[39m\u001b[32m      8\u001b[39m \u001b[33m    e: 5\u001b[39m\n\u001b[32m      9\u001b[39m \u001b[33m\"\"\"\u001b[39m\n\u001b[32m---> \u001b[39m\u001b[32m11\u001b[39m \u001b[38;5;28mprint\u001b[39m(yaml.dump(\u001b[43myaml\u001b[49m\u001b[43m.\u001b[49m\u001b[43mload\u001b[49m\u001b[43m(\u001b[49m\u001b[43mdocument\u001b[49m\u001b[43m)\u001b[49m))\n",
      "\u001b[31mTypeError\u001b[39m: load() missing 1 required positional argument: 'Loader'"
     ]
    }
   ],
   "source": [
    "document = \"\"\"\n",
    "a: 1\n",
    "b:\n",
    "    - 2\n",
    "    - 3\n",
    "c:\n",
    "    d: 4\n",
    "    e: 5\n",
    "\"\"\"\n",
    "\n",
    "print(yaml.dump(yaml.load(document)))\n"
   ]
  }
 ],
 "metadata": {
  "kernelspec": {
   "display_name": "SNeMPhyVAE (3.12.3)",
   "language": "python",
   "name": "python3"
  },
  "language_info": {
   "codemirror_mode": {
    "name": "ipython",
    "version": 3
   },
   "file_extension": ".py",
   "mimetype": "text/x-python",
   "name": "python",
   "nbconvert_exporter": "python",
   "pygments_lexer": "ipython3",
   "version": "3.12.3"
  }
 },
 "nbformat": 4,
 "nbformat_minor": 5
}
