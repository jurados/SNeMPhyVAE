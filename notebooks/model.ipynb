{
 "cells": [
  {
   "cell_type": "code",
   "execution_count": 1,
   "metadata": {},
   "outputs": [
    {
     "name": "stderr",
     "output_type": "stream",
     "text": [
      "/home/jurados/.local/lib/python3.10/site-packages/matplotlib/projections/__init__.py:63: UserWarning: Unable to import Axes3D. This may be due to multiple versions of Matplotlib being installed (e.g. as a system package and as a pip package). As a result, the 3D projection is not available.\n",
      "  warnings.warn(\"Unable to import Axes3D. This may be due to multiple versions of \"\n"
     ]
    }
   ],
   "source": [
    "import numpy as np\n",
    "import pandas as pd\n",
    "\n",
    "import matplotlib.pyplot as plt"
   ]
  },
  {
   "cell_type": "code",
   "execution_count": 2,
   "metadata": {},
   "outputs": [
    {
     "data": {
      "text/html": [
       "<div>\n",
       "<style scoped>\n",
       "    .dataframe tbody tr th:only-of-type {\n",
       "        vertical-align: middle;\n",
       "    }\n",
       "\n",
       "    .dataframe tbody tr th {\n",
       "        vertical-align: top;\n",
       "    }\n",
       "\n",
       "    .dataframe thead th {\n",
       "        text-align: right;\n",
       "    }\n",
       "</style>\n",
       "<table border=\"1\" class=\"dataframe\">\n",
       "  <thead>\n",
       "    <tr style=\"text-align: right;\">\n",
       "      <th></th>\n",
       "      <th>lambda</th>\n",
       "      <th>flux</th>\n",
       "    </tr>\n",
       "  </thead>\n",
       "  <tbody>\n",
       "    <tr>\n",
       "      <th>0</th>\n",
       "      <td>3729.1028</td>\n",
       "      <td>1.423337e-14</td>\n",
       "    </tr>\n",
       "    <tr>\n",
       "      <th>1</th>\n",
       "      <td>3731.8540</td>\n",
       "      <td>1.606723e-14</td>\n",
       "    </tr>\n",
       "    <tr>\n",
       "      <th>2</th>\n",
       "      <td>3734.6050</td>\n",
       "      <td>1.655771e-14</td>\n",
       "    </tr>\n",
       "    <tr>\n",
       "      <th>3</th>\n",
       "      <td>3737.3562</td>\n",
       "      <td>1.713993e-14</td>\n",
       "    </tr>\n",
       "    <tr>\n",
       "      <th>4</th>\n",
       "      <td>3740.1072</td>\n",
       "      <td>1.621519e-14</td>\n",
       "    </tr>\n",
       "    <tr>\n",
       "      <th>...</th>\n",
       "      <td>...</td>\n",
       "      <td>...</td>\n",
       "    </tr>\n",
       "    <tr>\n",
       "      <th>1836</th>\n",
       "      <td>8780.0703</td>\n",
       "      <td>5.043718e-15</td>\n",
       "    </tr>\n",
       "    <tr>\n",
       "      <th>1837</th>\n",
       "      <td>8782.8213</td>\n",
       "      <td>5.027238e-15</td>\n",
       "    </tr>\n",
       "    <tr>\n",
       "      <th>1838</th>\n",
       "      <td>8785.5723</td>\n",
       "      <td>4.995180e-15</td>\n",
       "    </tr>\n",
       "    <tr>\n",
       "      <th>1839</th>\n",
       "      <td>8788.3232</td>\n",
       "      <td>4.978201e-15</td>\n",
       "    </tr>\n",
       "    <tr>\n",
       "      <th>1840</th>\n",
       "      <td>8791.0742</td>\n",
       "      <td>4.979860e-15</td>\n",
       "    </tr>\n",
       "  </tbody>\n",
       "</table>\n",
       "<p>1841 rows × 2 columns</p>\n",
       "</div>"
      ],
      "text/plain": [
       "         lambda          flux\n",
       "0     3729.1028  1.423337e-14\n",
       "1     3731.8540  1.606723e-14\n",
       "2     3734.6050  1.655771e-14\n",
       "3     3737.3562  1.713993e-14\n",
       "4     3740.1072  1.621519e-14\n",
       "...         ...           ...\n",
       "1836  8780.0703  5.043718e-15\n",
       "1837  8782.8213  5.027238e-15\n",
       "1838  8785.5723  4.995180e-15\n",
       "1839  8788.3232  4.978201e-15\n",
       "1840  8791.0742  4.979860e-15\n",
       "\n",
       "[1841 rows x 2 columns]"
      ]
     },
     "execution_count": 2,
     "metadata": {},
     "output_type": "execute_result"
    }
   ],
   "source": [
    "spectra = pd.read_csv(\"/home/jurados/Desktop/2017eaw_spectra.txt\",header=None,delim_whitespace=True)\n",
    "spectra.columns = ['lambda','flux']\n",
    "spectra"
   ]
  },
  {
   "cell_type": "code",
   "execution_count": 3,
   "metadata": {},
   "outputs": [],
   "source": [
    "spectra['flux'] = (spectra['flux']- spectra['flux'].min())/(spectra['flux'].max()-spectra['flux'].min())"
   ]
  },
  {
   "cell_type": "code",
   "execution_count": 4,
   "metadata": {},
   "outputs": [
    {
     "data": {
      "text/plain": [
       "(-0.01, 1.01)"
      ]
     },
     "execution_count": 4,
     "metadata": {},
     "output_type": "execute_result"
    },
    {
     "data": {
      "image/png": "[encoded data removed]",
      "text/plain": [
       "<Figure size 640x480 with 1 Axes>"
      ]
     },
     "metadata": {},
     "output_type": "display_data"
    }
   ],
   "source": [
    "spectra.plot(x='lambda',y='flux',color='black',legend=False)\n",
    "plt.tick_params(axis='both',which='both',direction='in')\n",
    "plt.xlabel(r'$\\lambda$ [Angstrom]')\n",
    "plt.ylabel(r'Flux (f$_{\\lambda}$)')\n",
    "plt.minorticks_on()\n",
    "plt.ylim(-0.01,1.01)"
   ]
  },
  {
   "cell_type": "code",
   "execution_count": 5,
   "metadata": {},
   "outputs": [
    {
     "data": {
      "text/html": [
       "<div>\n",
       "<style scoped>\n",
       "    .dataframe tbody tr th:only-of-type {\n",
       "        vertical-align: middle;\n",
       "    }\n",
       "\n",
       "    .dataframe tbody tr th {\n",
       "        vertical-align: top;\n",
       "    }\n",
       "\n",
       "    .dataframe thead th {\n",
       "        text-align: right;\n",
       "    }\n",
       "</style>\n",
       "<table border=\"1\" class=\"dataframe\">\n",
       "  <thead>\n",
       "    <tr style=\"text-align: right;\">\n",
       "      <th></th>\n",
       "      <th>time</th>\n",
       "      <th>energy</th>\n",
       "      <th>vel_pho</th>\n",
       "    </tr>\n",
       "  </thead>\n",
       "  <tbody>\n",
       "    <tr>\n",
       "      <th>0</th>\n",
       "      <td>0.000000</td>\n",
       "      <td>35.334047</td>\n",
       "      <td>-7.419808e-08</td>\n",
       "    </tr>\n",
       "    <tr>\n",
       "      <th>1</th>\n",
       "      <td>0.003000</td>\n",
       "      <td>35.367935</td>\n",
       "      <td>1.268337e+01</td>\n",
       "    </tr>\n",
       "    <tr>\n",
       "      <th>2</th>\n",
       "      <td>0.006000</td>\n",
       "      <td>35.392437</td>\n",
       "      <td>3.919696e+01</td>\n",
       "    </tr>\n",
       "    <tr>\n",
       "      <th>3</th>\n",
       "      <td>0.009000</td>\n",
       "      <td>35.411380</td>\n",
       "      <td>7.735713e+01</td>\n",
       "    </tr>\n",
       "    <tr>\n",
       "      <th>4</th>\n",
       "      <td>0.012000</td>\n",
       "      <td>35.426770</td>\n",
       "      <td>1.256216e+02</td>\n",
       "    </tr>\n",
       "    <tr>\n",
       "      <th>...</th>\n",
       "      <td>...</td>\n",
       "      <td>...</td>\n",
       "      <td>...</td>\n",
       "    </tr>\n",
       "    <tr>\n",
       "      <th>3753</th>\n",
       "      <td>346.009054</td>\n",
       "      <td>39.870146</td>\n",
       "      <td>1.156949e+08</td>\n",
       "    </tr>\n",
       "    <tr>\n",
       "      <th>3754</th>\n",
       "      <td>346.809054</td>\n",
       "      <td>39.866260</td>\n",
       "      <td>1.156949e+08</td>\n",
       "    </tr>\n",
       "    <tr>\n",
       "      <th>3755</th>\n",
       "      <td>347.609054</td>\n",
       "      <td>39.862367</td>\n",
       "      <td>1.156949e+08</td>\n",
       "    </tr>\n",
       "    <tr>\n",
       "      <th>3756</th>\n",
       "      <td>348.409054</td>\n",
       "      <td>39.858485</td>\n",
       "      <td>1.156949e+08</td>\n",
       "    </tr>\n",
       "    <tr>\n",
       "      <th>3757</th>\n",
       "      <td>349.209054</td>\n",
       "      <td>39.854607</td>\n",
       "      <td>1.156949e+08</td>\n",
       "    </tr>\n",
       "  </tbody>\n",
       "</table>\n",
       "<p>3758 rows × 3 columns</p>\n",
       "</div>"
      ],
      "text/plain": [
       "            time     energy       vel_pho\n",
       "0       0.000000  35.334047 -7.419808e-08\n",
       "1       0.003000  35.367935  1.268337e+01\n",
       "2       0.006000  35.392437  3.919696e+01\n",
       "3       0.009000  35.411380  7.735713e+01\n",
       "4       0.012000  35.426770  1.256216e+02\n",
       "...          ...        ...           ...\n",
       "3753  346.009054  39.870146  1.156949e+08\n",
       "3754  346.809054  39.866260  1.156949e+08\n",
       "3755  347.609054  39.862367  1.156949e+08\n",
       "3756  348.409054  39.858485  1.156949e+08\n",
       "3757  349.209054  39.854607  1.156949e+08\n",
       "\n",
       "[3758 rows x 3 columns]"
      ]
     },
     "execution_count": 5,
     "metadata": {},
     "output_type": "execute_result"
    }
   ],
   "source": [
    "vel_pho = pd.read_csv(\"/home/jurados/Desktop/vel_pho.sal\",header=None,delim_whitespace=True)\n",
    "vel_pho.columns  = ['time','energy','vel_pho']\n",
    "vel_pho"
   ]
  },
  {
   "cell_type": "code",
   "execution_count": 17,
   "metadata": {},
   "outputs": [
    {
     "data": {
      "image/png": "[encoded data removed]",
      "text/plain": [
       "<Figure size 640x480 with 1 Axes>"
      ]
     },
     "metadata": {},
     "output_type": "display_data"
    }
   ],
   "source": [
    "time = vel_pho['time'][::10]\n",
    "vel = vel_pho['vel_pho'][::10]\n",
    "\n",
    "#vel_pho.plot(x='time',y='vel_pho',color='black',legend=False)\n",
    "plt.scatter(time,vel,s=12,color='black')\n",
    "plt.tick_params(axis='both',which='both',direction='in')\n",
    "plt.xlabel(r'Time [days]')\n",
    "plt.ylabel(r'Photospheric Velocity [km/s]')\n",
    "plt.minorticks_on()\n",
    "#plt.ylim(-0.01,1.01)"
   ]
  },
  {
   "cell_type": "markdown",
   "metadata": {},
   "source": []
  }
 ],
 "metadata": {
  "kernelspec": {
   "display_name": "Python 3",
   "language": "python",
   "name": "python3"
  },
  "language_info": {
   "codemirror_mode": {
    "name": "ipython",
    "version": 3
   },
   "file_extension": ".py",
   "mimetype": "text/x-python",
   "name": "python",
   "nbconvert_exporter": "python",
   "pygments_lexer": "ipython3",
   "version": "3.10.12"
  }
 },
 "nbformat": 4,
 "nbformat_minor": 2
}
